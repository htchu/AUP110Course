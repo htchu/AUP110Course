{
  "nbformat": 4,
  "nbformat_minor": 0,
  "metadata": {
    "colab": {
      "name": "AUP110_M1Problems(32).ipynb",
      "provenance": [],
      "collapsed_sections": [],
      "toc_visible": true
    },
    "kernelspec": {
      "name": "python3",
      "display_name": "Python 3"
    },
    "language_info": {
      "name": "python"
    }
  },
  "cells": [
    {
      "cell_type": "markdown",
      "metadata": {
        "id": "9BqahVUKa41l"
      },
      "source": [
        "# AU Fundamentals of Python Programming-110-M1題庫(32)"
      ]
    },
    {
      "cell_type": "markdown",
      "metadata": {
        "id": "sHz28TyhbKFD"
      },
      "source": [
        "## M1 Problems:Q01-Q05"
      ]
    },
    {
      "cell_type": "markdown",
      "metadata": {
        "id": "-fcHJRbWmL5B"
      },
      "source": [
        "### M1-Q01 單位換算：英哩轉公里\n",
        "(時間限制：2秒)\n",
        "\n",
        "問題描述：\n",
        "試撰寫一程式，可由鍵盤輸入英哩(float)，程式的輸出為公里(float)，其轉換公式如下： 1 英哩 = 1.6 公里\n",
        "\n",
        "輸入說明：\n",
        "輸入欲轉換之英哩數(float)。\n",
        "\n",
        "輸出說明：\n",
        "輸出公里(float)，取到小數點以下第二位，最後必須有換行字元。\n",
        "\n",
        "範例：\n",
        "\n",
        "| Sample Input:   |      Sample Output:      |\n",
        "|:----------------|:-------------------------|\n",
        "|90.8|145.28⏎ |\n",
        "|95.4|152.64⏎ |\n"
      ]
    },
    {
      "cell_type": "markdown",
      "metadata": {
        "id": "9lu6JEEUGV9D"
      },
      "source": [
        "<font size=\"10\">&#x0210B;</font>int(祕技):\n",
        "\n",
        "__Input:__ 使用float()函數將輸入的字串轉換成float變數\n",
        "\n",
        "__Process:__ 簡單的乘法計算\n",
        "\n",
        "__Output:__ 取到小數點以下第二位的格式是.2f"
      ]
    },
    {
      "cell_type": "code",
      "metadata": {
        "id": "JsU6ABHQmuEx"
      },
      "source": [
        "#程式由此開始寫\n"
      ],
      "execution_count": null,
      "outputs": []
    },
    {
      "cell_type": "markdown",
      "metadata": {
        "id": "-rwzf76umuvd"
      },
      "source": [
        "### M1-Q02 攝氏轉華氏溫度 \n",
        "(時間限制：2 秒)\n",
        "問題描述：\n",
        "讓使用者輸入一攝氏溫度，輸出相對應的華氏溫度。\n",
        "F=C×9/5+32\n",
        "\n",
        "輸入說明： \n",
        "輸入一攝氏溫度(float)。\n",
        "\n",
        "輸出說明： \n",
        "輸出相對應的華氏溫度(float)，計算到小數第2位四捨五入，最後必須有換行字元。\n",
        "\n",
        "範例：\n",
        "\n",
        "| Sample Input:   |      Sample Output:      |\n",
        "|:----------------|:-------------------------|\n",
        "|30.8|87.44⏎ |\n",
        "|16.9|62.42⏎ |\n"
      ]
    },
    {
      "cell_type": "markdown",
      "metadata": {
        "id": "Z4fFz58YGcSt"
      },
      "source": [
        "<font size=\"10\">&#x0210B;</font>int(祕技):\n",
        "\n",
        "__Input:__ 使用float()函數將輸入的字串轉換成float變數\n",
        "\n",
        "__Process:__ 簡單的加減乘除法計算\n",
        "\n",
        "__Output:__ 取到小數點以下第二位的格式是.2f"
      ]
    },
    {
      "cell_type": "code",
      "metadata": {
        "id": "TZkvGGb1p9pp"
      },
      "source": [
        "#程式由此開始寫\n"
      ],
      "execution_count": null,
      "outputs": []
    },
    {
      "cell_type": "markdown",
      "metadata": {
        "id": "3S8g4eTxm03K"
      },
      "source": [
        "### M1-Q03 合、差及乘積\n",
        "(時間限制：2 秒)\n",
        "問題描述：\n",
        "輸入兩個整數，計算其合、差及乘積。\n",
        "\n",
        "輸入說明：\n",
        "輸入兩個整數(int)。\n",
        "\n",
        "輸出說明：\n",
        "輸出兩個整數的合(int)、差(int)及乘積(int)，最後必須有換行字元。\n",
        "\n",
        "範例：\n",
        "\n",
        "| Sample Input:   |      Sample Output:      |\n",
        "|:----------------|:-------------------------|\n",
        "|8   |17 |\n",
        "|9   |-1 |\n",
        "||72⏎ |\n",
        "\n"
      ]
    },
    {
      "cell_type": "markdown",
      "metadata": {
        "id": "YKUwVSMqGd5H"
      },
      "source": [
        "<font size=\"10\">&#x0210B;</font>int(祕技):\n",
        "\n",
        "__Input:__ 使用int()函數將輸入的字串轉換成整數變數\n",
        "\n",
        "__Process:__ 簡單的加減乘除法計算\n",
        "\n",
        "__Output:__ 套用f-string"
      ]
    },
    {
      "cell_type": "code",
      "metadata": {
        "id": "nL-FXDYHGez6"
      },
      "source": [
        "#程式由此開始寫\n"
      ],
      "execution_count": null,
      "outputs": []
    },
    {
      "cell_type": "markdown",
      "metadata": {
        "id": "igQw_i65m48N"
      },
      "source": [
        "### M1-Q04 總分及平均成績 \n",
        "(時間限制：2 秒)\n",
        "問題描述： \n",
        "輸入國文、英文和數學成績，計算其總分數及平均成績。\n",
        "\n",
        "輸入說明： \n",
        "輸入國文(int)、英文(int)和數學(int)成績。\n",
        "\n",
        "輸出說明：\n",
        "輸出總分數及四捨五入後的平均成績(int)，最後必須有換行字元。\n",
        "\n",
        "範例：\n",
        "\n",
        "| Sample Input:   |      Sample Output:      |\n",
        "|:----------------|:-------------------------|\n",
        "|80| 210|\n",
        "|70|70⏎ |\n",
        "|60||"
      ]
    },
    {
      "cell_type": "markdown",
      "metadata": {
        "id": "GO6r2MpmGiFd"
      },
      "source": [
        "<font size=\"10\">&#x0210B;</font>int(祕技):\n",
        "\n",
        "__Input:__ 使用int()函數將輸入的字串轉換成整數變數\n",
        "\n",
        "__Process:__ 簡單的加法和整數除法計算\n",
        "\n",
        "__Output:__ 套用f-string"
      ]
    },
    {
      "cell_type": "code",
      "metadata": {
        "id": "zOSd84VIm8wr"
      },
      "source": [
        "#程式由此開始寫\n"
      ],
      "execution_count": null,
      "outputs": []
    },
    {
      "cell_type": "markdown",
      "metadata": {
        "id": "F5VMDhGWm9JJ"
      },
      "source": [
        "### M1-Q05 單位換算：身高及體重 \n",
        "(時間限制：2 秒)\n",
        "\n",
        "問題描述： \n",
        "寫一程式，讓使用者輸入身高(cm)及體重(kg)，作單位換算輸出身高(英吋)及體重(磅)。(1 磅=0.454 公斤，1 吋=2.54 公分)\n",
        "\n",
        "輸入說明： \n",
        "分別輸入身高(cm)(int)及體重(kg)(int)。\n",
        "\n",
        "輸出說明： \n",
        "作單位換算輸出身高(英吋)(float)及體重(磅)(float)，最後必須有換行字元。\n",
        "\n",
        "範例：\n",
        "\n",
        "| Sample Input:   |      Sample Output:      |\n",
        "|:----------------|:-------------------------|\n",
        "|180   85| 70.86614173228347|\n",
        "||187.22466960352423⏎ |"
      ]
    },
    {
      "cell_type": "markdown",
      "metadata": {
        "id": "A5Mb9IpJGjUB"
      },
      "source": [
        "<font size=\"10\">&#x0210B;</font>int(祕技):\n",
        "\n",
        "__Input:__ 使用split()函數將輸入的字串切成二個變數 paras[0], paras[1]\n",
        "\n",
        "__Process:__ 簡單的除法計算\n",
        "\n",
        "__Output:__ 套用f-string"
      ]
    },
    {
      "cell_type": "code",
      "metadata": {
        "id": "O0qPFGRbnG3v"
      },
      "source": [
        "#程式由此開始寫\n"
      ],
      "execution_count": null,
      "outputs": []
    },
    {
      "cell_type": "markdown",
      "metadata": {
        "id": "GgaP4OVtbQ0p"
      },
      "source": [
        "## M1 Problems:Q06-Q10"
      ]
    },
    {
      "cell_type": "markdown",
      "metadata": {
        "id": "OyUBbNbAnLeX"
      },
      "source": [
        "### M1-Q06 字串切割 \n",
        "(時間限制：2 秒)\n",
        "問題描述： \n",
        "寫一個程式讓使用者輸入一段文字及一個切割用符號，程式會依指定的符號切割成數字子字串。\n",
        "\n",
        "輸入說明： \n",
        "分別輸入文字串(String)及切割符號(char)。\n",
        "\n",
        "輸出說明： \n",
        "透過切割符號切割後每一個字串一列顯示，最後必須有換行字元。\n",
        "\n",
        "範例：\n",
        "\n",
        "| Sample Input:   |      Sample Output:      |\n",
        "|:----------------|:-------------------------|\n",
        "|asia,japan,taiwan,taipei   ,|asia |\n",
        "|   |japan|\n",
        "|   |taiwan|\n",
        "||taipei⏎ |\n",
        "|Jack#David&John#Kevin   #|Jack |\n",
        "|   |David|\n",
        "|   |John |\n",
        "||Kevin⏎ |"
      ]
    },
    {
      "cell_type": "markdown",
      "metadata": {
        "id": "OP16clX8Gkm8"
      },
      "source": [
        "<font size=\"10\">&#x0210B;</font>int(祕技):\n",
        "\n",
        "__Input:__ 使用split()函數將輸入的字串切成二個變數 ss, sy，再用split()函數將ss字串切割成一個list\n",
        "\n",
        "__Process:__ 對list的元素進行簡單的for迴圈\n",
        "\n",
        "__Output:__ 套用f-string"
      ]
    },
    {
      "cell_type": "code",
      "metadata": {
        "id": "brtV0oetnOjr"
      },
      "source": [
        "#程式由此開始寫\n"
      ],
      "execution_count": null,
      "outputs": []
    },
    {
      "cell_type": "markdown",
      "metadata": {
        "id": "h8dHouRunOrv"
      },
      "source": [
        "### M1-Q07 全部變小寫 \n",
        "(時間限制：2秒)\n",
        "\n",
        "問題描述：\n",
        "寫一個程式讓使用者輸入一段文字(String)，程式會把文字串所有的字母不管大小寫全部變成小寫字母顯示(String)。 \n",
        "\n",
        "輸入說明： \n",
        "分別輸入文字串(String)。\n",
        "\n",
        "輸出說明： \n",
        "字串裡的每一個字母都變成小寫後顯示(String)，最後必須有換行字元。\n",
        "\n",
        "範例：\n",
        "Sample Input:\tSample Output:\n",
        "Taiwan and U.S.A.\ttaiwan and u.s.a.⏎\n",
        "Python is a good Programming Language.\tpython is a good programming language.\n",
        "\n",
        "| Sample Input:   |      Sample Output:      |\n",
        "|:----------------|:-------------------------|\n",
        "|Taiwan and U.S.A.| taiwan and u.s.a.⏎|\n",
        "|Python is a good Programming Language.|python is a good programming language.⏎ |\n"
      ]
    },
    {
      "cell_type": "markdown",
      "metadata": {
        "id": "qPMQmArLGlrD"
      },
      "source": [
        "<font size=\"10\">&#x0210B;</font>int(祕技):\n",
        "\n",
        "__Input:__  輸入一個字串\n",
        "\n",
        "__Process:__ 使用lower()函數\n",
        "\n",
        "__Output:__ 輸出一個字串"
      ]
    },
    {
      "cell_type": "code",
      "metadata": {
        "id": "G7FqVDUbndfh"
      },
      "source": [
        "#程式由此開始寫\n"
      ],
      "execution_count": null,
      "outputs": []
    },
    {
      "cell_type": "markdown",
      "metadata": {
        "id": "Y5VVACaMndpY"
      },
      "source": [
        "### M1-Q08 單位換算：公升轉加侖 \n",
        "(時間限制：2秒)\n",
        "\n",
        "問題描述：\n",
        "大明幫媽媽到油漆行買油漆，結果店員問他要幾「美加侖」的，大明不知道該怎麼回答，心裡想媽媽只有說大約要2公升的漆。請寫一程式可以將公升換算成美加侖。 依度量衡標準 1公升 = 0.26418 美加侖\n",
        "\n",
        "輸入說明： \n",
        "輸入欲轉換之公升數(float)。\n",
        "\n",
        "輸出說明： \n",
        "輸出加侖(float)，四捨五入取到小數點以下第一位，最後必須有換行字元。\n",
        "\n",
        "範例：\n",
        "\n",
        "| Sample Input:   |      Sample Output:      |\n",
        "|:----------------|:-------------------------|\n",
        "|10|2.6⏎ |\n",
        "|18|4.7⏎ |"
      ]
    },
    {
      "cell_type": "markdown",
      "metadata": {
        "id": "bw0Vu7j9GnK8"
      },
      "source": [
        "<font size=\"10\">&#x0210B;</font>int(祕技):\n",
        "\n",
        "__Input:__ 使用float()函數將輸入的字串轉換成float變數\n",
        "\n",
        "__Process:__ 簡單的加減乘除法計算\n",
        "\n",
        "__Output:__ 取到小數點以下第1位的格式是.1f"
      ]
    },
    {
      "cell_type": "code",
      "metadata": {
        "id": "9JseLfBVnhha"
      },
      "source": [
        "#程式由此開始寫\n"
      ],
      "execution_count": null,
      "outputs": []
    },
    {
      "cell_type": "markdown",
      "metadata": {
        "id": "S84rDWiHnhpl"
      },
      "source": [
        "### M1-Q09 單位換算：稱斤論兩 \n",
        "(時間限制：2秒)\n",
        "問題描述：\n",
        "阿美回到鄉下的阿嬤家，阿嬤很高興要做好料給孫女吃，不過家裡沒有食材，阿嬤請阿美去巷子口的「完美生鮮超市」買1斤半豬絞肉回來。阿美到了生鮮超市，傻眼，都是標幾公克，哪有人在寫斤的啦。請寫一個程式可以計算公克換成台斤的轉換。依度量衡標準 600公克= 1 台斤\n",
        "\n",
        "輸入說明： \n",
        "輸入欲轉換之公克數(float)。\n",
        "\n",
        "輸出說明：\n",
        "輸出台斤(float)，取到小數點以下第一位，最後必須有換行字元。\n",
        "\n",
        "範例：\n",
        "\n",
        "| Sample Input:   |      Sample Output:      |\n",
        "|:----------------|:-------------------------|\n",
        "|300|0.5⏎ |\n",
        "|650|1.1⏎ |"
      ]
    },
    {
      "cell_type": "markdown",
      "metadata": {
        "id": "UzY15_dDGoom"
      },
      "source": [
        "<font size=\"10\">&#x0210B;</font>int(祕技):\n",
        "\n",
        "__Input:__ 使用float()函數將輸入的字串轉換成float變數\n",
        "\n",
        "__Process:__ 簡單的加減乘除法計算\n",
        "\n",
        "__Output:__ 取到小數點以下第1位的格式是.1f"
      ]
    },
    {
      "cell_type": "code",
      "metadata": {
        "id": "hmazb_-yGpGX"
      },
      "source": [
        "#程式由此開始寫\n"
      ],
      "execution_count": null,
      "outputs": []
    },
    {
      "cell_type": "markdown",
      "metadata": {
        "id": "knpzI69InlFN"
      },
      "source": [
        "### M1-Q10 字串字元置換 \n",
        "(時間限制：2秒)\n",
        "問題描述：\n",
        "阿坤最討論長官老是要他改文件，因為阿坤的長官打字不太行，經常注音不選字所以錯別字特別多。請寫一個程式幫阿坤將字串中同樣的字以另外一個字替換掉。\n",
        "\n",
        "輸入說明： \n",
        "輸入一個字串(String)與 2 個字元(char)。\n",
        "\n",
        "輸出說明： \n",
        "輸出被替換後的字串(String)，最後必須有換行字元。\n",
        "\n",
        "範例：\n",
        "\t\n",
        "| Sample Input:   |      Sample Output:      |\n",
        "|:----------------|:-------------------------|\n",
        "|asia csie taiwan| as1a cs1e ta1wan⏎|\n",
        "|i   | |\n",
        "|1||"
      ]
    },
    {
      "cell_type": "markdown",
      "metadata": {
        "id": "7R3PbVrdGqpM"
      },
      "source": [
        "<font size=\"10\">&#x0210B;</font>int(祕技):\n",
        "\n",
        "__Input:__ 輸入三個字串變數\n",
        "\n",
        "__Process:__ replace()函數\n",
        "\n",
        "__Output:__ 套用f-string"
      ]
    },
    {
      "cell_type": "code",
      "metadata": {
        "id": "LiOIyxronlQS"
      },
      "source": [
        "#程式由此開始寫\n",
        "\n"
      ],
      "execution_count": null,
      "outputs": []
    },
    {
      "cell_type": "markdown",
      "metadata": {
        "id": "MHrSNayObMZg"
      },
      "source": [
        "## M1 Problems:Q11-Q15"
      ]
    },
    {
      "cell_type": "markdown",
      "metadata": {
        "id": "0OTdgcvPnpS_"
      },
      "source": [
        "### M1-Q11 數字加密 \n",
        "(時間限制：2秒)\n",
        "\n",
        "問題描述：\n",
        " 讀取一四位數，並且依下列方式進行加密\n",
        "1.        以該位數加7後，除以 10 取餘數取代該位數\n",
        "2.        將第一個位數的數字與第三個位數的數字對調\n",
        "3.        將第二個位數的數字與第四個位數的數字對調\n",
        "\n",
        "輸入說明： \n",
        "輸入一個四位數的字串(String)。\n",
        "\n",
        "輸出說明： \n",
        "輸出加密後的數字串(String)，最後必須有換行字元。\n",
        "\n",
        "範例：\n",
        "\n",
        "| Sample Input:   |      Sample Output:      |\n",
        "|:----------------|:-------------------------|\n",
        "|1234|0189⏎ |\n",
        "|4567|3412⏎ |\n",
        "|7891|6845⏎ |"
      ]
    },
    {
      "cell_type": "markdown",
      "metadata": {
        "id": "-10Y0khn5beN"
      },
      "source": [
        "<font size=\"10\">&#x0210B;</font>int(祕技):\n",
        "\n",
        "__Input:__ 使用int()函數將輸入的字串轉換成整數變數\n",
        "\n",
        "__Process:__ 計算每一位的數字，再重新組成四位數\n",
        "\n",
        "__Output:__ 套用f-string"
      ]
    },
    {
      "cell_type": "code",
      "metadata": {
        "id": "gqNm5MpQnz5a"
      },
      "source": [
        "#程式由此開始寫\n"
      ],
      "execution_count": null,
      "outputs": []
    },
    {
      "cell_type": "markdown",
      "metadata": {
        "id": "5DaiZx_On0Dn"
      },
      "source": [
        "### M1-Q12 計算總和、乘積、差、商和餘數 \n",
        "(時間限制：2秒)\n",
        "\n",
        "問題描述： \n",
        "撰寫一個程式，要求使用者輸入兩個數字，再從使用者取得這兩個數字，然後印出這兩個數字的總和、乘積、差、商、和餘數。\n",
        "\n",
        "輸入說明： \n",
        "依序輸入兩個整數(int)，整數範圍不超過 1000 。\n",
        "\n",
        "輸出說明： \n",
        "輸出總和(int)、乘積(int)、差(int)、商(int)和餘數(int)(注意格式)，最後必須有換行字元。\n",
        "\n",
        "範例：\n",
        "\n",
        "| Sample Input:   |      Sample Output:      |\n",
        "|:----------------|:-------------------------|\n",
        "|7  |7+3=10 |\n",
        "|3 |7*3=21  |\n",
        "| |7-3=4  |\n",
        "| |7/3=2…1⏎  |"
      ]
    },
    {
      "cell_type": "markdown",
      "metadata": {
        "id": "wFPOypRF5cdJ"
      },
      "source": [
        "<font size=\"10\">&#x0210B;</font>int(祕技):\n",
        "\n",
        "__Input:__ 使用int()函數將輸入的字串轉換成整數變數\n",
        "\n",
        "__Process:__ 簡單的加減乘除法計算\n",
        "\n",
        "__Output:__ 套用f-string"
      ]
    },
    {
      "cell_type": "code",
      "metadata": {
        "id": "b1fqjkjLn4xy"
      },
      "source": [
        "#程式由此開始寫\n"
      ],
      "execution_count": null,
      "outputs": []
    },
    {
      "cell_type": "markdown",
      "metadata": {
        "id": "pDqDBFKun46_"
      },
      "source": [
        "### M1-Q13 取得字元ASCII碼 \n",
        "(時間限制：2秒)\n",
        "\n",
        "問題描述：\n",
        "請寫一個程式讓使用者輸入一個英文字母、標點符號或數字字符，程式回傳取得該字元的ASII值。\n",
        "\n",
        "輸入說明： \n",
        "輸入一個字元 ch (char)。\n",
        "\n",
        "輸出說明： \n",
        "輸出該字元對應的 ASCII 值 (int)，最後必須有換行字元。\n",
        "\n",
        "範例：\n",
        "\n",
        "| Sample Input:   |      Sample Output:      |\n",
        "|:----------------|:-------------------------|\n",
        "|a|97⏎|\n",
        "|X|88⏎|"
      ]
    },
    {
      "cell_type": "markdown",
      "metadata": {
        "id": "WurSn6dATh1K"
      },
      "source": [
        "<font size=\"10\">&#x0210B;</font>int(祕技):\n",
        "\n",
        "__Input:__ 輸入一個字串變數\n",
        "\n",
        "__Process:__ ord()函數\n",
        "\n",
        "__Output:__ 套用f-string"
      ]
    },
    {
      "cell_type": "code",
      "metadata": {
        "id": "68SEQE1Wn8RN"
      },
      "source": [
        "#程式由此開始寫\n"
      ],
      "execution_count": null,
      "outputs": []
    },
    {
      "cell_type": "markdown",
      "metadata": {
        "id": "yWgtOkCin8Yi"
      },
      "source": [
        "### M1-Q14 取得中文字元萬國碼(Unicode) \n",
        "(時間限制：2秒)\n",
        "\n",
        "問題描述：\n",
        "請寫一個程式讓使用者輸入一個中文字元，程式回傳取得該字元的萬國碼。\n",
        "\n",
        "輸入說明： \n",
        "輸入一個中文字元 ch (char)。\n",
        "\n",
        "輸出說明： \n",
        "輸出該字元對應的「萬國碼」(Unicode)值 (int)，最後必須有換行字元。\n",
        "\n",
        "範例：\n",
        "\n",
        "| Sample Input:   |      Sample Output:      |\n",
        "|:----------------|:-------------------------|\n",
        "|亞|4e9e⏎|\n",
        "|資|8cc7⏎|"
      ]
    },
    {
      "cell_type": "markdown",
      "metadata": {
        "id": "79OGpXHW5d8y"
      },
      "source": [
        "<font size=\"10\">&#x0210B;</font>int(祕技):\n",
        "\n",
        "__Input:__ 輸入一個字串變數\n",
        "\n",
        "__Process:__ ord()函數\n",
        "\n",
        "__Output:__ 套用f-string, 輸出16進位數"
      ]
    },
    {
      "cell_type": "code",
      "metadata": {
        "id": "hHnozhaZPv4C"
      },
      "source": [
        "#程式由此開始寫\n"
      ],
      "execution_count": null,
      "outputs": []
    },
    {
      "cell_type": "markdown",
      "metadata": {
        "id": "HeSP2TkFoBON"
      },
      "source": [
        "### M1-Q15 取得16進制萬國碼(Unicode)對應中文字 \n",
        "(時間限制：2秒)\n",
        "\n",
        "問題描述：\n",
        "請寫一個程式讓使用者輸入16進制萬國碼，程式回傳該萬國碼的中文字元。\n",
        "\n",
        "輸入說明： \n",
        "輸入一個16進制整數 (int)。\n",
        "\n",
        "輸出說明： \n",
        "輸出對應的「萬國碼」(Unicode)值的字元 (char)，最後必須有換行字元。\n",
        "\n",
        "範例：\n",
        "\t\n",
        "| Sample Input:   |      Sample Output:      |\n",
        "|:----------------|:-------------------------|\n",
        "|8cc7|資⏎ |\n",
        "|48e9|䣩⏎ |"
      ]
    },
    {
      "cell_type": "markdown",
      "metadata": {
        "id": "NlQ3JfgFVImX"
      },
      "source": [
        "<font size=\"10\">&#x0210B;</font>int(祕技):\n",
        "\n",
        "__Input:__ 輸入一個字串變數\n",
        "\n",
        "__Process:__ chr()函數，16進制參數\n",
        "\n",
        "__Output:__ math.pi"
      ]
    },
    {
      "cell_type": "code",
      "metadata": {
        "id": "LVeKG0XWVI76"
      },
      "source": [
        "#程式由此開始寫\n"
      ],
      "execution_count": null,
      "outputs": []
    },
    {
      "cell_type": "markdown",
      "metadata": {
        "id": "x9tjU8G5bTQq"
      },
      "source": [
        "## M1 Problems:Q16-Q20"
      ]
    },
    {
      "cell_type": "markdown",
      "metadata": {
        "id": "W1fnMCwwoIdG"
      },
      "source": [
        "### M1-Q16 圓柱體積計算\n",
        " (時間限制：2秒)\n",
        "\n",
        "問題描述：\n",
        "請寫一個程式讓使用者輸入圓的半徑(float)與高(float)，程式輸出該圓的體積 (float)。 $π×r^2×h$\n",
        "\n",
        "輸入說明： \n",
        "輸入半徑(float)與高度 (float)。\n",
        "\n",
        "輸出說明： \n",
        "輸出該圓的體積(float)，最後必須有換行字元。\n",
        "\n",
        "範例：\n",
        "\t\n",
        "| Sample Input:   |      Sample Output:      |\n",
        "|:----------------|:-------------------------|\n",
        "|18.9  12|13466.49974146572⏎ |\n",
        "|3.2 12|386.0389052731138⏎ |\n"
      ]
    },
    {
      "cell_type": "markdown",
      "metadata": {
        "id": "HazWTemw5fuf"
      },
      "source": [
        "<font size=\"10\">&#x0210B;</font>int(祕技):\n",
        "\n",
        "__Input:__ 使用float()函數將輸入的字串轉換成float變數\n",
        "\n",
        "__Process:__ 簡單的加減乘除法計算和math.pi常數\n",
        "\n",
        "__Output:__ 套用f-string"
      ]
    },
    {
      "cell_type": "code",
      "metadata": {
        "id": "k7gOi_pPoQhP"
      },
      "source": [
        "#程式由此開始寫\n"
      ],
      "execution_count": null,
      "outputs": []
    },
    {
      "cell_type": "markdown",
      "metadata": {
        "id": "2t3a_fSqoQA_"
      },
      "source": [
        "### M1-Q17 成績換算 \n",
        "(時間限制：2秒)\n",
        "\n",
        "問題描述：\n",
        "每學期期末是老師們的頭痛時刻，老師用心授課可是難免遇到同學習成效不佳情況，老師為了不想背著「大刀」名號在系上行走往往會使用調整分數招式。請寫一個程式讓使用者輸入成績 (int)，程式輸出開根號乘上10的新成績 (int)。\n",
        "\n",
        "輸入說明： \n",
        "輸入成績 (int)。\n",
        "\n",
        "輸出說明：\n",
        "輸出新成績(int)，最後必須有換行字元。\n",
        "\n",
        "範例：\n",
        "\n",
        "| Sample Input:   |      Sample Output:      |\n",
        "|:----------------|:-------------------------|\n",
        "|36| 60⏎|\n",
        "|49| 70⏎|"
      ]
    },
    {
      "cell_type": "markdown",
      "metadata": {
        "id": "JR4gU4Ch5gvO"
      },
      "source": [
        "<font size=\"10\">&#x0210B;</font>int(祕技):\n",
        "\n",
        "__Input:__ 使用int()函數將輸入的字串轉換成整數變數\n",
        "\n",
        "__Process:__ 簡單的加減乘除法計算和\n",
        "\n",
        "__Output:__ 套用f-string"
      ]
    },
    {
      "cell_type": "code",
      "metadata": {
        "id": "VLPOvaKNoT5D"
      },
      "source": [
        "#程式由此開始寫\n"
      ],
      "execution_count": null,
      "outputs": []
    },
    {
      "cell_type": "markdown",
      "metadata": {
        "id": "eLEytgbGoUAP"
      },
      "source": [
        "### M1-Q18 區間公式\n",
        "(時間限制：2秒)\n",
        "問題描述： \n",
        "讓使用者輸入 x，並計算 y 值輸出，其公式如下：\n",
        "\n",
        "$y=3×x^2 $若  x <  -1\n",
        "\n",
        "$y=x^3+3×x-3 $ 若    -1 ≤ x ≤ 1\n",
        "\n",
        "$y=2×x +3$ 若  x >  1\n",
        "\n",
        "輸入說明： \n",
        "輸入一個整數 x (int)。\n",
        "\n",
        "輸出說明： \n",
        "依照公式輸出 y 值，最後必須有換行字元。\n",
        "\n",
        "範例：\n",
        "\n",
        "| Sample Input:   |      Sample Output:      |\n",
        "|:----------------|:-------------------------|\n",
        "|-5| 75⏎|"
      ]
    },
    {
      "cell_type": "markdown",
      "metadata": {
        "id": "qfA10qxCe58q"
      },
      "source": [
        "<font size=\"10\">&#x0210B;</font>int(祕技):\n",
        "\n",
        "__Input:__ 使用int()函數將輸入的字串轉換成整數變數\n",
        "\n",
        "__Process:__ 簡單的加減乘除法計算和\n",
        "\n",
        "__Output:__ 套用f-string"
      ]
    },
    {
      "cell_type": "code",
      "metadata": {
        "id": "yB1nC7juoXYn"
      },
      "source": [
        "#程式由此開始寫\n"
      ],
      "execution_count": null,
      "outputs": []
    },
    {
      "cell_type": "markdown",
      "metadata": {
        "id": "QM6JY0ccoXg9"
      },
      "source": [
        "### M1-Q19 標準體重計算 \n",
        "(時間限制：2秒)\n",
        "\n",
        "問題描述：\n",
        "已知男生標準體重＝(身高－80 )×0.7；女生標準體重＝(身高－70) × 0.6；試寫一個程式可以計算男生女生的標準體重\n",
        "\n",
        "輸入說明： \n",
        "輸入兩個數值，依序代表為身高(int)及性別(int)（1代表男性；2代表女性）。\n",
        "\n",
        "輸出說明： \n",
        "輸出標準體重，浮點數(float)取至第一位，最後必須有換行字元。\n",
        "\n",
        "範例：\n",
        "\n",
        "| Sample Input:   |      Sample Output:      |\n",
        "|:----------------|:-------------------------|\n",
        "|172  1|64.4⏎|\n",
        "|165  2|57.0⏎|\n"
      ]
    },
    {
      "cell_type": "markdown",
      "metadata": {
        "id": "pTM__Nqu5i47"
      },
      "source": [
        "<font size=\"10\">&#x0210B;</font>int(祕技):\n",
        "\n",
        "__Input:__ 使用int()函數將輸入的字串轉換成整數變數\n",
        "\n",
        "__Process:__ 簡單的加減乘除法計算和\n",
        "\n",
        "__Output:__ 套用f-string,取到小數點以下第1位的格式是.1f"
      ]
    },
    {
      "cell_type": "code",
      "metadata": {
        "id": "GsBM2GYEoavH"
      },
      "source": [
        "#程式由此開始寫\n"
      ],
      "execution_count": null,
      "outputs": []
    },
    {
      "cell_type": "markdown",
      "metadata": {
        "id": "RLZCfItNoa3c"
      },
      "source": [
        "### M1-Q20 找零錢問題\n",
        "(時間限制：2秒)\n",
        "\n",
        "問題描述： \n",
        "假設銅板有1元、5元、50元共三種，媽媽請小明去菜市場買水果，給了小明 n 元，且媽媽交待，要老闆找小明的零錢的數目要最少，而小明到了水果攤買了 a_1顆蘋果，a_2顆柳丁，及 a_3 顆桃子，1顆蘋果15元，1顆柳丁20元，1顆桃子30元，請問老問需找多少個1元、5元、50元，其銅板數目最少。\n",
        "\n",
        "輸入說明： \n",
        "先輸入媽媽給小明多少錢 n，接著輸入 $a_1, a_2, a_3$， 在此 $n, a_1, a_2, a_3$ 為整數 (int)，且 $a_1×15+a_2×20+a_3×30$ 小於或等於 n 。\n",
        "\n",
        "輸出說明： \n",
        "列出共找小明多少個 1元，5元 及 50元，若帶的錢不夠買水果，則顯示”0”，最後必須有換行字元。\n",
        "\n",
        "範例：\n",
        "\n",
        "\n",
        "| Sample Input:   |      Sample Output:      |\n",
        "|:----------------|:-------------------------|\n",
        "|500  1  2  3|0|\n",
        "||1|\n",
        "||7⏎|"
      ]
    },
    {
      "cell_type": "markdown",
      "metadata": {
        "id": "M6B5AB6o5lAN"
      },
      "source": [
        "<font size=\"10\">&#x0210B;</font>int(祕技):\n",
        "\n",
        "__Input:__ 使用split()切開輸入字串，再用 int()函數將輸入的字串轉換成整數變數\n",
        "\n",
        "__Process:__ 簡單的加減乘除法計算和\n",
        "\n",
        "__Output:__ 套用f-string"
      ]
    },
    {
      "cell_type": "code",
      "metadata": {
        "id": "aCMGzsQVo6Wl"
      },
      "source": [
        "#程式由此開始寫\n"
      ],
      "execution_count": null,
      "outputs": []
    },
    {
      "cell_type": "markdown",
      "metadata": {
        "id": "gsxvPO2gl_ur"
      },
      "source": [
        "## M1 Problems:Q21-Q25"
      ]
    },
    {
      "cell_type": "markdown",
      "metadata": {
        "id": "3lbJkCNvo7Cx"
      },
      "source": [
        "### M1-Q21 判斷座標是否在圓形的範圍內 \n",
        "(時間限制：2秒)\n",
        "\n",
        "問題描述： \n",
        "一圓形直徑為200，且中心座標為(0,0)。請寫一支程式可以輸入點的座標，並判斷該點是否在圓形的範圍內。如果點的位置剛好在邊界的話也算是在圓形範圍內(例：x = 100， y = 0)\n",
        "\n",
        "輸入說明： \n",
        "輸入一整數座標，依序分 x (int)與 y (int)。\n",
        "\n",
        "輸出說明： \n",
        "輸出此座標位置在圓內(inside)或圓外(outside)訊息，最後必須有換行字元。\n",
        "\n",
        "範例：\n",
        "\n",
        "| Sample Input:   |      Sample Output:      |\n",
        "|:----------------|:-------------------------|\n",
        "|50  50|inside⏎ |\n",
        "|50  200|outside⏎ |\n"
      ]
    },
    {
      "cell_type": "markdown",
      "metadata": {
        "id": "toNJyoyJ5l4f"
      },
      "source": [
        "<font size=\"10\">&#x0210B;</font>int(祕技):\n",
        "\n",
        "__Input:__ 使用int()函數將輸入的字串轉換成整數變數\n",
        "\n",
        "__Process:__ 簡單的加減乘除法計算和\n",
        "\n",
        "__Output:__ print()"
      ]
    },
    {
      "cell_type": "code",
      "metadata": {
        "id": "lrU2le4qo92h"
      },
      "source": [
        "#程式由此開始寫\n",
        "\n"
      ],
      "execution_count": null,
      "outputs": []
    },
    {
      "cell_type": "markdown",
      "metadata": {
        "id": "P6LRCYEOo984"
      },
      "source": [
        "### M1-Q22 停車費計算 \n",
        "(時間限制：2秒)\n",
        "\n",
        "問題描述：\n",
        "假設某個停車場的費率是停車2小時以內，每半小時30元，超過2小時，但未滿4小時的部份，每半小時40元，超過4小時以上的部份，每半小時60元，未滿半小時部分不計費。如果您從早10點23分停到午3點20分，請撰寫程式計算共需繳交的停車費。\n",
        "\n",
        "輸入說明： \n",
        "輸入兩組時間時(int)與分(int)，分別為開始與離開時間，24小時制。\n",
        "\n",
        "輸出說明：\n",
        " 輸出停車費(int)，最後必須有換行字元。\n",
        "\n",
        "範例：\n",
        "\n",
        "| Sample Input:   |      Sample Output:      |\n",
        "|:----------------|:-------------------------|\n",
        "|10  23 |340⏎ |\n",
        "|15  20 | |\n",
        "|11  11 |880⏎ |\n",
        "|20  30 | |"
      ]
    },
    {
      "cell_type": "markdown",
      "metadata": {
        "id": "tRButnnC5ni1"
      },
      "source": [
        "<font size=\"10\">&#x0210B;</font>int(祕技):\n",
        "\n",
        "__Input:__ 使用int()函數將輸入的字串轉換成整數變數\n",
        "\n",
        "__Process:__ 簡單的加減乘除法計算和\n",
        "\n",
        "__Output:__ print()"
      ]
    },
    {
      "cell_type": "code",
      "metadata": {
        "id": "35UwZJeepCS7"
      },
      "source": [
        "#程式由此開始寫\n"
      ],
      "execution_count": null,
      "outputs": []
    },
    {
      "cell_type": "markdown",
      "metadata": {
        "id": "unrF_cTNpAtV"
      },
      "source": [
        "### M1-Q23 季節判定 \n",
        "(時間限制：2秒)\n",
        "\n",
        "問題描述：\n",
        "試撰寫一程式，可輸入月份，然後判斷其所屬的季節 3 ~ 5 月為春季，6 ~ 8 月為夏季， 9 ~ 11 月為秋季， 12 ~ 2 月為冬季。\n",
        "\n",
        "輸入說明： \n",
        "輸入月份(int)。\n",
        "\n",
        "輸出說明： \n",
        "輸出該月份的季節(String)，  3 ~ 5 月為春季(Spring)， 6 ~ 8 月為夏季(Summer)， 9 ~ 11 月為秋季(Autumn)，12 ~ 2 月為冬季(Winter)，最後必須有換行字元。\n",
        "\n",
        "範例：\n",
        "\n",
        "| Sample Input:   |      Sample Output:      |\n",
        "|:----------------|:-------------------------|\n",
        "|3|Spring⏎ |\n",
        "|10|Autumn⏎|\n"
      ]
    },
    {
      "cell_type": "markdown",
      "metadata": {
        "id": "8cMaAkhe5opV"
      },
      "source": [
        "<font size=\"10\">&#x0210B;</font>int(祕技):\n",
        "\n",
        "__Input:__ 使用int()函數將輸入的字串轉換成整數變數\n",
        "\n",
        "__Process:__ if判斷式( a< var <b)\n",
        "\n",
        "__Output:__ print()"
      ]
    },
    {
      "cell_type": "code",
      "metadata": {
        "id": "xtZmXQB3pF5n"
      },
      "source": [
        "#程式由此開始寫\n"
      ],
      "execution_count": null,
      "outputs": []
    },
    {
      "cell_type": "markdown",
      "metadata": {
        "id": "-zqwp7C5pGCC"
      },
      "source": [
        "### M1- Q24 星座查詢 \n",
        "(時間限制：2秒)\n",
        "問題描述： \n",
        "請設計程式，根據輸入之及日期，輸出對應之星座。\n",
        "* 1997年 1月 21日 ~ 1997年 2月 18日 水瓶 (Aquarius)\n",
        "* 1997年 2月 19日 ~ 1997年 3月 20日 雙魚 (Pisces)\n",
        "* 1997年 3月 21日 ~ 1997年 4月 20日 牡羊 (Aries)\n",
        "* 1997年 4月 21日 ~ 1997年 5月 21日 金牛 (Taurus)\n",
        "* 1997年 5月 22日 ~ 1997年 6月 21日 雙子 (Gemini)\n",
        "* 1997年 6月 22日 ~ 1997年 7月 22日 巨蟹 (Cancer)\n",
        "* 1997年 7月 23日 ~ 1997年 8月 23日 獅子 (Leo)\n",
        "* 1997年 8月 24日 ~ 1997年 9月 23日 處女 (Virgo)\n",
        "* 1997年 9月 24日 ~ 1997年 10月 23日 天秤 (Libra)\n",
        "* 1997年10月 24日 ~ 1997年 11月 22日 天蠍 (Scorpio)\n",
        "* 1997年11月 23日 ~ 1997年 12月 21日 射手 (Sagittarius)\n",
        "* 1997年12月 22日 ~ 1998年 1月 20日 摩羯 (Capricorn)\n",
        "\n",
        "輸入說明： \n",
        "請輸入月(int)及日期(int)。\n",
        "\n",
        "輸出說明： \n",
        "依照星座標準，將及日期轉成星座(String)輸出，最後必須有換行字元。\n",
        "\n",
        "範例：\n",
        "\n",
        "| Sample Input:   |      Sample Output:      |\n",
        "|:----------------|:-------------------------|\n",
        "|8  20|Leo⏎ |\n",
        "|4  15|Aries⏎ |\n"
      ]
    },
    {
      "cell_type": "markdown",
      "metadata": {
        "id": "WEHml8n55qZb"
      },
      "source": [
        "<font size=\"10\">&#x0210B;</font>int(祕技):\n",
        "\n",
        "__Input:__ 使用int()函數將輸入的字串轉換成整數變數\n",
        "\n",
        "__Process:__ 先判斷月份，再看是前一半還是後一半\n",
        "\n",
        "__Output:__ print()"
      ]
    },
    {
      "cell_type": "code",
      "metadata": {
        "id": "2ppPyUnupKML"
      },
      "source": [
        "#程式由此開始寫\n"
      ],
      "execution_count": null,
      "outputs": []
    },
    {
      "cell_type": "markdown",
      "metadata": {
        "id": "_dezTq4LpKTJ"
      },
      "source": [
        "### M1-Q25 平年閏年判斷 \n",
        "(時間限制：2秒)\n",
        "\n",
        "問題描述： \n",
        "試撰寫一個程式，可由鍵盤讀入一個4 位數的整數代表西洋年，然後這個年份是否為閏年每四年一閏，每百年不閏，每四百年一閏，例如西元1900 雖為4 的倍數，但可被100 整除，所以不是閏年，同理，2000 是閏年，因可被400 整數，而2004 當然也是閏，因可以被4 整除\n",
        "\n",
        "輸入說明： \n",
        "輸入西元年份(int)。\n",
        "\n",
        "輸出說明： \n",
        "輸出閏年(Leap Year)或是平年(Common Year)(String)，最後必須有換行字元。\n",
        "\n",
        "範例：\n",
        "\n",
        "| Sample Input:   |      Sample Output:      |\n",
        "|:----------------|:-------------------------|\n",
        "|2000|Leap Year⏎ |\n",
        "|2003|Common Year⏎|"
      ]
    },
    {
      "cell_type": "markdown",
      "metadata": {
        "id": "0AQVSLbR5rp9"
      },
      "source": [
        "<font size=\"10\">&#x0210B;</font>int(祕技):\n",
        "\n",
        "__Input:__ 使用int()函數將輸入的字串轉換成整數變數\n",
        "\n",
        "__Process:__ 判斷條件\n",
        "\n",
        "__Output:__ print()"
      ]
    },
    {
      "cell_type": "code",
      "metadata": {
        "id": "-vGgOXPf5sOU"
      },
      "source": [
        "#程式由此開始寫\n"
      ],
      "execution_count": null,
      "outputs": []
    },
    {
      "cell_type": "markdown",
      "metadata": {
        "id": "Q63JmT7DmCwp"
      },
      "source": [
        "## M1 Problems:Q26-Q30"
      ]
    },
    {
      "cell_type": "markdown",
      "metadata": {
        "id": "UO2hzx41pPao"
      },
      "source": [
        "### M1-Q26 計算電費 \n",
        "(時間限制：2秒)\n",
        "\n",
        "問題描述：\n",
        "輸入所使用的度數，換算夏月及非夏月之電費金額\n",
        "\n",
        "| 每度(元):   |      夏月:      |      非夏月:      |\n",
        "|:----------------|:-------------------------|:-------------------------|\n",
        "|120 度以下部分\t| 2.10 | 2.10 |\n",
        "|121-330 度部分\t| 3.02 | 2.68|\n",
        "|331-500 度部分\t| 4.39 | 3.61|\n",
        "|501-700 度部分\t| 4.97 | 4.01|\n",
        "|701 度以上部分\t| 5.63 | 4.50|\n",
        "\n",
        "\n",
        "輸入說明： \n",
        "使用的電力度數(int)。\n",
        "\n",
        "輸出說明： \n",
        "夏月與非夏月的金額(float)，請輸出至小數點後兩位，最後必須有換行字元。\n",
        "\n",
        "範例：\n",
        "\n",
        "| Sample Input:   |      Sample Output:      |\n",
        "|:----------------|:-------------------------|\n",
        "|525\t| 1756.75 |\n",
        "|   |1528.75⏎ |\n"
      ]
    },
    {
      "cell_type": "markdown",
      "metadata": {
        "id": "fM3GyWY75teZ"
      },
      "source": [
        "<font size=\"10\">&#x0210B;</font>int(祕技):\n",
        "\n",
        "__Input:__ 使用int()函數將輸入的字串轉換成整數變數\n",
        "\n",
        "__Process:__ 判斷條件\n",
        "\n",
        "__Output:__ print()"
      ]
    },
    {
      "cell_type": "code",
      "metadata": {
        "id": "VSxFz3sDpSnn"
      },
      "source": [
        "#程式由此開始寫\n"
      ],
      "execution_count": null,
      "outputs": []
    },
    {
      "cell_type": "markdown",
      "metadata": {
        "id": "ILsGRvCxpSu7"
      },
      "source": [
        "### M1-Q27 判斷大小寫或其他字元\n",
        "(時間限制：2秒)\n",
        "\n",
        "問題描述： \n",
        "輸入一個字元，判斷是大寫或小寫或是其他字元。\n",
        "\n",
        "輸入說明： \n",
        "輸入一個字元 (char)。\n",
        "\n",
        "輸出說明： \n",
        "輸出判斷結果(大寫：uppercase、小寫：lowercase、特殊字元：special character)，最後必須有換行字元。\n",
        "\n",
        "範例：\n",
        "Sample Input:\tSample Output:\n",
        "A\tuppercase⏎\n",
        "a\tlowercase⏎\n",
        "*\tspecial character⏎\n",
        "\n",
        "| Sample Input:   |      Sample Output:      |\n",
        "|:----------------|:-------------------------|\n",
        "|A\t| uppercase⏎ |\n",
        "|a  |lowercase⏎ |\n",
        "|*  |special character⏎ |\n",
        "\n"
      ]
    },
    {
      "cell_type": "markdown",
      "metadata": {
        "id": "D--P2xMW5veA"
      },
      "source": [
        "<font size=\"10\">&#x0210B;</font>int(祕技):\n",
        "\n",
        "__Input:__ input()輸入一個字串\n",
        "\n",
        "__Process:__ str.isupper(), str.islower()\n",
        "\n",
        "__Output:__ print()"
      ]
    },
    {
      "cell_type": "code",
      "metadata": {
        "id": "-xpwS8H8pVMS"
      },
      "source": [
        "#程式由此開始寫\n"
      ],
      "execution_count": null,
      "outputs": []
    },
    {
      "cell_type": "markdown",
      "metadata": {
        "id": "1bw7vD5gpVTT"
      },
      "source": [
        "### M1-Q28 大小寫轉換\n",
        "(時間限制：2秒)\n",
        "\n",
        "問題描述： \n",
        "輸入一個字元，轉換其大小寫輸出 (大寫 ->小寫，小寫->大寫)。\n",
        "\n",
        "輸入說明：\n",
        " 輸入一個字元 (char)。\n",
        "\n",
        "輸出說明： \n",
        "將輸入轉換其大小寫輸出，最後必須有換行字元。\n",
        "\n",
        "範例：\n",
        "\n",
        "| Sample Input:   |      Sample Output:      |\n",
        "|:----------------|:-------------------------|\n",
        "|A|a⏎ |\n",
        "|a|A⏎ |\n"
      ]
    },
    {
      "cell_type": "markdown",
      "metadata": {
        "id": "DdbST0Ge5xmG"
      },
      "source": [
        "<font size=\"10\">&#x0210B;</font>int(祕技):\n",
        "\n",
        "__Input:__ input()輸入一個字串\n",
        "\n",
        "__Process:__ str.upper(), str.lower()\n",
        "\n",
        "__Output:__ print()"
      ]
    },
    {
      "cell_type": "code",
      "metadata": {
        "id": "ZZhxsgY4pX9P"
      },
      "source": [
        "#程式由此開始寫\n"
      ],
      "execution_count": null,
      "outputs": []
    },
    {
      "cell_type": "markdown",
      "metadata": {
        "id": "hKL556c6pYDv"
      },
      "source": [
        "### M1-Q29 奇偶數\n",
        "(時間限制：2秒)\n",
        "\n",
        "問題描述： \n",
        "輸入一正整數，判斷其奇偶數。\n",
        "\n",
        "輸入說明： \n",
        "輸入一正整數 (int)。\n",
        "\n",
        "輸出說明： \n",
        "判斷其奇偶數，最後必須有換行字元。\n",
        "\n",
        "範例：\n",
        "\n",
        "| Sample Input:   |      Sample Output:      |\n",
        "|:----------------|:-------------------------|\n",
        "|40|Even⏎ |\n",
        "|39|Odd⏎ |"
      ]
    },
    {
      "cell_type": "markdown",
      "metadata": {
        "id": "Bkr0PCUb5y9R"
      },
      "source": [
        "<font size=\"10\">&#x0210B;</font>int(祕技):\n",
        "\n",
        "__Input:__ 使用int()函數將輸入的字串轉換成整數變數\n",
        "\n",
        "__Process:__ 判斷條件\n",
        "\n",
        "__Output:__ print()"
      ]
    },
    {
      "cell_type": "code",
      "metadata": {
        "id": "gER4p4CEpa_P"
      },
      "source": [
        "#程式由此開始寫\n"
      ],
      "execution_count": null,
      "outputs": []
    },
    {
      "cell_type": "markdown",
      "metadata": {
        "id": "MJjnuAI6pbf8"
      },
      "source": [
        "### M1-Q30 三角形判定\n",
        "(時間限制：2秒)\n",
        "\n",
        "問題描述：\n",
        "讓使用者輸入三角形的三邊長a, b, c (且 a ≤ b ≤ c ) ，判斷並輸出 a, b, c 是否為合法三邊長。\n",
        "\n",
        "輸入說明： \n",
        "輸入三角形的三邊長 a, b, c (且a ≤ b ≤ c )。\n",
        "\n",
        "輸出說明： \n",
        "輸出是否為合法三邊長，最後必須有換行字元。\n",
        "\n",
        "範例：\n",
        "\n",
        "| Sample Input:   |      Sample Output:      |\n",
        "|:----------------|:-------------------------|\n",
        "|7 9 8\t|False⏎ |\n",
        "|4 1 2\t|False⏎ |\n",
        "|3 4 5  |True⏎ |\n",
        "|1 2 3\t|False⏎ |"
      ]
    },
    {
      "cell_type": "markdown",
      "metadata": {
        "id": "67K5wKrB50wb"
      },
      "source": [
        "<font size=\"10\">&#x0210B;</font>int(祕技):\n",
        "\n",
        "__Input:__ 使用split()切開輸入字串，再用 int()函數將輸入的字串轉換成整數變數\n",
        "\n",
        "__Process:__ 將條件表示成if-condition\n",
        "\n",
        "__Output:__ 套用f-string"
      ]
    },
    {
      "cell_type": "code",
      "metadata": {
        "id": "fUbeGeMSpfWX"
      },
      "source": [
        "#程式由此開始寫\n"
      ],
      "execution_count": null,
      "outputs": []
    },
    {
      "cell_type": "markdown",
      "metadata": {
        "id": "X2QzHtFxmGL9"
      },
      "source": [
        "## M1 Problems:Q31-Q32"
      ]
    },
    {
      "cell_type": "markdown",
      "metadata": {
        "id": "8iDG09TGpkVq"
      },
      "source": [
        "### M1-Q31 三角形分類\n",
        "(時間限制：2秒)\n",
        "\n",
        "問題描述： \n",
        "讓使用者輸入一合法三角形的三邊長a, b, c (且 $a ≤ b ≤ c$ ) ， 判斷並輸出該三角形為「Right triangle(直角三角形)」，「Obtuse triangle(鈍角三角形)」，或「Acute triangle(銳角三角形)」。\n",
        "\n",
        "判斷方法: \n",
        "\n",
        "假設三角形的三個邊長分別是 a, b, c，其中 c  為最長的邊長計算一下\n",
        "\n",
        "如果\n",
        "$a^2+b^2<c^2$ \n",
        "則為鈍角三角形鈍角位於 c 所對應的角。\n",
        "\n",
        "如果 $a^2+b^2=c^2$ \n",
        "則為直角三角形直角位於c所對應的角。\n",
        "\n",
        "如果 $a^2+b^2>c^2$ \n",
        "則為銳角三角形 a, b, c 三邊所對應的角均為銳角\n",
        "\n",
        "輸入說明： \n",
        "輸入一合法三角形的三邊長 a (int), b (int), c(int)  (且 $a ≤ b ≤ c$ )。\n",
        "\n",
        "輸出說明： \n",
        "判斷並輸出該三角形為「Right triangle(直角三角形)」，「Obtuse triangle(鈍角三角形)」，或「Acute triangle(銳角三角形)」，最後必須有換行字元。\n",
        "\n",
        "範例：\n",
        "\n",
        "| Sample Input:   |      Sample Output:      |\n",
        "|:----------------|:-------------------------|\n",
        "|3 4 5\t|Right triangle⏎ |\n",
        "|2 3 4\t|Obtuse triangle⏎ |\n",
        "|4 5 6  |Acute triangle⏎ |"
      ]
    },
    {
      "cell_type": "markdown",
      "metadata": {
        "id": "YxjxoPF453ZV"
      },
      "source": [
        "<font size=\"10\">&#x0210B;</font>int(祕技):\n",
        "\n",
        "__Input:__ 使用split()切開輸入字串，再用 int()函數將輸入的字串轉換成整數變數\n",
        "\n",
        "__Process:__ 將條件表示成if-condition\n",
        "\n",
        "__Output:__ 套用f-string"
      ]
    },
    {
      "cell_type": "code",
      "metadata": {
        "id": "vqIWyqoUpjtw"
      },
      "source": [
        "#程式由此開始寫\n"
      ],
      "execution_count": null,
      "outputs": []
    },
    {
      "cell_type": "markdown",
      "metadata": {
        "id": "oDAie31bpl3c"
      },
      "source": [
        "### M1-Q32 數字價格轉文字價格\n",
        "(時間限制：2秒)\n",
        "\n",
        "問題描述： \n",
        "輸入一 1~1000 的價格，並根據此價格在螢幕上印出「? thousand ? hundred? ten? dollar」字樣。\n",
        "\n",
        "輸入說明： \n",
        "輸入一 1~1000 的價格 (int)。\n",
        "\n",
        "輸出說明： \n",
        "輸出價格在螢幕上印出「? thousand ? hundred? ten? dollar」字樣，最後必須有換行字元。\n",
        "\n",
        "範例：\n",
        "\n",
        "| Sample Input:   |      Sample Output:      |\n",
        "|:----------------|:-------------------------|\n",
        "|173|0 thousand 1 hundred 7 ten 3 dollar⏎ |\n"
      ]
    },
    {
      "cell_type": "markdown",
      "metadata": {
        "id": "Yvo-RG-455dC"
      },
      "source": [
        "<font size=\"10\">&#x0210B;</font>int(祕技):\n",
        "\n",
        "__Input:__ 用 int()函數將輸入的字串轉換成整數變數\n",
        "\n",
        "__Process:__ 計算每一位數字\n",
        "\n",
        "__Output:__ 套用f-string"
      ]
    },
    {
      "cell_type": "code",
      "metadata": {
        "id": "gahkHhXbazKy"
      },
      "source": [
        "#程式由此開始寫\n"
      ],
      "execution_count": null,
      "outputs": []
    }
  ]
}