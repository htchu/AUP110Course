{
 "cells": [
  {
   "cell_type": "markdown",
   "metadata": {
    "id": "EUjJ7ImLnPVr"
   },
   "source": [
    "# AU Fundamentals of Python Programming\n",
    "\n"
   ]
  },
  {
   "cell_type": "markdown",
   "metadata": {
    "id": "kLe1GoiTtrgI"
   },
   "source": [
    "## Ex2-1(練習2-1):輸入攝氏溫度轉成華氏溫度\n",
    "$$FDegree = CDegree \\times \\frac{9}{5} + 32$$"
   ]
  },
  {
   "cell_type": "markdown",
   "metadata": {
    "id": "cHiXWmApnZ_W"
   },
   "source": [
    "### Step 1: 宣告一個攝氏溫度的變數"
   ]
  },
  {
   "cell_type": "code",
   "execution_count": null,
   "metadata": {
    "id": "8JL0O3Dw0hVK"
   },
   "outputs": [],
   "source": [
    "CDegree = 0.0\n",
    "print(CDegree)"
   ]
  },
  {
   "cell_type": "markdown",
   "metadata": {
    "id": "XBxsl5E23SuC"
   },
   "source": [
    "### Step 2: 輸入攝氏溫度的值"
   ]
  },
  {
   "cell_type": "code",
   "execution_count": null,
   "metadata": {
    "id": "PBlTlafx3Poe"
   },
   "outputs": [],
   "source": [
    "CDegree =             #<-?\n",
    "CDegree = float(CDegree)"
   ]
  },
  {
   "cell_type": "markdown",
   "metadata": {
    "id": "qcqXjo083bW5"
   },
   "source": [
    "### Step 3: 計算華氏溫度"
   ]
  },
  {
   "cell_type": "code",
   "execution_count": null,
   "metadata": {
    "id": "eF-jycTxnY9-"
   },
   "outputs": [],
   "source": [
    "FDegree =             #<-?\n",
    "print(FDegree)"
   ]
  },
  {
   "cell_type": "markdown",
   "metadata": {
    "id": "kclzQu9N31o5"
   },
   "source": [
    "## Ex2-2(練習2-2):計算BMI(Body Mass Index) 身體質量指數\n",
    "$$BMI = \\frac{體重_{公斤}}{身高_{公尺}^2}$$ \n",
    "$$BMI = \\frac{weight_{kg}}{height_{m}^2}$$"
   ]
  },
  {
   "cell_type": "markdown",
   "metadata": {
    "id": "ZTf06rZe4sdl"
   },
   "source": [
    "### Step 4: 宣告二個變數：體重和身高"
   ]
  },
  {
   "cell_type": "code",
   "execution_count": null,
   "metadata": {
    "id": "7AzrK1j_npYa"
   },
   "outputs": [],
   "source": [
    "weight = 1.0\n",
    "height = 1.0\n",
    "print(\"Weight = \", weight, \" Height = \", height,)"
   ]
  },
  {
   "cell_type": "markdown",
   "metadata": {
    "id": "bYlm5Mld5Pcu"
   },
   "source": [
    "Step 5: 輸入體重和身高"
   ]
  },
  {
   "cell_type": "code",
   "execution_count": null,
   "metadata": {
    "id": "7w4uuKYj5T2C"
   },
   "outputs": [],
   "source": [
    "weight = input(\"Weight (kg):\")\n",
    "height =           #<-?\n",
    "weight = float(weight)\n",
    "height =           #<-?"
   ]
  },
  {
   "cell_type": "markdown",
   "metadata": {
    "id": "Hl4NR03P5Xb6"
   },
   "source": [
    "### Step 6: 計算BMI"
   ]
  },
  {
   "cell_type": "code",
   "execution_count": null,
   "metadata": {
    "id": "EbZnPm_GnzgW"
   },
   "outputs": [],
   "source": [
    "bmi =            #<-?\n",
    "print(\"BMI=\", bmi);"
   ]
  },
  {
   "cell_type": "code",
   "execution_count": null,
   "metadata": {
    "id": "H1OLx_ro4E37"
   },
   "outputs": [],
   "source": [
    "\n"
   ]
  }
 ],
 "metadata": {
  "colab": {
   "name": "AUPython-Ex2.ipynb",
   "provenance": [
    {
     "file_id": "1a__-B_dtsembRipucBL2wkIIe4a6aMRl",
     "timestamp": 1601399481763
    }
   ]
  },
  "kernelspec": {
   "display_name": "Python 3",
   "language": "python",
   "name": "python3"
  },
  "language_info": {
   "codemirror_mode": {
    "name": "ipython",
    "version": 3
   },
   "file_extension": ".py",
   "mimetype": "text/x-python",
   "name": "python",
   "nbconvert_exporter": "python",
   "pygments_lexer": "ipython3",
   "version": "3.7.6"
  }
 },
 "nbformat": 4,
 "nbformat_minor": 4
}
