{
 "cells": [
  {
   "cell_type": "markdown",
   "metadata": {
    "id": "EUjJ7ImLnPVr"
   },
   "source": [
    "# AU Fundamentals of Python Programming-Ex5\n",
    "\n"
   ]
  },
  {
   "cell_type": "markdown",
   "metadata": {
    "id": "kLe1GoiTtrgI"
   },
   "source": [
    "## Ex5-1(練習5-1):M1-Q30 三角形判定\n",
    "讓使用者輸入三角形的三邊長a, b, c (且 a ≤ b ≤ c ) ，判斷並輸出 a, b, c 是否為合法三邊長。\n",
    "\n",
    "Let the user input the three-side lengths a, b, c (and a ≤ b ≤ c) of the triangle, judge and output whether a, b, c are legal three-side lengths."
   ]
  },
  {
   "cell_type": "markdown",
   "metadata": {
    "id": "cHiXWmApnZ_W"
   },
   "source": [
    "### Step 1: 輸入三角形的三邊長a, b, c (a ≤ b ≤ c)"
   ]
  },
  {
   "cell_type": "code",
   "execution_count": null,
   "metadata": {
    "id": "8JL0O3Dw0hVK"
   },
   "outputs": [],
   "source": [
    "a=int(input())\n",
    "b=int(input())\n",
    "b=int(input())"
   ]
  },
  {
   "cell_type": "markdown",
   "metadata": {
    "id": "XBxsl5E23SuC"
   },
   "source": [
    "### Step 2: 判斷是否為三角形"
   ]
  },
  {
   "cell_type": "code",
   "execution_count": null,
   "metadata": {
    "id": "PBlTlafx3Poe"
   },
   "outputs": [],
   "source": []
  },
  {
   "cell_type": "markdown",
   "metadata": {
    "id": "kclzQu9N31o5"
   },
   "source": [
    "## Ex5-2(練習5-2):M1-Q11 數字加密\n",
    "讀取一四位數，並且依下列方式進行加密\n",
    "1.        以該位數加7後，除以 10 取餘數取代該位數\n",
    "2.        將第一個位數的數字與第三個位數的數字對調\n",
    "3.        將第二個位數的數字與第四個位數的數字對調\n",
    "\n",
    "Read a four-digit number and encrypt it in the following way\n",
    "1. After adding 7 to the number, divide by 10 and replace the number with the remainder\n",
    "2. Swap the number of the first digit with the number of the third digit\n",
    "3. Swap the second digit number with the fourth digit number"
   ]
  },
  {
   "cell_type": "markdown",
   "metadata": {
    "id": "ZTf06rZe4sdl"
   },
   "source": [
    "### Step 2-1: 讀取一四位數(String)"
   ]
  },
  {
   "cell_type": "code",
   "execution_count": null,
   "metadata": {
    "id": "7AzrK1j_npYa"
   },
   "outputs": [],
   "source": [
    "dddd = int(input())"
   ]
  },
  {
   "cell_type": "markdown",
   "metadata": {
    "id": "bYlm5Mld5Pcu"
   },
   "source": [
    "### Step 2-2: 取得每位數字(個十百千)"
   ]
  },
  {
   "cell_type": "code",
   "execution_count": null,
   "metadata": {
    "id": "7w4uuKYj5T2C"
   },
   "outputs": [],
   "source": [
    "d4= #千位數\n",
    "d3= #千位數\n",
    "d2= #千位數\n",
    "d1= #千位數\n"
   ]
  },
  {
   "cell_type": "markdown",
   "metadata": {
    "id": "Hl4NR03P5Xb6"
   },
   "source": [
    "### Step 2-3: 位數加7後，除以 10 取餘數"
   ]
  },
  {
   "cell_type": "code",
   "execution_count": null,
   "metadata": {
    "id": "ntzV2Zw6dd0S"
   },
   "outputs": [],
   "source": []
  },
  {
   "cell_type": "markdown",
   "metadata": {
    "id": "82Rs74mudev9"
   },
   "source": [
    "### Step 2-4: 將第一個位數的數字與第三個位數的數字對調"
   ]
  },
  {
   "cell_type": "code",
   "execution_count": null,
   "metadata": {
    "id": "EbZnPm_GnzgW"
   },
   "outputs": [],
   "source": []
  },
  {
   "cell_type": "markdown",
   "metadata": {
    "id": "gx2hhpEHdkvf"
   },
   "source": [
    "### Step 2-5: 將第二個位數的數字與第四個位數的數字對調"
   ]
  }
 ],
 "metadata": {
  "colab": {
   "collapsed_sections": [],
   "name": "AUPython-Ex5-Gegin.ipynb",
   "provenance": [
    {
     "file_id": "1eMy8fTucOD1UPKoEpv6jg0Mqku4TdPbD",
     "timestamp": 1602650731278
    },
    {
     "file_id": "1sAje5w3AiRcZi8bXG2oHHVDTZ8gozS_F",
     "timestamp": 1602614527106
    },
    {
     "file_id": "1dJWzqhpN3ZTJ1iIHVnJ685UkWkFRA2cx",
     "timestamp": 1602006834039
    },
    {
     "file_id": "1a__-B_dtsembRipucBL2wkIIe4a6aMRl",
     "timestamp": 1601399481763
    }
   ]
  },
  "kernelspec": {
   "display_name": "Python 3",
   "language": "python",
   "name": "python3"
  },
  "language_info": {
   "codemirror_mode": {
    "name": "ipython",
    "version": 3
   },
   "file_extension": ".py",
   "mimetype": "text/x-python",
   "name": "python",
   "nbconvert_exporter": "python",
   "pygments_lexer": "ipython3",
   "version": "3.7.6"
  }
 },
 "nbformat": 4,
 "nbformat_minor": 4
}
