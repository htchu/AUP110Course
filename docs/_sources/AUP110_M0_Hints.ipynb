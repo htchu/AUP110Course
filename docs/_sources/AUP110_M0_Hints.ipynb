{
  "nbformat": 4,
  "nbformat_minor": 0,
  "metadata": {
    "colab": {
      "name": "AUP100_M0Hintsipynb",
      "provenance": [],
      "toc_visible": true
    },
    "kernelspec": {
      "name": "python3",
      "display_name": "Python 3"
    },
    "language_info": {
      "name": "python"
    }
  },
  "cells": [
    {
      "cell_type": "markdown",
      "metadata": {
        "id": "pF1B0PJK8Ud0"
      },
      "source": [
        "# AU Fundamentals of Python Programming-110-考試重點提示\n"
      ]
    },
    {
      "cell_type": "markdown",
      "metadata": {
        "id": "m85-lyw28jLm"
      },
      "source": [
        "## IPO-I 輸入參數\n",
        "\n",
        "```\n",
        "input()\n",
        "```"
      ]
    },
    {
      "cell_type": "markdown",
      "metadata": {
        "id": "11VawLxR8u0S"
      },
      "source": [
        "### 輸入一個字串參數"
      ]
    },
    {
      "cell_type": "code",
      "metadata": {
        "id": "Gb0d56a58NBr"
      },
      "source": [
        "instr = input()\n",
        "print(instr)"
      ],
      "execution_count": null,
      "outputs": []
    },
    {
      "cell_type": "markdown",
      "metadata": {
        "id": "9kBkMbXp9JRn"
      },
      "source": [
        "### 輸入一個整數參數"
      ]
    },
    {
      "cell_type": "code",
      "metadata": {
        "id": "EAClEftU9Mmx"
      },
      "source": [
        "instr = input()\n",
        "val = int(instr)\n",
        "print(val)"
      ],
      "execution_count": null,
      "outputs": []
    },
    {
      "cell_type": "code",
      "metadata": {
        "id": "RThJUH4A9hq3"
      },
      "source": [
        "#合併輸入和整數的轉換\n",
        "val = int(input())\n",
        "print(val)"
      ],
      "execution_count": null,
      "outputs": []
    },
    {
      "cell_type": "markdown",
      "metadata": {
        "id": "9EwwMy6f9YEn"
      },
      "source": [
        "### 輸入一個浮點數參數"
      ]
    },
    {
      "cell_type": "code",
      "metadata": {
        "id": "D3o17R2a9XTw"
      },
      "source": [
        "instr = input()\n",
        "val = float(instr)\n",
        "print(val)"
      ],
      "execution_count": null,
      "outputs": []
    },
    {
      "cell_type": "code",
      "metadata": {
        "id": "KkwkpqdD9sXh"
      },
      "source": [
        "#合併輸入和浮點數轉換\n",
        "val = float(input())\n",
        "print(val)"
      ],
      "execution_count": null,
      "outputs": []
    },
    {
      "cell_type": "markdown",
      "metadata": {
        "id": "yXhHvgQ191qU"
      },
      "source": [
        "### 輸入二個字串參數"
      ]
    },
    {
      "cell_type": "code",
      "metadata": {
        "id": "8UCZf8ML-KCS"
      },
      "source": [
        "instr = input()\n",
        "paras = instr.split()\n",
        "a = paras[0]\n",
        "b = paras[1]\n",
        "print(f\"{a} {b}\")"
      ],
      "execution_count": null,
      "outputs": []
    },
    {
      "cell_type": "code",
      "metadata": {
        "id": "0zkI8r1c-UUd"
      },
      "source": [
        "#合併輸入和字串分割\n",
        "a, b = input().split()\n",
        "print(f\"{a} {b}\")"
      ],
      "execution_count": null,
      "outputs": []
    },
    {
      "cell_type": "markdown",
      "metadata": {
        "id": "0w7mZutn-qpV"
      },
      "source": [
        "### 輸入三個整數參數"
      ]
    },
    {
      "cell_type": "code",
      "metadata": {
        "id": "QNaqC5jt-pNP"
      },
      "source": [
        "instr = input()\n",
        "paras = instr.split()\n",
        "a = int(paras[0])\n",
        "b = int(paras[1])\n",
        "c = int(paras[2])\n",
        "print(f\"a={a} b={b} c={c}\")"
      ],
      "execution_count": null,
      "outputs": []
    },
    {
      "cell_type": "code",
      "metadata": {
        "id": "MgV5BELX_EsP"
      },
      "source": [
        "#合併輸入和數字轉換\n",
        "a, b, c = map(int, input().split())\n",
        "print(f\"a={a} b={b} c={c}\")"
      ],
      "execution_count": null,
      "outputs": []
    },
    {
      "cell_type": "code",
      "metadata": {
        "id": "1eEtB7njBCn-"
      },
      "source": [
        ""
      ],
      "execution_count": null,
      "outputs": []
    },
    {
      "cell_type": "markdown",
      "metadata": {
        "id": "GcF_Bu6382iT"
      },
      "source": [
        "## IPO-O 格式化輸出\n",
        "\n",
        "https://docs.python.org/3/tutorial/inputoutput.html"
      ]
    },
    {
      "cell_type": "markdown",
      "metadata": {
        "id": "J0MThB1j_SDz"
      },
      "source": [
        "### 格式化輸出多個變數"
      ]
    },
    {
      "cell_type": "code",
      "metadata": {
        "id": "gxzdv9Y4Bm6b"
      },
      "source": [
        "year = 2016\n",
        "event = 'Referendum'\n",
        "print(f'Results of the {year} {event}') "
      ],
      "execution_count": null,
      "outputs": []
    },
    {
      "cell_type": "markdown",
      "metadata": {
        "id": "T9OUOOQgCC7V"
      },
      "source": [
        "### 控制格式化輸出的寛度和排列\n",
        "\n",
        "* 9:寛度9\n",
        "* 2.2: 整數寛度2, 小數寛度2, "
      ]
    },
    {
      "cell_type": "code",
      "metadata": {
        "id": "TQcYricwCDiy"
      },
      "source": [
        "yes_votes = 42_572_654\n",
        "no_votes = 43_132_495\n",
        "percentage = yes_votes / (yes_votes + no_votes)\n",
        "print(f'{yes_votes:9} YES votes {percentage:2.2%}')"
      ],
      "execution_count": null,
      "outputs": []
    },
    {
      "cell_type": "markdown",
      "metadata": {
        "id": "9OSt3THaAbpK"
      },
      "source": [
        "### 舊式格式化輸出\n",
        "\n",
        "Python 有 3 種格式化字串輸出的方法： f-string, str.format, %-formatting。第1種 f-string是主流方式。第2-3稱為舊學校 \"Old-School\" 字串格式化方法。\n",
        "\n",
        "同學閱讀舊的書籍或比較舊的網站內容，往往還會看到這兩種方式。可以看，但不鼓勵同學使用舊的方式寫程式。\n",
        "\n",
        "https://realpython.com/lessons/old-school-string-formatting-python/\n",
        "\n",
        "https://www.python.org/dev/peps/pep-0498/\n",
        "\n",
        "https://realpython.com/python-formatted-output/"
      ]
    },
    {
      "cell_type": "markdown",
      "metadata": {
        "id": "LK_l4hqQF_n_"
      },
      "source": [
        "### f-string格式化輸出\n",
        "\n",
        "<img src=\"https://files.realpython.com/media/t.53be85450e90.png\" alt=\"drawing\" width=\"600\"/>\n",
        "\n"
      ]
    },
    {
      "cell_type": "code",
      "metadata": {
        "id": "sjrgrahNGSm1"
      },
      "source": [
        "quantity=6; item='bananas'; price=1.74\n",
        "print(f'{quantity} {item} cost ${price}')"
      ],
      "execution_count": null,
      "outputs": []
    },
    {
      "cell_type": "markdown",
      "metadata": {
        "id": "MYkSZTIbFf-H"
      },
      "source": [
        "### str.format格式化輸出\n",
        "\n",
        "\n",
        "<img src=\"https://files.realpython.com/media/t.e6b8525755da.png\" alt=\"drawing\" width=\"600\"/>\n",
        "\n"
      ]
    },
    {
      "cell_type": "code",
      "metadata": {
        "id": "I3sd7T-BFj_1"
      },
      "source": [
        "quantity=6; item='bananas'; price=1.74\n",
        "print('{0} {1} cost ${2}'.format(quantity,item,price ))"
      ],
      "execution_count": null,
      "outputs": []
    },
    {
      "cell_type": "markdown",
      "metadata": {
        "id": "8oEoE63hFYXG"
      },
      "source": [
        "### %-formatting格式化輸出"
      ]
    },
    {
      "cell_type": "markdown",
      "metadata": {
        "id": "lL9o5QgpE2fp"
      },
      "source": [
        "\n",
        "<img src=\"https://files.realpython.com/media/t.176c482e3252.png\" alt=\"drawing\" width=\"600\"/>"
      ]
    },
    {
      "cell_type": "code",
      "metadata": {
        "id": "IaLiC9iwEz7p"
      },
      "source": [
        "quantity=6; item='bananas'; price=1.74\n",
        "print('%d %s cost $%.2f' % (quantity,item,price ))"
      ],
      "execution_count": null,
      "outputs": []
    },
    {
      "cell_type": "markdown",
      "metadata": {
        "id": "Mz6nKx1RLtC4"
      },
      "source": [
        "## IPO-P IF條件式\n",
        "\n",
        "<img src=\"https://i0.wp.com/www.alphacodingskills.com/python/img/python-if-elif-else.png\" alt=\"drawing\" width=\"600\"/>\n",
        "\n",
        "https://docs.python.org/3/tutorial/inputoutput.html"
      ]
    },
    {
      "cell_type": "markdown",
      "metadata": {
        "id": "lRehbnZDMJB6"
      },
      "source": [
        "### 單一判斷的if 條件式"
      ]
    },
    {
      "cell_type": "code",
      "metadata": {
        "id": "8d-gmDgZMb2B"
      },
      "source": [
        "val = 3\n",
        "if val % 2 == 0:\n",
        " print(\"Even\")\n",
        "else:\n",
        " print(\"Odd\")"
      ],
      "execution_count": null,
      "outputs": []
    },
    {
      "cell_type": "markdown",
      "metadata": {
        "id": "GyCjlFnEMJ1v"
      },
      "source": [
        "### 雙重判斷的if 條件式"
      ]
    },
    {
      "cell_type": "code",
      "metadata": {
        "id": "kVBxcOigMkIp"
      },
      "source": [
        "month = 6\n",
        "if 3<= month and month <= 5:\n",
        "  print (\"Spring\")\n",
        "elif 6<= month and month <= 8:\n",
        "  print (\"Summer\")\n",
        "elif 9<= month and month <= 11:\n",
        "  print (\"Autumn\")  \n",
        "else:\n",
        "  print (\"Winter\")"
      ],
      "execution_count": null,
      "outputs": []
    },
    {
      "cell_type": "code",
      "metadata": {
        "id": "ifV7HCrAMMJy"
      },
      "source": [
        "month = 6\n",
        "if 3<= month <= 5:\n",
        "  print (\"Spring\")\n",
        "elif 6<= month <= 8:\n",
        "  print (\"Summer\")\n",
        "elif 9<= month <= 11:\n",
        "  print (\"Autumn\")  \n",
        "else:\n",
        "  print (\"Winter\")"
      ],
      "execution_count": null,
      "outputs": []
    },
    {
      "cell_type": "markdown",
      "metadata": {
        "id": "5bkLR_dhNyIl"
      },
      "source": [
        "## IPO-P For迴圈\n",
        "\n",
        "<img src=\"https://pynative.com/wp-content/uploads/2021/06/python-nested-for-loop.png\" alt=\"drawing\" width=\"600\"/>\n",
        "\n"
      ]
    },
    {
      "cell_type": "markdown",
      "metadata": {
        "id": "QQNsOBZFOIpE"
      },
      "source": [
        "### 使用List的for迴圈"
      ]
    },
    {
      "cell_type": "code",
      "metadata": {
        "id": "zSg8kOGGOP1z"
      },
      "source": [
        "mylist = ['dog', 'cat', 'cow']\n",
        "for x in mylist:\n",
        "  print(x)"
      ],
      "execution_count": null,
      "outputs": []
    },
    {
      "cell_type": "markdown",
      "metadata": {
        "id": "0yKCUhBROdg8"
      },
      "source": [
        "### 使用range()函數的for迴圈"
      ]
    },
    {
      "cell_type": "code",
      "metadata": {
        "id": "S5gb91oYOjtV"
      },
      "source": [
        "numbers = range(1,10)\n",
        "for a in numbers:\n",
        "  for b in numbers:\n",
        "    print(f'{a:1d}*{b:1d} ={a*b:2d}', end=' ')\n",
        "  print()"
      ],
      "execution_count": null,
      "outputs": []
    },
    {
      "cell_type": "markdown",
      "metadata": {
        "id": "Uo9RecJQHqMe"
      },
      "source": [
        "## IPO-P 字串的函數和排序\n",
        "\n",
        "https://docs.python.org/zh-tw/3/library/stdtypes.html#text-sequence-type-str\n",
        "* str.format(*args, **kwargs)\n",
        "* str.split(sep=None, maxsplit=-1)\n",
        "* str.strip([chars])\n",
        "* str.upper()\n",
        "* str.lower()\n",
        "* str.replace(old, new[, count])\n",
        "返回字串的副本，其中出現的所有子字串 old 都將被替換為 new。如果給出了可選參數 count，則只替換前 count 次出現。"
      ]
    },
    {
      "cell_type": "markdown",
      "metadata": {
        "id": "xw9wy1nkIORj"
      },
      "source": [
        "### 字串的取代\n",
        "\n",
        "str.replace(old, new[, count])\n",
        "返回字串的副本，其中出現的所有子字串 old 都將被替換為 new。如果給出了可選參數 count，則只替換前 count 次出現。"
      ]
    },
    {
      "cell_type": "code",
      "metadata": {
        "id": "d2sucIpjEz4S"
      },
      "source": [
        "txt = \"I like bananas\"\n",
        "x = txt.replace(\"bananas\", \"apples\")\n",
        "print(x)"
      ],
      "execution_count": null,
      "outputs": []
    },
    {
      "cell_type": "markdown",
      "metadata": {
        "id": "BbjNUJzgIZXF"
      },
      "source": [
        "str.replace(old, new[, count])\n",
        "返回字串的副本，其中出現的所有子字串 old 都將被替換為 new。如果給出了可選參數 count，則只替換前 count 次出現。"
      ]
    },
    {
      "cell_type": "markdown",
      "metadata": {
        "id": "_JMpGBpcIfTS"
      },
      "source": [
        "### 字串的排序\n",
        "sorted()函數"
      ]
    },
    {
      "cell_type": "code",
      "metadata": {
        "id": "XC_a713GILsq"
      },
      "source": [
        "a = [\"1234\", \"5678\", \"3333\", \"7777\", \"9999\"]\n",
        "x = sorted(a)\n",
        "print(x)"
      ],
      "execution_count": null,
      "outputs": []
    },
    {
      "cell_type": "code",
      "metadata": {
        "id": "MTSAwfTkIiBb"
      },
      "source": [
        "a = [\"1234\", \"5678\", \"3333\", \"7777\", \"9999\"]\n",
        "x = sorted(a, reverse=True)\n",
        "print(x)"
      ],
      "execution_count": null,
      "outputs": []
    },
    {
      "cell_type": "markdown",
      "metadata": {
        "id": "bE8C6CpGJEm4"
      },
      "source": [
        "## IPO-P 亂數的使用\n",
        "\n",
        "https://docs.python.org/3/library/random.html"
      ]
    },
    {
      "cell_type": "markdown",
      "metadata": {
        "id": "XrErvUyNJ0ov"
      },
      "source": [
        "### 指定亂數起點\n",
        "random.seed(a=None)"
      ]
    },
    {
      "cell_type": "markdown",
      "metadata": {
        "id": "Ru0-6DT-JMYz"
      },
      "source": [
        "### 在指定範圍內生成整數亂數randrange()\n",
        "random.randrange(stop)\n",
        "\n",
        "random.randrange(start, stop[, step])"
      ]
    },
    {
      "cell_type": "code",
      "metadata": {
        "id": "KQLz7WZlJSrM"
      },
      "source": [
        "from random import randrange\n",
        "print(randrange(10))"
      ],
      "execution_count": null,
      "outputs": []
    },
    {
      "cell_type": "markdown",
      "metadata": {
        "id": "kPHSupxpKLfc"
      },
      "source": [
        "### 在指定範圍內生成浮點數亂數randrange()\n",
        "* random.random()\n",
        "Return the next random floating point number in the range [0.0, 1.0).\n",
        "\n",
        "* random.uniform(a, b)\n",
        "Return a random floating point number N such that a <= N <= b for a <= b and b <= N <= a for b < a."
      ]
    },
    {
      "cell_type": "code",
      "metadata": {
        "id": "MO6-dBKeJtVK"
      },
      "source": [
        "import random\n",
        "print(random.random())\n",
        "print(random.uniform(1.5, 1.9))"
      ],
      "execution_count": null,
      "outputs": []
    },
    {
      "cell_type": "markdown",
      "metadata": {
        "id": "zzLrvjOsLDAO"
      },
      "source": [
        "## IPO-P 月曆的使用\n",
        "\n",
        "https://docs.python.org/3/library/calendar.html"
      ]
    },
    {
      "cell_type": "markdown",
      "metadata": {
        "id": "i_eEE01JLMW4"
      },
      "source": [
        "### 每個月有幾天，第一天是星期幾 calendar.monthrange()\n"
      ]
    },
    {
      "cell_type": "code",
      "metadata": {
        "id": "9yWIIYQjLNIE"
      },
      "source": [
        "import calendar\n",
        "first_day, number_of_days = calendar.monthrange(2021, 9)\n",
        "print(first_day, number_of_days)"
      ],
      "execution_count": null,
      "outputs": []
    }
  ]
}