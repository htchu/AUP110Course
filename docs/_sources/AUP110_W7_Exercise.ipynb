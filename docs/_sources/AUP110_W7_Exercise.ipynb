{
  "nbformat": 4,
  "nbformat_minor": 0,
  "metadata": {
    "colab": {
      "name": "AUP110_W7_Exercise.ipynb",
      "provenance": [],
      "collapsed_sections": []
    },
    "kernelspec": {
      "display_name": "Python 3",
      "language": "python",
      "name": "python3"
    },
    "language_info": {
      "codemirror_mode": {
        "name": "ipython",
        "version": 3
      },
      "file_extension": ".py",
      "mimetype": "text/x-python",
      "name": "python",
      "nbconvert_exporter": "python",
      "pygments_lexer": "ipython3",
      "version": "3.7.6"
    }
  },
  "cells": [
    {
      "cell_type": "markdown",
      "metadata": {
        "id": "EUjJ7ImLnPVr"
      },
      "source": [
        "# AU Fundamentals of Python Programming\n",
        "\n"
      ]
    },
    {
      "cell_type": "markdown",
      "metadata": {
        "id": "kLe1GoiTtrgI"
      },
      "source": [
        "## Ex7-1(練習7-1):M1-Q20 找零錢問題\n",
        "假設銅板有1元、5元、50元共三種，媽媽請小明去菜市場買水果，給了小明 n 元，且媽媽交待，要老闆找小明的零錢的數目要最少，而小明到了水果攤買了 a_1顆蘋果，a_2顆柳丁，及 a_3 顆桃子，1顆蘋果15元，1顆柳丁20元，1顆桃子30元，請問老問需找多少個1元、5元、50元，其銅板數目最少。\n"
      ]
    },
    {
      "cell_type": "markdown",
      "metadata": {
        "id": "cHiXWmApnZ_W"
      },
      "source": [
        "### Step 1: 先輸入媽媽給小明多少錢 n"
      ]
    },
    {
      "cell_type": "code",
      "metadata": {
        "id": "8JL0O3Dw0hVK"
      },
      "source": [
        "n=int(input())"
      ],
      "execution_count": null,
      "outputs": []
    },
    {
      "cell_type": "markdown",
      "metadata": {
        "id": "XBxsl5E23SuC"
      },
      "source": [
        "### Step 2: 輸入 a_1顆蘋果，a_2顆柳丁，及 a_3 顆桃子"
      ]
    },
    {
      "cell_type": "code",
      "metadata": {
        "id": "PBlTlafx3Poe"
      },
      "source": [
        ""
      ],
      "execution_count": null,
      "outputs": []
    },
    {
      "cell_type": "markdown",
      "metadata": {
        "id": "qcqXjo083bW5"
      },
      "source": [
        "### Step 3: 計算金額及剩下的錢\n",
        "\n"
      ]
    },
    {
      "cell_type": "code",
      "metadata": {
        "id": "bfpk0qUcM3lA"
      },
      "source": [
        ""
      ],
      "execution_count": null,
      "outputs": []
    },
    {
      "cell_type": "markdown",
      "metadata": {
        "id": "bgchR6LPMiap"
      },
      "source": [
        "### Step 4: 計算銅板數目"
      ]
    },
    {
      "cell_type": "code",
      "metadata": {
        "id": "eF-jycTxnY9-"
      },
      "source": [
        ""
      ],
      "execution_count": null,
      "outputs": []
    },
    {
      "cell_type": "markdown",
      "metadata": {
        "id": "kclzQu9N31o5"
      },
      "source": [
        "## Ex7-2(練習7-2):M1-Q32 數字價格轉文字價格\n",
        "輸入一 1~1000 的價格，並跟據此價格在螢幕上印出「? thousand ? hundred? ten? dollar字樣。\n",
        "\n",
        "Enter a price ranging from 1 to 1000, and print \"? One thousand? Hundred? Ten? Dollar?\" based on the price."
      ]
    },
    {
      "cell_type": "markdown",
      "metadata": {
        "id": "ZTf06rZe4sdl"
      },
      "source": [
        "### Step 5: 輸入一 1~1000 的價格"
      ]
    },
    {
      "cell_type": "code",
      "metadata": {
        "id": "7AzrK1j_npYa"
      },
      "source": [
        ""
      ],
      "execution_count": null,
      "outputs": []
    },
    {
      "cell_type": "markdown",
      "metadata": {
        "id": "bYlm5Mld5Pcu"
      },
      "source": [
        "### Step 6: 計算百位、十位及個位數"
      ]
    },
    {
      "cell_type": "code",
      "metadata": {
        "id": "7w4uuKYj5T2C"
      },
      "source": [
        ""
      ],
      "execution_count": null,
      "outputs": []
    },
    {
      "cell_type": "markdown",
      "metadata": {
        "id": "Hl4NR03P5Xb6"
      },
      "source": [
        "### Step 7: 列印結果"
      ]
    },
    {
      "cell_type": "code",
      "metadata": {
        "id": "EbZnPm_GnzgW"
      },
      "source": [
        ""
      ],
      "execution_count": null,
      "outputs": []
    }
  ]
}