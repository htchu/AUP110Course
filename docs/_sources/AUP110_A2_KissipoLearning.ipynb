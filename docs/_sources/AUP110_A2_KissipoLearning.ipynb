{
  "nbformat": 4,
  "nbformat_minor": 0,
  "metadata": {
    "colab": {
      "name": "AUP110_A2_KissipoLearning.ipynb",
      "provenance": [],
      "collapsed_sections": []
    },
    "kernelspec": {
      "name": "python3",
      "display_name": "Python 3"
    },
    "language_info": {
      "name": "python"
    }
  },
  "cells": [
    {
      "cell_type": "markdown",
      "metadata": {
        "id": "VTW2cNctb5X-"
      },
      "source": [
        "# 啟思博學習法(KissipoLearning)：簡簡單單學會寫程式\n",
        "1. Kissipo = KISS Principle + IPO model\n",
        "2. KISS Principle = Keep it simple, stupid\n",
        "3. IPO model = input–process–output (IPO) model\n",
        "4. The first Kissipo courseware is for Asia University students\n",
        "\n",
        "參考資料\n",
        "* https://en.wikipedia.org/wiki/KISS_principle\n",
        "* https://en.wikipedia.org/wiki/IPO_model\n"
      ]
    },
    {
      "cell_type": "markdown",
      "metadata": {
        "id": "jnG3AjOoc2oR"
      },
      "source": [
        "## KISS Principle for courseware\n",
        "\n",
        "1. Kissipo courseware : Github\n",
        "2. Kissipo coding : Colab\n",
        "3. Kissipo testing : Leetcode\n",
        "\n",
        "__網址__\n",
        "1. https://github.com/\n",
        "2. https://colab.research.google.com/\n",
        "3. https://leetcode.com/\n",
        "\n"
      ]
    },
    {
      "cell_type": "markdown",
      "metadata": {
        "id": "Y9GhrGHCeYQF"
      },
      "source": [
        "## IPO model\n",
        "\n",
        "<font size=\"10\">&#x0210B;</font>int(祕技):\n",
        "\n",
        "__Input:__如何輸入\n",
        "\n",
        "__Process:__如何運算、流程控制\n",
        "\n",
        "__Output:__如何輸出\n"
      ]
    }
  ]
}