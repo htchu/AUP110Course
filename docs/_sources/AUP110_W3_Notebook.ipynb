{
  "nbformat": 4,
  "nbformat_minor": 0,
  "metadata": {
    "colab": {
      "name": "AUP110_W3_Notebook.ipynb",
      "provenance": [],
      "collapsed_sections": [
        "2INtSe_Gv-wl",
        "nBU6Jd88wve6",
        "L0nDEDvaxEhq",
        "2zYw7pu4xWDs",
        "b_OsCdmjz7_e",
        "d3ZoFghS1Eir",
        "PPziADEY1uLb",
        "EVyrr8pc1ZcY"
      ]
    },
    "kernelspec": {
      "display_name": "Python 3",
      "language": "python",
      "name": "python3"
    },
    "language_info": {
      "codemirror_mode": {
        "name": "ipython",
        "version": 3
      },
      "file_extension": ".py",
      "mimetype": "text/x-python",
      "name": "python",
      "nbconvert_exporter": "python",
      "pygments_lexer": "ipython3",
      "version": "3.7.6"
    }
  },
  "cells": [
    {
      "cell_type": "markdown",
      "metadata": {
        "id": "EUjJ7ImLnPVr"
      },
      "source": [
        "![image](https://www.python.org/static/img/python-logo.png)\n",
        "# 亞洲大學基礎程式設計教材(AUP110-Fundamentals of Programming)\n",
        "[![Open In Colab](https://colab.research.google.com/assets/colab-badge.svg)](https://colab.research.google.com/github/googlecolab/colabtools/blob/master/notebooks/colab-github-demo.ipynb)\n"
      ]
    },
    {
      "cell_type": "markdown",
      "metadata": {
        "id": "Zk0MAMNlo_gx"
      },
      "source": [
        "#Week3 Python的變數和運算 \n",
        "\n",
        "![image](https://i.ibb.co/bBfRNXV/ipo3.png)\n",
        "\n"
      ]
    },
    {
      "cell_type": "markdown",
      "metadata": {
        "id": "wKji2crve0Sp"
      },
      "source": [
        "## Topic 1(主題1)-輸入一個整數或浮點數\n",
        "\n",
        "Python中使用input()函數讀入輸入的資料。\n",
        "\n",
        "呼叫一次input()函數會輸入一個字串。\n",
        " \n",
        "如果我們要輸入一個整數或浮點數。可以使用int()或float()函數"
      ]
    },
    {
      "cell_type": "markdown",
      "metadata": {
        "id": "_daTGvP1goPw"
      },
      "source": [
        "### Step 1: 輸入一個整數"
      ]
    },
    {
      "cell_type": "code",
      "metadata": {
        "id": "X-HFB-nRrGDe"
      },
      "source": [
        "instr = input('Please input your score：')\n",
        "score = int(instr)  #變整數\n",
        "print(score)      #列印變數的值\n",
        "print(type(score))   #列印變數的型別"
      ],
      "execution_count": null,
      "outputs": []
    },
    {
      "cell_type": "markdown",
      "metadata": {
        "id": "aujPAVDGguns"
      },
      "source": [
        "### Step 2: 輸入一個浮點數"
      ]
    },
    {
      "cell_type": "code",
      "metadata": {
        "id": "AsKKoIvhgbEi"
      },
      "source": [
        "instr = input('Please input your score：')\n",
        "score = float(instr)  #變浮點數\n",
        "print(score)      #列印變數的值\n",
        "print(type(score))   #列印變數的型別"
      ],
      "execution_count": null,
      "outputs": []
    },
    {
      "cell_type": "markdown",
      "metadata": {
        "id": "g-ZT0jKHrSts"
      },
      "source": [
        "* Python 型別轉換函數\n",
        " - int() #變整數\n",
        " - float() #變浮點數\n",
        " - str() #變字串\n",
        " - 變數名稱=int(字串變數)\n",
        " - 變數名稱=str(數值變數)"
      ]
    },
    {
      "cell_type": "markdown",
      "metadata": {
        "id": "nQJ1uTEYvPwL"
      },
      "source": [
        "## Topic 2(主題2)-算術運算子和表示式(expressions)\n",
        "數值運算符號（Arithmetic Operators）\n",
        "```\n",
        "+ - * / #加減乘除\n",
        "** #次方\n",
        "// #商\n",
        "%  #餘數\n",
        "```"
      ]
    },
    {
      "cell_type": "markdown",
      "metadata": {
        "id": "2INtSe_Gv-wl"
      },
      "source": [
        "### Step 1: 加減乘除"
      ]
    },
    {
      "cell_type": "code",
      "metadata": {
        "id": "4z4GBkIpwjKW"
      },
      "source": [
        "print(1 + 2)\n",
        "print(3 - 4)\n",
        "print(5 * 6)\n",
        "print(12 / 5)"
      ],
      "execution_count": null,
      "outputs": []
    },
    {
      "cell_type": "code",
      "metadata": {
        "id": "u2ty_vzewBvL"
      },
      "source": [
        "print(1.3 + 2)\n",
        "print(3 - 4.2)\n",
        "print(5 * 6.5)\n",
        "print(10.0 / 5)"
      ],
      "execution_count": null,
      "outputs": []
    },
    {
      "cell_type": "markdown",
      "metadata": {
        "id": "nBU6Jd88wve6"
      },
      "source": [
        "### Step 2: 商和餘數"
      ]
    },
    {
      "cell_type": "code",
      "metadata": {
        "id": "EyiI9xOBw1g_"
      },
      "source": [
        "print(23 / 5)\n",
        "print(23 // 5)\n",
        "print(23 % 5)"
      ],
      "execution_count": null,
      "outputs": []
    },
    {
      "cell_type": "markdown",
      "metadata": {
        "id": "L0nDEDvaxEhq"
      },
      "source": [
        "### Step 3: 次方"
      ]
    },
    {
      "cell_type": "code",
      "metadata": {
        "id": "UC7H_GzqxKs-"
      },
      "source": [
        "print(23 * 2)\n",
        "print(23 ** 2)"
      ],
      "execution_count": null,
      "outputs": []
    },
    {
      "cell_type": "markdown",
      "metadata": {
        "id": "2zYw7pu4xWDs"
      },
      "source": [
        "##Topic 3: 運算子優先序（Operator precedence）\n"
      ]
    },
    {
      "cell_type": "markdown",
      "metadata": {
        "id": "XbZwuO4ehshr"
      },
      "source": [
        "### Step 1: 先乘除後加減, 括號優先"
      ]
    },
    {
      "cell_type": "code",
      "metadata": {
        "id": "Jlu-46AjyszT"
      },
      "source": [
        "print(3 * 4 + 5)  #先乘除後加減\n",
        "print(3 * (4 + 5))#小括號 ()優先"
      ],
      "execution_count": null,
      "outputs": []
    },
    {
      "cell_type": "markdown",
      "metadata": {
        "id": "lxdB70vqh1P6"
      },
      "source": [
        "### Step 2: 次方比加減乘除優先"
      ]
    },
    {
      "cell_type": "code",
      "metadata": {
        "id": "jngCziaKzFke"
      },
      "source": [
        "print(1 * 2 ** 3)  #次方比乘除優先\n",
        "print(1 **2 + 3)   #次方比加減優先"
      ],
      "execution_count": null,
      "outputs": []
    },
    {
      "cell_type": "markdown",
      "metadata": {
        "id": "dRdtCudyzjfI"
      },
      "source": [
        "## Topic 4(主題3)-標準庫math的應用"
      ]
    },
    {
      "cell_type": "markdown",
      "metadata": {
        "id": "b_OsCdmjz7_e"
      },
      "source": [
        "### Step 1: 計算pi 和sin($\\pi/3$) 函數"
      ]
    },
    {
      "cell_type": "code",
      "metadata": {
        "id": "b1tRdaFu3jX0"
      },
      "source": [
        "pi = 3.14159\n",
        "sin(pi/3)"
      ],
      "execution_count": null,
      "outputs": []
    },
    {
      "cell_type": "markdown",
      "metadata": {
        "id": "d3ZoFghS1Eir"
      },
      "source": [
        "### Step 2: 使用math標準庫的pi 和sin 函數"
      ]
    },
    {
      "cell_type": "code",
      "metadata": {
        "id": "Y0ZTqGnr1BTo"
      },
      "source": [
        "import math\n",
        "print(math.pi)\n",
        "print(math.sin(math.pi/3))"
      ],
      "execution_count": null,
      "outputs": []
    },
    {
      "cell_type": "markdown",
      "metadata": {
        "id": "PPziADEY1uLb"
      },
      "source": [
        "### Step 3: 使用as"
      ]
    },
    {
      "cell_type": "code",
      "metadata": {
        "id": "h_Th9s8812ke"
      },
      "source": [
        "import math as m\n",
        "print(m.pi)\n",
        "print(m.sin(m.pi/3))"
      ],
      "execution_count": null,
      "outputs": []
    },
    {
      "cell_type": "markdown",
      "metadata": {
        "id": "EVyrr8pc1ZcY"
      },
      "source": [
        "### Step 4: 使用標準庫math的角度(degree)和弧度(radian)轉換"
      ]
    },
    {
      "cell_type": "code",
      "metadata": {
        "id": "y4m_JV3U1kLf"
      },
      "source": [
        "import math as m\n",
        "print(m.degrees((math.pi/3)))\n",
        "print(m.radians(60))"
      ],
      "execution_count": null,
      "outputs": []
    },
    {
      "cell_type": "markdown",
      "metadata": {
        "id": "DRvOkISriEma"
      },
      "source": [
        "## Topic 5: print()函數的參數"
      ]
    },
    {
      "cell_type": "markdown",
      "metadata": {
        "id": "6Xwc2kHIiR6T"
      },
      "source": [
        "### Step 1: Hello World with 其他參數\n",
        "* sep = \"...\" 列印分隔 end=\"\" 列印結尾\n",
        " - sep:   string inserted between values, default a space.\n",
        " - end:   string appended after the last value, default a newline."
      ]
    },
    {
      "cell_type": "code",
      "metadata": {
        "id": "H1OLx_ro4E37"
      },
      "source": [
        "print('Hello World!') #'Hello World!' is the same as \"Hello World!\"\n"
      ],
      "execution_count": null,
      "outputs": []
    },
    {
      "cell_type": "code",
      "metadata": {
        "id": "EarRSzq4iprp"
      },
      "source": [
        "help(print) #註解是不會執行的"
      ],
      "execution_count": null,
      "outputs": []
    },
    {
      "cell_type": "code",
      "metadata": {
        "id": "R4KAvFpyiqz8"
      },
      "source": [
        "print('Hello '+'World!')\n",
        "print(\"Hello\",\"World\", sep=\"+\")"
      ],
      "execution_count": null,
      "outputs": []
    },
    {
      "cell_type": "code",
      "metadata": {
        "id": "ga3Zasj1iuTj"
      },
      "source": [
        "print(\"Hello\");  print(\"World!\")\n",
        "print(\"Hello\", end=' ');print(\"World\")\n"
      ],
      "execution_count": null,
      "outputs": []
    },
    {
      "cell_type": "code",
      "metadata": {
        "id": "_-HUgFTSiyvm"
      },
      "source": [
        "print(\"Hello\\nWorld!\")\n",
        "print(\"Hello\",\"World!\", sep=\"\\n\")"
      ],
      "execution_count": null,
      "outputs": []
    },
    {
      "cell_type": "markdown",
      "metadata": {
        "id": "w5QUnW1VizbU"
      },
      "source": [
        "### Step 2:Escape Sequence (逸出序列)\n",
        " - \\newline\tIgnored\n",
        " - \\\\\tBackslash (\\)\n",
        " - \\'\tSingle quote (')\n",
        " - \\\"\tDouble quote (\")\n",
        " - \\a\tASCII Bell (BEL)\n",
        " - \\b\tASCII Backspace (BS)\n",
        " - \\n\tASCII Linefeed (LF)\n",
        " - \\r\tASCII Carriage Return (CR)\n",
        " - \\t\tASCII Horizontal Tab (TAB)\n",
        " - \\ooo\tASCII character with octal value ooo\n",
        " - \\xhh...\tASCII character with hex value hh..."
      ]
    },
    {
      "cell_type": "code",
      "metadata": {
        "id": "tclbfd_ljRcm"
      },
      "source": [
        "txt = \"We are the so-called \\\"Vikings\\\" from the north.\"\n",
        "print(txt)"
      ],
      "execution_count": null,
      "outputs": []
    },
    {
      "cell_type": "markdown",
      "metadata": {
        "id": "W9a-4RYPjEKb"
      },
      "source": [
        "## Topic 6: 多行的字串"
      ]
    },
    {
      "cell_type": "markdown",
      "metadata": {
        "id": "bUaSLb9ojLn8"
      },
      "source": [
        "### Step 1: 使用 字串尾部的\\來建立長字串"
      ]
    },
    {
      "cell_type": "code",
      "metadata": {
        "id": "LJDTzwhCjpDV"
      },
      "source": [
        "iPhone11='iPhone 11是由蘋果公司設計和銷售的智能手機，為第13代iPhone系列智能手機之一，亦是iPhone XR的後繼機種。\\\n",
        "其在2019年9月10日於蘋果園區史蒂夫·喬布斯劇院由CEO蒂姆·庫克隨iPhone 11 Pro及iPhone 11 Pro Max一起發佈，\\\n",
        "並於2019年9月20日在世界大部分地區正式發售。其採用類似iPhone XR的玻璃配鋁金屬設計；\\\n",
        "具有6.1英吋Liquid Retina HD顯示器，配有Face ID；並採用由蘋果自家設計的A13仿生晶片，\\\n",
        "帶有第三代神經網絡引擎。機器能夠防濺、耐水及防塵，在最深2米的水下停留時間最長可達30分鐘。'\n",
        "print(iPhone11)"
      ],
      "execution_count": null,
      "outputs": []
    },
    {
      "cell_type": "markdown",
      "metadata": {
        "id": "kCQ9st4_jraY"
      },
      "source": [
        "### Step 2: 使用六個雙引號來建立長字串 ''' ... ''' 或 \"\"\" ... \"\"\""
      ]
    },
    {
      "cell_type": "code",
      "metadata": {
        "id": "NnQgDGqjjv1G"
      },
      "source": [
        "iPhone11='''\n",
        "iPhone 11是由蘋果公司設計和銷售的智能手機，為第13代iPhone系列智能手機之一，亦是iPhone XR的後繼機種。\n",
        "其在2019年9月10日於蘋果園區史蒂夫·喬布斯劇院由CEO蒂姆·庫克隨iPhone 11 Pro及iPhone 11 Pro Max一起發佈，\n",
        "並於2019年9月20日在世界大部分地區正式發售。其採用類似iPhone XR的玻璃配鋁金屬設計；\n",
        "具有6.1英吋Liquid Retina HD顯示器，配有Face ID；並採用由蘋果自家設計的A13仿生晶片，\n",
        "帶有第三代神經網絡引擎。機器能夠防濺、耐水及防塵，在最深2米的水下停留時間最長可達30分鐘。'''\n",
        "print(iPhone11)"
      ],
      "execution_count": null,
      "outputs": []
    },
    {
      "cell_type": "code",
      "metadata": {
        "id": "d9tRjLt6jy8O"
      },
      "source": [
        "iPhone11=\"\"\"\n",
        "iPhone 11是由蘋果公司設計和銷售的智能手機，為第13代iPhone系列智能手機之一，亦是iPhone XR的後繼機種。\n",
        "其在2019年9月10日於蘋果園區史蒂夫·喬布斯劇院由CEO蒂姆·庫克隨iPhone 11 Pro及iPhone 11 Pro Max一起發佈，\n",
        "並於2019年9月20日在世界大部分地區正式發售。其採用類似iPhone XR的玻璃配鋁金屬設計；\n",
        "具有6.1英吋Liquid Retina HD顯示器，配有Face ID；並採用由蘋果自家設計的A13仿生晶片，\n",
        "帶有第三代神經網絡引擎。機器能夠防濺、耐水及防塵，在最深2米的水下停留時間最長可達30分鐘。\"\"\"\n",
        "print(iPhone11)"
      ],
      "execution_count": null,
      "outputs": []
    },
    {
      "cell_type": "markdown",
      "metadata": {
        "id": "SfEskWPFQFdk"
      },
      "source": [
        "## Toic 7: 原始碼的字元編碼 (encoding)\n",
        "預設 Python 原始碼檔案的字元編碼使用 UTF-8。在這個編碼中，世界上多數語言的文字可以同時被使用在字串內容、識別名 (identifier) 及註解中 --- 雖然在標準函式庫中只使用 ASCII 字元作為識別名，這也是個任何 portable 程式碼需遵守的慣例。如果要正確地顯示所有字元，您的編輯器需要能夠認識檔案為 UTF-8，並且需要能顯示檔案中所有字元的字型。\n",
        "\n",
        "如果不使用預設編碼，則要聲明檔案的編碼，檔案的第一行要寫成特殊註解。語法如下：\n",
        "```\n",
        "# -*- coding: encoding -*-\n",
        "```\n",
        "其中， encoding 可以是 Python 支援的任意一種 codecs。\n",
        "\n",
        "比如，聲明使用 Windows-1252 編碼，源碼檔案要寫成：\n",
        "```\n",
        "# -*- coding: cp1252 -*-\n",
        "```\n",
        "第一行的規則也有一種例外情況，在源碼以 UNIX \"shebang\" line 行開頭時。此時，編碼聲明要寫在檔案的第二行。例如：\n",
        "```\n",
        "#!/usr/bin/env python3\n",
        "# -*- coding: cp1252 -*-\n",
        "```"
      ]
    },
    {
      "cell_type": "markdown",
      "metadata": {
        "id": "W5xQE1BOj4Up"
      },
      "source": [
        "## Topic 8: MarkDown語法"
      ]
    },
    {
      "cell_type": "markdown",
      "metadata": {
        "id": "hSz9SKx9kFT5"
      },
      "source": [
        "### Step 1: 標題\n",
        "\n",
        "題語法是以1到數個 # 號開頭加上空格，例如：\n",
        "```\n",
        "# 標題一\n",
        "## 標題二\n",
        "### 標題三\n",
        "```"
      ]
    },
    {
      "cell_type": "markdown",
      "metadata": {
        "id": "TDRuavQ-kW3a"
      },
      "source": [
        "### Step 2: 分隔線\n",
        "\n",
        "分隔線為插入3個以上的 * 或 -，可包含空格。\n",
        "\n",
        "```\n",
        "***\n",
        "*****\n",
        "- - -\n",
        "---\n",
        "```"
      ]
    },
    {
      "cell_type": "markdown",
      "metadata": {
        "id": "xbnOzQykkib9"
      },
      "source": [
        "### Step 3: 粗體及斜體\n",
        "\n",
        "粗體及斜體 通常會用來強調某些重點文字，語法如下：\n",
        "\n",
        "```\n",
        "**粗體**\n",
        "*斜體*\n",
        "***斜斜體***\n",
        "~刪除~\n",
        "```"
      ]
    },
    {
      "cell_type": "markdown",
      "metadata": {
        "id": "ZapQMO0Lk3Yg"
      },
      "source": [
        "### Step 4: 清單\n",
        "\n",
        "無序清單使用(*)(+)(-)作為標記：\n",
        "```\n",
        "* Red\n",
        "* Green\n",
        "+ Red\n",
        "+ Blue\n",
        "- Green\n",
        "- Blue\n",
        "```\n",
        "\n",
        "有序清單使用數字接著小數點：\n",
        "```\n",
        "1. Bird\n",
        "1. McHale\n",
        "1. Parish\n",
        "```"
      ]
    }
  ]
}