{
  "nbformat": 4,
  "nbformat_minor": 0,
  "metadata": {
    "colab": {
      "name": "AUP110_W4_Exercise.ipynb",
      "provenance": [],
      "collapsed_sections": []
    },
    "kernelspec": {
      "display_name": "Python 3",
      "language": "python",
      "name": "python3"
    },
    "language_info": {
      "codemirror_mode": {
        "name": "ipython",
        "version": 3
      },
      "file_extension": ".py",
      "mimetype": "text/x-python",
      "name": "python",
      "nbconvert_exporter": "python",
      "pygments_lexer": "ipython3",
      "version": "3.7.6"
    }
  },
  "cells": [
    {
      "cell_type": "markdown",
      "metadata": {
        "id": "EUjJ7ImLnPVr"
      },
      "source": [
        "# AU Fundamentals of Python Programming\n",
        "\n"
      ]
    },
    {
      "cell_type": "markdown",
      "metadata": {
        "id": "kLe1GoiTtrgI"
      },
      "source": [
        "## Ex4-1(練習4-1):練習格式化輸出\n",
        "自由印太聯盟由美國,日本,澳洲和印度組成\n",
        "\n",
        "The Free Indo-Pacific Alliance is composed of the United States, Japan, Australia and India\n"
      ]
    },
    {
      "cell_type": "markdown",
      "metadata": {
        "id": "cHiXWmApnZ_W"
      },
      "source": [
        "### Step 1: 宣告四個國家的變數"
      ]
    },
    {
      "cell_type": "code",
      "metadata": {
        "id": "8JL0O3Dw0hVK"
      },
      "source": [
        "n0=\"\"; n1= \"\"; n2=\"\"; n3=\"\" #<-?"
      ],
      "execution_count": null,
      "outputs": []
    },
    {
      "cell_type": "markdown",
      "metadata": {
        "id": "bgchR6LPMiap"
      },
      "source": [
        "### Step 2: 使用f-string 印出"
      ]
    },
    {
      "cell_type": "code",
      "metadata": {
        "id": "eF-jycTxnY9-"
      },
      "source": [
        "print(f\"自由印太聯盟由, , 和 組成\") #<-?"
      ],
      "execution_count": null,
      "outputs": []
    },
    {
      "cell_type": "markdown",
      "metadata": {
        "id": "kclzQu9N31o5"
      },
      "source": [
        "## Ex4-2(練習4-2):簡單計算機\n",
        "輸入三個數字a,b,c計算其和及積 \n",
        "\n",
        "Enter three numbers a, b, c to calculate the sum and product"
      ]
    },
    {
      "cell_type": "markdown",
      "metadata": {
        "id": "ZTf06rZe4sdl"
      },
      "source": [
        "### Step 1: 宣告三個數字 a,b,c"
      ]
    },
    {
      "cell_type": "code",
      "metadata": {
        "id": "7AzrK1j_npYa"
      },
      "source": [
        "a = .0; b=.0; c=.0; sum = .0; product = .0\n",
        "print(f\"numbers={a}, {b}, {c}, sum = {sum}, product = {product}\")"
      ],
      "execution_count": null,
      "outputs": []
    },
    {
      "cell_type": "markdown",
      "metadata": {
        "id": "bYlm5Mld5Pcu"
      },
      "source": [
        "Step 2: 輸入三個數字 a,b,c"
      ]
    },
    {
      "cell_type": "code",
      "metadata": {
        "id": "7w4uuKYj5T2C"
      },
      "source": [
        "a = float(input(\"a:\")) \n",
        "b =                   #<-?\n",
        "c =                   #<-?\n",
        "print(f\"numbers={a}, {b}, {c}\")"
      ],
      "execution_count": null,
      "outputs": []
    },
    {
      "cell_type": "markdown",
      "metadata": {
        "id": "Hl4NR03P5Xb6"
      },
      "source": [
        "### Step 3: 計算三個數字 a,b,c的和"
      ]
    },
    {
      "cell_type": "code",
      "metadata": {
        "id": "EbZnPm_GnzgW"
      },
      "source": [
        "sum =                    #<-?\n",
        "print(f\"numbers={a}, {b}, {c}, sum = {sum}\")"
      ],
      "execution_count": null,
      "outputs": []
    },
    {
      "cell_type": "markdown",
      "metadata": {
        "id": "0l_JJOmHPUzA"
      },
      "source": [
        "### Step 4: 計算三個數字 a,b,c的積"
      ]
    },
    {
      "cell_type": "code",
      "metadata": {
        "id": "H1OLx_ro4E37"
      },
      "source": [
        "product  =              #<-?\n",
        "print(f\"numbers={a}, {b}, {c}, product  = {product }\")\n"
      ],
      "execution_count": null,
      "outputs": []
    },
    {
      "cell_type": "code",
      "metadata": {
        "id": "cgzzmhHz5NC4"
      },
      "source": [
        ""
      ],
      "execution_count": null,
      "outputs": []
    }
  ]
}