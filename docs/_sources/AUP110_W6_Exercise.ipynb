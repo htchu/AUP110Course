{
  "nbformat": 4,
  "nbformat_minor": 0,
  "metadata": {
    "colab": {
      "name": "AUP110_W6_Exercise.ipynb",
      "provenance": [],
      "collapsed_sections": []
    },
    "kernelspec": {
      "display_name": "Python 3",
      "language": "python",
      "name": "python3"
    },
    "language_info": {
      "codemirror_mode": {
        "name": "ipython",
        "version": 3
      },
      "file_extension": ".py",
      "mimetype": "text/x-python",
      "name": "python",
      "nbconvert_exporter": "python",
      "pygments_lexer": "ipython3",
      "version": "3.7.6"
    }
  },
  "cells": [
    {
      "cell_type": "markdown",
      "metadata": {
        "id": "L_j9J2r5MfQd"
      },
      "source": [
        "## Ex6-1(練習6-1):判斷座標是否在圓形的範圍內(M1-Q21)\n",
        "(時間限制：2秒)\n",
        "\n",
        "問題描述： \n",
        "一圓形直徑為200，且中心座標為(0,0)。請寫一支程式可以輸入點的座標，並判斷該點是否在圓形的範圍內。如果點的位置剛好在邊界的話也算是在圓形範圍內(例：x = 100， y = 0)\n",
        "\n",
        "輸入說明： \n",
        "輸入一整數座標，依序分 x (int)與 y (int)。\n",
        "\n",
        "輸出說明： \n",
        "輸出此座標位置在圓內(inside)或圓外(outside)訊息，最後必須有換行字元。\n",
        "\n",
        "範例：\n",
        "\n",
        "| Sample Input:   |      Sample Output:      |\n",
        "|:----------------|:-------------------------|\n",
        "|50  50|inside⏎ |\n",
        "|50  200|outside⏎ |"
      ]
    },
    {
      "cell_type": "code",
      "metadata": {
        "id": "1xGqC3DUMemY"
      },
      "source": [
        "  "
      ],
      "execution_count": null,
      "outputs": []
    },
    {
      "cell_type": "markdown",
      "metadata": {
        "id": "FbHzjHfVM-tF"
      },
      "source": [
        ""
      ]
    }
  ]
}