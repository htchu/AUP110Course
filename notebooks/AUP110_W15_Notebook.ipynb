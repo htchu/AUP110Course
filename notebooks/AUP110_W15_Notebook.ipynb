{
  "nbformat": 4,
  "nbformat_minor": 0,
  "metadata": {
    "colab": {
      "name": "AUP110_W15_Notebook.ipynb",
      "provenance": [],
      "collapsed_sections": [],
      "toc_visible": true
    },
    "kernelspec": {
      "name": "python3",
      "display_name": "Python 3"
    }
  },
  "cells": [
    {
      "cell_type": "markdown",
      "metadata": {
        "id": "b4-1tJhnmy6C"
      },
      "source": [
        "![image](https://www.python.org/static/img/python-logo.png)\n",
        "# 亞洲大學基礎程式設計教材(AUP110-Fundamentals of Programming)\n",
        "![Open In Colab](https://colab.research.google.com/assets/colab-badge.svg)\n"
      ]
    },
    {
      "cell_type": "markdown",
      "metadata": {
        "id": "EUjJ7ImLnPVr"
      },
      "source": [
        "# Week15-類別(Class)的宣告和繼承\n",
        "\n",
        "https://docs.python.org/3/tutorial/classes.html\n",
        "\n",
        "Class 提供了一種結合資料與功能的手段。建立一個 class 將會新增一個物件的型別 (type)，並且允許建立該型別的新實例 (instance)。每一個 class 實例可以擁有一些維持該實例狀態的屬性 (attribute)。Class 實例也可以有一些（由其 class 所定義的）method（方法），用於修改該實例的狀態。\n",
        "\n",
        "與其他程式語言相比，Python 的 class 機制為 class 增加了最少的新語法跟語意。他混合了 C++ 和 Modula-3 的 class 機制。Python 的 class 提供了所有物件導向程式設計 (Object Oriented Programming) 的標準特色：class 繼承機制允許多個 base class（基底類別），一個 derived class（衍生類別）可以覆寫 (override) 其 base class 的任何 method，且一個 method 可以用相同的名稱呼叫其 base class 的 method。物件可以包含任意數量及任意種類的資料。如同模組一樣，class 也具有 Python 的動態特性：他們在執行期 (runtime) 被建立，且可以在建立之後被修改。\n",
        "\n",
        "物件導向程式設計就必須對類別(Class)及物件(Object)等有一些基本的了解，包含了：\n",
        "類別(Class)、物件(Object)、屬性(Attribute)、建構式(Constructor)、方法(Method)"
      ]
    },
    {
      "cell_type": "markdown",
      "metadata": {
        "id": "kLe1GoiTtrgI"
      },
      "source": [
        "## Topic 1(主題1)-Class definition（類別定義）"
      ]
    },
    {
      "cell_type": "markdown",
      "metadata": {
        "id": "mFxKQK_Bmm0p"
      },
      "source": [
        "### Step 1: 類別的定義(definition)-屬性(property)\n",
        "\n",
        "按慣例，命名 class 用 UpperCamelCase（駝峰式大小寫）"
      ]
    },
    {
      "cell_type": "code",
      "metadata": {
        "colab": {
          "base_uri": "https://localhost:8080/"
        },
        "id": "MR8X8qbtmmFC",
        "outputId": "ac289a35-47c9-44a7-c2f5-5446b34fb8ed"
      },
      "source": [
        "class MyClass:\n",
        "    x = 5\n",
        "    y =11\n",
        "\n",
        "p1 = MyClass() #建立 MyClass 的一個新實例，並將此物件指派給區域變數 p1。\n",
        "print(p1.x, p1.y)"
      ],
      "execution_count": 1,
      "outputs": [
        {
          "output_type": "stream",
          "name": "stdout",
          "text": [
            "5 11\n"
          ]
        }
      ]
    },
    {
      "cell_type": "code",
      "metadata": {
        "id": "pBmxqjbpACZf"
      },
      "source": [
        "del p1"
      ],
      "execution_count": 8,
      "outputs": []
    },
    {
      "cell_type": "markdown",
      "metadata": {
        "id": "6xCiGEcV8Swb"
      },
      "source": [
        "### Step 2: 類別的初始值-$__init__()$\n",
        "\n",
        "實例化運算（「呼叫」一個 class 物件）會建立一個空的物件。許多 class 在建立物件時有著自訂的特定實例初始狀態。因此，class 可以定義一個名為 $$__init__()$$ 的特別 method。"
      ]
    },
    {
      "cell_type": "code",
      "metadata": {
        "colab": {
          "base_uri": "https://localhost:8080/"
        },
        "id": "Td8bXH0j8YF5",
        "outputId": "8186848a-588e-4c09-90bb-38db2c96a455"
      },
      "source": [
        "class Person:\n",
        "  def __init__(self, name, age):#建構式(Constructor)\n",
        "    self.name = name\n",
        "    self.age = age\n",
        "\n",
        "p2 = Person(\"Hwang\", 52) \n",
        "print(p2.name, p2.age)"
      ],
      "execution_count": 2,
      "outputs": [
        {
          "output_type": "stream",
          "name": "stdout",
          "text": [
            "Hwang 52\n"
          ]
        }
      ]
    },
    {
      "cell_type": "markdown",
      "metadata": {
        "id": "0wWlPvfc9Wz1"
      },
      "source": [
        "### Step 3: 類別的成員函數定義"
      ]
    },
    {
      "cell_type": "code",
      "metadata": {
        "colab": {
          "base_uri": "https://localhost:8080/"
        },
        "id": "o4-HDxIb9da_",
        "outputId": "84423bc9-63f8-41ef-c2d6-2df7cb01fcc2"
      },
      "source": [
        "class Person:\n",
        "  def __init__(self, name, age):\n",
        "    self.name = name\n",
        "    self.age = age\n",
        "\n",
        "  def foo(self):\n",
        "    print(\"Hello my name is \" + self.name)\n",
        "\n",
        "p2 = Person(\"Hwang\", 52)\n",
        "p2.foo()"
      ],
      "execution_count": 4,
      "outputs": [
        {
          "output_type": "stream",
          "name": "stdout",
          "text": [
            "Hello my name is Hwang\n"
          ]
        }
      ]
    },
    {
      "cell_type": "markdown",
      "metadata": {
        "id": "DxQX0Ee19-tp"
      },
      "source": [
        "### Step 4: 作用域 (Scope) 及命名空間 (Namespace)"
      ]
    },
    {
      "cell_type": "code",
      "metadata": {
        "colab": {
          "base_uri": "https://localhost:8080/"
        },
        "id": "NUHTNYRN9_FL",
        "outputId": "8412f255-0fe3-403c-8d76-a7faf1cb19dd"
      },
      "source": [
        "def scope_test():\n",
        "    def do_local():\n",
        "        spam = \"local spam\"\n",
        "\n",
        "    def do_nonlocal():\n",
        "        nonlocal spam\n",
        "        spam = \"nonlocal spam\"\n",
        "\n",
        "    def do_global():\n",
        "        global spam\n",
        "        spam = \"global spam\"\n",
        "\n",
        "    spam = \"test spam\"\n",
        "    do_local()\n",
        "    print(\"After local assignment:\", spam)\n",
        "    do_nonlocal()\n",
        "    print(\"After nonlocal assignment:\", spam)\n",
        "    do_global()\n",
        "    print(\"After global assignment:\", spam)\n",
        "\n",
        "scope_test()\n",
        "print(\"In global scope:\", spam)"
      ],
      "execution_count": 5,
      "outputs": [
        {
          "output_type": "stream",
          "name": "stdout",
          "text": [
            "After local assignment: test spam\n",
            "After nonlocal assignment: nonlocal spam\n",
            "After global assignment: nonlocal spam\n",
            "In global scope: global spam\n"
          ]
        }
      ]
    },
    {
      "cell_type": "markdown",
      "metadata": {
        "id": "Jdl7Wbuq-KbV"
      },
      "source": [
        "## Topic 2(主題2)-Class Inheritance (類別繼承)\n",
        "\n",
        "derived class（衍生類別）繼承base class（基礎類別）"
      ]
    },
    {
      "cell_type": "markdown",
      "metadata": {
        "id": "DXj0A0mq-vou"
      },
      "source": [
        "### Step 5: derived class（衍生類別）"
      ]
    },
    {
      "cell_type": "code",
      "metadata": {
        "id": "L5DsgdQzB65n"
      },
      "source": [
        "class Person:\n",
        "    name = \"AAA\"\n",
        "    age = 20\n",
        "\n",
        "class Police(Person):\n",
        "    rank = \"Sergeant\"\n",
        "\n",
        "p3 = Police()\n",
        "print(p3.name, p3.age, p3.rank)"
      ],
      "execution_count": null,
      "outputs": []
    },
    {
      "cell_type": "code",
      "metadata": {
        "colab": {
          "base_uri": "https://localhost:8080/"
        },
        "id": "D9GFO4-a_j7K",
        "outputId": "32ae88b8-70e7-4af8-e8fb-7f0b933c322b"
      },
      "source": [
        "class Person:\n",
        "  def __init__(self, name, age):\n",
        "    self.name = name\n",
        "    self.age = age\n",
        "\n",
        "class Police(Person):\n",
        "  def __init__(self, name, age, rank):\n",
        "    Person.__init__(self, name, age)\n",
        "    self.rank = rank\n",
        "\n",
        "p3 = Police(\"Skyman\", 51, \"lieutenant\")\n",
        "print(p3.name, p3.age, p3.rank)"
      ],
      "execution_count": 10,
      "outputs": [
        {
          "output_type": "stream",
          "name": "stdout",
          "text": [
            "Skyman 51 lieutenant\n"
          ]
        }
      ]
    },
    {
      "cell_type": "markdown",
      "metadata": {
        "id": "GClLyEOqBf0t"
      },
      "source": [
        "### Step 6: super()函數"
      ]
    },
    {
      "cell_type": "code",
      "metadata": {
        "colab": {
          "base_uri": "https://localhost:8080/"
        },
        "id": "VeavRKkH-58F",
        "outputId": "89b4c110-914c-4053-8a06-ad57b2cbe801"
      },
      "source": [
        "class Person:\n",
        "    name = \"AAA\"\n",
        "    salary = 2000\n",
        "    def print_salary(self):\n",
        "         return(salary)\n",
        "\n",
        "class Police(Person):\n",
        "    rank = \"Sergeant\"\n",
        "    salary = 3000\n",
        "    def print_annual_salary_a(self):\n",
        "         print(self.salary*12)    \n",
        "    def print_annual_salary_b(self):\n",
        "         print(super().salary*12)  \n",
        "\n",
        "p5 = Police()\n",
        "p5.print_annual_salary_a()\n",
        "p5.print_annual_salary_b()"
      ],
      "execution_count": 14,
      "outputs": [
        {
          "output_type": "stream",
          "name": "stdout",
          "text": [
            "36000\n",
            "24000\n"
          ]
        }
      ]
    },
    {
      "cell_type": "markdown",
      "metadata": {
        "id": "en4j0utIMe7s"
      },
      "source": [
        "## Topic 3(主題3)-decorator（裝飾器）\n",
        "\n",
        "由於 Python 的基本語法為了簡單好用簡潔，讓 Python 的語法變得愈來愈繁複。\n",
        "裝飾器是一個函式，它會回傳另一個函式，通常它會使用 @wrapper 語法，被應用為一種函式的變換 (function transformation)。裝飾器的常見範例是 classmethod() 和 staticmethod()。\n",
        "\n",
        "裝飾器語法只是語法糖。以下兩個函式定義在語義上是等效的：\n",
        "```\n",
        "def f(...):\n",
        "    ...\n",
        "f = staticmethod(f)\n",
        "\n",
        "@staticmethod\n",
        "def f(...):\n",
        "    ...\n",
        "```\n",
        "\n",
        "Python Decorator 機制是為了讓你在定義函式與方法之後，可以用簡單的方式來修改並重新定義\n",
        "＂裝飾＂什麼：\n",
        "* 用了Decorator可以方便延伸原本已完成的function\n",
        "* 延伸時使程式碼簡潔"
      ]
    },
    {
      "cell_type": "markdown",
      "metadata": {
        "id": "0sbTSFyuMjun"
      },
      "source": [
        "### Step 7:裝飾詞(Decorator)延伸原本已完成的function"
      ]
    },
    {
      "cell_type": "code",
      "metadata": {
        "colab": {
          "base_uri": "https://localhost:8080/"
        },
        "id": "ge2_C2c_MkIi",
        "outputId": "4603e408-cff6-4641-94df-6443a02a6b37"
      },
      "source": [
        "def my_decorator(func):\n",
        "    print('In A')\n",
        "    return func\n",
        "\n",
        "@my_decorator\n",
        "def my_func():\n",
        "    print('In B')\n",
        "\n",
        "my_func()"
      ],
      "execution_count": 29,
      "outputs": [
        {
          "output_type": "stream",
          "name": "stdout",
          "text": [
            "In A\n",
            "In B\n"
          ]
        }
      ]
    },
    {
      "cell_type": "markdown",
      "metadata": {
        "id": "237vhLUBZNYT"
      },
      "source": [
        "### Step 8:裝飾詞(Decorator)延伸時使程式碼簡潔\n",
        "\n",
        "```\n",
        "def requires_admin(fn):\n",
        "    def ret_fn(*args,**kwargs):\n",
        "        lPermissions = get_permissions(current_user_id())\n",
        "        if 'administrator' in lPermissions:\n",
        "            return fn(*args,**kwargs)\n",
        "        else:\n",
        "            raise Exception(\"Not allowed\")\n",
        "    return ret_fn\n",
        "\n",
        "def requires_logged_in(fn):\n",
        "    def ret_fn(*args,**kwargs):\n",
        "        lPermissions = get_permissions(current_user_id())\n",
        "        if 'logged_in' in lPermissions:\n",
        "            return fn(*args,**kwargs)\n",
        "        else:\n",
        "            raise Exception(\"Not allowed\")\n",
        "    return ret_fn\n",
        "    \n",
        "def requires_premium_member(fn):\n",
        "    def ret_fn(*args,**kwargs):\n",
        "        lPermissions = get_permissions(current_user_id())\n",
        "        if 'premium_member' in lPermissions:\n",
        "            return fn(*args,**kwargs)\n",
        "        else:\n",
        "            raise Exception(\"Not allowed\")\n",
        "    return ret_fn\n",
        "    \n",
        "@requires_admin\n",
        "def delete_user(iUserId):\n",
        "   \"\"\"\n",
        "   delete the user with the given Id. This function is only accessable to users with administrator permissions\n",
        "   \"\"\"\n",
        "\n",
        "@requires_logged_in \n",
        "def new_game():\n",
        "    \"\"\"\n",
        "    any logged in user can start a new game\n",
        "    \"\"\"\n",
        "    \n",
        "@requires_premium_member\n",
        "def premium_checkpoint():\n",
        "   \"\"\"\n",
        "   save the game progress, only accessable to premium members\n",
        "   \"\"\"\n",
        "```"
      ]
    },
    {
      "cell_type": "markdown",
      "metadata": {
        "id": "LGN5SpYKFgNB"
      },
      "source": [
        "## Topic 3(主題3)-日誌(logging)-Python Standard Library\n",
        "\n",
        "Python 的 logging 可以將 log 輸出到 console 與輸出到日誌檔裡\n",
        "Python logging 的 log level 有五種等級，分別為DEBUG、INFO、WARNING、ERROR、CRITICAL，預設 log level 等級是 WARNING。\n",
        "log level 等級與分別對應的 api 如下：\n",
        "* DEBUG：logging.debug()\n",
        "* INFO：logging.info()\n",
        "* WARNING：logging.warning()\n",
        "* ERROR：logging.error()\n",
        "* CRITICAL：logging.critical()\n",
        "\n"
      ]
    },
    {
      "cell_type": "markdown",
      "metadata": {
        "id": "IWIPuvHHEPeg"
      },
      "source": [
        "### Step 9: 基本 logging(預設 log level 等級是 WARNING)"
      ]
    },
    {
      "cell_type": "code",
      "metadata": {
        "colab": {
          "base_uri": "https://localhost:8080/"
        },
        "id": "7GaMCYMm-XaV",
        "outputId": "04d23164-de4d-48e7-a41a-8f6ac6463af3"
      },
      "source": [
        "import logging\n",
        "\n",
        "logging.debug('debug')\n",
        "logging.info('info')\n",
        "logging.warning('warning')\n",
        "logging.error('error')\n",
        "logging.critical('critical')\n"
      ],
      "execution_count": 16,
      "outputs": [
        {
          "output_type": "stream",
          "name": "stderr",
          "text": [
            "WARNING:root:warning\n",
            "ERROR:root:error\n",
            "CRITICAL:root:critical\n"
          ]
        }
      ]
    },
    {
      "cell_type": "markdown",
      "metadata": {
        "id": "HKFTWzIOGM7r"
      },
      "source": [
        "### Step 10: 基本 logging(將 log level 修改成 DEBUG)"
      ]
    },
    {
      "cell_type": "code",
      "metadata": {
        "colab": {
          "base_uri": "https://localhost:8080/"
        },
        "id": "Nn_i4VtqGk_G",
        "outputId": "b809f8b4-a2b0-4eaa-dd02-b543b80238e0"
      },
      "source": [
        "import logging\n",
        "\n",
        "logging.basicConfig(level=logging.DEBUG)\n",
        "logging.debug('debug')\n",
        "logging.info('info')\n",
        "logging.warning('warning')\n",
        "logging.error('error')\n",
        "logging.critical('critical')"
      ],
      "execution_count": 17,
      "outputs": [
        {
          "output_type": "stream",
          "name": "stderr",
          "text": [
            "WARNING:root:warning\n",
            "ERROR:root:error\n",
            "CRITICAL:root:critical\n"
          ]
        }
      ]
    },
    {
      "cell_type": "markdown",
      "metadata": {
        "id": "uvtD6k4SGp4i"
      },
      "source": [
        "### Step 11: 進階 logging(設定 log 的 filename )"
      ]
    },
    {
      "cell_type": "code",
      "metadata": {
        "colab": {
          "base_uri": "https://localhost:8080/"
        },
        "id": "KHm5fP44GqG1",
        "outputId": "765a525f-2211-4830-cc08-42715807aabd"
      },
      "source": [
        "import logging\n",
        "\n",
        "log_filename = datetime.datetime.now().strftime(\"%Y-%m-%d_%H_%M_%S.log\")\n",
        "logging.basicConfig(level=logging.INFO, filename=log_filename, filemode='w',\n",
        "\t#format='[%(levelname).1s %(asctime)s] %(message)s',\n",
        "\tformat='[%(levelname)1.1s %(asctime)s %(module)s:%(lineno)d] %(message)s',\n",
        "\tdatefmt='%Y%m%d %H:%M:%S',\n",
        "\t)\n",
        "\n",
        "if __name__ == \"__main__\":\n",
        "\tlogging.debug('debug')\n",
        "\tlogging.info('info')\n",
        "\tlogging.warning('warning')\n",
        "\tlogging.error('error')\n",
        "\tlogging.critical('critical')"
      ],
      "execution_count": 18,
      "outputs": [
        {
          "output_type": "stream",
          "name": "stderr",
          "text": [
            "WARNING:root:warning\n",
            "ERROR:root:error\n",
            "CRITICAL:root:critical\n"
          ]
        }
      ]
    },
    {
      "cell_type": "markdown",
      "metadata": {
        "id": "8I8ZYAU7HOLX"
      },
      "source": [
        "### Step 12: 進階 logging(同時輸出到 console 與日誌檔 )"
      ]
    },
    {
      "cell_type": "code",
      "metadata": {
        "colab": {
          "base_uri": "https://localhost:8080/"
        },
        "id": "t3aj2-68HSC5",
        "outputId": "d3ae976d-231a-4ae1-a2fc-730293ed36ac"
      },
      "source": [
        "import logging\n",
        "import datetime\n",
        "\n",
        "logger = logging.getLogger()\n",
        "logger.setLevel(logging.DEBUG)\n",
        "formatter = logging.Formatter(\n",
        "\t'[%(levelname)1.1s %(asctime)s %(module)s:%(lineno)d] %(message)s',\n",
        "\tdatefmt='%Y%m%d %H:%M:%S')\n",
        "\n",
        "ch = logging.StreamHandler()\n",
        "ch.setLevel(logging.DEBUG)\n",
        "ch.setFormatter(formatter)\n",
        "\n",
        "log_filename = datetime.datetime.now().strftime(\"%Y-%m-%d_%H_%M_%S.log\")\n",
        "fh = logging.FileHandler(log_filename)\n",
        "fh.setLevel(logging.DEBUG)\n",
        "fh.setFormatter(formatter)\n",
        "\n",
        "logger.addHandler(ch)\n",
        "logger.addHandler(fh)\n",
        "\n",
        "if __name__ == \"__main__\":\n",
        "\tlogging.debug('debug')\n",
        "\tlogging.info('info')\n",
        "\tlogging.warning('warning')\n",
        "\tlogging.error('error')\n",
        "\tlogging.critical('critical')"
      ],
      "execution_count": 19,
      "outputs": [
        {
          "output_type": "stream",
          "name": "stderr",
          "text": [
            "DEBUG:root:debug\n",
            "[D 20211106 21:17:43 <ipython-input-19-56b31697cc8e>:23] debug\n",
            "INFO:root:info\n",
            "[I 20211106 21:17:43 <ipython-input-19-56b31697cc8e>:24] info\n",
            "WARNING:root:warning\n",
            "[W 20211106 21:17:43 <ipython-input-19-56b31697cc8e>:25] warning\n",
            "ERROR:root:error\n",
            "[E 20211106 21:17:43 <ipython-input-19-56b31697cc8e>:26] error\n",
            "CRITICAL:root:critical\n",
            "[C 20211106 21:17:43 <ipython-input-19-56b31697cc8e>:27] critical\n"
          ]
        }
      ]
    },
    {
      "cell_type": "markdown",
      "metadata": {
        "id": "H0EL7MU-HgRO"
      },
      "source": [
        "## Topic 4(主題4)-作業系統(os)-Python Standard Library\n",
        "\n",
        "https://docs.python.org/3/library/os.html\n",
        "\n",
        "提供了一種使用與操作系統相關的功能的便捷式途徑。\n",
        "\n",
        "* os.system()    #括號中加入CMD指令，即可用Python執行(例如:os.system(ls))\n",
        "* os.walk()      #遍歷資料夾或路徑\n",
        "* os.path()      #主要用於獲取資料夾or檔案屬性或資訊\n",
        "* os.environ.get('PATH')    #取得環境變數內容\n",
        "* os.rename(原檔名,新檔名)  #更改文件檔名\n",
        "* os.remove(檔名)          #刪除檔案\n",
        "* os.getcwd()              #獲取當前目錄\n",
        "* os.mkdir(“資料夾名稱”)   #建立資料夾\n",
        "* os.path.isdir(檔名)     #檢查是不是目錄\n",
        "* os.path.expanduser('~')   #取得家目錄路徑\n"
      ]
    },
    {
      "cell_type": "markdown",
      "metadata": {
        "id": "gpvNge0nJgi8"
      },
      "source": [
        "### Step 13: 判斷目錄是否存在，如果不存在就建立新目錄"
      ]
    },
    {
      "cell_type": "code",
      "metadata": {
        "id": "emsNyKiCJnVo"
      },
      "source": [
        "import os\n",
        "import os.path\n",
        "\n",
        "if not os.path.isdir(\"demo\"):\n",
        "    os.mkdir(\"demo\")"
      ],
      "execution_count": 20,
      "outputs": []
    },
    {
      "cell_type": "markdown",
      "metadata": {
        "id": "R949eMffJgp-"
      },
      "source": [
        "### Step 14: 目前工作的目錄"
      ]
    },
    {
      "cell_type": "code",
      "metadata": {
        "colab": {
          "base_uri": "https://localhost:8080/"
        },
        "id": "O1UARk6DKW0x",
        "outputId": "a61f60f5-1816-43d6-9fe9-295c64b85810"
      },
      "source": [
        "import os\n",
        "     \n",
        "# Get the current working directory (CWD)\n",
        "cwd = os.getcwd()\n",
        "     \n",
        "# Print the current working directory (CWD)\n",
        "print(\"Current working directory:\", cwd)"
      ],
      "execution_count": 26,
      "outputs": [
        {
          "output_type": "stream",
          "name": "stdout",
          "text": [
            "Current working directory: /content\n"
          ]
        }
      ]
    },
    {
      "cell_type": "markdown",
      "metadata": {
        "id": "71GjZ8OdOSQ4"
      },
      "source": [
        "### Step 15: 檢查目錄內的檔案是不是一個檔案，或檔案夾(子目錄)"
      ]
    },
    {
      "cell_type": "code",
      "metadata": {
        "colab": {
          "base_uri": "https://localhost:8080/"
        },
        "id": "NqYZf0k4OSrp",
        "outputId": "cccd9ec9-c583-479c-fc8b-7e76e9331c10"
      },
      "source": [
        "import os\n",
        "\n",
        "path = 'sample_data'\n",
        "print('Is \"{}\" a dictionary?'.format(path), os.path.isdir(path))\n",
        "\n",
        "for fileName in os.listdir(path):\n",
        "    print('Is \"{}\" a dictionary?'.format(fileName), os.path.isdir(path+'/'+fileName))"
      ],
      "execution_count": 28,
      "outputs": [
        {
          "output_type": "stream",
          "name": "stdout",
          "text": [
            "Is \"sample_data\" a dictionary? True\n",
            "Is \"anscombe.json\" a dictionary? False\n",
            "Is \"README.md\" a dictionary? False\n",
            "Is \"mnist_test.csv\" a dictionary? False\n",
            "Is \"california_housing_test.csv\" a dictionary? False\n",
            "Is \"mnist_train_small.csv\" a dictionary? False\n",
            "Is \"california_housing_train.csv\" a dictionary? False\n"
          ]
        }
      ]
    },
    {
      "cell_type": "markdown",
      "metadata": {
        "id": "xJODvxn7KtkK"
      },
      "source": [
        "## Topic 5(主題5)-檔名匹配(glob)-Python Standard Library\n",
        "\n",
        "glob使用UNIX shell規則查找與一個模式匹配的文件名。只要程序需要查找文件系統中名字與某個模式匹配的一組文件，就可以使用這個模塊。"
      ]
    },
    {
      "cell_type": "markdown",
      "metadata": {
        "id": "uXn60Gi8JmFM"
      },
      "source": [
        "### Step 16: 星號匹配"
      ]
    },
    {
      "cell_type": "code",
      "metadata": {
        "colab": {
          "base_uri": "https://localhost:8080/"
        },
        "id": "66jS38OYJg5r",
        "outputId": "8343ea7c-aa0e-43d7-d451-a0a35cc5e91c"
      },
      "source": [
        "import glob\n",
        "for name in glob.glob('sample_data/*'):\n",
        "  print(name)"
      ],
      "execution_count": 23,
      "outputs": [
        {
          "output_type": "stream",
          "name": "stdout",
          "text": [
            "sample_data/anscombe.json\n",
            "sample_data/README.md\n",
            "sample_data/mnist_test.csv\n",
            "sample_data/california_housing_test.csv\n",
            "sample_data/mnist_train_small.csv\n",
            "sample_data/california_housing_train.csv\n"
          ]
        }
      ]
    },
    {
      "cell_type": "markdown",
      "metadata": {
        "id": "j8McTJs4Hos1"
      },
      "source": [
        "### Step 17: 字元區間匹配"
      ]
    },
    {
      "cell_type": "code",
      "metadata": {
        "colab": {
          "base_uri": "https://localhost:8080/"
        },
        "id": "HCoN3ioBLhLC",
        "outputId": "7c26449f-6af8-4da5-bb80-31a775a8b08e"
      },
      "source": [
        "import glob\n",
        "for name in glob.glob('sample_data/[a-c]*'):\n",
        "  print(name)"
      ],
      "execution_count": 27,
      "outputs": [
        {
          "output_type": "stream",
          "name": "stdout",
          "text": [
            "sample_data/anscombe.json\n",
            "sample_data/california_housing_test.csv\n",
            "sample_data/california_housing_train.csv\n"
          ]
        }
      ]
    },
    {
      "cell_type": "markdown",
      "metadata": {
        "id": "3IhlWtzaFyxi"
      },
      "source": [
        "## Topic 6(主題6)-sys — 系統相關的參數以及函式"
      ]
    }
  ]
}