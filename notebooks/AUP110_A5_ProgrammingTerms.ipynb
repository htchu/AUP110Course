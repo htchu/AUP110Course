{
  "nbformat": 4,
  "nbformat_minor": 0,
  "metadata": {
    "colab": {
      "name": "AUP110_W0ProgrammingTerms.ipynb",
      "provenance": []
    },
    "kernelspec": {
      "name": "python3",
      "display_name": "Python 3"
    },
    "language_info": {
      "name": "python"
    }
  },
  "cells": [
    {
      "cell_type": "markdown",
      "metadata": {
        "id": "WGFpo20FmB1I"
      },
      "source": [
        "# 程式相關語彙 Programming vocabulary"
      ]
    },
    {
      "cell_type": "markdown",
      "metadata": {
        "id": "Z7-eu1uGnGWY"
      },
      "source": [
        "## 程式設計主題-Programming topics"
      ]
    },
    {
      "cell_type": "markdown",
      "metadata": {
        "id": "PC9b9mLRpEYS"
      },
      "source": [
        "### Program 程式"
      ]
    },
    {
      "cell_type": "markdown",
      "metadata": {
        "id": "2ZCDZq5Zo_61"
      },
      "source": [
        "### Code 程式碼"
      ]
    },
    {
      "cell_type": "markdown",
      "metadata": {
        "id": "_oFEXFLOm5gp"
      },
      "source": [
        "### Algorithm 演算法\n"
      ]
    },
    {
      "cell_type": "markdown",
      "metadata": {
        "id": "JXX2pHWwnawR"
      },
      "source": [
        "### Data structure 資料結構"
      ]
    },
    {
      "cell_type": "markdown",
      "metadata": {
        "id": "X6PDQmfrnneN"
      },
      "source": [
        "### Programming 程式設計"
      ]
    },
    {
      "cell_type": "markdown",
      "metadata": {
        "id": "nbDqg6NVnzgM"
      },
      "source": [
        "## 程式設計步驟-Programming steps"
      ]
    },
    {
      "cell_type": "markdown",
      "metadata": {
        "id": "LRbK4H5enuxo"
      },
      "source": [
        "### Program Execution 程式執行 "
      ]
    },
    {
      "cell_type": "markdown",
      "metadata": {
        "id": "ynbKFxIJoTju"
      },
      "source": [
        "### Program Debug 程式偵錯"
      ]
    },
    {
      "cell_type": "markdown",
      "metadata": {
        "id": "azhRk-TjoXnG"
      },
      "source": [
        "### Program Edit 程式編輯 "
      ]
    },
    {
      "cell_type": "markdown",
      "metadata": {
        "id": "CtGGdjijo6J-"
      },
      "source": [
        "## 程式設計工具-Programming tools"
      ]
    },
    {
      "cell_type": "markdown",
      "metadata": {
        "id": "yCzDWAvopRRl"
      },
      "source": [
        "### Editor 編輯器 "
      ]
    },
    {
      "cell_type": "markdown",
      "metadata": {
        "id": "oLRNTddfpZJP"
      },
      "source": [
        "### IDE 整合開發環境\n",
        "IDE的英文全名是Integrated Development Environment，中文譯為：整合開發環境"
      ]
    },
    {
      "cell_type": "markdown",
      "metadata": {
        "id": "KhcTHZ62pnG5"
      },
      "source": [
        "### Notebook 筆記本"
      ]
    },
    {
      "cell_type": "markdown",
      "metadata": {
        "id": "a14l9fpPzL5J"
      },
      "source": [
        "## Python 字彙"
      ]
    },
    {
      "cell_type": "markdown",
      "metadata": {
        "id": "7xfXvn3Cp9Gy"
      },
      "source": [
        "### Python保留字\n",
        "\n",
        "https://docs.python.org/zh-tw/3/library/constants.html\n",
        "\n",
        "Python 有一組關鍵字是保留字，不能用作變量或函數的名稱\n",
        "Python has a set of keywords that are reserved words that cannot be used as variable/function names。\n",
        "\n",
        "| Keyword:   |      Description      | \n",
        "|:----------------|:------------|\n",
        "|and|A logical operator |\n",
        "|as|To create an alias |\n",
        "|assert|For debugging|\n",
        "|break|To break out of a loop|\n",
        "|class|To define a class|\n",
        "|continue|To continue to the next iteration of a loop|\n",
        "|def|To define a function|\n",
        "|del|To delete an object|\n",
        "|elif|Used in conditional statements, same as else if|\n",
        "|else|Used in conditional statements|\n",
        "|except|Used with exceptions, what to do when an exception occurs|\n",
        "|False|Boolean value, result of comparison operations|\n",
        "|finally|Used with exceptions, a block of code that will be executed finnaly|\n",
        "|for|To create a for loop|\t\n",
        "|from|To import specific parts of a module|\n",
        "|global|To declare a global variable|\n",
        "|if|To make a conditional statement|\t\n",
        "|import|To import a module|\n",
        "|in|To check if a value is present in a list, tuple, etc.|\n",
        "|is|To test if two variables are equal|\t\n",
        "|lambda|To create an anonymous function|\n",
        "|None|Represents a null value|\n",
        "|nonlocal|To declare a non-local variable|\t\n",
        "|not|A logical operator|\n",
        "|or|A logical operator|\n",
        "|pass|A null statement, a statement that will do nothing|\n",
        "|raise|To raise an exception|\n",
        "|return|To exit a function and return a value|\n",
        "|True|Boolean value, result of comparison operations|\n",
        "|try|To make a try...except statement|\n",
        "|while|To create a while loop|\n",
        "|with|Used to simplify exception handling|\n",
        "|yield\t|To end a function, returns a generator|"
      ]
    },
    {
      "cell_type": "markdown",
      "metadata": {
        "id": "bWGQgFj-zhaZ"
      },
      "source": [
        "### Python內建函數\n",
        "https://docs.python.org/zh-tw/3/library/functions.html\n",
        "\n",
        "|  |       | ||      | \n",
        "|:----------------|:------------|:------------|:------------|:------------|\n",
        "|abs()|delattr()|hash()|memoryview()|set()|\n",
        "|all()|dict()|help()|min()|setattr()|\n",
        "|any()|dir()hex()|next()|slice()|\n",
        "|ascii()|divmod()|id()|object()|sorted()|\n",
        "|bin()|enumerate()|input()|oct()|staticmethod()|\n",
        "|bool()|eval()|int()|open()|str()|\n",
        "|breakpoint()|exec()|isinstance()|ord()|sum()|\n",
        "|bytearray()|filter()|issubclass()|pow()|super()|\n",
        "|bytes()|float()|iter()|print()|tuple()|\n",
        "|callable()|format()|len()|property()|type()|\n",
        "|chr()|frozenset()|list()|range()|vars()|\n",
        "|classmethod()|getattr()|locals()|repr()|zip()|\n",
        "|compile()|globals()|map()|reversed()|__import__()|\n",
        "|complex()|hasattr()|max()|round()||\n"
      ]
    },
    {
      "cell_type": "code",
      "metadata": {
        "colab": {
          "base_uri": "https://localhost:8080/"
        },
        "id": "PW5zpGjW2ceU",
        "outputId": "0cf22a77-9983-466b-d2be-97b4af2ade75"
      },
      "source": [
        "help(input)"
      ],
      "execution_count": null,
      "outputs": [
        {
          "output_type": "stream",
          "name": "stdout",
          "text": [
            "Help on method raw_input in module ipykernel.kernelbase:\n",
            "\n",
            "raw_input(prompt='') method of google.colab._kernel.Kernel instance\n",
            "    Forward raw_input to frontends\n",
            "    \n",
            "    Raises\n",
            "    ------\n",
            "    StdinNotImplentedError if active frontend doesn't support stdin.\n",
            "\n"
          ]
        }
      ]
    },
    {
      "cell_type": "code",
      "metadata": {
        "colab": {
          "base_uri": "https://localhost:8080/"
        },
        "id": "bBd5MREl2heB",
        "outputId": "cb43d5b3-ef06-417f-f288-359952672535"
      },
      "source": [
        "help(print)"
      ],
      "execution_count": null,
      "outputs": [
        {
          "output_type": "stream",
          "name": "stdout",
          "text": [
            "Help on built-in function print in module builtins:\n",
            "\n",
            "print(...)\n",
            "    print(value, ..., sep=' ', end='\\n', file=sys.stdout, flush=False)\n",
            "    \n",
            "    Prints the values to a stream, or to sys.stdout by default.\n",
            "    Optional keyword arguments:\n",
            "    file:  a file-like object (stream); defaults to the current sys.stdout.\n",
            "    sep:   string inserted between values, default a space.\n",
            "    end:   string appended after the last value, default a newline.\n",
            "    flush: whether to forcibly flush the stream.\n",
            "\n"
          ]
        }
      ]
    },
    {
      "cell_type": "code",
      "metadata": {
        "id": "_bctExZF2izz"
      },
      "source": [
        "help(int)"
      ],
      "execution_count": null,
      "outputs": []
    },
    {
      "cell_type": "code",
      "metadata": {
        "id": "Aoy9szRI2lMk"
      },
      "source": [
        "help(str)"
      ],
      "execution_count": null,
      "outputs": []
    },
    {
      "cell_type": "code",
      "metadata": {
        "id": "wHLxlPWb2zUa"
      },
      "source": [
        "help(list)"
      ],
      "execution_count": null,
      "outputs": []
    },
    {
      "cell_type": "code",
      "metadata": {
        "id": "gelajjRh20ta"
      },
      "source": [
        "help(dict)"
      ],
      "execution_count": null,
      "outputs": []
    },
    {
      "cell_type": "code",
      "metadata": {
        "id": "U5gVg8D12wwN"
      },
      "source": [
        "help(max)"
      ],
      "execution_count": null,
      "outputs": []
    },
    {
      "cell_type": "code",
      "metadata": {
        "id": "75idxOF224Tn"
      },
      "source": [
        "help(sorted)"
      ],
      "execution_count": null,
      "outputs": []
    }
  ]
}