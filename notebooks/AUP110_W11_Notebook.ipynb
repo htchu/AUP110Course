{
 "cells": [
  {
   "cell_type": "markdown",
   "metadata": {
    "id": "EUjJ7ImLnPVr"
   },
   "source": [
    "# AU Fundamentals of Python Programming-W10X\n",
    "\n"
   ]
  },
  {
   "cell_type": "markdown",
   "metadata": {
    "id": "kLe1GoiTtrgI"
   },
   "source": [
    "## Topic 1(主題1)-字串和print()的參數"
   ]
  },
  {
   "cell_type": "markdown",
   "metadata": {
    "id": "cHiXWmApnZ_W"
   },
   "source": [
    "### Step 1: Hello World with 其他參數\n",
    "sep = \"...\" 列印分隔 end=\"\" 列印結尾\n",
    "* sep:   string inserted between values, default a space.\n",
    "* end:   string appended after the last value, default a newline."
   ]
  },
  {
   "cell_type": "code",
   "execution_count": null,
   "metadata": {
    "id": "8JL0O3Dw0hVK"
   },
   "outputs": [],
   "source": [
    "print('Hello World!') #'Hello World!' is the same as \"Hello World!\""
   ]
  },
  {
   "cell_type": "code",
   "execution_count": null,
   "metadata": {
    "id": "7honmgYyqx0w"
   },
   "outputs": [],
   "source": [
    "help(print) #註解是不會執行的"
   ]
  },
  {
   "cell_type": "code",
   "execution_count": null,
   "metadata": {
    "id": "eF-jycTxnY9-"
   },
   "outputs": [],
   "source": [
    "print('Hello '+'World!')\n",
    "print(\"Hello\",\"World\", sep=\"+\")"
   ]
  },
  {
   "cell_type": "code",
   "execution_count": null,
   "metadata": {
    "id": "EbZnPm_GnzgW"
   },
   "outputs": [],
   "source": [
    "print(\"Hello\");  print(\"World!\")\n",
    "print(\"Hello\", end=' ');print(\"World\")\n"
   ]
  },
  {
   "cell_type": "markdown",
   "metadata": {
    "id": "dLQMkIjNoqVk"
   },
   "source": [
    "### Step 2: Escape Sequence (逸出序列)\n",
    "* \\newline\tIgnored\n",
    "* \\\\\tBackslash (\\)\n",
    "* \\'\tSingle quote (')\n",
    "* \\\"\tDouble quote (\")\n",
    "* \\a\tASCII Bell (BEL)\n",
    "* \\b\tASCII Backspace (BS)\n",
    "* \\n\tASCII Linefeed (LF)\n",
    "* \\r\tASCII Carriage Return (CR)\n",
    "* \\t\tASCII Horizontal Tab (TAB)\n",
    "* \\ooo\tASCII character with octal value ooo\n",
    "* \\xhh...\tASCII character with hex value hh..."
   ]
  },
  {
   "cell_type": "code",
   "execution_count": null,
   "metadata": {
    "id": "bmFJ7Wp44GVV"
   },
   "outputs": [],
   "source": [
    "print(\"Hello\\nWorld!\")\n",
    "print(\"Hello\",\"World!\", sep=\"\\n\")"
   ]
  },
  {
   "cell_type": "code",
   "execution_count": null,
   "metadata": {
    "id": "3kgDVhLd38X-"
   },
   "outputs": [],
   "source": [
    "txt = \"We are the so-called \\\"Vikings\\\" from the north.\"\n",
    "print(txt)"
   ]
  },
  {
   "cell_type": "markdown",
   "metadata": {
    "id": "nP5g24v35FxO"
   },
   "source": [
    "### Step 3: 使用 字串尾部的\\來建立長字串"
   ]
  },
  {
   "cell_type": "code",
   "execution_count": null,
   "metadata": {
    "id": "5bwCWfhb4BWC"
   },
   "outputs": [],
   "source": [
    "iPhone11='iPhone 11是由蘋果公司設計和銷售的智能手機，為第13代iPhone系列智能手機之一，亦是iPhone XR的後繼機種。\\\n",
    "其在2019年9月10日於蘋果園區史蒂夫·喬布斯劇院由CEO蒂姆·庫克隨iPhone 11 Pro及iPhone 11 Pro Max一起發佈，\\\n",
    "並於2019年9月20日在世界大部分地區正式發售。其採用類似iPhone XR的玻璃配鋁金屬設計；\\\n",
    "具有6.1英吋Liquid Retina HD顯示器，配有Face ID；並採用由蘋果自家設計的A13仿生晶片，\\\n",
    "帶有第三代神經網絡引擎。機器能夠防濺、耐水及防塵，在最深2米的水下停留時間最長可達30分鐘。'\n",
    "print(iPhone11)"
   ]
  },
  {
   "cell_type": "markdown",
   "metadata": {
    "id": "RATZKmu_n4_F"
   },
   "source": [
    "### Step 4: 使用六個雙引號來建立長字串 ''' ... ''' 或 \"\"\" ... \"\"\""
   ]
  },
  {
   "cell_type": "code",
   "execution_count": null,
   "metadata": {
    "id": "gT0F-QA32PX9"
   },
   "outputs": [],
   "source": [
    "iPhone11='''\n",
    "iPhone 11是由蘋果公司設計和銷售的智能手機，為第13代iPhone系列智能手機之一，亦是iPhone XR的後繼機種。\n",
    "其在2019年9月10日於蘋果園區史蒂夫·喬布斯劇院由CEO蒂姆·庫克隨iPhone 11 Pro及iPhone 11 Pro Max一起發佈，\n",
    "並於2019年9月20日在世界大部分地區正式發售。其採用類似iPhone XR的玻璃配鋁金屬設計；\n",
    "具有6.1英吋Liquid Retina HD顯示器，配有Face ID；並採用由蘋果自家設計的A13仿生晶片，\n",
    "帶有第三代神經網絡引擎。機器能夠防濺、耐水及防塵，在最深2米的水下停留時間最長可達30分鐘。'''\n",
    "print(iPhone11)"
   ]
  },
  {
   "cell_type": "code",
   "execution_count": null,
   "metadata": {
    "id": "51DvARA85pGU"
   },
   "outputs": [],
   "source": [
    "iPhone11=\"\"\"\n",
    "iPhone 11是由蘋果公司設計和銷售的智能手機，為第13代iPhone系列智能手機之一，亦是iPhone XR的後繼機種。\n",
    "其在2019年9月10日於蘋果園區史蒂夫·喬布斯劇院由CEO蒂姆·庫克隨iPhone 11 Pro及iPhone 11 Pro Max一起發佈，\n",
    "並於2019年9月20日在世界大部分地區正式發售。其採用類似iPhone XR的玻璃配鋁金屬設計；\n",
    "具有6.1英吋Liquid Retina HD顯示器，配有Face ID；並採用由蘋果自家設計的A13仿生晶片，\n",
    "帶有第三代神經網絡引擎。機器能夠防濺、耐水及防塵，在最深2米的水下停留時間最長可達30分鐘。\"\"\"\n",
    "print(iPhone11)"
   ]
  },
  {
   "cell_type": "markdown",
   "metadata": {
    "id": "uFtavdB97bDV"
   },
   "source": [
    "## Topic 2(主題2)-型別轉換函數\n"
   ]
  },
  {
   "cell_type": "markdown",
   "metadata": {
    "id": "VnMo1y-kujl2"
   },
   "source": [
    "### Step 5: 輸入變數的值"
   ]
  },
  {
   "cell_type": "code",
   "execution_count": null,
   "metadata": {
    "id": "uJbEBoQR3QTM"
   },
   "outputs": [],
   "source": [
    "name = input('Please input your name：')\n",
    "print('Hello, ', name)\n",
    "print(type(name))   #列印變數的型別"
   ]
  },
  {
   "cell_type": "markdown",
   "metadata": {
    "id": "0lP1OF6awu5J"
   },
   "source": [
    "### Step 6: Python 型別轉換函數\n",
    "* int()    #變整數\n",
    "* float()  #變浮點數\n",
    "* str()    #變字串\n",
    "* 變數名稱=int(字串變數)\n",
    "* 變數名稱=str(數值變數"
   ]
  },
  {
   "cell_type": "code",
   "execution_count": null,
   "metadata": {
    "id": "YFol-Wm-xNEO"
   },
   "outputs": [],
   "source": [
    "#變數宣告\n",
    "varA = 66 #宣告一個整數變數\n",
    "varB = 1.68 #宣告一個有小數的變數(電腦叫浮點數)\n",
    "varC = 'GoPython' #宣告一個字串變數\n",
    "varD = str(varA) #將整數88轉成字串的88\n",
    "varE = str(varB) #將浮點數1.68轉成字串的1.68\n",
    "varF = int('2019') #將字串2019轉作整數數值的2019\n",
    "varG = float('3.14') #將字串3.14轉作浮點數數值的3.14\n"
   ]
  },
  {
   "cell_type": "code",
   "execution_count": null,
   "metadata": {
    "id": "TTW4smZex00n"
   },
   "outputs": [],
   "source": [
    "score = input('Please input your score：')\n",
    "score = int(score)\n",
    "print(type(score))   #列印變數的型別"
   ]
  },
  {
   "cell_type": "markdown",
   "metadata": {
    "id": "nQJ1uTEYvPwL"
   },
   "source": [
    "## Topic 3(主題3)-索引和切片\n",
    "```\n",
    "a = \"Hello, World!\"\n",
    "print(a[1]) #Indexing\n",
    "print(a[2:5]) #Slicing\n",
    "```"
   ]
  },
  {
   "cell_type": "markdown",
   "metadata": {
    "id": "2INtSe_Gv-wl"
   },
   "source": [
    "### Step 8: 索引(Indexing)"
   ]
  },
  {
   "cell_type": "code",
   "execution_count": null,
   "metadata": {
    "id": "4z4GBkIpwjKW"
   },
   "outputs": [],
   "source": [
    "a = \"Hello Wang\"\n",
    "d = \"0123456789\"\n",
    "print(a[3]) #Indexing"
   ]
  },
  {
   "cell_type": "code",
   "execution_count": null,
   "metadata": {
    "id": "-qpLars69Ai3"
   },
   "outputs": [],
   "source": [
    "a = \"Hello Wang\"\n",
    "d = \"0123456789\"\n",
    "print(a[-3]) #Negative Indexing"
   ]
  },
  {
   "cell_type": "markdown",
   "metadata": {
    "id": "nBU6Jd88wve6"
   },
   "source": [
    "### Step 9: 切片(Slicing)"
   ]
  },
  {
   "cell_type": "code",
   "execution_count": null,
   "metadata": {
    "id": "EyiI9xOBw1g_"
   },
   "outputs": [],
   "source": [
    "a = \"Hello Wang\"\n",
    "d = \"0123456789\"\n",
    "print(a[2:5]) #Slicing"
   ]
  },
  {
   "cell_type": "code",
   "execution_count": null,
   "metadata": {
    "id": "aoQN7pt99L0a"
   },
   "outputs": [],
   "source": [
    "a = \"Hello Wang\"\n",
    "d = \"0123456789\"\n",
    "print(a[2:]) #Slicing"
   ]
  },
  {
   "cell_type": "code",
   "execution_count": null,
   "metadata": {
    "id": "bJy5GAyg9OXD"
   },
   "outputs": [],
   "source": [
    "a = \"Hello Wang\"\n",
    "d = \"0123456789\"\n",
    "print(a[:5]) #Slicing"
   ]
  },
  {
   "cell_type": "code",
   "execution_count": null,
   "metadata": {
    "id": "0vE5S0539Ryp"
   },
   "outputs": [],
   "source": [
    "a = \"Hello Wang\"\n",
    "d = \"0123456789\"\n",
    "print(a[-6:-2]) #Slicing"
   ]
  },
  {
   "cell_type": "code",
   "execution_count": null,
   "metadata": {
    "id": "TAe-e_nE9aTb"
   },
   "outputs": [],
   "source": [
    "a = \"Hello Wang\"\n",
    "d = \"0123456789\"\n",
    "print(a[-4:]) #Slicing"
   ]
  },
  {
   "cell_type": "markdown",
   "metadata": {
    "id": "dRdtCudyzjfI"
   },
   "source": [
    "## Topic 4(主題4)-格式化輸出\n",
    "```\n",
    "A = 435; B = 59.058\n",
    "print('Art: %5d, Price per Unit: %8.2f' % (A, B))          #%-formatting 格式化列印\n",
    "print(\"Art: {0:5d}, Price per Unit: {1:8.2f}\".format(A,B)) #str-format（Python 2.6+）\n",
    "print(f\"Art:{A:5d}, Price per Unit: {B:8.2f}\")             #f-string （Python 3.6+）\n",
    "```"
   ]
  },
  {
   "cell_type": "markdown",
   "metadata": {
    "id": "b_OsCdmjz7_e"
   },
   "source": [
    "### Step 10: %-formatting 格式化列印\n",
    "透過% 運算符號，將在元組（tuple）中的一組變量依照指定的格式化方式輸出。如 %s（字串）、%d （十進位整數）、 %f（浮點數）"
   ]
  },
  {
   "cell_type": "code",
   "execution_count": null,
   "metadata": {
    "id": "b1tRdaFu3jX0"
   },
   "outputs": [],
   "source": [
    "A = 435; B = 59.058\n",
    "print('Art: %5d, Price per Unit: %8.2f' % (A, B))"
   ]
  },
  {
   "cell_type": "code",
   "execution_count": null,
   "metadata": {
    "colab": {
     "base_uri": "https://localhost:8080/",
     "height": 34
    },
    "executionInfo": {
     "elapsed": 984,
     "status": "ok",
     "timestamp": 1602009030516,
     "user": {
      "displayName": "Hsueh-Ting Chu",
      "photoUrl": "https://lh3.googleusercontent.com/a-/AOh14GhjZzSScd4C7GeSLbsZaxvk3HSuE8FYBfeM8i1FYg=s64",
      "userId": "03319341302301572023"
     },
     "user_tz": -480
    },
    "id": "vQpkjcRGLHeE",
    "outputId": "fb0fd45f-e5ee-49b5-dda1-1569742f2832"
   },
   "outputs": [
    {
     "name": "stdout",
     "output_type": "stream",
     "text": [
      "She is Mary Lin\n"
     ]
    }
   ],
   "source": [
    "FirstName = \"Mary\"; LastName= \"Lin\"\n",
    "print(\"She is %s %s\" %(FirstName, LastName))"
   ]
  },
  {
   "cell_type": "markdown",
   "metadata": {
    "id": "d3ZoFghS1Eir"
   },
   "source": [
    "### Step 11: str-format（Python 2.6+）格式化列印"
   ]
  },
  {
   "cell_type": "code",
   "execution_count": null,
   "metadata": {
    "id": "Y0ZTqGnr1BTo"
   },
   "outputs": [],
   "source": [
    "A = 435; B = 59.058\n",
    "print(\"Art: {0:5d}, Price per Unit: {1:8.2f}\".format(435, 59.058))"
   ]
  },
  {
   "cell_type": "code",
   "execution_count": null,
   "metadata": {
    "colab": {
     "base_uri": "https://localhost:8080/",
     "height": 34
    },
    "executionInfo": {
     "elapsed": 960,
     "status": "ok",
     "timestamp": 1602009134121,
     "user": {
      "displayName": "Hsueh-Ting Chu",
      "photoUrl": "https://lh3.googleusercontent.com/a-/AOh14GhjZzSScd4C7GeSLbsZaxvk3HSuE8FYBfeM8i1FYg=s64",
      "userId": "03319341302301572023"
     },
     "user_tz": -480
    },
    "id": "EwX8WNCzLgbU",
    "outputId": "2b6bce0c-7d0e-442b-8597-28dbb2fb3580"
   },
   "outputs": [
    {
     "name": "stdout",
     "output_type": "stream",
     "text": [
      "She is Mary Lin\n"
     ]
    }
   ],
   "source": [
    "FirstName = \"Mary\"; LastName= \"Lin\"\n",
    "print(\"She is {} {}\".format(FirstName, LastName))"
   ]
  },
  {
   "cell_type": "markdown",
   "metadata": {
    "id": "PPziADEY1uLb"
   },
   "source": [
    "### Step 12: f-string （Python 3.6+）格式化列印"
   ]
  },
  {
   "cell_type": "code",
   "execution_count": null,
   "metadata": {
    "id": "h_Th9s8812ke"
   },
   "outputs": [],
   "source": [
    "A = 435; B = 59.058\n",
    "print(f\"Art:{A:5d}, Price per Unit: {B:8.2f}\")"
   ]
  },
  {
   "cell_type": "code",
   "execution_count": null,
   "metadata": {
    "colab": {
     "base_uri": "https://localhost:8080/",
     "height": 34
    },
    "executionInfo": {
     "elapsed": 979,
     "status": "ok",
     "timestamp": 1602009163880,
     "user": {
      "displayName": "Hsueh-Ting Chu",
      "photoUrl": "https://lh3.googleusercontent.com/a-/AOh14GhjZzSScd4C7GeSLbsZaxvk3HSuE8FYBfeM8i1FYg=s64",
      "userId": "03319341302301572023"
     },
     "user_tz": -480
    },
    "id": "cXq7y6IsL4yP",
    "outputId": "3fc49519-6f4e-46bc-b53f-0e946764f0aa"
   },
   "outputs": [
    {
     "name": "stdout",
     "output_type": "stream",
     "text": [
      "She is Mary Lin\n"
     ]
    }
   ],
   "source": [
    "FirstName = \"Mary\"; LastName= \"Lin\"\n",
    "print(f\"She is {FirstName} {LastName}\")"
   ]
  }
 ],
 "metadata": {
  "colab": {
   "name": "AUPython-W10X.ipynb",
   "provenance": [
    {
     "file_id": "1SMkIGw6ns8qmTCqBZkIx1AC2PPBb736x",
     "timestamp": 1602517368606
    },
    {
     "file_id": "125J9OavrIedCKj2WrLuWtDZhM05rFA9o",
     "timestamp": 1602517349936
    },
    {
     "file_id": "1GVp3lV2O8Lt84DBHf_2HWV-k3LbxuZgD",
     "timestamp": 1602517332956
    },
    {
     "file_id": "1-sOlM5gnjXT4BuUw75fcItqEGXKSQ62Z",
     "timestamp": 1602517315061
    },
    {
     "file_id": "1fvBHhyx5HM_s6X_XqiVRY2sFBdgWcR6p",
     "timestamp": 1602517280402
    },
    {
     "file_id": "12RGkebp0l7RfBLcMK64Usni4xnhwEtt4",
     "timestamp": 1602517229661
    },
    {
     "file_id": "1a__-B_dtsembRipucBL2wkIIe4a6aMRl",
     "timestamp": 1601990504926
    }
   ]
  },
  "kernelspec": {
   "display_name": "Python 3",
   "language": "python",
   "name": "python3"
  },
  "language_info": {
   "codemirror_mode": {
    "name": "ipython",
    "version": 3
   },
   "file_extension": ".py",
   "mimetype": "text/x-python",
   "name": "python",
   "nbconvert_exporter": "python",
   "pygments_lexer": "ipython3",
   "version": "3.7.6"
  }
 },
 "nbformat": 4,
 "nbformat_minor": 1
}
