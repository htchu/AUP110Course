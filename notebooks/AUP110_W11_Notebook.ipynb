{
  "nbformat": 4,
  "nbformat_minor": 0,
  "metadata": {
    "colab": {
      "name": "AUP110_W11_Notebook.ipynb",
      "provenance": [],
      "toc_visible": true
    },
    "kernelspec": {
      "display_name": "Python 3",
      "language": "python",
      "name": "python3"
    },
    "language_info": {
      "codemirror_mode": {
        "name": "ipython",
        "version": 3
      },
      "file_extension": ".py",
      "mimetype": "text/x-python",
      "name": "python",
      "nbconvert_exporter": "python",
      "pygments_lexer": "ipython3",
      "version": "3.7.6"
    }
  },
  "cells": [
    {
      "cell_type": "markdown",
      "metadata": {
        "id": "Quj7HWO3VoYA"
      },
      "source": [
        "![image](https://www.python.org/static/img/python-logo.png)\n",
        "# 亞洲大學基礎程式設計教材(AUP110-Fundamentals of Programming)\n",
        "[![Open In Colab](https://colab.research.google.com/assets/colab-badge.svg)](https://colab.research.google.com/github/googlecolab/colabtools/blob/master/notebooks/colab-github-demo.ipynb)"
      ]
    },
    {
      "cell_type": "markdown",
      "metadata": {
        "id": "EUjJ7ImLnPVr"
      },
      "source": [
        "# Week11-進階流程控制\n",
        "\n"
      ]
    },
    {
      "cell_type": "markdown",
      "metadata": {
        "id": "kLe1GoiTtrgI"
      },
      "source": [
        "## Topic 1(主題1)-基本流程複習"
      ]
    },
    {
      "cell_type": "markdown",
      "metadata": {
        "id": "FZarHNOWTe_g"
      },
      "source": [
        "### Step 1: if-condition\n",
        "\n",
        "<img src=\"https://i.ibb.co/sv727Wq/if-condition.png\" alt=\"alt text\" width=\"400\">\n"
      ]
    },
    {
      "cell_type": "code",
      "metadata": {
        "id": "T3MCXHO5_QjD"
      },
      "source": [
        "bmi = 32\n",
        "if bmi>30.0:\n",
        "  print(\"Obesity\")"
      ],
      "execution_count": null,
      "outputs": []
    },
    {
      "cell_type": "code",
      "metadata": {
        "id": "JpCRue7n_1KB"
      },
      "source": [
        "bmi = 20\n",
        "if bmi>24.0:\n",
        "  print(\"Overweight\")\n",
        "else:\n",
        "  print(\"Healthy weight\")"
      ],
      "execution_count": null,
      "outputs": []
    },
    {
      "cell_type": "code",
      "metadata": {
        "id": "dUfurdKFADV0"
      },
      "source": [
        "bmi = 16\n",
        "if bmi>24.0:\n",
        "  print(\"Overweight\")\n",
        "elif bmi<18.5:\n",
        "  print(\"Underweight\")\n",
        "else:\n",
        "  print(\"Healthy weight\")"
      ],
      "execution_count": null,
      "outputs": []
    },
    {
      "cell_type": "markdown",
      "metadata": {
        "id": "NrtKVCwvTi4m"
      },
      "source": [
        "### Step 2: for-loop\n",
        "<img src=\"https://i.ibb.co/vmWzNrx/2021-11-07-184655.jpg\" alt=\"2021-11-07-184655\" border=\"0\">"
      ]
    },
    {
      "cell_type": "code",
      "metadata": {
        "colab": {
          "base_uri": "https://localhost:8080/"
        },
        "id": "d9BJMcQnBCgp",
        "outputId": "5a48e7c2-f4b3-4295-eda7-d1d206675555"
      },
      "source": [
        "for n in [1, 3, 5, 7]:\n",
        "  print(n)"
      ],
      "execution_count": 1,
      "outputs": [
        {
          "output_type": "stream",
          "name": "stdout",
          "text": [
            "1\n",
            "3\n",
            "5\n",
            "7\n"
          ]
        }
      ]
    },
    {
      "cell_type": "code",
      "metadata": {
        "colab": {
          "base_uri": "https://localhost:8080/"
        },
        "id": "_X__MHNoBwoX",
        "outputId": "8709f733-e7d2-46c4-e065-d0aab626ef54"
      },
      "source": [
        "for n in range(1, 8, 2):\n",
        "  print(n)"
      ],
      "execution_count": 2,
      "outputs": [
        {
          "output_type": "stream",
          "name": "stdout",
          "text": [
            "1\n",
            "3\n",
            "5\n",
            "7\n"
          ]
        }
      ]
    },
    {
      "cell_type": "markdown",
      "metadata": {
        "id": "mmPmGJQLTr1F"
      },
      "source": [
        "### Step 3: while-loop"
      ]
    },
    {
      "cell_type": "code",
      "metadata": {
        "colab": {
          "base_uri": "https://localhost:8080/"
        },
        "id": "qdyTIDh3CACy",
        "outputId": "0c267aec-5c3b-4147-f475-78179843420f"
      },
      "source": [
        "n = 1\n",
        "while n < 8:\n",
        "  print(n)\n",
        "  n += 2"
      ],
      "execution_count": 3,
      "outputs": [
        {
          "output_type": "stream",
          "name": "stdout",
          "text": [
            "1\n",
            "3\n",
            "5\n",
            "7\n"
          ]
        }
      ]
    },
    {
      "cell_type": "markdown",
      "metadata": {
        "id": "3zBkfEMqT6rG"
      },
      "source": [
        "### Step 4: 迴圈內的 break 陳述式"
      ]
    },
    {
      "cell_type": "code",
      "metadata": {
        "id": "MMM8WbD9CRIY"
      },
      "source": [
        "i = 1\n",
        "while i < 6:\n",
        "  print(i)\n",
        "  if i == 3:\n",
        "    break\n",
        "  i += 1"
      ],
      "execution_count": null,
      "outputs": []
    },
    {
      "cell_type": "markdown",
      "metadata": {
        "id": "DX6_oDd9CRnq"
      },
      "source": [
        "### Step 5: 迴圈內的 continue 陳述式"
      ]
    },
    {
      "cell_type": "code",
      "metadata": {
        "id": "imgF51a7CZtE"
      },
      "source": [
        "i = 0\n",
        "while i < 6:\n",
        "  i += 1\n",
        "  if i == 3:\n",
        "    continue\n",
        "  print(i)"
      ],
      "execution_count": null,
      "outputs": []
    },
    {
      "cell_type": "markdown",
      "metadata": {
        "id": "7RVMfQ0OT_ww"
      },
      "source": [
        "### Step 6: 迴圈內的pass 陳述式\n",
        "\n",
        "pass 陳述式不執行任何動作。它可用在語法上需要一個陳述式但程式不需要執行任何動作的時候。"
      ]
    },
    {
      "cell_type": "code",
      "metadata": {
        "id": "oJ-yi3vzxlVt"
      },
      "source": [
        "while True:\n",
        "    pass"
      ],
      "execution_count": null,
      "outputs": []
    },
    {
      "cell_type": "code",
      "metadata": {
        "id": "m-_uu2rzx8jO"
      },
      "source": [
        "def foo(*args):\n",
        "    pass "
      ],
      "execution_count": 4,
      "outputs": []
    },
    {
      "cell_type": "markdown",
      "metadata": {
        "id": "jm_cpk5vUL1g"
      },
      "source": [
        "## Topic 2(主題2)-錯誤和例外\n",
        "https://docs.python.org/zh-tw/3/tutorial/errors.html\n",
        "\n",
        "```\n",
        "try:\n",
        "    # 想要執行的程式碼\n",
        "    ...\n",
        "except (例外錯誤類型1, 例外錯誤類型2, …) as 例外物件:\n",
        "    # 發生例外錯誤類型1或是例外錯誤類型2…時要執行的程式碼\n",
        "    ...\n",
        "except (例外錯誤類型3, 例外錯誤類型4, …) as 例外物件:\n",
        "    # 發生例外錯誤類型3或是例外錯誤類型4…時要執行的程式碼\n",
        "    ...\n",
        "else:\n",
        "    # try指令裏頭的程式順利執行完畢，沒有發生任何錯誤時執行\n",
        "    ...\n",
        "finally:\n",
        "    # 不管有沒有發生錯誤，最後都會執行\n",
        "    ...\n",
        "```"
      ]
    },
    {
      "cell_type": "markdown",
      "metadata": {
        "id": "IxwbTkaVVsYu"
      },
      "source": [
        "### Step 7: 例外錯誤處理exception"
      ]
    },
    {
      "cell_type": "code",
      "metadata": {
        "colab": {
          "base_uri": "https://localhost:8080/"
        },
        "id": "9v2kP0WTyvwL",
        "outputId": "64ec49ed-71d8-41c0-96aa-b3dfe60fbe2c"
      },
      "source": [
        "try:\n",
        "  print(x)\n",
        "except:\n",
        "  print(\"An exception occurred\")"
      ],
      "execution_count": 5,
      "outputs": [
        {
          "output_type": "stream",
          "name": "stdout",
          "text": [
            "An exception occurred\n"
          ]
        }
      ]
    },
    {
      "cell_type": "markdown",
      "metadata": {
        "id": "hzxDACRSy-Oo"
      },
      "source": [
        "### Step 8: 例外錯誤處理Else"
      ]
    },
    {
      "cell_type": "code",
      "metadata": {
        "id": "xs4J2M_2zFVY"
      },
      "source": [
        "try:\n",
        "  print(\"Hello\")\n",
        "except:\n",
        "  print(\"Something went wrong\")\n",
        "else:\n",
        "  print(\"Nothing went wrong\")"
      ],
      "execution_count": null,
      "outputs": []
    },
    {
      "cell_type": "markdown",
      "metadata": {
        "id": "V09ZggwKWmuT"
      },
      "source": [
        "### Step 9: finally"
      ]
    },
    {
      "cell_type": "code",
      "metadata": {
        "id": "pgKMP1P5y9WF"
      },
      "source": [
        "try:\n",
        "  print(x)\n",
        "except:\n",
        "  print(\"Something went wrong\")\n",
        "finally:\n",
        "  print(\"The 'try except' is finished\")"
      ],
      "execution_count": null,
      "outputs": []
    },
    {
      "cell_type": "markdown",
      "metadata": {
        "id": "pXi6qnJIzOte"
      },
      "source": [
        "## Topic 3(主題3)-match-case 陳述式\n",
        " (New In Python 3.10) (PEP 634-PEP 636)"
      ]
    },
    {
      "cell_type": "markdown",
      "metadata": {
        "id": "Kn-bMWgfUR4E"
      },
      "source": [
        "### Step 10: match-case 處理指令\n",
        "\n",
        "```\n",
        "match command.split():\n",
        "    case [\"quit\"]:\n",
        "        print(\"Goodbye!\")\n",
        "        quit_game()\n",
        "    case [\"look\"]:\n",
        "        current_room.describe()\n",
        "    case [\"get\", obj]:\n",
        "        character.get(obj, current_room)\n",
        "    case [\"go\", direction]:\n",
        "        current_room = current_room.neighbor(direction)\n",
        "    # The rest of your commands go here\n",
        "```"
      ]
    },
    {
      "cell_type": "markdown",
      "metadata": {
        "id": "C-iFzAh8zztP"
      },
      "source": [
        "### Step 11: match-case 處理不同訊號"
      ]
    },
    {
      "cell_type": "markdown",
      "metadata": {
        "id": "8YZRZbJvToeB"
      },
      "source": [
        "```\n",
        "for thing in [1,2,3,4]:\n",
        "    match thing:\n",
        "        case 1:\n",
        "            print(\"thing is 1\")\n",
        "        case 2:\n",
        "            print(\"thing is 2\")\n",
        "        case 3:\n",
        "            print(\"thing is 3\")\n",
        "        case _:\n",
        "            print(\"thing is not 1, 2 or 3\")\n",
        "```"
      ]
    },
    {
      "cell_type": "code",
      "metadata": {
        "colab": {
          "base_uri": "https://localhost:8080/"
        },
        "id": "7r6gRJh6SQi1",
        "outputId": "4a0eb6fe-e621-43ee-99c3-8a1d54c66dc8"
      },
      "source": [
        "for thing in [1,2,3,4]:\n",
        "    if thing == 1:\n",
        "        print(\"thing is 1\")\n",
        "    elif thing == 2:\n",
        "        print(\"thing is 2\")\n",
        "    elif thing == 3:\n",
        "        print(\"thing is 3\")\n",
        "    else:\n",
        "        print(\"thing is not 1, 2 or 3\")"
      ],
      "execution_count": 4,
      "outputs": [
        {
          "output_type": "stream",
          "name": "stdout",
          "text": [
            "thing is 1\n",
            "thing is 2\n",
            "thing is 3\n",
            "thing is not 1, 2 or 3\n"
          ]
        }
      ]
    },
    {
      "cell_type": "markdown",
      "metadata": {
        "id": "RQ86QI4eYH1i"
      },
      "source": [
        "## Topic 4(主題4)-迭代器（iterator）\n",
        "https://docs.python.org/3/library/itertools.html\n",
        "\n",
        "* iterator（疊代器）是一個表示資料流的物件。\n",
        "* 重複地呼叫疊代器的 __next__() method。\n",
        "* 當不再有資料時，則會引發 StopIteration 例外。\n",
        "* 疊代器必須有一個 __iter__() method，它會回傳疊代器物件本身。"
      ]
    },
    {
      "cell_type": "markdown",
      "metadata": {
        "id": "jMm7Rh7N0xYq"
      },
      "source": [
        "### Step 12: 使用迭代器的for-loop\n"
      ]
    },
    {
      "cell_type": "code",
      "metadata": {
        "colab": {
          "base_uri": "https://localhost:8080/"
        },
        "id": "m-I9xTiH2BOv",
        "outputId": "d290bedc-e01d-4f09-b634-74156eee6b25"
      },
      "source": [
        "for n in [1,2,3,4]:\n",
        "  print(n**2, end=\" \")"
      ],
      "execution_count": 6,
      "outputs": [
        {
          "output_type": "stream",
          "name": "stdout",
          "text": [
            "1 4 9 16 "
          ]
        }
      ]
    },
    {
      "cell_type": "code",
      "metadata": {
        "colab": {
          "base_uri": "https://localhost:8080/"
        },
        "id": "VImUvq1v2LZn",
        "outputId": "fc3089f7-732c-498d-9475-42f0cae9f061"
      },
      "source": [
        "a = iter([1,2,3,4])\n",
        "while True:\n",
        "  try:\n",
        "    n = next(a)\n",
        "    print(n**2, end=\" \")\n",
        "  except StopIteration:\n",
        "    break"
      ],
      "execution_count": 14,
      "outputs": [
        {
          "output_type": "stream",
          "name": "stdout",
          "text": [
            "1 4 9 16 "
          ]
        }
      ]
    },
    {
      "cell_type": "markdown",
      "metadata": {
        "id": "JZy0cMb1YnPR"
      },
      "source": [
        "## Topic 5(主題5)-生成式(Comprehension)"
      ]
    },
    {
      "cell_type": "markdown",
      "metadata": {
        "id": "EfqNWsqv4l3V"
      },
      "source": [
        "### Step 13: 串列生成器 (list comprehension)\n",
        "\n",
        "[expression for item in iterable]"
      ]
    },
    {
      "cell_type": "code",
      "metadata": {
        "colab": {
          "base_uri": "https://localhost:8080/"
        },
        "id": "XIwL3MY54mQ_",
        "outputId": "45d1c257-949e-4ea6-ca7e-cbb2cd6e6617"
      },
      "source": [
        "numbers = []\n",
        "for x in range(10):\n",
        "    numbers.append(x ** 2)\n",
        "print(numbers)"
      ],
      "execution_count": 15,
      "outputs": [
        {
          "output_type": "stream",
          "name": "stdout",
          "text": [
            "[0, 1, 4, 9, 16, 25, 36, 49, 64, 81]\n"
          ]
        }
      ]
    },
    {
      "cell_type": "code",
      "metadata": {
        "colab": {
          "base_uri": "https://localhost:8080/"
        },
        "id": "dgmAfKEm6LL-",
        "outputId": "608d1eec-6889-4b6e-d4a1-3150b70f89a1"
      },
      "source": [
        "numbers = [x ** 2 for x in range(10)]\n",
        "print(numbers)"
      ],
      "execution_count": 16,
      "outputs": [
        {
          "output_type": "stream",
          "name": "stdout",
          "text": [
            "[0, 1, 4, 9, 16, 25, 36, 49, 64, 81]\n"
          ]
        }
      ]
    },
    {
      "cell_type": "markdown",
      "metadata": {
        "id": "1Fnb-xxy6RYy"
      },
      "source": [
        "### Step 14: 集合生成器 (set comprehension)"
      ]
    },
    {
      "cell_type": "code",
      "metadata": {
        "colab": {
          "base_uri": "https://localhost:8080/"
        },
        "id": "XWz_8PbG6nOb",
        "outputId": "a3366b82-589a-48b9-edaf-1efce65ca40f"
      },
      "source": [
        "members = {s**2 for s in [1, 2, 1, 0]}\n",
        "print(members)"
      ],
      "execution_count": 18,
      "outputs": [
        {
          "output_type": "stream",
          "name": "stdout",
          "text": [
            "{0, 1, 4}\n"
          ]
        }
      ]
    },
    {
      "cell_type": "code",
      "metadata": {
        "id": "fiOXykby6-Eb"
      },
      "source": [
        "### Step 15: 字典生成器 (Dictionary Comprehension)"
      ],
      "execution_count": null,
      "outputs": []
    },
    {
      "cell_type": "code",
      "metadata": {
        "colab": {
          "base_uri": "https://localhost:8080/"
        },
        "id": "I0XtlSFk7QfM",
        "outputId": "0642dcb5-0acd-4ff3-ebc5-c12ff23978ca"
      },
      "source": [
        "square_dict = dict()\n",
        "for num in range(1, 11):\n",
        "    square_dict[num] = num*num\n",
        "print(square_dict)"
      ],
      "execution_count": 19,
      "outputs": [
        {
          "output_type": "stream",
          "name": "stdout",
          "text": [
            "{1: 1, 2: 4, 3: 9, 4: 16, 5: 25, 6: 36, 7: 49, 8: 64, 9: 81, 10: 100}\n"
          ]
        }
      ]
    },
    {
      "cell_type": "code",
      "metadata": {
        "colab": {
          "base_uri": "https://localhost:8080/"
        },
        "id": "BmtvBTej7WKA",
        "outputId": "cc8ffa9a-3196-420d-eb4b-44b0471b25a8"
      },
      "source": [
        "# dictionary comprehension example\n",
        "square_dict = {num: num*num for num in range(1, 11)}\n",
        "print(square_dict)"
      ],
      "execution_count": 20,
      "outputs": [
        {
          "output_type": "stream",
          "name": "stdout",
          "text": [
            "{1: 1, 2: 4, 3: 9, 4: 16, 5: 25, 6: 36, 7: 49, 8: 64, 9: 81, 10: 100}\n"
          ]
        }
      ]
    }
  ]
}