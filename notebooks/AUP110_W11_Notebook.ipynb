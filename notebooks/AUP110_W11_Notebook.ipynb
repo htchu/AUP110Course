{
  "nbformat": 4,
  "nbformat_minor": 0,
  "metadata": {
    "colab": {
      "name": "AUP110_W11_Notebook.ipynb",
      "provenance": [],
      "collapsed_sections": [],
      "toc_visible": true
    },
    "kernelspec": {
      "display_name": "Python 3",
      "language": "python",
      "name": "python3"
    },
    "language_info": {
      "codemirror_mode": {
        "name": "ipython",
        "version": 3
      },
      "file_extension": ".py",
      "mimetype": "text/x-python",
      "name": "python",
      "nbconvert_exporter": "python",
      "pygments_lexer": "ipython3",
      "version": "3.7.6"
    }
  },
  "cells": [
    {
      "cell_type": "markdown",
      "metadata": {
        "id": "Quj7HWO3VoYA"
      },
      "source": [
        "![image](https://www.python.org/static/img/python-logo.png)\n",
        "# 亞洲大學基礎程式設計教材(AUP110-Fundamentals of Programming)\n",
        "[![Open In Colab](https://colab.research.google.com/assets/colab-badge.svg)](https://colab.research.google.com/github/googlecolab/colabtools/blob/master/notebooks/colab-github-demo.ipynb)"
      ]
    },
    {
      "cell_type": "markdown",
      "metadata": {
        "id": "EUjJ7ImLnPVr"
      },
      "source": [
        "# Week11-進階流程控制\n",
        "\n"
      ]
    },
    {
      "cell_type": "markdown",
      "metadata": {
        "id": "kLe1GoiTtrgI"
      },
      "source": [
        "## Topic 1(主題1)-基本流程複習"
      ]
    },
    {
      "cell_type": "markdown",
      "metadata": {
        "id": "FZarHNOWTe_g"
      },
      "source": [
        "### Step 1: if-condition\n",
        "\n",
        "<img src=\"https://i.ibb.co/sv727Wq/if-condition.png\" alt=\"alt text\" width=\"400\">\n"
      ]
    },
    {
      "cell_type": "code",
      "metadata": {
        "id": "T3MCXHO5_QjD"
      },
      "source": [
        "bmi = 32\n",
        "if bmi>30.0:\n",
        "  print(\"Obesity\")"
      ],
      "execution_count": null,
      "outputs": []
    },
    {
      "cell_type": "code",
      "metadata": {
        "id": "JpCRue7n_1KB"
      },
      "source": [
        "bmi = 20\n",
        "if bmi>24.0:\n",
        "  print(\"Overweight\")\n",
        "else:\n",
        "  print(\"Healthy weight\")"
      ],
      "execution_count": null,
      "outputs": []
    },
    {
      "cell_type": "code",
      "metadata": {
        "id": "dUfurdKFADV0"
      },
      "source": [
        "bmi = 16\n",
        "if bmi>24.0:\n",
        "  print(\"Overweight\")\n",
        "elif bmi<18.5:\n",
        "  print(\"Underweight\")\n",
        "else:\n",
        "  print(\"Healthy weight\")"
      ],
      "execution_count": null,
      "outputs": []
    },
    {
      "cell_type": "markdown",
      "metadata": {
        "id": "NrtKVCwvTi4m"
      },
      "source": [
        "### Step 2: for-loop\n",
        "<img src=\"https://i.ibb.co/vmWzNrx/2021-11-07-184655.jpg\" alt=\"2021-11-07-184655\" border=\"0\">"
      ]
    },
    {
      "cell_type": "code",
      "metadata": {
        "id": "d9BJMcQnBCgp"
      },
      "source": [
        "for n in [1, 3, 5, 7]:\n",
        "  print(n)"
      ],
      "execution_count": null,
      "outputs": []
    },
    {
      "cell_type": "code",
      "metadata": {
        "id": "_X__MHNoBwoX"
      },
      "source": [
        "for n in range(1, 8, 2):\n",
        "  print(n)"
      ],
      "execution_count": null,
      "outputs": []
    },
    {
      "cell_type": "markdown",
      "metadata": {
        "id": "mmPmGJQLTr1F"
      },
      "source": [
        "### Step 3: while-loop"
      ]
    },
    {
      "cell_type": "code",
      "metadata": {
        "id": "qdyTIDh3CACy"
      },
      "source": [
        "n = 1\n",
        "while n < 8:\n",
        "  print(n)\n",
        "  n += 2"
      ],
      "execution_count": null,
      "outputs": []
    },
    {
      "cell_type": "markdown",
      "metadata": {
        "id": "3zBkfEMqT6rG"
      },
      "source": [
        "### Step 4: 迴圈內的 break 陳述式"
      ]
    },
    {
      "cell_type": "code",
      "metadata": {
        "id": "MMM8WbD9CRIY"
      },
      "source": [
        "i = 1\n",
        "while i < 6:\n",
        "  print(i)\n",
        "  if i == 3:\n",
        "    break\n",
        "  i += 1"
      ],
      "execution_count": null,
      "outputs": []
    },
    {
      "cell_type": "markdown",
      "metadata": {
        "id": "DX6_oDd9CRnq"
      },
      "source": [
        "### Step 5: 迴圈內的 continue 陳述式"
      ]
    },
    {
      "cell_type": "code",
      "metadata": {
        "id": "imgF51a7CZtE"
      },
      "source": [
        "i = 0\n",
        "while i < 6:\n",
        "  i += 1\n",
        "  if i == 3:\n",
        "    continue\n",
        "  print(i)"
      ],
      "execution_count": null,
      "outputs": []
    },
    {
      "cell_type": "markdown",
      "metadata": {
        "id": "7RVMfQ0OT_ww"
      },
      "source": [
        "### Step 6: 迴圈內的pass 陳述式\n",
        "\n",
        "pass 陳述式不執行任何動作。它可用在語法上需要一個陳述式但程式不需要執行任何動作的時候。"
      ]
    },
    {
      "cell_type": "code",
      "metadata": {
        "id": "oJ-yi3vzxlVt"
      },
      "source": [
        "while True:\n",
        "    pass"
      ],
      "execution_count": null,
      "outputs": []
    },
    {
      "cell_type": "code",
      "metadata": {
        "id": "m-_uu2rzx8jO"
      },
      "source": [
        "def foo(*args):\n",
        "    pass "
      ],
      "execution_count": null,
      "outputs": []
    },
    {
      "cell_type": "markdown",
      "metadata": {
        "id": "jm_cpk5vUL1g"
      },
      "source": [
        "## Topic 2(主題2)-錯誤和例外\n",
        "https://docs.python.org/zh-tw/3/tutorial/errors.html\n",
        "\n",
        "```\n",
        "try:\n",
        "    # 想要執行的程式碼\n",
        "    ...\n",
        "except (例外錯誤類型1, 例外錯誤類型2, …) as 例外物件:\n",
        "    # 發生例外錯誤類型1或是例外錯誤類型2…時要執行的程式碼\n",
        "    ...\n",
        "except (例外錯誤類型3, 例外錯誤類型4, …) as 例外物件:\n",
        "    # 發生例外錯誤類型3或是例外錯誤類型4…時要執行的程式碼\n",
        "    ...\n",
        "else:\n",
        "    # try指令裏頭的程式順利執行完畢，沒有發生任何錯誤時執行\n",
        "    ...\n",
        "finally:\n",
        "    # 不管有沒有發生錯誤，最後都會執行\n",
        "    ...\n",
        "```"
      ]
    },
    {
      "cell_type": "markdown",
      "metadata": {
        "id": "IxwbTkaVVsYu"
      },
      "source": [
        "### Step 7: 例外錯誤處理exception"
      ]
    },
    {
      "cell_type": "code",
      "metadata": {
        "id": "9v2kP0WTyvwL"
      },
      "source": [
        "try:\n",
        "  print(x)\n",
        "except:\n",
        "  print(\"An exception occurred\")"
      ],
      "execution_count": null,
      "outputs": []
    },
    {
      "cell_type": "markdown",
      "metadata": {
        "id": "hzxDACRSy-Oo"
      },
      "source": [
        "### Step 8: 例外錯誤處理Else"
      ]
    },
    {
      "cell_type": "code",
      "metadata": {
        "id": "xs4J2M_2zFVY"
      },
      "source": [
        "try:\n",
        "  print(\"Hello\")\n",
        "except:\n",
        "  print(\"Something went wrong\")\n",
        "else:\n",
        "  print(\"Nothing went wrong\")"
      ],
      "execution_count": null,
      "outputs": []
    },
    {
      "cell_type": "markdown",
      "metadata": {
        "id": "V09ZggwKWmuT"
      },
      "source": [
        "### Step 9: 例外錯誤處理finally"
      ]
    },
    {
      "cell_type": "code",
      "metadata": {
        "id": "pgKMP1P5y9WF"
      },
      "source": [
        "try:\n",
        "  print(x)\n",
        "except:\n",
        "  print(\"Something went wrong\")\n",
        "finally:\n",
        "  print(\"The 'try except' is finished\")"
      ],
      "execution_count": null,
      "outputs": []
    },
    {
      "cell_type": "markdown",
      "metadata": {
        "id": "pXi6qnJIzOte"
      },
      "source": [
        "## Topic 3(主題3)-match-case 陳述式\n",
        " (New In Python 3.10) (PEP 634-PEP 636)"
      ]
    },
    {
      "cell_type": "markdown",
      "metadata": {
        "id": "Kn-bMWgfUR4E"
      },
      "source": [
        "### Step 10: match-case 處理指令\n",
        "\n",
        "```\n",
        "match command.split():\n",
        "    case [\"quit\"]:\n",
        "        print(\"Goodbye!\")\n",
        "        quit_game()\n",
        "    case [\"look\"]:\n",
        "        current_room.describe()\n",
        "    case [\"get\", obj]:\n",
        "        character.get(obj, current_room)\n",
        "    case [\"go\", direction]:\n",
        "        current_room = current_room.neighbor(direction)\n",
        "    # The rest of your commands go here\n",
        "```"
      ]
    },
    {
      "cell_type": "markdown",
      "metadata": {
        "id": "C-iFzAh8zztP"
      },
      "source": [
        "### Step 11: match-case 處理不同訊號"
      ]
    },
    {
      "cell_type": "markdown",
      "metadata": {
        "id": "8YZRZbJvToeB"
      },
      "source": [
        "```\n",
        "for thing in [1,2,3,4]:\n",
        "    match thing:\n",
        "        case 1:\n",
        "            print(\"thing is 1\")\n",
        "        case 2:\n",
        "            print(\"thing is 2\")\n",
        "        case 3:\n",
        "            print(\"thing is 3\")\n",
        "        case _:\n",
        "            print(\"thing is not 1, 2 or 3\")\n",
        "```"
      ]
    },
    {
      "cell_type": "code",
      "metadata": {
        "id": "7r6gRJh6SQi1"
      },
      "source": [
        "for thing in [1,2,3,4]:\n",
        "    if thing == 1:\n",
        "        print(\"thing is 1\")\n",
        "    elif thing == 2:\n",
        "        print(\"thing is 2\")\n",
        "    elif thing == 3:\n",
        "        print(\"thing is 3\")\n",
        "    else:\n",
        "        print(\"thing is not 1, 2 or 3\")"
      ],
      "execution_count": null,
      "outputs": []
    },
    {
      "cell_type": "markdown",
      "metadata": {
        "id": "RQ86QI4eYH1i"
      },
      "source": [
        "## Topic 4(主題4)-迭代器（iterator）\n",
        "https://docs.python.org/3/library/itertools.html\n",
        "\n",
        "* iterator（疊代器）是一個表示資料流的物件。\n",
        "* 重複地呼叫疊代器的 __next__() method。\n",
        "* 當不再有資料時，則會引發 StopIteration 例外。\n",
        "* 疊代器必須有一個 __iter__() method，它會回傳疊代器物件本身。"
      ]
    },
    {
      "cell_type": "markdown",
      "metadata": {
        "id": "jMm7Rh7N0xYq"
      },
      "source": [
        "### Step 12: 使用迭代器的for-loop\n"
      ]
    },
    {
      "cell_type": "code",
      "metadata": {
        "id": "m-I9xTiH2BOv"
      },
      "source": [
        "for n in [1,2,3,4]:\n",
        "  print(n**2, end=\" \")"
      ],
      "execution_count": null,
      "outputs": []
    },
    {
      "cell_type": "code",
      "metadata": {
        "id": "VImUvq1v2LZn"
      },
      "source": [
        "a = iter([1,2,3,4])\n",
        "while True:\n",
        "  try:\n",
        "    n = next(a)\n",
        "    print(n**2, end=\" \")\n",
        "  except StopIteration:\n",
        "    break"
      ],
      "execution_count": null,
      "outputs": []
    },
    {
      "cell_type": "markdown",
      "metadata": {
        "id": "JZy0cMb1YnPR"
      },
      "source": [
        "## Topic 5(主題5)-生成式(Comprehension)"
      ]
    },
    {
      "cell_type": "markdown",
      "metadata": {
        "id": "EfqNWsqv4l3V"
      },
      "source": [
        "### Step 13: 串列生成器 (list comprehension)\n",
        "\n",
        "[expression for item in iterable]"
      ]
    },
    {
      "cell_type": "code",
      "metadata": {
        "id": "XIwL3MY54mQ_"
      },
      "source": [
        "numbers = []\n",
        "for x in range(10):\n",
        "    numbers.append(x ** 2)\n",
        "print(numbers)"
      ],
      "execution_count": null,
      "outputs": []
    },
    {
      "cell_type": "code",
      "metadata": {
        "id": "dgmAfKEm6LL-"
      },
      "source": [
        "numbers = [x ** 2 for x in range(10)]\n",
        "print(numbers)"
      ],
      "execution_count": null,
      "outputs": []
    },
    {
      "cell_type": "markdown",
      "metadata": {
        "id": "1Fnb-xxy6RYy"
      },
      "source": [
        "### Step 14: 集合生成器 (set comprehension)"
      ]
    },
    {
      "cell_type": "code",
      "metadata": {
        "id": "XWz_8PbG6nOb"
      },
      "source": [
        "members = {s**2 for s in [1, 2, 1, 0]}\n",
        "print(members)"
      ],
      "execution_count": null,
      "outputs": []
    },
    {
      "cell_type": "code",
      "metadata": {
        "id": "fiOXykby6-Eb"
      },
      "source": [
        "### Step 15: 字典生成器 (Dictionary Comprehension)"
      ],
      "execution_count": null,
      "outputs": []
    },
    {
      "cell_type": "code",
      "metadata": {
        "id": "I0XtlSFk7QfM"
      },
      "source": [
        "square_dict = dict()\n",
        "for num in range(1, 11):\n",
        "    square_dict[num] = num*num\n",
        "print(square_dict)"
      ],
      "execution_count": null,
      "outputs": []
    },
    {
      "cell_type": "code",
      "metadata": {
        "id": "BmtvBTej7WKA"
      },
      "source": [
        "# dictionary comprehension example\n",
        "square_dict = {num: num*num for num in range(1, 11)}\n",
        "print(square_dict)"
      ],
      "execution_count": null,
      "outputs": []
    },
    {
      "cell_type": "markdown",
      "metadata": {
        "id": "ODMU0EZmcDpg"
      },
      "source": [
        "## Topic 6(主題6)-原始碼品質控管\n",
        "* __assert__: 程式中安插除錯用的斷言（assertion）檢查。\n",
        "* __doctest__: 模組提供了一個工具，掃描模組並根據程式中內嵌的文件字串執行測試。\n",
        "* __unittest__:  在另外一個檔案裡撰寫更完整的測試集"
      ]
    },
    {
      "cell_type": "markdown",
      "metadata": {
        "id": "M9zF_LJNjvk1"
      },
      "source": [
        "### Step 15:assert\n",
        "邏輯表示式規定之必須存在的程序狀態，或規定在程序執行過程中某一特定點上程序變量必須滿足的條件集合。\n",
        "\n",
        "assert test, 'some message' # test 結果為 True 或 False"
      ]
    },
    {
      "cell_type": "code",
      "metadata": {
        "id": "xBu29cXnj2Fg"
      },
      "source": [
        "def divide(a, b):\n",
        "    assert b != 0, \"Divisor cannot be zero\"\n",
        "    return a / b\n",
        "    "
      ],
      "execution_count": null,
      "outputs": []
    },
    {
      "cell_type": "code",
      "metadata": {
        "id": "EzlDC_9FkL0p"
      },
      "source": [
        "r = -1\n",
        "try:\n",
        "    r = divide(1, 0)\n",
        "except:\n",
        "    print\n",
        "    r = 0\n",
        "\n",
        "print(r)"
      ],
      "execution_count": null,
      "outputs": []
    },
    {
      "cell_type": "code",
      "metadata": {
        "id": "2-17mNBulT7y"
      },
      "source": [
        "import sys\n",
        "import traceback\n",
        "r = -1\n",
        "try:\n",
        "    r = divide(1, 0)\n",
        "except AssertionError:\n",
        "    tb = sys.exc_info()[2]\n",
        "    traceback.print_tb(tb) # Fixed format\n",
        "    tb_info = traceback.extract_tb(tb)\n",
        "    filename, line, func, text = tb_info[-1]\n",
        "    print(f'An error occurred on line {line} in statement {text}')\n",
        "    r = 0\n",
        "\n",
        "print(r)"
      ],
      "execution_count": null,
      "outputs": []
    },
    {
      "cell_type": "markdown",
      "metadata": {
        "id": "HYx1oU4Pcq1A"
      },
      "source": [
        "### Step 16:doctest\n",
        "撰寫測試如同簡單地將它的呼叫及輸出結果剪下並貼上到文件字串中。透過提供範例給使用者，它強化了說明文件，並允許 doctest 模組確認程式碼的結果與說明文件一致"
      ]
    },
    {
      "cell_type": "code",
      "metadata": {
        "id": "Ah0ep7zwnE5e"
      },
      "source": [
        "\"\"\"\n",
        "docstrings可以放的位置1\n",
        "\n",
        ">>> sum(1, 3)\n",
        "4\n",
        "\"\"\"\n",
        "def sum(a, b):\n",
        "    \"\"\"\n",
        "    docstrings可以放的位置2\n",
        "    \n",
        "    >>> sum(3, 5)\n",
        "    8\n",
        "    \"\"\"\n",
        "    return a + b\n",
        "    \n",
        "if __name__ == \"__main__\":\n",
        "    import doctest\n",
        "    doctest.testmod()"
      ],
      "execution_count": null,
      "outputs": []
    },
    {
      "cell_type": "code",
      "metadata": {
        "id": "vH3a-TR1c6o3"
      },
      "source": [
        "\"\"\"\n",
        "This is the \"example\" module.\n",
        "\n",
        "The example module supplies one function, factorial().  For example,\n",
        "\n",
        ">>> factorial(5)\n",
        "120\n",
        "\"\"\"\n",
        "\n",
        "def factorial(n):\n",
        "    \"\"\"Return the factorial of n, an exact integer >= 0.\n",
        "\n",
        "    >>> [factorial(n) for n in range(6)]\n",
        "    [1, 1, 2, 6, 24, 120]\n",
        "    >>> factorial(30)\n",
        "    265252859812191058636308480000000\n",
        "    >>> factorial(-1)\n",
        "    Traceback (most recent call last):\n",
        "        ...\n",
        "    ValueError: n must be >= 0\n",
        "\n",
        "    Factorials of floats are OK, but the float must be an exact integer:\n",
        "    >>> factorial(30.1)\n",
        "    Traceback (most recent call last):\n",
        "        ...\n",
        "    ValueError: n must be exact integer\n",
        "    >>> factorial(30.0)\n",
        "    265252859812191058636308480000000\n",
        "\n",
        "    It must also not be ridiculously large:\n",
        "    >>> factorial(1e100)\n",
        "    Traceback (most recent call last):\n",
        "        ...\n",
        "    OverflowError: n too large\n",
        "    \"\"\"\n",
        "\n",
        "    import math\n",
        "    if not n >= 0:\n",
        "        raise ValueError(\"n must be >= 0\")\n",
        "    if math.floor(n) != n:\n",
        "        raise ValueError(\"n must be exact integer\")\n",
        "    if n+1 == n:  # catch a value like 1e300\n",
        "        raise OverflowError(\"n too large\")\n",
        "    result = 1\n",
        "    factor = 2\n",
        "    while factor <= n:\n",
        "        result *= factor\n",
        "        factor += 1\n",
        "    return result\n",
        "\n",
        "if __name__ == \"__main__\":\n",
        "    import doctest\n",
        "    doctest.testmod()"
      ],
      "execution_count": null,
      "outputs": []
    },
    {
      "cell_type": "markdown",
      "metadata": {
        "id": "1uYasycXdD8V"
      },
      "source": [
        "### Step 17:unittest\n",
        "測試一個單元，基本上要與其它的單元獨立，否則你會在同時測試兩個單元的正確性，或是兩個單元之間的合作行為。就軟體測試而言，單元測試通常指的是測試某個函式（或方法），你給予該函式某些輸入，預期該函式會產生某種輸出，例如傳回預期的值、產生預期的檔案、新增預期的資料等。\n",
        "\n",
        "unittest 模組主要包括四個部份：\n",
        "* 測試案例（Test case）測試的最小單元。\n",
        "* 測試設備（Test fixture）執行一或多個測試前必要的預備資源，以及相關的清除資源動作。\n",
        "* 測試套件（Test suite）一組測試案例、測試套件或者是兩者的組合。\n",
        "* 測試執行器（Test runner）負責執行測試並提供測試結果的元件。"
      ]
    },
    {
      "cell_type": "code",
      "metadata": {
        "id": "qdPWDWR8c6rD"
      },
      "source": [
        "#這是一段用來測試 3 個字串方法：\n",
        "import unittest\n",
        "\n",
        "class TestStringMethods(unittest.TestCase):\n",
        "\n",
        "    def test_upper(self):\n",
        "        self.assertEqual('foo'.upper(), 'FOO')\n",
        "\n",
        "    def test_isupper(self):\n",
        "        self.assertTrue('FOO'.isupper())\n",
        "        self.assertFalse('Foo'.isupper())\n",
        "\n",
        "    def test_split(self):\n",
        "        s = 'hello world'\n",
        "        self.assertEqual(s.split(), ['hello', 'world'])\n",
        "        # check that s.split fails when the separator is not a string\n",
        "        with self.assertRaises(TypeError):\n",
        "            s.split(2)\n",
        "\n",
        "if __name__ == '__main__':\n",
        "    unittest.main()"
      ],
      "execution_count": null,
      "outputs": []
    }
  ]
}