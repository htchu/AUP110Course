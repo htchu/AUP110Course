{
 "cells": [
  {
   "cell_type": "markdown",
   "metadata": {
    "id": "_nggt8amtIhI"
   },
   "source": [
    "# AU Fundamentals of Python Programming-Ex17\r\n",
    "* 主題1-M1 Q01-Q32\r\n",
    "* 主題2-M2 Q01-Q30\r\n",
    "* 主題3-M3 Q01-Q29"
   ]
  },
  {
   "cell_type": "markdown",
   "metadata": {
    "id": "tWggqjk8uuU2"
   },
   "source": [
    "##(Input)輸入參數/(Output)輸出結果"
   ]
  },
  {
   "cell_type": "code",
   "execution_count": null,
   "metadata": {
    "id": "CaFD9yTZtH7u"
   },
   "outputs": [],
   "source": [
    "a = int(input()) #用int()轉成整數變數a\r\n",
    "b = float(input()) #float()轉成浮點數變數b"
   ]
  },
  {
   "cell_type": "code",
   "execution_count": null,
   "metadata": {
    "colab": {
     "base_uri": "https://localhost:8080/"
    },
    "executionInfo": {
     "elapsed": 727,
     "status": "ok",
     "timestamp": 1609266233191,
     "user": {
      "displayName": "Hsueh-Ting Chu",
      "photoUrl": "https://lh3.googleusercontent.com/a-/AOh14GhjZzSScd4C7GeSLbsZaxvk3HSuE8FYBfeM8i1FYg=s64",
      "userId": "03319341302301572023"
     },
     "user_tz": -480
    },
    "id": "ClwZAN39vDkJ",
    "outputId": "1165bb3d-7439-4a0e-c5ed-74cb00f92c98"
   },
   "outputs": [
    {
     "name": "stdout",
     "output_type": "stream",
     "text": [
      "輸出整數 1,輸出浮點數 2.35\n"
     ]
    }
   ],
   "source": [
    "a = 1\r\n",
    "b = 2.345\r\n",
    "print(\"輸出整數{0:2d},輸出浮點數{1:5.2f}\".format(a, b))"
   ]
  },
  {
   "cell_type": "markdown",
   "metadata": {
    "id": "izV0HaQsvllK"
   },
   "source": [
    "## M1 Problems:Q1-Q3"
   ]
  }
 ],
 "metadata": {
  "colab": {
   "authorship_tag": "ABX9TyNpTsUkS5nqSwZr45nbhGn3",
   "collapsed_sections": [],
   "name": "AUPython-Ex17.ipynb",
   "provenance": [
    {
     "file_id": "14vv3-ut3jp7pB_6umhfKXYaj2LlscSve",
     "timestamp": 1609266291510
    }
   ]
  },
  "kernelspec": {
   "display_name": "Python 3",
   "language": "python",
   "name": "python3"
  },
  "language_info": {
   "codemirror_mode": {
    "name": "ipython",
    "version": 3
   },
   "file_extension": ".py",
   "mimetype": "text/x-python",
   "name": "python",
   "nbconvert_exporter": "python",
   "pygments_lexer": "ipython3",
   "version": "3.7.6"
  }
 },
 "nbformat": 4,
 "nbformat_minor": 4
}
