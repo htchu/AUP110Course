{
  "nbformat": 4,
  "nbformat_minor": 0,
  "metadata": {
    "colab": {
      "name": "AUP110_W17_Exercise.ipynb",
      "provenance": [],
      "collapsed_sections": [],
      "toc_visible": true
    },
    "kernelspec": {
      "name": "python3",
      "display_name": "Python 3"
    }
  },
  "cells": [
    {
      "cell_type": "markdown",
      "metadata": {
        "id": "NmNGnQFiHXY5"
      },
      "source": [
        "# AU Fundamentals of Python Programming-Ex17"
      ]
    },
    {
      "cell_type": "markdown",
      "metadata": {
        "id": "gF5Z6EUtcOfT"
      },
      "source": [
        "### M3Q06 數字拆解方法\n",
        "問題描述：\n",
        "輸入一串數字，寫出一數字拆解方法，將其個別數字用空白分開。\n",
        "\n",
        "輸入說明：\n",
        "輸入一串數字n。\n",
        "\n",
        "輸出說明：\n",
        "透過拆解方法，將個別數字用空白分開，最後必須有換行字元。\n",
        "\n",
        "範例：\n",
        "\n",
        "| Sample Input:   |      Sample Output:      |\n",
        "|:----------------|:-------------------------|\n",
        "|4562 |4 5 6 2⏎|\n",
        "|128917178 |1 2 8 9 1 7 1 7 8⏎|\n",
        "|8279 |8 2 7 9⏎|"
      ]
    },
    {
      "cell_type": "markdown",
      "metadata": {
        "id": "vlkHBXlxDpYC"
      },
      "source": [
        "<font size=\"10\">&#x0210B;</font>int(祕技):\n",
        "\n",
        "__Input:__ 輸入是1個整數\n",
        "\n",
        "__Process:__ 定義一個get_digits(n)函數\n",
        "\n",
        "__Output:__"
      ]
    },
    {
      "cell_type": "code",
      "metadata": {
        "id": "vuMR1YxNIrkD"
      },
      "source": [
        "#程式由此開始\n"
      ],
      "execution_count": null,
      "outputs": []
    },
    {
      "cell_type": "markdown",
      "metadata": {
        "id": "Wk7LjJ8DcToE"
      },
      "source": [
        "### M3Q07 學號排序\n",
        "問題描述：\n",
        "某個檔案中含有所有學生的學號，但並沒有按照大小次序排列。請寫一程式依學號大小排列並將結果輸出。\n",
        "\n",
        "輸入說明：\n",
        "輸入n 組學號，並輸入n 組學號 (資料型態: long)。\n",
        "\n",
        "輸出說明：\n",
        "依學號大小排列(由小至大)並將結果輸出，最後必須有換行字元。\n",
        "\n",
        "\n",
        "\n",
        "範例：\n",
        "\n",
        "| Sample Input:   |      Sample Output:      |\n",
        "|:----------------|:-------------------------|\n",
        "|3 |102033058|\n",
        "|103021020 |103021020|\n",
        "|105074011 |105074011⏎|\n",
        "|102033058 | |"
      ]
    },
    {
      "cell_type": "markdown",
      "metadata": {
        "id": "OhGR6_86Dqc1"
      },
      "source": [
        "<font size=\"10\">&#x0210B;</font>int(祕技):\n",
        "\n",
        "__Input:__ 輸入是4行，用List放學號的字串\n",
        "\n",
        "__Process:__ 使用sorted()函數\n",
        "\n",
        "__Output:__"
      ]
    },
    {
      "cell_type": "code",
      "metadata": {
        "id": "YlJ67Nq-Isym"
      },
      "source": [
        "#程式由此開始\n"
      ],
      "execution_count": null,
      "outputs": []
    },
    {
      "cell_type": "markdown",
      "metadata": {
        "id": "lqefXJ5lcUi3"
      },
      "source": [
        "### M3Q08 陣列平方\n",
        "\n",
        "問題描述：\n",
        "撰寫一方法square(arr)，在呼叫square(arr)方法後，一維陣列arr 裡的每一個元素皆會\n",
        "被平方。\n",
        "\n",
        "輸入說明：\n",
        "連續輸入多個正整數，並存至陣列arr。\n",
        "\n",
        "輸出說明：\n",
        "呼叫square(arr) 函數後，一維陣列arr 裡的每一個元素皆會被平方，並輸出結果，數\n",
        "字以 tab 間格，最後必須有換行字元。\n",
        "\n",
        "範例：\n",
        "\n",
        "| Sample Input:   |      Sample Output:      |\n",
        "|:----------------|:-------------------------|\n",
        "|1 3 5 7 |1 9 25 49⏎|"
      ]
    },
    {
      "cell_type": "markdown",
      "metadata": {
        "id": "jWBfXjrzDt7Q"
      },
      "source": [
        "<font size=\"10\">&#x0210B;</font>int(祕技):\n",
        "\n",
        "__Input:__ 輸入一行直接轉成一個list\n",
        "\n",
        "__Process:__ 定義一個square(arr)及呼叫square()\n",
        "\n",
        "__Output:__"
      ]
    },
    {
      "cell_type": "code",
      "metadata": {
        "id": "nBE3DA7tIuYz"
      },
      "source": [
        "#程式由此開始\n"
      ],
      "execution_count": null,
      "outputs": []
    },
    {
      "cell_type": "markdown",
      "metadata": {
        "id": "3DUbAeWrcVe_"
      },
      "source": [
        "### M3Q09 氣泡排序法\n",
        "問題描述：\n",
        "寫出氣泡排序法的程式將輸入的數字排序。\n",
        "\n",
        "輸入說明：\n",
        "輸入數個數字。\n",
        "\n",
        "輸出說明：\n",
        "以氣泡排序法排序後輸出結果，數字以空白間格，最後必須有換行字元。\n",
        "\n",
        "\n",
        "範例：\n",
        "\n",
        "| Sample Input:   |      Sample Output:      |\n",
        "|:----------------|:-------------------------|\n",
        "|3 9 4 2 5 |2 3 4 5 9⏎|"
      ]
    },
    {
      "cell_type": "markdown",
      "metadata": {
        "id": "3KRqCT4xDv_2"
      },
      "source": [
        "<font size=\"10\">&#x0210B;</font>int(祕技):\n",
        "參考： https://en.wikipedia.org/wiki/Bubble_sort\n",
        "\n",
        "__Input:__ 輸入一行直接轉成一個list\n",
        "\n",
        "__Process:__ 定義一個bubbleSort()函數及呼叫\n",
        "\n",
        "__Output:__"
      ]
    },
    {
      "cell_type": "code",
      "metadata": {
        "id": "fTsPjymwIvzU"
      },
      "source": [
        "#程式由此開始\n"
      ],
      "execution_count": null,
      "outputs": []
    },
    {
      "cell_type": "markdown",
      "metadata": {
        "id": "MN2nDavOcWpY"
      },
      "source": [
        "### M3Q10 連續元素相乘極大值\n",
        "問題描述：\n",
        "一個整數陣列中有正數、負數與 0。請寫一程式找出這個陣列中連續的元素相乘的極大值。\n",
        "\n",
        "輸入說明：\n",
        "輸入 N 個元素的數列。。\n",
        "\n",
        "輸出說明：\n",
        "輸出陣列中連續元素相乘的最大值，最後必須有換行字元。\n",
        "\n",
        "範例：\n",
        "\n",
        "| Sample Input:   |      Sample Output:      |\n",
        "|:----------------|:-------------------------|\n",
        "|1 2 4 -4 9 7 |63⏎|"
      ]
    },
    {
      "cell_type": "markdown",
      "metadata": {
        "id": "ZkuPDgjcDx2U"
      },
      "source": [
        "<font size=\"10\">&#x0210B;</font>int(祕技):\n",
        "\n",
        "參考: https://leetcode-cn.com/problems/maximum-product-subarray/solution/\n",
        "\n",
        "__Input:__ 輸入一行直接轉成一個list\n",
        "\n",
        "__Process:__ 因為數字可能是負的，可能負負得正\n",
        "\n",
        "__Output:__"
      ]
    },
    {
      "cell_type": "code",
      "metadata": {
        "id": "gTjzpgkegJkz"
      },
      "source": [
        "#程式由此開始\n"
      ],
      "execution_count": null,
      "outputs": []
    },
    {
      "cell_type": "markdown",
      "metadata": {
        "id": "-IZaqtIYcZYL"
      },
      "source": [
        "### M3Q16 矩陣數字顯示\n",
        "問題描述：\n",
        "現有一可顯示四位數字的 LED 燈一組，可根據輸入的四位數字顯示數字。比如說，\n",
        "由鍵盤輸入 1234 ，則可在螢幕上顯示\n",
        "\n",
        "\n",
        "輸入說明：\n",
        "輸入格式為四個整數。\n",
        "\n",
        "輸出說明：\n",
        "輸出值為輸入值的矩陣數字，最後必須有換行字元。"
      ]
    },
    {
      "cell_type": "markdown",
      "metadata": {
        "id": "fJB359-QEHEb"
      },
      "source": [
        "<font size=\"10\">&#x0210B;</font>int(祕技):\n",
        "\n",
        "__Input:__ 輸入是1個字串轉成4個數字的list\n",
        "\n",
        "__Process:__掃描每一列，看那個pixel屬於哪一個數字\n",
        "\n",
        "__Output:__"
      ]
    },
    {
      "cell_type": "code",
      "metadata": {
        "id": "bTgZz8EiC8WT"
      },
      "source": [
        "#程式由此開始\n"
      ],
      "execution_count": null,
      "outputs": []
    },
    {
      "cell_type": "markdown",
      "metadata": {
        "id": "xWNhaLC_cbSr"
      },
      "source": [
        "### M3Q17 遞迴程式練習\n",
        "\n",
        "問題描述：\n",
        "給定下列遞迴函式：\n",
        "\\begin{cases}\n",
        "f(n)=n+1 \\:when\\:  n=1\\\\\n",
        "f(n)=f(n-1) + f(\\lfloor n/2\\rfloor) \\:when\\:  n>1\n",
        "\\end{cases}\n",
        "\n",
        "\n",
        "請計算出$𝑓(n)$。\n",
        "\n",
        "輸入說明：\n",
        "輸入值為一個大於1 的整數𝑛。\n",
        "\n",
        "輸出說明：\n",
        "輸出$𝑓(n)$計算結果，最後必須有換行字元。\n",
        "\n",
        "範例：\n",
        "\n",
        "| Sample Input:   |      Sample Output:      |\n",
        "|:----------------|:-------------------------|\n",
        "|10 |60⏎|\n",
        "|12 |94⏎|"
      ]
    },
    {
      "cell_type": "markdown",
      "metadata": {
        "id": "75TGR3wZEI0C"
      },
      "source": [
        "<font size=\"10\">&#x0210B;</font>int(祕技):\n",
        "\n",
        "__Input:__ 輸入是1個整數\n",
        "\n",
        "__Process:__ 遞迴函數是函數的定義中會呼叫函數本身\n",
        "\n",
        "__Output:__"
      ]
    },
    {
      "cell_type": "code",
      "metadata": {
        "id": "zLc1u1zsJGWl"
      },
      "source": [
        "#程式由此開始\n"
      ],
      "execution_count": null,
      "outputs": []
    },
    {
      "cell_type": "markdown",
      "metadata": {
        "id": "PNofXDG_ccLZ"
      },
      "source": [
        "### M3Q18 撲克牌大小\n",
        "\n",
        "問題描述：\n",
        "撲克牌的遊戲有很多種，像是大老二、撿紅點等。然而，現在您要參與的是比大小遊\n",
        "戲，每張牌各有其花色和數字，大小比較主要以花色為主，黑桃 > 紅心 > 方塊 > 梅\n",
        "花；倘若花色相同時，則比較數字。\n",
        "\n",
        "輸入說明：\n",
        "第一列的整數，代表撲克牌的疊數，其後有若干列，每列即為一疊牌的內容，每張牌\n",
        "分別以英文、數字作表示，其中 S 代表黑桃、 H 代表紅心、 D 代表方塊、 C 代表\n",
        "梅花。每筆資料分別以空白隔開。\n",
        "\n",
        "輸出說明：\n",
        "印出排列過後的撲克牌。一行是一疊牌， 每張牌以空白隔開，最後必須有換行字元。\n",
        "\n",
        "\n",
        "\n",
        "範例：\n",
        "\n",
        "| Sample Input:   |      Sample Output:      |\n",
        "|:----------------|:-------------------------|\n",
        "|4|S2 H5 D4 C13|\n",
        "|H5 D4 S2 C13|S3 H7 D10 D8 C12|\n",
        "|D8 S3 D10 C12 H7 |S3 H6|\n",
        "|H6 S3 |S1 D11 C5|\n",
        "|C5 D11 S1 |⏎ |"
      ]
    },
    {
      "cell_type": "markdown",
      "metadata": {
        "id": "0yUVbrKJEJ3g"
      },
      "source": [
        "<font size=\"10\">&#x0210B;</font>int(祕技):\n",
        "\n",
        "__Input:__ 輸入是數排的文字和數字組合\n",
        "\n",
        "__Process:__ 計算時需拆解 \"H\", \"D\", \"S\", 和\"C\"，轉換成數字\n",
        "\n",
        "__Output:__"
      ]
    },
    {
      "cell_type": "code",
      "metadata": {
        "id": "IDxxixHnKR7o"
      },
      "source": [
        "#程式由此開始\n",
        " "
      ],
      "execution_count": null,
      "outputs": []
    },
    {
      "cell_type": "markdown",
      "metadata": {
        "id": "2rECmT30cdJB"
      },
      "source": [
        "### M3Q19 判斷是否為迴文\n",
        "問題描述：\n",
        "迴文是指從前面讀和從後面讀都相同的一個數字或一段文字。例如下列輸入都是迴文：\n",
        "\n",
        "123321、qwerewq、123ewqqwe321。請撰寫一個程式，判斷它是否迴文。\n",
        "\n",
        "輸入說明：\n",
        "輸入一個字串。\n",
        "\n",
        "輸出說明：\n",
        "迴文印出YES、非迴文印出NO，最後必須有換行字元。\n",
        "\n",
        "\n",
        "範例：\n",
        "\n",
        "| Sample Input:   |      Sample Output:      |\n",
        "|:----------------|:-------------------------|\n",
        "|123321|YES⏎|\n",
        "|1556551|YES⏎|\n",
        "|1244221|NO⏎|"
      ]
    },
    {
      "cell_type": "markdown",
      "metadata": {
        "id": "5b-qRu1jEMBg"
      },
      "source": [
        "<font size=\"10\">&#x0210B;</font>int(祕技):\n",
        "\n",
        "__Input:__ 輸入是1個字串\n",
        "\n",
        "__Process:__\n",
        "\n",
        "__Output:__"
      ]
    },
    {
      "cell_type": "code",
      "metadata": {
        "id": "ZP2s1q3qPMkI"
      },
      "source": [
        "#程式由此開始\n"
      ],
      "execution_count": null,
      "outputs": []
    },
    {
      "cell_type": "markdown",
      "metadata": {
        "id": "A2HltRxXceML"
      },
      "source": [
        "### M3Q20 文字及字母出現次數\n",
        "問題描述：\n",
        "在電腦科學上 ，計算一串文字上各個字母出現的頻率是常被用到的技術，這對壓縮來\n",
        "講是很重要的資訊，而計算字數也可以幫助人們作校正的工具。一行文字被空白、逗\n",
        "點或是句點所分隔而形成很多字，例如“I have a pencil.” 這行字就有I、have、a、pencil\n",
        "這四個字，即此行字數為 4 。所以現在要請你幫忙設計一個程式來計算一行文字的字\n",
        "數及各個字母出現的次數。\n",
        "\n",
        "輸入說明：\n",
        "輸入一行正常的英文文字，也就是不要有開頭是空白或是有連續兩個 空白的情形發生，\n",
        "並且內容只能包含英文字母、空白、逗點、句點。 注意 : 輸入的字串長度最多是 100 。\n",
        "\n",
        "輸出說明：\n",
        "第一行輸出一個正整數 n ，表示此行文字的字數。 第二行開始依序輸出在此行文字\n",
        "中有出現的字母及出現的次數，最後必須有換行字元。\n",
        "注意 : 大小寫要分開計算。\n",
        "\n",
        "\n",
        "範例：\n",
        "\n",
        "| Sample Input:   |      Sample Output:      |\n",
        "|:----------------|:-------------------------|\n",
        "|I had a dog |4|\n",
        "||I=1|\n",
        "||a=2|\n",
        "||d=2|\n",
        "||g=1|\n",
        "||h=1|\n",
        "||o=1⏎|"
      ]
    },
    {
      "cell_type": "markdown",
      "metadata": {
        "id": "3aUNOGvLENjt"
      },
      "source": [
        "<font size=\"10\">&#x0210B;</font>int(祕技):\n",
        "\n",
        "__Input:__ 輸入是1個字串，切成幾個字\n",
        "\n",
        "__Process:__\n",
        "\n",
        "__Output:__"
      ]
    },
    {
      "cell_type": "code",
      "metadata": {
        "id": "G6uCyfLbQJgs"
      },
      "source": [
        "#程式由此開始\n"
      ],
      "execution_count": null,
      "outputs": []
    },
    {
      "cell_type": "markdown",
      "metadata": {
        "id": "2HsWJv9LHqsL"
      },
      "source": [
        "### M3Q26 遞迴方法power(a,n)\n",
        "問題描述：\n",
        "試用兩個方法以遞迴計算 $power(a,n)=a^n$\n",
        "\n",
        "方法一：\n",
        "\n",
        "$power(a, n) = a * power(a, n-1)$\n",
        "\n",
        "方法二：\n",
        "\n",
        "$power(a, n) = power(a, n/2)*power(a, n/2) $ 當 n 為偶數\n",
        "\n",
        "$power(a, n) = a * power(a, n-1)$ 當 n 為奇數\n",
        "\n",
        "輸入說明：\n",
        "分別輸入兩正整數a, n\n",
        "\n",
        "輸出說明：\n",
        "輸出 power(a, n) 結果，最後必須有換行字元。\n",
        "\n",
        "範例：\n",
        "\n",
        "| Sample Input:   |      Sample Output:      |\n",
        "|:----------------|:-------------------------|\n",
        "|2 3 |8|\n",
        "|  |8⏎|"
      ]
    },
    {
      "cell_type": "markdown",
      "metadata": {
        "id": "RBbgUegfEVdi"
      },
      "source": [
        "<font size=\"10\">&#x0210B;</font>int(祕技):\n",
        "\n",
        "__Input:__ 輸入是2個正整數\n",
        "\n",
        "__Process:__\n",
        "\n",
        "__Output:__"
      ]
    },
    {
      "cell_type": "code",
      "metadata": {
        "id": "hvuw4NuIqB6Y"
      },
      "source": [
        "#程式由此開始\n"
      ],
      "execution_count": null,
      "outputs": []
    },
    {
      "cell_type": "markdown",
      "metadata": {
        "id": "7UcB2gfcciuY"
      },
      "source": [
        "### M3Q27 遞迴方法：數值位數\n",
        "問題描述：\n",
        "設計遞迴方法，輸入一個正整數值(不含 0)，傳回該數值是幾位數。\n",
        "\n",
        "輸入說明：\n",
        "輸入一個正整數值(不含 0)。\n",
        "\n",
        "輸出說明：\n",
        "輸出該數值是幾位數，最後必須有換行字元。\n",
        "\n",
        "\n",
        "範例：\n",
        "\n",
        "| Sample Input:   |      Sample Output:      |\n",
        "|:----------------|:-------------------------|\n",
        "|4395 |4⏎|"
      ]
    },
    {
      "cell_type": "markdown",
      "metadata": {
        "id": "sHoDqDO2EWtg"
      },
      "source": [
        "<font size=\"10\">&#x0210B;</font>int(祕技):\n",
        "\n",
        "__Input:__ 輸入是一個正整數\n",
        "\n",
        "__Process:__ 遞迴函數是函數的定義中會呼叫函數本身\n",
        "\n",
        "__Output:__"
      ]
    },
    {
      "cell_type": "code",
      "metadata": {
        "id": "F49YCf6DqA6J"
      },
      "source": [
        "#程式由此開始\n"
      ],
      "execution_count": null,
      "outputs": []
    }
  ]
}