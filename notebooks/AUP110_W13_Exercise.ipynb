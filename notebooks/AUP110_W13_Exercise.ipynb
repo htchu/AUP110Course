{
  "nbformat": 4,
  "nbformat_minor": 0,
  "metadata": {
    "colab": {
      "name": "AUP110_W13_Exercise.ipynb",
      "provenance": [],
      "collapsed_sections": []
    },
    "kernelspec": {
      "display_name": "Python 3",
      "language": "python",
      "name": "python3"
    },
    "language_info": {
      "codemirror_mode": {
        "name": "ipython",
        "version": 3
      },
      "file_extension": ".py",
      "mimetype": "text/x-python",
      "name": "python",
      "nbconvert_exporter": "python",
      "pygments_lexer": "ipython3",
      "version": "3.7.6"
    }
  },
  "cells": [
    {
      "cell_type": "markdown",
      "metadata": {
        "id": "3tHmSlPKjSDR"
      },
      "source": [
        "# AU Fundamentals of Python Programming-Module2Problems (Part. A)"
      ]
    },
    {
      "cell_type": "markdown",
      "metadata": {
        "id": "VADAq_PbkVbj"
      },
      "source": [
        "## M2-Q02 '*'三角形\n",
        "(時間限制：2 秒)\n",
        "\n",
        "問題描述：\n",
        "讓使用者輸入一正整數 n，利用迴圈以字元 '*' 輸出高度為 n 的三角形。\n",
        "\n",
        "輸入說明：\n",
        "輸入一正整數 n。\n",
        "\n",
        "輸出說明：\n",
        "利用迴圈以字元 '*' 輸出高度為 n 的三角形，最後必須有換行字元。\n",
        "\n",
        "| Sample Input:   |      Sample Output:      |\n",
        "|:----------------|:-------------------------|\n",
        "|4 | \\*   |\n",
        "|          |\\*\\* |\n",
        "|  | \\*\\*\\*   |\n",
        "|          |\\*\\*\\*\\*⏎ |\n"
      ]
    },
    {
      "cell_type": "code",
      "metadata": {
        "id": "ICkcvOD4kuK9"
      },
      "source": [
        ""
      ],
      "execution_count": null,
      "outputs": []
    },
    {
      "cell_type": "code",
      "metadata": {
        "id": "ipMCU87flKjT"
      },
      "source": [
        ""
      ],
      "execution_count": null,
      "outputs": []
    },
    {
      "cell_type": "markdown",
      "metadata": {
        "id": "m6hH_THllLg4"
      },
      "source": [
        "##M2-Q04 '*'正三角形\n",
        "問題描述：\n",
        "讓使用者輸入一正整數 n，利用迴圈以字元 '*' 輸出高度為 n 的三角形。\n",
        "\n",
        "輸入說明：\n",
        "輸入一正整數 n。\n",
        "\n",
        "輸出說明：\n",
        "利用迴圈以字元'*'輸出高度為 n 的三角形，最後必須有換行字元。\n",
        "\n",
        "| Sample Input:   |      Sample Output:      |\n",
        "|:----------------|:-------------------------|\n",
        "|4 | &nbsp;&nbsp;&nbsp;\\*   |\n",
        "|          |&nbsp;&nbsp;\\*\\*\\* |\n",
        "|  | &nbsp;\\*\\*\\*\\*\\*   |\n",
        "|          |\\*\\*\\*\\*\\*\\*\\*⏎ |"
      ]
    },
    {
      "cell_type": "code",
      "metadata": {
        "id": "j9HGTbUVlajc"
      },
      "source": [
        ""
      ],
      "execution_count": null,
      "outputs": []
    },
    {
      "cell_type": "code",
      "metadata": {
        "id": "2PCSxGATmcJ7"
      },
      "source": [
        ""
      ],
      "execution_count": null,
      "outputs": []
    },
    {
      "cell_type": "markdown",
      "metadata": {
        "id": "t8-v9ylQmcX-"
      },
      "source": [
        "## M2-Q06 質數判別\n",
        "\n",
        "問題描述：\n",
        "試撰寫一個程式，由輸入一個整數，然後判別此數是否為質數。質數是指除了 1 和它本身之外，沒有其它的數可以整除它的數，例如：2,3,5,7 與 11 等皆為質數。\n",
        "\n",
        "輸入說明：\n",
        "輸入一個正整數。\n",
        "\n",
        "輸出說明：\n",
        "質數顯示 YES；非質數顯示 NO，最後必須有換行字元。\n",
        "\n",
        "| Sample Input:   |      Sample Output:      |\n",
        "|:----------------|:-------------------------|\n",
        "|23 | YES⏎   |\n",
        "|37    |YES⏎ |\n",
        "|39    |NO⏎ |\n"
      ]
    },
    {
      "cell_type": "code",
      "metadata": {
        "id": "9in2OxWFmuq2"
      },
      "source": [
        ""
      ],
      "execution_count": null,
      "outputs": []
    },
    {
      "cell_type": "markdown",
      "metadata": {
        "id": "Sba5RrXom3Mz"
      },
      "source": [
        "## M2-Q07 考試測驗\n",
        "\n",
        "問題描述：\n",
        "某間學校舉辦英文檢定測驗，若是學生通過該測驗，則能通過畢業門檻。老師準備的英文測驗中分為三個項目當作考試，分別是聽力、閱讀、口說。每一個項目測驗滿分皆為 100 分，總分為 300 分。想要通過測驗有兩種方式。\n",
        "方式一：若是三個項目分數皆為 60 分以上(包含 60 分)即為通過測驗。\n",
        "方式二：\n",
        "1.\t若三個項目中有其中一個項目分數未滿 60 分，但三個項目分數總合大於等於220 分，也可算通過測驗。\n",
        "2.\t若三個項目中有其中一個項目分數未滿 60 分，而三個項目分數總合也沒能達到 220 分，可獲得補考機會。\n",
        "3.\t若是三個項目中有兩個項目不及格，但另一個項目成績高於 80 分(包含 80 分)，也可獲得補考的機會。\n",
        "其餘皆判定為無法通過測驗。\n",
        "\n",
        "輸入說明：\n",
        "第一行為一個整數 N，代表共有 N 組測試資料。之後有 N 行，每一行有 3 個非負整數(範圍皆為 0 到 100)，分別代表該名學生聽力、閱讀、口說的測驗分數。\n",
        "\n",
        "輸出說明：\n",
        "若是通過測驗，則輸出“P”。若是需要補考，則輸出“M”。若是無法通過測驗，則輸出“F”。每組答案結果輸出於一行，最後必須有換行字元。\n",
        "\n",
        "| Sample Input:   |      Sample Output:      |\n",
        "|:----------------|:-------------------------|\n",
        "|5 | P   |\n",
        "|95   86   100    |M |\n",
        "|30   60   80   |P |\n",
        "|80   55   85 | F   |\n",
        "|20   30   60    |M |\n",
        "|10   80   10    | |"
      ]
    },
    {
      "cell_type": "code",
      "metadata": {
        "id": "GuIQwoPunhWR"
      },
      "source": [
        ""
      ],
      "execution_count": null,
      "outputs": []
    },
    {
      "cell_type": "markdown",
      "metadata": {
        "id": "IhQ8MKjinhi8"
      },
      "source": [
        "## M2-Q08 計算正整數被 3 整除之數值之總和\n",
        "\n",
        "問題描述：\n",
        "試寫一個程式，輸入一正整數 N，可計算出 1 到 N 之間可被 3 整除的數值之總和。\n",
        "\n",
        "輸入說明：\n",
        "輸入一正整數。\n",
        "\n",
        "輸出說明：\n",
        "輸出總和，最後必須有換行字元。\n",
        "\n",
        "| Sample Input:   |      Sample Output:      |\n",
        "|:----------------|:-------------------------|\n",
        "|100 | 1683⏎   |\n",
        "|150   |3825⏎ |"
      ]
    },
    {
      "cell_type": "code",
      "metadata": {
        "id": "lIfPj8FIn1vj"
      },
      "source": [
        ""
      ],
      "execution_count": null,
      "outputs": []
    },
    {
      "cell_type": "markdown",
      "metadata": {
        "id": "KtOtlKY6pug-"
      },
      "source": [
        "## M2-Q11 正因數\n",
        "\n",
        "問題描述：\n",
        "讓使用者輸入一正整數 n，輸出 n 的所有正因數。\n",
        "\n",
        "輸入說明：\n",
        "輸入一正整數 n。\n",
        "\n",
        "輸出說明：\n",
        "輸出 n 的所有正因數，最後必須有換行字元。\n",
        "\n",
        "| Sample Input:   |      Sample Output:      |\n",
        "|:----------------|:-------------------------|\n",
        "|5 | 1   |\n",
        "|   |5⏎ |\n",
        "|10 | 1   |\n",
        "|   |2 |\n",
        "| | 5   |\n",
        "|   |10⏎ |"
      ]
    },
    {
      "cell_type": "code",
      "metadata": {
        "id": "S6rQ0wF6qIUz"
      },
      "source": [
        ""
      ],
      "execution_count": null,
      "outputs": []
    },
    {
      "cell_type": "markdown",
      "metadata": {
        "id": "4dLmZ7DPqMRe"
      },
      "source": [
        "## M2-Q12 實心正方形\n",
        "\n",
        "問題描述：\n",
        "試撰寫一程式，由使用者輸入一正整數 n 及字元 c，輸出以 c 字元印出邊長為 n 之實心正方形。\n",
        "\n",
        "輸入說明：\n",
        "分別輸入一正整數 n 及字元 c。\n",
        "\n",
        "輸出說明：\n",
        "輸出以 c 字元，印出邊長為 n 之實心正方形，最後必須有換行字元。\n",
        "\n",
        "| Sample Input:   |      Sample Output:      |\n",
        "|:----------------|:-------------------------|\n",
        "|3@ | \\@\\@\\@   |\n",
        "|   |\\@\\@\\@ |\n",
        "|   |\\@\\@\\@⏎ |"
      ]
    },
    {
      "cell_type": "code",
      "metadata": {
        "id": "6wMrmcfJtRJ2"
      },
      "source": [
        ""
      ],
      "execution_count": null,
      "outputs": []
    },
    {
      "cell_type": "markdown",
      "metadata": {
        "id": "fOAWHfkbtRZy"
      },
      "source": [
        "## M2-Q13   n 階乘\n",
        "\n",
        "問題描述：\n",
        "讓使用者輸入一正整數 n，用迴圈計算 n!數值後輸出。\n",
        "\n",
        "輸入說明：\n",
        "輸入一正整數 n ( n <= 20 )。\n",
        "\n",
        "輸出說明：\n",
        "以迴圈計算 n!數值(long)後輸出，最後必須有換行字元。\n",
        "\n",
        "| Sample Input:   |      Sample Output:      |\n",
        "|:----------------|:-------------------------|\n",
        "|8 | 40320⏎   |\n",
        "| 14  |87178291200⏎ |\n"
      ]
    }
  ]
}