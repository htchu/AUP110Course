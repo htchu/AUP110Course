{
 "cells": [
  {
   "cell_type": "markdown",
   "metadata": {
    "id": "_nggt8amtIhI"
   },
   "source": [
    "# AU Fundamentals of Python Programming-Ex15\r\n",
    "* 主題1-M1 Q06-Q08\r\n",
    "* 主題2-M2 Q06-Q08\r\n",
    "* 主題3-M3 Q11-Q15"
   ]
  },
  {
   "cell_type": "markdown",
   "metadata": {
    "id": "tWggqjk8uuU2"
   },
   "source": [
    "##(Input)輸入參數/(Output)輸出結果"
   ]
  },
  {
   "cell_type": "code",
   "execution_count": null,
   "metadata": {
    "id": "CaFD9yTZtH7u"
   },
   "outputs": [],
   "source": [
    "a = int(input()) #用int()轉成整數變數a\r\n",
    "b = float(input()) #float()轉成浮點數變數b"
   ]
  },
  {
   "cell_type": "code",
   "execution_count": null,
   "metadata": {
    "id": "jxbjjXBc3Twc"
   },
   "outputs": [],
   "source": [
    "a, b, c = map(int, input().split()) #用map()將輸入轉成整數變數a, b, c\r\n",
    "print(a, b, c)"
   ]
  },
  {
   "cell_type": "code",
   "execution_count": null,
   "metadata": {
    "id": "eXoXa2eq4x-m"
   },
   "outputs": [],
   "source": [
    "a = 10\r\n",
    "b = 4\r\n",
    "print(a, b, sep='=', end='*')"
   ]
  },
  {
   "cell_type": "code",
   "execution_count": null,
   "metadata": {
    "id": "ClwZAN39vDkJ"
   },
   "outputs": [],
   "source": [
    "a = 1\r\n",
    "b = 2.345\r\n",
    "print(\"輸出整數{0:2d},輸出浮點數{1:5.2f}\".format(a, b))"
   ]
  },
  {
   "cell_type": "markdown",
   "metadata": {
    "id": "izV0HaQsvllK"
   },
   "source": [
    "## M1 Problems:Q6-Q8"
   ]
  },
  {
   "cell_type": "markdown",
   "metadata": {
    "id": "WjMhlqh5wfB1"
   },
   "source": [
    "### M1-Q06 字串切割\r\n",
    "(時間限制：2 秒)\r\n",
    "\r\n",
    "問題描述：\r\n",
    "寫一個程式讓使用者輸入一段文字及一個切割用符號，程式會依指定的符號切割成數\r\n",
    "字子字串。\r\n",
    "\r\n",
    "輸入說明：\r\n",
    "分別輸入文字串(String)及切割符號(char)。\r\n",
    "\r\n",
    "輸出說明：\r\n",
    "透過切割符號切割後每一個字串一列顯示， 最後必須有換行字元 。\r\n",
    "\r\n",
    "| Sample Input:   |      Sample Output:      |\r\n",
    "|:----------------|:-------------------------|\r\n",
    "|asia,japan,taiwan,taipei ,|asia|\r\n",
    "||japan|\r\n",
    "||taiwan|\r\n",
    "| | taipei⏎ |\r\n",
    "|Jack#David&John#Kevin #|Jack|\r\n",
    "||David|\r\n",
    "||John|\r\n",
    "|| Kevin⏎|"
   ]
  },
  {
   "cell_type": "code",
   "execution_count": null,
   "metadata": {
    "id": "q4_o7fQ-xRt-"
   },
   "outputs": [],
   "source": []
  },
  {
   "cell_type": "markdown",
   "metadata": {
    "id": "sbkR5ooUxSyH"
   },
   "source": [
    "### M1-Q07 全部變小寫\r\n",
    "\r\n",
    "問題描述：\r\n",
    "寫一個程式讓使用者輸入一段文字(String)，程式會把文字串所有的字母不管大小寫全\r\n",
    "部變成小寫字母顯示(String)。\r\n",
    "\r\n",
    "輸入說明：\r\n",
    "分別輸入文字串(String)。\r\n",
    "\r\n",
    "輸出說明：\r\n",
    "字串裡的每一個字母都變成小寫後顯示(String)， 最後必須有換行字元 。\r\n",
    "\r\n",
    "| Sample Input:   |      Sample Output:      |\r\n",
    "|:----------------|:-------------------------|\r\n",
    "| Taiwan and U.S.A. | taiwan and u.s.a.⏎ |\r\n",
    "| Python is a good Programming Language. | python is a good programming language.⏎|"
   ]
  },
  {
   "cell_type": "code",
   "execution_count": null,
   "metadata": {
    "id": "ZRu4XHNMx7Zh"
   },
   "outputs": [],
   "source": [
    "#lower() 方法轉換str中所有大寫字符為小寫。\r\n",
    "#upper() 方法轉換str中所有小寫字符為大寫。\r\n"
   ]
  },
  {
   "cell_type": "markdown",
   "metadata": {
    "id": "qrkukR-NyTwc"
   },
   "source": [
    "### M1-Q08 單位換算：公升轉加侖\r\n",
    "問題描述：\r\n",
    "大明幫媽媽到油漆行買油漆，結果店員問他要幾「美加侖」的，大明不知道該怎麼回\r\n",
    "答，心裡想媽媽只有說大約要2公升的漆。請寫一程式可以將公升換算成美加侖。 依\r\n",
    "度量衡標準 1公升 = 0.26418 美加侖\r\n",
    "\r\n",
    "輸入說明：\r\n",
    "輸入欲轉換之公升數(float)。\r\n",
    "\r\n",
    "輸出說明：\r\n",
    "輸出加侖(float)，四捨五入取到小數點以下第一位， 最後必須有換行字元 。\r\n",
    "\r\n",
    "| Sample Input:   |      Sample Output:      |\r\n",
    "|:----------------|:-------------------------|\r\n",
    "| 10 | 2.6⏎ |\r\n",
    "| 18 | 4.8⏎|"
   ]
  },
  {
   "cell_type": "code",
   "execution_count": null,
   "metadata": {
    "id": "80TNadswyQW_"
   },
   "outputs": [],
   "source": []
  },
  {
   "cell_type": "markdown",
   "metadata": {
    "id": "LiXjdndWylzW"
   },
   "source": [
    "## M2 Problems:Q6-Q8"
   ]
  },
  {
   "cell_type": "markdown",
   "metadata": {
    "id": "Wk7qkZ3EyrZa"
   },
   "source": [
    "### M2-Q06 質數判別\r\n",
    "問題描述：\r\n",
    "試撰寫一個程式，由輸入一個整數，然後判別此數是否為質數。質數是指除了 1 和它\r\n",
    "本身之外，沒有其它的數可以整除它的數，例如：2,3,5,7 與 11 等皆為質數。\r\n",
    "\r\n",
    "輸入說明：\r\n",
    "輸入一個正整數。\r\n",
    "\r\n",
    "輸出說明：\r\n",
    "質數顯示 YES；非質數顯示 NO，最後必須有換行字元。\r\n",
    "\r\n",
    "| Sample Input:   |      Sample Output:      |\r\n",
    "|:----------------|:-------------------------|\r\n",
    "| 23 | YES⏎ |\r\n",
    "| 37 | YES⏎|\r\n",
    "| 39 | NO⏎|"
   ]
  },
  {
   "cell_type": "code",
   "execution_count": null,
   "metadata": {
    "id": "7vbxGumIzNEi"
   },
   "outputs": [],
   "source": []
  },
  {
   "cell_type": "markdown",
   "metadata": {
    "id": "hDqNGknbzMMO"
   },
   "source": [
    "### M2-Q07 考試測驗\r\n",
    "\r\n",
    "問題描述：\r\n",
    "某間學校舉辦英文檢定測驗，若是學生通過該測驗，則能通過畢業門檻。老師準備的\r\n",
    "英文測驗中分為三個項目當作考試，分別是聽力、閱讀、口說。每一個項目測驗滿分\r\n",
    "皆為 100 分，總分為 300 分。想要通過測驗有兩種方式。\r\n",
    "方式一：若是三個項目分數皆為 60 分以上(包含 60 分)即為通過測驗。\r\n",
    "方式二：\r\n",
    "1. 若三個項目中有其中一個項目分數未滿 60 分，但三個項目分數總合大於等於\r\n",
    "220 分，也可算通過測驗。\r\n",
    "2. 若三個項目中有其中一個項目分數未滿 60 分，而三個項目分數總合也沒能達\r\n",
    "到 220 分，可獲得補考機會。\r\n",
    "3. 若是三個項目中有兩個項目不及格，但另一個項目成績高於 80 分(包含 80 分)\r\n",
    "，也可獲得補考的機會。\r\n",
    "其餘皆判定為無法通過測驗。\r\n",
    "\r\n",
    "輸入說明：\r\n",
    "第一行為一個整數 N，代表共有 N 組測試資料。之後有 N 行，每一行有 3 個非負整數\r\n",
    "(範圍皆為 0 到 100)，分別代表該名學生聽力、閱讀、口說的測驗分數。\r\n",
    "\r\n",
    "輸出說明：\r\n",
    "若是通過測驗，則輸出“P”。若是需要補考，則輸出“M”。若是無法通過測驗，則輸出\r\n",
    "“F”。每組答案結果輸出於一行，最後必須有換行字元。\r\n",
    "\r\n",
    "| Sample Input:   |      Sample Output:      |\r\n",
    "|:----------------|:-------------------------|\r\n",
    "| 5 | P |\r\n",
    "| 95 86 100 | M |\r\n",
    "| 30 60 80 | P |\r\n",
    "| 80 55 85 | F |\r\n",
    "| 20 30 60 | M⏎ |\r\n",
    "| 10 80 10 | |"
   ]
  },
  {
   "cell_type": "code",
   "execution_count": null,
   "metadata": {
    "id": "4IJHqqWtzxLq"
   },
   "outputs": [],
   "source": []
  },
  {
   "cell_type": "markdown",
   "metadata": {
    "id": "Y2lGtcMJzygR"
   },
   "source": [
    "### M2-Q08 計算正整數被 3 整除之數值之總和\r\n",
    "\r\n",
    "問題描述：\r\n",
    "試寫一個程式，輸入一正整數 N，可計算出 1 到 N 之間可被 3 整除的數值之總和。\r\n",
    "\r\n",
    "輸入說明：\r\n",
    "輸入一正整數。\r\n",
    "\r\n",
    "輸出說明：\r\n",
    "輸出總和，最後必須有換行字元。\r\n",
    "\r\n",
    "| Sample Input:   |      Sample Output:      |\r\n",
    "|:----------------|:-------------------------|\r\n",
    "| 100 | 1683⏎|\r\n",
    "| 150 | 3825⏎|"
   ]
  },
  {
   "cell_type": "code",
   "execution_count": null,
   "metadata": {
    "id": "iTVx4_cA0JBd"
   },
   "outputs": [],
   "source": []
  },
  {
   "cell_type": "markdown",
   "metadata": {
    "id": "cmiEXeR80IeR"
   },
   "source": [
    "## M3 Problems:Q11-Q15"
   ]
  },
  {
   "cell_type": "markdown",
   "metadata": {
    "id": "_85-o3-K0QHP"
   },
   "source": [
    "### M3Q11. 連續元素和0\r\n",
    "問題描述：\r\n",
    "一個整數陣列中有正數、負數與 0，而且元素也不重複。請寫一程式找出這個陣列中\r\n",
    "連續的若干元素，其和為 0。例如：1、2、3、-5、4 中， 2、3、-5 和為 0。\r\n",
    "\r\n",
    "輸入說明：\r\n",
    "分別輸入陣列大小N 及具有N 個元素的數列。\r\n",
    "\r\n",
    "輸出說明：\r\n",
    "請找出陣列連續的若干元素其和為 0，並輸出結果，數字以空白間格，最後必須有換\r\n",
    "行字元。\r\n",
    "\r\n",
    "| Sample Input:   |      Sample Output:      |\r\n",
    "|:----------------|:-------------------------|\r\n",
    "| 5 | 2 3 -5 |\r\n",
    "| 1 2 3 -5 4 | ⏎|"
   ]
  },
  {
   "cell_type": "code",
   "execution_count": null,
   "metadata": {
    "id": "kSFKF7sx3CXA"
   },
   "outputs": [],
   "source": []
  },
  {
   "cell_type": "markdown",
   "metadata": {
    "id": "OLcuj2p56PuS"
   },
   "source": [
    "### M3Q12. 找尋同元素\r\n",
    "\r\n",
    "問題描述：\r\n",
    "已知兩個整數陣列f 與g，它們的元素都已經自小到大排好，而且兩個陣列的元素都各\r\n",
    "自不相同。譬如f 有1、3、4、7、9，g 有3、5、7、8、10。請寫一程式算出這兩個陣\r\n",
    "列彼此之間有多少組相同的資料。以上例而言，f[2]與g[1]均為3，是第一組。f[4]與\r\n",
    "g[3]均為7，是第二組。\r\n",
    "\r\n",
    "輸入說明：\r\n",
    "輸入N1 與N2 兩個正整數，接著輸入兩個分別具有 N1 個元素與N2 個元素的數列。\r\n",
    "\r\n",
    "輸出說明：\r\n",
    "兩陣列中分別都有出現的元素有多少組。\r\n",
    "\r\n",
    "| Sample Input:   |      Sample Output:      |\r\n",
    "|:----------------|:-------------------------|\r\n",
    "| 8 6 | 2 |\r\n",
    "| 2 3 3 2 3 4 5 6 | ⏎|\r\n",
    "|3 3 1 -1 4 7||"
   ]
  },
  {
   "cell_type": "code",
   "execution_count": null,
   "metadata": {
    "id": "anJHcjzj7M8g"
   },
   "outputs": [],
   "source": []
  },
  {
   "cell_type": "markdown",
   "metadata": {
    "id": "8mMbe1mO9nGg"
   },
   "source": [
    "### M3Q13. 萬年曆\r\n",
    "\r\n",
    "問題描述：\r\n",
    "請設計一個萬年曆,可以輸入任意年份(year)及月份(month)，印出該月份月曆。\r\n",
    "以 2001 年 3 月份為例，格式如下：\r\n",
    "\r\n",
    "| SU MO TU WE TH FR SA |\r\n",
    "|:-------------------------|\r\n",
    "|&nbsp;&nbsp;&nbsp;&nbsp;&nbsp;&nbsp;&nbsp;&nbsp;&nbsp;&nbsp;&nbsp;&nbsp;&nbsp;&nbsp;&nbsp;&nbsp;&nbsp;&nbsp;&nbsp;&nbsp;&nbsp;&nbsp;&nbsp;&nbsp;&nbsp;&nbsp;&nbsp;&nbsp;1&nbsp;&nbsp;&nbsp; 2&nbsp;&nbsp;&nbsp; 3|\r\n",
    "|&nbsp;&nbsp;4 &nbsp;&nbsp;&nbsp;5 &nbsp;&nbsp;&nbsp;6 &nbsp;&nbsp;&nbsp;7 &nbsp;&nbsp;&nbsp;8 &nbsp;&nbsp;&nbsp;9&nbsp;&nbsp; 10|\r\n",
    "|11&nbsp; 12 &nbsp;13 &nbsp;14&nbsp; 15 &nbsp;16&nbsp; 17|\r\n",
    "|18&nbsp; 19 &nbsp;20 &nbsp;21 &nbsp;22 &nbsp;23 &nbsp;24|\r\n",
    "|25&nbsp; 26&nbsp; 27&nbsp; 28&nbsp; 29&nbsp; 30&nbsp; 31|\r\n",
    "\r\n",
    "1. 一年中每月日數如下表，潤年二月份29 日、平年28 日\r\n",
    "\r\n",
    "| 月份  |  1 | 2  |  3 | 4  |  5 | 6  |  7 | 8  | 9 | 10  | 11 | 12 |\r\n",
    "|---|---|---|---|---|---|---|---|---|---|---|---|---|\r\n",
    "| 日數  |31| 28| 31| 30| 31| 30| 31| 31| 30| 31| 30| 31  |\r\n",
    "\r\n",
    "2. 潤年之判斷為 4 年一潤，逢 100 年不潤，逢 400 年又潤\r\n",
    "3. 故西元 1 年 1 月 1 日為星期一，而一年有 52 個星期零 1 天，故西元 2 年 1\r\n",
    "月 1 日為星期二，以此類推)\r\n",
    "\r\n",
    "輸入說明：\r\n",
    "輸入年份(year)及月份(month)。\r\n",
    "\r\n",
    "輸出說明：\r\n",
    "輸出該月份月曆，每個數字間請以tab 間格，最後必須有換行字元。\r\n",
    "\r\n",
    "\r\n",
    "| Sample Input:   |      Sample Output:      |\r\n",
    "|:----------------|:-------------------------|\r\n",
    "| 2001 3 | SU MO TU WE TH FR SA |\r\n",
    "||&nbsp;&nbsp;&nbsp;&nbsp;&nbsp;&nbsp;&nbsp;&nbsp;&nbsp;&nbsp;&nbsp;&nbsp;&nbsp;&nbsp;&nbsp;&nbsp;&nbsp;&nbsp;&nbsp;&nbsp;&nbsp;&nbsp;&nbsp;&nbsp;&nbsp;&nbsp;&nbsp;&nbsp;1&nbsp;&nbsp;&nbsp; 2&nbsp;&nbsp;&nbsp; 3|\r\n",
    "||&nbsp;&nbsp;4 &nbsp;&nbsp;&nbsp;5 &nbsp;&nbsp;&nbsp;6 &nbsp;&nbsp;&nbsp;7 &nbsp;&nbsp;&nbsp;8 &nbsp;&nbsp;&nbsp;9&nbsp;&nbsp; 10|\r\n",
    "||11&nbsp; 12 &nbsp;13 &nbsp;14&nbsp; 15 &nbsp;16&nbsp; 17|\r\n",
    "||18&nbsp; 19 &nbsp;20 &nbsp;21 &nbsp;22 &nbsp;23 &nbsp;24|\r\n",
    "||25&nbsp; 26&nbsp; 27&nbsp; 28&nbsp; 29&nbsp; 30&nbsp; 31|\r\n",
    "| | ⏎|"
   ]
  },
  {
   "cell_type": "code",
   "execution_count": null,
   "metadata": {
    "id": "s3piqygTC24b"
   },
   "outputs": [],
   "source": [
    "#date.weekday()\r\n",
    "#返回一個整數代表星期幾，星期一為0，星期天為6。例如， date(2002, 12, 4).weekday() == 2，表示的是星期三。參閱 isoweekday()。"
   ]
  },
  {
   "cell_type": "code",
   "execution_count": null,
   "metadata": {
    "id": "ZmVSLM3jBC97"
   },
   "outputs": [],
   "source": [
    "y, m = map(int, input().split())\r\n",
    "import datetime\r\n",
    "day1 = datetime.date(y,m,1)\r\n",
    "wday = (day1.weekday()+1)%7\r\n",
    "print(day1.weekday())"
   ]
  },
  {
   "cell_type": "code",
   "execution_count": null,
   "metadata": {
    "id": "0UNbH1mhDMa-"
   },
   "outputs": [],
   "source": []
  },
  {
   "cell_type": "markdown",
   "metadata": {
    "id": "6BPxCgg6G9cV"
   },
   "source": [
    "### M3Q14. 陣列A[n][n]、B[n][n]\r\n",
    "\r\n",
    "問題描述：\r\n",
    "讓使用者輸入一正整數 n，並輸出兩個二維陣列A[n][n]、B[n][n] 如下：(不要只用\r\n",
    "printf，嘗試用迴圈或其他方法)\r\n",
    "\r\n",
    "輸入說明：\r\n",
    "輸入一正整數 n\r\n",
    "\r\n",
    "輸出說明：\r\n",
    "輸出兩個二維陣列A[n][n]、B[n][n]，每個數字間請以 tab 間格，最後必須有換行字元。\r\n",
    "\r\n",
    "| Sample Input:   |      Sample Output:      |\r\n",
    "|:----------------|:-------------------------|\r\n",
    "| 5| 1 2 3 4 5|\r\n",
    "||10 9 8 7 6|\r\n",
    "||11 12 13 14 15|\r\n",
    "||20 19 18 17 16|\r\n",
    "||21 22 23 24 25|\r\n",
    "||1 10 11 20 21|\r\n",
    "||2 9 12 19 22|\r\n",
    "||3 8 13 18 23|\r\n",
    "||4 7 14 17 24|\r\n",
    "||5 6 15 16 25|\r\n",
    "|  | ⏎|"
   ]
  },
  {
   "cell_type": "code",
   "execution_count": null,
   "metadata": {
    "id": "8Ny2Ci17G74J"
   },
   "outputs": [],
   "source": []
  },
  {
   "cell_type": "markdown",
   "metadata": {
    "id": "bkGK7iigLeoa"
   },
   "source": [
    "### M3Q15. 矩陣的乘法\r\n",
    "問題描述：\r\n",
    "寫一程式計算兩個矩陣的乘法，例如 A 是 n1 x m1 的矩陣， B 是 n2 x m2 的矩陣，\r\n",
    "C=AB 為 n1 x m2 矩陣。\r\n",
    "\r\n",
    "輸入說明：\r\n",
    "第一列輸入n1、m1、n2 及m2 等4 個整數，n1、m1 是第一個陣列的列(row)與行(column)，\r\n",
    "而n2、m2 則是第二個陣列的列(row)與行(column)，其中m2 = n2。接著輸入兩個陣列\r\n",
    "的內容。\r\n",
    "\r\n",
    "輸出說明：\r\n",
    "輸出矩陣相乘後的結果，最後必須有換行字元。\r\n",
    "\r\n",
    "| Sample Input:   |      Sample Output:      |\r\n",
    "|:----------------|:-------------------------|\r\n",
    "| 3 2 2 3    | 9 2 -1 |\r\n",
    "| 1 4    | 8 4 3   |\r\n",
    "| 2 3  | 7 6 7  |\r\n",
    "| 3 2  | ⏎|\r\n",
    "|1 2 3||\r\n",
    "|2 0 -1||"
   ]
  },
  {
   "cell_type": "code",
   "execution_count": null,
   "metadata": {
    "id": "rtU7VfLjLuG7"
   },
   "outputs": [],
   "source": [
    "\r\n",
    "\r\n"
   ]
  }
 ],
 "metadata": {
  "colab": {
   "authorship_tag": "ABX9TyP/CXc9xSXS4hQi3avQqtD/",
   "collapsed_sections": [],
   "name": "AUPython-Ex15.ipynb",
   "provenance": [
    {
     "file_id": "14vv3-ut3jp7pB_6umhfKXYaj2LlscSve",
     "timestamp": 1609285498430
    }
   ]
  },
  "kernelspec": {
   "display_name": "Python 3",
   "language": "python",
   "name": "python3"
  },
  "language_info": {
   "codemirror_mode": {
    "name": "ipython",
    "version": 3
   },
   "file_extension": ".py",
   "mimetype": "text/x-python",
   "name": "python",
   "nbconvert_exporter": "python",
   "pygments_lexer": "ipython3",
   "version": "3.7.6"
  }
 },
 "nbformat": 4,
 "nbformat_minor": 4
}
