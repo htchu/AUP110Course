{
  "nbformat": 4,
  "nbformat_minor": 0,
  "metadata": {
    "colab": {
      "name": "AUP110_W15_Exercise.ipynb",
      "provenance": [],
      "collapsed_sections": []
    },
    "kernelspec": {
      "display_name": "Python 3",
      "language": "python",
      "name": "python3"
    },
    "language_info": {
      "codemirror_mode": {
        "name": "ipython",
        "version": 3
      },
      "file_extension": ".py",
      "mimetype": "text/x-python",
      "name": "python",
      "nbconvert_exporter": "python",
      "pygments_lexer": "ipython3",
      "version": "3.7.6"
    }
  },
  "cells": [
    {
      "cell_type": "markdown",
      "metadata": {
        "id": "_nggt8amtIhI"
      },
      "source": [
        "# AU Fundamentals of Python Programming-Ex15"
      ]
    },
    {
      "cell_type": "markdown",
      "metadata": {
        "id": "_85-o3-K0QHP"
      },
      "source": [
        "### M3Q11. 連續元素和0\n",
        "問題描述：\n",
        "一個整數陣列中有正數、負數與 0，而且元素也不重複。請寫一程式找出這個陣列中\n",
        "連續的若干元素，其和為 0。例如：1、2、3、-5、4 中， 2、3、-5 和為 0。\n",
        "\n",
        "輸入說明：\n",
        "分別輸入陣列大小N 及具有N 個元素的數列。\n",
        "\n",
        "輸出說明：\n",
        "請找出陣列連續的若干元素其和為 0，並輸出結果，數字以空白間格，最後必須有換\n",
        "行字元。\n",
        "\n",
        "| Sample Input:   |      Sample Output:      |\n",
        "|:----------------|:-------------------------|\n",
        "| 5 | 2 3 -5 |\n",
        "| 1 2 3 -5 4 | ⏎|"
      ]
    },
    {
      "cell_type": "code",
      "metadata": {
        "id": "kSFKF7sx3CXA"
      },
      "source": [
        ""
      ],
      "execution_count": null,
      "outputs": []
    },
    {
      "cell_type": "markdown",
      "metadata": {
        "id": "OLcuj2p56PuS"
      },
      "source": [
        "### M3Q12. 找尋同元素\n",
        "\n",
        "問題描述：\n",
        "已知兩個整數陣列f 與g，它們的元素都已經自小到大排好，而且兩個陣列的元素都各\n",
        "自不相同。譬如f 有1、3、4、7、9，g 有3、5、7、8、10。請寫一程式算出這兩個陣\n",
        "列彼此之間有多少組相同的資料。以上例而言，f[2]與g[1]均為3，是第一組。f[4]與\n",
        "g[3]均為7，是第二組。\n",
        "\n",
        "輸入說明：\n",
        "輸入N1 與N2 兩個正整數，接著輸入兩個分別具有 N1 個元素與N2 個元素的數列。\n",
        "\n",
        "輸出說明：\n",
        "兩陣列中分別都有出現的元素有多少組。\n",
        "\n",
        "| Sample Input:   |      Sample Output:      |\n",
        "|:----------------|:-------------------------|\n",
        "| 8 6 | 2 |\n",
        "| 2 3 3 2 3 4 5 6 | ⏎|\n",
        "|3 3 1 -1 4 7||"
      ]
    },
    {
      "cell_type": "code",
      "metadata": {
        "id": "anJHcjzj7M8g"
      },
      "source": [
        ""
      ],
      "execution_count": null,
      "outputs": []
    },
    {
      "cell_type": "markdown",
      "metadata": {
        "id": "8mMbe1mO9nGg"
      },
      "source": [
        "### M3Q13. 萬年曆\n",
        "\n",
        "問題描述：\n",
        "請設計一個萬年曆,可以輸入任意年份(year)及月份(month)，印出該月份月曆。\n",
        "以 2001 年 3 月份為例，格式如下：\n",
        "\n",
        "| SU MO TU WE TH FR SA |\n",
        "|:-------------------------|\n",
        "|&nbsp;&nbsp;&nbsp;&nbsp;&nbsp;&nbsp;&nbsp;&nbsp;&nbsp;&nbsp;&nbsp;&nbsp;&nbsp;&nbsp;&nbsp;&nbsp;&nbsp;&nbsp;&nbsp;&nbsp;&nbsp;&nbsp;&nbsp;&nbsp;&nbsp;&nbsp;&nbsp;&nbsp;1&nbsp;&nbsp;&nbsp; 2&nbsp;&nbsp;&nbsp; 3|\n",
        "|&nbsp;&nbsp;4 &nbsp;&nbsp;&nbsp;5 &nbsp;&nbsp;&nbsp;6 &nbsp;&nbsp;&nbsp;7 &nbsp;&nbsp;&nbsp;8 &nbsp;&nbsp;&nbsp;9&nbsp;&nbsp; 10|\n",
        "|11&nbsp; 12 &nbsp;13 &nbsp;14&nbsp; 15 &nbsp;16&nbsp; 17|\n",
        "|18&nbsp; 19 &nbsp;20 &nbsp;21 &nbsp;22 &nbsp;23 &nbsp;24|\n",
        "|25&nbsp; 26&nbsp; 27&nbsp; 28&nbsp; 29&nbsp; 30&nbsp; 31|\n",
        "\n",
        "1. 一年中每月日數如下表，潤年二月份29 日、平年28 日\n",
        "\n",
        "| 月份  |  1 | 2  |  3 | 4  |  5 | 6  |  7 | 8  | 9 | 10  | 11 | 12 |\n",
        "|---|---|---|---|---|---|---|---|---|---|---|---|---|\n",
        "| 日數  |31| 28| 31| 30| 31| 30| 31| 31| 30| 31| 30| 31  |\n",
        "\n",
        "2. 潤年之判斷為 4 年一潤，逢 100 年不潤，逢 400 年又潤\n",
        "3. 故西元 1 年 1 月 1 日為星期一，而一年有 52 個星期零 1 天，故西元 2 年 1\n",
        "月 1 日為星期二，以此類推)\n",
        "\n",
        "輸入說明：\n",
        "輸入年份(year)及月份(month)。\n",
        "\n",
        "輸出說明：\n",
        "輸出該月份月曆，每個數字間請以tab 間格，最後必須有換行字元。\n",
        "\n",
        "\n",
        "| Sample Input:   |      Sample Output:      |\n",
        "|:----------------|:-------------------------|\n",
        "| 2001 3 | SU MO TU WE TH FR SA |\n",
        "||&nbsp;&nbsp;&nbsp;&nbsp;&nbsp;&nbsp;&nbsp;&nbsp;&nbsp;&nbsp;&nbsp;&nbsp;&nbsp;&nbsp;&nbsp;&nbsp;&nbsp;&nbsp;&nbsp;&nbsp;&nbsp;&nbsp;&nbsp;&nbsp;&nbsp;&nbsp;&nbsp;&nbsp;1&nbsp;&nbsp;&nbsp; 2&nbsp;&nbsp;&nbsp; 3|\n",
        "||&nbsp;&nbsp;4 &nbsp;&nbsp;&nbsp;5 &nbsp;&nbsp;&nbsp;6 &nbsp;&nbsp;&nbsp;7 &nbsp;&nbsp;&nbsp;8 &nbsp;&nbsp;&nbsp;9&nbsp;&nbsp; 10|\n",
        "||11&nbsp; 12 &nbsp;13 &nbsp;14&nbsp; 15 &nbsp;16&nbsp; 17|\n",
        "||18&nbsp; 19 &nbsp;20 &nbsp;21 &nbsp;22 &nbsp;23 &nbsp;24|\n",
        "||25&nbsp; 26&nbsp; 27&nbsp; 28&nbsp; 29&nbsp; 30&nbsp; 31|\n",
        "| | ⏎|"
      ]
    },
    {
      "cell_type": "code",
      "metadata": {
        "id": "s3piqygTC24b"
      },
      "source": [
        "#date.weekday()\n",
        "#返回一個整數代表星期幾，星期一為0，星期天為6。例如， date(2002, 12, 4).weekday() == 2，表示的是星期三。參閱 isoweekday()。"
      ],
      "execution_count": null,
      "outputs": []
    },
    {
      "cell_type": "code",
      "metadata": {
        "id": "ZmVSLM3jBC97"
      },
      "source": [
        "y, m = map(int, input().split())\n",
        "import datetime\n",
        "day1 = datetime.date(y,m,1)\n",
        "wday = (day1.weekday()+1)%7\n",
        "print(day1.weekday())"
      ],
      "execution_count": null,
      "outputs": []
    },
    {
      "cell_type": "code",
      "metadata": {
        "id": "0UNbH1mhDMa-"
      },
      "source": [
        ""
      ],
      "execution_count": null,
      "outputs": []
    },
    {
      "cell_type": "markdown",
      "metadata": {
        "id": "6BPxCgg6G9cV"
      },
      "source": [
        "### M3Q14. 陣列A[n][n]、B[n][n]\n",
        "\n",
        "問題描述：\n",
        "讓使用者輸入一正整數 n，並輸出兩個二維陣列A[n][n]、B[n][n] 如下：(不要只用\n",
        "printf，嘗試用迴圈或其他方法)\n",
        "\n",
        "輸入說明：\n",
        "輸入一正整數 n\n",
        "\n",
        "輸出說明：\n",
        "輸出兩個二維陣列A[n][n]、B[n][n]，每個數字間請以 tab 間格，最後必須有換行字元。\n",
        "\n",
        "| Sample Input:   |      Sample Output:      |\n",
        "|:----------------|:-------------------------|\n",
        "| 5| 1 2 3 4 5|\n",
        "||10 9 8 7 6|\n",
        "||11 12 13 14 15|\n",
        "||20 19 18 17 16|\n",
        "||21 22 23 24 25|\n",
        "||1 10 11 20 21|\n",
        "||2 9 12 19 22|\n",
        "||3 8 13 18 23|\n",
        "||4 7 14 17 24|\n",
        "||5 6 15 16 25|\n",
        "|  | ⏎|"
      ]
    },
    {
      "cell_type": "code",
      "metadata": {
        "id": "8Ny2Ci17G74J"
      },
      "source": [
        ""
      ],
      "execution_count": null,
      "outputs": []
    },
    {
      "cell_type": "markdown",
      "metadata": {
        "id": "bkGK7iigLeoa"
      },
      "source": [
        "### M3Q15. 矩陣的乘法\n",
        "問題描述：\n",
        "寫一程式計算兩個矩陣的乘法，例如 A 是 n1 x m1 的矩陣， B 是 n2 x m2 的矩陣，\n",
        "C=AB 為 n1 x m2 矩陣。\n",
        "\n",
        "輸入說明：\n",
        "第一列輸入n1、m1、n2 及m2 等4 個整數，n1、m1 是第一個陣列的列(row)與行(column)，\n",
        "而n2、m2 則是第二個陣列的列(row)與行(column)，其中m2 = n2。接著輸入兩個陣列\n",
        "的內容。\n",
        "\n",
        "輸出說明：\n",
        "輸出矩陣相乘後的結果，最後必須有換行字元。\n",
        "\n",
        "| Sample Input:   |      Sample Output:      |\n",
        "|:----------------|:-------------------------|\n",
        "| 3 2 2 3    | 9 2 -1 |\n",
        "| 1 4    | 8 4 3   |\n",
        "| 2 3  | 7 6 7  |\n",
        "| 3 2  | ⏎|\n",
        "|1 2 3||\n",
        "|2 0 -1||"
      ]
    },
    {
      "cell_type": "code",
      "metadata": {
        "id": "rtU7VfLjLuG7"
      },
      "source": [
        "\n",
        "\n"
      ],
      "execution_count": null,
      "outputs": []
    }
  ]
}