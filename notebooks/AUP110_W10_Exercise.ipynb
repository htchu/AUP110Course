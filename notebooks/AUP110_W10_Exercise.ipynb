{
  "nbformat": 4,
  "nbformat_minor": 0,
  "metadata": {
    "colab": {
      "name": "AUP110_W10_Exercise.ipynb",
      "provenance": [],
      "collapsed_sections": []
    },
    "kernelspec": {
      "display_name": "Python 3",
      "language": "python",
      "name": "python3"
    },
    "language_info": {
      "codemirror_mode": {
        "name": "ipython",
        "version": 3
      },
      "file_extension": ".py",
      "mimetype": "text/x-python",
      "name": "python",
      "nbconvert_exporter": "python",
      "pygments_lexer": "ipython3",
      "version": "3.7.6"
    }
  },
  "cells": [
    {
      "cell_type": "markdown",
      "metadata": {
        "id": "u0m4iQIaV2aQ"
      },
      "source": [
        "#  Leetcode problem: Two Sum\n",
        "\n",
        "https://leetcode.com/problems/two-sum/\n",
        "\n",
        "Given an array of integers nums and an integer target, return indices of the two numbers such that they add up to target.\n",
        "\n",
        "You may assume that each input would have exactly one solution, and you may not use the same element twice.\n",
        "\n",
        "You can return the answer in any order.\n",
        "\n",
        " \n",
        "\n",
        "Example 1:\n",
        "\n",
        "Input: nums = [2,7,11,15], target = 9\n",
        "Output: [0,1]\n",
        "Output: Because nums[0] + nums[1] == 9, we return [0, 1].\n",
        "Example 2:\n",
        "\n",
        "Input: nums = [3,2,4], target = 6\n",
        "Output: [1,2]\n",
        "Example 3:\n",
        "\n",
        "Input: nums = [3,3], target = 6\n",
        "Output: [0,1]"
      ]
    },
    {
      "cell_type": "markdown",
      "metadata": {
        "id": "bUjGQASFWmVB"
      },
      "source": [
        "## Method-1"
      ]
    },
    {
      "cell_type": "code",
      "metadata": {
        "id": "eni1NZcLWWAr"
      },
      "source": [
        "from typing import List\n",
        "def twoSum(nums: List[int], target: int) -> List[int]:\n",
        "    #程式區間\n",
        "    for i, num1 in enumerate(nums):\n",
        "            for j, num2 in enumerate(nums):\n",
        "                if i == j:\n",
        "                    continue\n",
        "                if num1 + num2 == target:\n",
        "                    return [i, j]"
      ],
      "execution_count": null,
      "outputs": []
    },
    {
      "cell_type": "code",
      "metadata": {
        "id": "UDZA5Xe4Ws79"
      },
      "source": [
        "nums=[2,7,11,15]\n",
        "target=9\n",
        "result =twoSum(nums, target)  \n",
        "print(result) "
      ],
      "execution_count": null,
      "outputs": []
    },
    {
      "cell_type": "markdown",
      "metadata": {
        "id": "_c-cxGW9WvZN"
      },
      "source": [
        "## Method-2: 使用字典\n",
        "To improve our run time complexity, we need a more efficient way to check if the complement exists in the array. If the complement exists, we need to look up its index. What is the best way to maintain a mapping of each element in the array to its index? A hash table(dictionary)."
      ]
    },
    {
      "cell_type": "code",
      "metadata": {
        "id": "7kl6XE4DWyej"
      },
      "source": [
        "def twoSum(nums: List[int], target: int) -> List[int]:\n",
        "    #程式區間"
      ],
      "execution_count": null,
      "outputs": []
    },
    {
      "cell_type": "markdown",
      "metadata": {
        "id": "L_j9J2r5MfQd"
      },
      "source": [
        "#  Leetcode problem: Reverse Integer\n",
        "https://leetcode.com/problems/reverse-integer/\n",
        "\n",
        "Given a 32-bit signed integer, reverse digits of an integer."
      ]
    },
    {
      "cell_type": "markdown",
      "metadata": {
        "id": "zmJdHSVSqUh0"
      },
      "source": [
        "## Method-1\n",
        "使用字串 \n",
        "https://www.geeksforgeeks.org/string-slicing-in-python/"
      ]
    },
    {
      "cell_type": "code",
      "metadata": {
        "id": "1xGqC3DUMemY"
      },
      "source": [
        "from typing import List\n",
        "def reverse(x: int) -> int:\n",
        "    #程式區間\n"
      ],
      "execution_count": null,
      "outputs": []
    },
    {
      "cell_type": "code",
      "metadata": {
        "colab": {
          "base_uri": "https://localhost:8080/"
        },
        "id": "9A_z54Haj-ay",
        "outputId": "28ae83d4-54be-4b5e-f95e-97592582e0f9"
      },
      "source": [
        "result =reverse(150)  \n",
        "print(result) \n",
        "result =reverse(-123)  \n",
        "print(result) \n",
        "result =reverse(0)  \n",
        "print(result) "
      ],
      "execution_count": null,
      "outputs": [
        {
          "name": "stdout",
          "output_type": "stream",
          "text": [
            "51\n",
            "-321\n",
            "0\n"
          ]
        }
      ]
    },
    {
      "cell_type": "markdown",
      "metadata": {
        "id": "A_nCjXP_nrNA"
      },
      "source": [
        "## Method-2\n",
        "\n",
        "使用序列List"
      ]
    },
    {
      "cell_type": "code",
      "metadata": {
        "id": "E1DUTv9hoYWE"
      },
      "source": [
        "from typing import List\n",
        "def reverse(x: int) -> int:\n",
        "    #程式區間\n"
      ],
      "execution_count": null,
      "outputs": []
    },
    {
      "cell_type": "code",
      "metadata": {
        "colab": {
          "base_uri": "https://localhost:8080/"
        },
        "id": "ohlQALibpwn0",
        "outputId": "0ef979ba-0dcf-4323-990d-86ae0f7cb271"
      },
      "source": [
        "result =reverse(150)  \n",
        "print(result) \n",
        "result =reverse(-123)  \n",
        "print(result) \n",
        "result =reverse(0)  \n",
        "print(result) "
      ],
      "execution_count": null,
      "outputs": [
        {
          "name": "stdout",
          "output_type": "stream",
          "text": [
            "51\n",
            "-321\n",
            "0\n"
          ]
        }
      ]
    },
    {
      "cell_type": "code",
      "metadata": {
        "colab": {
          "base_uri": "https://localhost:8080/"
        },
        "id": "rtgqz6z6ucL1",
        "outputId": "0b622bbe-c4ed-4fa2-af60-5f555fc3e3f8"
      },
      "source": [
        "print(range(4,0,-1))"
      ],
      "execution_count": null,
      "outputs": [
        {
          "name": "stdout",
          "output_type": "stream",
          "text": [
            "range(4, 0, -1)\n"
          ]
        }
      ]
    }
  ]
}