{
  "nbformat": 4,
  "nbformat_minor": 0,
  "metadata": {
    "colab": {
      "name": "AUP110_W9_Notebook.ipynb",
      "provenance": [],
      "collapsed_sections": [],
      "toc_visible": true
    },
    "kernelspec": {
      "display_name": "Python 3",
      "language": "python",
      "name": "python3"
    },
    "language_info": {
      "codemirror_mode": {
        "name": "ipython",
        "version": 3
      },
      "file_extension": ".py",
      "mimetype": "text/x-python",
      "name": "python",
      "nbconvert_exporter": "python",
      "pygments_lexer": "ipython3",
      "version": "3.7.6"
    }
  },
  "cells": [
    {
      "cell_type": "markdown",
      "metadata": {
        "id": "cI_rckljBzgF"
      },
      "source": [
        "![image](https://www.python.org/static/img/python-logo.png)\n",
        "# 亞洲大學基礎程式設計教材(AUP110-Fundamentals of Programming)\n",
        "[![Open In Colab](https://colab.research.google.com/assets/colab-badge.svg)](https://colab.research.google.com/github/googlecolab/colabtools/blob/master/notebooks/colab-github-demo.ipynb)\n"
      ]
    },
    {
      "cell_type": "markdown",
      "metadata": {
        "id": "oECo_NZME-ZS"
      },
      "source": [
        "# Week9-檔案處理"
      ]
    },
    {
      "cell_type": "markdown",
      "metadata": {
        "id": "Rf3YoUM6wOAX"
      },
      "source": [
        "## Topic 1(主題1)-寫入檔案: open() 和print() function"
      ]
    },
    {
      "cell_type": "markdown",
      "metadata": {
        "id": "Jnw3Eaaf2W-K"
      },
      "source": [
        "### Step 1: 將一個List（串列）資料寫入檔案"
      ]
    },
    {
      "cell_type": "code",
      "metadata": {
        "id": "ll4acA_-wHFF"
      },
      "source": [
        "scores = [85, 15, 80, 80, 77, 76, 47, 48, 50, 50, \n",
        "          88, 90, 75, 67, 79, 76, 92, 90, 90, 48, \n",
        "          15, 95, 95, 85, 90, 88, 86, 87, 91, 82, \n",
        "          82, 86, 89, 88, 77, 69, 83, 85, 82, 81, \n",
        "          94, 72, 83, 75, 87, 79, 85, 84, 82, 87, \n",
        "          86, 86, 88, 83, 85, 87, 84, 87, 37, 90, \n",
        "          80, 82, 83, 87, 80, 68, 81, 91, 84, 15]"
      ],
      "execution_count": null,
      "outputs": []
    },
    {
      "cell_type": "markdown",
      "metadata": {
        "id": "dT9MfHMj2lPw"
      },
      "source": [
        "### Step 2: 開啟一個檔案\n",
        "https://docs.python.org/3/library/functions.html#open\n",
        "\n",
        "open(file, mode='r', buffering=- 1, encoding=None, errors=None, newline=None, closefd=True, opener=None)\n",
        "打開 file 並返回對應的 file object。如果該文件不能被打開，則引發 OSError。\n",
        "\n",
        "* file 是一個 path-like object，表示將要打開的文件的路徑\n",
        "* mode 是可選的字符串，用於指定打開文件的模式。默認值是 'r' ，表示以文本模式打開並讀取文件。其他常見模式有：寫入模式 'w' （已存在文件會被清空）、獨占創建模式 'x' 、追加寫入模式 'a' 。'b'二進制模式。't'文字模式（預設）。\n",
        "* encoding ，則會根據當前平台決定編碼格式：調用 locale.getpreferredencoding(False) 獲取當前地區的編碼。若要讀寫原生字節格式，請使用二進制模式且不要指定 encoding。可用的模式有：\n"
      ]
    },
    {
      "cell_type": "code",
      "metadata": {
        "id": "rFd6oMRHwJeI"
      },
      "source": [
        "fout = open('score.txt', 'w')"
      ],
      "execution_count": null,
      "outputs": []
    },
    {
      "cell_type": "markdown",
      "metadata": {
        "id": "f0IkoNf33TFw"
      },
      "source": [
        "### Step 3: 使用print()寫入檔案\n",
        "https://docs.python.org/3/library/functions.html#print\n",
        "\n",
        "print(*objects, sep=' ', end='\\n', file=sys.stdout, flush=False)\n",
        "將 objects 打印輸出至 file 指定的文本流，以 sep 分隔並在末尾加上 end。 sep 、 end 、 file 和 flush 必須以關鍵字參數的形式給出。\n",
        "\n",
        "* 所有非關鍵字參數都會被轉換為字符串，就像是執行了 str() 一樣，並會被寫入到流，以 sep 且在末尾加上 end。 sep 和 end 都必須為字符串；它們也可以為 None，這意味著使用默認值。如果沒有給出 objects，則 print() 將只寫入 end。\n",
        "\n",
        "* file 參數必須是一個具有 write(string) 方法的對象；如果參數不存在或為 None，則將使用 sys.stdout。由於要打印的參數會被轉換為文本字符串，因此 print() 不能用於二進制模式的文件對象。對於這些對象，應改用 file.write(...)。"
      ]
    },
    {
      "cell_type": "code",
      "metadata": {
        "id": "vW5iOie_wMsf"
      },
      "source": [
        "for score in scores:\n",
        "  print(score, file=fout)\n",
        "fout.close()"
      ],
      "execution_count": null,
      "outputs": []
    },
    {
      "cell_type": "code",
      "metadata": {
        "id": "eCOHk1236yy1"
      },
      "source": [
        ""
      ],
      "execution_count": null,
      "outputs": []
    },
    {
      "cell_type": "markdown",
      "metadata": {
        "id": "8-yn9nw-FB9y"
      },
      "source": [
        "## Topic 2(主題2)-讀出檔案: open() and for line in fin"
      ]
    },
    {
      "cell_type": "markdown",
      "metadata": {
        "id": "R2rmbqJlGdCs"
      },
      "source": [
        "### Step 4: 從score.txt輸入資料到程式，印出來"
      ]
    },
    {
      "cell_type": "code",
      "metadata": {
        "id": "gAbu3N3RE9F6",
        "colab": {
          "base_uri": "https://localhost:8080/"
        },
        "outputId": "e97f4cf6-7aaa-4ced-865f-b8168329b743"
      },
      "source": [
        "fin=open('score.txt')\n",
        "for line in fin:\n",
        "  print(line.strip(), end=\",\")\n",
        "fin.close()"
      ],
      "execution_count": null,
      "outputs": [
        {
          "output_type": "stream",
          "name": "stdout",
          "text": [
            "85,15,80,80,77,76,47,48,50,50,88,90,75,67,79,76,92,90,90,48,15,95,95,85,90,88,86,87,91,82,82,86,89,88,77,69,83,85,82,81,94,72,83,75,87,79,85,84,82,87,86,86,88,83,85,87,84,87,37,90,80,82,83,87,80,68,81,91,84,15,"
          ]
        }
      ]
    },
    {
      "cell_type": "markdown",
      "metadata": {
        "id": "8i-WxoTWGpbm"
      },
      "source": [
        "### Step 5:  從score.txt輸入資料，算人數"
      ]
    },
    {
      "cell_type": "code",
      "metadata": {
        "id": "AaTEHpB6Gu-l",
        "colab": {
          "base_uri": "https://localhost:8080/"
        },
        "outputId": "6eed0428-3d50-4504-8a1f-e4df1110a70a"
      },
      "source": [
        "count=0\n",
        "fin=open('score.txt')\n",
        "for line in fin:\n",
        "  count +=1\n",
        "fin.close()\n",
        "print(f\"The number is {count}\")"
      ],
      "execution_count": null,
      "outputs": [
        {
          "output_type": "stream",
          "name": "stdout",
          "text": [
            "The number is 70\n"
          ]
        }
      ]
    },
    {
      "cell_type": "code",
      "metadata": {
        "id": "9VwVLOwSGzvA",
        "colab": {
          "base_uri": "https://localhost:8080/"
        },
        "outputId": "8a49ecfc-e684-4897-80ab-d1cc07cb1f1d"
      },
      "source": [
        "count=0\n",
        "passed = 0\n",
        "fin=open('score.txt')\n",
        "for line in fin:\n",
        "  count +=1\n",
        "  score = int(line)\n",
        "  if score >= 60:\n",
        "    passed +=1\n",
        "fin.close()\n",
        "print(f\"The number of the passed is {passed} in {count} students\")"
      ],
      "execution_count": null,
      "outputs": [
        {
          "output_type": "stream",
          "name": "stdout",
          "text": [
            "The number of the passed is 61 in 70 students\n"
          ]
        }
      ]
    },
    {
      "cell_type": "markdown",
      "metadata": {
        "id": "FvJlR7jdxCtG"
      },
      "source": [
        "## Topic 3(主題3)-讀寫檔案: f.read() and f.write()"
      ]
    },
    {
      "cell_type": "markdown",
      "metadata": {
        "id": "-Nnh7TJCNWqp"
      },
      "source": [
        "### Step 6:  f.write()\n",
        "https://docs.python.org/3/tutorial/inputoutput.html\n",
        "\n",
        "Methods of File Objects:\n",
        "* f.read(size)\n",
        "* f.readline()\n",
        "* f.write(string)\n",
        "* f.seek(5) \n",
        "* f.tell()\n",
        "* f.close()\n",
        "\n"
      ]
    },
    {
      "cell_type": "code",
      "metadata": {
        "id": "56eURVOcNmIT",
        "colab": {
          "base_uri": "https://localhost:8080/"
        },
        "outputId": "3a9ff041-cc6a-4ad1-9662-c06e00181de1"
      },
      "source": [
        "count=0\n",
        "passed = 0\n",
        "fin=open('score.txt')\n",
        "fout=open('passed.txt','w')\n",
        "for line in fin:\n",
        "  count +=1\n",
        "  score = int(line)\n",
        "  if score >= 60:\n",
        "    passed +=1\n",
        "    fout.write(line)\n",
        "fin.close()\n",
        "fout.close()\n",
        "print(f\"The number of the passed is {passed} in {count} students\")\n"
      ],
      "execution_count": null,
      "outputs": [
        {
          "output_type": "stream",
          "name": "stdout",
          "text": [
            "The number of the passed is 61   in 70 students\n"
          ]
        }
      ]
    },
    {
      "cell_type": "markdown",
      "metadata": {
        "id": "u7-PvqS0HQ2d"
      },
      "source": [
        "## Topic 4(主題4)-用with"
      ]
    },
    {
      "cell_type": "markdown",
      "metadata": {
        "id": "q1Lie44j6K4u"
      },
      "source": [
        "### Step 7: 改用with來讀檔案\n",
        "Python 語言提供了 with 語法，在with語法架構之下的資源清理與回收動作會自動完成。"
      ]
    },
    {
      "cell_type": "code",
      "metadata": {
        "id": "PFqym_-2HUaR",
        "colab": {
          "base_uri": "https://localhost:8080/"
        },
        "outputId": "d8a413bf-7bd7-4e73-9d8c-5abf93ec4845"
      },
      "source": [
        "count = 0\n",
        "total = 0\n",
        "with open('score.txt') as fin:\n",
        "    for line in fin:\n",
        "        count += 1\n",
        "        total += int(line)\n",
        "print(f\"Average score= {total/count:.2f}\")"
      ],
      "execution_count": null,
      "outputs": [
        {
          "output_type": "stream",
          "name": "stdout",
          "text": [
            "Average score= 77.59\n"
          ]
        }
      ]
    },
    {
      "cell_type": "markdown",
      "metadata": {
        "id": "-RgqU2906T9e"
      },
      "source": [
        "### Step 8: 改用with來讀/寫檔案"
      ]
    },
    {
      "cell_type": "code",
      "metadata": {
        "id": "uF2wkexEO1T2"
      },
      "source": [
        "count=0\n",
        "passed = 0\n",
        "with open('score.txt') as fin, open('passed2.txt','w') as fout:\n",
        "    for line in fin:\n",
        "        count +=1\n",
        "        score = int(line)\n",
        "        if score >= 60:\n",
        "          passed +=1\n",
        "          fout.write(line)\n",
        "print(f\"The number of the passed is {passed} in {count} students\")"
      ],
      "execution_count": null,
      "outputs": []
    },
    {
      "cell_type": "markdown",
      "metadata": {
        "id": "po_nqmsJG4C3"
      },
      "source": [
        "## Topic 5(主題5)-資料排序"
      ]
    },
    {
      "cell_type": "markdown",
      "metadata": {
        "id": "JxDOYEjn05fb"
      },
      "source": [
        "### Step 9: 將成績排序(由小到大)"
      ]
    },
    {
      "cell_type": "code",
      "metadata": {
        "colab": {
          "base_uri": "https://localhost:8080/"
        },
        "id": "Fgl1FVV86tNJ",
        "outputId": "c8eef7b4-b5fd-4521-e015-07e0253eaec8"
      },
      "source": [
        "scores=list()\n",
        "with open('score.txt') as fin:\n",
        "    for line in fin:\n",
        "        score = int(line)\n",
        "        scores.append(score)    \n",
        "print(\"Before sorting\", scores)\n",
        "scores.sort()\n",
        "print(\"After  sorting\", scores)"
      ],
      "execution_count": null,
      "outputs": [
        {
          "output_type": "stream",
          "name": "stdout",
          "text": [
            "Before sorting [85, 15, 80, 80, 77, 76, 47, 48, 50, 50, 88, 90, 75, 67, 79, 76, 92, 90, 90, 48, 15, 95, 95, 85, 90, 88, 86, 87, 91, 82, 82, 86, 89, 88, 77, 69, 83, 85, 82, 81, 94, 72, 83, 75, 87, 79, 85, 84, 82, 87, 86, 86, 88, 83, 85, 87, 84, 87, 37, 90, 80, 82, 83, 87, 80, 68, 81, 91, 84, 15]\n",
            "After  sorting [15, 15, 15, 37, 47, 48, 48, 50, 50, 67, 68, 69, 72, 75, 75, 76, 76, 77, 77, 79, 79, 80, 80, 80, 80, 81, 81, 82, 82, 82, 82, 82, 83, 83, 83, 83, 84, 84, 84, 85, 85, 85, 85, 85, 86, 86, 86, 86, 87, 87, 87, 87, 87, 87, 88, 88, 88, 88, 89, 90, 90, 90, 90, 90, 91, 91, 92, 94, 95, 95]\n"
          ]
        }
      ]
    },
    {
      "cell_type": "markdown",
      "metadata": {
        "id": "3snx3UEc65Y5"
      },
      "source": [
        "### Step 10: 將成績排序(由大到小)"
      ]
    },
    {
      "cell_type": "code",
      "metadata": {
        "colab": {
          "base_uri": "https://localhost:8080/"
        },
        "id": "sh4IqQeK65-W",
        "outputId": "e4aed9c6-9fb1-4a0e-bf70-f86051dcb956"
      },
      "source": [
        "scores=list()\n",
        "with open('score.txt') as fin:\n",
        "    for line in fin:\n",
        "        score = int(line)\n",
        "        scores.append(score)    \n",
        "print(\"Before sorting\", scores)\n",
        "scores.sort(reverse = True)\n",
        "print(\"After  sorting\", scores)"
      ],
      "execution_count": null,
      "outputs": [
        {
          "output_type": "stream",
          "name": "stdout",
          "text": [
            "Before sorting [85, 15, 80, 80, 77, 76, 47, 48, 50, 50, 88, 90, 75, 67, 79, 76, 92, 90, 90, 48, 15, 95, 95, 85, 90, 88, 86, 87, 91, 82, 82, 86, 89, 88, 77, 69, 83, 85, 82, 81, 94, 72, 83, 75, 87, 79, 85, 84, 82, 87, 86, 86, 88, 83, 85, 87, 84, 87, 37, 90, 80, 82, 83, 87, 80, 68, 81, 91, 84, 15]\n",
            "After  sorting [95, 95, 94, 92, 91, 91, 90, 90, 90, 90, 90, 89, 88, 88, 88, 88, 87, 87, 87, 87, 87, 87, 86, 86, 86, 86, 85, 85, 85, 85, 85, 84, 84, 84, 83, 83, 83, 83, 82, 82, 82, 82, 82, 81, 81, 80, 80, 80, 80, 79, 79, 77, 77, 76, 76, 75, 75, 72, 69, 68, 67, 50, 50, 48, 48, 47, 37, 15, 15, 15]\n"
          ]
        }
      ]
    },
    {
      "cell_type": "markdown",
      "metadata": {
        "id": "T5g4hDu47Tu2"
      },
      "source": [
        "### Step 11: 用sorted()函數排序(由大到小)\n",
        "https://docs.python.org/3/library/functions.html#sorted\n",
        "sorted(iterable, *, key=None, reverse=False)\n",
        "根據 iterable 中的項返回一個新的已排序列表。\n",
        "\n",
        "有兩個選擇性參數，只能使用關鍵字參數指定。\n",
        "\n",
        "* key 指定帶有單個參數的函數，用於從 iterable 的每個元素中提取用於比較的鍵 (例如 key=str.lower)。默認值為 None (直接比較元素)。\n",
        "* reverse 為一個布爾值。如果設為 True，則每個列表元素將按反向順序比較進行排序。"
      ]
    },
    {
      "cell_type": "code",
      "metadata": {
        "colab": {
          "base_uri": "https://localhost:8080/"
        },
        "id": "MJeLnpJe7UDm",
        "outputId": "e89b2881-b10f-4f7a-db2a-9697d8091dc7"
      },
      "source": [
        "scores=list()\n",
        "with open('score.txt') as fin:\n",
        "    for line in fin:\n",
        "        score = int(line)\n",
        "        scores.append(score)    \n",
        "print(\"Before sorting\", scores)\n",
        "scores2=sorted(scores,reverse = True)\n",
        "print(\"After  sorting\", scores2)"
      ],
      "execution_count": null,
      "outputs": [
        {
          "output_type": "stream",
          "name": "stdout",
          "text": [
            "Before sorting [85, 15, 80, 80, 77, 76, 47, 48, 50, 50, 88, 90, 75, 67, 79, 76, 92, 90, 90, 48, 15, 95, 95, 85, 90, 88, 86, 87, 91, 82, 82, 86, 89, 88, 77, 69, 83, 85, 82, 81, 94, 72, 83, 75, 87, 79, 85, 84, 82, 87, 86, 86, 88, 83, 85, 87, 84, 87, 37, 90, 80, 82, 83, 87, 80, 68, 81, 91, 84, 15]\n",
            "After  sorting [95, 95, 94, 92, 91, 91, 90, 90, 90, 90, 90, 89, 88, 88, 88, 88, 87, 87, 87, 87, 87, 87, 86, 86, 86, 86, 85, 85, 85, 85, 85, 84, 84, 84, 83, 83, 83, 83, 82, 82, 82, 82, 82, 81, 81, 80, 80, 80, 80, 79, 79, 77, 77, 76, 76, 75, 75, 72, 69, 68, 67, 50, 50, 48, 48, 47, 37, 15, 15, 15]\n"
          ]
        }
      ]
    },
    {
      "cell_type": "markdown",
      "metadata": {
        "id": "H7ieQwktsChE"
      },
      "source": [
        "## Topic 6(主題6)-複習變數型別"
      ]
    },
    {
      "cell_type": "markdown",
      "metadata": {
        "id": "u6lZ76sosK06"
      },
      "source": [
        "### Step 12:  數值型態：int, float, bool\n",
        "* 整數 integer( int )\n",
        "* 浮點數 floating-point (float)\n",
        "* 布林值 boolean (bool)\n"
      ]
    },
    {
      "cell_type": "code",
      "metadata": {
        "colab": {
          "base_uri": "https://localhost:8080/"
        },
        "id": "5ZDbzG_3s5bX",
        "outputId": "823fc7bd-1875-49a1-b0b7-e60f490b2388"
      },
      "source": [
        "a = 10\n",
        "print(a)\n",
        "print(type(a))"
      ],
      "execution_count": null,
      "outputs": [
        {
          "output_type": "stream",
          "name": "stdout",
          "text": [
            "10\n",
            "<class 'int'>\n"
          ]
        }
      ]
    },
    {
      "cell_type": "code",
      "metadata": {
        "colab": {
          "base_uri": "https://localhost:8080/"
        },
        "id": "3VSa6NOcs9uD",
        "outputId": "f1683ed1-a2bd-423e-865c-1d86d6c3f6a0"
      },
      "source": [
        "b = 1.5\n",
        "print(b)\n",
        "print(type(b))"
      ],
      "execution_count": null,
      "outputs": [
        {
          "output_type": "stream",
          "name": "stdout",
          "text": [
            "1.5\n",
            "<class 'float'>\n"
          ]
        }
      ]
    },
    {
      "cell_type": "code",
      "metadata": {
        "id": "SlUNJJOktI0l"
      },
      "source": [
        "c = True\n",
        "print(c)\n",
        "print(type(c))"
      ],
      "execution_count": null,
      "outputs": []
    },
    {
      "cell_type": "markdown",
      "metadata": {
        "id": "qeHvzo4esbzn"
      },
      "source": [
        "### Step 13: 字串型態：str, chr\n",
        "特殊字串：\n",
        "* F-string: 用來格式化\n",
        "* R-string: raw string\n",
        "* U-string: unicode string\n",
        "* B-string: Byte string\n"
      ]
    },
    {
      "cell_type": "code",
      "metadata": {
        "colab": {
          "base_uri": "https://localhost:8080/"
        },
        "id": "4azgdWH3tNhN",
        "outputId": "c21539f7-a5ba-4838-e22e-f10cad04c940"
      },
      "source": [
        "import sys\n",
        "msg = \"Hello, World\"\n",
        "print(msg)\n",
        "print(type(msg))\n",
        "print(sys.getsizeof(msg))"
      ],
      "execution_count": null,
      "outputs": [
        {
          "output_type": "stream",
          "name": "stdout",
          "text": [
            "Hello, World\n",
            "<class 'str'>\n",
            "61\n"
          ]
        }
      ]
    },
    {
      "cell_type": "code",
      "metadata": {
        "colab": {
          "base_uri": "https://localhost:8080/"
        },
        "id": "UCyii3DVtdSV",
        "outputId": "4bd0f1e2-81ef-40b6-ee03-59e440035537"
      },
      "source": [
        "name = \"John\"\n",
        "msg = f\"Hello {name}\"\n",
        "print(msg)\n",
        "print(type(msg))"
      ],
      "execution_count": null,
      "outputs": [
        {
          "output_type": "stream",
          "name": "stdout",
          "text": [
            "Hello John\n",
            "<class 'str'>\n"
          ]
        }
      ]
    },
    {
      "cell_type": "code",
      "metadata": {
        "colab": {
          "base_uri": "https://localhost:8080/"
        },
        "id": "7JbEjvohuGbx",
        "outputId": "74925fad-b6a0-4d5b-8d33-0369ea8b6ba1"
      },
      "source": [
        "msg = r\"Hello\\nJohn\"\n",
        "print(msg)\n",
        "print(type(msg))"
      ],
      "execution_count": null,
      "outputs": [
        {
          "output_type": "stream",
          "name": "stdout",
          "text": [
            "Hello\\nJohn\n",
            "<class 'str'>\n"
          ]
        }
      ]
    },
    {
      "cell_type": "code",
      "metadata": {
        "id": "DMqM9EpmuROq"
      },
      "source": [
        "msg = r\"Hello\\nJohn\"\n",
        "print(msg)\n",
        "print(type(msg))"
      ],
      "execution_count": null,
      "outputs": []
    },
    {
      "cell_type": "code",
      "metadata": {
        "colab": {
          "base_uri": "https://localhost:8080/"
        },
        "id": "3SGrxzaLuupC",
        "outputId": "96e91e8f-0a56-4b19-fce4-06cb13981f70"
      },
      "source": [
        "import sys\n",
        "msg = u\"Hello, World\"\n",
        "print(msg)\n",
        "print(type(msg))\n",
        "print(sys.getsizeof(msg))"
      ],
      "execution_count": null,
      "outputs": [
        {
          "output_type": "stream",
          "name": "stdout",
          "text": [
            "Hello, World\n",
            "<class 'str'>\n",
            "61\n"
          ]
        }
      ]
    },
    {
      "cell_type": "code",
      "metadata": {
        "colab": {
          "base_uri": "https://localhost:8080/"
        },
        "id": "mb5ChDQLuyye",
        "outputId": "a30b67a0-ca8e-4308-af3f-07a2c57aaca6"
      },
      "source": [
        "import sys\n",
        "msg = b\"Hello, World\"\n",
        "print(msg)\n",
        "print(type(msg))\n",
        "print(sys.getsizeof(msg))"
      ],
      "execution_count": null,
      "outputs": [
        {
          "output_type": "stream",
          "name": "stdout",
          "text": [
            "b'Hello, World'\n",
            "<class 'bytes'>\n",
            "45\n"
          ]
        }
      ]
    },
    {
      "cell_type": "markdown",
      "metadata": {
        "id": "LxvRV7yIwTl4"
      },
      "source": [
        "### Step 14: 字元\n",
        "\n",
        "\"A\" 的 ASCII code 是 65，而 \"a\" 的 ASCII code 是 97\n",
        "\"這是什麼\" 的 UNICODE code \\u9019\\u662f\\u4ec0\\u9ebc\n"
      ]
    },
    {
      "cell_type": "code",
      "metadata": {
        "colab": {
          "base_uri": "https://localhost:8080/"
        },
        "id": "rYIzu1iCwWAZ",
        "outputId": "0e9ec0dc-135d-4d29-de62-3a53462e7994"
      },
      "source": [
        "x = 65\n",
        "y = chr(x)\n",
        "print(y)"
      ],
      "execution_count": null,
      "outputs": [
        {
          "output_type": "stream",
          "name": "stdout",
          "text": [
            "A\n"
          ]
        }
      ]
    },
    {
      "cell_type": "code",
      "metadata": {
        "colab": {
          "base_uri": "https://localhost:8080/"
        },
        "id": "kTSj2fiFwsvO",
        "outputId": "8ece3e3c-9423-448f-8a30-eac8d6643ce7"
      },
      "source": [
        "x = 97\n",
        "y = chr(x)\n",
        "print(y)"
      ],
      "execution_count": null,
      "outputs": [
        {
          "output_type": "stream",
          "name": "stdout",
          "text": [
            "a\n"
          ]
        }
      ]
    },
    {
      "cell_type": "code",
      "metadata": {
        "colab": {
          "base_uri": "https://localhost:8080/"
        },
        "id": "2fEbvKbixJVp",
        "outputId": "2e271515-597a-4a1c-dc52-3021f6ad40b9"
      },
      "source": [
        "msg = \"\\u9019\\u662f\\u4ec0\\u9ebc\"\n",
        "print(msg)"
      ],
      "execution_count": null,
      "outputs": [
        {
          "output_type": "stream",
          "name": "stdout",
          "text": [
            "這是什麼\n"
          ]
        }
      ]
    },
    {
      "cell_type": "code",
      "metadata": {
        "colab": {
          "base_uri": "https://localhost:8080/"
        },
        "id": "kTSvW6YWxQ0K",
        "outputId": "44c6d871-7e99-42d8-a9e4-3e6423af7e02"
      },
      "source": [
        "x = 0x9019\n",
        "y = chr(x)\n",
        "print(y)"
      ],
      "execution_count": null,
      "outputs": [
        {
          "output_type": "stream",
          "name": "stdout",
          "text": [
            "這\n"
          ]
        }
      ]
    },
    {
      "cell_type": "code",
      "metadata": {
        "colab": {
          "base_uri": "https://localhost:8080/"
        },
        "id": "RFCyuxk2xcMo",
        "outputId": "3462c90b-f8f1-45ba-894e-bf26b312e9db"
      },
      "source": [
        "x = 0x662f\n",
        "y = chr(x)\n",
        "print(y)"
      ],
      "execution_count": null,
      "outputs": [
        {
          "output_type": "stream",
          "name": "stdout",
          "text": [
            "是\n"
          ]
        }
      ]
    },
    {
      "cell_type": "markdown",
      "metadata": {
        "id": "s06jaJBMscIP"
      },
      "source": [
        "### Step 15:  容器型態：list, tuple, set, dict"
      ]
    },
    {
      "cell_type": "code",
      "metadata": {
        "id": "c0SIKK_gxi7y"
      },
      "source": [
        "animals = [\"bear\", \"cat\", \"dog\", \"elephant\", \"horse\"]\n",
        "number = [1, 2, 3, 4, 5 ]"
      ],
      "execution_count": null,
      "outputs": []
    },
    {
      "cell_type": "code",
      "metadata": {
        "id": "J9P56cRvywyE"
      },
      "source": [
        "animals = ('bear', 'cat', 'dog', 'elephant', 'horse')\n",
        "number = (1, 2, 3, 4, 5 )"
      ],
      "execution_count": null,
      "outputs": []
    },
    {
      "cell_type": "code",
      "metadata": {
        "id": "SeGZnFITzC7E"
      },
      "source": [
        "animals = {'bear', 'cat', 'dog', 'elephant', 'horse'}\n",
        "number = {1, 2, 3, 4, 5} "
      ],
      "execution_count": null,
      "outputs": []
    },
    {
      "cell_type": "code",
      "metadata": {
        "colab": {
          "base_uri": "https://localhost:8080/"
        },
        "id": "GNyr0kF-xssk",
        "outputId": "0be2ba13-6011-4004-9697-4f1e81564f42"
      },
      "source": [
        "animalx = {1: \"bear\", 2: \"cat\", 3: \"dog\", 4: \"elephant\"}\n",
        "print(animalx)"
      ],
      "execution_count": null,
      "outputs": [
        {
          "output_type": "stream",
          "name": "stdout",
          "text": [
            "{1: 'bear', 2: 'cat', 3: 'dog', 4: 'elephant'}\n"
          ]
        }
      ]
    },
    {
      "cell_type": "code",
      "metadata": {
        "colab": {
          "base_uri": "https://localhost:8080/"
        },
        "id": "NHvhdNsmyjbm",
        "outputId": "b7b0f181-34a9-45ea-e4f5-bd22e8e8fe0c"
      },
      "source": [
        "animaly = dict(zip(number, animals))\n",
        "print(animaly)"
      ],
      "execution_count": null,
      "outputs": [
        {
          "output_type": "stream",
          "name": "stdout",
          "text": [
            "{1: 'bear', 2: 'cat', 3: 'dog', 4: 'elephant', 5: 'horse'}\n"
          ]
        }
      ]
    },
    {
      "cell_type": "markdown",
      "metadata": {
        "id": "LXM4934qfwxm"
      },
      "source": [
        "## Topic 7(主題7)- 二進制的浮點數運算和十進制 (Decimal) 浮點數運算\n",
        "\n",
        "decimal 模組提供了一個 Decimal 資料類型，用於十進制浮點數運算。相較於內建的二進制浮點數 float 實作，該 class 特別適用於下列情境\n",
        "\n",
        "* 金融應用程式及其他需要準確十進位制表示法的應用，\n",
        "* 對於精確度 (precision) 的控制，\n",
        "* 控制四捨五入，以滿足法律或監管規範，\n",
        "* 追蹤有效的小數位數 (decimal place)，或\n",
        "* 使用者會期望計算結果與手工計算相符的應用程式。\n",
        "\n",
        "例如，要計算 70 美分的手機充電加上 5％ 稅金的總價，使用十進制浮點數和二進制浮點數，會算出不同的答案。如果把計算結果四捨五入到最接近的美分，兩者的差異會更顯著。"
      ]
    },
    {
      "cell_type": "markdown",
      "metadata": {
        "id": "fRn4eCabl03S"
      },
      "source": [
        "### Step 16: decimal的運算"
      ]
    },
    {
      "cell_type": "code",
      "metadata": {
        "colab": {
          "base_uri": "https://localhost:8080/"
        },
        "id": "nLnnYCW24SjP",
        "outputId": "9b13d77c-4182-476d-9e06-b015d7abbcd3"
      },
      "source": [
        "from decimal import *\n",
        "a = round(Decimal('0.70') * Decimal('1.05'), 2)\n",
        "b = round(.70 * 1.05, 2)\n",
        "print(f\"{a}\")\n",
        "print(f\"{b}\")"
      ],
      "execution_count": null,
      "outputs": [
        {
          "output_type": "stream",
          "name": "stdout",
          "text": [
            "0.74\n",
            "0.73\n"
          ]
        }
      ]
    },
    {
      "cell_type": "markdown",
      "metadata": {
        "id": "6n1PgkRzk8fV"
      },
      "source": [
        "## Topic 8(主題8)-複習格式化輸出"
      ]
    },
    {
      "cell_type": "markdown",
      "metadata": {
        "id": "cRY9lEtilrUD"
      },
      "source": [
        "### Step 17: %-formatting "
      ]
    },
    {
      "cell_type": "code",
      "metadata": {
        "id": "SGcoak3G407b"
      },
      "source": [
        "A = 435; B = 59.058\n",
        "print('Art: %5d, Price per Unit: %8.2f' % (A, B))"
      ],
      "execution_count": null,
      "outputs": []
    },
    {
      "cell_type": "code",
      "metadata": {
        "id": "Ry3k8X8w42v7"
      },
      "source": [
        "FirstName = \"Mary\"; LastName= \"Lin\"\n",
        "print(\"She is %s %s\" %(FirstName, LastName))"
      ],
      "execution_count": null,
      "outputs": []
    },
    {
      "cell_type": "code",
      "metadata": {
        "id": "vG7GEJKVppUg"
      },
      "source": [
        "for a in range(1,10):\n",
        "  for b in range(1,10):\n",
        "    print('%d*%d =%2d'%(a, b, a*b), end=' ')\n",
        "  print()"
      ],
      "execution_count": null,
      "outputs": []
    },
    {
      "cell_type": "markdown",
      "metadata": {
        "id": "h-f1kUzvpzdV"
      },
      "source": [
        "### Step 18: str-format（Python 2.6+）"
      ]
    },
    {
      "cell_type": "code",
      "metadata": {
        "id": "6gQKcrvL45Ui"
      },
      "source": [
        "A = 435; B = 59.058\n",
        "print(\"Art: {0:5d}, Price per Unit: {1:8.2f}\".format(435, 59.058))"
      ],
      "execution_count": null,
      "outputs": []
    },
    {
      "cell_type": "code",
      "metadata": {
        "id": "WHmGfsmn5gYZ"
      },
      "source": [
        "FirstName = \"Mary\"; LastName= \"Lin\"\n",
        "print(\"She is {} {}\".format(FirstName, LastName))"
      ],
      "execution_count": null,
      "outputs": []
    },
    {
      "cell_type": "code",
      "metadata": {
        "id": "JhSFVIx_p4iJ"
      },
      "source": [
        "for a in range(1,10):\n",
        "  for b in range(1,10):\n",
        "    print('{0:1d}*{1:1d} ={2:2d}'.format(a, b, a*b), end=' ')\n",
        "  print()"
      ],
      "execution_count": null,
      "outputs": []
    },
    {
      "cell_type": "markdown",
      "metadata": {
        "id": "Csi917Dkp6Hp"
      },
      "source": [
        "### Step 19: f-string （Python 3.6+）"
      ]
    },
    {
      "cell_type": "code",
      "metadata": {
        "id": "EKqTC8fM5i_a"
      },
      "source": [
        "A = 435; B = 59.058\n",
        "print(f\"Art:{A:5d}, Price per Unit: {B:8.2f}\")"
      ],
      "execution_count": null,
      "outputs": []
    },
    {
      "cell_type": "code",
      "metadata": {
        "id": "CayLO7Ce5klu"
      },
      "source": [
        "FirstName = \"Mary\"; LastName= \"Lin\"\n",
        "print(f\"She is {FirstName} {LastName}\")"
      ],
      "execution_count": null,
      "outputs": []
    },
    {
      "cell_type": "code",
      "metadata": {
        "id": "d5taBrRLp8sL"
      },
      "source": [
        "for a in range(1,10):\n",
        "  for b in range(1,10):\n",
        "    c= a*b\n",
        "    print(f'{a}*{b} ={c:2d}', end=' ')\n",
        "  print()"
      ],
      "execution_count": null,
      "outputs": []
    }
  ]
}