{
 "cells": [
  {
   "cell_type": "markdown",
   "metadata": {
    "id": "oECo_NZME-ZS"
   },
   "source": [
    "# AU Fundamentals of Python Programming-W7"
   ]
  },
  {
   "cell_type": "markdown",
   "metadata": {
    "id": "8-yn9nw-FB9y"
   },
   "source": [
    "## Topic 1(主題1)-function open() and read"
   ]
  },
  {
   "cell_type": "markdown",
   "metadata": {
    "id": "R2rmbqJlGdCs"
   },
   "source": [
    "## 從score.txt輸入資料，印出來"
   ]
  },
  {
   "cell_type": "code",
   "execution_count": null,
   "metadata": {
    "id": "gAbu3N3RE9F6"
   },
   "outputs": [],
   "source": [
    "fin=open('score.txt')\n",
    "for line in fin:\n",
    "  print(line.strip(), end=\",\")\n",
    "fin.close()"
   ]
  },
  {
   "cell_type": "markdown",
   "metadata": {
    "id": "8i-WxoTWGpbm"
   },
   "source": [
    "## 從score.txt輸入資料，算人數"
   ]
  },
  {
   "cell_type": "code",
   "execution_count": null,
   "metadata": {
    "id": "AaTEHpB6Gu-l"
   },
   "outputs": [],
   "source": [
    "count=0\n",
    "fin=open('score.txt')\n",
    "for line in fin:\n",
    "  count +=1\n",
    "fin.close()\n",
    "print(\"The number is\",count)"
   ]
  },
  {
   "cell_type": "markdown",
   "metadata": {
    "id": "2BKX_YRQGv-S"
   },
   "source": [
    "## 計算score.txt檔案中及格人數"
   ]
  },
  {
   "cell_type": "code",
   "execution_count": null,
   "metadata": {
    "id": "9VwVLOwSGzvA"
   },
   "outputs": [],
   "source": [
    "count=0\n",
    "passed = 0\n",
    "fin=open('score.txt')\n",
    "for line in fin:\n",
    "  count +=1\n",
    "  score = int(line)\n",
    "  if score >= 60:\n",
    "    passed +=1\n",
    "fin.close()\n",
    "print(\"The number of the passed is\",passed, \"in\", count, \"students\")"
   ]
  },
  {
   "cell_type": "markdown",
   "metadata": {
    "id": "-Nnh7TJCNWqp"
   },
   "source": [
    "## write()"
   ]
  },
  {
   "cell_type": "code",
   "execution_count": null,
   "metadata": {
    "id": "56eURVOcNmIT"
   },
   "outputs": [],
   "source": [
    "count=0\n",
    "passed = 0\n",
    "fin=open('score.txt')\n",
    "fout=open('passed.txt','w')\n",
    "for line in fin:\n",
    "  count +=1\n",
    "  score = int(line)\n",
    "  if score >= 60:\n",
    "    passed +=1\n",
    "    fout.write(line)\n",
    "fin.close()\n",
    "fout.close()\n",
    "print(\"The number of the passed is\",passed, \"in\", count, \"students\")\n"
   ]
  },
  {
   "cell_type": "markdown",
   "metadata": {
    "id": "u7-PvqS0HQ2d"
   },
   "source": [
    "##用with"
   ]
  },
  {
   "cell_type": "code",
   "execution_count": null,
   "metadata": {
    "id": "PFqym_-2HUaR"
   },
   "outputs": [],
   "source": [
    "#改用with來讀檔案\n",
    "count = 0\n",
    "total = 0\n",
    "with open('score.txt') as fin:\n",
    "    for line in fin:\n",
    "        count += 1\n",
    "        total += int(line)\n",
    "print(\"Average score=\", total/count)"
   ]
  },
  {
   "cell_type": "code",
   "execution_count": null,
   "metadata": {
    "id": "uF2wkexEO1T2"
   },
   "outputs": [],
   "source": [
    "count=0\n",
    "passed = 0\n",
    "with open('score.txt') as fin, open('passed2.txt','w') as fout:\n",
    "    for line in fin:\n",
    "        count +=1\n",
    "        score = int(line)\n",
    "        if score >= 60:\n",
    "          passed +=1\n",
    "          fout.write(line)\n",
    "print(\"The number of the passed is\",passed, \"in\", count, \"students\")"
   ]
  },
  {
   "cell_type": "markdown",
   "metadata": {
    "id": "po_nqmsJG4C3"
   },
   "source": [
    "## Topic 2(主題2)-while-loop"
   ]
  },
  {
   "cell_type": "markdown",
   "metadata": {
    "id": "uTLIyUvSHFop"
   },
   "source": [
    "## while"
   ]
  },
  {
   "cell_type": "code",
   "execution_count": null,
   "metadata": {
    "id": "qnNIaW5kJhk3"
   },
   "outputs": [],
   "source": [
    "i = 1\n",
    "while i < 6:\n",
    "  print(i)\n",
    "  i += 1"
   ]
  },
  {
   "cell_type": "markdown",
   "metadata": {
    "id": "l5tg0eT0JdlV"
   },
   "source": [
    "## break-statement: stop the loop"
   ]
  },
  {
   "cell_type": "code",
   "execution_count": null,
   "metadata": {
    "id": "w_d9DdEEJx82"
   },
   "outputs": [],
   "source": [
    "i = 1\n",
    "while i < 6:\n",
    "  print(i)\n",
    "  if i == 3:\n",
    "    break\n",
    "  i += 1"
   ]
  },
  {
   "cell_type": "markdown",
   "metadata": {
    "id": "3m0dQXCCJ0NO"
   },
   "source": [
    "continue-statement: stop the current iteration"
   ]
  },
  {
   "cell_type": "code",
   "execution_count": null,
   "metadata": {
    "id": "EgaVTASBKDXy"
   },
   "outputs": [],
   "source": [
    "i = 0\n",
    "while i < 6:\n",
    "  i += 1\n",
    "  if i == 3:\n",
    "    continue\n",
    "  print(i)"
   ]
  }
 ],
 "metadata": {
  "colab": {
   "authorship_tag": "ABX9TyNFx2MpKFEUgrfVNrOZQP2X",
   "name": "AUPython-W7.ipynb",
   "provenance": []
  },
  "kernelspec": {
   "display_name": "Python 3",
   "language": "python",
   "name": "python3"
  },
  "language_info": {
   "codemirror_mode": {
    "name": "ipython",
    "version": 3
   },
   "file_extension": ".py",
   "mimetype": "text/x-python",
   "name": "python",
   "nbconvert_exporter": "python",
   "pygments_lexer": "ipython3",
   "version": "3.7.6"
  }
 },
 "nbformat": 4,
 "nbformat_minor": 1
}
