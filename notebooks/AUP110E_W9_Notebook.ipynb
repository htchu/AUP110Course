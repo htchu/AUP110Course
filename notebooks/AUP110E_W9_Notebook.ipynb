{
  "nbformat": 4,
  "nbformat_minor": 0,
  "metadata": {
    "colab": {
      "name": "AUP110E_W9_Notebook.ipynb",
      "provenance": [],
      "collapsed_sections": []
    },
    "kernelspec": {
      "display_name": "Python 3",
      "language": "python",
      "name": "python3"
    },
    "language_info": {
      "codemirror_mode": {
        "name": "ipython",
        "version": 3
      },
      "file_extension": ".py",
      "mimetype": "text/x-python",
      "name": "python",
      "nbconvert_exporter": "python",
      "pygments_lexer": "ipython3",
      "version": "3.7.6"
    }
  },
  "cells": [
    {
      "cell_type": "markdown",
      "metadata": {
        "id": "cI_rckljBzgF"
      },
      "source": [
        "![image](https://www.python.org/static/img/python-logo.png)\n",
        "# AUP110-Fundamentals of Programming\n",
        "[![Open In Colab](https://colab.research.google.com/assets/colab-badge.svg)](https://colab.research.google.com/github/googlecolab/colabtools/blob/master/notebooks/colab-github-demo.ipynb)\n"
      ]
    },
    {
      "cell_type": "markdown",
      "metadata": {
        "id": "oECo_NZME-ZS"
      },
      "source": [
        "# Week9-File I/O"
      ]
    },
    {
      "cell_type": "markdown",
      "metadata": {
        "id": "Rf3YoUM6wOAX"
      },
      "source": [
        "## Topic 1-Write file: open() 和print() function"
      ]
    },
    {
      "cell_type": "markdown",
      "metadata": {
        "id": "Jnw3Eaaf2W-K"
      },
      "source": [
        "### Step 1: Write a list to a file"
      ]
    },
    {
      "cell_type": "code",
      "metadata": {
        "id": "ll4acA_-wHFF"
      },
      "source": [
        "scores = [85, 15, 80, 80, 77, 76, 47, 48, 50, 50, \n",
        "          88, 90, 75, 67, 79, 76, 92, 90, 90, 48, \n",
        "          15, 95, 95, 85, 90, 88, 86, 87, 91, 82, \n",
        "          82, 86, 89, 88, 77, 69, 83, 85, 82, 81, \n",
        "          94, 72, 83, 75, 87, 79, 85, 84, 82, 87, \n",
        "          86, 86, 88, 83, 85, 87, 84, 87, 37, 90, \n",
        "          80, 82, 83, 87, 80, 68, 81, 91, 84, 15]"
      ],
      "execution_count": null,
      "outputs": []
    },
    {
      "cell_type": "markdown",
      "metadata": {
        "id": "dT9MfHMj2lPw"
      },
      "source": [
        "### Step 2: open a file\n",
        "https://docs.python.org/3/library/functions.html#open\n",
        "\n",
        "open(file, mode='r', buffering=- 1, encoding=None, errors=None, newline=None, closefd=True, opener=None)\n",
        "Open file and return a corresponding file object. If the file cannot be opened, an OSError is raised. See Reading and Writing Files for more examples of how to use this function.\n",
        "\n",
        "file is a path-like object giving the pathname (absolute or relative to the current working directory) of the file to be opened or an integer file descriptor of the file to be wrapped. (If a file descriptor is given, it is closed when the returned I/O object is closed unless closefd is set to False.)\n",
        "\n",
        "mode is an optional string that specifies the mode in which the file is opened. It defaults to 'r' which means open for reading in text mode. Other common values are 'w' for writing (truncating the file if it already exists), \n"
      ]
    },
    {
      "cell_type": "code",
      "metadata": {
        "id": "rFd6oMRHwJeI"
      },
      "source": [
        "fout = open('score.txt', 'w')"
      ],
      "execution_count": null,
      "outputs": []
    },
    {
      "cell_type": "markdown",
      "metadata": {
        "id": "f0IkoNf33TFw"
      },
      "source": [
        "### Step 3: 使用print()寫入檔案\n",
        "https://docs.python.org/3/library/functions.html#print\n",
        "\n",
        "print(*objects, sep=' ', end='\\n', file=sys.stdout, flush=False)\n",
        "\n",
        "* Print objects to the text stream file, separated by sep and followed by end. sep, end, file, and flush, if present, must be given as keyword arguments.\n",
        "* All non-keyword arguments are converted to strings like str() does and written to the stream, separated by sep and followed by end. Both sep and end must be strings; they can also be None, which means to use the default values. If no objects are given, print() will just write end.\n",
        "* The file argument must be an object with a write(string) method; if it is not present or None, sys.stdout will be used. Since printed arguments are converted to text strings, print() cannot be used with binary mode file objects. For these, use file.write(...) instead."
      ]
    },
    {
      "cell_type": "code",
      "metadata": {
        "id": "vW5iOie_wMsf"
      },
      "source": [
        "for score in scores:\n",
        "  print(score, file=fout)\n",
        "fout.close()"
      ],
      "execution_count": null,
      "outputs": []
    },
    {
      "cell_type": "code",
      "metadata": {
        "id": "eCOHk1236yy1"
      },
      "source": [
        ""
      ],
      "execution_count": null,
      "outputs": []
    },
    {
      "cell_type": "markdown",
      "metadata": {
        "id": "8-yn9nw-FB9y"
      },
      "source": [
        "## Topic 2-Open for reading: open() and for line in fin"
      ]
    },
    {
      "cell_type": "markdown",
      "metadata": {
        "id": "R2rmbqJlGdCs"
      },
      "source": [
        "### Step 4: From score.txt, input and print."
      ]
    },
    {
      "cell_type": "code",
      "metadata": {
        "id": "gAbu3N3RE9F6"
      },
      "source": [
        "fin=open('score.txt')\n",
        "for line in fin:\n",
        "  print(line.strip(), end=\",\")\n",
        "fin.close()"
      ],
      "execution_count": null,
      "outputs": []
    },
    {
      "cell_type": "markdown",
      "metadata": {
        "id": "8i-WxoTWGpbm"
      },
      "source": [
        "### Step 5:  From score.txt, input and count."
      ]
    },
    {
      "cell_type": "code",
      "metadata": {
        "id": "AaTEHpB6Gu-l"
      },
      "source": [
        "count=0\n",
        "fin=open('score.txt')\n",
        "for line in fin:\n",
        "  count +=1\n",
        "fin.close()\n",
        "print(f\"The number is {count}\")"
      ],
      "execution_count": null,
      "outputs": []
    },
    {
      "cell_type": "code",
      "metadata": {
        "id": "9VwVLOwSGzvA"
      },
      "source": [
        "count=0\n",
        "passed = 0\n",
        "fin=open('score.txt')\n",
        "for line in fin:\n",
        "  count +=1\n",
        "  score = int(line)\n",
        "  if score >= 60:\n",
        "    passed +=1\n",
        "fin.close()\n",
        "print(f\"The number of the passed is {passed} in {count} students\")"
      ],
      "execution_count": null,
      "outputs": []
    },
    {
      "cell_type": "markdown",
      "metadata": {
        "id": "FvJlR7jdxCtG"
      },
      "source": [
        "## Topic 3-Read/Write functions: f.read() and f.write()"
      ]
    },
    {
      "cell_type": "markdown",
      "metadata": {
        "id": "-Nnh7TJCNWqp"
      },
      "source": [
        "### Step 6:  f.write()\n",
        "https://docs.python.org/3/tutorial/inputoutput.html\n",
        "\n",
        "Methods of File Objects:\n",
        "* f.read(size)\n",
        "* f.readline()\n",
        "* f.write(string)\n",
        "* f.seek(5) \n",
        "* f.tell()\n",
        "* f.close()\n",
        "\n"
      ]
    },
    {
      "cell_type": "code",
      "metadata": {
        "id": "56eURVOcNmIT"
      },
      "source": [
        "count=0\n",
        "passed = 0\n",
        "fin=open('score.txt')\n",
        "fout=open('passed.txt','w')\n",
        "for line in fin:\n",
        "  count +=1\n",
        "  score = int(line)\n",
        "  if score >= 60:\n",
        "    passed +=1\n",
        "    fout.write(line)\n",
        "fin.close()\n",
        "fout.close()\n",
        "print(f\"The number of the passed is {passed} in {count} students\")\n"
      ],
      "execution_count": null,
      "outputs": []
    },
    {
      "cell_type": "markdown",
      "metadata": {
        "id": "u7-PvqS0HQ2d"
      },
      "source": [
        "## Topic 4-Using with"
      ]
    },
    {
      "cell_type": "markdown",
      "metadata": {
        "id": "q1Lie44j6K4u"
      },
      "source": [
        "### Step 7: Using with\n",
        "The Python language provides a method for resource cleaning and recycling."
      ]
    },
    {
      "cell_type": "code",
      "metadata": {
        "id": "PFqym_-2HUaR"
      },
      "source": [
        "count = 0\n",
        "total = 0\n",
        "with open('score.txt') as fin:\n",
        "    for line in fin:\n",
        "        count += 1\n",
        "        total += int(line)\n",
        "print(f\"Average score= {total/count:.2f}\")"
      ],
      "execution_count": null,
      "outputs": []
    },
    {
      "cell_type": "markdown",
      "metadata": {
        "id": "-RgqU2906T9e"
      },
      "source": [
        "### Step 8:  with for read/write operations"
      ]
    },
    {
      "cell_type": "code",
      "metadata": {
        "id": "uF2wkexEO1T2"
      },
      "source": [
        "count=0\n",
        "passed = 0\n",
        "with open('score.txt') as fin, open('passed2.txt','w') as fout:\n",
        "    for line in fin:\n",
        "        count +=1\n",
        "        score = int(line)\n",
        "        if score >= 60:\n",
        "          passed +=1\n",
        "          fout.write(line)\n",
        "print(f\"The number of the passed is {passed} in {count} students\")"
      ],
      "execution_count": null,
      "outputs": []
    },
    {
      "cell_type": "markdown",
      "metadata": {
        "id": "po_nqmsJG4C3"
      },
      "source": [
        "## Topic 5-Sorting"
      ]
    },
    {
      "cell_type": "markdown",
      "metadata": {
        "id": "JxDOYEjn05fb"
      },
      "source": [
        "### Step 9: Sort scores ascending"
      ]
    },
    {
      "cell_type": "code",
      "metadata": {
        "id": "Fgl1FVV86tNJ"
      },
      "source": [
        "scores=list()\n",
        "with open('score.txt') as fin:\n",
        "    for line in fin:\n",
        "        score = int(line)\n",
        "        scores.append(score)    \n",
        "print(\"Before sorting\", scores)\n",
        "scores.sort()\n",
        "print(\"After  sorting\", scores)"
      ],
      "execution_count": null,
      "outputs": []
    },
    {
      "cell_type": "markdown",
      "metadata": {
        "id": "3snx3UEc65Y5"
      },
      "source": [
        "### Step 10: Sort scores in descending order"
      ]
    },
    {
      "cell_type": "code",
      "metadata": {
        "id": "sh4IqQeK65-W"
      },
      "source": [
        "scores=list()\n",
        "with open('score.txt') as fin:\n",
        "    for line in fin:\n",
        "        score = int(line)\n",
        "        scores.append(score)    \n",
        "print(\"Before sorting\", scores)\n",
        "scores.sort(reverse = True)\n",
        "print(\"After  sorting\", scores)"
      ],
      "execution_count": null,
      "outputs": []
    },
    {
      "cell_type": "markdown",
      "metadata": {
        "id": "T5g4hDu47Tu2"
      },
      "source": [
        "### Step 11: sorted() function\n",
        "https://docs.python.org/3/library/functions.html#sorted\n",
        "sorted(iterable, *, key=None, reverse=False)\n",
        "Return a new sorted list from the items in iterable.\n",
        "\n",
        "Has two optional arguments which must be specified as keyword arguments.\n",
        "\n",
        "* key specifies a function of one argument that is used to extract a comparison key from each element in iterable (for example, key=str.lower). The default value is None (compare the elements directly).\n",
        "\n",
        "* reverse is a boolean value. If set to True, then the list elements are sorted as if each comparison were reversed."
      ]
    },
    {
      "cell_type": "code",
      "metadata": {
        "id": "MJeLnpJe7UDm"
      },
      "source": [
        "scores=list()\n",
        "with open('score.txt') as fin:\n",
        "    for line in fin:\n",
        "        score = int(line)\n",
        "        scores.append(score)    \n",
        "print(\"Before sorting\", scores)\n",
        "scores2=sorted(scores,reverse = True)\n",
        "print(\"After  sorting\", scores2)"
      ],
      "execution_count": null,
      "outputs": []
    },
    {
      "cell_type": "markdown",
      "metadata": {
        "id": "H7ieQwktsChE"
      },
      "source": [
        "## Topic 6-Review variable types"
      ]
    },
    {
      "cell_type": "markdown",
      "metadata": {
        "id": "u6lZ76sosK06"
      },
      "source": [
        "### Step 12:  Numerical type：int, float, bool\n",
        "* integer( int )\n",
        "* floating-point (float)\n",
        "* boolean (bool)\n"
      ]
    },
    {
      "cell_type": "code",
      "metadata": {
        "id": "5ZDbzG_3s5bX"
      },
      "source": [
        "a = 10\n",
        "print(a)\n",
        "print(type(a))"
      ],
      "execution_count": null,
      "outputs": []
    },
    {
      "cell_type": "code",
      "metadata": {
        "id": "3VSa6NOcs9uD"
      },
      "source": [
        "b = 1.5\n",
        "print(b)\n",
        "print(type(b))"
      ],
      "execution_count": null,
      "outputs": []
    },
    {
      "cell_type": "code",
      "metadata": {
        "id": "SlUNJJOktI0l"
      },
      "source": [
        "c = True\n",
        "print(c)\n",
        "print(type(c))"
      ],
      "execution_count": null,
      "outputs": []
    },
    {
      "cell_type": "markdown",
      "metadata": {
        "id": "qeHvzo4esbzn"
      },
      "source": [
        "### Step 13: String type：str, chr\n",
        "Special string：\n",
        "* F-string: 用來格式化\n",
        "* R-string: raw string\n",
        "* U-string: unicode string\n",
        "* B-string: Byte string\n"
      ]
    },
    {
      "cell_type": "code",
      "metadata": {
        "id": "4azgdWH3tNhN"
      },
      "source": [
        "import sys\n",
        "msg = \"Hello, World\"\n",
        "print(msg)\n",
        "print(type(msg))\n",
        "print(sys.getsizeof(msg))"
      ],
      "execution_count": null,
      "outputs": []
    },
    {
      "cell_type": "code",
      "metadata": {
        "id": "UCyii3DVtdSV"
      },
      "source": [
        "name = \"John\"\n",
        "msg = f\"Hello {name}\"\n",
        "print(msg)\n",
        "print(type(msg))"
      ],
      "execution_count": null,
      "outputs": []
    },
    {
      "cell_type": "code",
      "metadata": {
        "id": "7JbEjvohuGbx"
      },
      "source": [
        "msg = r\"Hello\\nJohn\"\n",
        "print(msg)\n",
        "print(type(msg))"
      ],
      "execution_count": null,
      "outputs": []
    },
    {
      "cell_type": "code",
      "metadata": {
        "id": "DMqM9EpmuROq"
      },
      "source": [
        "msg = r\"Hello\\nJohn\"\n",
        "print(msg)\n",
        "print(type(msg))"
      ],
      "execution_count": null,
      "outputs": []
    },
    {
      "cell_type": "code",
      "metadata": {
        "id": "3SGrxzaLuupC"
      },
      "source": [
        "import sys\n",
        "msg = u\"Hello, World\"\n",
        "print(msg)\n",
        "print(type(msg))\n",
        "print(sys.getsizeof(msg))"
      ],
      "execution_count": null,
      "outputs": []
    },
    {
      "cell_type": "code",
      "metadata": {
        "id": "mb5ChDQLuyye"
      },
      "source": [
        "import sys\n",
        "msg = b\"Hello, World\"\n",
        "print(msg)\n",
        "print(type(msg))\n",
        "print(sys.getsizeof(msg))"
      ],
      "execution_count": null,
      "outputs": []
    },
    {
      "cell_type": "markdown",
      "metadata": {
        "id": "LxvRV7yIwTl4"
      },
      "source": [
        "### Step 14: Character\n",
        "\n",
        "The ASCII code of \"A\" is 65, and the ASCII code of \"a\" is 97\n",
        "\n",
        "\"這是什麼\" 的 UNICODE code \\u9019\\u662f\\u4ec0\\u9ebc\n"
      ]
    },
    {
      "cell_type": "code",
      "metadata": {
        "id": "rYIzu1iCwWAZ"
      },
      "source": [
        "x = 65\n",
        "y = chr(x)\n",
        "print(y)"
      ],
      "execution_count": null,
      "outputs": []
    },
    {
      "cell_type": "code",
      "metadata": {
        "id": "kTSj2fiFwsvO"
      },
      "source": [
        "x = 97\n",
        "y = chr(x)\n",
        "print(y)"
      ],
      "execution_count": null,
      "outputs": []
    },
    {
      "cell_type": "code",
      "metadata": {
        "id": "2fEbvKbixJVp"
      },
      "source": [
        "msg = \"\\u9019\\u662f\\u4ec0\\u9ebc\"\n",
        "print(msg)"
      ],
      "execution_count": null,
      "outputs": []
    },
    {
      "cell_type": "code",
      "metadata": {
        "id": "kTSvW6YWxQ0K"
      },
      "source": [
        "x = 0x9019\n",
        "y = chr(x)\n",
        "print(y)"
      ],
      "execution_count": null,
      "outputs": []
    },
    {
      "cell_type": "code",
      "metadata": {
        "id": "RFCyuxk2xcMo"
      },
      "source": [
        "x = 0x662f\n",
        "y = chr(x)\n",
        "print(y)"
      ],
      "execution_count": null,
      "outputs": []
    },
    {
      "cell_type": "markdown",
      "metadata": {
        "id": "s06jaJBMscIP"
      },
      "source": [
        "### Step 15:  Container type：list, tuple, set, dict"
      ]
    },
    {
      "cell_type": "code",
      "metadata": {
        "id": "c0SIKK_gxi7y"
      },
      "source": [
        "animals = [\"bear\", \"cat\", \"dog\", \"elephant\", \"horse\"]\n",
        "number = [1, 2, 3, 4, 5 ]"
      ],
      "execution_count": null,
      "outputs": []
    },
    {
      "cell_type": "code",
      "metadata": {
        "id": "J9P56cRvywyE"
      },
      "source": [
        "animals = ('bear', 'cat', 'dog', 'elephant', 'horse')\n",
        "number = (1, 2, 3, 4, 5 )"
      ],
      "execution_count": null,
      "outputs": []
    },
    {
      "cell_type": "code",
      "metadata": {
        "id": "SeGZnFITzC7E"
      },
      "source": [
        "animals = {'bear', 'cat', 'dog', 'elephant', 'horse'}\n",
        "number = {1, 2, 3, 4, 5} "
      ],
      "execution_count": null,
      "outputs": []
    },
    {
      "cell_type": "code",
      "metadata": {
        "id": "GNyr0kF-xssk"
      },
      "source": [
        "animalx = {1: \"bear\", 2: \"cat\", 3: \"dog\", 4: \"elephant\"}\n",
        "print(animalx)"
      ],
      "execution_count": null,
      "outputs": []
    },
    {
      "cell_type": "code",
      "metadata": {
        "id": "NHvhdNsmyjbm"
      },
      "source": [
        "animaly = dict(zip(number, animals))\n",
        "print(animaly)"
      ],
      "execution_count": null,
      "outputs": []
    },
    {
      "cell_type": "markdown",
      "metadata": {
        "id": "LXM4934qfwxm"
      },
      "source": [
        "## Topic 7(主題7)- Binary floating point arithmetic and decimal floating point arithmetic\n",
        "\n",
        "The decimal module provides a Decimal data type for decimal floating point operations. Compared with the built-in binary floating-point number float implementation, this class is especially suitable for the following situations\n",
        "\n",
        "* Financial applications and other applications that require accurate decimal notation,\n",
        "* For precision control,\n",
        "* Control rounding to meet legal or regulatory standards,\n",
        "* Track the effective decimal place (decimal place), or\n",
        "* The user expects an application whose calculation result matches the manual calculation.\n",
        "\n",
        "For example, to calculate the total price of 70 cents of mobile phone charging plus 5% tax, using decimal floating point numbers and binary floating point numbers, different answers will be calculated. If the calculation result is rounded to the nearest cent, the difference between the two will be more significant."
      ]
    },
    {
      "cell_type": "markdown",
      "metadata": {
        "id": "fRn4eCabl03S"
      },
      "source": [
        "### Step 16: decimal operations"
      ]
    },
    {
      "cell_type": "code",
      "metadata": {
        "id": "nLnnYCW24SjP"
      },
      "source": [
        "from decimal import *\n",
        "a = round(Decimal('0.70') * Decimal('1.05'), 2)\n",
        "b = round(.70 * 1.05, 2)\n",
        "print(f\"{a}\")\n",
        "print(f\"{b}\")"
      ],
      "execution_count": null,
      "outputs": []
    },
    {
      "cell_type": "markdown",
      "metadata": {
        "id": "6n1PgkRzk8fV"
      },
      "source": [
        "## Topic 8-Review formatted output"
      ]
    },
    {
      "cell_type": "markdown",
      "metadata": {
        "id": "cRY9lEtilrUD"
      },
      "source": [
        "### Step 17: %-formatting "
      ]
    },
    {
      "cell_type": "code",
      "metadata": {
        "id": "SGcoak3G407b"
      },
      "source": [
        "A = 435; B = 59.058\n",
        "print('Art: %5d, Price per Unit: %8.2f' % (A, B))"
      ],
      "execution_count": null,
      "outputs": []
    },
    {
      "cell_type": "code",
      "metadata": {
        "id": "Ry3k8X8w42v7"
      },
      "source": [
        "FirstName = \"Mary\"; LastName= \"Lin\"\n",
        "print(\"She is %s %s\" %(FirstName, LastName))"
      ],
      "execution_count": null,
      "outputs": []
    },
    {
      "cell_type": "code",
      "metadata": {
        "id": "vG7GEJKVppUg"
      },
      "source": [
        "for a in range(1,10):\n",
        "  for b in range(1,10):\n",
        "    print('%d*%d =%2d'%(a, b, a*b), end=' ')\n",
        "  print()"
      ],
      "execution_count": null,
      "outputs": []
    },
    {
      "cell_type": "markdown",
      "metadata": {
        "id": "h-f1kUzvpzdV"
      },
      "source": [
        "### Step 18: str-format（Python 2.6+）"
      ]
    },
    {
      "cell_type": "code",
      "metadata": {
        "id": "6gQKcrvL45Ui"
      },
      "source": [
        "A = 435; B = 59.058\n",
        "print(\"Art: {0:5d}, Price per Unit: {1:8.2f}\".format(435, 59.058))"
      ],
      "execution_count": null,
      "outputs": []
    },
    {
      "cell_type": "code",
      "metadata": {
        "id": "WHmGfsmn5gYZ"
      },
      "source": [
        "FirstName = \"Mary\"; LastName= \"Lin\"\n",
        "print(\"She is {} {}\".format(FirstName, LastName))"
      ],
      "execution_count": null,
      "outputs": []
    },
    {
      "cell_type": "code",
      "metadata": {
        "id": "JhSFVIx_p4iJ"
      },
      "source": [
        "for a in range(1,10):\n",
        "  for b in range(1,10):\n",
        "    print('{0:1d}*{1:1d} ={2:2d}'.format(a, b, a*b), end=' ')\n",
        "  print()"
      ],
      "execution_count": null,
      "outputs": []
    },
    {
      "cell_type": "markdown",
      "metadata": {
        "id": "Csi917Dkp6Hp"
      },
      "source": [
        "### Step 19: f-string （Python 3.6+）"
      ]
    },
    {
      "cell_type": "code",
      "metadata": {
        "id": "EKqTC8fM5i_a"
      },
      "source": [
        "A = 435; B = 59.058\n",
        "print(f\"Art:{A:5d}, Price per Unit: {B:8.2f}\")"
      ],
      "execution_count": null,
      "outputs": []
    },
    {
      "cell_type": "code",
      "metadata": {
        "id": "CayLO7Ce5klu"
      },
      "source": [
        "FirstName = \"Mary\"; LastName= \"Lin\"\n",
        "print(f\"She is {FirstName} {LastName}\")"
      ],
      "execution_count": null,
      "outputs": []
    },
    {
      "cell_type": "code",
      "metadata": {
        "id": "d5taBrRLp8sL"
      },
      "source": [
        "for a in range(1,10):\n",
        "  for b in range(1,10):\n",
        "    c= a*b\n",
        "    print(f'{a}*{b} ={c:2d}', end=' ')\n",
        "  print()"
      ],
      "execution_count": null,
      "outputs": []
    }
  ]
}