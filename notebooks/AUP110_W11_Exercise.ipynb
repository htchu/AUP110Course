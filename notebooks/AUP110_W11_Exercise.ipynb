{
  "nbformat": 4,
  "nbformat_minor": 0,
  "metadata": {
    "colab": {
      "name": "AUP110_W11_Exercise.ipynb",
      "provenance": [],
      "collapsed_sections": []
    },
    "kernelspec": {
      "display_name": "Python 3",
      "language": "python",
      "name": "python3"
    },
    "language_info": {
      "codemirror_mode": {
        "name": "ipython",
        "version": 3
      },
      "file_extension": ".py",
      "mimetype": "text/x-python",
      "name": "python",
      "nbconvert_exporter": "python",
      "pygments_lexer": "ipython3",
      "version": "3.7.6"
    }
  },
  "cells": [
    {
      "cell_type": "markdown",
      "metadata": {
        "id": "3tHmSlPKjSDR"
      },
      "source": [
        "# AU Fundamentals of Python Programming-Module2Problems(Part. B)"
      ]
    },
    {
      "cell_type": "markdown",
      "metadata": {
        "id": "o10sMcW7jd0L"
      },
      "source": [
        "## M2-Q14   n*(n+1)總和\n",
        "問題描述：\n",
        "讓使用者輸入一正整數 n，計算 1*(1+1) + 2*(2+1) + 3*(3+1) + … + n*(n+1)並輸出結果。\n",
        "\n",
        "輸入說明：\n",
        "輸入一正整數 n。\n",
        "\n",
        "輸出說明：\n",
        "計算 1*(1+1) + 2*(2+1) + 3*(3+1) + … + n*(n+1)並輸出結果，最後必須有換行字元。\n",
        "\n",
        "\n",
        "\n",
        "\n",
        "| Sample Input:   |      Sample Output:      |\n",
        "|:----------------|:-------------------------|\n",
        "| 5         |70⏎ |"
      ]
    },
    {
      "cell_type": "code",
      "metadata": {
        "id": "7kNXwlkQjRWy"
      },
      "source": [
        ""
      ],
      "execution_count": null,
      "outputs": []
    },
    {
      "cell_type": "markdown",
      "metadata": {
        "id": "Jen3UxgYkudE"
      },
      "source": [
        "## M2-Q16 計算 $2^n$ 總和\n",
        "問題描述：\n",
        "讓使用者輸入一正整數 n，並輸出$2^1+2^2+2^3+...+2^n$ 的值。\n",
        "\n",
        "輸入說明：\n",
        "輸入一正整數 n。\n",
        "\n",
        "輸出說明：\n",
        "輸出 $2^1+2^2+2^3+...+2^n$ 的值，最後必須有換行字元。\n",
        "\n",
        "\n",
        "| Sample Input:   |      Sample Output:      |\n",
        "|:----------------|:-------------------------|\n",
        "|9 | 1022⏎   |\n",
        "|14          |32766⏎ |"
      ]
    },
    {
      "cell_type": "code",
      "metadata": {
        "id": "ipMCU87flKjT"
      },
      "source": [
        ""
      ],
      "execution_count": null,
      "outputs": []
    },
    {
      "cell_type": "markdown",
      "metadata": {
        "id": "t8-v9ylQmcX-"
      },
      "source": [
        "## M2-Q18 尋找連續整數相加\n",
        "\n",
        "問題描述：\n",
        "讓使用者輸入一正整數，撰寫程式找出一連續整數數列讓該數列的和為此一正整數，\n",
        "若正整數不能找出連續整數之和，請印出「No」。\n",
        "例如：\n",
        "\n",
        "15 =1+2+3+4+5\n",
        "=4+5+6\n",
        "=7+8\n",
        "\n",
        "輸入說明：\n",
        "輸入一個正整數。\n",
        "\n",
        "輸出說明：\n",
        "輸出可能的整數相加連續整數，若找不到時，請印出「No」，最後必須有換行字元。\n",
        "\n",
        "| Sample Input:   |      Sample Output:      |\n",
        "|:----------------|:-------------------------|\n",
        "|15 | 1+2+3+4+5   |\n",
        "|    |4+5+6 |\n",
        "|    |7+8⏎ |\n",
        "|4    |NO⏎ |\n"
      ]
    },
    {
      "cell_type": "code",
      "metadata": {
        "id": "9in2OxWFmuq2"
      },
      "source": [
        ""
      ],
      "execution_count": null,
      "outputs": []
    },
    {
      "cell_type": "markdown",
      "metadata": {
        "id": "Zcn88_XIn18C"
      },
      "source": [
        "## M2-Q20 質數列表\n",
        "\n",
        "問題描述：\n",
        "讓使用者輸入一正整數 n，並輸出小於 n 的所有質數。\n",
        "\n",
        "輸入說明：\n",
        "輸入一正整數 n。\n",
        "\n",
        "輸出說明：\n",
        "輸出小於 n 的所有質數 (1 不是質數)，最後必須有換行字元。\n",
        "\n",
        "\n",
        "| Sample Input:   |      Sample Output:      |\n",
        "|:----------------|:-------------------------|\n",
        "|12 | 2   |\n",
        "|  | 3   |\n",
        "|  | 5   |\n",
        "|  | 7   |\n",
        "|   |11⏎ |"
      ]
    },
    {
      "cell_type": "code",
      "metadata": {
        "id": "-_25jQ7-oCq-"
      },
      "source": [
        ""
      ],
      "execution_count": null,
      "outputs": []
    },
    {
      "cell_type": "markdown",
      "metadata": {
        "id": "KtOtlKY6pug-"
      },
      "source": [
        "## M2-Q22 直角三角形邊長\n",
        "\n",
        "問題描述：\n",
        "印出邊長和小於等於 n 的所有可能的直角三角形三邊長。\n",
        "\n",
        "輸入說明：\n",
        "輸入一正整數 n。\n",
        "\n",
        "輸出說明：\n",
        "輸出邊長和小於等於 n 的所有可能的直角三角形三邊長，三邊邊長以 tab 間格，最後必須有換行字元。\n",
        "\n",
        "\n",
        "| Sample Input:   |      Sample Output:      |\n",
        "|:----------------|:-------------------------|\n",
        "|30 | 3     4     5  |\n",
        "|   |5   12   13 |\n",
        "|   |6     8   10⏎ 日日"
      ]
    },
    {
      "cell_type": "code",
      "metadata": {
        "id": "S6rQ0wF6qIUz"
      },
      "source": [
        ""
      ],
      "execution_count": null,
      "outputs": []
    },
    {
      "cell_type": "markdown",
      "metadata": {
        "id": "4dLmZ7DPqMRe"
      },
      "source": [
        "## M2-Q23 數字反轉\n",
        "\n",
        "問題描述：\n",
        "設計一個程式，讓使用者輸入一個正整數，並將該數字反轉印出，如輸入：12345，輸出：54321。\n",
        "\n",
        "輸入說明：\n",
        "輸入一正整數 n。\n",
        "\n",
        "輸出說明：\n",
        "將輸入數字反轉印出，最後必須有換行字元。\n",
        "\n",
        "\n",
        "\n",
        "| Sample Input:   |      Sample Output:      |\n",
        "|:----------------|:-------------------------|\n",
        "|123456 | 654321⏎ |\n"
      ]
    },
    {
      "cell_type": "code",
      "metadata": {
        "id": "3EerUBiUVDrz"
      },
      "source": [
        ""
      ],
      "execution_count": null,
      "outputs": []
    },
    {
      "cell_type": "code",
      "metadata": {
        "id": "6wMrmcfJtRJ2"
      },
      "source": [
        ""
      ],
      "execution_count": null,
      "outputs": []
    },
    {
      "cell_type": "code",
      "metadata": {
        "id": "w_JrZi4T9SnB"
      },
      "source": [
        ""
      ],
      "execution_count": null,
      "outputs": []
    },
    {
      "cell_type": "markdown",
      "metadata": {
        "id": "_AitNr6D9S69"
      },
      "source": [
        "## M2-Q25 數字總和\n",
        "\n",
        "問題描述：\n",
        "使用者輸入一正整數 n，找出小於等於 n 中，其質因數只有 2 或 3 或 5 的數字總和。\n",
        "\n",
        "輸入說明：\n",
        "輸入一正整數 n。\n",
        "\n",
        "輸出說明：\n",
        "找出小於等於 n 中，其質因數只有 2 或 3 或 5 的數字總和，最後必須有換行字元。\n",
        "\n",
        "\n",
        "| Sample Input:   |      Sample Output:      |\n",
        "|:----------------|:-------------------------|\n",
        "|30 | 234⏎   |\n",
        "|50  |485⏎ |\n"
      ]
    },
    {
      "cell_type": "code",
      "metadata": {
        "colab": {
          "base_uri": "https://localhost:8080/"
        },
        "id": "3VT6xXGc9ULc",
        "outputId": "0f5afd52-b46e-43e0-a168-088bcdfe2e45"
      },
      "source": [
        "strIn = input()\n",
        "n = int(strIn)\n",
        "sum = 0\n",
        "for num in range(2, n+1):\n",
        "  x=num\n",
        "  while x%2==0:\n",
        "    x/=2\n",
        "  while x%3==0:\n",
        "    x/=3\n",
        "  while x%5==0:\n",
        "    x/=5\n",
        "  if x ==1:\n",
        "    sum +=num\n",
        "print(sum)\n"
      ],
      "execution_count": null,
      "outputs": [
        {
          "name": "stdout",
          "output_type": "stream",
          "text": [
            "50\n",
            "485\n"
          ]
        }
      ]
    }
  ]
}