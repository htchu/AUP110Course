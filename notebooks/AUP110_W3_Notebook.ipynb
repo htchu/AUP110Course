{
 "cells": [
  {
   "cell_type": "markdown",
   "metadata": {
    "id": "EUjJ7ImLnPVr"
   },
   "source": [
    "# AUP110-Fundamentals of Programming\n",
    "\n"
   ]
  },
  {
   "cell_type": "markdown",
   "metadata": {
    "id": "kLe1GoiTtrgI"
   },
   "source": [
    "## Topic 1(主題1)-基本資料型態和input()"
   ]
  },
  {
   "cell_type": "markdown",
   "metadata": {
    "id": "cHiXWmApnZ_W"
   },
   "source": [
    "### Step 1: Hello World"
   ]
  },
  {
   "cell_type": "code",
   "execution_count": null,
   "metadata": {
    "id": "8JL0O3Dw0hVK"
   },
   "outputs": [],
   "source": [
    "print('Hello World!')"
   ]
  },
  {
   "cell_type": "code",
   "execution_count": null,
   "metadata": {
    "id": "eF-jycTxnY9-"
   },
   "outputs": [],
   "source": [
    "print('Hello '+'World!')"
   ]
  },
  {
   "cell_type": "code",
   "execution_count": null,
   "metadata": {
    "id": "7AzrK1j_npYa"
   },
   "outputs": [],
   "source": [
    "print(\"Hello World!\")"
   ]
  },
  {
   "cell_type": "code",
   "execution_count": null,
   "metadata": {
    "id": "EbZnPm_GnzgW"
   },
   "outputs": [],
   "source": [
    "print(\"Hello\");  print(\"World!\")"
   ]
  },
  {
   "cell_type": "code",
   "execution_count": null,
   "metadata": {
    "id": "7honmgYyqx0w"
   },
   "outputs": [],
   "source": [
    "print(\"Hello World!\") #註解是不會執行的"
   ]
  },
  {
   "cell_type": "markdown",
   "metadata": {
    "id": "RATZKmu_n4_F"
   },
   "source": [
    "### Step 2: Run \"Hello World\" by a command line (指令行)\n",
    "* 使用VSC 建立一個檔案叫做 'hello.py'\n",
    "* 在 hello.py 寫入 print(\"Hello World!\")\n",
    "* 開啟「命令提示字元」，輸入: ```python hello.py```"
   ]
  },
  {
   "cell_type": "markdown",
   "metadata": {
    "id": "dLQMkIjNoqVk"
   },
   "source": [
    "### Step 3: Assignment statement (指定敘述)\n",
    "* Assignment (賦值) 符號\"=\"\n",
    "* 左邊是Variables (變數)\n",
    "* 右邊是有型別(date type)的值 (value)"
   ]
  },
  {
   "cell_type": "code",
   "execution_count": null,
   "metadata": {
    "id": "OtOojbjRz69y"
   },
   "outputs": [],
   "source": [
    "#Numbers\n",
    "counter = 100          # An integer assignment\n",
    "miles   = 1000.0       # A floating point\n",
    "name    = 'John'       # A string"
   ]
  },
  {
   "cell_type": "code",
   "execution_count": null,
   "metadata": {
    "id": "Ux246shVopsl"
   },
   "outputs": [],
   "source": [
    "print(counter)         #列印變數的值\n",
    "print(type(counter))   #列印變數的型別"
   ]
  },
  {
   "cell_type": "code",
   "execution_count": null,
   "metadata": {
    "id": "XqZnJ5MFrC6y"
   },
   "outputs": [],
   "source": [
    "print(miles)         #列印變數的值\n",
    "print(type(miles))   #列印變數的型別"
   ]
  },
  {
   "cell_type": "code",
   "execution_count": null,
   "metadata": {
    "id": "HueRVbbirFoc"
   },
   "outputs": [],
   "source": [
    "print(name)         #列印變數的值\n",
    "print(type(name))   #列印變數的型別"
   ]
  },
  {
   "cell_type": "markdown",
   "metadata": {
    "id": "CDPEHTzDrQ0C"
   },
   "source": [
    "### Step 4: Python Keywords (保留字)\n",
    "```\n",
    "False      await      else       import     pass\n",
    "None       break      except     in         raise\n",
    "True       class      finally    is         return\n",
    "and        continue   for        lambda     try\n",
    "as         def        from       nonlocal   while\n",
    "assert     del        global     not        with\n",
    "async      elif       if         or         yield\n",
    "```"
   ]
  },
  {
   "cell_type": "code",
   "execution_count": null,
   "metadata": {
    "id": "1zxS3QUrrNuj"
   },
   "outputs": [],
   "source": [
    "class = 100"
   ]
  },
  {
   "cell_type": "code",
   "execution_count": null,
   "metadata": {
    "id": "5N99x6QdsBRI"
   },
   "outputs": [],
   "source": [
    "my = True\n",
    "print(my)         #列印變數的值\n",
    "print(type(my))   #列印變數的型別"
   ]
  },
  {
   "cell_type": "code",
   "execution_count": null,
   "metadata": {
    "id": "OW_O47c2r0bL"
   },
   "outputs": [],
   "source": [
    "my = False\n",
    "print(my)         #列印變數的值\n",
    "print(type(my))   #列印變數的型別"
   ]
  },
  {
   "cell_type": "code",
   "execution_count": null,
   "metadata": {
    "id": "CmLcco-2sPcW"
   },
   "outputs": [],
   "source": [
    "my = None\n",
    "print(my)         #列印變數的值\n",
    "print(type(my))   #列印變數的型別"
   ]
  },
  {
   "cell_type": "markdown",
   "metadata": {
    "id": "SikgZwdSsjnz"
   },
   "source": [
    "### Step 5: Python 四個內建基本函數\n",
    "* help()  函數說明\n",
    "* type()  變數類別\n",
    "* print() 列印\n",
    "* input() 輸入"
   ]
  },
  {
   "cell_type": "code",
   "execution_count": null,
   "metadata": {
    "id": "i-9BPj_t1dkw"
   },
   "outputs": [],
   "source": [
    "help(type)"
   ]
  },
  {
   "cell_type": "code",
   "execution_count": null,
   "metadata": {
    "id": "ExiSChA40noD"
   },
   "outputs": [],
   "source": [
    "help(print)"
   ]
  },
  {
   "cell_type": "code",
   "execution_count": null,
   "metadata": {
    "id": "RAl6qI6huXXF"
   },
   "outputs": [],
   "source": [
    "help(input)"
   ]
  },
  {
   "cell_type": "markdown",
   "metadata": {
    "id": "VnMo1y-kujl2"
   },
   "source": [
    "### Step 6: 輸入變數的值"
   ]
  },
  {
   "cell_type": "code",
   "execution_count": null,
   "metadata": {
    "id": "uJbEBoQR3QTM"
   },
   "outputs": [],
   "source": [
    "name = input('Please input your name：')\n",
    "print('Hello, ', name)\n",
    "print(type(name))   #列印變數的型別"
   ]
  },
  {
   "cell_type": "markdown",
   "metadata": {
    "id": "0lP1OF6awu5J"
   },
   "source": [
    "### Step 7: Python 型別轉換函數\n",
    "* int()    #變整數\n",
    "* float()  #變浮點數\n",
    "* str()    #變字串"
   ]
  },
  {
   "cell_type": "code",
   "execution_count": null,
   "metadata": {
    "id": "YFol-Wm-xNEO"
   },
   "outputs": [],
   "source": [
    "age = input('Please input your age：')\n",
    "age = int(age)\n",
    "print(type(age))   #列印變數的型別"
   ]
  },
  {
   "cell_type": "code",
   "execution_count": null,
   "metadata": {
    "id": "TTW4smZex00n"
   },
   "outputs": [],
   "source": [
    "score = input('Please input your score：')\n",
    "score = int(score)\n",
    "print(type(score))   #列印變數的型別"
   ]
  },
  {
   "cell_type": "markdown",
   "metadata": {
    "id": "nQJ1uTEYvPwL"
   },
   "source": [
    "## Topic 2(主題2)-算術運算子和運算優先順序\n",
    "數值運算符號（Arithmetic Operators）\n",
    "```\n",
    "+ - * / #加減乘除\n",
    "** #次方\n",
    "// #商\n",
    "%  #餘數\n",
    "```"
   ]
  },
  {
   "cell_type": "markdown",
   "metadata": {
    "id": "2INtSe_Gv-wl"
   },
   "source": [
    "### Step 8: 加減乘除"
   ]
  },
  {
   "cell_type": "code",
   "execution_count": null,
   "metadata": {
    "id": "4z4GBkIpwjKW"
   },
   "outputs": [],
   "source": [
    "print(1 + 2)\n",
    "print(3 - 4)\n",
    "print(5 * 6)\n",
    "print(12 / 5)"
   ]
  },
  {
   "cell_type": "code",
   "execution_count": null,
   "metadata": {
    "id": "u2ty_vzewBvL"
   },
   "outputs": [],
   "source": [
    "print(1.3 + 2)\n",
    "print(3 - 4.2)\n",
    "print(5 * 6.5)\n",
    "print(10.0 / 5)"
   ]
  },
  {
   "cell_type": "markdown",
   "metadata": {
    "id": "nBU6Jd88wve6"
   },
   "source": [
    "### Step 9: 商和餘數"
   ]
  },
  {
   "cell_type": "code",
   "execution_count": null,
   "metadata": {
    "id": "EyiI9xOBw1g_"
   },
   "outputs": [],
   "source": [
    "print(23 / 5)\n",
    "print(23 // 5)\n",
    "print(23 % 5)"
   ]
  },
  {
   "cell_type": "markdown",
   "metadata": {
    "id": "L0nDEDvaxEhq"
   },
   "source": [
    "### Step 10: 次方"
   ]
  },
  {
   "cell_type": "code",
   "execution_count": null,
   "metadata": {
    "id": "UC7H_GzqxKs-"
   },
   "outputs": [],
   "source": [
    "print(23 * 2)\n",
    "print(23 ** 2)"
   ]
  },
  {
   "cell_type": "markdown",
   "metadata": {
    "id": "2zYw7pu4xWDs"
   },
   "source": [
    "### Step 11: 運算子優先序（Operator precedence）\n",
    "<img src=\"https://techvidvan.com/tutorials/wp-content/uploads/sites/2/2019/12/python-operator-precedence.jpg\" alt=\"precedence\"\n",
    "\ttitle=\"Operator precedence\" width=\"300\" />"
   ]
  },
  {
   "cell_type": "code",
   "execution_count": null,
   "metadata": {
    "id": "Jlu-46AjyszT"
   },
   "outputs": [],
   "source": [
    "print(3 * 4 + 5)  #先乘除後加減\n",
    "print(3 * (4 + 5))#小括號 ()優先"
   ]
  },
  {
   "cell_type": "code",
   "execution_count": null,
   "metadata": {
    "id": "jngCziaKzFke"
   },
   "outputs": [],
   "source": [
    "print(1 * 2 ** 3)  #次方比乘除優先\n",
    "print(1 **2 + 3)   #次方比加減優先"
   ]
  },
  {
   "cell_type": "markdown",
   "metadata": {
    "id": "dRdtCudyzjfI"
   },
   "source": [
    "## Topic 3(主題3)-標準庫math的應用"
   ]
  },
  {
   "cell_type": "markdown",
   "metadata": {
    "id": "b_OsCdmjz7_e"
   },
   "source": [
    "### Step 12: 計算pi 和sin(60degree) 函數"
   ]
  },
  {
   "cell_type": "code",
   "execution_count": null,
   "metadata": {
    "id": "b1tRdaFu3jX0"
   },
   "outputs": [],
   "source": [
    "pi = 3.14159\n",
    "sin(pi/3)"
   ]
  },
  {
   "cell_type": "markdown",
   "metadata": {
    "id": "d3ZoFghS1Eir"
   },
   "source": [
    "### Step 13: 使用標準庫math的pi 和sin 函數"
   ]
  },
  {
   "cell_type": "code",
   "execution_count": null,
   "metadata": {
    "id": "Y0ZTqGnr1BTo"
   },
   "outputs": [],
   "source": [
    "import math\n",
    "print(math.pi)\n",
    "print(math.sin(math.pi/3))"
   ]
  },
  {
   "cell_type": "markdown",
   "metadata": {
    "id": "PPziADEY1uLb"
   },
   "source": [
    "### Step 13: 使用as"
   ]
  },
  {
   "cell_type": "code",
   "execution_count": null,
   "metadata": {
    "id": "h_Th9s8812ke"
   },
   "outputs": [],
   "source": [
    "import math as m\n",
    "print(m.pi)\n",
    "print(m.sin(m.pi/3))"
   ]
  },
  {
   "cell_type": "markdown",
   "metadata": {
    "id": "EVyrr8pc1ZcY"
   },
   "source": [
    "### Step 14: 使用標準庫math的角度(degree)和弧度(radian)轉換"
   ]
  },
  {
   "cell_type": "code",
   "execution_count": null,
   "metadata": {
    "id": "y4m_JV3U1kLf"
   },
   "outputs": [],
   "source": [
    "import math as m\n",
    "print(m.degrees((math.pi/3)))\n",
    "print(m.radians(60))"
   ]
  },
  {
   "cell_type": "code",
   "execution_count": null,
   "metadata": {
    "id": "H1OLx_ro4E37"
   },
   "outputs": [],
   "source": [
    "\n"
   ]
  }
 ],
 "metadata": {
  "colab": {
   "name": "AUPython-W2.ipynb",
   "provenance": []
  },
  "kernelspec": {
   "display_name": "Python 3",
   "language": "python",
   "name": "python3"
  },
  "language_info": {
   "codemirror_mode": {
    "name": "ipython",
    "version": 3
   },
   "file_extension": ".py",
   "mimetype": "text/x-python",
   "name": "python",
   "nbconvert_exporter": "python",
   "pygments_lexer": "ipython3",
   "version": "3.7.6"
  }
 },
 "nbformat": 4,
 "nbformat_minor": 1
}
