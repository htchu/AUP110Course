{
 "cells": [
  {
   "cell_type": "markdown",
   "metadata": {
    "id": "oECo_NZME-ZS"
   },
   "source": [
    "# AU Fundamentals of Python Programming-W8\n"
   ]
  },
  {
   "cell_type": "markdown",
   "metadata": {
    "id": "8-yn9nw-FB9y"
   },
   "source": [
    "## Topic 1(主題1)-函數的定義及呼叫 / function definition and call"
   ]
  },
  {
   "cell_type": "markdown",
   "metadata": {
    "id": "R2rmbqJlGdCs"
   },
   "source": [
    "## 計算240和96的最大公因數gcd"
   ]
  },
  {
   "cell_type": "code",
   "execution_count": null,
   "metadata": {
    "id": "gAbu3N3RE9F6"
   },
   "outputs": [],
   "source": [
    "a=240; b=96\n",
    "r=a%b\n",
    "while r!=0:\n",
    "  a=b;b=r\n",
    "  r=a%b\n",
    "print(\"gcd=\",b)"
   ]
  },
  {
   "cell_type": "markdown",
   "metadata": {
    "id": "8i-WxoTWGpbm"
   },
   "source": [
    "## 將gcd計算定義成函數 gcd()"
   ]
  },
  {
   "cell_type": "code",
   "execution_count": null,
   "metadata": {
    "id": "AaTEHpB6Gu-l"
   },
   "outputs": [],
   "source": [
    "def gcd(a, b):\n",
    "  r=a%b\n",
    "  while r!=0:\n",
    "    a=b;b=r\n",
    "    r=a%b\n",
    "  return b"
   ]
  },
  {
   "cell_type": "code",
   "execution_count": null,
   "metadata": {
    "id": "aotFrthRbJGc"
   },
   "outputs": [],
   "source": [
    "a=240; b=96\n",
    "print(f\"{a}, {b}, {gcd(a,b)}\")"
   ]
  },
  {
   "cell_type": "markdown",
   "metadata": {
    "id": "Y6fA-gcCduPm"
   },
   "source": [
    "## Topic 2(主題2)-函數的參數及傳回值 / function parameter and return value"
   ]
  },
  {
   "cell_type": "markdown",
   "metadata": {
    "id": "2BKX_YRQGv-S"
   },
   "source": [
    "### 函數的預設參數"
   ]
  },
  {
   "cell_type": "code",
   "execution_count": null,
   "metadata": {
    "id": "9VwVLOwSGzvA"
   },
   "outputs": [],
   "source": [
    "def greet(name=\"Sir\",msg=\"Good day\"):\n",
    "   print(\"Hello\",name + ', ' + msg)\n",
    "\n",
    "greet(\"John\",\"Good morning!\")\n",
    "greet(\"Mary\")\n",
    "greet()\n"
   ]
  },
  {
   "cell_type": "markdown",
   "metadata": {
    "id": "-Nnh7TJCNWqp"
   },
   "source": [
    "### 函數的傳回值 return"
   ]
  },
  {
   "cell_type": "code",
   "execution_count": null,
   "metadata": {
    "id": "56eURVOcNmIT"
   },
   "outputs": [],
   "source": [
    "#------------------------------------\n",
    "# 從1加到100\n",
    "#------------------------------------\n",
    "def add100():\n",
    "    i = 1\n",
    "    sum = 0\n",
    "    while i <= 100:\n",
    "        sum += i\n",
    "        i += 1\n",
    "    return sum\n",
    "\n",
    "a = add100() \n",
    "print(a)\n",
    "print(type(a))\n",
    "\n"
   ]
  },
  {
   "cell_type": "markdown",
   "metadata": {
    "id": "D_IKixtfcExR"
   },
   "source": [
    "### 函數的多重傳回值 return\n",
    "```\n",
    "#------------------------------------\n",
    "# 將公分轉為呎, 吋\n",
    "# 輸入:公分\n",
    "# 回傳:呎, 吋\n",
    "# 1英吋為2.54公分,1英呎為30.48公分\n",
    "# 1英呎=12英吋\n",
    "#------------------------------------\n",
    "```"
   ]
  },
  {
   "cell_type": "code",
   "execution_count": null,
   "metadata": {
    "id": "9dlx4oU0cCay"
   },
   "outputs": [],
   "source": [
    "def cm_2_feet_and_inch(cm):\n",
    "    inch = cm/2.54\n",
    "    feet = inch //12\n",
    "    inch = inch %12\n",
    "    return feet, inch\n"
   ]
  },
  {
   "cell_type": "code",
   "execution_count": null,
   "metadata": {
    "id": "O6vE9Zd4cNfY"
   },
   "outputs": [],
   "source": [
    "num = input()\n",
    "cm = float(num) #centimeters\n",
    "i, f = cm_2_feet_and_inch(cm)\n",
    "print(f\"{cm:.2f} cm= {i:.0f} feets {f:.2f} inches\")"
   ]
  },
  {
   "cell_type": "markdown",
   "metadata": {
    "id": "u7-PvqS0HQ2d"
   },
   "source": [
    "## Topic 3(主題3)-迴圈控制Loop controls"
   ]
  },
  {
   "cell_type": "markdown",
   "metadata": {
    "id": "uTLIyUvSHFop"
   },
   "source": [
    "### break"
   ]
  },
  {
   "cell_type": "code",
   "execution_count": null,
   "metadata": {
    "id": "PFqym_-2HUaR"
   },
   "outputs": [],
   "source": [
    "count=0\n",
    "for string in 'content':\n",
    "   count+=1\n",
    "   if string == 't':\n",
    "      break\n",
    "   print(string)\n",
    "\n",
    "print('\\n迴圈結束')\n",
    "print('迴圈執行了 %d 次' %count)"
   ]
  },
  {
   "cell_type": "markdown",
   "metadata": {
    "id": "SDza6zQNe0EX"
   },
   "source": [
    "### continue"
   ]
  },
  {
   "cell_type": "code",
   "execution_count": null,
   "metadata": {
    "id": "uF2wkexEO1T2"
   },
   "outputs": [],
   "source": [
    "count=0\n",
    "for string in 'content':\n",
    "   count+=1\n",
    "   if string == 't':\n",
    "      continue\n",
    "   print(string)\n",
    "\n",
    "print('\\n迴圈結束')\n",
    "print('迴圈執行了 %d 次' %count)\n"
   ]
  },
  {
   "cell_type": "markdown",
   "metadata": {
    "id": "MUPsawiVe7cP"
   },
   "source": [
    "### pass"
   ]
  },
  {
   "cell_type": "code",
   "execution_count": null,
   "metadata": {
    "id": "qnNIaW5kJhk3"
   },
   "outputs": [],
   "source": [
    "count=0\n",
    "for string in 'content':\n",
    "   count+=1\n",
    "   if string == 't':\n",
    "      pass\n",
    "   print(string)\n",
    "\n",
    "print('\\n迴圈結束')\n",
    "print('迴圈執行了 %d 次' %count)"
   ]
  }
 ],
 "metadata": {
  "colab": {
   "authorship_tag": "ABX9TyP0E4gMaMIIjsajBytFGuMU",
   "name": "AUPython-W8.ipynb",
   "provenance": [
    {
     "file_id": "1D0H1eeFLv_V3TGqwK8bQcLfN29ttDIgg",
     "timestamp": 1605635763359
    },
    {
     "file_id": "1b8drR5MrVdrsS7WZEeZCz70nvoW_xcBz",
     "timestamp": 1605066321699
    }
   ]
  },
  "kernelspec": {
   "display_name": "Python 3",
   "language": "python",
   "name": "python3"
  },
  "language_info": {
   "codemirror_mode": {
    "name": "ipython",
    "version": 3
   },
   "file_extension": ".py",
   "mimetype": "text/x-python",
   "name": "python",
   "nbconvert_exporter": "python",
   "pygments_lexer": "ipython3",
   "version": "3.7.6"
  }
 },
 "nbformat": 4,
 "nbformat_minor": 1
}
