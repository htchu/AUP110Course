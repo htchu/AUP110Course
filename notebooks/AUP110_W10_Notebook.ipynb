{
  "nbformat": 4,
  "nbformat_minor": 0,
  "metadata": {
    "colab": {
      "name": "AUP110_W10_Notebook.ipynb",
      "provenance": [],
      "collapsed_sections": [],
      "toc_visible": true
    },
    "kernelspec": {
      "display_name": "Python 3",
      "language": "python",
      "name": "python3"
    },
    "language_info": {
      "codemirror_mode": {
        "name": "ipython",
        "version": 3
      },
      "file_extension": ".py",
      "mimetype": "text/x-python",
      "name": "python",
      "nbconvert_exporter": "python",
      "pygments_lexer": "ipython3",
      "version": "3.7.6"
    }
  },
  "cells": [
    {
      "cell_type": "markdown",
      "metadata": {
        "id": "9wQnr1QXVlZ2"
      },
      "source": [
        "![image](https://www.python.org/static/img/python-logo.png)\n",
        "# 亞洲大學基礎程式設計教材(AUP110-Fundamentals of Programming)\n",
        "[![Open In Colab](https://colab.research.google.com/assets/colab-badge.svg)](https://colab.research.google.com/github/googlecolab/colabtools/blob/master/notebooks/colab-github-demo.ipynb)"
      ]
    },
    {
      "cell_type": "markdown",
      "metadata": {
        "id": "oECo_NZME-ZS"
      },
      "source": [
        "# Week10-函數\n"
      ]
    },
    {
      "cell_type": "markdown",
      "metadata": {
        "id": "8-yn9nw-FB9y"
      },
      "source": [
        "## Topic 1(主題1)-函數的定義及呼叫 / function definition and call"
      ]
    },
    {
      "cell_type": "markdown",
      "metadata": {
        "id": "R2rmbqJlGdCs"
      },
      "source": [
        "### Step 1: 計算240和96的最大公因數gcd"
      ]
    },
    {
      "cell_type": "code",
      "metadata": {
        "id": "gAbu3N3RE9F6"
      },
      "source": [
        "a=240; b=96\n",
        "r=a%b\n",
        "while r!=0:\n",
        "  a=b;b=r\n",
        "  r=a%b\n",
        "print(f\"gcd={b}\")"
      ],
      "execution_count": null,
      "outputs": []
    },
    {
      "cell_type": "markdown",
      "metadata": {
        "id": "8i-WxoTWGpbm"
      },
      "source": [
        "### Step 2: 將gcd計算定義成函數 gcd()\n",
        "\n",
        "* parameter參數：函數定義中的型式變數 def gcd(x, y):\n",
        "* argument引數：函數呼叫時的真實變數  gcd(a,b)"
      ]
    },
    {
      "cell_type": "code",
      "metadata": {
        "id": "AaTEHpB6Gu-l"
      },
      "source": [
        "def gcd(x, y):\n",
        "  r=x%y\n",
        "  while r!=0:\n",
        "    x=y;y=r\n",
        "    r=x%y\n",
        "  return y"
      ],
      "execution_count": null,
      "outputs": []
    },
    {
      "cell_type": "code",
      "metadata": {
        "id": "aotFrthRbJGc"
      },
      "source": [
        "a=240; b=96\n",
        "print(f\"{a}, {b}, {gcd(a,b)}\")"
      ],
      "execution_count": null,
      "outputs": []
    },
    {
      "cell_type": "markdown",
      "metadata": {
        "id": "7NlEOCrW82us"
      },
      "source": [
        "### Step 3: 階乘計算\n",
        "$ 5 ! = 5 × 4 × 3 × 2 × 1 = 120$"
      ]
    },
    {
      "cell_type": "code",
      "metadata": {
        "id": "Wf-u60ds9AgC"
      },
      "source": [
        "n = 5\n",
        "v = 1\n",
        "for i in range(1, n + 1):\n",
        "    v *= i\n",
        "print(v)"
      ],
      "execution_count": null,
      "outputs": []
    },
    {
      "cell_type": "markdown",
      "metadata": {
        "id": "bY8XFAAA9Jjz"
      },
      "source": [
        "### Step 4: 將階乘計算定義成函數 factorial()"
      ]
    },
    {
      "cell_type": "code",
      "metadata": {
        "id": "P9d0qIgc9Jwx"
      },
      "source": [
        "def factorial(n):\n",
        "    v = 1\n",
        "    for i in range(1,n+1):\n",
        "        v *= i\n",
        "    return v\n",
        "\n",
        "print(factorial(5))"
      ],
      "execution_count": null,
      "outputs": []
    },
    {
      "cell_type": "markdown",
      "metadata": {
        "id": "Y6fA-gcCduPm"
      },
      "source": [
        "## Topic 2(主題2)-函數的參數及傳回值 / function parameter and return value"
      ]
    },
    {
      "cell_type": "markdown",
      "metadata": {
        "id": "2BKX_YRQGv-S"
      },
      "source": [
        "### Step 5: 函數的預設參數"
      ]
    },
    {
      "cell_type": "code",
      "metadata": {
        "id": "9VwVLOwSGzvA"
      },
      "source": [
        "def greet(name=\"Sir\",msg=\"Good day\"):\n",
        "   print(\"Hello\",name + ', ' + msg)\n",
        "\n",
        "greet(\"John\",\"Good morning!\")\n",
        "greet(\"Mary\")\n",
        "greet()\n"
      ],
      "execution_count": null,
      "outputs": []
    },
    {
      "cell_type": "markdown",
      "metadata": {
        "id": "5C64PXAJeQ8q"
      },
      "source": [
        "### Step 6: 函數的關鍵字引數"
      ]
    },
    {
      "cell_type": "code",
      "metadata": {
        "id": "ajcS7Oj1eWDK"
      },
      "source": [
        "greet(msg=\"Good morning!\", name=\"John\")\n",
        "greet(msg=\"Good day!\")"
      ],
      "execution_count": null,
      "outputs": []
    },
    {
      "cell_type": "markdown",
      "metadata": {
        "id": "-Nnh7TJCNWqp"
      },
      "source": [
        "### Step 7: 函數的傳回值 return"
      ]
    },
    {
      "cell_type": "code",
      "metadata": {
        "id": "56eURVOcNmIT"
      },
      "source": [
        "#------------------------------------\n",
        "# 從1加到100\n",
        "#------------------------------------\n",
        "def add100():\n",
        "    i = 1\n",
        "    sum = 0\n",
        "    while i <= 100:\n",
        "        sum += i\n",
        "        i += 1\n",
        "    return sum\n",
        "\n",
        "a = add100() \n",
        "print(a)\n",
        "print(type(a))\n",
        "\n"
      ],
      "execution_count": null,
      "outputs": []
    },
    {
      "cell_type": "markdown",
      "metadata": {
        "id": "D_IKixtfcExR"
      },
      "source": [
        "### Step 8: 函數的多重傳回值 return\n",
        "```\n",
        "#------------------------------------\n",
        "# 將公分轉為呎, 吋\n",
        "# 輸入:公分\n",
        "# 回傳:呎, 吋\n",
        "# 1英吋為2.54公分,1英呎為30.48公分\n",
        "# 1英呎=12英吋\n",
        "#------------------------------------\n",
        "```"
      ]
    },
    {
      "cell_type": "code",
      "metadata": {
        "id": "9dlx4oU0cCay"
      },
      "source": [
        "def cm_2_feet_and_inch(cm):\n",
        "    inch = cm/2.54\n",
        "    feet = inch //12\n",
        "    inch = inch %12\n",
        "    return feet, inch\n"
      ],
      "execution_count": null,
      "outputs": []
    },
    {
      "cell_type": "code",
      "metadata": {
        "id": "O6vE9Zd4cNfY"
      },
      "source": [
        "num = input()\n",
        "cm = float(num) #centimeters\n",
        "i, f = cm_2_feet_and_inch(cm)\n",
        "print(f\"{cm:.2f} cm= {i:.0f} feets {f:.2f} inches\")"
      ],
      "execution_count": null,
      "outputs": []
    },
    {
      "cell_type": "markdown",
      "metadata": {
        "id": "FP0Ifx-jOhZm"
      },
      "source": [
        "## Topic 3(主題3)-內建函數複習\n",
        "\n",
        "* 型別轉換函數: int(), float(), str()\n",
        "* 建構容器函數: list(), set(), tuple(), dict(), \n",
        "* 物件屬性函數: len(), type(), dir()\n",
        "* 生成物件函數: range(), zip(), enumerate()\n",
        "* 集合計算函數: max()/min()/abs()/round()函數\n",
        "* 函數執行函數: map()/exec()\n",
        "\n"
      ]
    },
    {
      "cell_type": "markdown",
      "metadata": {
        "id": "4NAmC0LpxnI0"
      },
      "source": [
        "### Step 9: 型別轉換函數"
      ]
    },
    {
      "cell_type": "code",
      "metadata": {
        "id": "OLX7GTnixrJw"
      },
      "source": [
        "a = \"15\"\n",
        "print(type(a))   #列印變數a的型別\n",
        "b = int(a)\n",
        "print(type(b))   #列印變數b的型別\n",
        "c = float(a)\n",
        "print(type(c))   #列印變數c的型別"
      ],
      "execution_count": null,
      "outputs": []
    },
    {
      "cell_type": "markdown",
      "metadata": {
        "id": "lsBzbTrSxrUA"
      },
      "source": [
        "### Step 10: 建構容器函數"
      ]
    },
    {
      "cell_type": "code",
      "metadata": {
        "id": "iyUE_6fQxvwB"
      },
      "source": [
        "a =  list()\n",
        "print(type(a))   #列印變數a的型別\n",
        "b = tuple()\n",
        "print(type(b))   #列印變數b的型別\n",
        "c = dict()\n",
        "print(type(c))   #列印變數c的型別"
      ],
      "execution_count": null,
      "outputs": []
    },
    {
      "cell_type": "markdown",
      "metadata": {
        "id": "gQQtZnZKxwFX"
      },
      "source": [
        "### Step 11: 物件屬性函數"
      ]
    },
    {
      "cell_type": "code",
      "metadata": {
        "id": "8FDk8QZPxxN_"
      },
      "source": [
        "ss = [1 , 3, 5, 7]\n",
        "print(type(ss))\n",
        "print(len(ss))\n",
        "print(dir(ss))"
      ],
      "execution_count": null,
      "outputs": []
    },
    {
      "cell_type": "code",
      "metadata": {
        "id": "ydwFIDV7zUM4"
      },
      "source": [
        "ss = \"This is a pen\"\n",
        "print(type(ss))\n",
        "print(len(ss))\n",
        "print(dir(ss))"
      ],
      "execution_count": null,
      "outputs": []
    },
    {
      "cell_type": "markdown",
      "metadata": {
        "id": "b5S53-F7xxpz"
      },
      "source": [
        "### Step 12: 生成物件函數"
      ]
    },
    {
      "cell_type": "code",
      "metadata": {
        "id": "O0KeQcPrxzOz"
      },
      "source": [
        "a =  range(10)\n",
        "print(a)   #列印變數a的內容\n",
        "print(type(a))   #列印變數a的型別\n",
        "print(list(a))   #列印變數a的元素"
      ],
      "execution_count": null,
      "outputs": []
    },
    {
      "cell_type": "code",
      "metadata": {
        "id": "sx6v4JRaz2P8"
      },
      "source": [
        "b = zip([1, 3, 5], [\"cat\", \"dog\", \"elphant\"])\n",
        "print(b)   #列印變數a的內容\n",
        "print(type(b))   #列印變數a的型別\n",
        "print(dict(b))   #列印變數a的元素"
      ],
      "execution_count": null,
      "outputs": []
    },
    {
      "cell_type": "code",
      "metadata": {
        "id": "yJK6onrS0WDQ"
      },
      "source": [
        "c = enumerate([1, 3, 5])\n",
        "print(c)   #列印變數a的內容\n",
        "print(type(c))   #列印變數a的型別\n",
        "print(list(c))   #列印變數a的元素"
      ],
      "execution_count": null,
      "outputs": []
    },
    {
      "cell_type": "markdown",
      "metadata": {
        "id": "vpWw5ja8xzcB"
      },
      "source": [
        "### Step 13: 集合計算函數"
      ]
    },
    {
      "cell_type": "code",
      "metadata": {
        "id": "_dwEHthlx0gf"
      },
      "source": [
        "a=[1, 3, 5]\n",
        "print(max(a))\n",
        "print(min(a))"
      ],
      "execution_count": null,
      "outputs": []
    },
    {
      "cell_type": "code",
      "metadata": {
        "id": "u9ufF_ch1F0X"
      },
      "source": [
        "b = -1.375\n",
        "print(b)\n",
        "print(abs(b))\n",
        "print(round(b,2))"
      ],
      "execution_count": null,
      "outputs": []
    },
    {
      "cell_type": "markdown",
      "metadata": {
        "id": "38-W-w4kx0_N"
      },
      "source": [
        "### Step 14: 函數執行函數"
      ]
    },
    {
      "cell_type": "code",
      "metadata": {
        "id": "T8Vep_Elx2P-"
      },
      "source": [
        "a = \"cat dog elphant\"\n",
        "s = map(len, a.split())\n",
        "print(s)   #列印變數s的內容\n",
        "print(type(s))   #列印變數s的型別\n",
        "print(list(s))"
      ],
      "execution_count": null,
      "outputs": []
    },
    {
      "cell_type": "code",
      "metadata": {
        "id": "RY0ckDyU13MF"
      },
      "source": [
        "exec(\"print('Hello World')\")"
      ],
      "execution_count": null,
      "outputs": []
    },
    {
      "cell_type": "markdown",
      "metadata": {
        "id": "fm1ucSVejBUx"
      },
      "source": [
        "## Topic 4(主題4)-字串函數複習\n",
        "* string.find(substring, start, end)\n",
        "* string.index(substring, start, end)\n",
        "* string.count(substring, start, end)\n",
        "* string.replace(old, new, count)\n",
        "* string.split(separator, maxsplit)\n"
      ]
    },
    {
      "cell_type": "markdown",
      "metadata": {
        "id": "C-dR6avm2dvU"
      },
      "source": [
        "### Step 15: 找子字串"
      ]
    },
    {
      "cell_type": "code",
      "metadata": {
        "id": "JtSOoXTd2ia6"
      },
      "source": [
        "my_string = \"Where's Waldo?\"\n",
        "my_string.find(\"Waldo\")"
      ],
      "execution_count": null,
      "outputs": []
    },
    {
      "cell_type": "code",
      "metadata": {
        "id": "j6lw13Kf27LH"
      },
      "source": [
        "my_string = \"Where's Waldo?\"\n",
        "my_string.index(\"Waldo\")"
      ],
      "execution_count": null,
      "outputs": []
    },
    {
      "cell_type": "code",
      "metadata": {
        "id": "vu1fplVS3Kst"
      },
      "source": [
        "my_string = \"Where's Waldo?\"\n",
        "try:\n",
        "    my_string.index(\"Wenda\")\n",
        "except ValueError:\n",
        "      print(\"Not found\")"
      ],
      "execution_count": null,
      "outputs": []
    },
    {
      "cell_type": "markdown",
      "metadata": {
        "id": "K-rHIAn-2jOW"
      },
      "source": [
        "### Step 16: 算子字串次數"
      ]
    },
    {
      "cell_type": "code",
      "metadata": {
        "id": "hGDtZrX-3W8_"
      },
      "source": [
        "my_string = \"How many fruits do you have in your fruit basket?\"\n",
        "my_string.count(\"fruit\")"
      ],
      "execution_count": null,
      "outputs": []
    },
    {
      "cell_type": "markdown",
      "metadata": {
        "id": "D-vP34B83lzD"
      },
      "source": [
        "### Step 17: 取代子字串"
      ]
    },
    {
      "cell_type": "code",
      "metadata": {
        "id": "ndfdrQqP3vyP"
      },
      "source": [
        "my_string = \"The red house is between the blue house and the old house\"\n",
        "print(my_string.replace(\"house\", \"car\"))"
      ],
      "execution_count": null,
      "outputs": []
    },
    {
      "cell_type": "markdown",
      "metadata": {
        "id": "DtLOrPn5k8vl"
      },
      "source": [
        "## Topic 5(主題5)-Python 標準函式庫\n",
        "\"Batteries included\" 是 Python 的設計哲學。這個理念可以透過使用它的大型套件，感受複雜與強大的功能，來得到印證。\n",
        "\n",
        "https://docs.python.org/zh-tw/3/tutorial/stdlib.html\n",
        "* __os__: 作業系統介面\n",
        "* __glob__: 檔案之萬用字元 (File Wildcards)\n",
        "* __sys__: 命令列引數\n",
        "* __re__: 字串樣式比對\n",
        "* __math__: C 函式庫中底層的浮點數運算\n",
        "* __random__: 提供了隨機選擇的工具\n",
        "* __statistics__: 數值資料計算基本統計量（包括平均、中位數、變異量數等）的功能\n",
        "* __urllib__: 存取網路以及處理網路協定\n",
        "* __smtplib__: 用來寄郵件\n",
        "* __email__: 用來管理 MIME 和其他 RFC 2822 相關電子郵件訊息的文件。\n",
        "* __json__: JSON 資料交換格式的解析。\n",
        "* __csv__: 模組則提供直接讀寫 CSV（以逗號分隔值的檔案格式，通常資料庫和電子表格都有支援）\n",
        "* __xml.*__: 支援 XML 的處理，包括xml.etree.ElementTree、xml.dom 與 xml.sax 等套件。\n",
        "* __sqllite3__: 模組是 SQLite 資料庫函式庫的一層包裝\n",
        "* 支援國際化的模組，包括 gettext、locale 和 codecs 等套件。"
      ]
    },
    {
      "cell_type": "markdown",
      "metadata": {
        "id": "7M2q41BUSMaW"
      },
      "source": [
        "### Step 18: 字串樣式尋找- re-正規表示式 (regular expression)"
      ]
    },
    {
      "cell_type": "code",
      "metadata": {
        "id": "rpBH9-k_bhlv"
      },
      "source": [
        "import re\n",
        "re.findall(r'\\bf[a-z]*', 'which foot or hand fell fastest')\n",
        "#['foot', 'fell', 'fastest']\n"
      ],
      "execution_count": null,
      "outputs": []
    },
    {
      "cell_type": "markdown",
      "metadata": {
        "id": "rm0slybLb7lA"
      },
      "source": [
        "### Step 19: 樣式取代- re-正規表示式 (regular expression)"
      ]
    },
    {
      "cell_type": "code",
      "metadata": {
        "id": "ZvOneobPb8Dn"
      },
      "source": [
        "import re\n",
        "re.sub(r'(\\b[a-z]+) \\1', r'\\1', 'cat in the the hat')\n",
        "#'cat in the hat'"
      ],
      "execution_count": null,
      "outputs": []
    },
    {
      "cell_type": "markdown",
      "metadata": {
        "id": "VLUxu-x-bA0T"
      },
      "source": [
        "### Step 20: 基本統計量（包括平均、中位數、變異量）-statistics"
      ]
    },
    {
      "cell_type": "code",
      "metadata": {
        "id": "Fgn9hn5XbJKq"
      },
      "source": [
        "import statistics as stat\n",
        "data = [2.85, 1.75, 1.55, 0.25, 0.5, 1.35, 2.25, 3.5]\n",
        "avg=stat.mean(data)\n",
        "med=stat.median(data)\n",
        "var=stat.variance(data)\n",
        "print(f\"mean={avg:.2f}\")\n",
        "print(f\"median={med:.2f}\")\n",
        "print(f\"variance={var:.2f}\")"
      ],
      "execution_count": null,
      "outputs": []
    }
  ]
}