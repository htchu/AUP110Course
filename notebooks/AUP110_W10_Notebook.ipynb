{
  "nbformat": 4,
  "nbformat_minor": 0,
  "metadata": {
    "colab": {
      "name": "AUP110_W10_Notebook.ipynb",
      "provenance": [],
      "collapsed_sections": [],
      "toc_visible": true
    },
    "kernelspec": {
      "display_name": "Python 3",
      "language": "python",
      "name": "python3"
    },
    "language_info": {
      "codemirror_mode": {
        "name": "ipython",
        "version": 3
      },
      "file_extension": ".py",
      "mimetype": "text/x-python",
      "name": "python",
      "nbconvert_exporter": "python",
      "pygments_lexer": "ipython3",
      "version": "3.7.6"
    }
  },
  "cells": [
    {
      "cell_type": "markdown",
      "metadata": {
        "id": "9wQnr1QXVlZ2"
      },
      "source": [
        "![image](https://www.python.org/static/img/python-logo.png)\n",
        "# 亞洲大學基礎程式設計教材(AUP110-Fundamentals of Programming)\n",
        "[![Open In Colab](https://colab.research.google.com/assets/colab-badge.svg)](https://colab.research.google.com/github/googlecolab/colabtools/blob/master/notebooks/colab-github-demo.ipynb)"
      ]
    },
    {
      "cell_type": "markdown",
      "metadata": {
        "id": "oECo_NZME-ZS"
      },
      "source": [
        "# Week10-函數\n"
      ]
    },
    {
      "cell_type": "markdown",
      "metadata": {
        "id": "8-yn9nw-FB9y"
      },
      "source": [
        "## Topic 1(主題1)-函數的定義及呼叫 / function definition and call"
      ]
    },
    {
      "cell_type": "markdown",
      "metadata": {
        "id": "R2rmbqJlGdCs"
      },
      "source": [
        "### Step 1: 計算240和96的最大公因數gcd"
      ]
    },
    {
      "cell_type": "code",
      "metadata": {
        "id": "gAbu3N3RE9F6",
        "colab": {
          "base_uri": "https://localhost:8080/"
        },
        "outputId": "9cf28acd-c690-48ec-ede4-8caaed67db03"
      },
      "source": [
        "a=240; b=96\n",
        "r=a%b\n",
        "while r!=0:\n",
        "  a=b;b=r\n",
        "  r=a%b\n",
        "print(f\"gcd={b}\")"
      ],
      "execution_count": null,
      "outputs": [
        {
          "output_type": "stream",
          "name": "stdout",
          "text": [
            "gcd=48\n"
          ]
        }
      ]
    },
    {
      "cell_type": "markdown",
      "metadata": {
        "id": "8i-WxoTWGpbm"
      },
      "source": [
        "### Step 2: 將gcd計算定義成函數 gcd()\n",
        "\n",
        "* parameter參數：函數定義中的型式變數 def gcd(x, y):\n",
        "* argument引數：函數呼叫時的真實變數  gcd(a,b)"
      ]
    },
    {
      "cell_type": "code",
      "metadata": {
        "id": "AaTEHpB6Gu-l"
      },
      "source": [
        "def gcd(x, y):\n",
        "  r=x%y\n",
        "  while r!=0:\n",
        "    x=y;y=r\n",
        "    r=x%y\n",
        "  return y"
      ],
      "execution_count": null,
      "outputs": []
    },
    {
      "cell_type": "code",
      "metadata": {
        "id": "aotFrthRbJGc",
        "colab": {
          "base_uri": "https://localhost:8080/"
        },
        "outputId": "ba78b9c0-0f04-45c0-cc86-71351de2a75f"
      },
      "source": [
        "a=240; b=96\n",
        "print(f\"{a}, {b}, {gcd(a,b)}\")"
      ],
      "execution_count": null,
      "outputs": [
        {
          "output_type": "stream",
          "name": "stdout",
          "text": [
            "240, 96, 48\n"
          ]
        }
      ]
    },
    {
      "cell_type": "markdown",
      "metadata": {
        "id": "7NlEOCrW82us"
      },
      "source": [
        "### Step 3: 階乘計算\n",
        "$ 5 ! = 5 × 4 × 3 × 2 × 1 = 120$"
      ]
    },
    {
      "cell_type": "code",
      "metadata": {
        "colab": {
          "base_uri": "https://localhost:8080/"
        },
        "id": "Wf-u60ds9AgC",
        "outputId": "75c747d2-f68d-4b96-e74d-7c4cd220cc22"
      },
      "source": [
        "n = 5\n",
        "v = 1\n",
        "for i in range(1, n + 1):\n",
        "    v *= i\n",
        "print(v)"
      ],
      "execution_count": null,
      "outputs": [
        {
          "output_type": "stream",
          "name": "stdout",
          "text": [
            "120\n"
          ]
        }
      ]
    },
    {
      "cell_type": "markdown",
      "metadata": {
        "id": "bY8XFAAA9Jjz"
      },
      "source": [
        "### Step 4: 將階乘計算定義成函數 factorial()"
      ]
    },
    {
      "cell_type": "code",
      "metadata": {
        "colab": {
          "base_uri": "https://localhost:8080/"
        },
        "id": "P9d0qIgc9Jwx",
        "outputId": "fecd1a18-6ead-42ce-9b6b-9f8d3e5e43f4"
      },
      "source": [
        "def factorial(n):\n",
        "    v = 1\n",
        "    for i in range(1,n+1):\n",
        "        v *= i\n",
        "    return v\n",
        "\n",
        "print(factorial(5))"
      ],
      "execution_count": null,
      "outputs": [
        {
          "output_type": "stream",
          "name": "stdout",
          "text": [
            "120\n"
          ]
        }
      ]
    },
    {
      "cell_type": "markdown",
      "metadata": {
        "id": "Y6fA-gcCduPm"
      },
      "source": [
        "## Topic 2(主題2)-函數的參數及傳回值 / function parameter and return value"
      ]
    },
    {
      "cell_type": "markdown",
      "metadata": {
        "id": "2BKX_YRQGv-S"
      },
      "source": [
        "### Step 5: 函數的預設參數"
      ]
    },
    {
      "cell_type": "code",
      "metadata": {
        "id": "9VwVLOwSGzvA",
        "colab": {
          "base_uri": "https://localhost:8080/"
        },
        "outputId": "bc801723-78bd-4ade-affa-3e9bd667dd9a"
      },
      "source": [
        "def greet(name=\"Sir\",msg=\"Good day\"):\n",
        "   print(\"Hello\",name + ', ' + msg)\n",
        "\n",
        "greet(\"John\",\"Good morning!\")\n",
        "greet(\"Mary\")\n",
        "greet()\n"
      ],
      "execution_count": null,
      "outputs": [
        {
          "output_type": "stream",
          "name": "stdout",
          "text": [
            "Hello John, Good morning!\n",
            "Hello Mary, Good day\n",
            "Hello Sir, Good day\n"
          ]
        }
      ]
    },
    {
      "cell_type": "markdown",
      "metadata": {
        "id": "5C64PXAJeQ8q"
      },
      "source": [
        "### Step 6: 函數的關鍵字引數"
      ]
    },
    {
      "cell_type": "code",
      "metadata": {
        "colab": {
          "base_uri": "https://localhost:8080/"
        },
        "id": "ajcS7Oj1eWDK",
        "outputId": "74612bca-f334-465c-a133-9cbaefbaaff7"
      },
      "source": [
        "greet(msg=\"Good morning!\", name=\"John\")\n",
        "greet(msg=\"Good day!\")"
      ],
      "execution_count": null,
      "outputs": [
        {
          "output_type": "stream",
          "name": "stdout",
          "text": [
            "Hello John, Good morning!\n",
            "Hello Sir, Good day!\n"
          ]
        }
      ]
    },
    {
      "cell_type": "markdown",
      "metadata": {
        "id": "-Nnh7TJCNWqp"
      },
      "source": [
        "### Step 7: 函數的傳回值 return"
      ]
    },
    {
      "cell_type": "code",
      "metadata": {
        "id": "56eURVOcNmIT",
        "colab": {
          "base_uri": "https://localhost:8080/"
        },
        "outputId": "b37602cd-71d9-4831-c820-ab455937c839"
      },
      "source": [
        "#------------------------------------\n",
        "# 從1加到100\n",
        "#------------------------------------\n",
        "def add100():\n",
        "    i = 1\n",
        "    sum = 0\n",
        "    while i <= 100:\n",
        "        sum += i\n",
        "        i += 1\n",
        "    return sum\n",
        "\n",
        "a = add100() \n",
        "print(a)\n",
        "print(type(a))\n",
        "\n"
      ],
      "execution_count": null,
      "outputs": [
        {
          "output_type": "stream",
          "name": "stdout",
          "text": [
            "5050\n",
            "<class 'int'>\n"
          ]
        }
      ]
    },
    {
      "cell_type": "markdown",
      "metadata": {
        "id": "D_IKixtfcExR"
      },
      "source": [
        "### Step 8: 函數的多重傳回值 return\n",
        "```\n",
        "#------------------------------------\n",
        "# 將公分轉為呎, 吋\n",
        "# 輸入:公分\n",
        "# 回傳:呎, 吋\n",
        "# 1英吋為2.54公分,1英呎為30.48公分\n",
        "# 1英呎=12英吋\n",
        "#------------------------------------\n",
        "```"
      ]
    },
    {
      "cell_type": "code",
      "metadata": {
        "id": "9dlx4oU0cCay"
      },
      "source": [
        "def cm_2_feet_and_inch(cm):\n",
        "    inch = cm/2.54\n",
        "    feet = inch //12\n",
        "    inch = inch %12\n",
        "    return feet, inch\n"
      ],
      "execution_count": null,
      "outputs": []
    },
    {
      "cell_type": "code",
      "metadata": {
        "id": "O6vE9Zd4cNfY"
      },
      "source": [
        "num = input()\n",
        "cm = float(num) #centimeters\n",
        "i, f = cm_2_feet_and_inch(cm)\n",
        "print(f\"{cm:.2f} cm= {i:.0f} feets {f:.2f} inches\")"
      ],
      "execution_count": null,
      "outputs": []
    },
    {
      "cell_type": "markdown",
      "metadata": {
        "id": "FP0Ifx-jOhZm"
      },
      "source": [
        "## Topic 3(主題3)-內建函數複習\n",
        "\n",
        "* 型別轉換函數: int(), float(), str()\n",
        "* 建構容器函數: list(), set(), tuple(), dict(), \n",
        "* 物件屬性函數: len(), type(), dir()\n",
        "* 生成物件函數: range(), zip(), enumerate()\n",
        "* 集合計算函數: max()/min()/abs()/round()函數\n",
        "* 函數執行函數: map()/exec()\n",
        "\n"
      ]
    },
    {
      "cell_type": "markdown",
      "metadata": {
        "id": "4NAmC0LpxnI0"
      },
      "source": [
        "### Step 9: 型別轉換函數"
      ]
    },
    {
      "cell_type": "code",
      "metadata": {
        "colab": {
          "base_uri": "https://localhost:8080/"
        },
        "id": "OLX7GTnixrJw",
        "outputId": "e9e4a8fb-36f9-499b-d50f-cd3cfcbedb04"
      },
      "source": [
        "a = \"15\"\n",
        "print(type(a))   #列印變數a的型別\n",
        "b = int(a)\n",
        "print(type(b))   #列印變數b的型別\n",
        "c = float(a)\n",
        "print(type(c))   #列印變數c的型別"
      ],
      "execution_count": 2,
      "outputs": [
        {
          "output_type": "stream",
          "name": "stdout",
          "text": [
            "<class 'str'>\n",
            "<class 'int'>\n",
            "<class 'float'>\n"
          ]
        }
      ]
    },
    {
      "cell_type": "markdown",
      "metadata": {
        "id": "lsBzbTrSxrUA"
      },
      "source": [
        "### Step 10: 建構容器函數"
      ]
    },
    {
      "cell_type": "code",
      "metadata": {
        "colab": {
          "base_uri": "https://localhost:8080/"
        },
        "id": "iyUE_6fQxvwB",
        "outputId": "ea141e2c-bc71-494c-9e60-024e172b9848"
      },
      "source": [
        "a =  list()\n",
        "print(type(a))   #列印變數a的型別\n",
        "b = tuple()\n",
        "print(type(b))   #列印變數b的型別\n",
        "c = dict()\n",
        "print(type(c))   #列印變數c的型別"
      ],
      "execution_count": 3,
      "outputs": [
        {
          "output_type": "stream",
          "name": "stdout",
          "text": [
            "<class 'list'>\n",
            "<class 'tuple'>\n",
            "<class 'dict'>\n"
          ]
        }
      ]
    },
    {
      "cell_type": "markdown",
      "metadata": {
        "id": "gQQtZnZKxwFX"
      },
      "source": [
        "### Step 11: 物件屬性函數"
      ]
    },
    {
      "cell_type": "code",
      "metadata": {
        "colab": {
          "base_uri": "https://localhost:8080/"
        },
        "id": "8FDk8QZPxxN_",
        "outputId": "0440c5e4-5a68-43b3-a9a4-38beeb24280e"
      },
      "source": [
        "ss = [1 , 3, 5, 7]\n",
        "print(type(ss))\n",
        "print(len(ss))\n",
        "print(dir(ss))"
      ],
      "execution_count": 5,
      "outputs": [
        {
          "output_type": "stream",
          "name": "stdout",
          "text": [
            "<class 'list'>\n",
            "4\n",
            "['__add__', '__class__', '__contains__', '__delattr__', '__delitem__', '__dir__', '__doc__', '__eq__', '__format__', '__ge__', '__getattribute__', '__getitem__', '__gt__', '__hash__', '__iadd__', '__imul__', '__init__', '__init_subclass__', '__iter__', '__le__', '__len__', '__lt__', '__mul__', '__ne__', '__new__', '__reduce__', '__reduce_ex__', '__repr__', '__reversed__', '__rmul__', '__setattr__', '__setitem__', '__sizeof__', '__str__', '__subclasshook__', 'append', 'clear', 'copy', 'count', 'extend', 'index', 'insert', 'pop', 'remove', 'reverse', 'sort']\n"
          ]
        }
      ]
    },
    {
      "cell_type": "code",
      "metadata": {
        "colab": {
          "base_uri": "https://localhost:8080/"
        },
        "id": "ydwFIDV7zUM4",
        "outputId": "bfbbc093-211a-4999-8aed-aed43bea9449"
      },
      "source": [
        "ss = \"This is a pen\"\n",
        "print(type(ss))\n",
        "print(len(ss))\n",
        "print(dir(ss))"
      ],
      "execution_count": 6,
      "outputs": [
        {
          "output_type": "stream",
          "name": "stdout",
          "text": [
            "<class 'str'>\n",
            "13\n",
            "['__add__', '__class__', '__contains__', '__delattr__', '__dir__', '__doc__', '__eq__', '__format__', '__ge__', '__getattribute__', '__getitem__', '__getnewargs__', '__gt__', '__hash__', '__init__', '__init_subclass__', '__iter__', '__le__', '__len__', '__lt__', '__mod__', '__mul__', '__ne__', '__new__', '__reduce__', '__reduce_ex__', '__repr__', '__rmod__', '__rmul__', '__setattr__', '__sizeof__', '__str__', '__subclasshook__', 'capitalize', 'casefold', 'center', 'count', 'encode', 'endswith', 'expandtabs', 'find', 'format', 'format_map', 'index', 'isalnum', 'isalpha', 'isascii', 'isdecimal', 'isdigit', 'isidentifier', 'islower', 'isnumeric', 'isprintable', 'isspace', 'istitle', 'isupper', 'join', 'ljust', 'lower', 'lstrip', 'maketrans', 'partition', 'replace', 'rfind', 'rindex', 'rjust', 'rpartition', 'rsplit', 'rstrip', 'split', 'splitlines', 'startswith', 'strip', 'swapcase', 'title', 'translate', 'upper', 'zfill']\n"
          ]
        }
      ]
    },
    {
      "cell_type": "markdown",
      "metadata": {
        "id": "b5S53-F7xxpz"
      },
      "source": [
        "### Step 12: 生成物件函數"
      ]
    },
    {
      "cell_type": "code",
      "metadata": {
        "colab": {
          "base_uri": "https://localhost:8080/"
        },
        "id": "O0KeQcPrxzOz",
        "outputId": "1d057cd6-eaa6-484c-8fff-8d74e9fce959"
      },
      "source": [
        "a =  range(10)\n",
        "print(a)   #列印變數a的內容\n",
        "print(type(a))   #列印變數a的型別\n",
        "print(list(a))   #列印變數a的元素"
      ],
      "execution_count": 7,
      "outputs": [
        {
          "output_type": "stream",
          "name": "stdout",
          "text": [
            "range(0, 10)\n",
            "<class 'range'>\n",
            "[0, 1, 2, 3, 4, 5, 6, 7, 8, 9]\n"
          ]
        }
      ]
    },
    {
      "cell_type": "code",
      "metadata": {
        "colab": {
          "base_uri": "https://localhost:8080/"
        },
        "id": "sx6v4JRaz2P8",
        "outputId": "0e1970f5-10d8-4411-bab1-864163d7de98"
      },
      "source": [
        "b = zip([1, 3, 5], [\"cat\", \"dog\", \"elphant\"])\n",
        "print(b)   #列印變數a的內容\n",
        "print(type(b))   #列印變數a的型別\n",
        "print(dict(b))   #列印變數a的元素"
      ],
      "execution_count": 8,
      "outputs": [
        {
          "output_type": "stream",
          "name": "stdout",
          "text": [
            "<zip object at 0x7f7cf15b49b0>\n",
            "<class 'zip'>\n",
            "{1: 'cat', 3: 'dog', 5: 'elphant'}\n"
          ]
        }
      ]
    },
    {
      "cell_type": "code",
      "metadata": {
        "colab": {
          "base_uri": "https://localhost:8080/"
        },
        "id": "yJK6onrS0WDQ",
        "outputId": "969da6a4-1074-4d44-a341-eb1092c5f7c5"
      },
      "source": [
        "c = enumerate([1, 3, 5])\n",
        "print(c)   #列印變數a的內容\n",
        "print(type(c))   #列印變數a的型別\n",
        "print(list(c))   #列印變數a的元素"
      ],
      "execution_count": 10,
      "outputs": [
        {
          "output_type": "stream",
          "name": "stdout",
          "text": [
            "<enumerate object at 0x7f7cf15c77d0>\n",
            "<class 'enumerate'>\n",
            "[(0, 1), (1, 3), (2, 5)]\n"
          ]
        }
      ]
    },
    {
      "cell_type": "markdown",
      "metadata": {
        "id": "vpWw5ja8xzcB"
      },
      "source": [
        "### Step 13: 集合計算函數"
      ]
    },
    {
      "cell_type": "code",
      "metadata": {
        "colab": {
          "base_uri": "https://localhost:8080/"
        },
        "id": "_dwEHthlx0gf",
        "outputId": "0197424c-221c-44d9-fd12-f0544c32be48"
      },
      "source": [
        "a=[1, 3, 5]\n",
        "print(max(a))\n",
        "print(min(a))"
      ],
      "execution_count": 11,
      "outputs": [
        {
          "output_type": "stream",
          "name": "stdout",
          "text": [
            "5\n",
            "1\n"
          ]
        }
      ]
    },
    {
      "cell_type": "code",
      "metadata": {
        "colab": {
          "base_uri": "https://localhost:8080/"
        },
        "id": "u9ufF_ch1F0X",
        "outputId": "c896c5f9-9a6b-4431-d065-be7322e2290f"
      },
      "source": [
        "b = -1.375\n",
        "print(b)\n",
        "print(abs(b))\n",
        "print(round(b,2))"
      ],
      "execution_count": 13,
      "outputs": [
        {
          "output_type": "stream",
          "name": "stdout",
          "text": [
            "-1.375\n",
            "1.375\n",
            "-1.38\n"
          ]
        }
      ]
    },
    {
      "cell_type": "markdown",
      "metadata": {
        "id": "38-W-w4kx0_N"
      },
      "source": [
        "### Step 14: 函數執行函數"
      ]
    },
    {
      "cell_type": "code",
      "metadata": {
        "colab": {
          "base_uri": "https://localhost:8080/"
        },
        "id": "T8Vep_Elx2P-",
        "outputId": "bace02d4-e2f2-435e-9c52-33cceb0240a2"
      },
      "source": [
        "a = \"cat dog elphant\"\n",
        "s = map(len, a.split())\n",
        "print(s)   #列印變數s的內容\n",
        "print(type(s))   #列印變數s的型別\n",
        "print(list(s))"
      ],
      "execution_count": 16,
      "outputs": [
        {
          "output_type": "stream",
          "name": "stdout",
          "text": [
            "<map object at 0x7f7cf1700e10>\n",
            "<class 'map'>\n",
            "[3, 3, 7]\n"
          ]
        }
      ]
    },
    {
      "cell_type": "code",
      "metadata": {
        "colab": {
          "base_uri": "https://localhost:8080/"
        },
        "id": "RY0ckDyU13MF",
        "outputId": "48f762e2-f5f4-4125-8de0-7790134ef43b"
      },
      "source": [
        "exec(\"print('Hello World')\")"
      ],
      "execution_count": 17,
      "outputs": [
        {
          "output_type": "stream",
          "name": "stdout",
          "text": [
            "Hello World\n"
          ]
        }
      ]
    },
    {
      "cell_type": "markdown",
      "metadata": {
        "id": "fm1ucSVejBUx"
      },
      "source": [
        "## Topic 4(主題4)-字串函數複習\n",
        "* string.find(substring, start, end)\n",
        "* string.index(substring, start, end)\n",
        "* string.count(substring, start, end)\n",
        "* string.replace(old, new, count)\n",
        "* string.split(separator, maxsplit)\n"
      ]
    },
    {
      "cell_type": "markdown",
      "metadata": {
        "id": "C-dR6avm2dvU"
      },
      "source": [
        "### Step 15: 找子字串"
      ]
    },
    {
      "cell_type": "code",
      "metadata": {
        "colab": {
          "base_uri": "https://localhost:8080/"
        },
        "id": "JtSOoXTd2ia6",
        "outputId": "85c86741-ff3f-4d53-be71-266364d62fd1"
      },
      "source": [
        "my_string = \"Where's Waldo?\"\n",
        "my_string.find(\"Waldo\")"
      ],
      "execution_count": 18,
      "outputs": [
        {
          "output_type": "execute_result",
          "data": {
            "text/plain": [
              "8"
            ]
          },
          "metadata": {},
          "execution_count": 18
        }
      ]
    },
    {
      "cell_type": "code",
      "metadata": {
        "id": "j6lw13Kf27LH"
      },
      "source": [
        "my_string = \"Where's Waldo?\"\n",
        "my_string.index(\"Waldo\")"
      ],
      "execution_count": null,
      "outputs": []
    },
    {
      "cell_type": "code",
      "metadata": {
        "colab": {
          "base_uri": "https://localhost:8080/"
        },
        "id": "vu1fplVS3Kst",
        "outputId": "1a15dd9b-14af-4fe0-c948-c01894ce6a3b"
      },
      "source": [
        "my_string = \"Where's Waldo?\"\n",
        "try:\n",
        "    my_string.index(\"Wenda\")\n",
        "except ValueError:\n",
        "      print(\"Not found\")"
      ],
      "execution_count": 19,
      "outputs": [
        {
          "output_type": "stream",
          "name": "stdout",
          "text": [
            "Not found\n"
          ]
        }
      ]
    },
    {
      "cell_type": "markdown",
      "metadata": {
        "id": "K-rHIAn-2jOW"
      },
      "source": [
        "### Step 16: 算子字串次數"
      ]
    },
    {
      "cell_type": "code",
      "metadata": {
        "id": "hGDtZrX-3W8_"
      },
      "source": [
        "my_string = \"How many fruits do you have in your fruit basket?\"\n",
        "my_string.count(\"fruit\")"
      ],
      "execution_count": null,
      "outputs": []
    },
    {
      "cell_type": "markdown",
      "metadata": {
        "id": "D-vP34B83lzD"
      },
      "source": [
        "### Step 17: 取代子字串"
      ]
    },
    {
      "cell_type": "code",
      "metadata": {
        "colab": {
          "base_uri": "https://localhost:8080/"
        },
        "id": "ndfdrQqP3vyP",
        "outputId": "ace04082-51fc-46b9-832c-03804ff4cb04"
      },
      "source": [
        "my_string = \"The red house is between the blue house and the old house\"\n",
        "print(my_string.replace(\"house\", \"car\"))"
      ],
      "execution_count": 20,
      "outputs": [
        {
          "output_type": "stream",
          "name": "stdout",
          "text": [
            "The red car is between the blue car and the old car\n"
          ]
        }
      ]
    },
    {
      "cell_type": "markdown",
      "metadata": {
        "id": "DtLOrPn5k8vl"
      },
      "source": [
        "## Topic 5(主題5)-re-正規表示式 (regular expression)"
      ]
    },
    {
      "cell_type": "markdown",
      "metadata": {
        "id": "7M2q41BUSMaW"
      },
      "source": [
        "### Step 18: 樣式尋找"
      ]
    },
    {
      "cell_type": "code",
      "metadata": {
        "colab": {
          "base_uri": "https://localhost:8080/"
        },
        "id": "rpBH9-k_bhlv",
        "outputId": "5c0eb253-3bd6-43fc-dbc0-1c4c977bab9d"
      },
      "source": [
        "import re\n",
        "re.findall(r'\\bf[a-z]*', 'which foot or hand fell fastest')\n",
        "#['foot', 'fell', 'fastest']\n"
      ],
      "execution_count": 21,
      "outputs": [
        {
          "output_type": "execute_result",
          "data": {
            "text/plain": [
              "['foot', 'fell', 'fastest']"
            ]
          },
          "metadata": {},
          "execution_count": 21
        }
      ]
    },
    {
      "cell_type": "markdown",
      "metadata": {
        "id": "rm0slybLb7lA"
      },
      "source": [
        "### Step 19: 樣式取代"
      ]
    },
    {
      "cell_type": "code",
      "metadata": {
        "colab": {
          "base_uri": "https://localhost:8080/",
          "height": 35
        },
        "id": "ZvOneobPb8Dn",
        "outputId": "9763537b-09c4-4b76-8e66-e5ce1da1fd31"
      },
      "source": [
        "import re\n",
        "re.sub(r'(\\b[a-z]+) \\1', r'\\1', 'cat in the the hat')\n",
        "#'cat in the hat'"
      ],
      "execution_count": null,
      "outputs": [
        {
          "output_type": "execute_result",
          "data": {
            "application/vnd.google.colaboratory.intrinsic+json": {
              "type": "string"
            },
            "text/plain": [
              "'cat in the hat'"
            ]
          },
          "metadata": {},
          "execution_count": 3
        }
      ]
    }
  ]
}