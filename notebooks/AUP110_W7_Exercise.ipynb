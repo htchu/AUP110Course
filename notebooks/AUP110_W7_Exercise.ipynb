{
 "cells": [
  {
   "cell_type": "markdown",
   "metadata": {
    "id": "EUjJ7ImLnPVr"
   },
   "source": [
    "# AU Fundamentals of Python Programming\n",
    "\n"
   ]
  },
  {
   "cell_type": "markdown",
   "metadata": {
    "id": "kLe1GoiTtrgI"
   },
   "source": [
    "## Ex4-1(練習4-1):M1-Q20 找零錢問題\n",
    "假設銅板有1元、5元、50元共三種，媽媽請小明去菜市場買水果，給了小明 n 元，且媽媽交待，要老闆找小明的零錢的數目要最少，而小明到了水果攤買了 a_1顆蘋果，a_2顆柳丁，及 a_3 顆桃子，1顆蘋果15元，1顆柳丁20元，1顆桃子30元，請問老問需找多少個1元、5元、50元，其銅板數目最少。\n"
   ]
  },
  {
   "cell_type": "markdown",
   "metadata": {
    "id": "cHiXWmApnZ_W"
   },
   "source": [
    "### Step 1: 先輸入媽媽給小明多少錢 n"
   ]
  },
  {
   "cell_type": "code",
   "execution_count": null,
   "metadata": {
    "id": "8JL0O3Dw0hVK"
   },
   "outputs": [],
   "source": [
    "n=int(input())"
   ]
  },
  {
   "cell_type": "markdown",
   "metadata": {
    "id": "XBxsl5E23SuC"
   },
   "source": [
    "### Step 2: 輸入 a_1顆蘋果，a_2顆柳丁，及 a_3 顆桃子"
   ]
  },
  {
   "cell_type": "code",
   "execution_count": null,
   "metadata": {
    "id": "PBlTlafx3Poe"
   },
   "outputs": [],
   "source": []
  },
  {
   "cell_type": "markdown",
   "metadata": {
    "id": "qcqXjo083bW5"
   },
   "source": [
    "### Step 3: 計算金額及剩下的錢\n",
    "\n"
   ]
  },
  {
   "cell_type": "code",
   "execution_count": null,
   "metadata": {
    "id": "bfpk0qUcM3lA"
   },
   "outputs": [],
   "source": []
  },
  {
   "cell_type": "markdown",
   "metadata": {
    "id": "bgchR6LPMiap"
   },
   "source": [
    "### Step 4: 計算銅板數目"
   ]
  },
  {
   "cell_type": "code",
   "execution_count": null,
   "metadata": {
    "id": "eF-jycTxnY9-"
   },
   "outputs": [],
   "source": []
  },
  {
   "cell_type": "markdown",
   "metadata": {
    "id": "kclzQu9N31o5"
   },
   "source": [
    "## Ex4-2(練習4-2):M1-Q32 數字價格轉文字價格\n",
    "輸入一 1~1000 的價格，並跟據此價格在螢幕上印出「? thousand ? hundred? ten? dollar字樣。\n",
    "\n",
    "Enter a price ranging from 1 to 1000, and print \"? One thousand? Hundred? Ten? Dollar?\" based on the price."
   ]
  },
  {
   "cell_type": "markdown",
   "metadata": {
    "id": "ZTf06rZe4sdl"
   },
   "source": [
    "### Step 5: 輸入一 1~1000 的價格"
   ]
  },
  {
   "cell_type": "code",
   "execution_count": null,
   "metadata": {
    "id": "7AzrK1j_npYa"
   },
   "outputs": [],
   "source": []
  },
  {
   "cell_type": "markdown",
   "metadata": {
    "id": "bYlm5Mld5Pcu"
   },
   "source": [
    "### Step 6: 計算百位、十位及個位數"
   ]
  },
  {
   "cell_type": "code",
   "execution_count": null,
   "metadata": {
    "id": "7w4uuKYj5T2C"
   },
   "outputs": [],
   "source": []
  },
  {
   "cell_type": "markdown",
   "metadata": {
    "id": "Hl4NR03P5Xb6"
   },
   "source": [
    "### Step 7: 列印結果"
   ]
  },
  {
   "cell_type": "code",
   "execution_count": null,
   "metadata": {
    "id": "EbZnPm_GnzgW"
   },
   "outputs": [],
   "source": []
  }
 ],
 "metadata": {
  "colab": {
   "collapsed_sections": [],
   "name": "AUPython-Ex4-Finish.ipynb",
   "provenance": [
    {
     "file_id": "1sAje5w3AiRcZi8bXG2oHHVDTZ8gozS_F",
     "timestamp": 1602614527106
    },
    {
     "file_id": "1dJWzqhpN3ZTJ1iIHVnJ685UkWkFRA2cx",
     "timestamp": 1602006834039
    },
    {
     "file_id": "1a__-B_dtsembRipucBL2wkIIe4a6aMRl",
     "timestamp": 1601399481763
    }
   ]
  },
  "kernelspec": {
   "display_name": "Python 3",
   "language": "python",
   "name": "python3"
  },
  "language_info": {
   "codemirror_mode": {
    "name": "ipython",
    "version": 3
   },
   "file_extension": ".py",
   "mimetype": "text/x-python",
   "name": "python",
   "nbconvert_exporter": "python",
   "pygments_lexer": "ipython3",
   "version": "3.7.6"
  }
 },
 "nbformat": 4,
 "nbformat_minor": 4
}
