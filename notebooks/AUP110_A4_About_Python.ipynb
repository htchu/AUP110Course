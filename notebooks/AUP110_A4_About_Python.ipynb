{
  "nbformat": 4,
  "nbformat_minor": 0,
  "metadata": {
    "colab": {
      "name": "AUP110_W0About_Python.ipynb",
      "provenance": []
    },
    "kernelspec": {
      "name": "python3",
      "display_name": "Python 3"
    },
    "language_info": {
      "name": "python"
    }
  },
  "cells": [
    {
      "cell_type": "markdown",
      "metadata": {
        "id": "UWGQ8T66muP5"
      },
      "source": [
        "# About_Python 關於Python程式設計\n",
        "![image](https://www.python.org/static/img/python-logo.png)\n"
      ]
    },
    {
      "cell_type": "markdown",
      "metadata": {
        "id": "rS0QDiYamues"
      },
      "source": [
        "## Python官方文件\n",
        "https://docs.python.org/zh-tw/3/contents.html\n"
      ]
    },
    {
      "cell_type": "markdown",
      "metadata": {
        "id": "WsGRhyDjW-Jn"
      },
      "source": [
        "## Python 官方教學\n",
        "\n",
        "https://docs.python.org/zh-tw/3/tutorial/index.html\n",
        "\n",
        "2. Python直譯器\n",
        "3. Python變數和計算\n",
        "4. Python流程控制\n",
        "5. Python資料結構\n",
        "6. Python模組\n",
        "7. Python輸入和輸出\n",
        "8. Python錯誤和例外\n",
        "9. Python類別\n",
        "10. Python標準函式庫"
      ]
    },
    {
      "cell_type": "markdown",
      "metadata": {
        "id": "X03IaNddmuiL"
      },
      "source": [
        "## Python的版本\n",
        "\n",
        "**Sunsetting Python 2**: Python軟體基金會在2020年的1月1日，正式終止對Python 2.7程式語言的支援，呼籲用戶應儘快遷移到Python 3.0。 Python基金會是在2000年發表Python 2.0，在2006年釋出Python 3.0。\n",
        "\n",
        "### Python 3.3 新功能：虛擬環境 (Virtual environment)\n",
        "### Python 3.6 新功能：f字串 (f-strings)"
      ]
    },
    {
      "cell_type": "code",
      "metadata": {
        "id": "Wv9n7JJPNUy9"
      },
      "source": [
        "!python –V ​"
      ],
      "execution_count": null,
      "outputs": []
    },
    {
      "cell_type": "code",
      "metadata": {
        "colab": {
          "base_uri": "https://localhost:8080/"
        },
        "id": "EoKSmPp2NXLZ",
        "outputId": "ba206ab0-f408-4c97-b8de-5aca68e4276a"
      },
      "source": [
        "!python --version "
      ],
      "execution_count": null,
      "outputs": [
        {
          "output_type": "stream",
          "name": "stdout",
          "text": [
            "Python 3.7.11\n"
          ]
        }
      ]
    },
    {
      "cell_type": "markdown",
      "metadata": {
        "id": "GayA6aSxmulE"
      },
      "source": [
        "## PEP-Python Enhancement Proposals\n",
        "https://www.python.org/dev/peps/\n",
        "\n",
        "* PEP 405: 虚拟环境 https://www.python.org/dev/peps/pep-0405/\n",
        "* PEP 498: 格式化字符串字面值 (Formatted string literals) https://www.python.org/dev/peps/pep-0498/\n",
        "* PEP 526: Syntax for variable annotations https://www.python.org/dev/peps/pep-0526/"
      ]
    },
    {
      "cell_type": "code",
      "metadata": {
        "id": "7FGAQDMdP7pX"
      },
      "source": [
        "# PEP 526: Syntax for variable annotations\n",
        "primes: List[int] = []\n",
        "captain: str  # Note: no initial value!\n",
        "class Starship:\n",
        "    stats: Dict[str, int] = {}"
      ],
      "execution_count": null,
      "outputs": []
    },
    {
      "cell_type": "markdown",
      "metadata": {
        "id": "H3aKjEDsmunf"
      },
      "source": [
        "##PIP\n",
        "pip是一個以Python電腦程式語言寫成的軟件包管理系統，他可以安裝和管理軟件包，另外不少的軟件包也可以在「Python軟件包索引」（英語：Python Package Index，PyPI）中找到。 許多Python的發行版中已經預裝了pip。"
      ]
    },
    {
      "cell_type": "code",
      "metadata": {
        "id": "qQaeRDnBSlnJ"
      },
      "source": [
        "!pip install --upgrade pip\n",
        "!pip install tf_slim\n",
        "!pip install lvis\n",
        "!pip install tensorflow-addons"
      ],
      "execution_count": null,
      "outputs": []
    },
    {
      "cell_type": "code",
      "metadata": {
        "id": "-jAm_QvhTG4-"
      },
      "source": [
        "%%bash\n",
        "pip install --upgrade pip\n",
        "pip install tf_slim\n",
        "pip install lvis\n",
        "pip install tensorflow-addons"
      ],
      "execution_count": null,
      "outputs": []
    },
    {
      "cell_type": "markdown",
      "metadata": {
        "id": "E2hnMIHKmuqO"
      },
      "source": [
        "## Anaconda\n",
        "Anaconda是一個免費開源的Python和R語言的發行版本，用於計算科學，Anaconda致力於簡化軟體套件管理系統和部署。Anaconda的包使用軟體套件管理系統Conda進行管理。\n",
        "https://www.anaconda.com/\n",
        "\n",
        "![image](https://www.anaconda.com/imager/assetsdo/Products/8031/open-source-logos2x_680db6b6f11f9cc710dd7defae241cd3.png)\n"
      ]
    },
    {
      "cell_type": "markdown",
      "metadata": {
        "id": "iL7f-Ugsmus4"
      },
      "source": [
        "## Jupyter notebook\n",
        "![image](https://jupyter.org/assets/main-logo.svg)\n",
        "\n",
        "Jupyter是一個非營利組織，旨在「為數十種程式語言的互動式計算開發開源軟體，開放標準和服務」。Jupyter支援幾十種語言的執行環境。\n",
        "\n",
        "Jupyter Project的名稱是對Jupyter支援的三種核心程式語言的引用，這三種語言是Julia、Python和R，也是對伽利略記錄發現木星的衛星的筆記本的致敬。Jupyter專案開發並支援互動式計算產品Jupyter Notebook、JupyterHub和JupyterLab，這是Jupyter Notebook的下一代版本。"
      ]
    },
    {
      "cell_type": "markdown",
      "metadata": {
        "id": "PuAIgdRXmuv4"
      },
      "source": [
        "## Colab\n",
        "Google Colab是一個基於Jupyter Notebook 的免費CPU虛擬機，透過瀏覽器即可編寫程式\n",
        "\n",
        "https://colab.research.google.com/"
      ]
    },
    {
      "cell_type": "markdown",
      "metadata": {
        "id": "WEJMC6iaOs5J"
      },
      "source": [
        "## Python IDLE — (Integrated Development and Learning Environment)\n",
        "IDLE是Python的集成開發環境，與該語言的默認實現捆綁在一起。它與許多Linux發行版一起打包為Python打包的可選部分。它完全用Python和Tkinter GUI工具箱編寫。IDLE旨在成為一個簡單的IDE，適合初學者，尤其是在教育環境中。為此，它是跨平台的，並且避免了功能混亂。\n",
        "\n",
        "![image](https://i1.wp.com/www.bhutanpythoncoders.com/wp-content/uploads/2020/08/interactive-shell.jpg?resize=443%2C431&ssl=1)"
      ]
    },
    {
      "cell_type": "markdown",
      "metadata": {
        "id": "sZdZ205qV1DH"
      },
      "source": [
        "## Spyder IDE\n",
        "Spyder是一個使用Python語言的開放原始碼跨平台科學運算整合開發環境。Spyder整合了NumPy，SciPy，Matplotlib與IPython，以及其他開源軟體。 \n",
        "![image](\n",
        "https://encrypted-tbn0.gstatic.com/images?q=tbn:ANd9GcTTbO8HsMM0lfDM89pul-mq1y7XxjIUfJsEX06k8Zuc96cipRHs4-_u7bIGpIk3DHgCB_k&usqp=CAU)"
      ]
    },
    {
      "cell_type": "markdown",
      "metadata": {
        "id": "947cLzgcWZr4"
      },
      "source": [
        "## PyCharm-The Python IDE for Professional Developers\n",
        "\n",
        "PyCharm是一個用於電腦編程的整合式開發環境，主要用於Python語言開發，由捷克公司JetBrains開發，提供代碼分析、圖形化除錯器，整合測試器、整合版本控制系統，並支援使用Django進行網頁開發。 PyCharm是一個跨平台開發環境，擁有Microsoft Windows、macOS和Linux版本。\n",
        "https://www.jetbrains.com/pycharm/"
      ]
    }
  ]
}