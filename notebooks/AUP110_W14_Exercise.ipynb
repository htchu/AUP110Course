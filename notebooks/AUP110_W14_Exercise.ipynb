{
 "cells": [
  {
   "cell_type": "markdown",
   "metadata": {
    "id": "r6axTGJGxoR-"
   },
   "source": [
    "# AU Fundamentals of Python Programming-Ex14\r\n",
    "* 主題1-M1 Q01-Q03\r\n",
    "* 主題2-M2 Q01-Q03\r\n",
    "* 主題3-M3 Q01-Q05\r\n"
   ]
  },
  {
   "cell_type": "markdown",
   "metadata": {
    "id": "NqAwdXskxzPY"
   },
   "source": [
    "##(Input)輸入參數"
   ]
  },
  {
   "cell_type": "code",
   "execution_count": null,
   "metadata": {
    "id": "6j33Na4dyFJm"
   },
   "outputs": [],
   "source": [
    "instr = input() #輸入是一個字串，例如： 7\r\n",
    "a = int(instr) #用int()轉成整數變數a\r\n",
    "print(a)"
   ]
  },
  {
   "cell_type": "code",
   "execution_count": null,
   "metadata": {
    "id": "ecdcfhq8yQEP"
   },
   "outputs": [],
   "source": [
    "a = int(input())\r\n",
    "print(a)"
   ]
  },
  {
   "cell_type": "code",
   "execution_count": null,
   "metadata": {
    "id": "giuPuHTcyco_"
   },
   "outputs": [],
   "source": [
    "b = float(input())\r\n",
    "print(b)"
   ]
  },
  {
   "cell_type": "code",
   "execution_count": null,
   "metadata": {
    "id": "1AC4ja8dxnn9"
   },
   "outputs": [],
   "source": [
    "instr = input() #輸入是一個字串，例如： 7 9 8\r\n",
    "paras = instr.split() #將輸入字串用split()切開\r\n",
    "a = int(paras[0]) #用int()轉成整數變數a\r\n",
    "b = int(paras[1]) #用int()轉成整數變數b\r\n",
    "c = int(paras[2]) #用int()轉成整數變數c\r\n",
    "print(a, b, c)"
   ]
  },
  {
   "cell_type": "code",
   "execution_count": null,
   "metadata": {
    "id": "blczfAdFyj_m"
   },
   "outputs": [],
   "source": [
    "a, b, c = map(int, input().split()) #用map()將輸入轉成整數變數a, b, c\r\n",
    "print(a, b, c)"
   ]
  },
  {
   "cell_type": "markdown",
   "metadata": {
    "id": "8fSsIcTHx6lI"
   },
   "source": [
    "## (Output)輸出結果"
   ]
  },
  {
   "cell_type": "markdown",
   "metadata": {
    "id": "JrD0Osxc2OZ4"
   },
   "source": [
    "%-formatting 格式化列印"
   ]
  },
  {
   "cell_type": "code",
   "execution_count": null,
   "metadata": {
    "id": "sy33NWdU2XUP"
   },
   "outputs": [],
   "source": [
    "a = 1.234\r\n",
    "b = 2.345\r\n",
    "print(\"{0}四捨五入的結果= {0:.2f}\".format(a))\r\n",
    "print(\"{0}四捨五入的結果= {0:.2f}\".format(b))"
   ]
  },
  {
   "cell_type": "markdown",
   "metadata": {
    "id": "kvF_MLqh2lL9"
   },
   "source": [
    "## M1 Problems:Q1-Q3"
   ]
  },
  {
   "cell_type": "markdown",
   "metadata": {
    "id": "dzHpuaIc21XD"
   },
   "source": [
    "### M1-Q01 單位換算：英哩轉公里\r\n",
    "\r\n",
    "問題描述：\r\n",
    "試撰寫一程式，可由鍵盤輸入英哩(float)，程式的輸出為公里(float)，其轉換公式如下\r\n",
    "： 1 英哩 = 1.6 公里\r\n",
    "\r\n",
    "輸入說明：\r\n",
    "輸入欲轉換之英哩數(float)。\r\n",
    "\r\n",
    "輸出說明：\r\n",
    "輸出公里(float)，取到小數點以下第二位，最後必須有換行字元。\r\n",
    "\r\n",
    "範例\r\n",
    "\r\n",
    "| Sample Input:   |      Sample Output:      |\r\n",
    "|:----------------|:-------------------------|\r\n",
    "| 90.8 | 145.28⏎ |\r\n",
    "| 95.4 | 152.64⏎|"
   ]
  },
  {
   "cell_type": "code",
   "execution_count": null,
   "metadata": {
    "id": "kS1BFReB20KW"
   },
   "outputs": [],
   "source": []
  },
  {
   "cell_type": "markdown",
   "metadata": {
    "id": "49ncVefL4Bni"
   },
   "source": [
    "### M1-Q02 攝氏轉華氏溫度\r\n",
    "問題描述：\r\n",
    "讓使用者輸入一攝氏溫度，輸出相對應的華氏溫度。\r\n",
    "$F = C × 9/5 + 32$\r\n",
    "\r\n",
    "輸入說明：\r\n",
    "輸入一攝氏溫度(float)。\r\n",
    "\r\n",
    "輸出說明：\r\n",
    "輸出相對應的華氏溫度(float)，計算到小數第2位四捨五入，最後必須有換行字元。\r\n",
    "\r\n",
    "範例：\r\n",
    "\r\n",
    "| Sample Input:   |      Sample Output:      |\r\n",
    "|:----------------|:-------------------------|\r\n",
    "| 30.8 | 87.44⏎|\r\n",
    "| 16.9 | 62.42⏎|"
   ]
  },
  {
   "cell_type": "code",
   "execution_count": null,
   "metadata": {
    "id": "uzHroWpq8PBz"
   },
   "outputs": [],
   "source": []
  },
  {
   "cell_type": "markdown",
   "metadata": {
    "id": "sfPBE-IV8PVk"
   },
   "source": [
    "### M1-Q03 合、差及乘積\r\n",
    "問題描述：輸入兩個整數，計算其合、差及乘積。\r\n",
    "\r\n",
    "輸入說明：輸入兩個整數(int)。\r\n",
    "\r\n",
    "輸出說明：輸出兩個整數的合(int)、差(int)及乘積(int)，最後必須有換行字元。\r\n",
    "\r\n",
    "| Sample Input:   |      Sample Output:      |\r\n",
    "|:----------------|:-------------------------|\r\n",
    "| 7    | 7+3=10  |\r\n",
    "| 3    | 7-3=4   |\r\n",
    "|      | 7*3=21  |\r\n",
    "|      | 7/3=2(1)⏎|"
   ]
  },
  {
   "cell_type": "code",
   "execution_count": null,
   "metadata": {
    "id": "xtvp9D9q8x6z"
   },
   "outputs": [],
   "source": []
  },
  {
   "cell_type": "markdown",
   "metadata": {
    "id": "th498iss8xwJ"
   },
   "source": [
    "## M2 Problems:Q1-Q3"
   ]
  },
  {
   "cell_type": "markdown",
   "metadata": {
    "id": "bb5XATGY84i2"
   },
   "source": [
    "### M2-Q01  最大值與最小值 \r\n",
    "問題描述：\r\n",
    "寫一個程式來找出輸入的 5 個數字的最大值和最小值，數值不限定為整數，且值可存放於 float 型態數值內。\r\n",
    "\r\n",
    "輸入說明：\r\n",
    "輸入5個數字\r\n",
    "\r\n",
    "輸出說明：\r\n",
    "輸出數列中的最大值與最小值，輸出時需附上小數點後兩位數字，最後必須有換行字元。\r\n",
    "\r\n",
    "\r\n",
    "| Sample Input:   |      Sample Output:      |\r\n",
    "|:----------------|:-------------------------|\r\n",
    "|-2 -15.2 0 9.5 100 | max=100.00   |\r\n",
    "|          |min=-15.20⏎ |\r\n",
    "| 0 3 52.7 998 135 | max=998.00   |\r\n",
    "|          |min=0.00⏎ |"
   ]
  },
  {
   "cell_type": "code",
   "execution_count": null,
   "metadata": {
    "id": "MPB7xjK48_m-"
   },
   "outputs": [],
   "source": []
  },
  {
   "cell_type": "markdown",
   "metadata": {
    "id": "XSvfTvWc9Qn5"
   },
   "source": [
    "### M2-Q02 '*'三角形\r\n",
    "(時間限制：2 秒)\r\n",
    "\r\n",
    "問題描述：\r\n",
    "讓使用者輸入一正整數 n，利用迴圈以字元 '*' 輸出高度為 n 的三角形。\r\n",
    "\r\n",
    "輸入說明：\r\n",
    "輸入一正整數 n。\r\n",
    "\r\n",
    "輸出說明：\r\n",
    "利用迴圈以字元 '*' 輸出高度為 n 的三角形，最後必須有換行字元。\r\n",
    "\r\n",
    "| Sample Input:   |      Sample Output:      |\r\n",
    "|:----------------|:-------------------------|\r\n",
    "|4 | \\*   |\r\n",
    "|          |\\*\\* |\r\n",
    "|  | \\*\\*\\*   |\r\n",
    "|          |\\*\\*\\*\\*⏎ |\r\n"
   ]
  },
  {
   "cell_type": "code",
   "execution_count": null,
   "metadata": {
    "id": "9EWkZgU39RoT"
   },
   "outputs": [],
   "source": []
  },
  {
   "cell_type": "markdown",
   "metadata": {
    "id": "OeOvt3NF9BIt"
   },
   "source": [
    "### M2-Q03 '*'反向三角形\r\n",
    "問題描述：\r\n",
    "讓使用者輸入一正整數 n，利用迴圈以字元 '*' 輸出高度為 n 的三角形。\r\n",
    "\r\n",
    "輸入說明：\r\n",
    "輸入一正整數 n。\r\n",
    "\r\n",
    "輸出說明：\r\n",
    "利用迴圈以字元 '*' 輸出高度為 n 的三角形，最後必須有換行字元。\r\n",
    "\r\n",
    "| Sample Input:   |      Sample Output:      |\r\n",
    "|:----------------|:-------------------------|\r\n",
    "|4 | &nbsp;&nbsp;&nbsp;\\*   |\r\n",
    "|          |&nbsp;&nbsp;\\*\\* |\r\n",
    "|  | &nbsp;\\*\\*\\*   |\r\n",
    "|          |\\*\\*\\*\\*⏎ |"
   ]
  },
  {
   "cell_type": "code",
   "execution_count": null,
   "metadata": {
    "id": "i-VRyl9b9BWJ"
   },
   "outputs": [],
   "source": []
  },
  {
   "cell_type": "markdown",
   "metadata": {
    "id": "n5k67eOu9BvJ"
   },
   "source": [
    "## M3 Problems:Q1-Q5"
   ]
  },
  {
   "cell_type": "markdown",
   "metadata": {
    "id": "UrhN2cAY9YC7"
   },
   "source": [
    "### M3Q1. 反向字串\r\n",
    "\r\n",
    "問題描述：\r\n",
    "輸入一個字串，並把它反向輸出。\r\n",
    "\r\n",
    "輸入說明：\r\n",
    "輸入一個字串。\r\n",
    "\r\n",
    "輸出說明：\r\n",
    "將輸入字串反向輸出，最後必須有換行字元。\r\n",
    "\r\n",
    "| Sample Input:   |      Sample Output:      |\r\n",
    "|:----------------|:-------------------------|\r\n",
    "|AsIACSIE | EISCAIsA  |\r\n",
    "|          |⏎|"
   ]
  },
  {
   "cell_type": "code",
   "execution_count": null,
   "metadata": {
    "id": "_oJgvYkf9B-5"
   },
   "outputs": [],
   "source": []
  },
  {
   "cell_type": "markdown",
   "metadata": {
    "id": "KOc0nEyY9vhJ"
   },
   "source": [
    "### M3Q2. 亂數選號程式\r\n",
    "\r\n",
    "問題描述：\r\n",
    "請設計一樂透亂數選號程式，由1~42 中選出6 個不重覆的數字組合並輸出。\r\n",
    "請使用以下方式：\r\n",
    "```\r\n",
    "import random\r\n",
    "random.seed(10) #seed() 就是設定亂數種子，可以使每次跑出的亂數序列，都會是一樣的。\r\n",
    "print(random.randint(0, 42)) #randint(begin, end) 隨機選取一個數字\r\n",
    "```\r\n",
    "輸入說明：輸入seed。\r\n",
    "輸出說明：由1~42 中選出6 個不重覆的數字組合並輸出，數字間請以tab 作為間格，最後必須有\r\n",
    "換行字元。\r\n",
    "\r\n",
    "| Sample Input:   |      Sample Output:      |\r\n",
    "|:----------------|:-------------------------|\r\n",
    "|23323456 | 34 40 41 18 24 33 |\r\n",
    "|          |⏎|"
   ]
  },
  {
   "cell_type": "code",
   "execution_count": null,
   "metadata": {
    "id": "nfxMvMEj-3Sw"
   },
   "outputs": [],
   "source": [
    "nums=list(range(1, 43))\r\n",
    "print(nums)"
   ]
  },
  {
   "cell_type": "code",
   "execution_count": null,
   "metadata": {
    "id": "_7f0JwtdAMfj"
   },
   "outputs": [],
   "source": []
  },
  {
   "cell_type": "markdown",
   "metadata": {
    "id": "Gw8-LSWmBu0Y"
   },
   "source": [
    "### M3Q3. 陣列行列互換\r\n",
    "\r\n",
    "問題描述：宣告一個5*7 的二維整數陣列，使用者輸入陣列元素(0~100)，並將行列互換輸出。\r\n",
    "\r\n",
    "輸入說明：輸入陣列元素(0~100)。\r\n",
    "\r\n",
    "輸出說明：行列互換輸出，數字以tab 間格，最後必須有換行字元。\r\n",
    "\r\n",
    "| Sample Input:   |      Sample Output:      |\r\n",
    "|:----------------|:-------------------------|\r\n",
    "|81 7 7 10 97 0 97 |81 90 9 28 5|\r\n",
    "|90 67 8 25 1 39 34|7 67 54 8 1 |\r\n",
    "|9 54 63 53 53 55 77|7 8 63 17 95|\r\n",
    "|28 8 17 50 41 99 89|10 25 53 50 99 |\r\n",
    "| 5 1 95 99 76 92 60|97 1 53 41 76|\r\n",
    "|  | 0 39 55 99 92   |\r\n",
    "|  |97 34 77 89 60  |\r\n",
    "|          |⏎ |"
   ]
  },
  {
   "cell_type": "code",
   "execution_count": null,
   "metadata": {
    "id": "0Pj9mAYrGXjo"
   },
   "outputs": [],
   "source": []
  },
  {
   "cell_type": "markdown",
   "metadata": {
    "id": "slWjH_t-Hec2"
   },
   "source": [
    "### M3Q4. 數字矩陣\r\n",
    "\r\n",
    "問題描述：設計一方法 $𝐹(ℎ,w)$ 印出寬𝑤、高ℎ 如下的數字矩陣。(以 𝑤 = 5，ℎ = 3為例)\r\n",
    "```\r\n",
    "1 2 3 4 5\r\n",
    "2 4 6 8 10\r\n",
    "3 6 9 12 15\r\n",
    "```\r\n",
    "其中第二行是第一行的兩倍、第三行是第一行的三倍、以此類推。\r\n",
    "\r\n",
    "輸入說明：\r\n",
    "分別輸入整數寬𝑤、高ℎ。\r\n",
    "\r\n",
    "輸出說明：\r\n",
    "輸出寬𝑤、高ℎ如下的數字矩陣，數字間請以tab 間格，最後必須有換行字元。\r\n",
    "\r\n",
    "| Sample Input:   |      Sample Output:      |\r\n",
    "|:----------------|:-------------------------|\r\n",
    "|5 3 |1 2 3 4 5|\r\n",
    "|  | 2 4 6 8 10   |\r\n",
    "|  |3 6 9 12 15  |\r\n",
    "|          |⏎ |"
   ]
  },
  {
   "cell_type": "code",
   "execution_count": null,
   "metadata": {
    "id": "WiE4D2HkIMvu"
   },
   "outputs": [],
   "source": []
  },
  {
   "cell_type": "markdown",
   "metadata": {
    "id": "puJYKnDrINbK"
   },
   "source": [
    "### M3Q5. $𝑪(m,n)$\r\n",
    "\r\n",
    "問題描述：\r\n",
    "輸入兩個整數，輸出$𝑪(m,n)$。\r\n",
    "$𝑪(m,n)=m!/n!(m-n)!$\r\n",
    "\r\n",
    "輸入說明：\r\n",
    "分別輸入整數 m、n。\r\n",
    "\r\n",
    "輸出說明：\r\n",
    "輸出$𝑪(m,n)$最後必須有換行字元。\r\n",
    "\r\n",
    "範例：\r\n",
    "\r\n",
    "| Sample Input:   |      Sample Output:      |\r\n",
    "|:----------------|:-------------------------|\r\n",
    "|8 6 |28|\r\n",
    "|          |⏎ |"
   ]
  },
  {
   "cell_type": "code",
   "execution_count": null,
   "metadata": {
    "id": "3xjZSCQrI9BD"
   },
   "outputs": [],
   "source": []
  }
 ],
 "metadata": {
  "colab": {
   "authorship_tag": "ABX9TyPhIhGpTF1fMmiSR/EzGNhL",
   "collapsed_sections": [],
   "name": "AUPython-Ex14.ipynb",
   "provenance": [],
   "toc_visible": true
  },
  "kernelspec": {
   "display_name": "Python 3",
   "language": "python",
   "name": "python3"
  },
  "language_info": {
   "codemirror_mode": {
    "name": "ipython",
    "version": 3
   },
   "file_extension": ".py",
   "mimetype": "text/x-python",
   "name": "python",
   "nbconvert_exporter": "python",
   "pygments_lexer": "ipython3",
   "version": "3.7.6"
  }
 },
 "nbformat": 4,
 "nbformat_minor": 4
}
