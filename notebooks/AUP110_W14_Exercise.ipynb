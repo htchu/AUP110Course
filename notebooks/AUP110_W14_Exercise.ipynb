{
  "nbformat": 4,
  "nbformat_minor": 0,
  "metadata": {
    "colab": {
      "name": "AUP110_W14_Exercise.ipynb",
      "provenance": [],
      "collapsed_sections": [],
      "toc_visible": true
    },
    "kernelspec": {
      "display_name": "Python 3",
      "language": "python",
      "name": "python3"
    },
    "language_info": {
      "codemirror_mode": {
        "name": "ipython",
        "version": 3
      },
      "file_extension": ".py",
      "mimetype": "text/x-python",
      "name": "python",
      "nbconvert_exporter": "python",
      "pygments_lexer": "ipython3",
      "version": "3.7.6"
    }
  },
  "cells": [
    {
      "cell_type": "markdown",
      "metadata": {
        "id": "r6axTGJGxoR-"
      },
      "source": [
        "# AU Fundamentals of Python Programming-Ex14\n"
      ]
    },
    {
      "cell_type": "markdown",
      "metadata": {
        "id": "UrhN2cAY9YC7"
      },
      "source": [
        "### M3Q1. 反向字串\n",
        "\n",
        "問題描述：\n",
        "輸入一個字串，並把它反向輸出。\n",
        "\n",
        "輸入說明：\n",
        "輸入一個字串。\n",
        "\n",
        "輸出說明：\n",
        "將輸入字串反向輸出，最後必須有換行字元。\n",
        "\n",
        "| Sample Input:   |      Sample Output:      |\n",
        "|:----------------|:-------------------------|\n",
        "|AsIACSIE | EISCAIsA  |\n",
        "|          |⏎|"
      ]
    },
    {
      "cell_type": "code",
      "metadata": {
        "id": "_oJgvYkf9B-5"
      },
      "source": [
        ""
      ],
      "execution_count": null,
      "outputs": []
    },
    {
      "cell_type": "markdown",
      "metadata": {
        "id": "KOc0nEyY9vhJ"
      },
      "source": [
        "### M3Q2. 亂數選號程式\n",
        "\n",
        "問題描述：\n",
        "請設計一樂透亂數選號程式，由1~42 中選出6 個不重覆的數字組合並輸出。\n",
        "請使用以下方式：\n",
        "```\n",
        "import random\n",
        "random.seed(10) #seed() 就是設定亂數種子，可以使每次跑出的亂數序列，都會是一樣的。\n",
        "print(random.randint(0, 42)) #randint(begin, end) 隨機選取一個數字\n",
        "```\n",
        "輸入說明：輸入seed。\n",
        "輸出說明：由1~42 中選出6 個不重覆的數字組合並輸出，數字間請以tab 作為間格，最後必須有\n",
        "換行字元。\n",
        "\n",
        "| Sample Input:   |      Sample Output:      |\n",
        "|:----------------|:-------------------------|\n",
        "|23323456 | 34 40 41 18 24 33 |\n",
        "|          |⏎|"
      ]
    },
    {
      "cell_type": "code",
      "metadata": {
        "id": "nfxMvMEj-3Sw"
      },
      "source": [
        "nums=list(range(1, 43))\n",
        "print(nums)"
      ],
      "execution_count": null,
      "outputs": []
    },
    {
      "cell_type": "code",
      "metadata": {
        "id": "_7f0JwtdAMfj"
      },
      "source": [
        ""
      ],
      "execution_count": null,
      "outputs": []
    },
    {
      "cell_type": "markdown",
      "metadata": {
        "id": "Gw8-LSWmBu0Y"
      },
      "source": [
        "### M3Q3. 陣列行列互換\n",
        "\n",
        "問題描述：宣告一個5*7 的二維整數陣列，使用者輸入陣列元素(0~100)，並將行列互換輸出。\n",
        "\n",
        "輸入說明：輸入陣列元素(0~100)。\n",
        "\n",
        "輸出說明：行列互換輸出，數字以tab 間格，最後必須有換行字元。\n",
        "\n",
        "| Sample Input:   |      Sample Output:      |\n",
        "|:----------------|:-------------------------|\n",
        "|81 7 7 10 97 0 97 |81 90 9 28 5|\n",
        "|90 67 8 25 1 39 34|7 67 54 8 1 |\n",
        "|9 54 63 53 53 55 77|7 8 63 17 95|\n",
        "|28 8 17 50 41 99 89|10 25 53 50 99 |\n",
        "| 5 1 95 99 76 92 60|97 1 53 41 76|\n",
        "|  | 0 39 55 99 92   |\n",
        "|  |97 34 77 89 60  |\n",
        "|          |⏎ |"
      ]
    },
    {
      "cell_type": "code",
      "metadata": {
        "id": "0Pj9mAYrGXjo"
      },
      "source": [
        ""
      ],
      "execution_count": null,
      "outputs": []
    },
    {
      "cell_type": "markdown",
      "metadata": {
        "id": "slWjH_t-Hec2"
      },
      "source": [
        "### M3Q4. 數字矩陣\n",
        "\n",
        "問題描述：設計一方法 $𝐹(ℎ,w)$ 印出寬𝑤、高ℎ 如下的數字矩陣。(以 𝑤 = 5，ℎ = 3為例)\n",
        "```\n",
        "1 2 3 4 5\n",
        "2 4 6 8 10\n",
        "3 6 9 12 15\n",
        "```\n",
        "其中第二行是第一行的兩倍、第三行是第一行的三倍、以此類推。\n",
        "\n",
        "輸入說明：\n",
        "分別輸入整數寬𝑤、高ℎ。\n",
        "\n",
        "輸出說明：\n",
        "輸出寬𝑤、高ℎ如下的數字矩陣，數字間請以tab 間格，最後必須有換行字元。\n",
        "\n",
        "| Sample Input:   |      Sample Output:      |\n",
        "|:----------------|:-------------------------|\n",
        "|5 3 |1 2 3 4 5|\n",
        "|  | 2 4 6 8 10   |\n",
        "|  |3 6 9 12 15  |\n",
        "|          |⏎ |"
      ]
    },
    {
      "cell_type": "code",
      "metadata": {
        "id": "WiE4D2HkIMvu"
      },
      "source": [
        ""
      ],
      "execution_count": null,
      "outputs": []
    },
    {
      "cell_type": "markdown",
      "metadata": {
        "id": "puJYKnDrINbK"
      },
      "source": [
        "### M3Q5. $𝑪(m,n)$\n",
        "\n",
        "問題描述：\n",
        "輸入兩個整數，輸出$𝑪(m,n)$。\n",
        "$𝑪(m,n)=m!/n!(m-n)!$\n",
        "\n",
        "輸入說明：\n",
        "分別輸入整數 m、n。\n",
        "\n",
        "輸出說明：\n",
        "輸出$𝑪(m,n)$最後必須有換行字元。\n",
        "\n",
        "範例：\n",
        "\n",
        "| Sample Input:   |      Sample Output:      |\n",
        "|:----------------|:-------------------------|\n",
        "|8 6 |28|\n",
        "|          |⏎ |"
      ]
    },
    {
      "cell_type": "code",
      "metadata": {
        "id": "3xjZSCQrI9BD"
      },
      "source": [
        ""
      ],
      "execution_count": null,
      "outputs": []
    }
  ]
}