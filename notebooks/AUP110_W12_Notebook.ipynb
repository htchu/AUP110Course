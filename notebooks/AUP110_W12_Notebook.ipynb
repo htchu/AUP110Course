{
 "cells": [
  {
   "cell_type": "markdown",
   "metadata": {
    "id": "EUjJ7ImLnPVr"
   },
   "source": [
    "# AU Fundamentals of Python Programming-W11\n",
    "\n"
   ]
  },
  {
   "cell_type": "markdown",
   "metadata": {
    "id": "kLe1GoiTtrgI"
   },
   "source": [
    "## Topic 1(主題1)-M2-Q25 數字總和\n",
    "\n",
    "問題描述：\n",
    "使用者輸入一正整數 n，找出小於等於 n 中，其質因數只有 2 或 3 或 5 的數字總和。\n",
    "\n",
    "輸入說明：\n",
    "輸入一正整數 n。\n",
    "\n",
    "輸出說明：\n",
    "找出小於等於 n 中，其質因數只有 2 或 3 或 5 的數字總和，最後必須有換行字元。\n",
    "\n",
    "\n",
    "| Sample Input:   |      Sample Output:      |\n",
    "|:----------------|:-------------------------|\n",
    "|30 | 234⏎   |\n",
    "|50  |485⏎ |\n"
   ]
  },
  {
   "cell_type": "code",
   "execution_count": null,
   "metadata": {
    "id": "W6iQ9rzteCZw"
   },
   "outputs": [],
   "source": [
    "strIn = input()\n",
    "n = int(strIn)\n",
    "sum = 0\n",
    "for num in range(2, n+1):\n",
    "  x=num\n",
    "  while x%2==0:\n",
    "    x/=2\n",
    "  while x%3==0:\n",
    "    x/=3\n",
    "  while x%5==0:\n",
    "    x/=5\n",
    "  if x ==1:\n",
    "    sum +=num\n",
    "print(sum)\n"
   ]
  },
  {
   "cell_type": "markdown",
   "metadata": {
    "id": "uFtavdB97bDV"
   },
   "source": [
    "## Topic 2(主題2)-型別轉換函數\n"
   ]
  },
  {
   "cell_type": "markdown",
   "metadata": {
    "id": "VnMo1y-kujl2"
   },
   "source": [
    "### 輸入變數的值"
   ]
  },
  {
   "cell_type": "code",
   "execution_count": null,
   "metadata": {
    "id": "uJbEBoQR3QTM"
   },
   "outputs": [],
   "source": [
    "name = input('Please input your name：')\n",
    "print('Hello, ', name)\n",
    "print(type(name))   #列印變數的型別"
   ]
  },
  {
   "cell_type": "markdown",
   "metadata": {
    "id": "0lP1OF6awu5J"
   },
   "source": [
    "### Python 型別轉換函數\n",
    "* int()    #變整數\n",
    "* float()  #變浮點數\n",
    "* str()    #變字串\n",
    "* 變數名稱=int(字串變數)\n",
    "* 變數名稱=str(數值變數"
   ]
  },
  {
   "cell_type": "code",
   "execution_count": null,
   "metadata": {
    "id": "YFol-Wm-xNEO"
   },
   "outputs": [],
   "source": [
    "#變數宣告\n",
    "varA = 66 #宣告一個整數變數\n",
    "varB = 1.68 #宣告一個有小數的變數(電腦叫浮點數)\n",
    "varC = 'GoPython' #宣告一個字串變數\n",
    "varD = str(varA) #將整數88轉成字串的88\n",
    "varE = str(varB) #將浮點數1.68轉成字串的1.68\n",
    "varF = int('2019') #將字串2019轉作整數數值的2019\n",
    "varG = float('3.14') #將字串3.14轉作浮點數數值的3.14\n"
   ]
  },
  {
   "cell_type": "code",
   "execution_count": null,
   "metadata": {
    "id": "TTW4smZex00n"
   },
   "outputs": [],
   "source": [
    "score = input('Please input your score：')\n",
    "score = int(score)\n",
    "print(type(score))   #列印變數的型別"
   ]
  },
  {
   "cell_type": "markdown",
   "metadata": {
    "id": "nQJ1uTEYvPwL"
   },
   "source": [
    "## Topic 3(主題3)-費氏數列\n",
    "$F(0)=0$\n",
    "\n",
    "$F(1)=1$\n",
    "\n",
    "$F(n)=F(n-1)+F(n-2)$\n"
   ]
  },
  {
   "cell_type": "code",
   "execution_count": null,
   "metadata": {
    "id": "f3J_B3U8fMlr"
   },
   "outputs": [],
   "source": [
    "def fib(n):\n",
    "    if n==0: return 0\n",
    "    if n==1: return 1\n",
    "    return fib(n-1)+fib(n-2)"
   ]
  },
  {
   "cell_type": "code",
   "execution_count": null,
   "metadata": {
    "id": "Sg0ATw5OfMub"
   },
   "outputs": [],
   "source": [
    "print(fib(6))"
   ]
  },
  {
   "cell_type": "code",
   "execution_count": null,
   "metadata": {
    "id": "ED5L5yKSfXfQ"
   },
   "outputs": [],
   "source": [
    "def fib2(n):\n",
    "  if n==0: return 0\n",
    "  if n==1: return 1\n",
    "  a, b = 0, 1\n",
    "  for i in range(n):\n",
    "    a, b = b, a+b\n",
    "  return a"
   ]
  },
  {
   "cell_type": "code",
   "execution_count": null,
   "metadata": {
    "id": "W2iNwE4YfZwg"
   },
   "outputs": [],
   "source": [
    "print(fib2(6))"
   ]
  },
  {
   "cell_type": "markdown",
   "metadata": {
    "id": "dRdtCudyzjfI"
   },
   "source": [
    "## Topic 4(主題4)-格式化輸出\n",
    "```\n",
    "A = 435; B = 59.058\n",
    "print('Art: %5d, Price per Unit: %8.2f' % (A, B))          #%-formatting 格式化列印\n",
    "print(\"Art: {0:5d}, Price per Unit: {1:8.2f}\".format(A,B)) #str-format（Python 2.6+）\n",
    "print(f\"Art:{A:5d}, Price per Unit: {B:8.2f}\")             #f-string （Python 3.6+）\n",
    "```"
   ]
  },
  {
   "cell_type": "markdown",
   "metadata": {
    "id": "b_OsCdmjz7_e"
   },
   "source": [
    "### Step 10: %-formatting 格式化列印\n",
    "透過% 運算符號，將在元組（tuple）中的一組變量依照指定的格式化方式輸出。如 %s（字串）、%d （十進位整數）、 %f（浮點數）"
   ]
  },
  {
   "cell_type": "code",
   "execution_count": null,
   "metadata": {
    "id": "b1tRdaFu3jX0"
   },
   "outputs": [],
   "source": [
    "A = 435; B = 59.058\n",
    "print('Art: %5d, Price per Unit: %8.2f' % (A, B))"
   ]
  },
  {
   "cell_type": "code",
   "execution_count": null,
   "metadata": {
    "colab": {
     "base_uri": "https://localhost:8080/",
     "height": 34
    },
    "executionInfo": {
     "elapsed": 984,
     "status": "ok",
     "timestamp": 1602009030516,
     "user": {
      "displayName": "Hsueh-Ting Chu",
      "photoUrl": "https://lh3.googleusercontent.com/a-/AOh14GhjZzSScd4C7GeSLbsZaxvk3HSuE8FYBfeM8i1FYg=s64",
      "userId": "03319341302301572023"
     },
     "user_tz": -480
    },
    "id": "vQpkjcRGLHeE",
    "outputId": "fb0fd45f-e5ee-49b5-dda1-1569742f2832"
   },
   "outputs": [
    {
     "name": "stdout",
     "output_type": "stream",
     "text": [
      "She is Mary Lin\n"
     ]
    }
   ],
   "source": [
    "FirstName = \"Mary\"; LastName= \"Lin\"\n",
    "print(\"She is %s %s\" %(FirstName, LastName))"
   ]
  },
  {
   "cell_type": "markdown",
   "metadata": {
    "id": "d3ZoFghS1Eir"
   },
   "source": [
    "### Step 11: str-format（Python 2.6+）格式化列印"
   ]
  },
  {
   "cell_type": "code",
   "execution_count": null,
   "metadata": {
    "id": "Y0ZTqGnr1BTo"
   },
   "outputs": [],
   "source": [
    "A = 435; B = 59.058\n",
    "print(\"Art: {0:5d}, Price per Unit: {1:8.2f}\".format(435, 59.058))"
   ]
  },
  {
   "cell_type": "code",
   "execution_count": null,
   "metadata": {
    "colab": {
     "base_uri": "https://localhost:8080/",
     "height": 34
    },
    "executionInfo": {
     "elapsed": 960,
     "status": "ok",
     "timestamp": 1602009134121,
     "user": {
      "displayName": "Hsueh-Ting Chu",
      "photoUrl": "https://lh3.googleusercontent.com/a-/AOh14GhjZzSScd4C7GeSLbsZaxvk3HSuE8FYBfeM8i1FYg=s64",
      "userId": "03319341302301572023"
     },
     "user_tz": -480
    },
    "id": "EwX8WNCzLgbU",
    "outputId": "2b6bce0c-7d0e-442b-8597-28dbb2fb3580"
   },
   "outputs": [
    {
     "name": "stdout",
     "output_type": "stream",
     "text": [
      "She is Mary Lin\n"
     ]
    }
   ],
   "source": [
    "FirstName = \"Mary\"; LastName= \"Lin\"\n",
    "print(\"She is {} {}\".format(FirstName, LastName))"
   ]
  },
  {
   "cell_type": "markdown",
   "metadata": {
    "id": "PPziADEY1uLb"
   },
   "source": [
    "### Step 12: f-string （Python 3.6+）格式化列印"
   ]
  },
  {
   "cell_type": "code",
   "execution_count": null,
   "metadata": {
    "id": "h_Th9s8812ke"
   },
   "outputs": [],
   "source": [
    "A = 435; B = 59.058\n",
    "print(f\"Art:{A:5d}, Price per Unit: {B:8.2f}\")"
   ]
  },
  {
   "cell_type": "code",
   "execution_count": null,
   "metadata": {
    "colab": {
     "base_uri": "https://localhost:8080/",
     "height": 34
    },
    "executionInfo": {
     "elapsed": 979,
     "status": "ok",
     "timestamp": 1602009163880,
     "user": {
      "displayName": "Hsueh-Ting Chu",
      "photoUrl": "https://lh3.googleusercontent.com/a-/AOh14GhjZzSScd4C7GeSLbsZaxvk3HSuE8FYBfeM8i1FYg=s64",
      "userId": "03319341302301572023"
     },
     "user_tz": -480
    },
    "id": "cXq7y6IsL4yP",
    "outputId": "3fc49519-6f4e-46bc-b53f-0e946764f0aa"
   },
   "outputs": [
    {
     "name": "stdout",
     "output_type": "stream",
     "text": [
      "She is Mary Lin\n"
     ]
    }
   ],
   "source": [
    "FirstName = \"Mary\"; LastName= \"Lin\"\n",
    "print(f\"She is {FirstName} {LastName}\")"
   ]
  }
 ],
 "metadata": {
  "colab": {
   "collapsed_sections": [],
   "name": "AUPython-W11.ipynb",
   "provenance": [
    {
     "file_id": "1Zr5XPDYc0YyWUqLyD4atVeYWHFmsE6r3",
     "timestamp": 1602517385174
    },
    {
     "file_id": "1SMkIGw6ns8qmTCqBZkIx1AC2PPBb736x",
     "timestamp": 1602517368606
    },
    {
     "file_id": "125J9OavrIedCKj2WrLuWtDZhM05rFA9o",
     "timestamp": 1602517349936
    },
    {
     "file_id": "1GVp3lV2O8Lt84DBHf_2HWV-k3LbxuZgD",
     "timestamp": 1602517332956
    },
    {
     "file_id": "1-sOlM5gnjXT4BuUw75fcItqEGXKSQ62Z",
     "timestamp": 1602517315061
    },
    {
     "file_id": "1fvBHhyx5HM_s6X_XqiVRY2sFBdgWcR6p",
     "timestamp": 1602517280402
    },
    {
     "file_id": "12RGkebp0l7RfBLcMK64Usni4xnhwEtt4",
     "timestamp": 1602517229661
    },
    {
     "file_id": "1a__-B_dtsembRipucBL2wkIIe4a6aMRl",
     "timestamp": 1601990504926
    }
   ]
  },
  "kernelspec": {
   "display_name": "Python 3",
   "language": "python",
   "name": "python3"
  },
  "language_info": {
   "codemirror_mode": {
    "name": "ipython",
    "version": 3
   },
   "file_extension": ".py",
   "mimetype": "text/x-python",
   "name": "python",
   "nbconvert_exporter": "python",
   "pygments_lexer": "ipython3",
   "version": "3.7.6"
  }
 },
 "nbformat": 4,
 "nbformat_minor": 1
}
