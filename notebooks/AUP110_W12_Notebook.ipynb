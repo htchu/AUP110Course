{
  "nbformat": 4,
  "nbformat_minor": 0,
  "metadata": {
    "colab": {
      "name": "AUP110_W12_Notebook.ipynb",
      "provenance": [],
      "collapsed_sections": [],
      "toc_visible": true
    },
    "kernelspec": {
      "display_name": "Python 3",
      "language": "python",
      "name": "python3"
    },
    "language_info": {
      "codemirror_mode": {
        "name": "ipython",
        "version": 3
      },
      "file_extension": ".py",
      "mimetype": "text/x-python",
      "name": "python",
      "nbconvert_exporter": "python",
      "pygments_lexer": "ipython3",
      "version": "3.7.6"
    }
  },
  "cells": [
    {
      "cell_type": "markdown",
      "metadata": {
        "id": "EYpXLXFXVrBg"
      },
      "source": [
        "![image](https://www.python.org/static/img/python-logo.png)\n",
        "# 亞洲大學基礎程式設計教材(AUP110-Fundamentals of Programming)\n",
        "[![Open In Colab](https://colab.research.google.com/assets/colab-badge.svg)](https://colab.research.google.com/github/googlecolab/colabtools/blob/master/notebooks/colab-github-demo.ipynb)"
      ]
    },
    {
      "cell_type": "markdown",
      "metadata": {
        "id": "EUjJ7ImLnPVr"
      },
      "source": [
        "# Week 12-進階運算\n",
        "\n"
      ]
    },
    {
      "cell_type": "markdown",
      "metadata": {
        "id": "8sPzqD4GY576"
      },
      "source": [
        "## Topic 1(主題1)-基本運算複習"
      ]
    },
    {
      "cell_type": "markdown",
      "metadata": {
        "id": "C6n3VjsxcdZp"
      },
      "source": [
        "### Step 1: 算數運算"
      ]
    },
    {
      "cell_type": "code",
      "metadata": {
        "id": "aoQI9eTr8yM6"
      },
      "source": [
        ""
      ],
      "execution_count": null,
      "outputs": []
    },
    {
      "cell_type": "markdown",
      "metadata": {
        "id": "J2vhE7jacmJh"
      },
      "source": [
        "### Step 2: Bitwise運算"
      ]
    },
    {
      "cell_type": "code",
      "metadata": {
        "id": "0W9hbMxd8ypn"
      },
      "source": [
        ""
      ],
      "execution_count": null,
      "outputs": []
    },
    {
      "cell_type": "markdown",
      "metadata": {
        "id": "aqrR2pmiiCmP"
      },
      "source": [
        "### Step 3: Comparisons"
      ]
    },
    {
      "cell_type": "code",
      "metadata": {
        "id": "PfOWAb5B-FPs"
      },
      "source": [
        ""
      ],
      "execution_count": null,
      "outputs": []
    },
    {
      "cell_type": "markdown",
      "metadata": {
        "id": "Z4HAOB3b-Ega"
      },
      "source": [
        "## Topic 2(主題2)-偶數、奇數、質數"
      ]
    },
    {
      "cell_type": "code",
      "metadata": {
        "id": "R9iUm0uTh-Ry"
      },
      "source": [
        ""
      ],
      "execution_count": null,
      "outputs": []
    },
    {
      "cell_type": "markdown",
      "metadata": {
        "id": "Jeyf3IIPZLA0"
      },
      "source": [
        "## Topic 3(主題3)-因數、倍數"
      ]
    },
    {
      "cell_type": "markdown",
      "metadata": {
        "id": "nQJ1uTEYvPwL"
      },
      "source": [
        "## Topic 4(主題4)-費氏數列\n",
        "$F(0)=0$\n",
        "\n",
        "$F(1)=1$\n",
        "\n",
        "$F(n)=F(n-1)+F(n-2)$\n"
      ]
    },
    {
      "cell_type": "code",
      "metadata": {
        "id": "f3J_B3U8fMlr"
      },
      "source": [
        "def fib(n):\n",
        "    if n==0: return 0\n",
        "    if n==1: return 1\n",
        "    return fib(n-1)+fib(n-2)"
      ],
      "execution_count": null,
      "outputs": []
    },
    {
      "cell_type": "code",
      "metadata": {
        "id": "Sg0ATw5OfMub"
      },
      "source": [
        "print(fib(6))"
      ],
      "execution_count": null,
      "outputs": []
    },
    {
      "cell_type": "code",
      "metadata": {
        "id": "ED5L5yKSfXfQ"
      },
      "source": [
        "def fib2(n):\n",
        "  if n==0: return 0\n",
        "  if n==1: return 1\n",
        "  a, b = 0, 1\n",
        "  for i in range(n):\n",
        "    a, b = b, a+b\n",
        "  return a"
      ],
      "execution_count": null,
      "outputs": []
    },
    {
      "cell_type": "code",
      "metadata": {
        "id": "W2iNwE4YfZwg"
      },
      "source": [
        "print(fib2(6))"
      ],
      "execution_count": null,
      "outputs": []
    }
  ]
}