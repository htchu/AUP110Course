{
  "nbformat": 4,
  "nbformat_minor": 0,
  "metadata": {
    "colab": {
      "name": "AUP110_W12_Notebook.ipynb",
      "provenance": [],
      "collapsed_sections": [],
      "toc_visible": true
    },
    "kernelspec": {
      "display_name": "Python 3",
      "language": "python",
      "name": "python3"
    },
    "language_info": {
      "codemirror_mode": {
        "name": "ipython",
        "version": 3
      },
      "file_extension": ".py",
      "mimetype": "text/x-python",
      "name": "python",
      "nbconvert_exporter": "python",
      "pygments_lexer": "ipython3",
      "version": "3.7.6"
    }
  },
  "cells": [
    {
      "cell_type": "markdown",
      "metadata": {
        "id": "EYpXLXFXVrBg"
      },
      "source": [
        "![image](https://www.python.org/static/img/python-logo.png)\n",
        "# 亞洲大學基礎程式設計教材(AUP110-Fundamentals of Programming)\n",
        "[![Open In Colab](https://colab.research.google.com/assets/colab-badge.svg)](https://colab.research.google.com/github/googlecolab/colabtools/blob/master/notebooks/colab-github-demo.ipynb)"
      ]
    },
    {
      "cell_type": "markdown",
      "metadata": {
        "id": "EUjJ7ImLnPVr"
      },
      "source": [
        "# Week 12-進階運算\n",
        "\n"
      ]
    },
    {
      "cell_type": "markdown",
      "metadata": {
        "id": "8sPzqD4GY576"
      },
      "source": [
        "## Topic 1(主題1)-基本運算複習"
      ]
    },
    {
      "cell_type": "markdown",
      "metadata": {
        "id": "C6n3VjsxcdZp"
      },
      "source": [
        "### Step 1: 算數運算"
      ]
    },
    {
      "cell_type": "code",
      "metadata": {
        "id": "aoQI9eTr8yM6"
      },
      "source": [
        "#加減乘除\n",
        "print(1.3 + 2)\n",
        "print(3 - 4.2)\n",
        "print(5 * 6.5)\n",
        "print(10.0 / 5)"
      ],
      "execution_count": null,
      "outputs": []
    },
    {
      "cell_type": "code",
      "metadata": {
        "id": "ataDZQ4RG4Bu"
      },
      "source": [
        "#商和餘數\n",
        "print(23 / 5)\n",
        "print(23 // 5)\n",
        "print(23 % 5)"
      ],
      "execution_count": null,
      "outputs": []
    },
    {
      "cell_type": "code",
      "metadata": {
        "id": "42kZ0XrcG7kJ"
      },
      "source": [
        "#次方\n",
        "print(23 * 2)\n",
        "print(23 ** 2)"
      ],
      "execution_count": null,
      "outputs": []
    },
    {
      "cell_type": "markdown",
      "metadata": {
        "id": "J2vhE7jacmJh"
      },
      "source": [
        "### Step 2: Bitwise運算\n",
        "\n",
        "| OPERATOR:   |   DESCRIPTION:      | SYNTAX:|\n",
        "|:--------|:--------|:------|\n",
        "|&|Bitwise AND |x & y|\n",
        "|\\||\tBitwise OR |x \\| y|\n",
        "|~|Bitwise NOT|~x|\n",
        "|^|Bitwise XOR|x ^ y|\n",
        "|>>|Bitwise right shift|x>>|\n",
        "|<<|Bitwise left shift|x<< |\n",
        "\t\t\n",
        "\t\t\n",
        "\t\t\n",
        "\t\t\n",
        "\t \t\n",
        "\t\t"
      ]
    },
    {
      "cell_type": "code",
      "metadata": {
        "id": "0W9hbMxd8ypn"
      },
      "source": [
        "a = 20 #a = 20 = 00010100 (Binary)\n",
        "b = 12 #b = 12 = 00001100 (Binary)"
      ],
      "execution_count": null,
      "outputs": []
    },
    {
      "cell_type": "code",
      "metadata": {
        "id": "qhUgHVZEHTnB"
      },
      "source": [
        "# Print bitwise AND operation\n",
        "print(f\"a & b = {a & b}\")\n",
        "print(f\"a & b = {a & b:#04X}\")\n",
        "print(f\"a & b = {a & b:#04x}\")"
      ],
      "execution_count": null,
      "outputs": []
    },
    {
      "cell_type": "code",
      "metadata": {
        "id": "EtXa-RGrHVUv"
      },
      "source": [
        "# Print bitwise OR operation\n",
        "print(f\"a | b = {a | b}\")\n",
        "print(f\"a | b = {a | b:#04X}\")\n",
        "print(f\"a | b = {a | b:#04x}\")"
      ],
      "execution_count": null,
      "outputs": []
    },
    {
      "cell_type": "code",
      "metadata": {
        "id": "PDAXHL_tHXh6"
      },
      "source": [
        "# Print bitwise NOT operation\n",
        "print(f\"~a = {~a}\" )\n",
        "print(f\"~a = {~a:#04X}\" )\n",
        "print(f\"~a = {~a:#04x}\" )"
      ],
      "execution_count": null,
      "outputs": []
    },
    {
      "cell_type": "code",
      "metadata": {
        "id": "_C-AsRKXHaNU"
      },
      "source": [
        "# print bitwise XOR operation\n",
        "print(f\"a ^ b = {a ^ b}\")\n",
        "print(f\"a ^ b = {a ^ b:#04X}\")\n",
        "print(f\"a ^ b = {a ^ b:#04x}\")"
      ],
      "execution_count": null,
      "outputs": []
    },
    {
      "cell_type": "code",
      "metadata": {
        "id": "lbxPtGpXKv7c"
      },
      "source": [
        "# print bitwise right shift operator\n",
        "print(f\"{a} >> 2 = {a >> 2}\" )\n",
        "print(f\"{b} >> 2 = {b >> 2}\" )"
      ],
      "execution_count": null,
      "outputs": []
    },
    {
      "cell_type": "code",
      "metadata": {
        "id": "9b4c6A_FK6Fk"
      },
      "source": [
        "# print bitwise left shift operator\n",
        "print(f\"{a} << 2 = {a << 2}\")\n",
        "print(f\"{b} << 2 = {b << 2}\")"
      ],
      "execution_count": null,
      "outputs": []
    },
    {
      "cell_type": "markdown",
      "metadata": {
        "id": "aqrR2pmiiCmP"
      },
      "source": [
        "### Step 3: 比較Comparisons運算子\n",
        "| OPERATOR:   |   DESCRIPTION:      | SYNTAX:|\n",
        "|:--------|:--------|:------|\n",
        "|==|Equal |\tx == y|\n",
        "|!=|Not equal |x != y|\n",
        "|>|Greater than|\tx > y|\n",
        "|<|Less than|\tx < y|\n",
        "|>=|Greater than or equal to|\tx >= y|\n",
        "|<=|Less than or equal to|\tx <= y|"
      ]
    },
    {
      "cell_type": "code",
      "metadata": {
        "id": "PfOWAb5B-FPs"
      },
      "source": [
        "a = 20 #a = 20 = 00010100 (Binary)\n",
        "b = 12 #b = 12 = 00001100 (Binary)"
      ],
      "execution_count": null,
      "outputs": []
    },
    {
      "cell_type": "code",
      "metadata": {
        "id": "8B87vHyLMNhP"
      },
      "source": [
        "print(f\"{a==b}\")\n",
        "print(f\"{a!=b}\")"
      ],
      "execution_count": null,
      "outputs": []
    },
    {
      "cell_type": "code",
      "metadata": {
        "id": "W1ZaRS9fMatm"
      },
      "source": [
        "print(f\"{a>b}\")\n",
        "print(f\"{a<b}\")"
      ],
      "execution_count": null,
      "outputs": []
    },
    {
      "cell_type": "code",
      "metadata": {
        "id": "rZGwmPL9Mdq1"
      },
      "source": [
        "print(f\"{a>=b}\")\n",
        "print(f\"{a<=b}\")"
      ],
      "execution_count": null,
      "outputs": []
    },
    {
      "cell_type": "markdown",
      "metadata": {
        "id": "IkDz4Af-Y6LI"
      },
      "source": [
        "### Step 4: 邏輯運算(Logical Operators)\n",
        "\n",
        "| OPERATOR:   |   DESCRIPTION:      | SYNTAX:|\n",
        "|:--------|:--------|:------|\n",
        "|and|Logical AND |\tx and y|\n",
        "|or|Logical OR |x or y|\n",
        "|not|Logical NOT|\tnot x|\n"
      ]
    },
    {
      "cell_type": "code",
      "metadata": {
        "id": "PYsPPRXaZFEE"
      },
      "source": [
        "a = 2;  b =7"
      ],
      "execution_count": null,
      "outputs": []
    },
    {
      "cell_type": "code",
      "metadata": {
        "id": "-GaCHLQ9Z60X"
      },
      "source": [
        "print((a > 1) and (b > 5))  #True and True\n",
        "print((a > 1) and (b > 5))  #True and False\n",
        "print((a < 1) and (b < 5))  #False and False"
      ],
      "execution_count": null,
      "outputs": []
    },
    {
      "cell_type": "code",
      "metadata": {
        "id": "bnfeslHZabhz"
      },
      "source": [
        "print((a > 1) or (b > 5))   #True or True\n",
        "print((a > 1) or (b < 5))   #True or False\n",
        "print((a < 1) or (b < 5))   #False or False"
      ],
      "execution_count": null,
      "outputs": []
    },
    {
      "cell_type": "code",
      "metadata": {
        "id": "DMYfDZj_akdy"
      },
      "source": [
        "print(not(a > 1))           #NOT True\n",
        "print(not(b < 5))           #NOT False"
      ],
      "execution_count": null,
      "outputs": []
    },
    {
      "cell_type": "markdown",
      "metadata": {
        "id": "Z4HAOB3b-Ega"
      },
      "source": [
        "## Topic 2(主題2)-偶數、奇數、幾位數"
      ]
    },
    {
      "cell_type": "markdown",
      "metadata": {
        "id": "dLZfuWf9NneN"
      },
      "source": [
        "### Step 4: 偶數和奇數"
      ]
    },
    {
      "cell_type": "code",
      "metadata": {
        "id": "R9iUm0uTh-Ry"
      },
      "source": [
        "a = 20 #a = 20 = 00010100 (Binary)\n",
        "b = 11 #b = 11 = 00001011 (Binary)"
      ],
      "execution_count": null,
      "outputs": []
    },
    {
      "cell_type": "code",
      "metadata": {
        "id": "HHD7FVa0Ns5p"
      },
      "source": [
        "if a %2==0:\n",
        "  print(\"even\")#偶數\n",
        "else:\n",
        "  print(\"odd\")#奇數"
      ],
      "execution_count": null,
      "outputs": []
    },
    {
      "cell_type": "code",
      "metadata": {
        "id": "W2eNHAUHN5AH"
      },
      "source": [
        "if b %2==0:\n",
        "  print(\"even\")#偶數\n",
        "else:\n",
        "  print(\"odd\")#奇數"
      ],
      "execution_count": null,
      "outputs": []
    },
    {
      "cell_type": "markdown",
      "metadata": {
        "id": "67ft4c2LORzc"
      },
      "source": [
        "### Step 5: 幾位數"
      ]
    },
    {
      "cell_type": "code",
      "metadata": {
        "id": "D1wSQxPRN_4V"
      },
      "source": [
        "a =4567\n",
        "d4 = (a%10000)//1000\n",
        "d3 = (a%1000)//100\n",
        "d2 = (a%100)//10\n",
        "d1 = (a%10)\n",
        "print(f\"{d4} {d3} {d2} {d1}\")"
      ],
      "execution_count": null,
      "outputs": []
    },
    {
      "cell_type": "code",
      "metadata": {
        "id": "t0zrQ5XnO634"
      },
      "source": [
        "a =123456789\n",
        "d4 = (a%10000)//1000\n",
        "d3 = (a%1000)//100\n",
        "d2 = (a%100)//10\n",
        "d1 = (a%10)\n",
        "print(f\"{d4} {d3} {d2} {d1}\")"
      ],
      "execution_count": null,
      "outputs": []
    },
    {
      "cell_type": "code",
      "metadata": {
        "id": "h6Zc8CeCO-gS"
      },
      "source": [
        "a =456\n",
        "d4 = (a%10000)//1000\n",
        "d3 = (a%1000)//100\n",
        "d2 = (a%100)//10\n",
        "d1 = (a%10)\n",
        "print(f\"{d4} {d3} {d2} {d1}\")"
      ],
      "execution_count": null,
      "outputs": []
    },
    {
      "cell_type": "markdown",
      "metadata": {
        "id": "Jeyf3IIPZLA0"
      },
      "source": [
        "## Topic 3(主題3)-因數、倍數、質數\n"
      ]
    },
    {
      "cell_type": "markdown",
      "metadata": {
        "id": "xHV21OkcPKfK"
      },
      "source": [
        "### Step 6: 因數"
      ]
    },
    {
      "cell_type": "code",
      "metadata": {
        "id": "qT5sdfG2PNRT"
      },
      "source": [
        "a= 124\n",
        "for n in range(1,a+1):\n",
        "  if a%n ==0:\n",
        "    print(n, end=\" \")\n",
        "print()"
      ],
      "execution_count": null,
      "outputs": []
    },
    {
      "cell_type": "markdown",
      "metadata": {
        "id": "fnWp9rykP8CL"
      },
      "source": [
        "### Step 7: 倍數 (<1000)"
      ]
    },
    {
      "cell_type": "code",
      "metadata": {
        "id": "RHPhgjdCQDDa"
      },
      "source": [
        "a= 124\n",
        "for n in range(a,1000+1):\n",
        "  if n%a ==0:\n",
        "    print(n, end=\" \")\n",
        "print()"
      ],
      "execution_count": null,
      "outputs": []
    },
    {
      "cell_type": "markdown",
      "metadata": {
        "id": "wzPIH57CQTAJ"
      },
      "source": [
        "### Step 8: 質數 (<100)"
      ]
    },
    {
      "cell_type": "code",
      "metadata": {
        "id": "oeUxr1q2QZ75"
      },
      "source": [
        "for num in range(2,100+1):\n",
        "    factor = 0\n",
        "    for i in range(2, num):\n",
        "        if (num % i) == 0:\n",
        "            # if factor is found, set flag to True\n",
        "            factor += 1\n",
        "\n",
        "    # check if flag is True\n",
        "    if factor == 0:\n",
        "        print(num, end=\" \")"
      ],
      "execution_count": null,
      "outputs": []
    },
    {
      "cell_type": "code",
      "metadata": {
        "id": "K87SzPcZRla9"
      },
      "source": [
        "for num in range(2,100+1):\n",
        "    isPrime = True\n",
        "    for i in range(2, num):\n",
        "        if (num % i) == 0:\n",
        "            # if factor is found, set flag to True\n",
        "            isPrime = False\n",
        "            break\n",
        "    # check if flag is True\n",
        "    if isPrime == True:\n",
        "        print(num, end=\" \")"
      ],
      "execution_count": null,
      "outputs": []
    },
    {
      "cell_type": "markdown",
      "metadata": {
        "id": "nQJ1uTEYvPwL"
      },
      "source": [
        "## Topic 4(主題4)-階乘計算和費氏數列計算\n",
        "* 階乘計算 $n! = 1 * 2 * ... * n$\n",
        "* 費氏數列 $F(n)=F(n-1)+F(n-2)$, $F(0)=0$, $F(1)=1$\n",
        "\n",
        "\n"
      ]
    },
    {
      "cell_type": "markdown",
      "metadata": {
        "id": "Wb_8K5KNTP0f"
      },
      "source": [
        "### Step 9: 階乘計算"
      ]
    },
    {
      "cell_type": "code",
      "metadata": {
        "id": "u2KBqoHxTUq4"
      },
      "source": [
        "def factorial(n):\n",
        "    factor = 1\n",
        "    for i in range(1,n+1):\n",
        "        factor *= i\n",
        "    return factor\n",
        "print(factorial(10))"
      ],
      "execution_count": null,
      "outputs": []
    },
    {
      "cell_type": "markdown",
      "metadata": {
        "id": "6s99DC7hSPmI"
      },
      "source": [
        "### Step 10: 費氏數列計算"
      ]
    },
    {
      "cell_type": "code",
      "metadata": {
        "id": "ED5L5yKSfXfQ"
      },
      "source": [
        "def fib(n):\n",
        "  if n==0: return 0\n",
        "  if n==1: return 1\n",
        "  a, b = 0, 1\n",
        "  for i in range(n):\n",
        "    a, b = b, a+b\n",
        "  return a\n",
        "print(fib(6))"
      ],
      "execution_count": null,
      "outputs": []
    },
    {
      "cell_type": "markdown",
      "metadata": {
        "id": "ZdxmR5wNa7b4"
      },
      "source": [
        "## Topic 5(主題5)-Membership Operators\n",
        "* __in__: Evaluates to true if it finds a variable in the specified sequence and false otherwise.\n",
        "* __not in__: Evaluates to true if it does not finds a variable in the specified sequence and false otherwise."
      ]
    },
    {
      "cell_type": "code",
      "metadata": {
        "id": "3BkL8r_abA0J"
      },
      "source": [
        "aa = [1, 3, 5, 7]\n",
        "tt = (9, 11, 13)"
      ],
      "execution_count": null,
      "outputs": []
    },
    {
      "cell_type": "markdown",
      "metadata": {
        "id": "1ytJQc-7brEL"
      },
      "source": [
        "### Step 11: in"
      ]
    },
    {
      "cell_type": "code",
      "metadata": {
        "id": "wNHNHkR3bGVG"
      },
      "source": [
        "bb = 4\n",
        "if bb in aa:\n",
        "  print(f\"{bb} found\")\n",
        "else:\n",
        "  print(f\"{bb} not found\")"
      ],
      "execution_count": null,
      "outputs": []
    },
    {
      "cell_type": "markdown",
      "metadata": {
        "id": "OO1z8Ng3b-wo"
      },
      "source": [
        "### Step 12: not in"
      ]
    },
    {
      "cell_type": "code",
      "metadata": {
        "id": "jmoC-op0bd3X"
      },
      "source": [
        "bb = 11\n",
        "if bb not in tt:\n",
        "  print(f\"{bb} not found\")\n",
        "else:\n",
        "  print(f\"{bb} found\")"
      ],
      "execution_count": null,
      "outputs": []
    },
    {
      "cell_type": "markdown",
      "metadata": {
        "id": "i8EzVglxcH7S"
      },
      "source": [
        "## Topic 6(主題6)-Identity Operators\n",
        "* __is__: Evaluates to true if the variables on either side of the operator point to the same object and false otherwise.\n",
        "* __is not__: Evaluates to false if the variables on either side of the operator point to the same object and true otherwise.\n",
        "* __id()__:id()函數返回的是對像在內存中的地址，唯一且不變"
      ]
    },
    {
      "cell_type": "markdown",
      "metadata": {
        "id": "0LR57VPod1Ui"
      },
      "source": [
        "### Step 13: 數值的檢查"
      ]
    },
    {
      "cell_type": "code",
      "metadata": {
        "id": "MB2XaFAdc0hF"
      },
      "source": [
        "a = 20\n",
        "b = 20\n",
        "\n",
        "if ( a is b ):\n",
        "   print(\"a and b have same identity\")\n",
        "else:\n",
        "   print(\"a and b do not have same identity\")"
      ],
      "execution_count": null,
      "outputs": []
    },
    {
      "cell_type": "code",
      "metadata": {
        "id": "AOJuBRzKdVvO"
      },
      "source": [
        "print(id(a))\n",
        "print(id(b))"
      ],
      "execution_count": null,
      "outputs": []
    },
    {
      "cell_type": "markdown",
      "metadata": {
        "id": "UzbjUYX8d6s6"
      },
      "source": [
        "### Step 14: 字串的檢查"
      ]
    },
    {
      "cell_type": "code",
      "metadata": {
        "id": "Q7MIEtTpd-23"
      },
      "source": [
        "a = \"Hello\"\n",
        "b = \"Hello\"\n",
        "print(a)\n",
        "print(b)"
      ],
      "execution_count": null,
      "outputs": []
    },
    {
      "cell_type": "code",
      "metadata": {
        "id": "Ev3zmmXOeG48"
      },
      "source": [
        "if ( a is b ):\n",
        "   print(\"a and b have same identity\")\n",
        "else:\n",
        "   print(\"a and b do not have same identity\")\n",
        "print(id(a))\n",
        "print(id(b))"
      ],
      "execution_count": null,
      "outputs": []
    },
    {
      "cell_type": "code",
      "metadata": {
        "id": "1JrM11B0elnj"
      },
      "source": [
        "a = \"Hello\"\n",
        "b = \"Hello Word\"[0:5]\n",
        "print(a)\n",
        "print(b)"
      ],
      "execution_count": null,
      "outputs": []
    },
    {
      "cell_type": "code",
      "metadata": {
        "id": "pvKCccdteuCU"
      },
      "source": [
        "if ( a is b ):\n",
        "   print(\"a and b have same identity\")\n",
        "else:\n",
        "   print(\"a and b do not have same identity\")\n",
        "print(id(a))\n",
        "print(id(b))"
      ],
      "execution_count": null,
      "outputs": []
    },
    {
      "cell_type": "markdown",
      "metadata": {
        "id": "gwn-9TK5ePJY"
      },
      "source": [
        "### Step 15: 物件的檢查"
      ]
    },
    {
      "cell_type": "code",
      "metadata": {
        "id": "pc1NoDgeeNgU"
      },
      "source": [
        "a = {1, 2, 3}\n",
        "b = {1, 2, 3}\n",
        "print(a)\n",
        "print(b)"
      ],
      "execution_count": null,
      "outputs": []
    },
    {
      "cell_type": "code",
      "metadata": {
        "id": "0dILKvZ5fC2R"
      },
      "source": [
        "if ( a is b ):\n",
        "   print(\"a and b have same identity\")\n",
        "else:\n",
        "   print(\"a and b do not have same identity\")\n",
        "print(id(a))\n",
        "print(id(b))"
      ],
      "execution_count": null,
      "outputs": []
    },
    {
      "cell_type": "code",
      "metadata": {
        "id": "h3hKv2JNebi-"
      },
      "source": [
        "a = {1, 2, 3}\n",
        "b = a\n",
        "print(a)\n",
        "print(b)"
      ],
      "execution_count": null,
      "outputs": []
    },
    {
      "cell_type": "code",
      "metadata": {
        "id": "5Jgo82_8fJvN"
      },
      "source": [
        "if ( a is b ):\n",
        "   print(\"a and b have same identity\")\n",
        "else:\n",
        "   print(\"a and b do not have same identity\")"
      ],
      "execution_count": null,
      "outputs": []
    },
    {
      "cell_type": "markdown",
      "metadata": {
        "id": "qvk7j0bxeQB-"
      },
      "source": [
        "## Topic 7(主題7)-流程控制的複習"
      ]
    },
    {
      "cell_type": "markdown",
      "metadata": {
        "id": "MMfa5JTNeevD"
      },
      "source": [
        "### Step 16: if 條件式\n",
        "<img src=\"https://i0.wp.com/www.alphacodingskills.com/python/img/python-if-elif-else.png\" alt=\"drawing\" width=\"600\"/>\n"
      ]
    },
    {
      "cell_type": "code",
      "metadata": {
        "id": "-c9IHV8UerWp"
      },
      "source": [
        "month = 6\n",
        "if 3<= month and month <= 5:\n",
        "  print (\"Spring\")\n",
        "elif 6<= month and month <= 8:\n",
        "  print (\"Summer\")\n",
        "elif 9<= month and month <= 11:\n",
        "  print (\"Autumn\")  \n",
        "else:\n",
        "  print (\"Winter\")"
      ],
      "execution_count": null,
      "outputs": []
    },
    {
      "cell_type": "markdown",
      "metadata": {
        "id": "EeWIyvZge1U4"
      },
      "source": [
        "### Step 17: For迴圈\n",
        "\n",
        "<img src=\"https://pynative.com/wp-content/uploads/2021/06/python-nested-for-loop.png\" alt=\"drawing\" width=\"600\"/>\n"
      ]
    },
    {
      "cell_type": "code",
      "metadata": {
        "id": "2DrKClHCe6tv"
      },
      "source": [
        "numbers = range(1,10)\n",
        "for a in numbers:\n",
        "  for b in numbers:\n",
        "    print(f'{a:1d}*{b:1d} ={a*b:2d}', end=' ')\n",
        "  print()"
      ],
      "execution_count": null,
      "outputs": []
    },
    {
      "cell_type": "markdown",
      "metadata": {
        "id": "2mSxR6vjfCVs"
      },
      "source": [
        "### Step 18: 字串的切片(子字串和反轉字串)"
      ]
    },
    {
      "cell_type": "code",
      "metadata": {
        "id": "lmUBBtH8fO3t"
      },
      "source": [
        "#    01234567890\n",
        "s = 'hello world'\n",
        "print(s[1:4])"
      ],
      "execution_count": null,
      "outputs": []
    },
    {
      "cell_type": "code",
      "metadata": {
        "id": "k5TadxRWfYr9"
      },
      "source": [
        "#    01234567890\n",
        "s = 'hello world'\n",
        "print(s[:4])"
      ],
      "execution_count": null,
      "outputs": []
    },
    {
      "cell_type": "code",
      "metadata": {
        "id": "f8uqVISVfeOY"
      },
      "source": [
        "#    01234567890 <= positive indexing\n",
        "#             -1 <= negative indexing\n",
        "s = 'hello world'\n",
        "print(s[6:-2])"
      ],
      "execution_count": null,
      "outputs": []
    },
    {
      "cell_type": "code",
      "metadata": {
        "id": "cw1l3YKKftlK"
      },
      "source": [
        "#    01234567890 <= positive indexing\n",
        "s = 'hello world'\n",
        "print(s[1:9:3])"
      ],
      "execution_count": null,
      "outputs": []
    },
    {
      "cell_type": "code",
      "metadata": {
        "id": "Eu3Qhdxrf90E"
      },
      "source": [
        "#    01234567890 <= positive indexing\n",
        "s = 'hello world'\n",
        "print(s[::-1])"
      ],
      "execution_count": null,
      "outputs": []
    }
  ]
}