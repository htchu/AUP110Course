{
  "nbformat": 4,
  "nbformat_minor": 0,
  "metadata": {
    "colab": {
      "name": "AUP110_W18_Notebook.ipynb",
      "provenance": []
    },
    "kernelspec": {
      "name": "python3",
      "display_name": "Python 3"
    },
    "language_info": {
      "name": "python"
    }
  },
  "cells": [
    {
      "cell_type": "markdown",
      "metadata": {
        "id": "s6ihxB30nsJT"
      },
      "source": [
        "![image](https://www.python.org/static/img/python-logo.png)\n",
        "# 亞洲大學基礎程式設計教材(AUP110-Fundamentals of Programming)\n",
        "![Open In Colab](https://colab.research.google.com/assets/colab-badge.svg)\n"
      ]
    },
    {
      "cell_type": "markdown",
      "metadata": {
        "id": "ZPpsBwman_l5"
      },
      "source": [
        "# Week17-M3Test模組三測驗\n",
        "\n",
        "![](https://assets.website-files.com/5e875053aa63f43b4cb8c9d2/5e9306d896104684f079b7c6_training.png)\n",
        "\n",
        "\n",
        "\n"
      ]
    },
    {
      "cell_type": "code",
      "metadata": {
        "id": "NhOcehk8nlcV"
      },
      "source": [
        ""
      ],
      "execution_count": null,
      "outputs": []
    }
  ]
}