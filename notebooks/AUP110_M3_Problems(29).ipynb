{
  "nbformat": 4,
  "nbformat_minor": 0,
  "metadata": {
    "colab": {
      "name": "AUP110_M3Problems(29).ipynb",
      "provenance": [],
      "collapsed_sections": [],
      "toc_visible": true
    },
    "kernelspec": {
      "name": "python3",
      "display_name": "Python 3"
    }
  },
  "cells": [
    {
      "cell_type": "markdown",
      "metadata": {
        "id": "NmNGnQFiHXY5"
      },
      "source": [
        "# AU Fundamentals of Python Programming-110-M3題庫(29)"
      ]
    },
    {
      "cell_type": "markdown",
      "metadata": {
        "id": "NXJ42JfCHnuy"
      },
      "source": [
        "## M3 Problems:Q01-Q05"
      ]
    },
    {
      "cell_type": "markdown",
      "metadata": {
        "id": "psWIOLCgL81f"
      },
      "source": [
        "### M3Q1. 反向字串\n",
        "\n",
        "問題描述：\n",
        "輸入一個字串，並把它反向輸出。\n",
        "\n",
        "輸入說明：\n",
        "輸入一個字串。\n",
        "\n",
        "輸出說明：\n",
        "將輸入字串反向輸出，最後必須有換行字元。\n",
        "\n",
        "| Sample Input:   |      Sample Output:      |\n",
        "|:----------------|:-------------------------|\n",
        "|AsIACSIE | EISCAIsA  ⏎|"
      ]
    },
    {
      "cell_type": "markdown",
      "metadata": {
        "id": "ZLmJcNjzCVTa"
      },
      "source": [
        "<font size=\"10\">&#x0210B;</font>int(祕技):\n",
        "\n",
        "__Input:__輸入是一個字串\n",
        "\n",
        "__Process:__只要一個for-loop\n",
        "\n",
        "__Output:__輸出會用到end=\"\""
      ]
    },
    {
      "cell_type": "code",
      "metadata": {
        "id": "7MVZnOHVIkxk"
      },
      "source": [
        "#程式由此開始\n"
      ],
      "execution_count": null,
      "outputs": []
    },
    {
      "cell_type": "markdown",
      "metadata": {
        "id": "l3-JGMv4L-jg"
      },
      "source": [
        "### M3Q2. 亂數選號程式\n",
        "\n",
        "問題描述：\n",
        "請設計一樂透亂數選號程式，由1~42 中選出6 個不重覆的數字組合並輸出。\n",
        "請使用以下方式：\n",
        "```\n",
        "import random\n",
        "random.seed(10) #seed() 就是設定亂數種子，可以使每次跑出的亂數序列，都會是一樣的。\n",
        "print(random.randint(0, 42)) #randint(begin, end) 隨機選取一個數字\n",
        "```\n",
        "輸入說明：輸入seed。\n",
        "輸出說明：由1~42 中選出6 個不重覆的數字組合並輸出，數字間請以tab 作為間格，最後必須有\n",
        "換行字元。\n",
        "\n",
        "| Sample Input:   |      Sample Output:      |\n",
        "|:----------------|:-------------------------|\n",
        "|23323456 | 30\t29\t18\t4\t2\t37⏎ |"
      ]
    },
    {
      "cell_type": "markdown",
      "metadata": {
        "id": "4Fb27RRYChLm"
      },
      "source": [
        "<font size=\"10\">&#x0210B;</font>int(祕技):\n",
        "\n",
        "__Input:__輸入是一個整數\n",
        "\n",
        "__Process:__用list結構和1個for-loop\n",
        "\n",
        "__Output:__ end=\"\\t\""
      ]
    },
    {
      "cell_type": "code",
      "metadata": {
        "id": "G7MAu2tlImM_"
      },
      "source": [
        "#程式由此開始\n"
      ],
      "execution_count": null,
      "outputs": []
    },
    {
      "cell_type": "markdown",
      "metadata": {
        "id": "qIultu8BMAus"
      },
      "source": [
        "### M3Q3. 陣列行列互換\n",
        "\n",
        "問題描述：宣告一個5*7 的二維整數陣列，使用者輸入陣列元素(0~100)，並將行列互換輸出。\n",
        "\n",
        "輸入說明：輸入陣列元素(0~100)。\n",
        "\n",
        "輸出說明：行列互換輸出，數字以tab 間格，最後必須有換行字元。\n",
        "\n",
        "| Sample Input:   |      Sample Output:      |\n",
        "|:----------------|:-------------------------|\n",
        "|81 7 7 10 97 0 97 |81 90 9 28 5|\n",
        "|90 67 8 25 1 39 34|7 67 54 8 1 |\n",
        "|9 54 63 53 53 55 77|7 8 63 17 95|\n",
        "|28 8 17 50 41 99 89|10 25 53 50 99 |\n",
        "| 5 1 95 99 76 92 60|97 1 53 41 76⏎|\n",
        "|  | 0 39 55 99 92   |\n",
        "|  |97 34 77 89 60  |"
      ]
    },
    {
      "cell_type": "markdown",
      "metadata": {
        "id": "iFWBNnkqC07o"
      },
      "source": [
        "<font size=\"10\">&#x0210B;</font>int(祕技):\n",
        "\n",
        "__Input:__要input()5次，每一次轉成一個list。再把5個list組合成一個list\n",
        "\n",
        "__Process:__2層for-loop\n",
        "\n",
        "__Output:__ end=\"\\t\""
      ]
    },
    {
      "cell_type": "code",
      "metadata": {
        "id": "Or-nYqhUInLu"
      },
      "source": [
        "#程式由此開始\n"
      ],
      "execution_count": null,
      "outputs": []
    },
    {
      "cell_type": "markdown",
      "metadata": {
        "id": "LbKj29d4MCta"
      },
      "source": [
        "### M3Q4. 數字矩陣\n",
        "\n",
        "問題描述：設計一方法 $𝐹(ℎ,w)$ 印出寬𝑤、高ℎ 如下的數字矩陣。(以 𝑤 = 5，ℎ = 3為例)\n",
        "```\n",
        "1 2 3 4 5\n",
        "2 4 6 8 10\n",
        "3 6 9 12 15\n",
        "```\n",
        "其中第二行是第一行的兩倍、第三行是第一行的三倍、以此類推。\n",
        "\n",
        "輸入說明：\n",
        "分別輸入整數寬𝑤、高ℎ。\n",
        "\n",
        "輸出說明：\n",
        "輸出寬𝑤、高ℎ如下的數字矩陣，數字間請以tab 間格，最後必須有換行字元。\n",
        "\n",
        "| Sample Input:   |      Sample Output:      |\n",
        "|:----------------|:-------------------------|\n",
        "|5 3 |1 2 3 4 5|\n",
        "|  | 2 4 6 8 10   |\n",
        "|  |3 6 9 12 15 ⏎ |"
      ]
    },
    {
      "cell_type": "markdown",
      "metadata": {
        "id": "IaZotFQLDFUj"
      },
      "source": [
        "<font size=\"10\">&#x0210B;</font>int(祕技):\n",
        "\n",
        "__Input:__ 輸入是2個整數\n",
        "\n",
        "__Process:__ 定義def F(h,w)和呼叫F(h,w), 2層for-loop\n",
        "\n",
        "__Output:__ end=\"\\t\""
      ]
    },
    {
      "cell_type": "code",
      "metadata": {
        "id": "tXoKbrerIoh0"
      },
      "source": [
        "#程式由此開始\n"
      ],
      "execution_count": null,
      "outputs": []
    },
    {
      "cell_type": "markdown",
      "metadata": {
        "id": "YdYKzP2RME-H"
      },
      "source": [
        "### M3Q5. $𝑪(m,n)$\n",
        "\n",
        "問題描述：\n",
        "輸入兩個整數，輸出$𝑪(m,n)$。\n",
        "$𝑪(m,n)=m!/n!(m-n)!$\n",
        "\n",
        "輸入說明：\n",
        "分別輸入整數 m、n。\n",
        "\n",
        "輸出說明：\n",
        "輸出$𝑪(m,n)$最後必須有換行字元。\n",
        "\n",
        "範例：\n",
        "\n",
        "| Sample Input:   |      Sample Output:      |\n",
        "|:----------------|:-------------------------|\n",
        "|8 6 |28⏎|"
      ]
    },
    {
      "cell_type": "markdown",
      "metadata": {
        "id": "-4paBmiVDjgR"
      },
      "source": [
        "<font size=\"10\">&#x0210B;</font>int(祕技):\n",
        "\n",
        "__Input:__ 輸入是2個整數\n",
        "\n",
        "__Process:__\n",
        "\n",
        "__Output:__"
      ]
    },
    {
      "cell_type": "code",
      "metadata": {
        "id": "Lb4r9rSrIqKj"
      },
      "source": [
        "#程式由此開始\n"
      ],
      "execution_count": null,
      "outputs": []
    },
    {
      "cell_type": "markdown",
      "metadata": {
        "id": "evBNVv9vHqNz"
      },
      "source": [
        "## M3 Problems:Q06-Q10"
      ]
    },
    {
      "cell_type": "markdown",
      "metadata": {
        "id": "gF5Z6EUtcOfT"
      },
      "source": [
        "### M3Q06 數字拆解方法\n",
        "問題描述：\n",
        "輸入一串數字，寫出一數字拆解方法，將其個別數字用空白分開。\n",
        "\n",
        "輸入說明：\n",
        "輸入一串數字n。\n",
        "\n",
        "輸出說明：\n",
        "透過拆解方法，將個別數字用空白分開，最後必須有換行字元。\n",
        "\n",
        "範例：\n",
        "\n",
        "| Sample Input:   |      Sample Output:      |\n",
        "|:----------------|:-------------------------|\n",
        "|4562 |4 5 6 2⏎|\n",
        "|128917178 |1 2 8 9 1 7 1 7 8⏎|\n",
        "|8279 |8 2 7 9⏎|"
      ]
    },
    {
      "cell_type": "markdown",
      "metadata": {
        "id": "vlkHBXlxDpYC"
      },
      "source": [
        "<font size=\"10\">&#x0210B;</font>int(祕技):\n",
        "\n",
        "__Input:__ 輸入是1個整數\n",
        "\n",
        "__Process:__ 定義一個get_digits(n)函數\n",
        "\n",
        "__Output:__"
      ]
    },
    {
      "cell_type": "code",
      "metadata": {
        "id": "vuMR1YxNIrkD"
      },
      "source": [
        "#程式由此開始\n"
      ],
      "execution_count": null,
      "outputs": []
    },
    {
      "cell_type": "markdown",
      "metadata": {
        "id": "Wk7LjJ8DcToE"
      },
      "source": [
        "### M3Q07 學號排序\n",
        "問題描述：\n",
        "某個檔案中含有所有學生的學號，但並沒有按照大小次序排列。請寫一程式依學號大小排列並將結果輸出。\n",
        "\n",
        "輸入說明：\n",
        "輸入n 組學號，並輸入n 組學號 (資料型態: long)。\n",
        "\n",
        "輸出說明：\n",
        "依學號大小排列(由小至大)並將結果輸出，最後必須有換行字元。\n",
        "\n",
        "\n",
        "\n",
        "範例：\n",
        "\n",
        "| Sample Input:   |      Sample Output:      |\n",
        "|:----------------|:-------------------------|\n",
        "|3 |102033058|\n",
        "|103021020 |103021020|\n",
        "|105074011 |105074011⏎|\n",
        "|102033058 | |"
      ]
    },
    {
      "cell_type": "markdown",
      "metadata": {
        "id": "OhGR6_86Dqc1"
      },
      "source": [
        "<font size=\"10\">&#x0210B;</font>int(祕技):\n",
        "\n",
        "__Input:__ 輸入是4行，用List放學號的字串\n",
        "\n",
        "__Process:__ 使用sorted()函數\n",
        "\n",
        "__Output:__"
      ]
    },
    {
      "cell_type": "code",
      "metadata": {
        "id": "YlJ67Nq-Isym"
      },
      "source": [
        "#程式由此開始\n"
      ],
      "execution_count": null,
      "outputs": []
    },
    {
      "cell_type": "markdown",
      "metadata": {
        "id": "lqefXJ5lcUi3"
      },
      "source": [
        "### M3Q08 陣列平方\n",
        "\n",
        "問題描述：\n",
        "撰寫一方法square(arr)，在呼叫square(arr)方法後，一維陣列arr 裡的每一個元素皆會\n",
        "被平方。\n",
        "\n",
        "輸入說明：\n",
        "連續輸入多個正整數，並存至陣列arr。\n",
        "\n",
        "輸出說明：\n",
        "呼叫square(arr) 函數後，一維陣列arr 裡的每一個元素皆會被平方，並輸出結果，數\n",
        "字以 tab 間格，最後必須有換行字元。\n",
        "\n",
        "範例：\n",
        "\n",
        "| Sample Input:   |      Sample Output:      |\n",
        "|:----------------|:-------------------------|\n",
        "|1 3 5 7 |1 9 25 49⏎|"
      ]
    },
    {
      "cell_type": "markdown",
      "metadata": {
        "id": "jWBfXjrzDt7Q"
      },
      "source": [
        "<font size=\"10\">&#x0210B;</font>int(祕技):\n",
        "\n",
        "__Input:__ 輸入一行直接轉成一個list\n",
        "\n",
        "__Process:__ 定義一個square(arr)及呼叫square()\n",
        "\n",
        "__Output:__"
      ]
    },
    {
      "cell_type": "code",
      "metadata": {
        "id": "nBE3DA7tIuYz"
      },
      "source": [
        "#程式由此開始\n"
      ],
      "execution_count": null,
      "outputs": []
    },
    {
      "cell_type": "markdown",
      "metadata": {
        "id": "3DUbAeWrcVe_"
      },
      "source": [
        "### M3Q09 氣泡排序法\n",
        "問題描述：\n",
        "寫出氣泡排序法的程式將輸入的數字排序。\n",
        "\n",
        "輸入說明：\n",
        "輸入數個數字。\n",
        "\n",
        "輸出說明：\n",
        "以氣泡排序法排序後輸出結果，數字以空白間格，最後必須有換行字元。\n",
        "\n",
        "\n",
        "範例：\n",
        "\n",
        "| Sample Input:   |      Sample Output:      |\n",
        "|:----------------|:-------------------------|\n",
        "|3 9 4 2 5 |2 3 4 5 9⏎|"
      ]
    },
    {
      "cell_type": "markdown",
      "metadata": {
        "id": "3KRqCT4xDv_2"
      },
      "source": [
        "<font size=\"10\">&#x0210B;</font>int(祕技):\n",
        "參考： https://en.wikipedia.org/wiki/Bubble_sort\n",
        "\n",
        "__Input:__ 輸入一行直接轉成一個list\n",
        "\n",
        "__Process:__ 定義一個bubbleSort()函數及呼叫\n",
        "\n",
        "__Output:__"
      ]
    },
    {
      "cell_type": "code",
      "metadata": {
        "id": "fTsPjymwIvzU"
      },
      "source": [
        "#程式由此開始\n"
      ],
      "execution_count": null,
      "outputs": []
    },
    {
      "cell_type": "markdown",
      "metadata": {
        "id": "MN2nDavOcWpY"
      },
      "source": [
        "### M3Q10 連續元素相乘極大值\n",
        "問題描述：\n",
        "一個整數陣列中有正數、負數與 0。請寫一程式找出這個陣列中連續的元素相乘的極大值。\n",
        "\n",
        "輸入說明：\n",
        "輸入 N 個元素的數列。。\n",
        "\n",
        "輸出說明：\n",
        "輸出陣列中連續元素相乘的最大值，最後必須有換行字元。\n",
        "\n",
        "範例：\n",
        "\n",
        "| Sample Input:   |      Sample Output:      |\n",
        "|:----------------|:-------------------------|\n",
        "|1 2 4 -4 9 7 |63⏎|"
      ]
    },
    {
      "cell_type": "markdown",
      "metadata": {
        "id": "ZkuPDgjcDx2U"
      },
      "source": [
        "<font size=\"10\">&#x0210B;</font>int(祕技):\n",
        "\n",
        "參考: https://leetcode-cn.com/problems/maximum-product-subarray/solution/\n",
        "\n",
        "__Input:__ 輸入一行直接轉成一個list\n",
        "\n",
        "__Process:__ 因為數字可能是負的，可能負負得正\n",
        "\n",
        "__Output:__"
      ]
    },
    {
      "cell_type": "code",
      "metadata": {
        "id": "gTjzpgkegJkz"
      },
      "source": [
        "#程式由此開始\n"
      ],
      "execution_count": null,
      "outputs": []
    },
    {
      "cell_type": "markdown",
      "metadata": {
        "id": "7wlkzLnAHqgd"
      },
      "source": [
        "## M3 Problems:Q11-Q15"
      ]
    },
    {
      "cell_type": "markdown",
      "metadata": {
        "id": "21njLIiCIE37"
      },
      "source": [
        "### M3Q11. 連續元素和0\n",
        "問題描述：\n",
        "一個整數陣列中有正數、負數與 0，而且元素也不重複。請寫一程式找出這個陣列中\n",
        "連續的若干元素，其和為 0。例如：1、2、3、-5、4 中， 2、3、-5 和為 0。\n",
        "\n",
        "輸入說明：\n",
        "分別輸入陣列大小N 及具有N 個元素的數列。\n",
        "\n",
        "輸出說明：\n",
        "請找出陣列連續的若干元素其和為 0，並輸出結果，數字以空白間格，最後必須有換\n",
        "行字元。\n",
        "\n",
        "| Sample Input:   |      Sample Output:      |\n",
        "|:----------------|:-------------------------|\n",
        "| 1 2 3 -5 4  | 2 3 -5 ⏎|"
      ]
    },
    {
      "cell_type": "markdown",
      "metadata": {
        "id": "rCfPBrLvD2Hz"
      },
      "source": [
        "<font size=\"10\">&#x0210B;</font>int(祕技):\n",
        "\n",
        "__Input:__ 輸入一行直接轉成一個list\n",
        "\n",
        "__Process:__ 使用字典記錄累加的值\n",
        "\n",
        "__Output:__"
      ]
    },
    {
      "cell_type": "code",
      "metadata": {
        "id": "0ohsTBWrIHP1"
      },
      "source": [
        "#程式由此開始\n"
      ],
      "execution_count": null,
      "outputs": []
    },
    {
      "cell_type": "markdown",
      "metadata": {
        "id": "j5b08Gk7IHln"
      },
      "source": [
        "### M3Q12. 找尋同元素\n",
        "\n",
        "問題描述：\n",
        "已知兩個整數陣列f 與g，它們的元素都已經自小到大排好，而且兩個陣列的元素都各\n",
        "自不相同。譬如f 有1、3、4、7、9，g 有3、5、7、8、10。請寫一程式算出這兩個陣\n",
        "列彼此之間有多少組相同的資料。以上例而言，f[2]與g[1]均為3，是第一組。f[4]與\n",
        "g[3]均為7，是第二組。\n",
        "\n",
        "輸入說明：\n",
        "輸入兩個分別具有 N1 個元素與N2 個元素的數列。\n",
        "\n",
        "輸出說明：\n",
        "兩陣列中分別都有出現的元素有多少組。\n",
        "\n",
        "| Sample Input:   |      Sample Output:      |\n",
        "|:----------------|:-------------------------|\n",
        "| 2 3 3 2 3 4 5 6 | 2⏎|\n",
        "|3 3 1 -1 4 7||"
      ]
    },
    {
      "cell_type": "markdown",
      "metadata": {
        "id": "pi4-gmTFEBK4"
      },
      "source": [
        "<font size=\"10\">&#x0210B;</font>int(祕技):\n",
        "\n",
        "__Input:__ 輸入2行直接轉成2個list\n",
        "\n",
        "__Process:__ 使用集合 {}\n",
        "\n",
        "__Output:__"
      ]
    },
    {
      "cell_type": "code",
      "metadata": {
        "id": "esutHg5DIL8j"
      },
      "source": [
        "#程式由此開始\n"
      ],
      "execution_count": null,
      "outputs": []
    },
    {
      "cell_type": "markdown",
      "metadata": {
        "id": "u1uXXKNJIMEs"
      },
      "source": [
        "### M3Q13. 萬年曆\n",
        "\n",
        "問題描述：\n",
        "請設計一個萬年曆,可以輸入任意年份(year)及月份(month)，印出該月份月曆。\n",
        "以 2001 年 3 月份為例，格式如下：\n",
        "\n",
        "| SU MO TU WE TH FR SA |\n",
        "|:-------------------------|\n",
        "|&nbsp;&nbsp;&nbsp;&nbsp;&nbsp;&nbsp;&nbsp;&nbsp;&nbsp;&nbsp;&nbsp;&nbsp;&nbsp;&nbsp;&nbsp;&nbsp;&nbsp;&nbsp;&nbsp;&nbsp;&nbsp;&nbsp;&nbsp;&nbsp;&nbsp;&nbsp;&nbsp;&nbsp;1&nbsp;&nbsp;&nbsp; 2&nbsp;&nbsp;&nbsp; 3|\n",
        "|&nbsp;&nbsp;4 &nbsp;&nbsp;&nbsp;5 &nbsp;&nbsp;&nbsp;6 &nbsp;&nbsp;&nbsp;7 &nbsp;&nbsp;&nbsp;8 &nbsp;&nbsp;&nbsp;9&nbsp;&nbsp; 10|\n",
        "|11&nbsp; 12 &nbsp;13 &nbsp;14&nbsp; 15 &nbsp;16&nbsp; 17|\n",
        "|18&nbsp; 19 &nbsp;20 &nbsp;21 &nbsp;22 &nbsp;23 &nbsp;24|\n",
        "|25&nbsp; 26&nbsp; 27&nbsp; 28&nbsp; 29&nbsp; 30&nbsp; 31|\n",
        "\n",
        "1. 一年中每月日數如下表，潤年二月份29 日、平年28 日\n",
        "\n",
        "| 月份  |  1 | 2  |  3 | 4  |  5 | 6  |  7 | 8  | 9 | 10  | 11 | 12 |\n",
        "|---|---|---|---|---|---|---|---|---|---|---|---|---|\n",
        "| 日數  |31| 28| 31| 30| 31| 30| 31| 31| 30| 31| 30| 31  |\n",
        "\n",
        "2. 潤年之判斷為 4 年一潤，逢 100 年不潤，逢 400 年又潤\n",
        "3. 故西元 1 年 1 月 1 日為星期一，而一年有 52 個星期零 1 天，故西元 2 年 1\n",
        "月 1 日為星期二，以此類推)\n",
        "\n",
        "輸入說明：\n",
        "輸入年份(year)及月份(month)。\n",
        "\n",
        "輸出說明：\n",
        "輸出該月份月曆，每個數字間請以tab 間格，最後必須有換行字元。\n",
        "\n",
        "\n",
        "| Sample Input:   |      Sample Output:      |\n",
        "|:----------------|:-------------------------|\n",
        "| 2001 3 | SU MO TU WE TH FR SA |\n",
        "||&nbsp;&nbsp;&nbsp;&nbsp;&nbsp;&nbsp;&nbsp;&nbsp;&nbsp;&nbsp;&nbsp;&nbsp;&nbsp;&nbsp;&nbsp;&nbsp;&nbsp;&nbsp;&nbsp;&nbsp;&nbsp;&nbsp;&nbsp;&nbsp;&nbsp;&nbsp;&nbsp;&nbsp;1&nbsp;&nbsp;&nbsp; 2&nbsp;&nbsp;&nbsp; 3|\n",
        "||&nbsp;&nbsp;4 &nbsp;&nbsp;&nbsp;5 &nbsp;&nbsp;&nbsp;6 &nbsp;&nbsp;&nbsp;7 &nbsp;&nbsp;&nbsp;8 &nbsp;&nbsp;&nbsp;9&nbsp;&nbsp; 10|\n",
        "||11&nbsp; 12 &nbsp;13 &nbsp;14&nbsp; 15 &nbsp;16&nbsp; 17|\n",
        "||18&nbsp; 19 &nbsp;20 &nbsp;21 &nbsp;22 &nbsp;23 &nbsp;24|\n",
        "||25&nbsp; 26&nbsp; 27&nbsp; 28&nbsp; 29&nbsp; 30&nbsp; 31⏎|"
      ]
    },
    {
      "cell_type": "markdown",
      "metadata": {
        "id": "qNRpDVi5ECjr"
      },
      "source": [
        "<font size=\"10\">&#x0210B;</font>int(祕技):\n",
        "\n",
        "__Input:__ 輸入是2個整數\n",
        "\n",
        "__Process:__ calendar.monthrange()函數可以知道每個月的第一天星期幾和有幾天\n",
        "\n",
        "__Output:__"
      ]
    },
    {
      "cell_type": "code",
      "metadata": {
        "id": "wqiJsX8CGbZD"
      },
      "source": [
        "#程式由此開始\n"
      ],
      "execution_count": null,
      "outputs": []
    },
    {
      "cell_type": "code",
      "metadata": {
        "id": "M_qYgMu2IQ9p"
      },
      "source": [
        ""
      ],
      "execution_count": null,
      "outputs": []
    },
    {
      "cell_type": "markdown",
      "metadata": {
        "id": "WRSmnbRXLeSH"
      },
      "source": [
        "### M3Q14. 陣列A[n][n]、B[n][n]\n",
        "\n",
        "問題描述：\n",
        "讓使用者輸入一正整數 n，並輸出兩個二維陣列A[n][n]、B[n][n] 如下：(不要只用\n",
        "printf，嘗試用迴圈或其他方法)\n",
        "\n",
        "輸入說明：\n",
        "輸入一正整數 n\n",
        "\n",
        "輸出說明：\n",
        "輸出兩個二維陣列A[n][n]、B[n][n]，每個數字間請以 tab 間格，最後必須有換行字元。\n",
        "\n",
        "| Sample Input:   |      Sample Output:      |\n",
        "|:----------------|:-------------------------|\n",
        "| 5| 1 2 3 4 5|\n",
        "||10 9 8 7 6|\n",
        "||11 12 13 14 15|\n",
        "||20 19 18 17 16|\n",
        "||21 22 23 24 25|\n",
        "||1 10 11 20 21|\n",
        "||2 9 12 19 22|\n",
        "||3 8 13 18 23|\n",
        "||4 7 14 17 24|\n",
        "||5 6 15 16 25|\n",
        "|  | ⏎|"
      ]
    },
    {
      "cell_type": "markdown",
      "metadata": {
        "id": "rNKvNJ_ZED9q"
      },
      "source": [
        "<font size=\"10\">&#x0210B;</font>int(祕技):\n",
        "\n",
        "__Input:__ 輸入是1個整數\n",
        "\n",
        "__Process:__ 二層的for-loop\n",
        "\n",
        "__Output:__"
      ]
    },
    {
      "cell_type": "code",
      "metadata": {
        "id": "DHgR2CUyLh5l"
      },
      "source": [
        "#程式由此開始\n"
      ],
      "execution_count": null,
      "outputs": []
    },
    {
      "cell_type": "markdown",
      "metadata": {
        "id": "HNuH-p6aLgxa"
      },
      "source": [
        "### M3Q15. 矩陣的乘法\n",
        "問題描述：\n",
        "寫一程式計算兩個矩陣的乘法，例如 A 是 n1 x m1 的矩陣， B 是 n2 x m2 的矩陣，\n",
        "C=AB 為 n1 x m2 矩陣。\n",
        "\n",
        "輸入說明：\n",
        "第一列輸入n1、m1、n2 及m2 等4 個整數，n1、m1 是第一個陣列的列(row)與行(column)，\n",
        "而n2、m2 則是第二個陣列的列(row)與行(column)，其中m2 = n2。接著輸入兩個陣列\n",
        "的內容。\n",
        "\n",
        "輸出說明：\n",
        "輸出矩陣相乘後的結果，最後必須有換行字元。\n",
        "\n",
        "| Sample Input:   |      Sample Output:      |\n",
        "|:----------------|:-------------------------|\n",
        "| 3 2 2 3    | 9 2 -1 |\n",
        "| 1 4    | 8 4 3   |\n",
        "| 2 3  | 7 6 7  ⏎|\n",
        "| 3 2  | |\n",
        "|1 2 3||\n",
        "|2 0 -1||"
      ]
    },
    {
      "cell_type": "markdown",
      "metadata": {
        "id": "pLf8dSiXEFlB"
      },
      "source": [
        "<font size=\"10\">&#x0210B;</font>int(祕技):\n",
        "\n",
        "__Input:__ 輸入是m1+m2+1行\n",
        "\n",
        "__Process:__ 使用3層的for-loop計算i-row*j-column\n",
        "\n",
        "__Output:__"
      ]
    },
    {
      "cell_type": "code",
      "metadata": {
        "id": "4wqw1uVw7Nyy"
      },
      "source": [
        "#程式由此開始\n"
      ],
      "execution_count": null,
      "outputs": []
    },
    {
      "cell_type": "markdown",
      "metadata": {
        "id": "oHoxFXm8Hqjl"
      },
      "source": [
        "## M3 Problems:Q16-Q20"
      ]
    },
    {
      "cell_type": "markdown",
      "metadata": {
        "id": "-IZaqtIYcZYL"
      },
      "source": [
        "### M3Q16 矩陣數字顯示\n",
        "問題描述：\n",
        "現有一可顯示四位數字的 LED 燈一組，可根據輸入的四位數字顯示數字。比如說，\n",
        "由鍵盤輸入 1234 ，則可在螢幕上顯示\n",
        "\n",
        "\n",
        "輸入說明：\n",
        "輸入格式為四個整數。\n",
        "\n",
        "輸出說明：\n",
        "輸出值為輸入值的矩陣數字，最後必須有換行字元。"
      ]
    },
    {
      "cell_type": "markdown",
      "metadata": {
        "id": "fJB359-QEHEb"
      },
      "source": [
        "<font size=\"10\">&#x0210B;</font>int(祕技):\n",
        "\n",
        "__Input:__ 輸入是1個字串轉成4個數字的list\n",
        "\n",
        "__Process:__掃描每一列，看那個pixel屬於哪一個數字\n",
        "\n",
        "__Output:__"
      ]
    },
    {
      "cell_type": "code",
      "metadata": {
        "id": "bTgZz8EiC8WT"
      },
      "source": [
        "#程式由此開始\n"
      ],
      "execution_count": null,
      "outputs": []
    },
    {
      "cell_type": "markdown",
      "metadata": {
        "id": "xWNhaLC_cbSr"
      },
      "source": [
        "### M3Q17 遞迴程式練習\n",
        "\n",
        "問題描述：\n",
        "給定下列遞迴函式：\n",
        "\\begin{cases}\n",
        "f(n)=n+1 \\:when\\:  n=1\\\\\n",
        "f(n)=f(n-1) + f(\\lfloor n/2\\rfloor) \\:when\\:  n>1\n",
        "\\end{cases}\n",
        "\n",
        "\n",
        "請計算出$𝑓(n)$。\n",
        "\n",
        "輸入說明：\n",
        "輸入值為一個大於1 的整數𝑛。\n",
        "\n",
        "輸出說明：\n",
        "輸出$𝑓(n)$計算結果，最後必須有換行字元。\n",
        "\n",
        "範例：\n",
        "\n",
        "| Sample Input:   |      Sample Output:      |\n",
        "|:----------------|:-------------------------|\n",
        "|10 |60⏎|\n",
        "|12 |94⏎|"
      ]
    },
    {
      "cell_type": "markdown",
      "metadata": {
        "id": "75TGR3wZEI0C"
      },
      "source": [
        "<font size=\"10\">&#x0210B;</font>int(祕技):\n",
        "\n",
        "__Input:__ 輸入是1個整數\n",
        "\n",
        "__Process:__ 遞迴函數是函數的定義中會呼叫函數本身\n",
        "\n",
        "__Output:__"
      ]
    },
    {
      "cell_type": "code",
      "metadata": {
        "id": "zLc1u1zsJGWl"
      },
      "source": [
        "#程式由此開始\n"
      ],
      "execution_count": null,
      "outputs": []
    },
    {
      "cell_type": "markdown",
      "metadata": {
        "id": "PNofXDG_ccLZ"
      },
      "source": [
        "### M3Q18 撲克牌大小\n",
        "\n",
        "問題描述：\n",
        "撲克牌的遊戲有很多種，像是大老二、撿紅點等。然而，現在您要參與的是比大小遊\n",
        "戲，每張牌各有其花色和數字，大小比較主要以花色為主，黑桃 > 紅心 > 方塊 > 梅\n",
        "花；倘若花色相同時，則比較數字。\n",
        "\n",
        "輸入說明：\n",
        "第一列的整數，代表撲克牌的疊數，其後有若干列，每列即為一疊牌的內容，每張牌\n",
        "分別以英文、數字作表示，其中 S 代表黑桃、 H 代表紅心、 D 代表方塊、 C 代表\n",
        "梅花。每筆資料分別以空白隔開。\n",
        "\n",
        "輸出說明：\n",
        "印出排列過後的撲克牌。一行是一疊牌， 每張牌以空白隔開，最後必須有換行字元。\n",
        "\n",
        "\n",
        "\n",
        "範例：\n",
        "\n",
        "| Sample Input:   |      Sample Output:      |\n",
        "|:----------------|:-------------------------|\n",
        "|4|S2 H5 D4 C13|\n",
        "|H5 D4 S2 C13|S3 H7 D10 D8 C12|\n",
        "|D8 S3 D10 C12 H7 |S3 H6|\n",
        "|H6 S3 |S1 D11 C5|\n",
        "|C5 D11 S1 |⏎ |"
      ]
    },
    {
      "cell_type": "markdown",
      "metadata": {
        "id": "0yUVbrKJEJ3g"
      },
      "source": [
        "<font size=\"10\">&#x0210B;</font>int(祕技):\n",
        "\n",
        "__Input:__ 輸入是數排的文字和數字組合\n",
        "\n",
        "__Process:__ 計算時需拆解 \"H\", \"D\", \"S\", 和\"C\"，轉換成數字\n",
        "\n",
        "__Output:__"
      ]
    },
    {
      "cell_type": "code",
      "metadata": {
        "id": "IDxxixHnKR7o"
      },
      "source": [
        "#程式由此開始\n",
        " "
      ],
      "execution_count": null,
      "outputs": []
    },
    {
      "cell_type": "markdown",
      "metadata": {
        "id": "2rECmT30cdJB"
      },
      "source": [
        "### M3Q19 判斷是否為迴文\n",
        "問題描述：\n",
        "迴文是指從前面讀和從後面讀都相同的一個數字或一段文字。例如下列輸入都是迴文：\n",
        "\n",
        "123321、qwerewq、123ewqqwe321。請撰寫一個程式，判斷它是否迴文。\n",
        "\n",
        "輸入說明：\n",
        "輸入一個字串。\n",
        "\n",
        "輸出說明：\n",
        "迴文印出YES、非迴文印出NO，最後必須有換行字元。\n",
        "\n",
        "\n",
        "範例：\n",
        "\n",
        "| Sample Input:   |      Sample Output:      |\n",
        "|:----------------|:-------------------------|\n",
        "|123321|YES⏎|\n",
        "|1556551|YES⏎|\n",
        "|1244221|NO⏎|"
      ]
    },
    {
      "cell_type": "markdown",
      "metadata": {
        "id": "5b-qRu1jEMBg"
      },
      "source": [
        "<font size=\"10\">&#x0210B;</font>int(祕技):\n",
        "\n",
        "__Input:__ 輸入是1個字串\n",
        "\n",
        "__Process:__\n",
        "\n",
        "__Output:__"
      ]
    },
    {
      "cell_type": "code",
      "metadata": {
        "id": "ZP2s1q3qPMkI"
      },
      "source": [
        "#程式由此開始\n"
      ],
      "execution_count": null,
      "outputs": []
    },
    {
      "cell_type": "markdown",
      "metadata": {
        "id": "A2HltRxXceML"
      },
      "source": [
        "### M3Q20 文字及字母出現次數\n",
        "問題描述：\n",
        "在電腦科學上 ，計算一串文字上各個字母出現的頻率是常被用到的技術，這對壓縮來\n",
        "講是很重要的資訊，而計算字數也可以幫助人們作校正的工具。一行文字被空白、逗\n",
        "點或是句點所分隔而形成很多字，例如“I have a pencil.” 這行字就有I、have、a、pencil\n",
        "這四個字，即此行字數為 4 。所以現在要請你幫忙設計一個程式來計算一行文字的字\n",
        "數及各個字母出現的次數。\n",
        "\n",
        "輸入說明：\n",
        "輸入一行正常的英文文字，也就是不要有開頭是空白或是有連續兩個 空白的情形發生，\n",
        "並且內容只能包含英文字母、空白、逗點、句點。 注意 : 輸入的字串長度最多是 100 。\n",
        "\n",
        "輸出說明：\n",
        "第一行輸出一個正整數 n ，表示此行文字的字數。 第二行開始依序輸出在此行文字\n",
        "中有出現的字母及出現的次數，最後必須有換行字元。\n",
        "注意 : 大小寫要分開計算。\n",
        "\n",
        "\n",
        "範例：\n",
        "\n",
        "| Sample Input:   |      Sample Output:      |\n",
        "|:----------------|:-------------------------|\n",
        "|I had a dog |4|\n",
        "||I=1|\n",
        "||a=2|\n",
        "||d=2|\n",
        "||g=1|\n",
        "||h=1|\n",
        "||o=1⏎|"
      ]
    },
    {
      "cell_type": "markdown",
      "metadata": {
        "id": "3aUNOGvLENjt"
      },
      "source": [
        "<font size=\"10\">&#x0210B;</font>int(祕技):\n",
        "\n",
        "__Input:__ 輸入是1個字串，切成幾個字\n",
        "\n",
        "__Process:__\n",
        "\n",
        "__Output:__"
      ]
    },
    {
      "cell_type": "code",
      "metadata": {
        "id": "G6uCyfLbQJgs"
      },
      "source": [
        "#程式由此開始\n"
      ],
      "execution_count": null,
      "outputs": []
    },
    {
      "cell_type": "markdown",
      "metadata": {
        "id": "wlQRTvvDHqmt"
      },
      "source": [
        "## M3 Problems:Q21-Q25"
      ]
    },
    {
      "cell_type": "markdown",
      "metadata": {
        "id": "nNDrDtUMMUEB"
      },
      "source": [
        "### M3Q21. 圈圈叉叉\n",
        "\n",
        "問題描述：\n",
        "OX 遊戲是大家小時候的童年記憶，甚至在長大後，無聊時還是會玩一下呢 ! 但當你\n",
        "一個人時，是否也能讓電腦跟你玩呢 ?\n",
        "\n",
        "輸入說明：\n",
        "輸入一個 3*3 的 2 維矩陣，矩陣內容， 0 代表 O ， 1 代表 X 。註：每列數字之\n",
        "間均有空格隔開。\n",
        "\n",
        "輸出說明：\n",
        "輸出這場 OX 遊戲是否有勝負之分，最後必須有換行字元。\n",
        "\n",
        "| Sample Input:   |      Sample Output:      |\n",
        "|:----------------|:-------------------------|\n",
        "|1 0 1 | True⏎   |\n",
        "|0 0 1||\n",
        "|1 0 0||\n",
        "|1 0 0|False⏎ |\n",
        "|0 1 1||\n",
        "|0 1 0||"
      ]
    },
    {
      "cell_type": "markdown",
      "metadata": {
        "id": "Qy8oFF4GEO2u"
      },
      "source": [
        "<font size=\"10\">&#x0210B;</font>int(祕技):\n",
        "\n",
        "__Input:__ 輸入是三行的3個數字, \n",
        "\n",
        "__Process:__\n",
        "\n",
        "__Output:__"
      ]
    },
    {
      "cell_type": "code",
      "metadata": {
        "id": "iEYC2sk_MU4O"
      },
      "source": [
        "#程式由此開始\n"
      ],
      "execution_count": null,
      "outputs": []
    },
    {
      "cell_type": "markdown",
      "metadata": {
        "id": "orTAgycrMVCo"
      },
      "source": [
        "### M3Q22. 各位數和排序\n",
        "\n",
        "問題描述：\n",
        "輸入一整數N 及N 個整數，請依照十進位中各位數字和由小到大排序輸出。如果各位\n",
        "數字和相等則比較數值由小到大排列。例如： 9122 的各位數字和為 9+1+2+2=14、3128\n",
        "的各位數字和為 3+1+2+8=14 而5112 的各位數字和為 5+1+1+2=9。所以輸入 9122\n",
        "3128 5112 需輸出 5112 3128 9122 ，這是因為 5112(9) < 3128(14) < 9122(14)，其中又\n",
        "因為 3128 與 9122 兩者的各位數字和都是 14，所以將 數值小的 3128 放前面。\n",
        "\n",
        "輸入說明：\n",
        "第一行輸入 N ，第二行輸入 N 個整數，用空白隔開，N<10。\n",
        "\n",
        "輸出說明：\n",
        "輸出排序結果用 tab 空格隔開，最後必須有換行字元。\n",
        "\n",
        "| Sample Input:   |      Sample Output:      |\n",
        "|:----------------|:-------------------------|\n",
        "|9122 3128 5112|5112 3128 9122⏎|\n",
        "|1725 3821 2011 1428|2011 3821 1428 1725⏎ |"
      ]
    },
    {
      "cell_type": "markdown",
      "metadata": {
        "id": "-Z-P5jhIEQE9"
      },
      "source": [
        "<font size=\"10\">&#x0210B;</font>int(祕技):\n",
        "\n",
        "__Input:__ 輸入是數個整數\n",
        "\n",
        "__Process:__ 使用字典記錄\n",
        "\n",
        "__Output:__"
      ]
    },
    {
      "cell_type": "code",
      "metadata": {
        "id": "opXowzy_MYFD"
      },
      "source": [
        "#程式由此開始\n"
      ],
      "execution_count": null,
      "outputs": []
    },
    {
      "cell_type": "markdown",
      "metadata": {
        "id": "g3urLfQLMYZe"
      },
      "source": [
        "### M3Q23. 哥德巴赫猜想\n",
        "問題描述：\n",
        "在1742 年一個德國業餘數學家Christian Goldbach，他作了以下的猜測：任何一個比4\n",
        "大的偶數一定能夠找到2 個質數使其和相等。\n",
        "* 8=3+5(3 和5 都是質數)\n",
        "* 20=3+17=7+13\n",
        "* 42=5+37=11+31=13+29=19+23\n",
        "\n",
        "輸入說明：\n",
        "輸入一個偶數。\n",
        "\n",
        "輸出說明：\n",
        "輸出所有可能結果，最後必須有換行字元。\n",
        "\n",
        "\n",
        "| Sample Input:   |      Sample Output:      |\n",
        "|:----------------|:-------------------------|\n",
        "|8 | 3+5 ⏎  |\n",
        "|42|5+37|\n",
        "||11+31|\n",
        "||13+29|\n",
        "||19+23⏎|"
      ]
    },
    {
      "cell_type": "markdown",
      "metadata": {
        "id": "eJSDg-HcEROw"
      },
      "source": [
        "<font size=\"10\">&#x0210B;</font>int(祕技):\n",
        "\n",
        "__Input:__ 輸入是1個偶數\n",
        "\n",
        "__Process:__ 二層for-loop, 窮舉所有的二個數相加，是否都為質數\n",
        "\n",
        "__Output:__"
      ]
    },
    {
      "cell_type": "code",
      "metadata": {
        "id": "KXbcKpRVMbZS"
      },
      "source": [
        "#程式由此開始\n"
      ],
      "execution_count": null,
      "outputs": []
    },
    {
      "cell_type": "markdown",
      "metadata": {
        "id": "VxP8E06EMbh2"
      },
      "source": [
        "### M3Q24. 身分證驗證器\n",
        "\n",
        "問題描述：\n",
        "設計一個程式可以檢查身分證字號的正確性 ( 應檢查性別欄及檢查碼是否正確 ) 。\n",
        "身分證字號共有十個碼，且有一定的編碼規則，其檢查編碼的規則如下：\n",
        "\n",
        "\n",
        "|A1   |  N1 |N2  |N3   |N4   |N5   |N6  |N7  |N8  |N9   |\n",
        "|:---|:---|:---|:---|:---|:---|:---|:---|:---|:---|\n",
        "|英文 | 1:代表男生 2:代表女生   ||||||||檢查碼|\n",
        "\n",
        "其中檢查碼的計算方法如下：\n",
        "\n",
        "http://www2.lssh.tp.edu.tw/~hlf/class-1/lang-c/id/index.htm\n",
        "\n",
        "輸入說明：\n",
        "輸入身分證字號，第一碼為英文大寫。\n",
        "\n",
        "輸出說明：\n",
        "若身分證字號正確，印出「CORRECT!!!」；不正確則印出「WRONG!!!」，最後必須有\n",
        "換行字元。\n",
        "\n",
        "| Sample Input:   |      Sample Output:      |\n",
        "|:----------------|:-------------------------|\n",
        "|A123456789 | CORRECT!!!  |\n",
        "||⏎|\n",
        "|L163690274|WRONG!!!|\n",
        "||⏎ |"
      ]
    },
    {
      "cell_type": "markdown",
      "metadata": {
        "id": "wKviUcXdESeD"
      },
      "source": [
        "<font size=\"10\">&#x0210B;</font>int(祕技):\n",
        "\n",
        "參考: http://mrcjtech.blogspot.com/2017/09/python.html\n",
        "\n",
        "__Input:__ 輸入是1個身份證的字串，第一個字是英文字母\n",
        "\n",
        "__Process:__ 比對最後一個數字是否為CheckSum\n",
        "\n",
        "__Output:__"
      ]
    },
    {
      "cell_type": "code",
      "metadata": {
        "id": "f7o1VkVuMeBn"
      },
      "source": [
        "#程式由此開始\n"
      ],
      "execution_count": null,
      "outputs": []
    },
    {
      "cell_type": "markdown",
      "metadata": {
        "id": "fdDjAcssMeK4"
      },
      "source": [
        "### M3Q25. ISBN 驗證\n",
        "\n",
        "問題描述：\n",
        "\n",
        "ISBN(International Standard Book Number) 是一種世界共通的書籍編碼方法，世界上任\n",
        "何一本書籍之出版，皆有著唯一的一組 ISBN 碼。此碼由十個位數組成，每一位數可\n",
        "以為 0~9 的任何一個數字，或者為 X ，代表此位數為 10 。其判斷方法如下，首先，\n",
        "將此 ISBN 碼的十個位數分開，自左而右依次為第一位數，第二位數至第十位數，接\n",
        "著進行第一次的累加，使得第二位數成為第一位數到第二位數的和，第三位數為第一\n",
        "位數到第三位數的累加和，第十位數為第一位數到第十位數的累加和；進行完第一次\n",
        "的累加和後，接著再依照相同之方法進行第二次的累加動作，我們稱此時最後所求得\n",
        "之累加和為此 ISBN 碼之識別碼，倘若此識別碼為 11 的倍數，則此 ISBN 碼為合法\n",
        "的。例如，若輸入之 ISBN 碼為 0 1 3 1 6 2 9 5 9 X ，則其運算之過成如下表所示：\n",
        "\n",
        "|ISBN 碼  |  0| 1 | 3  | 1   | 6  | 2 | 9 | 5 | 9 | X|\n",
        "|:---|:---|:---|:---|:---|:---|:---|:---|:---|:---|:---|\n",
        "|第一次累加和 | 0|1|4|5|11|13|22|27|36|46|\n",
        "|第二次累加和 | 0|1|5|10|21|34|56|83|119|165|\n",
        "經由計算可得其識別碼為 165 ，乃是 11 之倍數，故此為一合法之 ISBN 碼。\n",
        "\n",
        "輸入說明：\n",
        "輸入一串 ISBN 碼，以空格隔開。\n",
        "\n",
        "輸出說明：\n",
        "合法 ISBN 碼，印出YES，不合法 ISBN 碼，印出NO，最後必須有換行字元。\n",
        "\n",
        "範例：\n",
        "\n",
        "| Sample Input:   |      Sample Output:      |\n",
        "|:----------------|:-------------------------|\n",
        "|013162959X | YES  |\n",
        "||⏎|"
      ]
    },
    {
      "cell_type": "markdown",
      "metadata": {
        "id": "6LDJq0dhEUBZ"
      },
      "source": [
        "<font size=\"10\">&#x0210B;</font>int(祕技):\n",
        "\n",
        "參考: http://hk.uwenku.com/question/p-mtxvroux-bgh.html\n",
        "\n",
        "__Input:__ 輸入是一個長度10的字串\n",
        "\n",
        "__Process:__ 比對第十個碼是否和CheckSum一樣\n",
        "\n",
        "__Output:__"
      ]
    },
    {
      "cell_type": "code",
      "metadata": {
        "id": "RVLgqDoZMgNY"
      },
      "source": [
        "#程式由此開始\n"
      ],
      "execution_count": null,
      "outputs": []
    },
    {
      "cell_type": "markdown",
      "metadata": {
        "id": "17fFhLmQHqpG"
      },
      "source": [
        "## M3 Problems:Q26-Q29"
      ]
    },
    {
      "cell_type": "markdown",
      "metadata": {
        "id": "2HsWJv9LHqsL"
      },
      "source": [
        "### M3Q26 遞迴方法power(a,n)\n",
        "問題描述：\n",
        "試用兩個方法以遞迴計算 $power(a,n)=a^n$\n",
        "\n",
        "方法一：\n",
        "\n",
        "$power(a, n) = a * power(a, n-1)$\n",
        "\n",
        "方法二：\n",
        "\n",
        "$power(a, n) = power(a, n/2)*power(a, n/2) $ 當 n 為偶數\n",
        "\n",
        "$power(a, n) = a * power(a, n-1)$ 當 n 為奇數\n",
        "\n",
        "輸入說明：\n",
        "分別輸入兩正整數a, n\n",
        "\n",
        "輸出說明：\n",
        "輸出 power(a, n) 結果，最後必須有換行字元。\n",
        "\n",
        "範例：\n",
        "\n",
        "| Sample Input:   |      Sample Output:      |\n",
        "|:----------------|:-------------------------|\n",
        "|2 3 |8|\n",
        "|  |8⏎|"
      ]
    },
    {
      "cell_type": "markdown",
      "metadata": {
        "id": "RBbgUegfEVdi"
      },
      "source": [
        "<font size=\"10\">&#x0210B;</font>int(祕技):\n",
        "\n",
        "__Input:__ 輸入是2個正整數\n",
        "\n",
        "__Process:__\n",
        "\n",
        "__Output:__"
      ]
    },
    {
      "cell_type": "code",
      "metadata": {
        "id": "hvuw4NuIqB6Y"
      },
      "source": [
        "#程式由此開始\n"
      ],
      "execution_count": null,
      "outputs": []
    },
    {
      "cell_type": "markdown",
      "metadata": {
        "id": "7UcB2gfcciuY"
      },
      "source": [
        "### M3Q27 遞迴方法：數值位數\n",
        "問題描述：\n",
        "設計遞迴方法，輸入一個正整數值(不含 0)，傳回該數值是幾位數。\n",
        "\n",
        "輸入說明：\n",
        "輸入一個正整數值(不含 0)。\n",
        "\n",
        "輸出說明：\n",
        "輸出該數值是幾位數，最後必須有換行字元。\n",
        "\n",
        "\n",
        "範例：\n",
        "\n",
        "| Sample Input:   |      Sample Output:      |\n",
        "|:----------------|:-------------------------|\n",
        "|4395 |4⏎|"
      ]
    },
    {
      "cell_type": "markdown",
      "metadata": {
        "id": "sHoDqDO2EWtg"
      },
      "source": [
        "<font size=\"10\">&#x0210B;</font>int(祕技):\n",
        "\n",
        "__Input:__ 輸入是一個正整數\n",
        "\n",
        "__Process:__ 遞迴函數是函數的定義中會呼叫函數本身\n",
        "\n",
        "__Output:__"
      ]
    },
    {
      "cell_type": "code",
      "metadata": {
        "id": "F49YCf6DqA6J"
      },
      "source": [
        "#程式由此開始\n"
      ],
      "execution_count": null,
      "outputs": []
    },
    {
      "cell_type": "markdown",
      "metadata": {
        "id": "bkOnfFN9cjiJ"
      },
      "source": [
        "### M3Q28 遞迴方法：兩數最大公因數\n",
        "問題描述：\n",
        "寫一遞迴方法，求m、n 兩數的最大公因數gcd(m, n)。\n",
        "\n",
        "輸入說明：\n",
        "輸入兩數m、n。\n",
        "\n",
        "輸出說明：\n",
        "輸出m、n 兩數的最大公因數，最後必須有換行字元。\n",
        "\n",
        "\n",
        "範例：\n",
        "\n",
        "| Sample Input:   |      Sample Output:      |\n",
        "|:----------------|:-------------------------|\n",
        "|72 99 |9⏎ |"
      ]
    },
    {
      "cell_type": "markdown",
      "metadata": {
        "id": "7aIlMcjBEXlz"
      },
      "source": [
        "<font size=\"10\">&#x0210B;</font>int(祕技):\n",
        "\n",
        "__Input:__ 輸入是2個整數\n",
        "\n",
        "__Process:__ 遞迴函數是函數的定義中會呼叫函數本身\n",
        "\n",
        "__Output:__"
      ]
    },
    {
      "cell_type": "code",
      "metadata": {
        "id": "j1K6fJw8p_tb"
      },
      "source": [
        "#程式由此開始\n"
      ],
      "execution_count": null,
      "outputs": []
    },
    {
      "cell_type": "markdown",
      "metadata": {
        "id": "hOEbQ3DGckd3"
      },
      "source": [
        "### M3Q29 遞迴方法：費式數列\n",
        "問題描述：\n",
        "輸入正整數n，以遞迴求費氏(Fibonacii)係數值$𝐹_n$\n",
        "\n",
        "其公式為：\n",
        "\n",
        "$𝐹_0=0$\n",
        "\n",
        "$𝐹_1=1$\n",
        "\n",
        "$𝐹_n=𝐹_\\text{n-1}+𝐹_\\text{n-2}$\n",
        "\n",
        "輸入說明：\n",
        "輸入正整數n。\n",
        "\n",
        "輸出說明：\n",
        "輸出 $𝐹_n$ 數值，最後必須有換行字元。\n",
        "\n",
        "範例：\n",
        "\n",
        "| Sample Input:   |      Sample Output:      |\n",
        "|:----------------|:-------------------------|\n",
        "|15 |610⏎|"
      ]
    },
    {
      "cell_type": "markdown",
      "metadata": {
        "id": "K-7L2kRuEZMW"
      },
      "source": [
        "<font size=\"10\">&#x0210B;</font>int(祕技):\n",
        "\n",
        "__Input:__ 輸入是一個整數\n",
        "\n",
        "__Process:__ 遞迴函數是函數的定義中會呼叫函數本身\n",
        "\n",
        "__Output:__"
      ]
    },
    {
      "cell_type": "code",
      "metadata": {
        "id": "ma2UplsDqAP5"
      },
      "source": [
        "#程式由此開始\n"
      ],
      "execution_count": null,
      "outputs": []
    }
  ]
}