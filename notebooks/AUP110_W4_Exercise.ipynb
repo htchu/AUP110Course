{
 "cells": [
  {
   "cell_type": "markdown",
   "metadata": {
    "id": "EUjJ7ImLnPVr"
   },
   "source": [
    "# AU Fundamentals of Python Programming\n",
    "\n"
   ]
  },
  {
   "cell_type": "markdown",
   "metadata": {
    "id": "kLe1GoiTtrgI"
   },
   "source": [
    "## Ex3-1(練習3-1):練習格式化輸出\n",
    "自由印太聯盟由美國,日本,澳洲和印度組成\n",
    "\n",
    "The Free Indo-Pacific Alliance is composed of the United States, Japan, Australia and India\n"
   ]
  },
  {
   "cell_type": "markdown",
   "metadata": {
    "id": "cHiXWmApnZ_W"
   },
   "source": [
    "### Step 1: 宣告四個國家的變數"
   ]
  },
  {
   "cell_type": "code",
   "execution_count": null,
   "metadata": {
    "id": "8JL0O3Dw0hVK"
   },
   "outputs": [],
   "source": [
    "n0=\"\"; n1= \"\"; n2=\"\"; n3=\"\" #<-?"
   ]
  },
  {
   "cell_type": "markdown",
   "metadata": {
    "id": "XBxsl5E23SuC"
   },
   "source": [
    "### Step 2: 使用%-formatting "
   ]
  },
  {
   "cell_type": "code",
   "execution_count": null,
   "metadata": {
    "id": "PBlTlafx3Poe"
   },
   "outputs": [],
   "source": [
    "print(\"自由印太聯盟由, , 和 組成\"%()) #<-?"
   ]
  },
  {
   "cell_type": "markdown",
   "metadata": {
    "id": "qcqXjo083bW5"
   },
   "source": [
    "### Step 3: 使用str-formatting\n",
    "\n"
   ]
  },
  {
   "cell_type": "code",
   "execution_count": null,
   "metadata": {
    "id": "bfpk0qUcM3lA"
   },
   "outputs": [],
   "source": [
    "print(\"自由印太聯盟由, , 和 組成\".format()) #<-?"
   ]
  },
  {
   "cell_type": "markdown",
   "metadata": {
    "id": "bgchR6LPMiap"
   },
   "source": [
    "### Step 4: 使用f-string"
   ]
  },
  {
   "cell_type": "code",
   "execution_count": null,
   "metadata": {
    "id": "eF-jycTxnY9-"
   },
   "outputs": [],
   "source": [
    "print(f\"自由印太聯盟由, , 和 組成\") #<-?"
   ]
  },
  {
   "cell_type": "markdown",
   "metadata": {
    "id": "kclzQu9N31o5"
   },
   "source": [
    "## Ex3-2(練習3-2):簡單計算機\n",
    "輸入三個數字a,b,c計算其和及積 \n",
    "\n",
    "Enter three numbers a, b, c to calculate the sum and product"
   ]
  },
  {
   "cell_type": "markdown",
   "metadata": {
    "id": "ZTf06rZe4sdl"
   },
   "source": [
    "### Step 5: 宣告三個數字 a,b,c"
   ]
  },
  {
   "cell_type": "code",
   "execution_count": null,
   "metadata": {
    "id": "7AzrK1j_npYa"
   },
   "outputs": [],
   "source": [
    "a = .0; b=.0; c=.0; sum = .0; product = .0\n",
    "print(f\"numbers={a}, {b}, {c}, sum = {sum}, product = {product}\")"
   ]
  },
  {
   "cell_type": "markdown",
   "metadata": {
    "id": "bYlm5Mld5Pcu"
   },
   "source": [
    "Step 6: 輸入三個數字 a,b,c"
   ]
  },
  {
   "cell_type": "code",
   "execution_count": null,
   "metadata": {
    "id": "7w4uuKYj5T2C"
   },
   "outputs": [],
   "source": [
    "a = float(input(\"a:\")) \n",
    "b =                   #<-?\n",
    "c =                   #<-?\n",
    "print(f\"numbers={a}, {b}, {c}\")"
   ]
  },
  {
   "cell_type": "markdown",
   "metadata": {
    "id": "Hl4NR03P5Xb6"
   },
   "source": [
    "### Step 6: 計算三個數字 a,b,c的和"
   ]
  },
  {
   "cell_type": "code",
   "execution_count": null,
   "metadata": {
    "id": "EbZnPm_GnzgW"
   },
   "outputs": [],
   "source": [
    "sum =                    #<-?\n",
    "print(f\"numbers={a}, {b}, {c}, sum = {sum}\")"
   ]
  },
  {
   "cell_type": "markdown",
   "metadata": {
    "id": "0l_JJOmHPUzA"
   },
   "source": [
    "### Step 7: 計算三個數字 a,b,c的積"
   ]
  },
  {
   "cell_type": "code",
   "execution_count": null,
   "metadata": {
    "id": "H1OLx_ro4E37"
   },
   "outputs": [],
   "source": [
    "product  =              #<-?\n",
    "print(f\"numbers={a}, {b}, {c}, product  = {product }\")\n"
   ]
  }
 ],
 "metadata": {
  "colab": {
   "collapsed_sections": [],
   "name": "AUPython-Ex3-Begin.ipynb",
   "provenance": [
    {
     "file_id": "1sAje5w3AiRcZi8bXG2oHHVDTZ8gozS_F",
     "timestamp": 1602010231625
    },
    {
     "file_id": "1dJWzqhpN3ZTJ1iIHVnJ685UkWkFRA2cx",
     "timestamp": 1602006834039
    },
    {
     "file_id": "1a__-B_dtsembRipucBL2wkIIe4a6aMRl",
     "timestamp": 1601399481763
    }
   ]
  },
  "kernelspec": {
   "display_name": "Python 3",
   "language": "python",
   "name": "python3"
  },
  "language_info": {
   "codemirror_mode": {
    "name": "ipython",
    "version": 3
   },
   "file_extension": ".py",
   "mimetype": "text/x-python",
   "name": "python",
   "nbconvert_exporter": "python",
   "pygments_lexer": "ipython3",
   "version": "3.7.6"
  }
 },
 "nbformat": 4,
 "nbformat_minor": 4
}
