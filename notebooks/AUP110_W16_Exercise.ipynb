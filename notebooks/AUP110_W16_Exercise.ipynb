{
 "cells": [
  {
   "cell_type": "markdown",
   "metadata": {
    "id": "tKNHxKPlAsuy"
   },
   "source": [
    "# AU Fundamentals of Python Programming-Ex16\r\n",
    "* 主題1-M1 Q11-Q13\r\n",
    "* 主題2-M2 Q11-Q13\r\n",
    "* 主題3-M3 Q21-Q25"
   ]
  },
  {
   "cell_type": "markdown",
   "metadata": {
    "id": "DjT5DTSSECPk"
   },
   "source": [
    "##(Input)輸入參數/(Output)輸出結果"
   ]
  },
  {
   "cell_type": "code",
   "execution_count": null,
   "metadata": {
    "id": "fH4w_TnYAq0k"
   },
   "outputs": [],
   "source": [
    "a = int(input()) #用int()轉成整數變數a\r\n",
    "b = float(input()) #float()轉成浮點數變數b"
   ]
  },
  {
   "cell_type": "code",
   "execution_count": null,
   "metadata": {
    "id": "nsUOaSfnEGIy"
   },
   "outputs": [],
   "source": [
    "a, b, c = map(int, input().split()) #用map()將輸入轉成整數變數a, b, c\r\n",
    "print(a, b, c)"
   ]
  },
  {
   "cell_type": "code",
   "execution_count": null,
   "metadata": {
    "id": "5xDEHOY8EI6F"
   },
   "outputs": [],
   "source": [
    "a = 1\r\n",
    "b = 2.345\r\n",
    "print(\"輸出整數{0:2d},輸出浮點數{1:5.2f}\".format(a, b))"
   ]
  },
  {
   "cell_type": "markdown",
   "metadata": {
    "id": "Zqg1xgj0EOBF"
   },
   "source": [
    "## M1 Problems:Q11-Q13"
   ]
  },
  {
   "cell_type": "markdown",
   "metadata": {
    "id": "ZNuS9mUPEQ-j"
   },
   "source": [
    "### M1-Q11 數字加密\r\n",
    "問題描述：\r\n",
    "讀取一四位數，並且依下列方式進行加密\r\n",
    "1. 以該位數加7後，除以 10 取餘數取代該位數\r\n",
    "2. 將第一個位數的數字與第三個位數的數字對調\r\n",
    "3. 將第二個位數的數字與第四個位數的數字對調\r\n",
    "\r\n",
    "輸入說明：\r\n",
    "輸入一個四位數的字串(String)。\r\n",
    "\r\n",
    "輸出說明：\r\n",
    "輸出加密後的數字串(String)， 最後必須有換行字元 。\r\n",
    "\r\n",
    "| Sample Input:   |      Sample Output:      |\r\n",
    "|:----------------|:-------------------------|\r\n",
    "| 1234 | 0189⏎ |\r\n",
    "| 4567| 3412⏎|\r\n",
    "| 7891| 6845⏎|"
   ]
  },
  {
   "cell_type": "code",
   "execution_count": null,
   "metadata": {
    "id": "mKnUIBjGEug-"
   },
   "outputs": [],
   "source": []
  },
  {
   "cell_type": "markdown",
   "metadata": {
    "id": "76AV1B4PExX8"
   },
   "source": [
    "### M1-Q12 計算總和、乘積、差、商和餘數\r\n",
    "\r\n",
    "問題描述：\r\n",
    "撰寫一個程式，要求使用者輸入兩個數字，再從使用者取得這兩個數字，然後印出這\r\n",
    "兩個數字的總和、乘積、差、商、和餘數。\r\n",
    "\r\n",
    "輸入說明：\r\n",
    "依序輸入兩個整數(int)，整數範圍不超過 1000 。\r\n",
    "\r\n",
    "輸出說明：\r\n",
    "輸出總和(int)、乘積(int)、差(int)、商(int)和餘數(int)(注意格式)， 最後必須有換行字\r\n",
    "元 。\r\n",
    "\r\n",
    "| Sample Input:   |      Sample Output:      |\r\n",
    "|:----------------|:-------------------------|\r\n",
    "| 7 3 | 7+3=10 |\r\n",
    "||7*3=21|\r\n",
    "||7-3=4|\r\n",
    "|   | 7/3=2…1⏎|"
   ]
  },
  {
   "cell_type": "code",
   "execution_count": null,
   "metadata": {
    "id": "hk_xHwwTFKGb"
   },
   "outputs": [],
   "source": []
  },
  {
   "cell_type": "markdown",
   "metadata": {
    "id": "ldZ3HkJhFKaO"
   },
   "source": [
    "### M1-Q13 取得字元ASCII碼\r\n",
    "\r\n",
    "問題描述：\r\n",
    "請寫一個程式讓使用者輸入一個英文字母、標點符號或數字字符，程式回傳取得該字\r\n",
    "元的ASII值。\r\n",
    "\r\n",
    "輸入說明：\r\n",
    "輸入一個字元 ch (char)。\r\n",
    "\r\n",
    "輸出說明：\r\n",
    "輸出該字元對應的 ASCII 值 (int)， 最後必須有換行字元\r\n",
    "\r\n",
    "| Sample Input:   |      Sample Output:      |\r\n",
    "|:----------------|:-------------------------|\r\n",
    "| a | 97⏎ |\r\n",
    "| X | 88⏎|"
   ]
  },
  {
   "cell_type": "code",
   "execution_count": null,
   "metadata": {
    "id": "os5dKXAZFfH9"
   },
   "outputs": [],
   "source": []
  },
  {
   "cell_type": "markdown",
   "metadata": {
    "id": "wuci7OFBFfUN"
   },
   "source": [
    "## M2 Problems:Q11-Q13"
   ]
  },
  {
   "cell_type": "markdown",
   "metadata": {
    "id": "ptN5aSqnFgo7"
   },
   "source": [
    "### M2-Q11 正因數\r\n",
    "\r\n",
    "問題描述：\r\n",
    "讓使用者輸入一正整數 n，輸出 n 的所有正因數。\r\n",
    "\r\n",
    "輸入說明：\r\n",
    "輸入一正整數 n。\r\n",
    "\r\n",
    "輸出說明：\r\n",
    "輸出 n 的所有正因數，最後必須有換行字元。\r\n",
    "\r\n",
    "| Sample Input:   |      Sample Output:      |\r\n",
    "|:----------------|:-------------------------|\r\n",
    "|5 | 1   |\r\n",
    "|   |5⏎ |\r\n",
    "|10 | 1   |\r\n",
    "|   |2 |\r\n",
    "| | 5   |\r\n",
    "|   |10⏎ |"
   ]
  },
  {
   "cell_type": "code",
   "execution_count": null,
   "metadata": {
    "id": "5suPQ1D-2lQN"
   },
   "outputs": [],
   "source": []
  },
  {
   "cell_type": "markdown",
   "metadata": {
    "id": "bPMRWSN72l2Z"
   },
   "source": [
    "### M2-Q12 實心正方形\r\n",
    "\r\n",
    "問題描述：\r\n",
    "試撰寫一程式，由使用者輸入一正整數 n 及字元 c，輸出以 c 字元印出邊長為 n 之實心正方形。\r\n",
    "\r\n",
    "輸入說明：\r\n",
    "分別輸入一正整數 n 及字元 c。\r\n",
    "\r\n",
    "輸出說明：\r\n",
    "輸出以 c 字元，印出邊長為 n 之實心正方形，最後必須有換行字元。\r\n",
    "\r\n",
    "| Sample Input:   |      Sample Output:      |\r\n",
    "|:----------------|:-------------------------|\r\n",
    "|3@ | \\@\\@\\@   |\r\n",
    "|   |\\@\\@\\@ |\r\n",
    "|   |\\@\\@\\@⏎ |"
   ]
  },
  {
   "cell_type": "code",
   "execution_count": null,
   "metadata": {
    "id": "mRFgYbPP2p8r"
   },
   "outputs": [],
   "source": []
  },
  {
   "cell_type": "markdown",
   "metadata": {
    "id": "G2HOUuW72q-l"
   },
   "source": [
    "### M2-Q13   n 階乘\r\n",
    "\r\n",
    "問題描述：\r\n",
    "讓使用者輸入一正整數 n，用迴圈計算 n!數值後輸出。\r\n",
    "\r\n",
    "輸入說明：\r\n",
    "輸入一正整數 n ( n <= 20 )。\r\n",
    "\r\n",
    "輸出說明：\r\n",
    "以迴圈計算 n!數值(long)後輸出，最後必須有換行字元。\r\n",
    "\r\n",
    "| Sample Input:   |      Sample Output:      |\r\n",
    "|:----------------|:-------------------------|\r\n",
    "|8 | 40320⏎   |\r\n",
    "| 14  |87178291200⏎ |"
   ]
  },
  {
   "cell_type": "markdown",
   "metadata": {
    "id": "T6_f5Mje2y-C"
   },
   "source": [
    "## M3 Problems:Q21-Q25"
   ]
  },
  {
   "cell_type": "markdown",
   "metadata": {
    "id": "ieI7nANc235D"
   },
   "source": [
    "### M3Q21. 圈圈叉叉\r\n",
    "\r\n",
    "問題描述：\r\n",
    "OX 遊戲是大家小時候的童年記憶，甚至在長大後，無聊時還是會玩一下呢 ! 但當你\r\n",
    "一個人時，是否也能讓電腦跟你玩呢 ?\r\n",
    "\r\n",
    "輸入說明：\r\n",
    "輸入一個 3*3 的 2 維矩陣，矩陣內容， 0 代表 O ， 1 代表 X 。註：每列數字之\r\n",
    "間均有空格隔開。\r\n",
    "\r\n",
    "輸出說明：\r\n",
    "輸出這場 OX 遊戲是否有勝負之分，最後必須有換行字元。\r\n",
    "\r\n",
    "| Sample Input:   |      Sample Output:      |\r\n",
    "|:----------------|:-------------------------|\r\n",
    "|1 0 1 | True   |\r\n",
    "|0 0 1|⏎|\r\n",
    "|1 0 0||\r\n",
    "|1 0 0|False |\r\n",
    "|0 1 1|⏎|\r\n",
    "|0 1 0||"
   ]
  },
  {
   "cell_type": "code",
   "execution_count": null,
   "metadata": {
    "id": "AfvKYHW23xSS"
   },
   "outputs": [],
   "source": []
  },
  {
   "cell_type": "markdown",
   "metadata": {
    "id": "HuqeytVy3xng"
   },
   "source": [
    "### M3Q22. 各位數和排序\r\n",
    "\r\n",
    "問題描述：\r\n",
    "輸入一整數N 及N 個整數，請依照十進位中各位數字和由小到大排序輸出。如果各位\r\n",
    "數字和相等則比較數值由小到大排列。例如： 9122 的各位數字和為 9+1+2+2=14、3128\r\n",
    "的各位數字和為 3+1+2+8=14 而5112 的各位數字和為 5+1+1+2=9。所以輸入 9122\r\n",
    "3128 5112 需輸出 5112 3128 9122 ，這是因為 5112(9) < 3128(14) < 9122(14)，其中又\r\n",
    "因為 3128 與 9122 兩者的各位數字和都是 14，所以將 數值小的 3128 放前面。\r\n",
    "\r\n",
    "輸入說明：\r\n",
    "第一行輸入 N ，第二行輸入 N 個整數，用空白隔開，N<10。\r\n",
    "\r\n",
    "輸出說明：\r\n",
    "輸出排序結果用 tab 空格隔開，最後必須有換行字元。\r\n",
    "\r\n",
    "| Sample Input:   |      Sample Output:      |\r\n",
    "|:----------------|:-------------------------|\r\n",
    "|3 | 5112 3128 9122   |\r\n",
    "|9122 3128 5112|⏎|\r\n",
    "|4|2011 3821 1428 1725|\r\n",
    "|1725 3821 2011 1428|⏎ |"
   ]
  },
  {
   "cell_type": "code",
   "execution_count": null,
   "metadata": {
    "id": "7q_FU2XS45Jf"
   },
   "outputs": [],
   "source": []
  },
  {
   "cell_type": "markdown",
   "metadata": {
    "id": "cUQda1RF45wv"
   },
   "source": [
    "### M3Q23. 哥德巴赫猜想\r\n",
    "問題描述：\r\n",
    "在1742 年一個德國業餘數學家Christian Goldbach，他作了以下的猜測：任何一個比4\r\n",
    "大的偶數一定能夠找到2 個質數使其和相等。\r\n",
    "* 8=3+5(3 和5 都是質數)\r\n",
    "* 20=3+17=7+13\r\n",
    "* 42=5+37=11+31=13+29=19+23\r\n",
    "\r\n",
    "輸入說明：\r\n",
    "輸入一個偶數。\r\n",
    "\r\n",
    "輸出說明：\r\n",
    "輸出所有可能結果，最後必須有換行字元。\r\n",
    "\r\n",
    "\r\n",
    "| Sample Input:   |      Sample Output:      |\r\n",
    "|:----------------|:-------------------------|\r\n",
    "|8 | 3+5   |\r\n",
    "||⏎|\r\n",
    "|42|5+37|\\\r\n",
    "||11+31|\r\n",
    "||13+29|\r\n",
    "||19+23|\r\n",
    "||⏎ |"
   ]
  },
  {
   "cell_type": "code",
   "execution_count": null,
   "metadata": {
    "id": "-vXOsBBP5dXv"
   },
   "outputs": [],
   "source": []
  },
  {
   "cell_type": "markdown",
   "metadata": {
    "id": "dtIVzHz75dnN"
   },
   "source": [
    "### M3Q24. 身分證驗證器\r\n",
    "\r\n",
    "問題描述：\r\n",
    "設計一個程式可以檢查身分證字號的正確性 ( 應檢查性別欄及檢查碼是否正確 ) 。\r\n",
    "身分證字號共有十個碼，且有一定的編碼規則，其檢查編碼的規則如下：\r\n",
    "\r\n",
    "\r\n",
    "|A1   |  N1 |N2  |N3   |N4   |N5   |N6  |N7  |N8  |N9   |\r\n",
    "|:---|:---|:---|:---|:---|:---|:---|:---|:---|:---|\r\n",
    "|英文 | 1:代表男生 2:代表女生   ||||||||檢查碼|\r\n",
    "\r\n",
    "其中檢查碼的計算方法如下：\r\n",
    "\r\n",
    "http://www2.lssh.tp.edu.tw/~hlf/class-1/lang-c/id/index.htm\r\n",
    "\r\n",
    "輸入說明：\r\n",
    "輸入身分證字號，第一碼為英文大寫。\r\n",
    "\r\n",
    "輸出說明：\r\n",
    "若身分證字號正確，印出「CORRECT!!!」；不正確則印出「WRONG!!!」，最後必須有\r\n",
    "換行字元。\r\n",
    "\r\n",
    "| Sample Input:   |      Sample Output:      |\r\n",
    "|:----------------|:-------------------------|\r\n",
    "|A123456789 | CORRECT!!!  |\r\n",
    "||⏎|\r\n",
    "|L163690274|WRONG!!!|\r\n",
    "||⏎ |"
   ]
  },
  {
   "cell_type": "code",
   "execution_count": null,
   "metadata": {
    "id": "c8Cji-Nz82h3"
   },
   "outputs": [],
   "source": [
    "\r\n"
   ]
  },
  {
   "cell_type": "markdown",
   "metadata": {
    "id": "pWxJSi6f-_JL"
   },
   "source": [
    "### M3Q25. ISBN 驗證\r\n",
    "\r\n",
    "問題描述：\r\n",
    "\r\n",
    "ISBN(International Standard Book Number) 是一種世界共通的書籍編碼方法，世界上任\r\n",
    "何一本書籍之出版，皆有著唯一的一組 ISBN 碼。此碼由十個位數組成，每一位數可\r\n",
    "以為 0~9 的任何一個數字，或者為 X ，代表此位數為 10 。其判斷方法如下，首先，\r\n",
    "將此 ISBN 碼的十個位數分開，自左而右依次為第一位數，第二位數至第十位數，接\r\n",
    "著進行第一次的累加，使得第二位數成為第一位數到第二位數的和，第三位數為第一\r\n",
    "位數到第三位數的累加和，第十位數為第一位數到第十位數的累加和；進行完第一次\r\n",
    "的累加和後，接著再依照相同之方法進行第二次的累加動作，我們稱此時最後所求得\r\n",
    "之累加和為此 ISBN 碼之識別碼，倘若此識別碼為 11 的倍數，則此 ISBN 碼為合法\r\n",
    "的。例如，若輸入之 ISBN 碼為 0 1 3 1 6 2 9 5 9 X ，則其運算之過成如下表所示：\r\n",
    "\r\n",
    "|ISBN 碼  |  0| 1 | 3  | 1   | 6  | 2 | 9 | 5 | 9 | X|\r\n",
    "|:---|:---|:---|:---|:---|:---|:---|:---|:---|:---|:---|\r\n",
    "|第一次累加和 | 0|1|4|5|11|13|22|27|36|46|\r\n",
    "|第二次累加和 | 0|1|5|10|21|34|56|83|119|165|\r\n",
    "經由計算可得其識別碼為 165 ，乃是 11 之倍數，故此為一合法之 ISBN 碼。\r\n",
    "\r\n",
    "輸入說明：\r\n",
    "輸入一串 ISBN 碼，以空格隔開。\r\n",
    "\r\n",
    "輸出說明：\r\n",
    "合法 ISBN 碼，印出YES，不合法 ISBN 碼，印出NO，最後必須有換行字元。\r\n",
    "\r\n",
    "範例：\r\n",
    "\r\n",
    "| Sample Input:   |      Sample Output:      |\r\n",
    "|:----------------|:-------------------------|\r\n",
    "|0 1 3 1 6 2 9 5 9 X | YES  |\r\n",
    "||⏎|"
   ]
  },
  {
   "cell_type": "code",
   "execution_count": null,
   "metadata": {
    "id": "478nGQ_fAdjB"
   },
   "outputs": [],
   "source": []
  }
 ],
 "metadata": {
  "colab": {
   "authorship_tag": "ABX9TyOBEFLzA0gYHBUEe/krdbrB",
   "name": "AUPython-Ex16.ipynb",
   "provenance": [],
   "toc_visible": true
  },
  "kernelspec": {
   "display_name": "Python 3",
   "language": "python",
   "name": "python3"
  },
  "language_info": {
   "codemirror_mode": {
    "name": "ipython",
    "version": 3
   },
   "file_extension": ".py",
   "mimetype": "text/x-python",
   "name": "python",
   "nbconvert_exporter": "python",
   "pygments_lexer": "ipython3",
   "version": "3.7.6"
  }
 },
 "nbformat": 4,
 "nbformat_minor": 4
}
