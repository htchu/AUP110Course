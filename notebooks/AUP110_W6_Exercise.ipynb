{
 "cells": [
  {
   "cell_type": "markdown",
   "metadata": {
    "id": "L_j9J2r5MfQd"
   },
   "source": [
    "# 計算score.txt分數在0-40, 41-59, 60-80, 80-100的人數"
   ]
  },
  {
   "cell_type": "code",
   "execution_count": null,
   "metadata": {
    "id": "1xGqC3DUMemY"
   },
   "outputs": [],
   "source": [
    "stats = [0, 0 ,0 , 0]#0-40, 41-59, 60-80, 80-100\n",
    "with open('score.txt') as fin:\n",
    "    for line in fin:\n",
    "        score = int(line)\n",
    "        #from\n",
    "\n",
    "        \n",
    "        \n",
    "        \n",
    "        #to\n",
    "print(\"0-40={}, 41-59={}, 60-80={}, 80-100={}\".format(stats[0],stats[1],stats[2],stats[3] ))    "
   ]
  },
  {
   "cell_type": "markdown",
   "metadata": {
    "id": "FbHzjHfVM-tF"
   },
   "source": []
  }
 ],
 "metadata": {
  "colab": {
   "authorship_tag": "ABX9TyMb0xsEHnh5wXSFVE8syZqS",
   "collapsed_sections": [],
   "name": "AUPython-Ex7-Begin.ipynb",
   "provenance": []
  },
  "kernelspec": {
   "display_name": "Python 3",
   "language": "python",
   "name": "python3"
  },
  "language_info": {
   "codemirror_mode": {
    "name": "ipython",
    "version": 3
   },
   "file_extension": ".py",
   "mimetype": "text/x-python",
   "name": "python",
   "nbconvert_exporter": "python",
   "pygments_lexer": "ipython3",
   "version": "3.7.6"
  }
 },
 "nbformat": 4,
 "nbformat_minor": 1
}
