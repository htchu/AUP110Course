{
  "nbformat": 4,
  "nbformat_minor": 0,
  "metadata": {
    "colab": {
      "name": "AUP110_M2ProblemsAns(27).ipynb",
      "provenance": [],
      "collapsed_sections": [],
      "toc_visible": true
    },
    "kernelspec": {
      "name": "python3",
      "display_name": "Python 3"
    }
  },
  "cells": [
    {
      "cell_type": "markdown",
      "metadata": {
        "id": "3tHmSlPKjSDR"
      },
      "source": [
        "# AU Fundamentals of Python Programming-110-M2題庫(26)"
      ]
    },
    {
      "cell_type": "markdown",
      "metadata": {
        "id": "G6dSTQmQ6uLf"
      },
      "source": [
        "## M2 Problems:Q01-Q05"
      ]
    },
    {
      "cell_type": "markdown",
      "metadata": {
        "id": "o10sMcW7jd0L"
      },
      "source": [
        "### M2-Q01  最大值與最小值 \n",
        "問題描述：\n",
        "寫一個程式來找出輸入的 5 個數字的最大值和最小值，數值不限定為整數，且值可存放於 float 型態數值內。\n",
        "\n",
        "輸入說明：\n",
        "輸入5個數字\n",
        "\n",
        "輸出說明：\n",
        "輸出數列中的最大值與最小值，輸出時需附上小數點後兩位數字，最後必須有換行字元。\n",
        "\n",
        "\n",
        "| Sample Input:   |      Sample Output:      |\n",
        "|:----------------|:-------------------------|\n",
        "|-2 -15.2 0 9.5 100 | max=100.00   |\n",
        "|          |min=-15.20⏎ |\n",
        "| 0 3 52.7 998 135 | max=998.00   |\n",
        "|          |min=0.00⏎ |"
      ]
    },
    {
      "cell_type": "markdown",
      "metadata": {
        "id": "paQh8-6yty1a"
      },
      "source": [
        "<font size=\"10\">&#x0210B;</font>int(祕技):\n",
        "\n",
        "__Input:__ 使用float()函數將輸入的字串轉換成float變數\n",
        "\n",
        "__Process:__ if-condition\n",
        "\n",
        "__Output:__ 取到小數點以下第二位的格式是.2f"
      ]
    },
    {
      "cell_type": "code",
      "metadata": {
        "id": "7kNXwlkQjRWy"
      },
      "source": [
        "nums = list(map(float, input().split())) #用map()將輸入轉成 float 變數\n",
        "maxNum = nums[0]\n",
        "minNum = nums[0]\n",
        "for num in nums:\n",
        "    if num > maxNum: \n",
        "        maxNum = num\n",
        "    if num < minNum: \n",
        "        minNum = num\n",
        "print(f\"max={maxNum:.2f}\")\n",
        "print(f\"min={minNum:.2f}\")"
      ],
      "execution_count": null,
      "outputs": []
    },
    {
      "cell_type": "markdown",
      "metadata": {
        "id": "VADAq_PbkVbj"
      },
      "source": [
        "### M2-Q02 '*'三角形\n",
        "(時間限制：2 秒)\n",
        "\n",
        "問題描述：\n",
        "讓使用者輸入一正整數 n，利用迴圈以字元 '*' 輸出高度為 n 的三角形。\n",
        "\n",
        "輸入說明：\n",
        "輸入一正整數 n。\n",
        "\n",
        "輸出說明：\n",
        "利用迴圈以字元 '*' 輸出高度為 n 的三角形，最後必須有換行字元。\n",
        "\n",
        "| Sample Input:   |      Sample Output:      |\n",
        "|:----------------|:-------------------------|\n",
        "|4 | \\*   |\n",
        "|          |\\*\\* |\n",
        "|  | \\*\\*\\*   |\n",
        "|          |\\*\\*\\*\\*⏎ |\n"
      ]
    },
    {
      "cell_type": "markdown",
      "metadata": {
        "id": "BiCnMCnPuAwU"
      },
      "source": [
        "<font size=\"10\">&#x0210B;</font>int(祕技):\n",
        "\n",
        "__Input:__ 使用int()函數將輸入的字串轉換成整數變數\n",
        "\n",
        "__Process:__ 使用range()的for-loop\n",
        "\n",
        "__Output:__ print()加上end參數"
      ]
    },
    {
      "cell_type": "code",
      "metadata": {
        "id": "ICkcvOD4kuK9"
      },
      "source": [
        "n = int(input())\n",
        "for i in range(n):\n",
        "    for j in range(i+1):\n",
        "        print(\"*\", end=\"\")\n",
        "    print()"
      ],
      "execution_count": null,
      "outputs": []
    },
    {
      "cell_type": "markdown",
      "metadata": {
        "id": "Jen3UxgYkudE"
      },
      "source": [
        "### M2-Q03 '*'反向三角形\n",
        "問題描述：\n",
        "讓使用者輸入一正整數 n，利用迴圈以字元 '*' 輸出高度為 n 的三角形。\n",
        "\n",
        "輸入說明：\n",
        "輸入一正整數 n。\n",
        "\n",
        "輸出說明：\n",
        "利用迴圈以字元 '*' 輸出高度為 n 的三角形，最後必須有換行字元。\n",
        "\n",
        "| Sample Input:   |      Sample Output:      |\n",
        "|:----------------|:-------------------------|\n",
        "|4 | &nbsp;&nbsp;&nbsp;\\*   |\n",
        "|          |&nbsp;&nbsp;\\*\\* |\n",
        "|  | &nbsp;\\*\\*\\*   |\n",
        "|          |\\*\\*\\*\\*⏎ |"
      ]
    },
    {
      "cell_type": "markdown",
      "metadata": {
        "id": "3ibx3NOVuWpk"
      },
      "source": [
        "<font size=\"10\">&#x0210B;</font>int(祕技):\n",
        "\n",
        "__Input:__ 使用int()函數將輸入的字串轉換成整數變數\n",
        "\n",
        "__Process:__ 使用range()的for-loop\n",
        "\n",
        "__Output:__ print()加上end參數"
      ]
    },
    {
      "cell_type": "code",
      "metadata": {
        "id": "ipMCU87flKjT"
      },
      "source": [
        "n = int(input())\n",
        "for i in range(n):\n",
        "    for j in range(n-i-1):\n",
        "        print(\" \", end=\"\")\n",
        "    for j in range(i+1):\n",
        "        print(\"*\", end=\"\")\n",
        "    print()"
      ],
      "execution_count": null,
      "outputs": []
    },
    {
      "cell_type": "markdown",
      "metadata": {
        "id": "m6hH_THllLg4"
      },
      "source": [
        "### M2-Q04 '*'正三角形\n",
        "問題描述：\n",
        "讓使用者輸入一正整數 n，利用迴圈以字元 '*' 輸出高度為 n 的三角形。\n",
        "\n",
        "輸入說明：\n",
        "輸入一正整數 n。\n",
        "\n",
        "輸出說明：\n",
        "利用迴圈以字元'*'輸出高度為 n 的三角形，最後必須有換行字元。\n",
        "\n",
        "| Sample Input:   |      Sample Output:      |\n",
        "|:----------------|:-------------------------|\n",
        "|4 | &nbsp;&nbsp;&nbsp;\\*   |\n",
        "|          |&nbsp;&nbsp;\\*\\*\\* |\n",
        "|  | &nbsp;\\*\\*\\*\\*\\*   |\n",
        "|          |\\*\\*\\*\\*\\*\\*\\*⏎ |"
      ]
    },
    {
      "cell_type": "markdown",
      "metadata": {
        "id": "eEiZwb-Sulff"
      },
      "source": [
        "<font size=\"10\">&#x0210B;</font>int(祕技):\n",
        "\n",
        "__Input:__ 使用int()函數將輸入的字串轉換成整數變數\n",
        "\n",
        "__Process:__ 使用range()的for-loop\n",
        "\n",
        "__Output:__ print()加上end參數"
      ]
    },
    {
      "cell_type": "code",
      "metadata": {
        "id": "j9HGTbUVlajc"
      },
      "source": [
        "n = int(input())\n",
        "for i in range(n+1):\n",
        "    for j in range(n-i):\n",
        "        print(\" \", end=\"\")\n",
        "    for j in range(2*i-1):\n",
        "        print(\"*\", end=\"\")\n",
        "    print()"
      ],
      "execution_count": null,
      "outputs": []
    },
    {
      "cell_type": "markdown",
      "metadata": {
        "id": "HSrPResGmHYW"
      },
      "source": [
        "###  M2-Q05 十進制轉二進制\n",
        "\n",
        "問題描述：\n",
        "撰寫一個程式，使用者輸入一個非負整數，印出其 8 位元的二進制表示。\n",
        "\n",
        "輸入說明：\n",
        "輸入一個非負整數，介於 0～255 之間。\n",
        "\n",
        "輸出說明：\n",
        "以 8 位元的二進制表示，最後必須有換行字元。\n",
        "\n",
        "| Sample Input:   |      Sample Output:      |\n",
        "|:----------------|:-------------------------|\n",
        "|15 | 00001111⏎   |\n",
        "|254    |11111110⏎ |"
      ]
    },
    {
      "cell_type": "markdown",
      "metadata": {
        "id": "7WqVV17AvkWJ"
      },
      "source": [
        "<font size=\"10\">&#x0210B;</font>int(祕技):\n",
        "\n",
        "__Input:__ 使用int()函數將輸入的字串轉換成整數變數\n",
        "\n",
        "__Process:__ 使用range()的for-loop\n",
        "\n",
        "__Output:__ print() f-string"
      ]
    },
    {
      "cell_type": "code",
      "metadata": {
        "id": "2PCSxGATmcJ7"
      },
      "source": [
        "#Version 1:\n",
        "n = int(input())\n",
        "d8 = n//2**7\n",
        "d7 = (n%2**7)//2**6\n",
        "d6 = (n%2**6)//2**5\n",
        "d5 = (n%2**5)//2**4\n",
        "d4 = (n%2**4)//2**3\n",
        "d3 = (n%2**3)//2**2\n",
        "d2 = (n%2**2)//2\n",
        "d1 = n%2\n",
        "print(f\"{d8}{d7}{d6}{d5}{d4}{d3}{d2}{d1}\")"
      ],
      "execution_count": null,
      "outputs": []
    },
    {
      "cell_type": "code",
      "metadata": {
        "id": "Wo4PXHoJ5r7c"
      },
      "source": [
        "#Version 2:\n",
        "n = int(input())\n",
        "dd = [0 for i in range(8)]\n",
        "for i in range(8):\n",
        "    dd[7-i] = n%2\n",
        "    n=n//2\n",
        "print(\"\".join(str(d) for d in dd))"
      ],
      "execution_count": null,
      "outputs": []
    },
    {
      "cell_type": "markdown",
      "metadata": {
        "id": "zZPkdEEP66dl"
      },
      "source": [
        "## M2 Problems:Q06-Q10"
      ]
    },
    {
      "cell_type": "markdown",
      "metadata": {
        "id": "t8-v9ylQmcX-"
      },
      "source": [
        "### M2-Q06 質數判別\n",
        "\n",
        "問題描述：\n",
        "試撰寫一個程式，由輸入一個整數，然後判別此數是否為質數。質數是指除了 1 和它本身之外，沒有其它的數可以整除它的數，例如：2,3,5,7 與 11 等皆為質數。\n",
        "\n",
        "輸入說明：\n",
        "輸入一個正整數。\n",
        "\n",
        "輸出說明：\n",
        "質數顯示 YES；非質數顯示 NO，最後必須有換行字元。\n",
        "\n",
        "| Sample Input:   |      Sample Output:      |\n",
        "|:----------------|:-------------------------|\n",
        "|23 | YES⏎   |\n",
        "|37    |YES⏎ |\n",
        "|39    |NO⏎ |\n"
      ]
    },
    {
      "cell_type": "markdown",
      "metadata": {
        "id": "CMzb6IF08d8N"
      },
      "source": [
        "<font size=\"10\">&#x0210B;</font>int(祕技):\n",
        "\n",
        "__Input:__ 使用int()函數將輸入的字串轉換成整數變數\n",
        "\n",
        "__Process:__ 使用range()的for-loop\n",
        "\n",
        "__Output:__ print() f-string"
      ]
    },
    {
      "cell_type": "code",
      "metadata": {
        "id": "9in2OxWFmuq2"
      },
      "source": [
        "num = int(input())\n",
        "prime  = True\n",
        "for i in range(2,num):\n",
        "  if num % i ==0:\n",
        "    print(\"NO\")\n",
        "    prime = False\n",
        "    break \n",
        "if prime ==True:\n",
        "  print(\"YES\")"
      ],
      "execution_count": null,
      "outputs": []
    },
    {
      "cell_type": "markdown",
      "metadata": {
        "id": "Sba5RrXom3Mz"
      },
      "source": [
        "### M2-Q07 考試測驗\n",
        "\n",
        "問題描述：\n",
        "某間學校舉辦英文檢定測驗，若是學生通過該測驗，則能通過畢業門檻。老師準備的英文測驗中分為三個項目當作考試，分別是聽力、閱讀、口說。每一個項目測驗滿分皆為 100 分，總分為 300 分。想要通過測驗有兩種方式。\n",
        "方式一：若是三個項目分數皆為 60 分以上(包含 60 分)即為通過測驗。\n",
        "方式二：\n",
        "1.\t若三個項目中有其中一個項目分數未滿 60 分，但三個項目分數總合大於等於220 分，也可算通過測驗。\n",
        "2.\t若三個項目中有其中一個項目分數未滿 60 分，而三個項目分數總合也沒能達到 220 分，可獲得補考機會。\n",
        "3.\t若是三個項目中有兩個項目不及格，但另一個項目成績高於 80 分(包含 80 分)，也可獲得補考的機會。\n",
        "其餘皆判定為無法通過測驗。\n",
        "\n",
        "輸入說明：\n",
        "第一行為一個整數 N，代表共有 N 組測試資料。之後有 N 行，每一行有 3 個非負整數(範圍皆為 0 到 100)，分別代表該名學生聽力、閱讀、口說的測驗分數。\n",
        "\n",
        "輸出說明：\n",
        "若是通過測驗，則輸出“P”。若是需要補考，則輸出“M”。若是無法通過測驗，則輸出“F”。每組答案結果輸出於一行，最後必須有換行字元。\n",
        "\n",
        "| Sample Input:   |      Sample Output:      |\n",
        "|:----------------|:-------------------------|\n",
        "|5 | P   |\n",
        "|95   86   100    |M |\n",
        "|30   60   80   |P |\n",
        "|80   55   85 | F   |\n",
        "|20   30   60    |M |\n",
        "|10   80   10    | |"
      ]
    },
    {
      "cell_type": "markdown",
      "metadata": {
        "id": "b8m17EPreBiw"
      },
      "source": [
        "<font size=\"10\">&#x0210B;</font>int(祕技):\n",
        "\n",
        "__Input:__ 使用int()函數將輸入的字串轉換成整數變數，再輸幾筆數字\n",
        "\n",
        "__Process:__依題意設計if條件\n",
        "\n",
        "__Output:__ print() f-string"
      ]
    },
    {
      "cell_type": "code",
      "metadata": {
        "id": "GuIQwoPunhWR"
      },
      "source": [
        "num = int(input())\n",
        "for i in range(num):\n",
        "  a, b, c = map(int, input().split())\n",
        "  if a >=60 and b >=60 and c >=60:\n",
        "    print('P')\n",
        "  elif (a < 60 or b < 60 or c < 60) and a + b + c >= 220:\n",
        "    print('P')\n",
        "  elif ((a >= 60 and b >= 60) or (b >= 60 and c >= 60) or (a >=60 and c >= 60)) and a + b + c < 220:\n",
        "    print('M') \n",
        "  elif (a < 60 and b < 60 and c >=80) or (a >=80 and b < 60 and c < 60) or (a < 60 and b >=80 and c < 60):\n",
        "    print('M') \n",
        "  else:\n",
        "    print('F') \n",
        "    "
      ],
      "execution_count": null,
      "outputs": []
    },
    {
      "cell_type": "markdown",
      "metadata": {
        "id": "IhQ8MKjinhi8"
      },
      "source": [
        "### M2-Q08 計算正整數被 3 整除之數值之總和\n",
        "\n",
        "問題描述：\n",
        "試寫一個程式，輸入一正整數 N，可計算出 1 到 N 之間可被 3 整除的數值之總和。\n",
        "\n",
        "輸入說明：\n",
        "輸入一正整數。\n",
        "\n",
        "輸出說明：\n",
        "輸出總和，最後必須有換行字元。\n",
        "\n",
        "| Sample Input:   |      Sample Output:      |\n",
        "|:----------------|:-------------------------|\n",
        "|100 | 1683⏎   |\n",
        "|150   |3825⏎ |"
      ]
    },
    {
      "cell_type": "markdown",
      "metadata": {
        "id": "zEP4EWc8eea7"
      },
      "source": [
        "<font size=\"10\">&#x0210B;</font>int(祕技):\n",
        "\n",
        "__Input:__ 使用int()函數將輸入的字串轉換成整數變數\n",
        "\n",
        "__Process:__依題意計算出 1 到 N 之間可被 3 整除的數值之總和\n",
        "\n",
        "__Output:__ print() f-string"
      ]
    },
    {
      "cell_type": "code",
      "metadata": {
        "id": "lIfPj8FIn1vj"
      },
      "source": [
        "N = int(input())\n",
        "sum = 0\n",
        "for num in range(3,N+1):\n",
        "  if num % 3 ==0:\n",
        "    sum +=num\n",
        "print(f\"{sum}\")"
      ],
      "execution_count": null,
      "outputs": []
    },
    {
      "cell_type": "markdown",
      "metadata": {
        "id": "Zcn88_XIn18C"
      },
      "source": [
        "### M2-Q09 最大公因數與最小公倍數\n",
        "\n",
        "問題描述：\n",
        "給定二個正整數，求其最大公因數與最小公倍數。\n",
        "$LCM(a, b) = (a * b) / GCD(a, b)$\n",
        "\n",
        "輸入說明：\n",
        "給定二個正整數。\n",
        "\n",
        "輸出說明：\n",
        "輸出最大公因數與最小公倍數，最後必須有換行字元。\n",
        "\n",
        "| Sample Input:   |      Sample Output:      |\n",
        "|:----------------|:-------------------------|\n",
        "|300 250 | 50   |\n",
        "|   |1500⏎ |"
      ]
    },
    {
      "cell_type": "markdown",
      "metadata": {
        "id": "NAdlUuF7esEU"
      },
      "source": [
        "<font size=\"10\">&#x0210B;</font>int(祕技):\n",
        "\n",
        "__Input:__ 使用map(), int()函數將輸入的字串轉換成二個整數變數\n",
        "\n",
        "__Process:__先算gcd(可以整除二個數字的最大數字), 再依公式算lcm\n",
        "\n",
        "__Output:__ print() f-string"
      ]
    },
    {
      "cell_type": "code",
      "metadata": {
        "id": "-_25jQ7-oCq-"
      },
      "source": [
        "a, b = map(int,input().split())\n",
        "if a > b :\n",
        "    c = a\n",
        "else:\n",
        "    c = b\n",
        "for k in range(c, 2, -1):\n",
        "    if a % k == 0 and b % k == 0:\n",
        "      gcd = k\n",
        "      break\n",
        "lcm = a*b//gcd\n",
        "print(gcd)\n",
        "print(lcm)"
      ],
      "execution_count": null,
      "outputs": []
    },
    {
      "cell_type": "markdown",
      "metadata": {
        "id": "UavkmCJSoC1x"
      },
      "source": [
        "### M2-Q10 n×n 乘法表\n",
        "\n",
        "問題描述：\n",
        "輸出 n×n 乘法表。\n",
        "\n",
        "輸入說明：\n",
        "輸入一正整數 n。\n",
        "\n",
        "輸出說明：\n",
        "輸出 n×n 乘法表(0<n<=9)，每個輸出數字皆以 tab 間格，最後必須有換行字元。\n",
        "\n",
        "| Sample Input:   |      Sample Output:      |\n",
        "|:----------------|:-------------------------|\n",
        "|8 | 1      &nbsp;2      &nbsp;3       &nbsp;4     &nbsp;5      &nbsp;6       &nbsp;7      &nbsp;8   |\n",
        "| | 2     &nbsp;4      &nbsp;6       &nbsp;8   10    12    14    16   |\n",
        "| | 3     &nbsp;6      &nbsp;9     12   15    18    21    24   |\n",
        "| | 4    &nbsp;8    12     16   20   24   28   32   |\n",
        "| | 5   10    15    20   25    30   35  40   |\n",
        "| | 6   12    18    24   30   36   42   48   |\n",
        "| | 7   14    21    28   35    42   49   56   |\n",
        "| | 8   16   24    32   40   48   56   64⏎   |\n",
        "|5   |1     2      3       4      5 |\n",
        "| | 2     4      6      8    10   |\n",
        "| | 3     6      9    12    15   |\n",
        "| | 4     8    12    16    20   |\n",
        "| | 5   10    15    20   25⏎   |\n"
      ]
    },
    {
      "cell_type": "markdown",
      "metadata": {
        "id": "gi4v2e-PfEmQ"
      },
      "source": [
        "<font size=\"10\">&#x0210B;</font>int(祕技):\n",
        "\n",
        "__Input:__ 使用int()函數將輸入的字串轉換成一個整數變數\n",
        "\n",
        "__Process:__二層for迴圈\n",
        "\n",
        "__Output:__ print() 每個輸出數字皆以 tab 間格"
      ]
    },
    {
      "cell_type": "code",
      "metadata": {
        "id": "I3VhmwXRpuEk"
      },
      "source": [
        "n = int(input())\n",
        "for i in range(1, n+1):\n",
        "    for j in range(1, n+1):\n",
        "      if j < n:\n",
        "        print(f\"{i*j}\", end=\"\\t\")\n",
        "      else:\n",
        "        print(f\"{i*j}\")\n"
      ],
      "execution_count": null,
      "outputs": []
    },
    {
      "cell_type": "markdown",
      "metadata": {
        "id": "Jz0lFM7u6-OV"
      },
      "source": [
        "## M2 Problems:Q11-Q15"
      ]
    },
    {
      "cell_type": "markdown",
      "metadata": {
        "id": "KtOtlKY6pug-"
      },
      "source": [
        "### M2-Q11 正因數\n",
        "\n",
        "問題描述：\n",
        "讓使用者輸入一正整數 n，輸出 n 的所有正因數。\n",
        "\n",
        "輸入說明：\n",
        "輸入一正整數 n。\n",
        "\n",
        "輸出說明：\n",
        "輸出 n 的所有正因數，最後必須有換行字元。\n",
        "\n",
        "| Sample Input:   |      Sample Output:      |\n",
        "|:----------------|:-------------------------|\n",
        "|5 | 1   |\n",
        "|   |5⏎ |\n",
        "|10 | 1   |\n",
        "|   |2 |\n",
        "| | 5   |\n",
        "|   |10⏎ |"
      ]
    },
    {
      "cell_type": "markdown",
      "metadata": {
        "id": "T6sRMEMdh6lY"
      },
      "source": [
        "<font size=\"10\">&#x0210B;</font>int(祕技):\n",
        "\n",
        "__Input:__ 使用int()函數將輸入的字串轉換成一個整數變數\n",
        "\n",
        "__Process:__一層for迴圈, 一個判斷式\n",
        "\n",
        "__Output:__ print()"
      ]
    },
    {
      "cell_type": "code",
      "metadata": {
        "id": "S6rQ0wF6qIUz"
      },
      "source": [
        "n = int(input()) #用int()轉成整數變數n\n",
        "for x in range(1,n+1):\n",
        "    if n%x ==0:\n",
        "        print(x)"
      ],
      "execution_count": null,
      "outputs": []
    },
    {
      "cell_type": "markdown",
      "metadata": {
        "id": "4dLmZ7DPqMRe"
      },
      "source": [
        "### M2-Q12 實心正方形\n",
        "\n",
        "問題描述：\n",
        "試撰寫一程式，由使用者輸入一正整數 n 及字元 c，輸出以 c 字元印出邊長為 n 之實心正方形。\n",
        "\n",
        "輸入說明：\n",
        "分別輸入一正整數 n 及字元 c。\n",
        "\n",
        "輸出說明：\n",
        "輸出以 c 字元，印出邊長為 n 之實心正方形，最後必須有換行字元。\n",
        "\n",
        "| Sample Input:   |      Sample Output:      |\n",
        "|:----------------|:-------------------------|\n",
        "|3@ | \\@\\@\\@   |\n",
        "|   |\\@\\@\\@ |\n",
        "|   |\\@\\@\\@⏎ |"
      ]
    },
    {
      "cell_type": "markdown",
      "metadata": {
        "id": "O9qZpSjPiFVu"
      },
      "source": [
        "<font size=\"10\">&#x0210B;</font>int(祕技):\n",
        "\n",
        "__Input:__ 使用int()函數將輸入的字串的第一個字元轉換成一個整數變數\n",
        "\n",
        "__Process:__二層for迴圈\n",
        "\n",
        "__Output:__ print()"
      ]
    },
    {
      "cell_type": "code",
      "metadata": {
        "id": "6wMrmcfJtRJ2"
      },
      "source": [
        "ss = input()\n",
        "num = int(ss[0])\n",
        "sym = ss[1]\n",
        "for i in range(num):\n",
        "    for j in range(num):\n",
        "        print(sym, end=\"\")\n",
        "    print()"
      ],
      "execution_count": null,
      "outputs": []
    },
    {
      "cell_type": "markdown",
      "metadata": {
        "id": "fOAWHfkbtRZy"
      },
      "source": [
        "### M2-Q13   n 階乘\n",
        "\n",
        "問題描述：\n",
        "讓使用者輸入一正整數 n，用迴圈計算 n!數值後輸出。\n",
        "\n",
        "輸入說明：\n",
        "輸入一正整數 n ( n <= 20 )。\n",
        "\n",
        "輸出說明：\n",
        "以迴圈計算 n!數值(long)後輸出，最後必須有換行字元。\n",
        "\n",
        "| Sample Input:   |      Sample Output:      |\n",
        "|:----------------|:-------------------------|\n",
        "|8 | 40320⏎   |\n",
        "| 14  |87178291200⏎ |\n"
      ]
    },
    {
      "cell_type": "markdown",
      "metadata": {
        "id": "Ye1E9drDiXGK"
      },
      "source": [
        "<font size=\"10\">&#x0210B;</font>int(祕技):\n",
        "\n",
        "__Input:__ 使用int()函數將輸入的字串轉換成一個整數變數\n",
        "\n",
        "__Process:__一層for迴圈\n",
        "\n",
        "__Output:__ print()"
      ]
    },
    {
      "cell_type": "code",
      "metadata": {
        "id": "Yn9yvqsw54rC"
      },
      "source": [
        "n = int(input())\n",
        "mul =1\n",
        "for x in range(2, n+1):\n",
        "    mul *=x\n",
        "print(mul)"
      ],
      "execution_count": null,
      "outputs": []
    },
    {
      "cell_type": "markdown",
      "metadata": {
        "id": "K4YCAX2J7OB4"
      },
      "source": [
        "### M2-Q14   n*(n+1)總和\n",
        "問題描述：\n",
        "讓使用者輸入一正整數 n，計算 1*(1+1) + 2*(2+1) + 3*(3+1) + … + n*(n+1)並輸出結果。\n",
        "\n",
        "輸入說明：\n",
        "輸入一正整數 n。\n",
        "\n",
        "輸出說明：\n",
        "計算 1*(1+1) + 2*(2+1) + 3*(3+1) + … + n*(n+1)並輸出結果，最後必須有換行字元。\n",
        "\n",
        "\n",
        "\n",
        "\n",
        "| Sample Input:   |      Sample Output:      |\n",
        "|:----------------|:-------------------------|\n",
        "| 5         |70⏎ |"
      ]
    },
    {
      "cell_type": "markdown",
      "metadata": {
        "id": "5luzS5cdidKB"
      },
      "source": [
        "<font size=\"10\">&#x0210B;</font>int(祕技):\n",
        "\n",
        "__Input:__ 使用int()函數將輸入的字串轉換成一個整數變數\n",
        "\n",
        "__Process:__一層for迴圈\n",
        "\n",
        "__Output:__ print()"
      ]
    },
    {
      "cell_type": "code",
      "metadata": {
        "id": "4SW5U9DY7O8F"
      },
      "source": [
        "n = int(input())\n",
        "sum = 0\n",
        "for i in range(1, n+1):\n",
        "    sum += i*(i+1)\n",
        "print(sum)"
      ],
      "execution_count": null,
      "outputs": []
    },
    {
      "cell_type": "markdown",
      "metadata": {
        "id": "nS627wXG7S7y"
      },
      "source": [
        "### M2-Q15 1/[(2n-1)*(2n)]總和\n",
        "(時間限制：2 秒)\n",
        "\n",
        "問題描述：\n",
        "讓使用者輸入一正整數 n，計算 $1/(1*2)+1/(3*4)+1/(5*6)+…+1/[(2n-1)*(2n)]$並輸出結果。\n",
        "\n",
        "輸入說明：\n",
        "輸入一正整數 n。\n",
        "\n",
        "輸出說明：\n",
        "計算 $1/(1*2)+1/(3*4)+1/(5*6)+…+1/[(2n-1)*(2n)]$並輸出結果(double)，最後必須有換行字元。\n",
        "\n",
        "\n",
        "| Sample Input:   |      Sample Output:      |\n",
        "|:----------------|:-------------------------|\n",
        "|20 | 0.6808033817926938⏎   |\n"
      ]
    },
    {
      "cell_type": "markdown",
      "metadata": {
        "id": "_-w92rTPif1Y"
      },
      "source": [
        "<font size=\"10\">&#x0210B;</font>int(祕技):\n",
        "\n",
        "__Input:__ 使用int()函數將輸入的字串轉換成一個整數變數\n",
        "\n",
        "__Process:__一層for迴圈\n",
        "\n",
        "__Output:__ print()"
      ]
    },
    {
      "cell_type": "code",
      "metadata": {
        "id": "Nt8RKFLEEAVD"
      },
      "source": [
        "n = int(input())\n",
        "sum = 0\n",
        "for i in range(1, n+1):\n",
        "    sum += 1 / ((2 * i - 1) * (2 * i))\n",
        "print(sum)"
      ],
      "execution_count": null,
      "outputs": []
    },
    {
      "cell_type": "markdown",
      "metadata": {
        "id": "BeRdXgUQ7DiJ"
      },
      "source": [
        "## M2 Problems:Q16-Q20"
      ]
    },
    {
      "cell_type": "markdown",
      "metadata": {
        "id": "YPhjkCeN7XWs"
      },
      "source": [
        "### M2-Q16 計算 $2^n$ 總和\n",
        "問題描述：\n",
        "讓使用者輸入一正整數 n，並輸出$2^1+2^2+2^3+...+2^n$ 的值。\n",
        "\n",
        "輸入說明：\n",
        "輸入一正整數 n。\n",
        "\n",
        "輸出說明：\n",
        "輸出 $2^1+2^2+2^3+...+2^n$ 的值，最後必須有換行字元。\n",
        "\n",
        "\n",
        "| Sample Input:   |      Sample Output:      |\n",
        "|:----------------|:-------------------------|\n",
        "|9 | 1022⏎   |\n",
        "|14          |32766⏎ |"
      ]
    },
    {
      "cell_type": "markdown",
      "metadata": {
        "id": "XAxH1MOZiiZd"
      },
      "source": [
        "<font size=\"10\">&#x0210B;</font>int(祕技):\n",
        "\n",
        "__Input:__ 使用int()函數將輸入的字串轉換成一個整數變數\n",
        "\n",
        "__Process:__一層for迴圈\n",
        "\n",
        "__Output:__ print()"
      ]
    },
    {
      "cell_type": "code",
      "metadata": {
        "id": "uU3MiNzY7aIG"
      },
      "source": [
        "n = int(input())\n",
        "sum = 0\n",
        "for i in range(1, n+1):\n",
        "    sum += 2**i\n",
        "print(sum)\n"
      ],
      "execution_count": null,
      "outputs": []
    },
    {
      "cell_type": "markdown",
      "metadata": {
        "id": "FPCIseyk7agA"
      },
      "source": [
        "### M2-Q17 數字串和\n",
        "問題描述：\n",
        "讓使用者輸入一正整數 n，判斷並輸出該整數為幾位數與每一位數之總和。\n",
        "例如：輸入 12345，輸出為 15 (1+2+3+4+5=15)\n",
        "\n",
        "輸入說明：\n",
        "輸入一正整數 n。\n",
        "\n",
        "輸出說明：\n",
        "判斷並輸出該整數為幾位數與各位數之和，最後必須有換行字元。\n",
        "\n",
        "\n",
        "| Sample Input:   |      Sample Output:      |\n",
        "|:----------------|:-------------------------|\n",
        "|12345 | 5   |\n",
        "|          |15⏎ |"
      ]
    },
    {
      "cell_type": "markdown",
      "metadata": {
        "id": "CHvoYpu9il9d"
      },
      "source": [
        "<font size=\"10\">&#x0210B;</font>int(祕技):\n",
        "\n",
        "__Input:__ 使用int()函數將輸入的字串轉換成一個整數變數\n",
        "\n",
        "__Process:__一層for迴圈\n",
        "\n",
        "__Output:__ print()"
      ]
    },
    {
      "cell_type": "code",
      "metadata": {
        "id": "uyiabEOM7gR0"
      },
      "source": [
        "instr = input()\n",
        "digits = len(instr)\n",
        "print(digits)\n",
        "\n",
        "num = int(instr)\n",
        "sum = 0\n",
        "for i in range(digits):\n",
        "    sum += num%10\n",
        "    num = num//10\n",
        "print(sum)"
      ],
      "execution_count": null,
      "outputs": []
    },
    {
      "cell_type": "markdown",
      "metadata": {
        "id": "UCrFOdu57hJa"
      },
      "source": [
        "### M2-Q18 尋找連續整數相加\n",
        "問題描述：\n",
        "讓使用者輸入一正整數，撰寫程式找出一連續整數數列讓該數列的和為此一正整數，\n",
        "若正整數不能找出連續整數之和，請印出「No」。\n",
        "例如：\n",
        "\n",
        "15 =1+2+3+4+5\n",
        "=4+5+6\n",
        "=7+8\n",
        "\n",
        "輸入說明：\n",
        "輸入一個正整數。\n",
        "\n",
        "輸出說明：\n",
        "輸出可能的整數相加連續整數，若找不到時，請印出「No」，最後必須有換行字元。\n",
        "\n",
        "| Sample Input:   |      Sample Output:      |\n",
        "|:----------------|:-------------------------|\n",
        "|15 | 1+2+3+4+5   |\n",
        "|    |4+5+6 |\n",
        "|    |7+8⏎ |\n",
        "|4    |NO⏎ |"
      ]
    },
    {
      "cell_type": "markdown",
      "metadata": {
        "id": "w61Kdbu4isg-"
      },
      "source": [
        "<font size=\"10\">&#x0210B;</font>int(祕技):\n",
        "\n",
        "__Input:__ 使用int()函數將輸入的字串轉換成一個整數變數\n",
        "\n",
        "__Process:__二層for迴圈\n",
        "\n",
        "__Output:__ print()"
      ]
    },
    {
      "cell_type": "code",
      "metadata": {
        "id": "d5mdPckS7mQc"
      },
      "source": [
        "n = int(input())\n",
        "found =False\n",
        "\n",
        "for i in range(1, n):\n",
        "  sum = 0\n",
        "  nums = []\n",
        "  for j in range(i, n):\n",
        "      sum += j\n",
        "      if sum <= n:\n",
        "        nums.append(j)\n",
        "      if sum >= n:\n",
        "        break\n",
        "  if sum == n:\n",
        "    found =True\n",
        "    for k in nums:\n",
        "      if k != nums[-1]:\n",
        "        print(k, end=\"+\")\n",
        "      else:\n",
        "        print(k)\n",
        "if found ==False:\n",
        "  print('NO')"
      ],
      "execution_count": null,
      "outputs": []
    },
    {
      "cell_type": "markdown",
      "metadata": {
        "id": "of57Iq6n7mc7"
      },
      "source": [
        "### M2-Q19 數列\n",
        "\n",
        "問題描述：\n",
        "輸入一個正整數 N，列舉如下數列，直到數字超過 N 為止。\n",
        "數列一：1  2  4  7  11  16  22  29…\n",
        "數列二：1  2  2  3  3  3  4  4  4  4  5  5  5  5  5…\n",
        "\n",
        "輸入說明：\n",
        "輸入一個正整數 N。\n",
        "\n",
        "輸出說明：\n",
        "輸出數字超過 N 的數列，數字以 tab 間格，最後必須有換行字元。\n",
        "\n",
        "\n",
        "| Sample Input:   |      Sample Output:      |\n",
        "|:----------------|:-------------------------|\n",
        "|5 | 1  2  4  7     |\n",
        "|  |1  2  2  3  3  3  4  4  4  4  5  5  5  5  5  6  6  6  6  6  6 ⏎ |"
      ]
    },
    {
      "cell_type": "markdown",
      "metadata": {
        "id": "L4PWWEH5iwou"
      },
      "source": [
        "<font size=\"10\">&#x0210B;</font>int(祕技):\n",
        "\n",
        "__Input:__ 使用int()函數將輸入的字串轉換成一個整數變數\n",
        "\n",
        "__Process:__while迴圈和2層for迴圈\n",
        "\n",
        "__Output:__ print()"
      ]
    },
    {
      "cell_type": "code",
      "metadata": {
        "id": "PIB3gDTe7pQK"
      },
      "source": [
        "N = int(input())\n",
        "num = 1\n",
        "addition = 1\n",
        "while num <= N:\n",
        "    print(f\"{num}\\t\", end=\"\")\n",
        "    num += addition\n",
        "    addition += 1\n",
        "print(f\"{num}\\t\")\n",
        "\n",
        "for num in range(1, N+2):\n",
        "    for j in range(1, num+1):\n",
        "        print(f\"{num}\\t\", end=\"\")\n",
        "print()"
      ],
      "execution_count": null,
      "outputs": []
    },
    {
      "cell_type": "markdown",
      "metadata": {
        "id": "SHxG5Vuw7p8b"
      },
      "source": [
        "### M2-Q20 質數列表\n",
        "\n",
        "問題描述：\n",
        "讓使用者輸入一正整數 n，並輸出小於 n 的所有質數。\n",
        "\n",
        "輸入說明：\n",
        "輸入一正整數 n。\n",
        "\n",
        "輸出說明：\n",
        "輸出小於 n 的所有質數 (1 不是質數)，最後必須有換行字元。\n",
        "\n",
        "\n",
        "| Sample Input:   |      Sample Output:      |\n",
        "|:----------------|:-------------------------|\n",
        "|12 | 2   |\n",
        "|  | 3   |\n",
        "|  | 5   |\n",
        "|  | 7   |\n",
        "|   |11⏎ |"
      ]
    },
    {
      "cell_type": "markdown",
      "metadata": {
        "id": "8w9q3Es1i5JH"
      },
      "source": [
        "<font size=\"10\">&#x0210B;</font>int(祕技):\n",
        "\n",
        "__Input:__ 使用int()函數將輸入的字串轉換成一個整數變數\n",
        "\n",
        "__Process:__2層for迴圈\n",
        "\n",
        "__Output:__ print()"
      ]
    },
    {
      "cell_type": "code",
      "metadata": {
        "id": "31a_aXmT7sAu"
      },
      "source": [
        "n = int(input())\n",
        "for num in range(2, n):\n",
        "  prime  = True\n",
        "  for i in range(2,num):\n",
        "    if num % i ==0:\n",
        "      prime = False\n",
        "      break \n",
        "  if prime ==True:\n",
        "    print(num)"
      ],
      "execution_count": null,
      "outputs": []
    },
    {
      "cell_type": "markdown",
      "metadata": {
        "id": "mgg2VMX67IUL"
      },
      "source": [
        "## M2 Problems:Q21-Q25"
      ]
    },
    {
      "cell_type": "markdown",
      "metadata": {
        "id": "JhWP6Ssj7tPA"
      },
      "source": [
        "### M2-Q21 連續 0 的個數\n",
        "\n",
        "問題描述：\n",
        "讓使用者輸入一正整數 n，輸出 n!數值後面的連續 0 的個數。\n",
        "\n",
        "輸入說明：\n",
        "輸入一正整數 n。\n",
        "\n",
        "輸出說明：\n",
        "輸出 n!數值後面的連續 0 的個數，最後必須有換行字元。\n",
        "\n",
        "\n",
        "| Sample Input:   |      Sample Output:      |\n",
        "|:----------------|:-------------------------|\n",
        "|6 | 1⏎ |\n",
        "|15 | 3⏎ |\n",
        "|100 |24⏎  |\n"
      ]
    },
    {
      "cell_type": "markdown",
      "metadata": {
        "id": "88o1FTVnjA5E"
      },
      "source": [
        "<font size=\"10\">&#x0210B;</font>int(祕技):\n",
        "\n",
        "__Input:__ 使用int()函數將輸入的字串轉換成一個整數變數\n",
        "\n",
        "__Process:__while迴圈\n",
        "\n",
        "__Output:__ print()"
      ]
    },
    {
      "cell_type": "code",
      "metadata": {
        "id": "bIz8sKgU7xar"
      },
      "source": [
        "n = int(input())\n",
        "n5 = 5\n",
        "num = 0\n",
        "while n5 < n:\n",
        "  num += n // n5\n",
        "  n5 = n5 *5\n",
        "\n",
        "print(num)\n"
      ],
      "execution_count": null,
      "outputs": []
    },
    {
      "cell_type": "markdown",
      "metadata": {
        "id": "xmGiPBnT7xsN"
      },
      "source": [
        "### M2-Q22 直角三角形邊長\n",
        "\n",
        "問題描述：\n",
        "印出邊長和小於等於 n 的所有可能的直角三角形三邊長。\n",
        "\n",
        "輸入說明：\n",
        "輸入一正整數 n。\n",
        "\n",
        "輸出說明：\n",
        "輸出邊長和小於等於 n 的所有可能的直角三角形三邊長，三邊邊長以 tab 間格，最後必須有換行字元。\n",
        "\n",
        "\n",
        "| Sample Input:   |      Sample Output:      |\n",
        "|:----------------|:-------------------------|\n",
        "|30 | 3     4     5  |\n",
        "|   |5   12   13 |\n",
        "|   |6     8   10⏎ |"
      ]
    },
    {
      "cell_type": "markdown",
      "metadata": {
        "id": "kG3b6JotjDhy"
      },
      "source": [
        "<font size=\"10\">&#x0210B;</font>int(祕技):\n",
        "\n",
        "__Input:__ 使用int()函數將輸入的字串轉換成一個整數變數\n",
        "\n",
        "__Process:__3層for迴圈\n",
        "\n",
        "__Output:__ print()"
      ]
    },
    {
      "cell_type": "code",
      "metadata": {
        "id": "eEfmomAN78GW"
      },
      "source": [
        "n = int(input())\n",
        "for a in range(2, n//2):\n",
        "  for b in range(a+1, n//2):\n",
        "    for c in range(b+1, n//2):\n",
        "      if a**2 + b**2 == c**2:\n",
        "        print(f'{a} {b} {c}')"
      ],
      "execution_count": null,
      "outputs": []
    },
    {
      "cell_type": "markdown",
      "metadata": {
        "id": "5Kx6CNV278S8"
      },
      "source": [
        "### M2-Q23 數字反轉\n",
        "\n",
        "問題描述：\n",
        "設計一個程式，讓使用者輸入一個正整數，並將該數字反轉印出，如輸入：12345，輸出：54321。\n",
        "\n",
        "輸入說明：\n",
        "輸入一正整數 n。\n",
        "\n",
        "輸出說明：\n",
        "將輸入數字反轉印出，最後必須有換行字元。\n",
        "\n",
        "\n",
        "\n",
        "| Sample Input:   |      Sample Output:      |\n",
        "|:----------------|:-------------------------|\n",
        "|123456 | 654321⏎ |\n"
      ]
    },
    {
      "cell_type": "markdown",
      "metadata": {
        "id": "dYlWSn3TjS7v"
      },
      "source": [
        "<font size=\"10\">&#x0210B;</font>int(祕技):\n",
        "\n",
        "__Input:__ 輸入的字串不用轉換成一個整數變數\n",
        "\n",
        "__Process:__用負索引的切片\n",
        "\n",
        "__Output:__ print()"
      ]
    },
    {
      "cell_type": "code",
      "metadata": {
        "id": "sERMbQmd7-Za"
      },
      "source": [
        "instr = input()\n",
        "outstr = instr[::-1]\n",
        "print(outstr)"
      ],
      "execution_count": null,
      "outputs": []
    },
    {
      "cell_type": "markdown",
      "metadata": {
        "id": "0qPSRyX77-p1"
      },
      "source": [
        "### M2-Q24 1+2+3+…+m<=n\n",
        "\n",
        "問題描述：\n",
        "讓使用者輸入一正整數 n，輸出 1+2+3+…+m<=n 的最大整數 m=?\n",
        "\n",
        "輸入說明：\n",
        "輸入一正整數 n。\n",
        "\n",
        "輸出說明：\n",
        "輸出 1+2+3+…+m<=n 的最大整數 m，最後必須有換行字元。\n",
        "\n",
        "\n",
        "| Sample Input:   |      Sample Output:      |\n",
        "|:----------------|:-------------------------|\n",
        "|55 | 10⏎   |\n",
        "| 77  |11⏎ |\n"
      ]
    },
    {
      "cell_type": "markdown",
      "metadata": {
        "id": "ojLca9KhjgW_"
      },
      "source": [
        "<font size=\"10\">&#x0210B;</font>int(祕技):\n",
        "\n",
        "__Input:__ 使用int()函數將輸入的字串轉換成一個整數變數\n",
        "\n",
        "__Process:__while迴圈\n",
        "\n",
        "__Output:__ print()"
      ]
    },
    {
      "cell_type": "code",
      "metadata": {
        "id": "oXQqk49n8Bic"
      },
      "source": [
        "n = int(input())\n",
        "i = 1\n",
        "sum = 1\n",
        "while sum < n:\n",
        "  i += 1\n",
        "  sum += i\n",
        "if sum > n:\n",
        "  i -=1\n",
        "print(i)"
      ],
      "execution_count": null,
      "outputs": []
    },
    {
      "cell_type": "markdown",
      "metadata": {
        "id": "gH3Tzc5A8CCX"
      },
      "source": [
        "### M2-Q25 數字總和\n",
        "\n",
        "問題描述：\n",
        "使用者輸入一正整數 n，找出小於等於 n 中，其質因數只有 2 或 3 或 5 的數字總和。\n",
        "\n",
        "輸入說明：\n",
        "輸入一正整數 n。\n",
        "\n",
        "輸出說明：\n",
        "找出小於等於 n 中，其質因數只有 2 或 3 或 5 的數字總和，最後必須有換行字元。\n",
        "\n",
        "\n",
        "| Sample Input:   |      Sample Output:      |\n",
        "|:----------------|:-------------------------|\n",
        "|30 | 234⏎   |\n",
        "|50  |485⏎ |\n"
      ]
    },
    {
      "cell_type": "markdown",
      "metadata": {
        "id": "pFGisxa7z49a"
      },
      "source": [
        "<font size=\"10\">&#x0210B;</font>int(祕技):\n",
        "\n",
        "__Input:__ 使用int()函數將輸入的字串轉換成整數變數\n",
        "\n",
        "__Process:__ 使用迴圈檢查其質因數是否只有 2 或 3 或 5\n",
        "\n",
        "__Output:__ 套用f-string"
      ]
    },
    {
      "cell_type": "code",
      "metadata": {
        "id": "iQnCC-VVzfYE"
      },
      "source": [
        "n = int(input())\n",
        "sum = 0\n",
        "for num in range(2, n+1):\n",
        "  x=num\n",
        "  while x%2==0:\n",
        "    x/=2\n",
        "  while x%3==0:\n",
        "    x/=3\n",
        "  while x%5==0:\n",
        "    x/=5\n",
        "  if x ==1:\n",
        "    sum +=num\n",
        "print(sum)\n"
      ],
      "execution_count": null,
      "outputs": []
    },
    {
      "cell_type": "markdown",
      "metadata": {
        "id": "ANEfq6j7sI5c"
      },
      "source": [
        "## M2 Problems:Q26-Q27"
      ]
    },
    {
      "cell_type": "markdown",
      "metadata": {
        "id": "lUcG3aR78G5f"
      },
      "source": [
        "### M2-Q26 資源回收\n",
        "\n",
        "問題描述：\n",
        "資源回收是一種美德，商店老闆想出一種鼓勵的方式：三個空罐可以換一罐新的。假設你有 N 罐汽水，試利用程式解出你最後可以喝到幾罐汽水？\n",
        "\n",
        "輸入說明：\n",
        "輸入一正整數 N。\n",
        "\n",
        "輸出說明：\n",
        "最多可以喝到的汽水數量，最後必須有換行字元。\n",
        "\n",
        "\n",
        "| Sample Input:   |      Sample Output:      |\n",
        "|:----------------|:-------------------------|\n",
        "|5 |7⏎   |\n",
        "| 100  |149⏎ |\n"
      ]
    },
    {
      "cell_type": "markdown",
      "metadata": {
        "id": "rnEG-Hzh9CEy"
      },
      "source": [
        "<font size=\"10\">&#x0210B;</font>int(祕技):\n",
        "\n",
        "__Input:__ 使用int()函數將輸入的字串轉換成整數變數\n",
        "\n",
        "__Process:__ 使用迴圈還有沒有得換: 三個空罐換一罐新的\n",
        "\n",
        "__Output:__ 套用f-string"
      ]
    },
    {
      "cell_type": "code",
      "metadata": {
        "id": "IInvOJaR9Cam"
      },
      "source": [
        "N = int(input())\n",
        "sum = N # 喝到的汽水數量\n",
        "drank = N\n",
        "while drank >= 3:\n",
        "    reward = drank//3 #三個空罐可以換一罐新的\n",
        "    sum += reward\n",
        "    drank = drank%3 + reward #新的空罐數\n",
        "\n",
        "print(sum)"
      ],
      "execution_count": null,
      "outputs": []
    },
    {
      "cell_type": "markdown",
      "metadata": {
        "id": "D1ph_qkF9Xku"
      },
      "source": [
        "### M2-Q27 檢查相鄰的奇數\n",
        "\n",
        "問題描述：\n",
        "輸入5個數字\n",
        "\n",
        "輸入說明：\n",
        "輸出是否有相鄰的奇數。\n",
        "\n",
        "輸出說明：\n",
        "有相鄰的奇數，輸出第一組相鄰的奇數，否則輪出NO。\n",
        "\n",
        "\n",
        "| Sample Input:   |      Sample Output:      |\n",
        "|:----------------|:-------------------------|\n",
        "|5 6 7 8 9 |NO⏎   |\n",
        "|8 9 11 13 15|9,11⏎ |"
      ]
    },
    {
      "cell_type": "markdown",
      "metadata": {
        "id": "ObS33f0O_Gp3"
      },
      "source": [
        "<font size=\"10\">&#x0210B;</font>int(祕技):\n",
        "\n",
        "__Input:__ 使用list(), map(),int()函數將輸入的字串轉換成整數序列\n",
        "\n",
        "__Process:__ 使用迴圈檢查是否有相鄰的奇數\n",
        "\n",
        "__Output:__ 套用f-string"
      ]
    },
    {
      "cell_type": "code",
      "metadata": {
        "id": "CAanv81-8NWZ"
      },
      "source": [
        "nums = list(map(int, input().split())) #用map()將輸入轉成 int 變數\n",
        "found = False\n",
        "for i in range(len(nums)-1):\n",
        "  if nums[i]%2==1 and nums[i+1]%2==1:\n",
        "    print(f'{nums[i]},{nums[i+1]}')\n",
        "    found = True\n",
        "    break;\n",
        "if found == False:\n",
        "  print('NO')"
      ],
      "execution_count": null,
      "outputs": []
    }
  ]
}