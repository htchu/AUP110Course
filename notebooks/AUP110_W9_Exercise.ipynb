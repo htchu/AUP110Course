{
 "cells": [
  {
   "cell_type": "markdown",
   "metadata": {
    "id": "L_j9J2r5MfQd"
   },
   "source": [
    "#  Leetcode problem: Two Sum \n",
    "https://leetcode.com/problems/two-sum/\n",
    "\n"
   ]
  },
  {
   "cell_type": "markdown",
   "metadata": {
    "id": "zmJdHSVSqUh0"
   },
   "source": [
    "## Method-1"
   ]
  },
  {
   "cell_type": "code",
   "execution_count": 21,
   "metadata": {
    "executionInfo": {
     "elapsed": 762,
     "status": "ok",
     "timestamp": 1605643124861,
     "user": {
      "displayName": "Hsueh-Ting Chu",
      "photoUrl": "https://lh3.googleusercontent.com/a-/AOh14GhjZzSScd4C7GeSLbsZaxvk3HSuE8FYBfeM8i1FYg=s64",
      "userId": "03319341302301572023"
     },
     "user_tz": -480
    },
    "id": "1xGqC3DUMemY"
   },
   "outputs": [],
   "source": [
    "from typing import List\n",
    "def twoSum(nums: List[int], target: int) -> List[int]:\n",
    "    #程式區間\n",
    "    for i, num1 in enumerate(nums):\n",
    "            for j, num2 in enumerate(nums):\n",
    "                if i == j:\n",
    "                    continue\n",
    "                if num1 + num2 == target:\n",
    "                    return [i, j]\n"
   ]
  },
  {
   "cell_type": "markdown",
   "metadata": {
    "id": "FbHzjHfVM-tF"
   },
   "source": [
    "Given an array of integers nums and an integer target, return indices of the two numbers such that they add up to target.\n",
    "\n",
    "You may assume that each input would have exactly one solution, and you may not use the same element twice.\n",
    "\n",
    "You can return the answer in any order."
   ]
  },
  {
   "cell_type": "code",
   "execution_count": 22,
   "metadata": {
    "colab": {
     "base_uri": "https://localhost:8080/"
    },
    "executionInfo": {
     "elapsed": 879,
     "status": "ok",
     "timestamp": 1605643128529,
     "user": {
      "displayName": "Hsueh-Ting Chu",
      "photoUrl": "https://lh3.googleusercontent.com/a-/AOh14GhjZzSScd4C7GeSLbsZaxvk3HSuE8FYBfeM8i1FYg=s64",
      "userId": "03319341302301572023"
     },
     "user_tz": -480
    },
    "id": "4n9kzM81kCwb",
    "outputId": "0bda41a2-e0a8-4080-ef2b-bba94cfaa324"
   },
   "outputs": [
    {
     "name": "stdout",
     "output_type": "stream",
     "text": [
      "[0, 1]\n"
     ]
    }
   ],
   "source": [
    "nums=[2,7,11,15]\n",
    "target=9\n",
    "result =twoSum(nums, target)  \n",
    "print(result) "
   ]
  },
  {
   "cell_type": "markdown",
   "metadata": {
    "id": "SsYBqyTkqxQ8"
   },
   "source": [
    "## Method-2: 使用字典\n",
    "\n",
    "To improve our run time complexity, we need a more efficient way to check if the complement exists in the array. If the complement exists, we need to look up its index. What is the best way to maintain a mapping of each element in the array to its index? A hash table(dictionary)."
   ]
  },
  {
   "cell_type": "code",
   "execution_count": null,
   "metadata": {
    "id": "QQBkkC0JqSQB"
   },
   "outputs": [],
   "source": [
    "def twoSum(nums: List[int], target: int) -> List[int]:\n",
    "    #程式區間"
   ]
  }
 ],
 "metadata": {
  "colab": {
   "authorship_tag": "ABX9TyMMVC01oC02b+/TCkmmmzhk",
   "collapsed_sections": [],
   "name": "AUPython-Ex9-Begin.ipynb",
   "provenance": [
    {
     "file_id": "1QNsyPc4c3iazMzSviyx1svpQkO0kMunj",
     "timestamp": 1605638946991
    }
   ]
  },
  "kernelspec": {
   "display_name": "Python 3",
   "language": "python",
   "name": "python3"
  },
  "language_info": {
   "codemirror_mode": {
    "name": "ipython",
    "version": 3
   },
   "file_extension": ".py",
   "mimetype": "text/x-python",
   "name": "python",
   "nbconvert_exporter": "python",
   "pygments_lexer": "ipython3",
   "version": "3.7.6"
  }
 },
 "nbformat": 4,
 "nbformat_minor": 1
}
