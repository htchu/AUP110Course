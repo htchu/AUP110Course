{
  "nbformat": 4,
  "nbformat_minor": 0,
  "metadata": {
    "colab": {
      "name": "AUP110_W9_Exercise.ipynb",
      "provenance": [],
      "collapsed_sections": []
    },
    "kernelspec": {
      "display_name": "Python 3",
      "language": "python",
      "name": "python3"
    },
    "language_info": {
      "codemirror_mode": {
        "name": "ipython",
        "version": 3
      },
      "file_extension": ".py",
      "mimetype": "text/x-python",
      "name": "python",
      "nbconvert_exporter": "python",
      "pygments_lexer": "ipython3",
      "version": "3.7.6"
    }
  },
  "cells": [
    {
      "cell_type": "markdown",
      "metadata": {
        "id": "EUjJ7ImLnPVr"
      },
      "source": [
        "# AU Fundamentals of Python Programming\n",
        "\n"
      ]
    },
    {
      "cell_type": "markdown",
      "metadata": {
        "id": "Brr3xF5uqTCp"
      },
      "source": [
        "## Ex9-1  n×n 乘法表 (M2-Q10)\n",
        "\n",
        "問題描述：\n",
        "輸出 n×n 乘法表。\n",
        "\n",
        "輸入說明：\n",
        "輸入一正整數 n。\n",
        "\n",
        "輸出說明：\n",
        "輸出 n×n 乘法表(0<n<=9)，每個輸出數字皆以 tab 間格，最後必須有換行字元。\n",
        "\n",
        "| Sample Input:   |      Sample Output:      |\n",
        "|:----------------|:-------------------------|\n",
        "|8 | 1      &nbsp;2      &nbsp;3       &nbsp;4     &nbsp;5      &nbsp;6       &nbsp;7      &nbsp;8   |\n",
        "| | 2     &nbsp;4      &nbsp;6       &nbsp;8   10    12    14    16   |\n",
        "| | 3     &nbsp;6      &nbsp;9     12   15    18    21    24   |\n",
        "| | 4    &nbsp;8    12     16   20   24   28   32   |\n",
        "| | 5   10    15    20   25    30   35  40   |\n",
        "| | 6   12    18    24   30   36   42   48   |\n",
        "| | 7   14    21    28   35    42   49   56   |\n",
        "| | 8   16   24    32   40   48   56   64⏎   |\n",
        "|5   |1     2      3       4      5 |\n",
        "| | 2     4      6      8    10   |\n",
        "| | 3     6      9    12    15   |\n",
        "| | 4     8    12    16    20   |\n",
        "| | 5   10    15    20   25⏎   |"
      ]
    },
    {
      "cell_type": "markdown",
      "metadata": {
        "id": "cHiXWmApnZ_W"
      },
      "source": [
        "### Step 1: 輸入一正整數 n"
      ]
    },
    {
      "cell_type": "code",
      "metadata": {
        "id": "8JL0O3Dw0hVK"
      },
      "source": [
        "n=int(input())"
      ],
      "execution_count": null,
      "outputs": []
    },
    {
      "cell_type": "markdown",
      "metadata": {
        "id": "XBxsl5E23SuC"
      },
      "source": [
        "### Step 2: 輸出 n×n 乘法表(0<n<=9)"
      ]
    },
    {
      "cell_type": "code",
      "metadata": {
        "id": "PBlTlafx3Poe"
      },
      "source": [
        ""
      ],
      "execution_count": null,
      "outputs": []
    },
    {
      "cell_type": "markdown",
      "metadata": {
        "id": "kclzQu9N31o5"
      },
      "source": [
        "## Ex9-2 實心正方形(M2-Q12)\n",
        "\n",
        "問題描述：\n",
        "試撰寫一程式，由使用者輸入一正整數 n 及字元 c，輸出以 c 字元印出邊長為 n 之實心正方形。\n",
        "\n",
        "輸入說明：\n",
        "分別輸入一正整數 n 及字元 c。\n",
        "\n",
        "輸出說明：\n",
        "輸出以 c 字元，印出邊長為 n 之實心正方形，最後必須有換行字元。\n",
        "\n",
        "| Sample Input:   |      Sample Output:      |\n",
        "|:----------------|:-------------------------|\n",
        "|3@ | \\@\\@\\@   |\n",
        "|   |\\@\\@\\@ |\n",
        "|   |\\@\\@\\@⏎ |"
      ]
    },
    {
      "cell_type": "markdown",
      "metadata": {
        "id": "ZTf06rZe4sdl"
      },
      "source": [
        "### Step 1: 輸入一正整數 n 及字元 c"
      ]
    },
    {
      "cell_type": "code",
      "metadata": {
        "id": "7AzrK1j_npYa"
      },
      "source": [
        ""
      ],
      "execution_count": null,
      "outputs": []
    },
    {
      "cell_type": "markdown",
      "metadata": {
        "id": "bYlm5Mld5Pcu"
      },
      "source": [
        "### Step 2: 印出邊長為 n 之實心正方形"
      ]
    },
    {
      "cell_type": "code",
      "metadata": {
        "id": "7w4uuKYj5T2C"
      },
      "source": [
        ""
      ],
      "execution_count": null,
      "outputs": []
    },
    {
      "cell_type": "code",
      "metadata": {
        "id": "EbZnPm_GnzgW"
      },
      "source": [
        ""
      ],
      "execution_count": null,
      "outputs": []
    }
  ]
}