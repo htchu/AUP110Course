{
 "cells": [
  {
   "cell_type": "markdown",
   "metadata": {
    "id": "EUjJ7ImLnPVr"
   },
   "source": [
    "# AU Fundamentals of Python Programming-W15\n",
    "\n"
   ]
  },
  {
   "cell_type": "markdown",
   "metadata": {
    "id": "ZYaT6xesMCGJ"
   },
   "source": [
    "## Topic 1(主題1)-str\n",
    "https://docs.python.org/zh-tw/3/library/stdtypes.html#text-sequence-type-str\n",
    "* str.find(sub[, start[, end]])\n",
    "* str.format(*args, **kwargs)\n",
    "* str.split(sep=None, maxsplit=-1)\n",
    "* str.strip([chars])\n",
    "* str.upper()\n",
    "* str.lower()"
   ]
  },
  {
   "cell_type": "code",
   "execution_count": null,
   "metadata": {
    "id": "aq3vvL9DMoxh"
   },
   "outputs": [],
   "source": []
  },
  {
   "cell_type": "markdown",
   "metadata": {
    "id": "GdRv2WWgMoL1"
   },
   "source": [
    "Topic 2(主題2)-DataTime\n",
    "https://docs.python.org/zh-tw/3/library/datetime.html\n",
    "* datetime.date\n",
    "一个理想化的简单型日期，它假设当今的公历在过去和未来永远有效。 属性: year, month, and day。\n",
    "\n",
    "* datetime.time\n",
    "一个独立于任何特定日期的理想化时间，它假设每一天都恰好等于 24*60*60 秒。 （这里没有“闰秒”的概念。） 包含属性: hour, minute, second, microsecond 和 tzinfo。\n",
    "\n",
    "* datetime.datetime\n",
    "日期和时间的结合。属性：year, month, day, hour, minute, second, microsecond, and tzinfo.\n",
    "\n",
    "* datetime.timedelta\n",
    "表示两个 date 对象或者 time 对象,或者 datetime 对象之间的时间间隔，精确到微秒。\n",
    "\n",
    "* datetime.tzinfo\n",
    "一个描述时区信息对象的抽象基类。 用来给 datetime 和 time 类提供自定义的时间调整概念（例如处理时区和/或夏令时）。\n",
    "\n",
    "* datetime.timezone\n",
    "* date.weekday()\n",
    "返回一个整数代表星期几，星期一为0，星期天为6。例如， date(2002, 12, 4).weekday() == 2，表示的是星期三。参阅 isoweekday()。\n",
    "* date.isoweekday()¶"
   ]
  },
  {
   "cell_type": "code",
   "execution_count": null,
   "metadata": {
    "id": "_alu_5arNHYW"
   },
   "outputs": [],
   "source": []
  },
  {
   "cell_type": "markdown",
   "metadata": {
    "id": "LjUila22NHh8"
   },
   "source": [
    "## Topic 3(主題3)-sqlite3\n",
    "https://docs.python.org/zh-tw/3/library/sqlite3.html"
   ]
  },
  {
   "cell_type": "code",
   "execution_count": null,
   "metadata": {
    "id": "PtE9V7t9NUK1"
   },
   "outputs": [],
   "source": []
  },
  {
   "cell_type": "markdown",
   "metadata": {
    "id": "kLe1GoiTtrgI"
   },
   "source": [
    "## Topic 4(主題4)-Web crawler2"
   ]
  },
  {
   "cell_type": "code",
   "execution_count": null,
   "metadata": {
    "id": "oNyXxBGlKX9o"
   },
   "outputs": [],
   "source": [
    "from urllib import request\n",
    "with request.urlopen('http://www.asia.edu.tw/news1.php') as response:\n",
    "    html = response.read().decode('utf-8')\n",
    "    print(html)"
   ]
  },
  {
   "cell_type": "code",
   "execution_count": null,
   "metadata": {
    "id": "K2wmp5p1KwAO"
   },
   "outputs": [],
   "source": [
    "#收集學校新聞的大數據\n",
    "from urllib import request\n",
    "count = 0\n",
    "sss = [\"2008\", \"2009\",\"2010\", \"2011\", \"2012\",\"2013\",\"2014\",\"2015\",\"2016\",\"2017\",\"2018\", \"2019\", \"2020\"]\n",
    "pattern1 = 'href=\"news1_detail1.php?no='\n",
    "pattern2 = '<font color=\"#446666\" face=\"微軟正黑體\" size=\"2\">['\n",
    "pattern3 = '<font color=\"#446666\" face=\"新細明體\" style=\"font-weight: 700;\" size=\"2\">'\n",
    "for i in range(len(sss)):\n",
    "    year = sss[i]\n",
    "    with request.urlopen('http://www.asia.edu.tw/news1.php?y='+year) as response:\n",
    "        html = response.read().decode('utf-8')\n",
    "        #print(html)\n",
    "        pos = 0\n",
    "        while pos < len(html):\n",
    "            pos1 = html.find(pattern1, pos)\n",
    "            if pos1 == -1:\n",
    "              break;\n",
    "            pos1 +=len(pattern1)\n",
    "            pos2 = html.find('\">', pos1)\n",
    "            newsid = html[pos1:pos2]\n",
    "\n",
    "            pos1 = html.find(pattern2, pos2)+len(pattern2)\n",
    "            pos2 = html.find(']', pos1)\n",
    "            newsdate = html[pos1:pos2]\n",
    "        \n",
    "            pos1 = html.find(pattern3, pos2)+len(pattern3)\n",
    "            pos2 = html.find('</font>', pos1)\n",
    "            newstitle = html[pos1:pos2]\n",
    "            pos = pos2+1\n",
    "            count = count + 1\n",
    "            print(newsid, newsdate, newstitle)\n",
    "            break\n",
    "print (count)"
   ]
  },
  {
   "cell_type": "code",
   "execution_count": null,
   "metadata": {
    "id": "F6mqnoGZr0_R"
   },
   "outputs": [],
   "source": [
    "!rm news2.db"
   ]
  },
  {
   "cell_type": "code",
   "execution_count": null,
   "metadata": {
    "id": "UG8WCccvK5zR"
   },
   "outputs": [],
   "source": [
    "#建立新聞標題的資料庫\n",
    "import sqlite3\n",
    "conn = sqlite3.connect('news2.db')\n",
    "c = conn.cursor()\n",
    "\n",
    "# Create table\n",
    "c.execute(\"CREATE TABLE news (newsid INTEGER PRIMARY KEY, title text, newsdate timestamp)\")\n",
    "\n",
    "#收集學校新聞的大數據\n",
    "from urllib import request\n",
    "count = 0\n",
    "sss = [\"2008\", \"2009\",\"2010\", \"2011\", \"2012\",\"2013\",\"2014\",\"2015\",\"2016\",\"2017\",\"2018\", \"2019\", \"2020\"]\n",
    "pattern1 = 'href=\"news1_detail1.php?no='\n",
    "pattern2 = '<font color=\"#446666\" face=\"微軟正黑體\" size=\"2\">['\n",
    "pattern3 = '<font color=\"#446666\" face=\"新細明體\" style=\"font-weight: 700;\" size=\"2\">'\n",
    "for i in range(len(sss)):\n",
    "    year = sss[i]\n",
    "    with request.urlopen('http://www.asia.edu.tw/news1.php?y='+year) as response:\n",
    "        html = response.read().decode('utf-8')\n",
    "        #print(html)\n",
    "        pos = 0\n",
    "        while pos < len(html):\n",
    "            pos1 = html.find(pattern1, pos)\n",
    "            if pos1 == -1:\n",
    "              break;\n",
    "            pos1 +=len(pattern1)\n",
    "            pos2 = html.find('\">', pos1)\n",
    "            newsid = html[pos1:pos2]\n",
    "\n",
    "            pos1 = html.find(pattern2, pos2)+len(pattern2)\n",
    "            pos2 = html.find(']', pos1)\n",
    "            newsdate = html[pos1:pos2]\n",
    "        \n",
    "            pos1 = html.find(pattern3, pos2)+len(pattern3)\n",
    "            pos2 = html.find('</font>', pos1)\n",
    "            newstitle = html[pos1:pos2]\n",
    "            pos = pos2+1\n",
    "            count = count + 1\n",
    "            ss = \"INSERT INTO news VALUES ('{}','{}','{}')\".format(newsid, newstitle, newsdate)\n",
    "            c.execute(ss)\n",
    "print (count)\n",
    "# Save (commit) the changes\n",
    "conn.commit()\n",
    "conn.close()"
   ]
  },
  {
   "cell_type": "code",
   "execution_count": null,
   "metadata": {
    "id": "HdEO_w33iu07"
   },
   "outputs": [],
   "source": []
  },
  {
   "cell_type": "code",
   "execution_count": null,
   "metadata": {
    "id": "5tdU-2PMK39C"
   },
   "outputs": [],
   "source": [
    "!rm news.db"
   ]
  },
  {
   "cell_type": "code",
   "execution_count": null,
   "metadata": {
    "id": "bT153yYiK74w"
   },
   "outputs": [],
   "source": [
    "#查詢學校新聞標題有人工智慧\n",
    "conn = sqlite3.connect('news2.db')\n",
    "c = conn.cursor()\n",
    "for row in c.execute('''SELECT * FROM news AS ns WHERE title LIKE '%AI%' AND strftime('%Y', ns.newsdate) = '2019' '''):\n",
    "    print(row)\n",
    "conn.close()"
   ]
  }
 ],
 "metadata": {
  "colab": {
   "collapsed_sections": [],
   "name": "AUPython-W15.ipynb",
   "provenance": [
    {
     "file_id": "1daIacpYxeY5dBFkJ4G8Y3V122-0Fi-rU",
     "timestamp": 1610466109762
    },
    {
     "file_id": "1-rcQ3m5UncT2e1yR8MZBgMlt1lVACwrs",
     "timestamp": 1609278456715
    },
    {
     "file_id": "1q-Q5C63E3nkknrok1ZzXPxXePZvaj9rH",
     "timestamp": 1602517441244
    },
    {
     "file_id": "11UCygPFMkDJsCLLKC2Zy2V9oTDtPzJsf",
     "timestamp": 1602517407917
    },
    {
     "file_id": "1Zr5XPDYc0YyWUqLyD4atVeYWHFmsE6r3",
     "timestamp": 1602517385174
    },
    {
     "file_id": "1SMkIGw6ns8qmTCqBZkIx1AC2PPBb736x",
     "timestamp": 1602517368606
    },
    {
     "file_id": "125J9OavrIedCKj2WrLuWtDZhM05rFA9o",
     "timestamp": 1602517349936
    },
    {
     "file_id": "1GVp3lV2O8Lt84DBHf_2HWV-k3LbxuZgD",
     "timestamp": 1602517332956
    },
    {
     "file_id": "1-sOlM5gnjXT4BuUw75fcItqEGXKSQ62Z",
     "timestamp": 1602517315061
    },
    {
     "file_id": "1fvBHhyx5HM_s6X_XqiVRY2sFBdgWcR6p",
     "timestamp": 1602517280402
    },
    {
     "file_id": "12RGkebp0l7RfBLcMK64Usni4xnhwEtt4",
     "timestamp": 1602517229661
    },
    {
     "file_id": "1a__-B_dtsembRipucBL2wkIIe4a6aMRl",
     "timestamp": 1601990504926
    }
   ]
  },
  "kernelspec": {
   "display_name": "Python 3",
   "language": "python",
   "name": "python3"
  },
  "language_info": {
   "codemirror_mode": {
    "name": "ipython",
    "version": 3
   },
   "file_extension": ".py",
   "mimetype": "text/x-python",
   "name": "python",
   "nbconvert_exporter": "python",
   "pygments_lexer": "ipython3",
   "version": "3.7.6"
  }
 },
 "nbformat": 4,
 "nbformat_minor": 1
}
