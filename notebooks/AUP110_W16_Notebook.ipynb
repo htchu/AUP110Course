{
  "nbformat": 4,
  "nbformat_minor": 0,
  "metadata": {
    "colab": {
      "name": "AUP110_W16_Notebook.ipynb",
      "provenance": [],
      "collapsed_sections": []
    },
    "kernelspec": {
      "name": "python3",
      "display_name": "Python 3"
    }
  },
  "cells": [
    {
      "cell_type": "markdown",
      "metadata": {
        "id": "b4-1tJhnmy6C"
      },
      "source": [
        "![image](https://www.python.org/static/img/python-logo.png)\n",
        "# 亞洲大學基礎程式設計教材(AUP110-Fundamentals of Programming)\n",
        "![Open In Colab](https://colab.research.google.com/assets/colab-badge.svg)\n"
      ]
    },
    {
      "cell_type": "markdown",
      "metadata": {
        "id": "EUjJ7ImLnPVr"
      },
      "source": [
        "# Week16-模組(Module)和套件 (Package)\n",
        "\n",
        "https://docs.python.org/zh-tw/3/tutorial/modules.html\n",
        "\n",
        "隨著程式越變越長，為了較好的程式結構，一個專案的程式碼會分開成幾個檔案，讓它比較好維護，也會引用在其他程式寫好的函式。為了支援這一點，Python 透過模組 (module)化的方法將定義放入檔案中。模組中的定義可以被 import 到其他模組中，或是被 import 至主 (main) 模組（在最頂層執行的腳本，以及互動模式下，所使用的變數集合）。\n",
        "\n",
        "模組是指包含 Python 定義和語句的檔案，檔案名稱是模組名稱加上 .py。在模組中，模組的名稱（作為字串）會是全域變數 __name__ 的值。\n",
        "\n"
      ]
    },
    {
      "cell_type": "markdown",
      "metadata": {
        "id": "kLe1GoiTtrgI"
      },
      "source": [
        "## Topic 1(主題1)-模組的使用"
      ]
    },
    {
      "cell_type": "markdown",
      "metadata": {
        "id": "Bw-umRtmqGOT"
      },
      "source": [
        "### Step 1: 創建一個檔案叫fibo.py"
      ]
    },
    {
      "cell_type": "markdown",
      "metadata": {
        "id": "mFxKQK_Bmm0p"
      },
      "source": [
        "```\n",
        "# Fibonacci numbers module\n",
        "\n",
        "def fib(n):    # write Fibonacci series up to n\n",
        "    a, b = 0, 1\n",
        "    while a < n:\n",
        "        print(a, end=' ')\n",
        "        a, b = b, a+b\n",
        "    print()\n",
        "\n",
        "def fib2(n):   # return Fibonacci series up to n\n",
        "    result = []\n",
        "    a, b = 0, 1\n",
        "    while a < n:\n",
        "        result.append(a)\n",
        "        a, b = b, a+b\n",
        "    return result\n",
        "```"
      ]
    },
    {
      "cell_type": "markdown",
      "metadata": {
        "id": "gWTox2iVqVs8"
      },
      "source": [
        "### Step 2: 匯入fibo模組"
      ]
    },
    {
      "cell_type": "code",
      "metadata": {
        "id": "MR8X8qbtmmFC"
      },
      "source": [
        "import fibo"
      ],
      "execution_count": null,
      "outputs": []
    },
    {
      "cell_type": "markdown",
      "metadata": {
        "id": "otqr0UNhqkWl"
      },
      "source": [
        "### Step 3: 存取函數"
      ]
    },
    {
      "cell_type": "code",
      "metadata": {
        "id": "0Egb2bpoqtF0"
      },
      "source": [
        "fibo.fib(1000)"
      ],
      "execution_count": null,
      "outputs": []
    },
    {
      "cell_type": "code",
      "metadata": {
        "id": "Ik_O8wAgquKE"
      },
      "source": [
        "fibo.fib2(100)"
      ],
      "execution_count": null,
      "outputs": []
    },
    {
      "cell_type": "markdown",
      "metadata": {
        "id": "Jh8JnoDTqwWR"
      },
      "source": [
        "### Step 4: 將模組函數指定至區域變數"
      ]
    },
    {
      "cell_type": "code",
      "metadata": {
        "id": "xvOfSE6Rq8mA"
      },
      "source": [
        "fib = fibo.fib\n",
        "fib(500)"
      ],
      "execution_count": null,
      "outputs": []
    },
    {
      "cell_type": "markdown",
      "metadata": {
        "id": "zmdgJkYLrYh0"
      },
      "source": [
        "### Step 5: from"
      ]
    },
    {
      "cell_type": "code",
      "metadata": {
        "id": "P7d6e7rdrht6"
      },
      "source": [
        "from fibo import fib\n",
        "fib(500)"
      ],
      "execution_count": null,
      "outputs": []
    },
    {
      "cell_type": "code",
      "metadata": {
        "id": "FWzlNmGirnsT"
      },
      "source": [
        "from fibo import *\n",
        "fib2(500)"
      ],
      "execution_count": null,
      "outputs": []
    },
    {
      "cell_type": "markdown",
      "metadata": {
        "id": "iJMubEh4rsDC"
      },
      "source": [
        "### Step 6: as"
      ]
    },
    {
      "cell_type": "code",
      "metadata": {
        "id": "SEN65NZwrwdk"
      },
      "source": [
        "import fibo as fi\n",
        "fi.fib(500)"
      ],
      "execution_count": null,
      "outputs": []
    },
    {
      "cell_type": "code",
      "metadata": {
        "id": "LfiUVRBosBod"
      },
      "source": [
        "from fibo import fib as fibonacci\n",
        "fibonacci(500)"
      ],
      "execution_count": null,
      "outputs": []
    },
    {
      "cell_type": "markdown",
      "metadata": {
        "id": "drQ0A6VIrGOe"
      },
      "source": [
        "## Topic 2(主題2)-套件 (Package)的使用\n",
        "\n",
        "套件是一種使用Python 模組命名空間的方法。例如，模組名稱 A.B 表示套件 A 中名為 B 的子模組。正如模組使用時，不同模組的作者不需擔心與其他模組的全域變數名稱重複，點分隔模組名稱的使用，也讓多模組套件（像 NumPy 或 Pillow）的作者們不須擔心其他套件的模組名稱。\n",
        "\n",
        "Import 套件時，Python 會搜尋 sys.path 裡的目錄，尋找套件的子目錄。"
      ]
    },
    {
      "cell_type": "markdown",
      "metadata": {
        "id": "SugYMWwJtGxS"
      },
      "source": [
        "### Step 7: csv 標準函式庫 (Standard Library)\n",
        "\n",
        "CSV (Comma Separated Values) 格式是電子表格和數據庫中最常見的輸入、輸出文件格式。https://en.wikipedia.org/wiki/Comma-separated_values"
      ]
    },
    {
      "cell_type": "code",
      "metadata": {
        "id": "H5z-jhoMtSqD"
      },
      "source": [
        "Names  = [ \"John\", \"Frank\", \"Joe\", \"Ben\"]\n",
        "Scores = [ 50, 77, 33, 22]"
      ],
      "execution_count": null,
      "outputs": []
    },
    {
      "cell_type": "code",
      "metadata": {
        "id": "89azpjPwuqlu"
      },
      "source": [
        "import csv\n",
        "pairs = zip(Names, Scores)\n",
        "with open('students.csv', 'w', newline='') as student_file:\n",
        "    writer = csv.writer(student_file)\n",
        "    writer.writerow([\"No\", \"Name\", \"Score\"])\n",
        "    for i, (n, s) in enumerate(pairs):\n",
        "      writer.writerow([i, n, s])"
      ],
      "execution_count": null,
      "outputs": []
    },
    {
      "cell_type": "code",
      "metadata": {
        "id": "93GTdZm-wY1f"
      },
      "source": [
        "import csv, sys\n",
        "filename = 'students.csv'\n",
        "with open(filename, newline='') as f:\n",
        "    reader = csv.reader(f)\n",
        "    try:\n",
        "        for row in reader:\n",
        "            print(row)\n",
        "    except csv.Error as e:\n",
        "        sys.exit('file {}, line {}: {}'.format(filename, reader.line_num, e))"
      ],
      "execution_count": null,
      "outputs": []
    },
    {
      "cell_type": "markdown",
      "metadata": {
        "id": "mElULChZwt8k"
      },
      "source": [
        "### Step 8: pandas函式庫 (Python for Data Analysis)\n",
        "https://pandas.pydata.org/"
      ]
    },
    {
      "cell_type": "code",
      "metadata": {
        "id": "CnF1rosNxFfl"
      },
      "source": [
        "import pandas as pd\n",
        "filename = 'students.csv'\n",
        "df = pd.read_csv(filename, index_col=\"No\")"
      ],
      "execution_count": null,
      "outputs": []
    },
    {
      "cell_type": "markdown",
      "metadata": {
        "id": "ogjHCgwZyPBM"
      },
      "source": [
        "https://pandas.pydata.org/pandas-docs/stable/reference/api/pandas.read_csv.html\n",
        "\n",
        "pandas.read_csv(filepath_or_buffer, sep=NoDefault.no_default, delimiter=None, header='infer', names=NoDefault.no_default, index_col=None, usecols=None, squeeze=False, prefix=NoDefault.no_default, mangle_dupe_cols=True, dtype=None, engine=None, converters=None, true_values=None, false_values=None, skipinitialspace=False, skiprows=None, skipfooter=0, nrows=None, na_values=None, keep_default_na=True, na_filter=True, verbose=False, skip_blank_lines=True, parse_dates=False, infer_datetime_format=False, keep_date_col=False, date_parser=None, dayfirst=False, cache_dates=True, iterator=False, chunksize=None, compression='infer', thousands=None, decimal='.', lineterminator=None, quotechar='\"', quoting=0, doublequote=True, escapechar=None, comment=None, encoding=None, encoding_errors='strict', dialect=None, error_bad_lines=None, warn_bad_lines=None, on_bad_lines=None, delim_whitespace=False, low_memory=True, memory_map=False, float_precision=None, storage_options=None)"
      ]
    },
    {
      "cell_type": "code",
      "metadata": {
        "id": "jbi8ABGIxa-P"
      },
      "source": [
        "df.head()"
      ],
      "execution_count": null,
      "outputs": []
    },
    {
      "cell_type": "markdown",
      "metadata": {
        "id": "oJs-2ih0y_r8"
      },
      "source": [
        "## Topic 3(主題3)-套件 (Package)的安裝\n",
        "\n",
        "pip是一個以Python電腦程式語言寫成的軟件包管理系統，他可以安裝和管理軟件包，另外不少的軟件包也可以在「Python軟件包索引」（英語：Python Package Index，PyPI）中找到。許多Python的發行版中已經預裝了pip。"
      ]
    },
    {
      "cell_type": "markdown",
      "metadata": {
        "id": "CJ3jCksMzLv_"
      },
      "source": [
        "### Step 9:安裝folium套件\n"
      ]
    },
    {
      "cell_type": "code",
      "metadata": {
        "id": "0f1LERo_14Fp"
      },
      "source": [
        "# Install folium package\n",
        "!pip install folium"
      ],
      "execution_count": null,
      "outputs": []
    },
    {
      "cell_type": "markdown",
      "metadata": {
        "id": "k4dr9hU818mz"
      },
      "source": [
        "### Step 10:使用folium套件，呈現亞大地圖\n",
        "\n",
        "https://python-visualization.github.io/folium/quickstart.html"
      ]
    },
    {
      "cell_type": "code",
      "metadata": {
        "id": "ySTsjihk2NNY"
      },
      "source": [
        "# Making a map using the folium module\n",
        "import folium"
      ],
      "execution_count": null,
      "outputs": []
    },
    {
      "cell_type": "code",
      "metadata": {
        "id": "Acd8vIZz2DgR"
      },
      "source": [
        "fmap = folium.Map(location=[24.0470246,120.6894981], zoom_start=17)\n",
        "fmap"
      ],
      "execution_count": null,
      "outputs": []
    },
    {
      "cell_type": "markdown",
      "metadata": {
        "id": "yeqI0IJO3C6l"
      },
      "source": [
        "### Step 11:使用folium的標記(Markers)，呈現資電學院位置\n"
      ]
    },
    {
      "cell_type": "code",
      "metadata": {
        "id": "9r98ATCf3mvj"
      },
      "source": [
        "tooltip = \"資電學院\"\n",
        "fmap = folium.Map(location=[24.0470246,120.6893], zoom_start=17)\n",
        "folium.Marker(\n",
        "    [24.045670,120.6858], popup=\"資電學院辦公室在6樓哦...\", tooltip=tooltip\n",
        ").add_to(fmap)\n",
        "\n",
        "fmap"
      ],
      "execution_count": null,
      "outputs": []
    },
    {
      "cell_type": "markdown",
      "metadata": {
        "id": "1Sm4jaAz6cYn"
      },
      "source": [
        "## Topic 4(主題4)-Python 標準函數庫的時間套件\n",
        "https://docs.python.org/3/tutorial/stdlib.html#dates-and-times\n",
        "* time\n",
        "* datetime\n",
        "* calendar"
      ]
    },
    {
      "cell_type": "markdown",
      "metadata": {
        "id": "Obapodi1DApW"
      },
      "source": [
        "### Step 12: time 標準函數庫\n",
        "\n",
        "Python的time函數庫是基於C語言的time函數庫。"
      ]
    },
    {
      "cell_type": "code",
      "metadata": {
        "id": "1vEXaUHhD59R"
      },
      "source": [
        "import time\n",
        "print(time.time())   # wall clock time, unit: second\n",
        "print(time.clock())  # processor clock time, unit: second"
      ],
      "execution_count": null,
      "outputs": []
    },
    {
      "cell_type": "code",
      "metadata": {
        "id": "nx3YPXj8SSO9"
      },
      "source": [
        "import time\n",
        "print('start')\n",
        "time.sleep(10)     # sleep for 10 seconds\n",
        "print('wake up')"
      ],
      "execution_count": null,
      "outputs": []
    },
    {
      "cell_type": "markdown",
      "metadata": {
        "id": "jBpVFnjGD6F6"
      },
      "source": [
        "### Step 13: datetime 標準函數庫\n",
        "https://docs.python.org/3/library/datetime.html#module-datetime\n",
        "\n",
        "datetime 模組提供許多 class 可以操作日期以及時間，從簡單從複雜都有。模組支援日期與時間的運算，而實作的重點是有效率的成員擷取以達到輸出格式化以及操作。模組也提供支援時區換算的類別。"
      ]
    },
    {
      "cell_type": "code",
      "metadata": {
        "id": "H3O9OY6iD7DV"
      },
      "source": [
        "from datetime import date\n",
        "now = date.today()\n",
        "print(now)\n",
        "datetime.date(2021, 11, 12)\n",
        "now.strftime(\"%m-%d-%y. %d %b %Y is a %A on the %d day of %B.\")\n"
      ],
      "execution_count": null,
      "outputs": []
    },
    {
      "cell_type": "markdown",
      "metadata": {
        "id": "ivPbA1raZOIH"
      },
      "source": [
        "### Step 14: 由生日計算幾歲"
      ]
    },
    {
      "cell_type": "code",
      "metadata": {
        "id": "9sy0S2MWEUZB"
      },
      "source": [
        "# dates support calendar arithmetic\n",
        "from datetime import date\n",
        "now = date.today()\n",
        "birthday = date(2003, 7, 31)\n",
        "age = now - birthday\n",
        "print(age)\n",
        "print(age.days)"
      ],
      "execution_count": null,
      "outputs": []
    },
    {
      "cell_type": "code",
      "metadata": {
        "id": "G-j6OZxPFBIU"
      },
      "source": [
        "from datetime import date\n",
        "now = date.today()\n",
        "birthday = date(2003, 7, 31)\n",
        "age = now.year - birthday.year + 1\n",
        "moncmp = now.month - birthday.month\n",
        "daycmp = now.day - birthday.day\n",
        "\n",
        "#type conversion here\n",
        "age = int(age)\n",
        "moncmp = int(moncmp)\n",
        "daycmp = int(daycmp)\n",
        "\n",
        "# some decisions\n",
        "if moncmp < 0 :\n",
        "  age = age-1\n",
        "elif daycmp < 0 and daycmp == 0:\n",
        "  age = age-1\n",
        "print(f\"You are {age} years old\")"
      ],
      "execution_count": null,
      "outputs": []
    },
    {
      "cell_type": "markdown",
      "metadata": {
        "id": "1tG863XBY8-_"
      },
      "source": [
        "### Step 15: 指定時區取得現在時間"
      ]
    },
    {
      "cell_type": "code",
      "metadata": {
        "id": "ssfoyj2OVDBp"
      },
      "source": [
        "dt=datetime.datetime.now()\n",
        "print(dt)"
      ],
      "execution_count": null,
      "outputs": []
    },
    {
      "cell_type": "code",
      "metadata": {
        "id": "_RLJS-JpYEH0"
      },
      "source": [
        "# 指定時區取得現在時間\n",
        "from datetime import datetime, timezone, timedelta\n",
        "# 設定為 +8 時區\n",
        "tz = timezone(timedelta(hours=+8))\n",
        "dt=datetime.now(tz)\n",
        "print(dt)"
      ],
      "execution_count": null,
      "outputs": []
    },
    {
      "cell_type": "markdown",
      "metadata": {
        "id": "C5chVUJJYl-g"
      },
      "source": [
        "### Step 16: 後天星期幾?"
      ]
    },
    {
      "cell_type": "code",
      "metadata": {
        "id": "r5FchiNDD8VA"
      },
      "source": [
        "ws=[\"星期一\",\"星期二\", \"星期三\",\"星期四\", \"星期五\", \"星期六\", \"星期日\"]\n",
        "\n",
        "#後天星期幾?\n",
        "import datetime\n",
        "# 設定為 +8 時區\n",
        "tz = timezone(timedelta(hours=+8))\n",
        "#後天\n",
        "dt=datetime.datetime.now() + datetime.timedelta(days=2)\n",
        "print(ws[dt.weekday()])#Monday is 0 and Sunday is 6"
      ],
      "execution_count": null,
      "outputs": []
    },
    {
      "cell_type": "markdown",
      "metadata": {
        "id": "LRvZ2TnHUuQs"
      },
      "source": [
        "### Step 17: pytz函數庫\n",
        "pytz時區設定模組\n",
        "\n",
        "datetime模組中有tzinfo相關的東西，但是它是一個抽象類，文件上說：\n",
        "tzinfo is an abstract base clase, meaning that this class should not be instantiated directly. You need to derive a concrete subclass, and (at least) supply implementations of the standard tzinfo methods needed by the datetime methods you use. The datetime module does not supply any concrete subclasses of tzinfo."
      ]
    },
    {
      "cell_type": "code",
      "metadata": {
        "id": "fZXuG-jrVhij"
      },
      "source": [
        "import pytz\n",
        "pytz.country_timezones('tw')"
      ],
      "execution_count": null,
      "outputs": []
    },
    {
      "cell_type": "code",
      "metadata": {
        "id": "jGe4zFnYVxys"
      },
      "source": [
        "tz = pytz.timezone('Asia/Taipei')\n",
        "dt=datetime.datetime.now(tz)\n",
        "print(dt)"
      ],
      "execution_count": null,
      "outputs": []
    },
    {
      "cell_type": "code",
      "metadata": {
        "id": "QfsjEskIU0DK"
      },
      "source": [
        "ws=[\"星期一\",\"星期二\", \"星期三\",\"星期四\", \"星期五\", \"星期六\", \"星期日\"]\n",
        "\n",
        "#後天星期幾?\n",
        "import datetime\n",
        "import pytz\n",
        "tz = pytz.timezone('Asia/Taipei')\n",
        "#後天\n",
        "dt=datetime.datetime.now(tz) + datetime.timedelta(days=2)\n",
        "print(ws[dt.weekday()])#Monday is 0 and Sunday is 6"
      ],
      "execution_count": null,
      "outputs": []
    },
    {
      "cell_type": "markdown",
      "metadata": {
        "id": "RRAo6LwBD8c0"
      },
      "source": [
        "### Step 18: calendar 標準函數庫"
      ]
    },
    {
      "cell_type": "code",
      "metadata": {
        "id": "L8HxA-IjS1-R"
      },
      "source": [
        "import calendar\n",
        "help(calendar.monthrange)"
      ],
      "execution_count": null,
      "outputs": []
    },
    {
      "cell_type": "code",
      "metadata": {
        "id": "8gvYUIBISvRT"
      },
      "source": [
        "year = 2021\n",
        "month = 12\n",
        "wday, mdays = calendar.monthrange(year,12)\n",
        "print(f\"For {year}/{month}, weekday is {wday}; number of days is {mdays}\")"
      ],
      "execution_count": null,
      "outputs": []
    }
  ]
}