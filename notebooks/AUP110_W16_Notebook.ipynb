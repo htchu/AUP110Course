{
  "nbformat": 4,
  "nbformat_minor": 0,
  "metadata": {
    "colab": {
      "name": "AUP110_W16_Notebook.ipynb",
      "provenance": [],
      "collapsed_sections": []
    },
    "kernelspec": {
      "name": "python3",
      "display_name": "Python 3"
    }
  },
  "cells": [
    {
      "cell_type": "markdown",
      "metadata": {
        "id": "b4-1tJhnmy6C"
      },
      "source": [
        "![image](https://www.python.org/static/img/python-logo.png)\n",
        "# 亞洲大學基礎程式設計教材(AUP110-Fundamentals of Programming)\n",
        "![Open In Colab](https://colab.research.google.com/assets/colab-badge.svg)\n"
      ]
    },
    {
      "cell_type": "markdown",
      "metadata": {
        "id": "EUjJ7ImLnPVr"
      },
      "source": [
        "# Week16-模組(Module)和套件 (Package)\n",
        "\n",
        "如果從 Python 直譯器離開後又再次進入，之前（幫函式或變數）做的定義都會消失。因此，想要寫一些比較長的程式時，你最好使用編輯器來準備要輸入給直譯器的內容，並且用該檔案來運行它。這就是一個腳本 (script)。隨著你的程式越變越長，你可能會想要把它分開成幾個檔案，讓它比較好維護。你可能也會想用一個你之前已經在其他程式寫好的函式，但不想要複製該函式的原始定義到所有使用它的程式裡。\n",
        "\n",
        "為了支援這一點，Python 有一種方法可以將定義放入檔案中，並在互動模式下的直譯器中使用它們。這種檔案稱為模組 (module)；模組中的定義可以被 import 到其他模組中，或是被 import 至主 (main) 模組（在最頂層執行的腳本，以及互動模式下，所使用的變數集合）。\n",
        "\n",
        "模組是指包含 Python 定義和語句的檔案，檔案名稱是模組名稱加上 .py。在模組中，模組的名稱（作為字串）會是全域變數 __name__ 的值。例如，用您喜歡的文字編輯器在資料夾中創一個名為 fibo.py 的檔案，內容如下：\n",
        "\n"
      ]
    },
    {
      "cell_type": "markdown",
      "metadata": {
        "id": "kLe1GoiTtrgI"
      },
      "source": [
        "## Topic 1(主題1)-字串和print()的參數"
      ]
    },
    {
      "cell_type": "markdown",
      "metadata": {
        "id": "mFxKQK_Bmm0p"
      },
      "source": [
        ""
      ]
    },
    {
      "cell_type": "code",
      "metadata": {
        "id": "MR8X8qbtmmFC"
      },
      "source": [
        ""
      ],
      "execution_count": null,
      "outputs": []
    }
  ]
}