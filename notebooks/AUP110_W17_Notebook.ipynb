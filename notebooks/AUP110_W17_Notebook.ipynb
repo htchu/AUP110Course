{
  "nbformat": 4,
  "nbformat_minor": 0,
  "metadata": {
    "colab": {
      "name": "AUP110_W17_Notebook.ipynb",
      "provenance": [],
      "toc_visible": true
    },
    "kernelspec": {
      "name": "python3",
      "display_name": "Python 3"
    },
    "language_info": {
      "name": "python"
    }
  },
  "cells": [
    {
      "cell_type": "markdown",
      "metadata": {
        "id": "s6ihxB30nsJT"
      },
      "source": [
        "![image](https://www.python.org/static/img/python-logo.png)\n",
        "# 亞洲大學基礎程式設計教材(AUP110-Fundamentals of Programming)\n",
        "![Open In Colab](https://colab.research.google.com/assets/colab-badge.svg)\n"
      ]
    },
    {
      "cell_type": "markdown",
      "metadata": {
        "id": "ZPpsBwman_l5"
      },
      "source": [
        "# Week17-網址工具(urllib)、資料庫(Database)、網路爬蟲(Network)、非同步執行(asynchronous)\n",
        "\n",
        "\n",
        "\n",
        "\n"
      ]
    },
    {
      "cell_type": "markdown",
      "metadata": {
        "id": "9HG7FUT9jiDv"
      },
      "source": [
        "## Topic 1(主題1)-urllib函數庫\n",
        "https://docs.python.org/3/howto/urllib2.html\n",
        "\n",
        "urllib.request 是一個用來從URLs (Uniform Resource Locators)取得資料的Python模組。它提供一個了非常簡單的介面能接受多種不同的協議， urlopen 函數。也提供了較複雜的介面用於處理一些常見的狀況，例如:基本的authentication、cookies、proxies等等，這些都可以由handler或opener物件操作。\n",
        "\n",
        "一般情形下 urlopen 是非常容易使用的，但當你遇到錯誤或者較複雜的情況下，你可能需要對超文本協議HyperText Transfer Protocol有一定的了解。最完整且具參考價值的是 RFC 2616，不過它是一份技術文件並不容易閱讀，以下的教學會提供足夠的HTTP知識來幫助你使用 urllib。這份教學並非要取代 urllib.request 這份文件，你還是會需要它!"
      ]
    },
    {
      "cell_type": "markdown",
      "metadata": {
        "id": "a70lrlzymQpE"
      },
      "source": [
        "### Step 1: 從URL取得資源"
      ]
    },
    {
      "cell_type": "code",
      "metadata": {
        "id": "gh-Isx3EmU7F"
      },
      "source": [
        "import urllib.request\n",
        "with urllib.request.urlopen('http://python.org/') as response:\n",
        "   html = response.read()"
      ],
      "execution_count": null,
      "outputs": []
    },
    {
      "cell_type": "markdown",
      "metadata": {
        "id": "T8fkJwhAm9gM"
      },
      "source": [
        "### Step 2:異常的處理\n",
        "* URLError: 如果 urlopen 無法處理響應信息，就會觸發 URLError 。\n",
        "* HTTPError 是 URLError 的子類，當 URL 是 HTTP 的情況時將會觸發。\n",
        "\n"
      ]
    },
    {
      "cell_type": "code",
      "metadata": {
        "id": "bY4UiBfHjjEd"
      },
      "source": [
        "#方案1\n",
        "from urllib.request import Request, urlopen\n",
        "from urllib.error import URLError, HTTPError\n",
        "req = Request(someurl)\n",
        "try:\n",
        "    response = urlopen(req)\n",
        "except HTTPError as e:\n",
        "    print('The server couldn\\'t fulfill the request.')\n",
        "    print('Error code: ', e.code)\n",
        "except URLError as e:\n",
        "    print('We failed to reach a server.')\n",
        "    print('Reason: ', e.reason)\n",
        "else:\n",
        "    # everything is fine"
      ],
      "execution_count": null,
      "outputs": []
    },
    {
      "cell_type": "code",
      "metadata": {
        "id": "NhOcehk8nlcV"
      },
      "source": [
        "#方案2\n",
        "from urllib.request import Request, urlopen\n",
        "from urllib.error import URLError\n",
        "req = Request(someurl)\n",
        "try:\n",
        "    response = urlopen(req)\n",
        "except URLError as e:\n",
        "    if hasattr(e, 'reason'):\n",
        "        print('We failed to reach a server.')\n",
        "        print('Reason: ', e.reason)\n",
        "    elif hasattr(e, 'code'):\n",
        "        print('The server couldn\\'t fulfill the request.')\n",
        "        print('Error code: ', e.code)\n",
        "else:\n",
        "    # everything is fine"
      ],
      "execution_count": null,
      "outputs": []
    },
    {
      "cell_type": "markdown",
      "metadata": {
        "id": "Lbnyj71Mo4F1"
      },
      "source": [
        "## Topic 2(主題2)-SQLite 數據庫 DB-API 2.0 接口\n",
        "https://docs.python.org/3/library/sqlite3.html\n"
      ]
    },
    {
      "cell_type": "markdown",
      "metadata": {
        "id": "CpFvy3Aapem2"
      },
      "source": [
        "### Step 3:創建一個 Connection 物件\n",
        "要使用SQLite，必須先創建一個 Connection 物件，它代表數據庫。"
      ]
    },
    {
      "cell_type": "code",
      "metadata": {
        "id": "oklZ0HDepzqk"
      },
      "source": [
        "import sqlite3\n",
        "con = sqlite3.connect('example.db')"
      ],
      "execution_count": null,
      "outputs": []
    },
    {
      "cell_type": "markdown",
      "metadata": {
        "id": "ftkXoqSIpgIh"
      },
      "source": [
        "### Step 4:創建一個 Cursor 游標物件\n",
        "當有了 Connection 對像後，你可以創建一個 Cursor 游標物件，然後調用它的 execute() 方法來執行 SQL 語句："
      ]
    },
    {
      "cell_type": "code",
      "metadata": {
        "id": "2TsxPejhp9Fu"
      },
      "source": [
        "cur = con.cursor()\n",
        "\n",
        "# Create table\n",
        "cur.execute('''CREATE TABLE stocks\n",
        "               (date text, trans text, symbol text, qty real, price real)''')\n",
        "\n",
        "# Insert a row of data\n",
        "cur.execute(\"INSERT INTO stocks VALUES ('2006-01-05','BUY','RHAT',100,35.14)\")\n",
        "\n",
        "# Save (commit) the changes\n",
        "con.commit()\n",
        "\n",
        "# We can also close the connection if we are done with it.\n",
        "# Just be sure any changes have been committed or they will be lost.\n",
        "con.close()"
      ],
      "execution_count": null,
      "outputs": []
    },
    {
      "cell_type": "markdown",
      "metadata": {
        "id": "MXSWJ8UVph5F"
      },
      "source": [
        "### Step 5:執行 SELECT SQL查詢後獲取數據\n",
        "\n",
        "要在執行 SELECT 語句後獲取數據，你可以把游標作為 iterator，然後調用它的 fetchone() 方法來獲取一條匹配的行，也可以調用 fetchall() 來得到包含多個匹配行的列表。"
      ]
    },
    {
      "cell_type": "code",
      "metadata": {
        "id": "uS7O9p9FpzEA"
      },
      "source": [
        "import sqlite3\n",
        "con = sqlite3.connect('example.db')\n",
        "cur = con.cursor()\n",
        "for row in cur.execute('SELECT * FROM stocks ORDER BY price'):\n",
        "  print(row)"
      ],
      "execution_count": null,
      "outputs": []
    },
    {
      "cell_type": "markdown",
      "metadata": {
        "id": "MEfmXzpIpi_h"
      },
      "source": [
        "### Step 6:\n",
        "應該使用的是 DB-API 的形參替換。在任何你要使用值的地方放一個佔位符，然後提供包含多個值的元組作為數據游標的 execute() 方法的第二個參數。 SQL 語句可以使用兩種類別的佔位符之一：問號佔位符（問號風格）或名稱佔位符（名稱風格）。對於問號風格，parameters 必須為 序列。對於名稱風格，它可以為 序列 或 dict 實例。序列 的長度必須匹配佔位符的數量，否則會引發 ProgrammingError。如果給出的是 dict，則它必須包含與全部名稱形參對應的鍵。任何額外條目會被忽略。下面是包含這兩種風格的例子:"
      ]
    },
    {
      "cell_type": "code",
      "metadata": {
        "id": "fGGG6DNUq6zc"
      },
      "source": [
        "import sqlite3\n",
        "\n",
        "con = sqlite3.connect(\":memory:\")\n",
        "cur = con.cursor()\n",
        "cur.execute(\"create table lang (name, first_appeared)\")\n",
        "\n",
        "# This is the qmark style:\n",
        "cur.execute(\"insert into lang values (?, ?)\", (\"C\", 1972))\n",
        "\n",
        "# The qmark style used with executemany():\n",
        "lang_list = [\n",
        "    (\"Fortran\", 1957),\n",
        "    (\"Python\", 1991),\n",
        "    (\"Go\", 2009),\n",
        "]\n",
        "cur.executemany(\"insert into lang values (?, ?)\", lang_list)\n",
        "\n",
        "# And this is the named style:\n",
        "cur.execute(\"select * from lang where first_appeared=:year\", {\"year\": 1972})\n",
        "print(cur.fetchall())\n",
        "\n",
        "con.close()"
      ],
      "execution_count": null,
      "outputs": []
    },
    {
      "cell_type": "markdown",
      "metadata": {
        "id": "173Eb3IkpkcO"
      },
      "source": [
        "### Step 7: sqlite3 的時間處理\n",
        "sqlite3 模塊有兩個適配器可用於 Python 的內置 datetime.date 和 datetime.datetime 類型。"
      ]
    },
    {
      "cell_type": "code",
      "metadata": {
        "id": "Hu-S8cAUrjuY"
      },
      "source": [
        "import sqlite3\n",
        "import datetime\n",
        "import time\n",
        "\n",
        "def adapt_datetime(ts):\n",
        "    return time.mktime(ts.timetuple())\n",
        "\n",
        "sqlite3.register_adapter(datetime.datetime, adapt_datetime)\n",
        "\n",
        "con = sqlite3.connect(\":memory:\")\n",
        "cur = con.cursor()\n",
        "\n",
        "now = datetime.datetime.now()\n",
        "cur.execute(\"select ?\", (now,))\n",
        "print(cur.fetchone()[0])\n",
        "\n",
        "con.close()"
      ],
      "execution_count": null,
      "outputs": []
    },
    {
      "cell_type": "markdown",
      "metadata": {
        "id": "CDnl3Z__o-Fp"
      },
      "source": [
        "## Topic 3(主題3)-收集學校新聞的大數據\n"
      ]
    },
    {
      "cell_type": "markdown",
      "metadata": {
        "id": "OkEY6p00sGf7"
      },
      "source": [
        "### Step 8: 讀取學校的新聞標題"
      ]
    },
    {
      "cell_type": "code",
      "metadata": {
        "id": "su5wQNKHr_rW"
      },
      "source": [
        "from urllib import request\n",
        "with request.urlopen('http://www.asia.edu.tw/news1.php') as response:\n",
        "    html = response.read().decode('utf-8')\n",
        "    print(html)"
      ],
      "execution_count": null,
      "outputs": []
    },
    {
      "cell_type": "markdown",
      "metadata": {
        "id": "P3jlrJamsPZj"
      },
      "source": [
        "### Step 9: 每一年的新聞標題"
      ]
    },
    {
      "cell_type": "code",
      "metadata": {
        "id": "vl831oHEsg5G"
      },
      "source": [
        "import re\n",
        "from urllib import request\n",
        "count = 0\n",
        "sss = [\"2008\", \"2009\",\"2010\", \"2011\", \"2012\",\"2013\",\"2014\",\"2015\",\"2016\",\"2017\",\"2018\" ,\"2019\",\"2020\", \"2021\"]\n",
        "titles=list()\n",
        "for i in range(len(sss)):\n",
        "    year = sss[i]\n",
        "    with request.urlopen('http://www.asia.edu.tw/news1.php?y='+year) as response:\n",
        "        html = response.read().decode('utf-8')\n",
        "        #print(html)\n",
        "        pattern = '<font color=\"#446666\" face=\"新細明體\" style=\"font-weight: 700;\" size=\"2\">'\n",
        "        for pos in re.finditer(pattern, html):\n",
        "            pos2 = html.find('</font>', pos.end())\n",
        "            sub = html[pos.end():pos2]\n",
        "            titles.append(sub)\n",
        "            count = count + 1\n",
        "print (count)"
      ],
      "execution_count": null,
      "outputs": []
    },
    {
      "cell_type": "markdown",
      "metadata": {
        "id": "0470moFOsp7N"
      },
      "source": [
        "### Step 10: 建立新聞標題的資料庫\n",
        "\n"
      ]
    },
    {
      "cell_type": "code",
      "metadata": {
        "id": "erwaVEZNsuMy"
      },
      "source": [
        "import sqlite3\n",
        "conn = sqlite3.connect('news.db')\n",
        "c = conn.cursor()\n",
        "\n",
        "# Create table\n",
        "c.execute(\"CREATE TABLE news (title text)\")\n",
        "\n",
        "# Insert a row of data\n",
        "for t in titles:\n",
        "  ss = \"INSERT INTO news VALUES ('{}')\".format(t)\n",
        "  c.execute(ss)\n",
        "\n",
        "# Save (commit) the changes\n",
        "conn.commit()\n",
        "conn.close()"
      ],
      "execution_count": null,
      "outputs": []
    },
    {
      "cell_type": "markdown",
      "metadata": {
        "id": "qB0q1_cKsxRU"
      },
      "source": [
        "### Step 11: 查詢學校新聞標題有人工智慧"
      ]
    },
    {
      "cell_type": "code",
      "metadata": {
        "id": "NNLG-sk7s4IG"
      },
      "source": [
        "conn = sqlite3.connect('news.db')\n",
        "c = conn.cursor()\n",
        "for row in c.execute('''SELECT * FROM news \n",
        "                        WHERE title LIKE '%人工智慧%' '''):\n",
        "    print(row)\n",
        "conn.close()"
      ],
      "execution_count": null,
      "outputs": []
    },
    {
      "cell_type": "markdown",
      "metadata": {
        "id": "3CNQrElPpBti"
      },
      "source": [
        "## Topic 4(主題4)-asyncio (Since 3.4) 非同步式(asynchronous)程式"
      ]
    },
    {
      "cell_type": "markdown",
      "metadata": {
        "id": "1s_jkY4AvHf0"
      },
      "source": [
        "### Step 12:同步的網頁要求\n",
        "以下範例是常見的程式寫法，該範例在 do_requests() 函式中以 for 迴圈對 example.com 發出 10 次 HTTP GET 要求(request)，並且列印其狀態碼(status code)：\n",
        "\n",
        "![](https://myapollo.com.tw/images/begin-to-asyncio/seq.png)\n",
        "\n",
        "\n"
      ]
    },
    {
      "cell_type": "code",
      "metadata": {
        "id": "yLBeT4u_s4fU"
      },
      "source": [
        "import requests\n",
        "import time\n",
        "\n",
        "url = 'https://www.google.com.tw/'\n",
        "\n",
        "start_time = time.time()\n",
        "\n",
        "def send_req(url):\n",
        "\n",
        "    t = time.time()\n",
        "    print(\"Send a request at\",t-start_time,\"seconds.\")\n",
        "\n",
        "    res = requests.get(url)\n",
        "\n",
        "    t = time.time()\n",
        "    print(\"Receive a response at\",t-start_time,\"seconds.\")\n",
        "\n",
        "for i in range(10):\n",
        "    send_req(url)"
      ],
      "execution_count": null,
      "outputs": []
    },
    {
      "cell_type": "markdown",
      "metadata": {
        "id": "4pe4XaUDvbM_"
      },
      "source": [
        "### Step 13:非同步的網頁要求"
      ]
    },
    {
      "cell_type": "code",
      "metadata": {
        "id": "jMmAaGcivxKs"
      },
      "source": [
        "!pip install aiohttp requests"
      ],
      "execution_count": null,
      "outputs": []
    },
    {
      "cell_type": "code",
      "metadata": {
        "id": "e2mX5i4wvqQY"
      },
      "source": [
        "import requests\n",
        "import time\n",
        "import asyncio\n",
        "\n",
        "url = 'https://www.asia.edu.tw/'\n",
        "\n",
        "start_time = time.time()\n",
        "async def send_req(url):\n",
        "    t = time.time()\n",
        "    print(\"Send a request at\",t-start_time,\"seconds.\")\n",
        "    res = await loop.run_in_executor(None,requests.get,url)\n",
        "    t = time.time()\n",
        "    print(\"Receive a response at\",t-start_time,\"seconds.\")\n",
        "tasks = []\n",
        "\n",
        "loop = asyncio.get_event_loop()\n",
        "for i in range(10):\n",
        "    task = loop.create_task(send_req(url))\n",
        "    tasks.append(task)\n",
        "try:\n",
        "  loop.run_until_complete(asyncio.wait(tasks))\n",
        "except:\n",
        "     print(\"ended!\")"
      ],
      "execution_count": null,
      "outputs": []
    },
    {
      "cell_type": "markdown",
      "metadata": {
        "id": "9ZWW3FiabIc4"
      },
      "source": [
        "##Topic 5(主題5)-並行 Concurrency\n",
        "\n",
        "多引線執行(multithreading)，"
      ]
    },
    {
      "cell_type": "markdown",
      "metadata": {
        "id": "BZC6UHujbi-A"
      },
      "source": [
        "### Step 14:兩個函數在同一個process(thread) 執行。"
      ]
    },
    {
      "cell_type": "code",
      "metadata": {
        "id": "AG8d0BUQbjNY"
      },
      "source": [
        "import time\n",
        "def sleep_A():\n",
        "    for i in range(2):\n",
        "        print(i, end=\"_\")\n",
        "        time.sleep(1)\n",
        "    return\n",
        "def sleep_B():\n",
        "    for i in range(3):\n",
        "        print(i, end=\"=\")\n",
        "        time.sleep(1)\n",
        "    return\n",
        "start_time = time.time()\n",
        "sleep_A()\n",
        "sleep_B()\n",
        "end_time = time.time()\n",
        "print(f'It costs {end_time - start_time} seconds')"
      ],
      "execution_count": null,
      "outputs": []
    },
    {
      "cell_type": "markdown",
      "metadata": {
        "id": "yKmeK3-GGw29"
      },
      "source": [
        "### Step 15:把兩個函數在不同的thread同時進行。"
      ]
    },
    {
      "cell_type": "code",
      "metadata": {
        "id": "XP8yKcuMFs-L"
      },
      "source": [
        "import os\n",
        "import threading\n",
        "\n",
        "def sleep_A():\n",
        "    for i in range(2):\n",
        "        print(i, end=\"_\")\n",
        "        time.sleep(1)\n",
        "    return\n",
        "\n",
        "def sleep_B():\n",
        "    for i in range(3):\n",
        "        print(i, end=\"=\")\n",
        "        time.sleep(1)\n",
        "    return\n",
        "  \n",
        "start_time = time.time()\n",
        "\n",
        "thread_1 = threading.Thread(target=sleep_A)  # 例項化一個執行緒物件，使執行緒執行這個函式\n",
        "thread_2 = threading.Thread(target=sleep_B)  # 例項化一個執行緒物件，使執行緒執行這個函式\n",
        "thread_1.start()  # 啟動這個執行緒\n",
        "thread_2.start()  # 啟動這個執行緒\n",
        "thread_1.join()  # 等待thread_1結束，如果不打join程式會直接往下執行\n",
        "thread_2.join()  # 等待thread_2結束，如果不打join程式會直接往下執行\n",
        "\n",
        "end_time = time.time()\n",
        "print(f'It costs {end_time - start_time} seconds')"
      ],
      "execution_count": null,
      "outputs": []
    },
    {
      "cell_type": "markdown",
      "metadata": {
        "id": "m_JbXTkzgrlW"
      },
      "source": [
        "##Topic 6(主題6)--內建函數和函數庫的複習"
      ]
    },
    {
      "cell_type": "markdown",
      "metadata": {
        "id": "Vjhqclf7g7vI"
      },
      "source": [
        "### Step 16:文字排序"
      ]
    },
    {
      "cell_type": "code",
      "metadata": {
        "id": "kbjS8PUBhise"
      },
      "source": [
        "# 升序排序(ascending sort )\n",
        "coms = ['Microsoft', 'Google', 'Amazon', 'Facebook', 'Apple']\n",
        "print(sorted(coms))"
      ],
      "execution_count": null,
      "outputs": []
    },
    {
      "cell_type": "code",
      "metadata": {
        "id": "8S6uHkBph0W_"
      },
      "source": [
        "# 降序排序(descending sort )\n",
        "coms = ['Microsoft', 'Google', 'Amazon', 'Facebook', 'Apple']\n",
        "print(sorted(coms, reverse=True))"
      ],
      "execution_count": null,
      "outputs": []
    },
    {
      "cell_type": "markdown",
      "metadata": {
        "id": "TYv9_z7Fic60"
      },
      "source": [
        "Step 17: 每個月的第一天星期幾和有幾天"
      ]
    },
    {
      "cell_type": "code",
      "metadata": {
        "id": "HLR7g-nyiiCE"
      },
      "source": [
        "#calendar.monthrange()函數可以知道每個月的第一天星期幾和有幾天\n",
        "import calendar\n",
        "from datetime import datetime, timezone, timedelta\n",
        "# 設定為 +8 時區\n",
        "tz = timezone(timedelta(hours=+8))\n",
        "dt=datetime.now(tz)\n",
        "wday, mdays = calendar.monthrange(dt.year,dt.month)\n",
        "print(f\"For {dt.year}/{dt.month}, weekday is {wday}; number of days is {mdays}\") #weekday (0-6 ~ Mon-Sun)"
      ],
      "execution_count": null,
      "outputs": []
    }
  ]
}