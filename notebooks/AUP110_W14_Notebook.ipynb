{
  "nbformat": 4,
  "nbformat_minor": 0,
  "metadata": {
    "colab": {
      "name": "AUP110_W14_Notebook.ipynb",
      "provenance": [],
      "toc_visible": true
    },
    "kernelspec": {
      "display_name": "Python 3",
      "language": "python",
      "name": "python3"
    },
    "language_info": {
      "codemirror_mode": {
        "name": "ipython",
        "version": 3
      },
      "file_extension": ".py",
      "mimetype": "text/x-python",
      "name": "python",
      "nbconvert_exporter": "python",
      "pygments_lexer": "ipython3",
      "version": "3.7.6"
    }
  },
  "cells": [
    {
      "cell_type": "markdown",
      "metadata": {
        "id": "cKjpKBnTVt6h"
      },
      "source": [
        "![image](https://www.python.org/static/img/python-logo.png)\n",
        "# 亞洲大學基礎程式設計教材(AUP110-Fundamentals of Programming)\n",
        "[![Open In Colab](https://colab.research.google.com/assets/colab-badge.svg)](https://colab.research.google.com/github/googlecolab/colabtools/blob/master/notebooks/colab-github-demo.ipynb)"
      ]
    },
    {
      "cell_type": "markdown",
      "metadata": {
        "id": "EUjJ7ImLnPVr"
      },
      "source": [
        "# Week 14: 進階函數\n",
        "\n"
      ]
    },
    {
      "cell_type": "markdown",
      "metadata": {
        "id": "kLe1GoiTtrgI"
      },
      "source": [
        "## Topic 1(主題1)-函數定義和呼叫的複習"
      ]
    },
    {
      "cell_type": "markdown",
      "metadata": {
        "id": "lF7HFFTIcbbu"
      },
      "source": [
        "### Step 1: 函數的定義(definition)"
      ]
    },
    {
      "cell_type": "code",
      "metadata": {
        "id": "TqyrD4BLcfqr"
      },
      "source": [
        "import math\n",
        "def circle_area(radius:float)->float:\n",
        "  area = math.pi * r**2\n",
        "  return area"
      ],
      "execution_count": null,
      "outputs": []
    },
    {
      "cell_type": "markdown",
      "metadata": {
        "id": "uy7Co3kbcf0L"
      },
      "source": [
        "### Step 2: 函數的呼叫(call)"
      ]
    },
    {
      "cell_type": "code",
      "metadata": {
        "id": "wQd0gguHf9TX"
      },
      "source": [
        "r = 3.77\n",
        "a = circle_area(3.77)\n",
        "print(f\"The area of a circle with radius {r} is {a:.2f}\")"
      ],
      "execution_count": null,
      "outputs": []
    },
    {
      "cell_type": "markdown",
      "metadata": {
        "id": "Z0jbsSt0hDAL"
      },
      "source": [
        "### Step 3: 可變參數*參數\n",
        "\n",
        "當參數前面加一顆 * ，即代表接受了一個 tuple/lits 參數，為不定數量的參數使用方法。"
      ]
    },
    {
      "cell_type": "code",
      "metadata": {
        "id": "KP8OydBfiRj5"
      },
      "source": [
        "def test1(*args):\n",
        "    for i, m in enumerate(args):\n",
        "        print(f'args {i}-> {m}')\n",
        "\n",
        "aa = [\"Dog\", \"Cat\", \"Bull\"]\n",
        "test1(*aa)"
      ],
      "execution_count": null,
      "outputs": []
    },
    {
      "cell_type": "markdown",
      "metadata": {
        "id": "xpoPDRbkiSE4"
      },
      "source": [
        "### Step 4: 可變參數**引數\n",
        "\n",
        "當參數前面加了 ** 之後，此參數即可視為非固定數量的 Dictionary，字典的鍵值 key 必需是字串。"
      ]
    },
    {
      "cell_type": "code",
      "metadata": {
        "id": "rI2-uzqeiV6Q"
      },
      "source": [
        "def test2(**kargs):\n",
        "    for k in kargs:\n",
        "        print(f'args {k}-> {kargs[k]}')\n",
        "\n",
        "bb = {\"Dog\":1, \"Cat\":2, \"Bull\":3}\n",
        "test2(**bb)"
      ],
      "execution_count": null,
      "outputs": []
    },
    {
      "cell_type": "markdown",
      "metadata": {
        "id": "F5H7qopOatdy"
      },
      "source": [
        "## Topic 2(主題2)-函數參數和傳回值的資料型別"
      ]
    },
    {
      "cell_type": "markdown",
      "metadata": {
        "id": "1WtU30yLiWDe"
      },
      "source": [
        "### Step 5: 函數參數和傳回值的資料型別\n",
        "\n",
        "3.5 版新加入\n",
        "https://docs.python.org/3/library/typing.html\n"
      ]
    },
    {
      "cell_type": "code",
      "metadata": {
        "id": "0MekDJt-oJ_Y"
      },
      "source": [
        "def greeting(name):\n",
        "    return 'Hello ' + name\n",
        "\n",
        "print(greeting(\"John\"))"
      ],
      "execution_count": null,
      "outputs": []
    },
    {
      "cell_type": "code",
      "metadata": {
        "id": "dS_Wegs9m1gO"
      },
      "source": [
        "def greeting(name: str) -> str:\n",
        "    return 'Hello ' + name\n",
        "\n",
        "print(greeting(\"Mary\"))"
      ],
      "execution_count": null,
      "outputs": []
    },
    {
      "cell_type": "markdown",
      "metadata": {
        "id": "FwMwRKE_oLO2"
      },
      "source": [
        "### Step 6: 沒有參數型別的gcd()函數定義"
      ]
    },
    {
      "cell_type": "code",
      "metadata": {
        "id": "hvkRhr_CoOrN"
      },
      "source": [
        "def gcd1(x, y):\n",
        "  r=x%y\n",
        "  while r!=0:\n",
        "    x=y;y=r\n",
        "    r=x%y\n",
        "  return y\n",
        "\n",
        "a=240; b=96\n",
        "print(f\"{a}, {b}, {gcd1(a,b)}\")"
      ],
      "execution_count": null,
      "outputs": []
    },
    {
      "cell_type": "markdown",
      "metadata": {
        "id": "d0h69EN8oru4"
      },
      "source": [
        "### Step 7: 有參數型別的gcd()函數定義"
      ]
    },
    {
      "cell_type": "code",
      "metadata": {
        "id": "tML83N5zor7r"
      },
      "source": [
        "def gcd2(x:int, y:int)->int:\n",
        "  r=x%y\n",
        "  while r!=0:\n",
        "    x=y;y=r\n",
        "    r=x%y\n",
        "  return y\n",
        "  \n",
        "a=240; b=96\n",
        "print(f\"{a}, {b}, {gcd2(a,b)}\")"
      ],
      "execution_count": null,
      "outputs": []
    },
    {
      "cell_type": "markdown",
      "metadata": {
        "id": "N7aDM2g1pYb2"
      },
      "source": [
        "## Topic 3(主題3)-遞迴函數 (Recursion)\n",
        "\n",
        "遞迴函數 (Recursion)就是函數定義裡呼叫函數本身"
      ]
    },
    {
      "cell_type": "markdown",
      "metadata": {
        "id": "SucrJjeDproO"
      },
      "source": [
        "### Step 8: 使用迴圈的階乘 (Factorial)計算\n",
        "\n",
        "$n! = 1 * 2 * ... * n$"
      ]
    },
    {
      "cell_type": "code",
      "metadata": {
        "id": "HmE9lL8TpsdI"
      },
      "source": [
        "def factorial_loop (n):\n",
        "    factor = 1\n",
        "    for i in range(1,n+1):\n",
        "        factor *= i\n",
        "    return factor\n",
        "print(factorial_loop(10))"
      ],
      "execution_count": null,
      "outputs": []
    },
    {
      "cell_type": "markdown",
      "metadata": {
        "id": "1486txeopv_A"
      },
      "source": [
        "### Step 9: 使用遞迴的階乘 (Factorial)計算"
      ]
    },
    {
      "cell_type": "code",
      "metadata": {
        "id": "KqFLgnChpxST"
      },
      "source": [
        "def factorial(n):\n",
        "    if n == 0 or n == 1:\n",
        "        return 1\n",
        "    else:\n",
        "        return n * factorial(n - 1)\n",
        "\n",
        "print(factorial_loop(10))"
      ],
      "execution_count": null,
      "outputs": []
    },
    {
      "cell_type": "markdown",
      "metadata": {
        "id": "yVXlF-BYpxdw"
      },
      "source": [
        "### Step 10: 使用迴圈的費氏數列 Fibonacci sequence\n",
        "$f(0)=0, f(1)=1$\n",
        "\n",
        "$f(n)=f(n-1)+f(n-2)$"
      ]
    },
    {
      "cell_type": "code",
      "metadata": {
        "id": "wr21sg6apzli"
      },
      "source": [
        "def fibonacci_loop(n):\n",
        "    if n == 1 or n == 2:\n",
        "        return 1\n",
        "    else:\n",
        "        fib1 = 1\n",
        "        fib2 = 1\n",
        "        fib3 = 0\n",
        "        for i in range(2, n):\n",
        "            fib3 = fib1 + fib2\n",
        "            fib1 = fib2\n",
        "            fib2 = fib3\n",
        "        return fib3\n",
        "print(fibonacci_loop(10))"
      ],
      "execution_count": null,
      "outputs": []
    },
    {
      "cell_type": "markdown",
      "metadata": {
        "id": "QeFH5bOhpzvA"
      },
      "source": [
        "### Step 11: 使用遞迴的費氏數列 Fibonacci sequence"
      ]
    },
    {
      "cell_type": "code",
      "metadata": {
        "id": "uSiFOM-ip1CJ"
      },
      "source": [
        "def fibonacci(n):\n",
        "    if n == 0:\n",
        "        return 0\n",
        "    elif n == 1:\n",
        "        return 1\n",
        "    else:\n",
        "        return fibonacci(n-1) + fibonacci(n-2)\n",
        "\n",
        "print(fibonacci(10))"
      ],
      "execution_count": null,
      "outputs": []
    },
    {
      "cell_type": "markdown",
      "metadata": {
        "id": "M1sdfSWlp1Rg"
      },
      "source": [
        "### Step 12: 使用遞迴的gcd()計算"
      ]
    },
    {
      "cell_type": "code",
      "metadata": {
        "id": "O36P4eQ6p2l4"
      },
      "source": [
        "def gcd(x, y):\n",
        "    if y == 0:\n",
        "        return x\n",
        "    else:\n",
        "        return gcd(y, x%y)\n",
        "        \n",
        "a=240; b=96\n",
        "print(f\"{a}, {b}, {gcd2(a,b)}\")"
      ],
      "execution_count": null,
      "outputs": []
    },
    {
      "cell_type": "markdown",
      "metadata": {
        "id": "aof6VxNfxJKY"
      },
      "source": [
        "## Topic 4(主題4)-Lambda 函數\n",
        "Lambda語法：arg1,arg2...：expression\n",
        "※可以在運算式內使用遞迴呼叫的神奇運算式※"
      ]
    },
    {
      "cell_type": "markdown",
      "metadata": {
        "id": "J7BK3uM5yhET"
      },
      "source": [
        "### Step 13: 使用Lambda的費氏數列計算"
      ]
    },
    {
      "cell_type": "code",
      "metadata": {
        "id": "K4dn33dRys-s"
      },
      "source": [
        "fib = lambda x:(fib(x-1)+fib(x-2)) if x>2 else 1\n",
        "\n",
        "print(fib(10))"
      ],
      "execution_count": null,
      "outputs": []
    },
    {
      "cell_type": "markdown",
      "metadata": {
        "id": "M5yo8avqxSFh"
      },
      "source": [
        "### Step 14: 使用Lambda的gcd()計算"
      ]
    },
    {
      "cell_type": "code",
      "metadata": {
        "id": "F-3QJXgFxYEH"
      },
      "source": [
        "gcd = lambda x,y : (gcd(y,x%y)) if x%y else y\n",
        "\n",
        "a=240; b=96\n",
        "print(f\"{a}, {b}, {gcd(a,b)}\")"
      ],
      "execution_count": null,
      "outputs": []
    },
    {
      "cell_type": "markdown",
      "metadata": {
        "id": "qMNa0rB7y-LV"
      },
      "source": [
        "### Step 15: 在filter()中使用Lambda函數"
      ]
    },
    {
      "cell_type": "code",
      "metadata": {
        "id": "7gxAY3IEzWaI"
      },
      "source": [
        "data=[0,1,2,3,4,7,8,14,19,31,34]\n",
        "\n",
        "odds =list(filter(lambda x: x%2 > 0, data))\n",
        "print(odds)\n",
        "evens=list(filter(lambda x: x%2 ==0, data))\n",
        "print(evens)"
      ],
      "execution_count": null,
      "outputs": []
    },
    {
      "cell_type": "markdown",
      "metadata": {
        "id": "Lw7YCA0mz4Re"
      },
      "source": [
        "### Step 16: 在map()中使用Lambda函數"
      ]
    },
    {
      "cell_type": "code",
      "metadata": {
        "id": "V0Qcq7uiz6aJ"
      },
      "source": [
        "base=[1, 2, 3, 4]\n",
        "\n",
        "square=list(map(lambda x: x**2, base))\n",
        "print(square) "
      ],
      "execution_count": null,
      "outputs": []
    },
    {
      "cell_type": "markdown",
      "metadata": {
        "id": "GTcY-DSip2ui"
      },
      "source": [
        "## Topic 4(主題4)-JSON-Python Standard Library\n",
        "\n",
        "JSON(JavaScript Object Notation) 是一種輕量級的數據交換格式，易於人閱讀和編寫。\n",
        "https://en.wikipedia.org/wiki/JSON\n"
      ]
    },
    {
      "cell_type": "markdown",
      "metadata": {
        "id": "IWAEKbt4s877"
      },
      "source": [
        "### Step 17: 將資料寫入一個json檔"
      ]
    },
    {
      "cell_type": "code",
      "metadata": {
        "id": "MPq0F5OSs_wg"
      },
      "source": [
        "import json\n",
        "\n",
        "data = [ { 'a' : 1, 'b' : 2, 'c' : 3, 'd' : 4, 'e' : 5 } ]\n",
        "\n",
        "file = open(\"test.json\", \"w\")\n",
        "json.dump(data, file)\n",
        "file.close()"
      ],
      "execution_count": null,
      "outputs": []
    },
    {
      "cell_type": "code",
      "metadata": {
        "id": "vOWME1Twtv-k"
      },
      "source": [
        "!ls "
      ],
      "execution_count": null,
      "outputs": []
    },
    {
      "cell_type": "code",
      "metadata": {
        "id": "S2aaKp83t0O2"
      },
      "source": [
        "!more test.json"
      ],
      "execution_count": null,
      "outputs": []
    },
    {
      "cell_type": "markdown",
      "metadata": {
        "id": "o2_KpLd2s_7h"
      },
      "source": [
        "### Step 18: 將一個json檔讀入程式中"
      ]
    },
    {
      "cell_type": "code",
      "metadata": {
        "id": "ncg3O2sztBER"
      },
      "source": [
        "import json\n",
        "file = open ('test.json')\n",
        "json_data = json.load(file)\n",
        "file.close()\n",
        "\n",
        "print(json_data)"
      ],
      "execution_count": null,
      "outputs": []
    },
    {
      "cell_type": "code",
      "metadata": {
        "id": "Z9r1DWrpu9bs"
      },
      "source": [
        "type(json_data)"
      ],
      "execution_count": null,
      "outputs": []
    },
    {
      "cell_type": "markdown",
      "metadata": {
        "id": "HzNeieIemSLB"
      },
      "source": [
        "## Topic 5(主題5)-亂數(random)-Python Standard Library\n",
        "https://docs.python.org/3/library/random.html\n"
      ]
    },
    {
      "cell_type": "markdown",
      "metadata": {
        "id": "fKUwi4-z01ym"
      },
      "source": [
        "### Step 19: 沒有指定種子的亂數生成"
      ]
    },
    {
      "cell_type": "code",
      "metadata": {
        "id": "P6do2ifA02LF"
      },
      "source": [
        "#random --- 生成亂數\n",
        "import random as rd \n",
        "a=rd.random()                             # Random float:  0.0 <= x < 1.0\n",
        "b=rd.uniform(2.5, 10.0)                   # Random float:  2.5 <= x < 10.0\n",
        "c=rd.randrange(10)                        # Integer from 0 to 9 inclusive\n",
        "d=rd.choice(['win', 'lose', 'draw'])      # Single random element from a sequence\n",
        "print(a,b,c,d)"
      ],
      "execution_count": null,
      "outputs": []
    },
    {
      "cell_type": "markdown",
      "metadata": {
        "id": "WHBF5G8F1ImP"
      },
      "source": [
        "### Step 20: 指定種子的亂數生成"
      ]
    },
    {
      "cell_type": "code",
      "metadata": {
        "id": "NzVp2CGP1TV6"
      },
      "source": [
        "rd.seed(12345) \n",
        "a=rd.random()                             # Random float:  0.0 <= x < 1.0\n",
        "b=rd.uniform(2.5, 10.0)                   # Random float:  2.5 <= x < 10.0\n",
        "c=rd.randrange(10)                        # Integer from 0 to 9 inclusive\n",
        "d=rd.choice(['win', 'lose', 'draw'])      # Single random element from a sequence\n",
        "print(a,b,c,d)"
      ],
      "execution_count": null,
      "outputs": []
    },
    {
      "cell_type": "code",
      "metadata": {
        "id": "12iyt7EQ1eUb"
      },
      "source": [
        "rd.seed(12345) \n",
        "a=rd.random()                             # Random float:  0.0 <= x < 1.0\n",
        "b=rd.uniform(2.5, 10.0)                   # Random float:  2.5 <= x < 10.0\n",
        "c=rd.randrange(10)                        # Integer from 0 to 9 inclusive\n",
        "d=rd.choice(['win', 'lose', 'draw'])      # Single random element from a sequence\n",
        "print(a,b,c,d)"
      ],
      "execution_count": null,
      "outputs": []
    },
    {
      "cell_type": "markdown",
      "metadata": {
        "id": "To_eTof9Xpc5"
      },
      "source": [
        "## Topic 6(主題6)-用圖表呈現資料\n",
        "https://matplotlib.org/"
      ]
    },
    {
      "cell_type": "markdown",
      "metadata": {
        "id": "s0VZZsL7YFEJ"
      },
      "source": [
        "### Step 21: 建立成績資料，計算成績的分佈(0-40, 41-59, 60-80, 80-100的人數)"
      ]
    },
    {
      "cell_type": "code",
      "metadata": {
        "id": "G_6wtISZYSSy"
      },
      "source": [
        "scores = [85, 15, 80, 80, 77, 76, 47, 48, 50, 50, \n",
        "          88, 90, 75, 67, 79, 76, 92, 90, 90, 48, \n",
        "          15, 95, 95, 85, 90, 88, 86, 87, 91, 82, \n",
        "          82, 86, 89, 88, 77, 69, 83, 85, 82, 81, \n",
        "          94, 72, 83, 75, 87, 79, 85, 84, 82, 87, \n",
        "          86, 86, 88, 83, 85, 87, 84, 87, 37, 90, \n",
        "          80, 82, 83, 87, 80, 68, 81, 91, 84, 15]"
      ],
      "execution_count": null,
      "outputs": []
    },
    {
      "cell_type": "code",
      "metadata": {
        "id": "pHoskCvDYclj"
      },
      "source": [
        "stats = [0, 0 ,0 , 0]\n",
        "for score in scores:\n",
        "    if(score >= 0 and score <= 40):\n",
        "      stats[0]+=1\n",
        "    elif(score>=41 and score<=59):\n",
        "      stats[1]+=1\n",
        "    elif(score>=60 and score<=80):\n",
        "      stats[2]+=1\n",
        "    elif(score>=80 and score<=100):\n",
        "      stats[3]+=1\n",
        "print(f\"0-40={stats[0]}, 41-59={stats[1]}, 60-80={stats[2]}, 80-100={stats[3]}\")        "
      ],
      "execution_count": null,
      "outputs": []
    },
    {
      "cell_type": "markdown",
      "metadata": {
        "id": "XHYvRnrVYOcv"
      },
      "source": [
        "###Step 22:畫出人數分佈的圖(長條圖，圓餅圖)"
      ]
    },
    {
      "cell_type": "code",
      "metadata": {
        "id": "PU8oi2EGY72B"
      },
      "source": [
        "#畫出人數分佈的長條圖\n",
        "import matplotlib.pyplot as plt\n",
        "import numpy as np\n",
        "stats = [4, 5 ,16 , 47]\n",
        "labels = ('0-40', '41-59', '60-80', '80-100')\n",
        "y_pos = np.arange(len(slots))\n",
        "plt.bar(y_pos, stats, align='center', alpha=0.5)\n",
        "plt.xticks(y_pos, labels)\n",
        "plt.ylabel('Count')\n",
        "plt.title('Result of Quiz ')\n",
        "plt.show()"
      ],
      "execution_count": null,
      "outputs": []
    },
    {
      "cell_type": "markdown",
      "metadata": {
        "id": "sio1U9IrZcs9"
      },
      "source": [
        ""
      ]
    },
    {
      "cell_type": "code",
      "metadata": {
        "id": "Jj27r7pGZdHT"
      },
      "source": [
        "import matplotlib.pyplot as plt\n",
        "\n",
        "# Pie chart, where the slices will be ordered and plotted counter-clockwise:\n",
        "\n",
        "stats = [4, 5 ,16 , 47]\n",
        "labels = ('0-40', '41-59', '60-80', '80-100')\n",
        "explode = (0, 0, 0,  0.1)  # 切開'80-100'的人數\n",
        "fig1, ax1 = plt.subplots()\n",
        "ax1.pie(stats, labels=labels, explode=explode, autopct='%.1f%%')\n",
        "plt.show()"
      ],
      "execution_count": null,
      "outputs": []
    },
    {
      "cell_type": "code",
      "metadata": {
        "id": "PaGENA_XbzRx"
      },
      "source": [
        "def make_autopct(values):\n",
        "    def my_autopct(pct):\n",
        "        total = sum(values)\n",
        "        val = int(round(pct*total/100.0))\n",
        "        return '{p:.1f}%  ({v:d})'.format(p=pct,v=val)\n",
        "    return my_autopct"
      ],
      "execution_count": null,
      "outputs": []
    },
    {
      "cell_type": "code",
      "metadata": {
        "id": "zkBCGLsxb2t4"
      },
      "source": [
        "fig1, ax1 = plt.subplots()\n",
        "ax1.pie(stats, labels=labels, autopct=make_autopct(stats))\n",
        "plt.show()"
      ],
      "execution_count": null,
      "outputs": []
    }
  ]
}