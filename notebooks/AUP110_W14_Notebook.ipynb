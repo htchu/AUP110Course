{
  "nbformat": 4,
  "nbformat_minor": 0,
  "metadata": {
    "colab": {
      "name": "AUP110_W14_Notebook.ipynb",
      "provenance": [],
      "toc_visible": true
    },
    "kernelspec": {
      "display_name": "Python 3",
      "language": "python",
      "name": "python3"
    },
    "language_info": {
      "codemirror_mode": {
        "name": "ipython",
        "version": 3
      },
      "file_extension": ".py",
      "mimetype": "text/x-python",
      "name": "python",
      "nbconvert_exporter": "python",
      "pygments_lexer": "ipython3",
      "version": "3.7.6"
    }
  },
  "cells": [
    {
      "cell_type": "markdown",
      "metadata": {
        "id": "cKjpKBnTVt6h"
      },
      "source": [
        "![image](https://www.python.org/static/img/python-logo.png)\n",
        "# 亞洲大學基礎程式設計教材(AUP110-Fundamentals of Programming)\n",
        "[![Open In Colab](https://colab.research.google.com/assets/colab-badge.svg)](https://colab.research.google.com/github/googlecolab/colabtools/blob/master/notebooks/colab-github-demo.ipynb)"
      ]
    },
    {
      "cell_type": "markdown",
      "metadata": {
        "id": "EUjJ7ImLnPVr"
      },
      "source": [
        "# Week 14: 進階函數\n",
        "\n"
      ]
    },
    {
      "cell_type": "markdown",
      "metadata": {
        "id": "kLe1GoiTtrgI"
      },
      "source": [
        "## Topic 1(主題1)-函數定義和呼叫的複習"
      ]
    },
    {
      "cell_type": "markdown",
      "metadata": {
        "id": "lF7HFFTIcbbu"
      },
      "source": [
        "### Step 1: 函數的定義(definition)"
      ]
    },
    {
      "cell_type": "code",
      "metadata": {
        "id": "TqyrD4BLcfqr"
      },
      "source": [
        "import math\n",
        "def circle_area(radius:float)->float:\n",
        "  area = math.pi * r**2\n",
        "  return area"
      ],
      "execution_count": null,
      "outputs": []
    },
    {
      "cell_type": "markdown",
      "metadata": {
        "id": "uy7Co3kbcf0L"
      },
      "source": [
        "### Step 2: 函數的呼叫(call)"
      ]
    },
    {
      "cell_type": "code",
      "metadata": {
        "colab": {
          "base_uri": "https://localhost:8080/"
        },
        "id": "wQd0gguHf9TX",
        "outputId": "2bc13cf1-97ee-41b4-d7d8-b2aa7e4e5b26"
      },
      "source": [
        "r = 3.77\n",
        "a = circle_area(3.77)\n",
        "print(f\"The area of a circle with radius {r} is {a:.2f}\")"
      ],
      "execution_count": null,
      "outputs": [
        {
          "output_type": "stream",
          "name": "stdout",
          "text": [
            "The area of a circle with radius 3.77 is 44.65\n"
          ]
        }
      ]
    },
    {
      "cell_type": "markdown",
      "metadata": {
        "id": "Z0jbsSt0hDAL"
      },
      "source": [
        "### Step 3: 可變參數*參數\n",
        "\n",
        "當參數前面加一顆 * ，即代表接受了一個 tuple/lits 參數，為不定數量的參數使用方法。"
      ]
    },
    {
      "cell_type": "code",
      "metadata": {
        "colab": {
          "base_uri": "https://localhost:8080/"
        },
        "id": "KP8OydBfiRj5",
        "outputId": "b3f2591c-952a-462e-f307-910e2cdf5da2"
      },
      "source": [
        "def test1(*args):\n",
        "    for i, m in enumerate(args):\n",
        "        print(f'args {i}-> {m}')\n",
        "\n",
        "aa = [\"Dog\", \"Cat\", \"Bull\"]\n",
        "test1(*aa)"
      ],
      "execution_count": null,
      "outputs": [
        {
          "output_type": "stream",
          "name": "stdout",
          "text": [
            "args 0-> Dog\n",
            "args 1-> Cat\n",
            "args 2-> Bull\n"
          ]
        }
      ]
    },
    {
      "cell_type": "markdown",
      "metadata": {
        "id": "xpoPDRbkiSE4"
      },
      "source": [
        "### Step 4: 可變參數**引數\n",
        "\n",
        "當參數前面加了 ** 之後，此參數即可視為非固定數量的 Dictionary，字典的鍵值 key 必需是字串。"
      ]
    },
    {
      "cell_type": "code",
      "metadata": {
        "colab": {
          "base_uri": "https://localhost:8080/"
        },
        "id": "rI2-uzqeiV6Q",
        "outputId": "8924e9b1-a852-494f-cbf8-b22b2f1ad059"
      },
      "source": [
        "def test2(**kargs):\n",
        "    for k in kargs:\n",
        "        print(f'args {k}-> {kargs[k]}')\n",
        "\n",
        "bb = {\"Dog\":1, \"Cat\":2, \"Bull\":3}\n",
        "test2(**bb)"
      ],
      "execution_count": null,
      "outputs": [
        {
          "output_type": "stream",
          "name": "stdout",
          "text": [
            "args Dog-> 1\n",
            "args Cat-> 2\n",
            "args Bull-> 3\n"
          ]
        }
      ]
    },
    {
      "cell_type": "markdown",
      "metadata": {
        "id": "F5H7qopOatdy"
      },
      "source": [
        "## Topic 2(主題2)-函數參數和傳回值的資料型別"
      ]
    },
    {
      "cell_type": "markdown",
      "metadata": {
        "id": "1WtU30yLiWDe"
      },
      "source": [
        "### Step 5: 函數參數和傳回值的資料型別\n",
        "\n",
        "3.5 版新加入\n",
        "https://docs.python.org/3/library/typing.html\n"
      ]
    },
    {
      "cell_type": "code",
      "metadata": {
        "colab": {
          "base_uri": "https://localhost:8080/"
        },
        "id": "0MekDJt-oJ_Y",
        "outputId": "910f3077-a67b-4e8d-d129-afa3ce6ad42d"
      },
      "source": [
        "def greeting(name):\n",
        "    return 'Hello ' + name\n",
        "\n",
        "print(greeting(\"John\"))"
      ],
      "execution_count": null,
      "outputs": [
        {
          "output_type": "stream",
          "name": "stdout",
          "text": [
            "Hello John\n"
          ]
        }
      ]
    },
    {
      "cell_type": "code",
      "metadata": {
        "colab": {
          "base_uri": "https://localhost:8080/"
        },
        "id": "dS_Wegs9m1gO",
        "outputId": "188123cc-2a4c-4770-85a1-f7a7aeef5fd1"
      },
      "source": [
        "def greeting(name: str) -> str:\n",
        "    return 'Hello ' + name\n",
        "\n",
        "print(greeting(\"Mary\"))"
      ],
      "execution_count": null,
      "outputs": [
        {
          "output_type": "stream",
          "name": "stdout",
          "text": [
            "Hello Mary\n"
          ]
        }
      ]
    },
    {
      "cell_type": "markdown",
      "metadata": {
        "id": "FwMwRKE_oLO2"
      },
      "source": [
        "### Step 6: 沒有參數型別的gcd()函數定義"
      ]
    },
    {
      "cell_type": "code",
      "metadata": {
        "colab": {
          "base_uri": "https://localhost:8080/"
        },
        "id": "hvkRhr_CoOrN",
        "outputId": "df117e89-9c12-4421-dd78-7e14ebd18a51"
      },
      "source": [
        "def gcd1(x, y):\n",
        "  r=x%y\n",
        "  while r!=0:\n",
        "    x=y;y=r\n",
        "    r=x%y\n",
        "  return y\n",
        "\n",
        "a=240; b=96\n",
        "print(f\"{a}, {b}, {gcd1(a,b)}\")"
      ],
      "execution_count": null,
      "outputs": [
        {
          "output_type": "stream",
          "name": "stdout",
          "text": [
            "240, 96, 48\n"
          ]
        }
      ]
    },
    {
      "cell_type": "markdown",
      "metadata": {
        "id": "d0h69EN8oru4"
      },
      "source": [
        "### Step 7: 有參數型別的gcd()函數定義"
      ]
    },
    {
      "cell_type": "code",
      "metadata": {
        "colab": {
          "base_uri": "https://localhost:8080/"
        },
        "id": "tML83N5zor7r",
        "outputId": "e0f813ea-64e5-4c6b-9867-5147e19c4263"
      },
      "source": [
        "def gcd2(x:int, y:int)->int:\n",
        "  r=x%y\n",
        "  while r!=0:\n",
        "    x=y;y=r\n",
        "    r=x%y\n",
        "  return y\n",
        "  \n",
        "a=240; b=96\n",
        "print(f\"{a}, {b}, {gcd2(a,b)}\")"
      ],
      "execution_count": null,
      "outputs": [
        {
          "output_type": "stream",
          "name": "stdout",
          "text": [
            "240, 96, 48\n"
          ]
        }
      ]
    },
    {
      "cell_type": "markdown",
      "metadata": {
        "id": "N7aDM2g1pYb2"
      },
      "source": [
        "## Topic 3(主題3)-遞迴函數 (Recursion)\n",
        "\n",
        "遞迴函數 (Recursion)就是函數定義裡呼叫函數本身"
      ]
    },
    {
      "cell_type": "markdown",
      "metadata": {
        "id": "SucrJjeDproO"
      },
      "source": [
        "### Step 8: 使用迴圈的階乘 (Factorial)計算\n",
        "\n",
        "$n! = 1 * 2 * ... * n$"
      ]
    },
    {
      "cell_type": "code",
      "metadata": {
        "colab": {
          "base_uri": "https://localhost:8080/"
        },
        "id": "HmE9lL8TpsdI",
        "outputId": "f92f70ab-b0ca-496b-d15b-ba17b36e5c9c"
      },
      "source": [
        "def factorial_loop (n):\n",
        "    factor = 1\n",
        "    for i in range(1,n+1):\n",
        "        factor *= i\n",
        "    return factor\n",
        "print(factorial_loop(10))"
      ],
      "execution_count": null,
      "outputs": [
        {
          "output_type": "stream",
          "name": "stdout",
          "text": [
            "3628800\n"
          ]
        }
      ]
    },
    {
      "cell_type": "markdown",
      "metadata": {
        "id": "1486txeopv_A"
      },
      "source": [
        "### Step 9: 使用遞迴的階乘 (Factorial)計算"
      ]
    },
    {
      "cell_type": "code",
      "metadata": {
        "colab": {
          "base_uri": "https://localhost:8080/"
        },
        "id": "KqFLgnChpxST",
        "outputId": "e2ecf294-179b-4d45-b407-210937dc5edb"
      },
      "source": [
        "def factorial(n):\n",
        "    if n == 0 or n == 1:\n",
        "        return 1\n",
        "    else:\n",
        "        return n * factorial(n - 1)\n",
        "\n",
        "print(factorial_loop(10))"
      ],
      "execution_count": null,
      "outputs": [
        {
          "output_type": "stream",
          "name": "stdout",
          "text": [
            "3628800\n"
          ]
        }
      ]
    },
    {
      "cell_type": "markdown",
      "metadata": {
        "id": "yVXlF-BYpxdw"
      },
      "source": [
        "### Step 10: 使用迴圈的費氏數列 Fibonacci sequence\n",
        "$f(0)=0, f(1)=1$\n",
        "\n",
        "$f(n)=f(n-1)+f(n-2)$"
      ]
    },
    {
      "cell_type": "code",
      "metadata": {
        "colab": {
          "base_uri": "https://localhost:8080/"
        },
        "id": "wr21sg6apzli",
        "outputId": "c9b81dda-3270-4729-9123-f38fcf4b36f6"
      },
      "source": [
        "def fibonacci_loop(n):\n",
        "    if n == 1 or n == 2:\n",
        "        return 1\n",
        "    else:\n",
        "        fib1 = 1\n",
        "        fib2 = 1\n",
        "        fib3 = 0\n",
        "        for i in range(2, n):\n",
        "            fib3 = fib1 + fib2\n",
        "            fib1 = fib2\n",
        "            fib2 = fib3\n",
        "        return fib3\n",
        "print(fibonacci_loop(10))"
      ],
      "execution_count": null,
      "outputs": [
        {
          "output_type": "stream",
          "name": "stdout",
          "text": [
            "55\n"
          ]
        }
      ]
    },
    {
      "cell_type": "markdown",
      "metadata": {
        "id": "QeFH5bOhpzvA"
      },
      "source": [
        "### Step 11: 使用遞迴的費氏數列 Fibonacci sequence"
      ]
    },
    {
      "cell_type": "code",
      "metadata": {
        "colab": {
          "base_uri": "https://localhost:8080/"
        },
        "id": "uSiFOM-ip1CJ",
        "outputId": "a1babc0e-6e4e-43ef-e798-06d61a4558cb"
      },
      "source": [
        "def fibonacci(n):\n",
        "    if n == 0:\n",
        "        return 0\n",
        "    elif n == 1:\n",
        "        return 1\n",
        "    else:\n",
        "        return fibonacci(n-1) + fibonacci(n-2)\n",
        "\n",
        "print(fibonacci(10))"
      ],
      "execution_count": null,
      "outputs": [
        {
          "output_type": "stream",
          "name": "stdout",
          "text": [
            "55\n"
          ]
        }
      ]
    },
    {
      "cell_type": "markdown",
      "metadata": {
        "id": "M1sdfSWlp1Rg"
      },
      "source": [
        "### Step 12: 使用遞迴的gcd()計算"
      ]
    },
    {
      "cell_type": "code",
      "metadata": {
        "colab": {
          "base_uri": "https://localhost:8080/"
        },
        "id": "O36P4eQ6p2l4",
        "outputId": "7416bfd9-616f-4cec-de9d-e7dda9da63e1"
      },
      "source": [
        "def gcd(x, y):\n",
        "    if y == 0:\n",
        "        return x\n",
        "    else:\n",
        "        return gcd(y, x%y)\n",
        "        \n",
        "a=240; b=96\n",
        "print(f\"{a}, {b}, {gcd2(a,b)}\")"
      ],
      "execution_count": null,
      "outputs": [
        {
          "output_type": "stream",
          "name": "stdout",
          "text": [
            "240, 96, 48\n"
          ]
        }
      ]
    },
    {
      "cell_type": "markdown",
      "metadata": {
        "id": "aof6VxNfxJKY"
      },
      "source": [
        "## Topic 4(主題4)-Lambda 函數\n",
        "Lambda語法：arg1,arg2...：expression\n",
        "※可以在運算式內使用遞迴呼叫的神奇運算式※"
      ]
    },
    {
      "cell_type": "markdown",
      "metadata": {
        "id": "J7BK3uM5yhET"
      },
      "source": [
        "### Step 13: 使用Lambda的費氏數列計算"
      ]
    },
    {
      "cell_type": "code",
      "metadata": {
        "colab": {
          "base_uri": "https://localhost:8080/"
        },
        "id": "K4dn33dRys-s",
        "outputId": "9bcb5976-174e-4d37-e6c2-d217daa2ba9b"
      },
      "source": [
        "fib = lambda x:(fib(x-1)+fib(x-2)) if x>2 else 1\n",
        "\n",
        "print(fib(10))"
      ],
      "execution_count": null,
      "outputs": [
        {
          "output_type": "stream",
          "name": "stdout",
          "text": [
            "55\n"
          ]
        }
      ]
    },
    {
      "cell_type": "markdown",
      "metadata": {
        "id": "M5yo8avqxSFh"
      },
      "source": [
        "### Step 14: 使用Lambda的gcd()計算"
      ]
    },
    {
      "cell_type": "code",
      "metadata": {
        "colab": {
          "base_uri": "https://localhost:8080/"
        },
        "id": "F-3QJXgFxYEH",
        "outputId": "8d103438-a0b9-4565-afeb-121391c40a6a"
      },
      "source": [
        "gcd = lambda x,y : (gcd(y,x%y)) if x%y else y\n",
        "\n",
        "a=240; b=96\n",
        "print(f\"{a}, {b}, {gcd(a,b)}\")"
      ],
      "execution_count": null,
      "outputs": [
        {
          "output_type": "stream",
          "name": "stdout",
          "text": [
            "240, 96, 48\n"
          ]
        }
      ]
    },
    {
      "cell_type": "markdown",
      "metadata": {
        "id": "qMNa0rB7y-LV"
      },
      "source": [
        "### Step 15: 在filter()中使用Lambda函數"
      ]
    },
    {
      "cell_type": "code",
      "metadata": {
        "colab": {
          "base_uri": "https://localhost:8080/"
        },
        "id": "7gxAY3IEzWaI",
        "outputId": "075a02a6-b090-46be-9711-dae17e3adc4f"
      },
      "source": [
        "data=[0,1,2,3,4,7,8,14,19,31,34]\n",
        "\n",
        "odds =list(filter(lambda x: x%2 > 0, data))\n",
        "print(odds)\n",
        "evens=list(filter(lambda x: x%2 ==0, data))\n",
        "print(evens)"
      ],
      "execution_count": null,
      "outputs": [
        {
          "output_type": "stream",
          "name": "stdout",
          "text": [
            "[1, 3, 7, 19, 31]\n",
            "[0, 2, 4, 8, 14, 34]\n"
          ]
        }
      ]
    },
    {
      "cell_type": "markdown",
      "metadata": {
        "id": "Lw7YCA0mz4Re"
      },
      "source": [
        "### Step 16: 在map()中使用Lambda函數"
      ]
    },
    {
      "cell_type": "code",
      "metadata": {
        "colab": {
          "base_uri": "https://localhost:8080/"
        },
        "id": "V0Qcq7uiz6aJ",
        "outputId": "8bab44ba-473c-455c-ade4-fb0002c3110e"
      },
      "source": [
        "base=[1, 2, 3, 4]\n",
        "\n",
        "square=list(map(lambda x: x**2, base))\n",
        "print(square) "
      ],
      "execution_count": null,
      "outputs": [
        {
          "output_type": "stream",
          "name": "stdout",
          "text": [
            "[1, 4, 9, 16]\n"
          ]
        }
      ]
    },
    {
      "cell_type": "markdown",
      "metadata": {
        "id": "GTcY-DSip2ui"
      },
      "source": [
        "## Topic 4(主題4)-JSON-Python Standard Library\n",
        "\n",
        "JSON(JavaScript Object Notation) 是一種輕量級的數據交換格式，易於人閱讀和編寫。\n",
        "https://en.wikipedia.org/wiki/JSON\n"
      ]
    },
    {
      "cell_type": "markdown",
      "metadata": {
        "id": "IWAEKbt4s877"
      },
      "source": [
        "### Step 17: 將資料寫入一個json檔"
      ]
    },
    {
      "cell_type": "code",
      "metadata": {
        "id": "MPq0F5OSs_wg"
      },
      "source": [
        "import json\n",
        "\n",
        "data = [ { 'a' : 1, 'b' : 2, 'c' : 3, 'd' : 4, 'e' : 5 } ]\n",
        "\n",
        "file = open(\"test.json\", \"w\")\n",
        "json.dump(data, file)\n",
        "file.close()"
      ],
      "execution_count": null,
      "outputs": []
    },
    {
      "cell_type": "code",
      "metadata": {
        "colab": {
          "base_uri": "https://localhost:8080/"
        },
        "id": "vOWME1Twtv-k",
        "outputId": "e0ff0544-6229-4b87-c6ee-602db1026e4b"
      },
      "source": [
        "!ls "
      ],
      "execution_count": null,
      "outputs": [
        {
          "output_type": "stream",
          "name": "stdout",
          "text": [
            "sample_data  test.json\n"
          ]
        }
      ]
    },
    {
      "cell_type": "code",
      "metadata": {
        "colab": {
          "base_uri": "https://localhost:8080/"
        },
        "id": "S2aaKp83t0O2",
        "outputId": "573accd5-d0de-4b5b-b5a0-d69ef43c032b"
      },
      "source": [
        "!more test.json"
      ],
      "execution_count": null,
      "outputs": [
        {
          "output_type": "stream",
          "name": "stdout",
          "text": [
            "[{\"a\": 1, \"b\": 2, \"c\": 3, \"d\": 4, \"e\": 5}]\n"
          ]
        }
      ]
    },
    {
      "cell_type": "markdown",
      "metadata": {
        "id": "o2_KpLd2s_7h"
      },
      "source": [
        "### Step 18: 將一個json檔讀入程式中"
      ]
    },
    {
      "cell_type": "code",
      "metadata": {
        "colab": {
          "base_uri": "https://localhost:8080/"
        },
        "id": "ncg3O2sztBER",
        "outputId": "fbfdf154-daa4-4a65-9c79-ad4557139dc6"
      },
      "source": [
        "import json\n",
        "file = open ('test.json')\n",
        "json_data = json.load(file)\n",
        "file.close()\n",
        "\n",
        "print(json_data)"
      ],
      "execution_count": null,
      "outputs": [
        {
          "output_type": "stream",
          "name": "stdout",
          "text": [
            "[{'a': 1, 'b': 2, 'c': 3, 'd': 4, 'e': 5}]\n"
          ]
        }
      ]
    },
    {
      "cell_type": "code",
      "metadata": {
        "colab": {
          "base_uri": "https://localhost:8080/"
        },
        "id": "Z9r1DWrpu9bs",
        "outputId": "6711fae9-fea4-4f3f-fffc-0685b9f0c037"
      },
      "source": [
        "type(json_data)"
      ],
      "execution_count": null,
      "outputs": [
        {
          "output_type": "execute_result",
          "data": {
            "text/plain": [
              "list"
            ]
          },
          "metadata": {},
          "execution_count": 31
        }
      ]
    },
    {
      "cell_type": "markdown",
      "metadata": {
        "id": "HzNeieIemSLB"
      },
      "source": [
        "## Topic 5(主題5)-亂數(random)-Python Standard Library\n",
        "https://docs.python.org/3/library/random.html\n"
      ]
    },
    {
      "cell_type": "markdown",
      "metadata": {
        "id": "fKUwi4-z01ym"
      },
      "source": [
        "### Step 19: 沒有指定種子的亂數生成"
      ]
    },
    {
      "cell_type": "code",
      "metadata": {
        "colab": {
          "base_uri": "https://localhost:8080/"
        },
        "id": "P6do2ifA02LF",
        "outputId": "e22d31d2-8dae-4d8c-90e1-215db4f9a9cc"
      },
      "source": [
        "#random --- 生成亂數\n",
        "import random as rd \n",
        "a=rd.random()                             # Random float:  0.0 <= x < 1.0\n",
        "b=rd.uniform(2.5, 10.0)                   # Random float:  2.5 <= x < 10.0\n",
        "c=rd.randrange(10)                        # Integer from 0 to 9 inclusive\n",
        "d=rd.choice(['win', 'lose', 'draw'])      # Single random element from a sequence\n",
        "print(a,b,c,d)"
      ],
      "execution_count": null,
      "outputs": [
        {
          "output_type": "stream",
          "name": "stdout",
          "text": [
            "0.5882545827197917 6.601323825684376 9 win\n"
          ]
        }
      ]
    },
    {
      "cell_type": "markdown",
      "metadata": {
        "id": "WHBF5G8F1ImP"
      },
      "source": [
        "### Step 20: 指定種子的亂數生成"
      ]
    },
    {
      "cell_type": "code",
      "metadata": {
        "colab": {
          "base_uri": "https://localhost:8080/"
        },
        "id": "NzVp2CGP1TV6",
        "outputId": "46b70eed-970e-4d63-b879-b6ff27c67f58"
      },
      "source": [
        "rd.seed(12345) \n",
        "a=rd.random()                             # Random float:  0.0 <= x < 1.0\n",
        "b=rd.uniform(2.5, 10.0)                   # Random float:  2.5 <= x < 10.0\n",
        "c=rd.randrange(10)                        # Integer from 0 to 9 inclusive\n",
        "d=rd.choice(['win', 'lose', 'draw'])      # Single random element from a sequence\n",
        "print(a,b,c,d)"
      ],
      "execution_count": null,
      "outputs": [
        {
          "output_type": "stream",
          "name": "stdout",
          "text": [
            "0.41661987254534116 2.5762687709280128 4 lose\n"
          ]
        }
      ]
    },
    {
      "cell_type": "code",
      "metadata": {
        "colab": {
          "base_uri": "https://localhost:8080/"
        },
        "id": "12iyt7EQ1eUb",
        "outputId": "863efc6a-974a-46d6-d435-f91832b0ac07"
      },
      "source": [
        "rd.seed(12345) \n",
        "a=rd.random()                             # Random float:  0.0 <= x < 1.0\n",
        "b=rd.uniform(2.5, 10.0)                   # Random float:  2.5 <= x < 10.0\n",
        "c=rd.randrange(10)                        # Integer from 0 to 9 inclusive\n",
        "d=rd.choice(['win', 'lose', 'draw'])      # Single random element from a sequence\n",
        "print(a,b,c,d)"
      ],
      "execution_count": null,
      "outputs": [
        {
          "output_type": "stream",
          "name": "stdout",
          "text": [
            "0.41661987254534116 2.5762687709280128 4 lose\n"
          ]
        }
      ]
    }
  ]
}