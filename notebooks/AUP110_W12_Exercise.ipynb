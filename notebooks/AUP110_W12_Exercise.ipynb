{
 "cells": [
  {
   "cell_type": "markdown",
   "metadata": {
    "id": "3tHmSlPKjSDR"
   },
   "source": [
    "# AU Fundamentals of Python Programming-Module2Problems (Part. A)"
   ]
  },
  {
   "cell_type": "markdown",
   "metadata": {
    "id": "o10sMcW7jd0L"
   },
   "source": [
    "## M2-Q01  最大值與最小值 \n",
    "問題描述：\n",
    "寫一個程式來找出輸入的 5 個數字的最大值和最小值，數值不限定為整數，且值可存放於 float 型態數值內。\n",
    "\n",
    "輸入說明：\n",
    "輸入5個數字\n",
    "\n",
    "輸出說明：\n",
    "輸出數列中的最大值與最小值，輸出時需附上小數點後兩位數字，最後必須有換行字元。\n",
    "\n",
    "\n",
    "| Sample Input:   |      Sample Output:      |\n",
    "|:----------------|:-------------------------|\n",
    "|-2 -15.2 0 9.5 100 | max=100.00   |\n",
    "|          |min=-15.20⏎ |\n",
    "| 0 3 52.7 998 135 | max=998.00   |\n",
    "|          |min=0.00⏎ |"
   ]
  },
  {
   "cell_type": "code",
   "execution_count": null,
   "metadata": {
    "id": "7kNXwlkQjRWy"
   },
   "outputs": [],
   "source": []
  },
  {
   "cell_type": "markdown",
   "metadata": {
    "id": "VADAq_PbkVbj"
   },
   "source": [
    "## M2-Q02 '*'三角形\n",
    "(時間限制：2 秒)\n",
    "\n",
    "問題描述：\n",
    "讓使用者輸入一正整數 n，利用迴圈以字元 '*' 輸出高度為 n 的三角形。\n",
    "\n",
    "輸入說明：\n",
    "輸入一正整數 n。\n",
    "\n",
    "輸出說明：\n",
    "利用迴圈以字元 '*' 輸出高度為 n 的三角形，最後必須有換行字元。\n",
    "\n",
    "| Sample Input:   |      Sample Output:      |\n",
    "|:----------------|:-------------------------|\n",
    "|4 | \\*   |\n",
    "|          |\\*\\* |\n",
    "|  | \\*\\*\\*   |\n",
    "|          |\\*\\*\\*\\*⏎ |\n"
   ]
  },
  {
   "cell_type": "code",
   "execution_count": null,
   "metadata": {
    "id": "ICkcvOD4kuK9"
   },
   "outputs": [],
   "source": []
  },
  {
   "cell_type": "markdown",
   "metadata": {
    "id": "Jen3UxgYkudE"
   },
   "source": [
    "## M2-Q03 '*'反向三角形\n",
    "問題描述：\n",
    "讓使用者輸入一正整數 n，利用迴圈以字元 '*' 輸出高度為 n 的三角形。\n",
    "\n",
    "輸入說明：\n",
    "輸入一正整數 n。\n",
    "\n",
    "輸出說明：\n",
    "利用迴圈以字元 '*' 輸出高度為 n 的三角形，最後必須有換行字元。\n",
    "\n",
    "| Sample Input:   |      Sample Output:      |\n",
    "|:----------------|:-------------------------|\n",
    "|4 | &nbsp;&nbsp;&nbsp;\\*   |\n",
    "|          |&nbsp;&nbsp;\\*\\* |\n",
    "|  | &nbsp;\\*\\*\\*   |\n",
    "|          |\\*\\*\\*\\*⏎ |"
   ]
  },
  {
   "cell_type": "code",
   "execution_count": null,
   "metadata": {
    "id": "ipMCU87flKjT"
   },
   "outputs": [],
   "source": []
  },
  {
   "cell_type": "markdown",
   "metadata": {
    "id": "m6hH_THllLg4"
   },
   "source": [
    "##M2-Q04 '*'正三角形\n",
    "問題描述：\n",
    "讓使用者輸入一正整數 n，利用迴圈以字元 '*' 輸出高度為 n 的三角形。\n",
    "\n",
    "輸入說明：\n",
    "輸入一正整數 n。\n",
    "\n",
    "輸出說明：\n",
    "利用迴圈以字元'*'輸出高度為 n 的三角形，最後必須有換行字元。\n",
    "\n",
    "| Sample Input:   |      Sample Output:      |\n",
    "|:----------------|:-------------------------|\n",
    "|4 | &nbsp;&nbsp;&nbsp;\\*   |\n",
    "|          |&nbsp;&nbsp;\\*\\*\\* |\n",
    "|  | &nbsp;\\*\\*\\*\\*\\*   |\n",
    "|          |\\*\\*\\*\\*\\*\\*\\*⏎ |"
   ]
  },
  {
   "cell_type": "code",
   "execution_count": null,
   "metadata": {
    "id": "j9HGTbUVlajc"
   },
   "outputs": [],
   "source": []
  },
  {
   "cell_type": "markdown",
   "metadata": {
    "id": "HSrPResGmHYW"
   },
   "source": [
    "## M2-Q05 十進制轉二進制\n",
    "\n",
    "問題描述：\n",
    "撰寫一個程式，使用者輸入一個非負整數，印出其 8 位元的二進制表示。\n",
    "\n",
    "輸入說明：\n",
    "輸入一個非負整數，介於 0～255 之間。\n",
    "\n",
    "輸出說明：\n",
    "以 8 位元的二進制表示，最後必須有換行字元。\n",
    "\n",
    "| Sample Input:   |      Sample Output:      |\n",
    "|:----------------|:-------------------------|\n",
    "|15 | 00001111⏎   |\n",
    "|254    |11111110⏎ |"
   ]
  },
  {
   "cell_type": "code",
   "execution_count": null,
   "metadata": {
    "id": "2PCSxGATmcJ7"
   },
   "outputs": [],
   "source": []
  },
  {
   "cell_type": "markdown",
   "metadata": {
    "id": "t8-v9ylQmcX-"
   },
   "source": [
    "## M2-Q06 質數判別\n",
    "\n",
    "問題描述：\n",
    "試撰寫一個程式，由輸入一個整數，然後判別此數是否為質數。質數是指除了 1 和它本身之外，沒有其它的數可以整除它的數，例如：2,3,5,7 與 11 等皆為質數。\n",
    "\n",
    "輸入說明：\n",
    "輸入一個正整數。\n",
    "\n",
    "輸出說明：\n",
    "質數顯示 YES；非質數顯示 NO，最後必須有換行字元。\n",
    "\n",
    "| Sample Input:   |      Sample Output:      |\n",
    "|:----------------|:-------------------------|\n",
    "|23 | YES⏎   |\n",
    "|37    |YES⏎ |\n",
    "|39    |NO⏎ |\n"
   ]
  },
  {
   "cell_type": "code",
   "execution_count": null,
   "metadata": {
    "id": "9in2OxWFmuq2"
   },
   "outputs": [],
   "source": []
  },
  {
   "cell_type": "markdown",
   "metadata": {
    "id": "Sba5RrXom3Mz"
   },
   "source": [
    "## M2-Q07 考試測驗\n",
    "\n",
    "問題描述：\n",
    "某間學校舉辦英文檢定測驗，若是學生通過該測驗，則能通過畢業門檻。老師準備的英文測驗中分為三個項目當作考試，分別是聽力、閱讀、口說。每一個項目測驗滿分皆為 100 分，總分為 300 分。想要通過測驗有兩種方式。\n",
    "方式一：若是三個項目分數皆為 60 分以上(包含 60 分)即為通過測驗。\n",
    "方式二：\n",
    "1.\t若三個項目中有其中一個項目分數未滿 60 分，但三個項目分數總合大於等於220 分，也可算通過測驗。\n",
    "2.\t若三個項目中有其中一個項目分數未滿 60 分，而三個項目分數總合也沒能達到 220 分，可獲得補考機會。\n",
    "3.\t若是三個項目中有兩個項目不及格，但另一個項目成績高於 80 分(包含 80 分)，也可獲得補考的機會。\n",
    "其餘皆判定為無法通過測驗。\n",
    "\n",
    "輸入說明：\n",
    "第一行為一個整數 N，代表共有 N 組測試資料。之後有 N 行，每一行有 3 個非負整數(範圍皆為 0 到 100)，分別代表該名學生聽力、閱讀、口說的測驗分數。\n",
    "\n",
    "輸出說明：\n",
    "若是通過測驗，則輸出“P”。若是需要補考，則輸出“M”。若是無法通過測驗，則輸出“F”。每組答案結果輸出於一行，最後必須有換行字元。\n",
    "\n",
    "| Sample Input:   |      Sample Output:      |\n",
    "|:----------------|:-------------------------|\n",
    "|5 | P   |\n",
    "|95   86   100    |M |\n",
    "|30   60   80   |P |\n",
    "|80   55   85 | F   |\n",
    "|20   30   60    |M |\n",
    "|10   80   10    | |"
   ]
  },
  {
   "cell_type": "code",
   "execution_count": null,
   "metadata": {
    "id": "GuIQwoPunhWR"
   },
   "outputs": [],
   "source": []
  },
  {
   "cell_type": "markdown",
   "metadata": {
    "id": "IhQ8MKjinhi8"
   },
   "source": [
    "## M2-Q08 計算正整數被 3 整除之數值之總和\n",
    "\n",
    "問題描述：\n",
    "試寫一個程式，輸入一正整數 N，可計算出 1 到 N 之間可被 3 整除的數值之總和。\n",
    "\n",
    "輸入說明：\n",
    "輸入一正整數。\n",
    "\n",
    "輸出說明：\n",
    "輸出總和，最後必須有換行字元。\n",
    "\n",
    "| Sample Input:   |      Sample Output:      |\n",
    "|:----------------|:-------------------------|\n",
    "|100 | 1683⏎   |\n",
    "|150   |3825⏎ |"
   ]
  },
  {
   "cell_type": "code",
   "execution_count": null,
   "metadata": {
    "id": "lIfPj8FIn1vj"
   },
   "outputs": [],
   "source": []
  },
  {
   "cell_type": "markdown",
   "metadata": {
    "id": "Zcn88_XIn18C"
   },
   "source": [
    "## M2-Q09 最大公因數與最小公倍數\n",
    "\n",
    "問題描述：\n",
    "給定二個正整數，求其最大公因數與最小公倍數。\n",
    "LCM(a, b) = (a x b) / GCD(a, b)\n",
    "\n",
    "輸入說明：\n",
    "給定二個正整數。\n",
    "\n",
    "輸出說明：\n",
    "輸出最大公因數與最小公倍數，最後必須有換行字元。\n",
    "\n",
    "| Sample Input:   |      Sample Output:      |\n",
    "|:----------------|:-------------------------|\n",
    "|300 250 | 50   |\n",
    "|   |1500⏎ |"
   ]
  },
  {
   "cell_type": "code",
   "execution_count": null,
   "metadata": {
    "id": "-_25jQ7-oCq-"
   },
   "outputs": [],
   "source": []
  },
  {
   "cell_type": "markdown",
   "metadata": {
    "id": "UavkmCJSoC1x"
   },
   "source": [
    "## M2-Q10 n×n 乘法表\n",
    "\n",
    "問題描述：\n",
    "輸出 n×n 乘法表。\n",
    "\n",
    "輸入說明：\n",
    "輸入一正整數 n。\n",
    "\n",
    "輸出說明：\n",
    "輸出 n×n 乘法表(0<n<=9)，每個輸出數字皆以 tab 間格，最後必須有換行字元。\n",
    "\n",
    "| Sample Input:   |      Sample Output:      |\n",
    "|:----------------|:-------------------------|\n",
    "|8 | 1      &nbsp;2      &nbsp;3       &nbsp;4     &nbsp;5      &nbsp;6       &nbsp;7      &nbsp;8   |\n",
    "| | 2     &nbsp;4      &nbsp;6       &nbsp;8   10    12    14    16   |\n",
    "| | 3     &nbsp;6      &nbsp;9     12   15    18    21    24   |\n",
    "| | 4    &nbsp;8    12     16   20   24   28   32   |\n",
    "| | 5   10    15    20   25    30   35  40   |\n",
    "| | 6   12    18    24   30   36   42   48   |\n",
    "| | 7   14    21    28   35    42   49   56   |\n",
    "| | 8   16   24    32   40   48   56   64⏎   |\n",
    "|5   |1     2      3       4      5 |\n",
    "| | 2     4      6      8    10   |\n",
    "| | 3     6      9    12    15   |\n",
    "| | 4     8    12    16    20   |\n",
    "| | 5   10    15    20   25⏎   |\n"
   ]
  },
  {
   "cell_type": "code",
   "execution_count": null,
   "metadata": {
    "id": "I3VhmwXRpuEk"
   },
   "outputs": [],
   "source": []
  },
  {
   "cell_type": "markdown",
   "metadata": {
    "id": "KtOtlKY6pug-"
   },
   "source": [
    "## M2-Q11 正因數\n",
    "\n",
    "問題描述：\n",
    "讓使用者輸入一正整數 n，輸出 n 的所有正因數。\n",
    "\n",
    "輸入說明：\n",
    "輸入一正整數 n。\n",
    "\n",
    "輸出說明：\n",
    "輸出 n 的所有正因數，最後必須有換行字元。\n",
    "\n",
    "| Sample Input:   |      Sample Output:      |\n",
    "|:----------------|:-------------------------|\n",
    "|5 | 1   |\n",
    "|   |5⏎ |\n",
    "|10 | 1   |\n",
    "|   |2 |\n",
    "| | 5   |\n",
    "|   |10⏎ |"
   ]
  },
  {
   "cell_type": "code",
   "execution_count": null,
   "metadata": {
    "id": "S6rQ0wF6qIUz"
   },
   "outputs": [],
   "source": []
  },
  {
   "cell_type": "markdown",
   "metadata": {
    "id": "4dLmZ7DPqMRe"
   },
   "source": [
    "## M2-Q12 實心正方形\n",
    "\n",
    "問題描述：\n",
    "試撰寫一程式，由使用者輸入一正整數 n 及字元 c，輸出以 c 字元印出邊長為 n 之實心正方形。\n",
    "\n",
    "輸入說明：\n",
    "分別輸入一正整數 n 及字元 c。\n",
    "\n",
    "輸出說明：\n",
    "輸出以 c 字元，印出邊長為 n 之實心正方形，最後必須有換行字元。\n",
    "\n",
    "| Sample Input:   |      Sample Output:      |\n",
    "|:----------------|:-------------------------|\n",
    "|3@ | \\@\\@\\@   |\n",
    "|   |\\@\\@\\@ |\n",
    "|   |\\@\\@\\@⏎ |"
   ]
  },
  {
   "cell_type": "code",
   "execution_count": null,
   "metadata": {
    "id": "6wMrmcfJtRJ2"
   },
   "outputs": [],
   "source": []
  },
  {
   "cell_type": "markdown",
   "metadata": {
    "id": "fOAWHfkbtRZy"
   },
   "source": [
    "## M2-Q13   n 階乘\n",
    "\n",
    "問題描述：\n",
    "讓使用者輸入一正整數 n，用迴圈計算 n!數值後輸出。\n",
    "\n",
    "輸入說明：\n",
    "輸入一正整數 n ( n <= 20 )。\n",
    "\n",
    "輸出說明：\n",
    "以迴圈計算 n!數值(long)後輸出，最後必須有換行字元。\n",
    "\n",
    "| Sample Input:   |      Sample Output:      |\n",
    "|:----------------|:-------------------------|\n",
    "|8 | 40320⏎   |\n",
    "| 14  |87178291200⏎ |\n"
   ]
  }
 ],
 "metadata": {
  "colab": {
   "authorship_tag": "ABX9TyPQeLLdf/q7njl4KVZevaN6",
   "collapsed_sections": [],
   "name": "AUPython-Ex10-Begin.ipynb",
   "provenance": []
  },
  "kernelspec": {
   "display_name": "Python 3",
   "language": "python",
   "name": "python3"
  },
  "language_info": {
   "codemirror_mode": {
    "name": "ipython",
    "version": 3
   },
   "file_extension": ".py",
   "mimetype": "text/x-python",
   "name": "python",
   "nbconvert_exporter": "python",
   "pygments_lexer": "ipython3",
   "version": "3.7.6"
  }
 },
 "nbformat": 4,
 "nbformat_minor": 1
}
