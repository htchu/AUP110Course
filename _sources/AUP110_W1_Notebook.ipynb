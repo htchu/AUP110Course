{
  "nbformat": 4,
  "nbformat_minor": 0,
  "metadata": {
    "colab": {
      "name": "AUP110_W1_Notebook.ipynb",
      "provenance": [],
      "collapsed_sections": [
        "VnMo1y-kujl2",
        "SikgZwdSsjnz",
        "CDPEHTzDrQ0C"
      ]
    },
    "kernelspec": {
      "display_name": "Python 3",
      "language": "python",
      "name": "python3"
    },
    "language_info": {
      "codemirror_mode": {
        "name": "ipython",
        "version": 3
      },
      "file_extension": ".py",
      "mimetype": "text/x-python",
      "name": "python",
      "nbconvert_exporter": "python",
      "pygments_lexer": "ipython3",
      "version": "3.7.6"
    }
  },
  "cells": [
    {
      "cell_type": "markdown",
      "metadata": {
        "id": "EUjJ7ImLnPVr"
      },
      "source": [
        "![image](https://www.python.org/static/img/python-logo.png)\n",
        "# 亞洲大學基礎程式設計教材(AUP110-Fundamentals of Programming)\n",
        "[![Open In Colab](https://colab.research.google.com/assets/colab-badge.svg)](https://colab.research.google.com/github/googlecolab/colabtools/blob/master/notebooks/colab-github-demo.ipynb)\n"
      ]
    },
    {
      "cell_type": "markdown",
      "metadata": {
        "id": "Zk0MAMNlo_gx"
      },
      "source": [
        "#Week1 Python 程式語言和IPO-model\n",
        "\n",
        "Python 是一種腳本程式語言，意思是只要寫好一行的指令就可以執行。而Google Colab提供最簡單的方式來編寫和執行Python程式語言。在下面每一個程式區塊(code cell) 都可以單獨執行。而比較大的程式，程式可以跨區塊執行。\n",
        "\n",
        "Python是易學、功能強大的程式語言。在本課程中，我們會介紹Python基本語法(變數、運算、流程控制和資料結構)等，讓同學在未來可以做為學習進階資料科學或深度學習等課程的基礎。\n",
        "\n",
        "完成第一個程式很簡單，在所有程式語言，第一個程式叫Hello程式，Python 的Hello程式超簡單，就是下面一行：\n",
        "\n",
        "```\n",
        "print('Hello World')\n",
        "```\n",
        "\n"
      ]
    },
    {
      "cell_type": "code",
      "metadata": {
        "id": "X-HFB-nRrGDe"
      },
      "source": [
        "#把Hello World程式貼在這個下面，然後按左側的執行鍵或(Ctrl+Enter鍵)....\n",
        "print('Hello World')"
      ],
      "execution_count": null,
      "outputs": []
    },
    {
      "cell_type": "markdown",
      "metadata": {
        "id": "g-ZT0jKHrSts"
      },
      "source": [
        "在上面程式，我們使用了一個函數print()，print會合併其輸入的參數，然後，輸出一行的文字。\n",
        "\n",
        "下面我們有各種Hello World程式的變型。大家可以觀察其不同。\n"
      ]
    },
    {
      "cell_type": "markdown",
      "metadata": {
        "id": "kLe1GoiTtrgI"
      },
      "source": [
        "## Topic 1(主題1)-Hello World程式"
      ]
    },
    {
      "cell_type": "markdown",
      "metadata": {
        "id": "cHiXWmApnZ_W"
      },
      "source": [
        "### Step 1: 各種Hello World的寫法\n"
      ]
    },
    {
      "cell_type": "code",
      "metadata": {
        "id": "8JL0O3Dw0hVK"
      },
      "source": [
        "print('Hello World!')"
      ],
      "execution_count": null,
      "outputs": []
    },
    {
      "cell_type": "code",
      "metadata": {
        "id": "eF-jycTxnY9-"
      },
      "source": [
        "print('Hello '+'World!')"
      ],
      "execution_count": null,
      "outputs": []
    },
    {
      "cell_type": "code",
      "metadata": {
        "id": "7AzrK1j_npYa"
      },
      "source": [
        "print(\"Hello World!\")"
      ],
      "execution_count": null,
      "outputs": []
    },
    {
      "cell_type": "code",
      "metadata": {
        "id": "EbZnPm_GnzgW"
      },
      "source": [
        "print(\"Hello\");  print(\"World!\")"
      ],
      "execution_count": null,
      "outputs": []
    },
    {
      "cell_type": "code",
      "metadata": {
        "id": "yF49kRbdOhTU"
      },
      "source": [
        ""
      ],
      "execution_count": null,
      "outputs": []
    },
    {
      "cell_type": "code",
      "metadata": {
        "id": "7honmgYyqx0w"
      },
      "source": [
        "print(\"Hello World!\") #註解是不會執行的"
      ],
      "execution_count": null,
      "outputs": []
    },
    {
      "cell_type": "markdown",
      "metadata": {
        "id": "G7fyYaJm8bzg"
      },
      "source": [
        "*  Python的字串可以用單引號或雙引號"
      ]
    },
    {
      "cell_type": "code",
      "metadata": {
        "id": "j410MQ2VSA5g"
      },
      "source": [
        ""
      ],
      "execution_count": null,
      "outputs": []
    },
    {
      "cell_type": "markdown",
      "metadata": {
        "id": "RATZKmu_n4_F"
      },
      "source": [
        "### Step 2: Run \"Hello World\" by a command line (指令行)\n",
        "* 使用Spyder或Visual Studio Code 建立一個檔案叫做 'hello.py'\n",
        "* 在 hello.py 寫入 print(\"Hello World!\")\n"
      ]
    },
    {
      "cell_type": "markdown",
      "metadata": {
        "id": "WBqSanjvXnxs"
      },
      "source": [
        "<img src=\"https://i.ibb.co/qJFrtVB/Spyder2.jpg\" alt=\"Spyder2\" border=\"0\" width=\"500\">"
      ]
    },
    {
      "cell_type": "markdown",
      "metadata": {
        "id": "15oommtNYiYg"
      },
      "source": [
        "* 開啟「命令提示字元」，輸入: ```python hello.py```\n",
        "\n",
        "<img src=\"https://i.ibb.co/3swzzfg/cmd1.jpg\" alt=\"cmd1\" border=\"0\" />"
      ]
    },
    {
      "cell_type": "markdown",
      "metadata": {
        "id": "MmdyzEarPCjx"
      },
      "source": [
        "## Topic 2(主題2)-IPO model\n",
        "\n",
        "\n",
        "![image](https://i.ibb.co/hmLFfRj/ipo1.png)\n"
      ]
    },
    {
      "cell_type": "markdown",
      "metadata": {
        "id": "VnMo1y-kujl2"
      },
      "source": [
        "### Step 1: 使用input()函數輸入變數的值\n",
        "Python中使用input()函數讀入輸入的資料。\n",
        "\n",
        "函數語法： input([prompt]) 參數prompt是提示訊息，跟輸入的值無關。\n",
        "\n",
        "呼叫一次input()函數會輸入一個字串。 "
      ]
    },
    {
      "cell_type": "code",
      "metadata": {
        "id": "uJbEBoQR3QTM"
      },
      "source": [
        "name = input('Please input your name：')\n",
        "print('Hello, ', name)\n",
        "print(type(name))   #列印變數的型別"
      ],
      "execution_count": null,
      "outputs": []
    },
    {
      "cell_type": "markdown",
      "metadata": {
        "id": "dLQMkIjNoqVk"
      },
      "source": [
        "### Step 2: Assignment statement (指定敘述)\n",
        "* Assignment (賦值) 符號\"=\"\n",
        "* 左邊是Variables (變數)\n",
        "* 右邊是有型別(date type)的值 (value)"
      ]
    },
    {
      "cell_type": "code",
      "metadata": {
        "id": "xDGDNhPfKZtW"
      },
      "source": [
        "#Numbers\n",
        "counter = 100          # An integer assignment\n",
        "miles = 1000.0       # A floating point\n",
        "name = 'John'       # A string"
      ],
      "execution_count": null,
      "outputs": []
    },
    {
      "cell_type": "markdown",
      "metadata": {
        "id": "SikgZwdSsjnz"
      },
      "source": [
        "### Step 3: Python 二個內建基本函數help()和 type()\n",
        "* help()  函數說明\n",
        "* type()  變數類別"
      ]
    },
    {
      "cell_type": "code",
      "metadata": {
        "id": "i-9BPj_t1dkw"
      },
      "source": [
        "help(type)"
      ],
      "execution_count": null,
      "outputs": []
    },
    {
      "cell_type": "code",
      "metadata": {
        "id": "RAl6qI6huXXF"
      },
      "source": [
        "help(input)"
      ],
      "execution_count": null,
      "outputs": []
    },
    {
      "cell_type": "code",
      "metadata": {
        "id": "pVXa9Xu-KclT"
      },
      "source": [
        "type(counter)"
      ],
      "execution_count": null,
      "outputs": []
    },
    {
      "cell_type": "code",
      "metadata": {
        "id": "ArjQALkBKiQz"
      },
      "source": [
        "type(miles)"
      ],
      "execution_count": null,
      "outputs": []
    },
    {
      "cell_type": "code",
      "metadata": {
        "id": "lhfwl-RyKjlQ"
      },
      "source": [
        "type(name)"
      ],
      "execution_count": null,
      "outputs": []
    },
    {
      "cell_type": "markdown",
      "metadata": {
        "id": "CDPEHTzDrQ0C"
      },
      "source": [
        "### Step 4: 用print()函數輸出變數的值"
      ]
    },
    {
      "cell_type": "code",
      "metadata": {
        "id": "ExiSChA40noD"
      },
      "source": [
        "help(print)"
      ],
      "execution_count": null,
      "outputs": []
    },
    {
      "cell_type": "code",
      "metadata": {
        "id": "XqZnJ5MFrC6y"
      },
      "source": [
        "print(miles)      #列印變數的值\n",
        "print(type(miles))   #列印變數的型別"
      ],
      "execution_count": null,
      "outputs": []
    },
    {
      "cell_type": "code",
      "metadata": {
        "id": "HueRVbbirFoc"
      },
      "source": [
        "print(name)      #列印變數的值\n",
        "print(type(name))   #列印變數的型別"
      ],
      "execution_count": null,
      "outputs": []
    },
    {
      "cell_type": "code",
      "metadata": {
        "id": "OtOojbjRz69y"
      },
      "source": [
        "#Numbers\n",
        "counter = 100          # An integer assignment\n",
        "miles = 1000.0       # A floating point\n",
        "name = 'John'       # A string"
      ],
      "execution_count": null,
      "outputs": []
    },
    {
      "cell_type": "code",
      "metadata": {
        "id": "Ux246shVopsl"
      },
      "source": [
        "print(counter)      #列印變數的值\n",
        "print(type(counter))   #列印變數的型別"
      ],
      "execution_count": null,
      "outputs": []
    },
    {
      "cell_type": "code",
      "metadata": {
        "id": "5N99x6QdsBRI"
      },
      "source": [
        "my = True\n",
        "print(my)         #列印變數的值\n",
        "print(type(my))   #列印變數的型別"
      ],
      "execution_count": null,
      "outputs": []
    },
    {
      "cell_type": "code",
      "metadata": {
        "id": "OW_O47c2r0bL"
      },
      "source": [
        "my = False\n",
        "print(my)         #列印變數的值\n",
        "print(type(my))   #列印變數的型別"
      ],
      "execution_count": null,
      "outputs": []
    },
    {
      "cell_type": "code",
      "metadata": {
        "id": "CmLcco-2sPcW"
      },
      "source": [
        "my = None\n",
        "print(my)         #列印變數的值\n",
        "print(type(my))   #列印變數的型別"
      ],
      "execution_count": null,
      "outputs": []
    }
  ]
}