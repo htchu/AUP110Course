{
  "nbformat": 4,
  "nbformat_minor": 0,
  "metadata": {
    "colab": {
      "name": "AUP110_A1_Syllabus.ipynb",
      "provenance": [],
      "collapsed_sections": [],
      "toc_visible": true
    },
    "kernelspec": {
      "name": "python3",
      "display_name": "Python 3"
    },
    "language_info": {
      "name": "python"
    }
  },
  "cells": [
    {
      "cell_type": "markdown",
      "metadata": {
        "id": "BHL4_SkSdtIo"
      },
      "source": [
        "#學習目標：用Python程式語言實現從輸入到輸出的演算法\n",
        "1. 了解Python程式碼的組成\n",
        "2. 會使用各種資料類型來承接輸入資料\n",
        "3. 運用各種運算子組合成表示式，以進行計算\n",
        "4. 控制帶有決策與迴圈的流程\n",
        "5. 輸出運算結果的正確格式\n",
        "\n",
        "2021/09/12"
      ]
    },
    {
      "cell_type": "markdown",
      "metadata": {
        "id": "dQr3XGaBZ2sN"
      },
      "source": [
        "# 基礎程式設計(一)-EE300044\n",
        "Fundamental Computer Programming(1)"
      ]
    },
    {
      "cell_type": "markdown",
      "metadata": {
        "id": "vUaVEE6grGqU"
      },
      "source": [
        "<img src=\"https://hips.hearstapps.com/hmg-prod.s3.amazonaws.com/images/heds-part-one-1598021773.png\" alt=\"drawing\" height=\"100\"/>"
      ]
    },
    {
      "cell_type": "markdown",
      "metadata": {
        "id": "8_dCv93DaggV"
      },
      "source": [
        "## 第1週(9/13)-程式語言和IPO-model"
      ]
    },
    {
      "cell_type": "markdown",
      "metadata": {
        "id": "oL1zKtjQfAKl"
      },
      "source": [
        "### W1 Essential-基本的\n",
        "* 啟思博的概念(Kissipo Learning)\n",
        "* KISS Principle: Colab + Github的使用 \n",
        "* IPO model: input–process–output (輸入-處理-輸出) input()和print()\n",
        "* Anaconda 和Jupyter notebook\n",
        "* Hello World程式"
      ]
    },
    {
      "cell_type": "markdown",
      "metadata": {
        "id": "iZr8qGmnfrch"
      },
      "source": [
        "### W1 Advanced-進階的\n",
        "\n",
        "* 關於Python 程式語言\n",
        "* 不同Python編輯器的介紹:IDLE, Spyder, Visual Studio Code, PyCharm  \n",
        "* Python程式的執行 (Run)\n",
        "* Python程式的偵錯 (Debug)\n"
      ]
    },
    {
      "cell_type": "markdown",
      "metadata": {
        "id": "xb9VnB0RbVUA"
      },
      "source": [
        "## 第2週(9/20) 彈性放假\n"
      ]
    },
    {
      "cell_type": "markdown",
      "metadata": {
        "id": "tXyurkRnhPIv"
      },
      "source": [
        "\n",
        "![](data:image/png;base64,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)"
      ]
    },
    {
      "cell_type": "markdown",
      "metadata": {
        "id": "QZVT9erKbuVu"
      },
      "source": [
        "## 第3週(9/27)-Python的變數和運算 "
      ]
    },
    {
      "cell_type": "markdown",
      "metadata": {
        "id": "diN5UD1bj_yM"
      },
      "source": [
        "### W3 Essential-基本的\n",
        "* Input: input()函數的使用和參數(prompt), 變數和資料型別(int, str), type()\n",
        "* Process: 指定敘述(assignment),表示式(expressions ), 算術運算子和運算優先順序, 標準庫math的應用\n",
        "* Output: print()函數的使用和參數(sep, end),Escape Sequence (逸出序列)"
      ]
    },
    {
      "cell_type": "markdown",
      "metadata": {
        "id": "jFaMlSkm4yWY"
      },
      "source": [
        "### W3 Advanced-進階的\n",
        "* 多行的字串\n",
        "* 程式註解\n",
        "* MarkDown語法\n",
        "\n",
        "\n"
      ]
    },
    {
      "cell_type": "markdown",
      "metadata": {
        "id": "ecPQzBbNb0Tu"
      },
      "source": [
        "## 第4週(10/4)-Python簡單流程控制"
      ]
    },
    {
      "cell_type": "markdown",
      "metadata": {
        "id": "dnl0RBo86qPo"
      },
      "source": [
        "### W4 Essential-基本的\n",
        "* Input: 序列(List), 字串切割(str.split()), len()函數, \n",
        "* Process: for-loop, 多重指定敘述(multiple assignment), 型別轉換函數(int(), str(), float()),索引(Indexing)和切片(Slicing)\n",
        "* Output: f-格式化字串, print()的格式化輸出"
      ]
    },
    {
      "cell_type": "markdown",
      "metadata": {
        "id": "YIirtIFWoyjU"
      },
      "source": [
        "### W4 Advanced-進階的\n",
        "* 舊式字串格式化 (1) 百分比符號字串格式化(% string formatting) (2) str.format() 函數\n",
        "* 序列(List)的初始化和插入append()函數\n",
        "\n",
        "https://realpython.com/lessons/old-school-string-formatting-python/"
      ]
    },
    {
      "cell_type": "markdown",
      "metadata": {
        "id": "miwUKhHhb7xv"
      },
      "source": [
        "## 第5週(10/11) 彈性放假\n",
        "\n",
        "\n"
      ]
    },
    {
      "cell_type": "markdown",
      "metadata": {
        "id": "0mBZNPo3hVhf"
      },
      "source": [
        "\n",
        "![](data:image/png;base64,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)"
      ]
    },
    {
      "cell_type": "markdown",
      "metadata": {
        "id": "kN5f5dtPcLzO"
      },
      "source": [
        "## 第6週(10/18)-條件式(condition)和資料容器（Container）"
      ]
    },
    {
      "cell_type": "markdown",
      "metadata": {
        "id": "exyh96iV5dqS"
      },
      "source": [
        "### W6 Essential-基本的\n",
        "* Input: map()函數的使用\n",
        "* Process: if條件式, 比較運算子, 布林值和布林邏輯, while迴圈\n",
        "* Output: 字串的format(), zfill(), center(), rjust()和ljust() 函數"
      ]
    },
    {
      "cell_type": "markdown",
      "metadata": {
        "id": "G_1TW9Q0o122"
      },
      "source": [
        "### W6 Advanced-進階的\n",
        "* List, Tuple, Dict, Set資料容器（Container）\n",
        "* 內建函式—max()、min()、sum()"
      ]
    },
    {
      "cell_type": "markdown",
      "metadata": {
        "id": "YSx70i0WcXgS"
      },
      "source": [
        "## 第7週(10/25)-常用內建函數以及字串的使用"
      ]
    },
    {
      "cell_type": "markdown",
      "metadata": {
        "id": "quBmqskH9j4L"
      },
      "source": [
        "### W7 Essential-基本的\n",
        "* Input: input的複習\n",
        "* Process: 字串函數, ascii函數, unicode函數，字串的索引(Indexing)和切片(Slicing)\n",
        "* Output: Output的複習 "
      ]
    },
    {
      "cell_type": "markdown",
      "metadata": {
        "id": "nz69c4k3o42N"
      },
      "source": [
        "### W7 Advanced-進階的\n",
        "* 內建函數:pow()、divmod()、round()\n",
        "* 內建函數:repr()和eval() "
      ]
    },
    {
      "cell_type": "markdown",
      "metadata": {
        "id": "Ed_386Z-cen1"
      },
      "source": [
        "## 第8週(11/1)-M1Test模組一測驗"
      ]
    },
    {
      "cell_type": "markdown",
      "metadata": {
        "id": "XASYmQAAoJqs"
      },
      "source": [
        "![](https://assets.website-files.com/5e875053aa63f43b4cb8c9d2/5e9306d896104684f079b7c6_training.png)"
      ]
    },
    {
      "cell_type": "markdown",
      "metadata": {
        "id": "5WFN3NnraKaJ"
      },
      "source": [
        "# 基礎程式設計(二)-EE300045\n",
        "Fundamental Computer Programming(2)"
      ]
    },
    {
      "cell_type": "markdown",
      "metadata": {
        "id": "RSqC_rlJrL0Q"
      },
      "source": [
        "<img src=\"https://hips.hearstapps.com/hmg-prod.s3.amazonaws.com/images/heds-part-two-1598021823.png\" alt=\"drawing\" height=\"100\"/>\n"
      ]
    },
    {
      "cell_type": "markdown",
      "metadata": {
        "id": "fb-60p6-cj4P"
      },
      "source": [
        "## 第9週(11/8)-檔案處理(1):I/O函數"
      ]
    },
    {
      "cell_type": "markdown",
      "metadata": {
        "id": "ciAVGf06pVZA"
      },
      "source": [
        "### W9 Essential-基本的\n",
        "* Input: I/O函數(open() and read()), with/as的使用\n",
        "* Process: 資料排序, sorted()函數, max()/min()函數\n",
        "* Output: I/O函數(open() and write())"
      ]
    },
    {
      "cell_type": "markdown",
      "metadata": {
        "id": "DRcsG_AYp2kr"
      },
      "source": [
        "### W9 Advanced-進階的\n",
        "* os, glob, pathlib模組-Python Standard Library"
      ]
    },
    {
      "cell_type": "markdown",
      "metadata": {
        "id": "VdahQJ_bpVfT"
      },
      "source": [
        ""
      ]
    },
    {
      "cell_type": "markdown",
      "metadata": {
        "id": "XA9dJdbJcoVh"
      },
      "source": [
        "## 第10週(11/15)-檔案處理(2):json 結構化"
      ]
    },
    {
      "cell_type": "markdown",
      "metadata": {
        "id": "Fwx5qSAlpY8p"
      },
      "source": [
        "### W10 Essential-基本的\n",
        "* Input: 讀入 json 結構化資料\n",
        "* Process: for-loop/while-loop, range()函數, enumerate()函數\n",
        "* Output:  使用 json 儲存結構化資料"
      ]
    },
    {
      "cell_type": "markdown",
      "metadata": {
        "id": "lSWfrdm-p7KL"
      },
      "source": [
        "### W10 Advanced-進階的\n",
        "* Zipping and unzipping lists and iterables\n",
        "* 迭代器工具(itertools)-Python Standard Library\n",
        "* Sliding windows (n-grams) using zip and iterators\n",
        "* time.sleep() : 讓程式暫停幾秒鐘(需先匯入time模組)"
      ]
    },
    {
      "cell_type": "markdown",
      "metadata": {
        "id": "d17CjXVwct-_"
      },
      "source": [
        "## 第11週(11/22)-例外處理 (Exception)"
      ]
    },
    {
      "cell_type": "markdown",
      "metadata": {
        "id": "NKE85WL3pa15"
      },
      "source": [
        "### W11 Essential-基本的\n",
        "* Input: 字典(dictionary)\n",
        "* Process: 流程控制：\n",
        "* Output: "
      ]
    },
    {
      "cell_type": "markdown",
      "metadata": {
        "id": "434IteGqp-Mh"
      },
      "source": [
        "### W11 Advanced-進階的\n",
        "* 使用lambda函數\n",
        "* Inverting a dictionary using zip\n",
        "* 生成式(Comprehension)\n",
        "* eval()和exec()函數\n",
        "* 並行、平行與非同步"
      ]
    },
    {
      "cell_type": "markdown",
      "metadata": {
        "id": "6sQ_-zcrcyPd"
      },
      "source": [
        "## 第12週(11/29)-生成器(Generator)"
      ]
    },
    {
      "cell_type": "markdown",
      "metadata": {
        "id": "o_peQOAxpcVN"
      },
      "source": [
        "### W12 Essential-基本的\n",
        "* Input: 集合(set)\n",
        "* Process: 迴圈控制Loop controls(break, continue pass ), 例外處理 (Exception)\n",
        "* Output: "
      ]
    },
    {
      "cell_type": "markdown",
      "metadata": {
        "id": "FvM6I6PVp_aJ"
      },
      "source": [
        "### W12 Advanced-進階的\n",
        "* Loop with zip\n",
        "* 例外處理 (Exception)"
      ]
    },
    {
      "cell_type": "markdown",
      "metadata": {
        "id": "edRJKoeEeerV"
      },
      "source": [
        "## 第13週(12/6)-M2Test模組二測驗"
      ]
    },
    {
      "cell_type": "markdown",
      "metadata": {
        "id": "aURjoceCoLtM"
      },
      "source": [
        "![](https://assets.website-files.com/5e875053aa63f43b4cb8c9d2/5e9306d896104684f079b7c6_training.png)"
      ]
    },
    {
      "cell_type": "markdown",
      "metadata": {
        "id": "KiaB3XDKaR6Z"
      },
      "source": [
        "# 基礎程式設計(三)-EE300046\n",
        "Fundamental Computer Programming(3)"
      ]
    },
    {
      "cell_type": "markdown",
      "metadata": {
        "id": "IBcqGdfusT3o"
      },
      "source": [
        "<img src=\"https://hips.hearstapps.com/hmg-prod.s3.amazonaws.com/images/heds-part-three-1598021900.png\" alt=\"drawing\" height=\"100\"/>"
      ]
    },
    {
      "cell_type": "markdown",
      "metadata": {
        "id": "Xuv0KaIRejSi"
      },
      "source": [
        "## 第14週(12/13)-函數(1)定義、呼叫和傳回值"
      ]
    },
    {
      "cell_type": "markdown",
      "metadata": {
        "id": "5LHW75mXpdz_"
      },
      "source": [
        "### W14 Essential-基本的\n",
        "* 函數的定義、呼叫和傳回值, function definition and call\n",
        "  - 參數預設資料\n",
        "  - 參數名稱對應\n",
        "  - 全域與區域變數"
      ]
    },
    {
      "cell_type": "markdown",
      "metadata": {
        "id": "3ZVqRPzHqC-u"
      },
      "source": [
        "### W14 Advanced-進階的\n",
        "* 亂數(random)-Python Standard Library\n"
      ]
    },
    {
      "cell_type": "markdown",
      "metadata": {
        "id": "fnRUNYXGelqH"
      },
      "source": [
        "## 第15週(12/20)-函數(2):遞迴函數,預設參數, 多重傳回值"
      ]
    },
    {
      "cell_type": "markdown",
      "metadata": {
        "id": "IczLsS4zpfnl"
      },
      "source": [
        "### W15 Essential-基本的\n",
        "* 遞迴函數 (Recursion), \n",
        "* 函數的預設參數\n",
        "* 函數的多重傳回值\n",
        "* 函數的呼叫\n",
        "  - 呼叫任意長度參數(函數呼叫的*t參數型式)\n",
        "  - 呼叫任意長度參數(函數呼叫的**t參數型式)\n",
        "  - 任意長度的參數(函數定義的*t參數型式)"
      ]
    },
    {
      "cell_type": "markdown",
      "metadata": {
        "id": "VwILzXp5qEzU"
      },
      "source": [
        "### W15 Advanced-進階的\n",
        "* 日誌(logging)-Python Standard Library\n"
      ]
    },
    {
      "cell_type": "markdown",
      "metadata": {
        "id": "oDtBV4Vceodp"
      },
      "source": [
        "## 第16週(12/27)-類別(Class)"
      ]
    },
    {
      "cell_type": "markdown",
      "metadata": {
        "id": "vsCA0BAZphKz"
      },
      "source": [
        "### W16 Essential-基本的\n",
        "* 類別(Class)\n",
        "* 裝飾詞(Decorator)\n"
      ]
    },
    {
      "cell_type": "markdown",
      "metadata": {
        "id": "SWNJ7WGxqGYq"
      },
      "source": [
        "### W16 Advanced-進階的\n",
        "\n",
        "\n",
        "* 正規表示式(Regular Expression)-Python Standard Library\n"
      ]
    },
    {
      "cell_type": "markdown",
      "metadata": {
        "id": "-9H-o-CyeryO"
      },
      "source": [
        "## 第17週(1/3)-模組(Module)"
      ]
    },
    {
      "cell_type": "markdown",
      "metadata": {
        "id": "FDthFP4fpkBE"
      },
      "source": [
        "### W17 Essential-基本的\n",
        "* 模組(Module)"
      ]
    },
    {
      "cell_type": "markdown",
      "metadata": {
        "id": "Hfs2RrmjpluK"
      },
      "source": [
        "### W17 Advanced-進階的\n",
        "* 時間(Time)-Python Standard Library\n",
        "* 日期(Datetime)-Python Standard Library\n",
        "* 日曆(calendar)-Python Standard Library"
      ]
    },
    {
      "cell_type": "markdown",
      "metadata": {
        "id": "J9fyFgopexMq"
      },
      "source": [
        "## 第18週(1/10)-M3Test模組三測驗"
      ]
    },
    {
      "cell_type": "markdown",
      "metadata": {
        "id": "5Dh_A2sbheDA"
      },
      "source": [
        "![](https://assets.website-files.com/5e875053aa63f43b4cb8c9d2/5e9306d896104684f079b7c6_training.png)"
      ]
    }
  ]
}