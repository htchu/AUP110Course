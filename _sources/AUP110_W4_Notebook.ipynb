{
  "nbformat": 4,
  "nbformat_minor": 0,
  "metadata": {
    "colab": {
      "name": "AUP110_W4_Notebook.ipynb",
      "provenance": [],
      "collapsed_sections": []
    },
    "kernelspec": {
      "display_name": "Python 3",
      "language": "python",
      "name": "python3"
    },
    "language_info": {
      "codemirror_mode": {
        "name": "ipython",
        "version": 3
      },
      "file_extension": ".py",
      "mimetype": "text/x-python",
      "name": "python",
      "nbconvert_exporter": "python",
      "pygments_lexer": "ipython3",
      "version": "3.7.6"
    }
  },
  "cells": [
    {
      "cell_type": "markdown",
      "metadata": {
        "id": "EUjJ7ImLnPVr"
      },
      "source": [
        "![image](https://www.python.org/static/img/python-logo.png)\n",
        "# 亞洲大學基礎程式設計教材(AUP110-Fundamentals of Programming)\n",
        "[![Open In Colab](https://colab.research.google.com/assets/colab-badge.svg)](https://colab.research.google.com/github/googlecolab/colabtools/blob/master/notebooks/colab-github-demo.ipynb)\n"
      ]
    },
    {
      "cell_type": "markdown",
      "metadata": {
        "id": "Zk0MAMNlo_gx"
      },
      "source": [
        "#Week4 Python基本資料結構和簡單流程控制 \n",
        "\n",
        "![image](https://i.ibb.co/mD0PCYD/ipo4.png)\n"
      ]
    },
    {
      "cell_type": "markdown",
      "metadata": {
        "id": "wKji2crve0Sp"
      },
      "source": [
        "## Topic 1(主題1)-串列(list)\n",
        "* 串列把一堆變數放入[]中，形成一排資料\n",
        "* 串列變數是一堆變數的集合\n",
        "\n",
        "Python語言括號有三種，\n",
        "小括號()代表元組(tuple)資料型別、中括號[ ]代表串列(List)資料型別、大括號{ }代表字典(dict)或集合(set)資料型別。在這裡，我們先介紹最常見的資料型別串列(List)…\n",
        "\n",
        "串列(List)\n",
        "\n",
        "<img src=\"https://i1.faceprep.in/Companies-1/lists-in-python.png\" alt=\"img\" border=\"0\" width=\"500\">\n"
      ]
    },
    {
      "cell_type": "markdown",
      "metadata": {
        "id": "_daTGvP1goPw"
      },
      "source": [
        "### Step 1: 不使用 list變數的一堆變數"
      ]
    },
    {
      "cell_type": "code",
      "metadata": {
        "id": "X-HFB-nRrGDe"
      },
      "source": [
        "student0 = 'John'; student1 = 'Mary'; student2 = 'Ken'\n",
        "print('Hello', student0)\n",
        "print('Hello', student1)\n",
        "print('Hello', student2)"
      ],
      "execution_count": null,
      "outputs": []
    },
    {
      "cell_type": "markdown",
      "metadata": {
        "id": "aujPAVDGguns"
      },
      "source": [
        "### Step 2: 使用 list變數當集合變數, 用索引鍵得到變數/indexing of list elements"
      ]
    },
    {
      "cell_type": "code",
      "metadata": {
        "id": "AsKKoIvhgbEi"
      },
      "source": [
        "students = ['John', 'Mary', 'Ken']\n",
        "print('Hello', students[0])\n",
        "print('Hello', students[1])\n",
        "print('Hello', students[2])"
      ],
      "execution_count": null,
      "outputs": []
    },
    {
      "cell_type": "markdown",
      "metadata": {
        "id": "yiQg3EtRpNBA"
      },
      "source": [
        "Step 3: 負索引鍵得到變數"
      ]
    },
    {
      "cell_type": "code",
      "metadata": {
        "id": "9IYr7dv7pUXP"
      },
      "source": [
        "students = ['John', 'Mary', 'Ken']\n",
        "print('Hello', students[-3])\n",
        "print('Hello', students[-2])\n",
        "print('Hello', students[-1])"
      ],
      "execution_count": null,
      "outputs": []
    },
    {
      "cell_type": "markdown",
      "metadata": {
        "id": "mnxswVVUpcej"
      },
      "source": [
        "### Step 4: list的長度/Length of a list"
      ]
    },
    {
      "cell_type": "code",
      "metadata": {
        "id": "uSvy9MKppgYZ"
      },
      "source": [
        "students = ['John', 'Mary', 'Ken']\n",
        "print(students)\n",
        "print(len(students))"
      ],
      "execution_count": null,
      "outputs": []
    },
    {
      "cell_type": "markdown",
      "metadata": {
        "id": "vebCjgi-pszE"
      },
      "source": [
        "### Step 5: 增加串列(list)的元素"
      ]
    },
    {
      "cell_type": "code",
      "metadata": {
        "id": "JVlYW1xqp5oM"
      },
      "source": [
        "students.append('Lily')\n",
        "print(students)\n",
        "print(len(students))"
      ],
      "execution_count": null,
      "outputs": []
    },
    {
      "cell_type": "markdown",
      "metadata": {
        "id": "nQJ1uTEYvPwL"
      },
      "source": [
        "## Topic 2(主題2)-字串切割(str.split())\n"
      ]
    },
    {
      "cell_type": "markdown",
      "metadata": {
        "id": "2INtSe_Gv-wl"
      },
      "source": [
        "### Step 1: 用空白間隔的子字串"
      ]
    },
    {
      "cell_type": "code",
      "metadata": {
        "id": "4z4GBkIpwjKW"
      },
      "source": [
        "students = 'John Mary Ken'\n",
        "print(students)\n",
        "print(len(students))"
      ],
      "execution_count": null,
      "outputs": []
    },
    {
      "cell_type": "markdown",
      "metadata": {
        "id": "mAPYnqlNqmpD"
      },
      "source": [
        "### Step 2: 用split()切開子字串"
      ]
    },
    {
      "cell_type": "code",
      "metadata": {
        "id": "u2ty_vzewBvL"
      },
      "source": [
        "students = 'John Mary Ken'.split()\n",
        "print(students)\n",
        "print(len(students))\n",
        "print(type(students))"
      ],
      "execution_count": null,
      "outputs": []
    },
    {
      "cell_type": "markdown",
      "metadata": {
        "id": "Qa7Btbu71c7L"
      },
      "source": [
        "### Step 3: 把input的字串用split()切開"
      ]
    },
    {
      "cell_type": "code",
      "metadata": {
        "id": "qp1pj05V1joS"
      },
      "source": [
        "# input 3 5 \n",
        "paras = input().split()\n",
        "print(paras[0])\n",
        "print(paras[1])"
      ],
      "execution_count": null,
      "outputs": []
    },
    {
      "cell_type": "markdown",
      "metadata": {
        "id": "9U3gc33E2GmL"
      },
      "source": [
        "### Step 4: 把input的字串用split()切開，再轉成整數\n"
      ]
    },
    {
      "cell_type": "code",
      "metadata": {
        "id": "3O7lzJI62McA"
      },
      "source": [
        "# input 3 5 \n",
        "paras = input().split()\n",
        "a = int(paras[0])\n",
        "b = int(paras[1])\n",
        "print(a + b)"
      ],
      "execution_count": null,
      "outputs": []
    },
    {
      "cell_type": "markdown",
      "metadata": {
        "id": "jZ9bQuuEuODK"
      },
      "source": [
        "## Topic 3(主題3)-for迴圈/for-loop"
      ]
    },
    {
      "cell_type": "markdown",
      "metadata": {
        "id": "a2QiuVQouUjq"
      },
      "source": [
        "### Step 1: 對list變數使用迴圈"
      ]
    },
    {
      "cell_type": "code",
      "metadata": {
        "id": "ZGZ_8oDouYUN"
      },
      "source": [
        "students = ['John', 'Mary', 'Ken']\n",
        "for student in students:\n",
        "  print('Hello ', student)"
      ],
      "execution_count": null,
      "outputs": []
    },
    {
      "cell_type": "markdown",
      "metadata": {
        "id": "nBU6Jd88wve6"
      },
      "source": [
        "### Step 2: 使用迴圈,印出1-9/print out the numbers 1-9"
      ]
    },
    {
      "cell_type": "code",
      "metadata": {
        "id": "EyiI9xOBw1g_"
      },
      "source": [
        "numbers = [1, 2, 3, 4, 5, 6, 7, 8, 9]\n",
        "for number in numbers:\n",
        "  print(number, end=' ')"
      ],
      "execution_count": null,
      "outputs": []
    },
    {
      "cell_type": "markdown",
      "metadata": {
        "id": "2zYw7pu4xWDs"
      },
      "source": [
        "##Topic 4: 多重指定敘述(multiple assignment)\n"
      ]
    },
    {
      "cell_type": "markdown",
      "metadata": {
        "id": "XbZwuO4ehshr"
      },
      "source": [
        "### Step 1: 各別指定"
      ]
    },
    {
      "cell_type": "code",
      "metadata": {
        "id": "Jlu-46AjyszT"
      },
      "source": [
        "students = ['John', 'Mary', 'Ken']\n",
        "a = students[0]\n",
        "b = students[1]\n",
        "c = students[2]\n",
        "print(a, b, c)"
      ],
      "execution_count": null,
      "outputs": []
    },
    {
      "cell_type": "markdown",
      "metadata": {
        "id": "_oGXMpUZvPZV"
      },
      "source": [
        "### Step 2: 多重指定(multiple assignment), 又稱為反打包(unpacking)"
      ]
    },
    {
      "cell_type": "code",
      "metadata": {
        "id": "dsU3gHR4vSAI"
      },
      "source": [
        "students = ['John', 'Mary', 'Ken']\n",
        "a, b, c = students\n",
        "print(a, b, c)"
      ],
      "execution_count": null,
      "outputs": []
    },
    {
      "cell_type": "markdown",
      "metadata": {
        "id": "m4TqY6q5wS52"
      },
      "source": [
        "### Step 3: 部份反打包(unpacking)"
      ]
    },
    {
      "cell_type": "code",
      "metadata": {
        "id": "SWQ2o4MvwaE4"
      },
      "source": [
        "students = ['John', 'Mary', 'Ken']\n",
        "a, *other = students\n",
        "print(other)"
      ],
      "execution_count": null,
      "outputs": []
    },
    {
      "cell_type": "markdown",
      "metadata": {
        "id": "dRdtCudyzjfI"
      },
      "source": [
        "##Topic 5:  f-格式化字串和print()的格式化輸出\n",
        "\n",
        "https://docs.python.org/3/tutorial/inputoutput.html"
      ]
    },
    {
      "cell_type": "markdown",
      "metadata": {
        "id": "b_OsCdmjz7_e"
      },
      "source": [
        "### Step 1: f-字串"
      ]
    },
    {
      "cell_type": "code",
      "metadata": {
        "id": "b1tRdaFu3jX0"
      },
      "source": [
        "a = 'John'\n",
        "str2 = f'Hi, {a}'\n",
        "print(str2)"
      ],
      "execution_count": null,
      "outputs": []
    },
    {
      "cell_type": "markdown",
      "metadata": {
        "id": "d3ZoFghS1Eir"
      },
      "source": [
        "### Step 2: 使用f-字串的格式化輸出"
      ]
    },
    {
      "cell_type": "code",
      "metadata": {
        "id": "Y0ZTqGnr1BTo"
      },
      "source": [
        "a = 'John'\n",
        "print(f'Hi, {a}')"
      ],
      "execution_count": null,
      "outputs": []
    },
    {
      "cell_type": "markdown",
      "metadata": {
        "id": "PPziADEY1uLb"
      },
      "source": [
        "### Step 3: 數字的格式化\n"
      ]
    },
    {
      "cell_type": "code",
      "metadata": {
        "id": "HI_-GqDYzEXc"
      },
      "source": [
        "yes_votes = 42_572_654\n",
        "no_votes = 43_132_495\n",
        "percentage = yes_votes / (yes_votes + no_votes)\n",
        "print(f'{yes_votes:9} YES votes {percentage:2.2%}')"
      ],
      "execution_count": null,
      "outputs": []
    },
    {
      "cell_type": "markdown",
      "metadata": {
        "id": "DRvOkISriEma"
      },
      "source": [
        "## Topic 6: 印出99乘法表/print out the multiplication table\n",
        "<img src=\"https://previews.123rf.com/images/in8finity/in8finity1408/in8finity140800033/30726191-multiplication-table-on-white-background.jpg\" alt=\"img\" border=\"0\" width=\"500\">\n"
      ]
    },
    {
      "cell_type": "markdown",
      "metadata": {
        "id": "6Xwc2kHIiR6T"
      },
      "source": [
        "### Step 1: 使用1層迴圈,印出1-9/print out the numbers 1-9"
      ]
    },
    {
      "cell_type": "code",
      "metadata": {
        "id": "H1OLx_ro4E37"
      },
      "source": [
        "numbers = [1, 2, 3, 4, 5, 6, 7, 8, 9]\n",
        "for n in numbers:\n",
        "  print(f'{n:1}*1 ={n*1:2}', end=' ')\n",
        "  print(f'{n:1}*2 ={n*2:2}', end=' ')\n",
        "  print(f'{n:1}*3 ={n*3:2}', end=' ')\n",
        "  print(f'{n:1}*4 ={n*4:2}', end=' ')\n",
        "  print(f'{n:1}*5 ={n*5:2}', end=' ')\n",
        "  print(f'{n:1}*6 ={n*6:2}', end=' ')\n",
        "  print(f'{n:1}*7 ={n*7:2}', end=' ')\n",
        "  print(f'{n:1}*8 ={n*8:2}', end=' ')\n",
        "  print(f'{n:1}*9 ={n*9:2}', end=' ')\n",
        "  print()\n"
      ],
      "execution_count": null,
      "outputs": []
    },
    {
      "cell_type": "markdown",
      "metadata": {
        "id": "ITiys8w41AeF"
      },
      "source": [
        "### Step 2: 使用2層迴圈,印出99乘法表/print out the multiplication table"
      ]
    },
    {
      "cell_type": "code",
      "metadata": {
        "id": "EarRSzq4iprp"
      },
      "source": [
        "numbers = [1, 2, 3, 4, 5, 6, 7, 8, 9]\n",
        "for a in numbers:\n",
        "  for b in numbers:\n",
        "    print(f'{a:1}*{b:1} ={a*b:2}', end=' ')\n",
        "  print()"
      ],
      "execution_count": null,
      "outputs": []
    },
    {
      "cell_type": "markdown",
      "metadata": {
        "id": "Ka6Jhrvd2e1o"
      },
      "source": [
        "## Topic 7(主題7)-range()函數\n",
        "range(start, stop, step)"
      ]
    },
    {
      "cell_type": "markdown",
      "metadata": {
        "id": "SEaBUrwB3FQs"
      },
      "source": [
        "### Step 1: parameters of range(): begin/end"
      ]
    },
    {
      "cell_type": "code",
      "metadata": {
        "id": "R4KAvFpyiqz8"
      },
      "source": [
        "a = [1, 2, 3, 4, 5, 6, 7, 8, 9]\n",
        "for n in a:\n",
        "  print(f'{n}', end=' ')\n",
        "print()\n"
      ],
      "execution_count": null,
      "outputs": []
    },
    {
      "cell_type": "code",
      "metadata": {
        "id": "Gm-onKPB2pSO"
      },
      "source": [
        "b = range(1, 10)\n",
        "for n in b:\n",
        "  print(f'{n}', end=' ')\n",
        "print()"
      ],
      "execution_count": null,
      "outputs": []
    },
    {
      "cell_type": "code",
      "metadata": {
        "id": "0GaT6CUK2xYC"
      },
      "source": [
        "for n in range(1, 10):\n",
        "  print(f'{n}', end=' ')\n",
        "print()"
      ],
      "execution_count": null,
      "outputs": []
    },
    {
      "cell_type": "markdown",
      "metadata": {
        "id": "mr_25e3G3KQT"
      },
      "source": [
        "### Step 2: parameters of range(): step"
      ]
    },
    {
      "cell_type": "code",
      "metadata": {
        "id": "RfZP3NmC24Lo"
      },
      "source": [
        "for n in range(1, 10, 1):\n",
        "  print(f'{n}', end=' ')\n",
        "print()"
      ],
      "execution_count": null,
      "outputs": []
    },
    {
      "cell_type": "code",
      "metadata": {
        "id": "ga3Zasj1iuTj"
      },
      "source": [
        "for n in range(1, 18, 2):\n",
        "  print(f'{n}', end=' ')\n",
        "print()\n"
      ],
      "execution_count": null,
      "outputs": []
    },
    {
      "cell_type": "markdown",
      "metadata": {
        "id": "dNKvjw_K3N3m"
      },
      "source": [
        "### Step 3: 使用range(),印出99乘法表/print out the multiplication table"
      ]
    },
    {
      "cell_type": "code",
      "metadata": {
        "id": "_-HUgFTSiyvm"
      },
      "source": [
        "for n in range(1,10):\n",
        "  print(f'{n:1}*1 ={n*1:2}', end=' ')\n",
        "  print(f'{n:1}*2 ={n*2:2}', end=' ')\n",
        "  print(f'{n:1}*3 ={n*3:2}', end=' ')\n",
        "  print(f'{n:1}*4 ={n*4:2}', end=' ')\n",
        "  print(f'{n:1}*5 ={n*5:2}', end=' ')\n",
        "  print(f'{n:1}*6 ={n*6:2}', end=' ')\n",
        "  print(f'{n:1}*7 ={n*7:2}', end=' ')\n",
        "  print(f'{n:1}*8 ={n*8:2}', end=' ')\n",
        "  print(f'{n:1}*9 ={n*9:2}', end=' ')\n",
        "  print()"
      ],
      "execution_count": null,
      "outputs": []
    },
    {
      "cell_type": "code",
      "metadata": {
        "id": "yuAo6_tE3aWo"
      },
      "source": [
        "for a in range(1,10):\n",
        "  for b in range(1,10):\n",
        "    print(f'{a:1}*{b:1} ={a*b:2}', end=' ')\n",
        "  print()"
      ],
      "execution_count": null,
      "outputs": []
    },
    {
      "cell_type": "markdown",
      "metadata": {
        "id": "w5QUnW1VizbU"
      },
      "source": [
        "## Topic 8(主題8)-舊式字串格式化\n",
        "\n",
        "```\n",
        "A = 435; B = 59.058\n",
        "print('Art: %5d, Price per Unit: %8.2f' % (A, B))          #%-formatting 格式化列印\n",
        "print(\"Art: {0:5d}, Price per Unit: {1:8.2f}\".format(A,B)) #str-format（Python 2.6+）\n",
        "print(f\"Art:{A:5d}, Price per Unit: {B:8.2f}\")             #f-string （Python 3.6+）\n",
        "```"
      ]
    },
    {
      "cell_type": "markdown",
      "metadata": {
        "id": "u_8IX05f3vvK"
      },
      "source": [
        "### Step 1: %-formatting 格式化列印\n",
        "透過% 運算符號，將在元組（tuple）中的一組變量依照指定的格式化方式輸出。如 %s（字串）、%d （十進位整數）、 %f（浮點數）"
      ]
    },
    {
      "cell_type": "code",
      "metadata": {
        "id": "tclbfd_ljRcm"
      },
      "source": [
        "for a in range(1,10):\n",
        "  for b in range(1,10):\n",
        "    print('%d*%d =%2d'%(a, b, a*b), end=' ')\n",
        "  print()"
      ],
      "execution_count": null,
      "outputs": []
    },
    {
      "cell_type": "markdown",
      "metadata": {
        "id": "6phzLd_k31Oe"
      },
      "source": [
        "### Step 2: str-format（Python 2.6+）格式化列印"
      ]
    },
    {
      "cell_type": "code",
      "metadata": {
        "id": "RwmoHjpL34zX"
      },
      "source": [
        "for a in range(1,10):\n",
        "  for b in range(1,10):\n",
        "    print('{0:1d}*{1:1d} ={2:2d}'.format(a, b, a*b), end=' ')\n",
        "  print()"
      ],
      "execution_count": null,
      "outputs": []
    },
    {
      "cell_type": "markdown",
      "metadata": {
        "id": "c_9ZWTvb39AN"
      },
      "source": [
        "### Step 3: f-string （Python 3.6+）格式化列印"
      ]
    },
    {
      "cell_type": "code",
      "metadata": {
        "id": "XLTQo3YR3_av"
      },
      "source": [
        "for a in range(1,10):\n",
        "  for b in range(1,10):\n",
        "    c= a*b\n",
        "    print(f'{a}*{b} ={c:2d}', end=' ')\n",
        "  print()"
      ],
      "execution_count": null,
      "outputs": []
    },
    {
      "cell_type": "markdown",
      "metadata": {
        "id": "b1tg6-jqXhMT"
      },
      "source": [
        "## Topic 9(主題9)-串列(List)的初始化和解析式"
      ]
    },
    {
      "cell_type": "markdown",
      "metadata": {
        "id": "01fn9Rq6Fwa0"
      },
      "source": [
        "### Step 1: 條列初始化"
      ]
    },
    {
      "cell_type": "code",
      "metadata": {
        "id": "C0HiXrgqF0fg"
      },
      "source": [
        "numbers = [2, 4, 6, 8, 10]\n",
        "for n in numbers:\n",
        "  print(f'{n}', end=' ')"
      ],
      "execution_count": null,
      "outputs": []
    },
    {
      "cell_type": "markdown",
      "metadata": {
        "id": "HYk_laH7GE8C"
      },
      "source": [
        "### Step 2: 使用串列解析式(List Comprehension)來初始化\n",
        "\n"
      ]
    },
    {
      "cell_type": "code",
      "metadata": {
        "id": "0DX2hBY6GU2L"
      },
      "source": [
        "numbers = [x for x in range(2,11,2)]\n",
        "for n in numbers:\n",
        "  print(f'{n}', end=' ')"
      ],
      "execution_count": null,
      "outputs": []
    },
    {
      "cell_type": "markdown",
      "metadata": {
        "id": "L5Z7wEH8GULs"
      },
      "source": [
        ""
      ]
    }
  ]
}